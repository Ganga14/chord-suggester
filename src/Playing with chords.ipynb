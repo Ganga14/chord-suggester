{
 "cells": [
  {
   "cell_type": "code",
   "execution_count": 1,
   "metadata": {},
   "outputs": [],
   "source": [
    "from song_data import SongData "
   ]
  },
  {
   "cell_type": "code",
   "execution_count": 2,
   "metadata": {},
   "outputs": [],
   "source": [
    "data = SongData('../data/chords_clean.csv')"
   ]
  },
  {
   "cell_type": "code",
   "execution_count": 3,
   "metadata": {},
   "outputs": [],
   "source": [
    "df = data.df"
   ]
  },
  {
   "cell_type": "code",
   "execution_count": 4,
   "metadata": {},
   "outputs": [],
   "source": [
    "df['chords'] = df['chords'].apply(eval) "
   ]
  },
  {
   "cell_type": "code",
   "execution_count": 5,
   "metadata": {},
   "outputs": [
    {
     "data": {
      "text/plain": [
       "349427"
      ]
     },
     "execution_count": 5,
     "metadata": {},
     "output_type": "execute_result"
    }
   ],
   "source": [
    "all_chords = []\n",
    "\n",
    "for chord_list in df['chords']:\n",
    "    all_chords.extend(chord_list)\n",
    "    \n",
    "len(all_chords)"
   ]
  },
  {
   "cell_type": "code",
   "execution_count": 6,
   "metadata": {},
   "outputs": [
    {
     "data": {
      "text/plain": [
       "1154"
      ]
     },
     "execution_count": 6,
     "metadata": {},
     "output_type": "execute_result"
    }
   ],
   "source": [
    "unique_chords = set([])\n",
    "\n",
    "for chord_list in df['chords']:\n",
    "    unique_chords = unique_chords.union(set(chord_list))\n",
    "    \n",
    "unique_chords = list(unique_chords)  \n",
    "len(unique_chords)"
   ]
  },
  {
   "cell_type": "code",
   "execution_count": 7,
   "metadata": {},
   "outputs": [],
   "source": [
    "from pychord_jl import Chord"
   ]
  },
  {
   "cell_type": "code",
   "execution_count": 8,
   "metadata": {},
   "outputs": [],
   "source": [
    "def replace_german_system(input):\n",
    "    if input[0] == 'H':\n",
    "        return 'Bb'+input[1:]\n",
    "    \n",
    "    return input\n",
    "\n",
    "def replace_6_9(input):\n",
    "    return (input\n",
    "            .replace('6/9', '6_9')\n",
    "            .replace('7/9', '7_9')\n",
    "            .replace('7/5', '7_5')\n",
    "           )\n",
    "\n",
    "def replace_enharmonic(input):\n",
    "    return (input\n",
    "            .replace('E#', 'F')\n",
    "            .replace('B#', 'C')\n",
    "            .replace('Fb', 'E')\n",
    "            .replace('Cb', 'B')\n",
    "           )\n",
    "\n",
    "def replace_errors(input):\n",
    "    return (input\n",
    "            .replace('G(2)', 'G')\n",
    "            .replace('A*', 'A')\n",
    "            .replace('(III)', '')\n",
    "           )\n",
    "\n",
    "def convert(input):\n",
    "    input = replace_german_system(input)\n",
    "    input = replace_6_9(input)\n",
    "    input = replace_enharmonic(input)\n",
    "    input = replace_errors(input)\n",
    "    \n",
    "    try:\n",
    "        return Chord(input)\n",
    "    except:\n",
    "        return None"
   ]
  },
  {
   "cell_type": "code",
   "execution_count": 9,
   "metadata": {},
   "outputs": [
    {
     "data": {
      "text/plain": [
       "<Chord: D6_9>"
      ]
     },
     "execution_count": 9,
     "metadata": {},
     "output_type": "execute_result"
    }
   ],
   "source": [
    "convert('D6/9')"
   ]
  },
  {
   "cell_type": "code",
   "execution_count": 10,
   "metadata": {},
   "outputs": [],
   "source": [
    "black_list = ['Go', 'AM']"
   ]
  },
  {
   "cell_type": "code",
   "execution_count": 11,
   "metadata": {},
   "outputs": [],
   "source": [
    "parsed_chords = [ (convert(chord_str),chord_str) for chord_str in unique_chords if chord_str not in black_list]"
   ]
  },
  {
   "cell_type": "code",
   "execution_count": 12,
   "metadata": {},
   "outputs": [],
   "source": [
    "def count_appearances(chord_str):\n",
    "    return len([chord for chord in all_chords if chord == chord_str])"
   ]
  },
  {
   "cell_type": "code",
   "execution_count": 13,
   "metadata": {},
   "outputs": [
    {
     "data": {
      "text/plain": [
       "88"
      ]
     },
     "execution_count": 13,
     "metadata": {},
     "output_type": "execute_result"
    }
   ],
   "source": [
    "not_found = [ (count_appearances(x[1]),x[1]) for x in parsed_chords if x[0] is None]\n",
    "len(not_found)"
   ]
  },
  {
   "cell_type": "code",
   "execution_count": 14,
   "metadata": {},
   "outputs": [],
   "source": [
    "import functools \n",
    "total_not_found = functools.reduce(lambda x,y:x+y, [ count_appearances(x[1]) for x in parsed_chords if x[0] is None])"
   ]
  },
  {
   "cell_type": "code",
   "execution_count": 15,
   "metadata": {},
   "outputs": [
    {
     "data": {
      "text/plain": [
       "213"
      ]
     },
     "execution_count": 15,
     "metadata": {},
     "output_type": "execute_result"
    }
   ],
   "source": [
    "total_not_found"
   ]
  },
  {
   "cell_type": "code",
   "execution_count": 16,
   "metadata": {},
   "outputs": [],
   "source": [
    "not_found.sort(key = lambda x: x[0], reverse = True) "
   ]
  },
  {
   "cell_type": "code",
   "execution_count": 17,
   "metadata": {},
   "outputs": [
    {
     "data": {
      "text/plain": [
       "<Chord: C#/F>"
      ]
     },
     "execution_count": 17,
     "metadata": {},
     "output_type": "execute_result"
    }
   ],
   "source": [
    "Chord('C#/F')"
   ]
  },
  {
   "cell_type": "code",
   "execution_count": 18,
   "metadata": {},
   "outputs": [
    {
     "data": {
      "text/plain": [
       "[(8, 'C#b7b9'),\n",
       " (7, 'E7/9b'),\n",
       " (7, 'Fmaj7#11'),\n",
       " (6, 'B7/13b'),\n",
       " (6, 'B7/13'),\n",
       " (5, 'C#9(#5)'),\n",
       " (5, 'D#(b5)'),\n",
       " (4, 'F(5)'),\n",
       " (4, 'G7s4'),\n",
       " (4, 'F9/11'),\n",
       " (4, 'D7m'),\n",
       " (4, 'F#dim(F)'),\n",
       " (4, 'Gm7b5b9'),\n",
       " (4, 'Eaddb13'),\n",
       " (4, 'Em7add11'),\n",
       " (4, 'FmMaj7'),\n",
       " (4, 'Cm#'),\n",
       " (4, 'Dm7add11'),\n",
       " (4, 'B-'),\n",
       " (4, 'D(b5)'),\n",
       " (3, 'G6add11/B'),\n",
       " (3, 'Bmadd4'),\n",
       " (3, 'C7#5#9'),\n",
       " (3, 'G6add11'),\n",
       " (3, 'C3'),\n",
       " (3, 'DMin'),\n",
       " (3, 'BB'),\n",
       " (3, 'Emaj7b13/Ab'),\n",
       " (3, 'A7/6'),\n",
       " (3, 'Gm#'),\n",
       " (3, 'F#add6'),\n",
       " (2, 'E7(#5)'),\n",
       " (2, 'F#m7#5'),\n",
       " (2, 'D-'),\n",
       " (2, 'Em7/9'),\n",
       " (2, 'AmMaj7'),\n",
       " (2, 'RE'),\n",
       " (2, 'G#addb13'),\n",
       " (2, 'C(9)'),\n",
       " (2, 'C(maj7)'),\n",
       " (2, 'G-'),\n",
       " (2, 'A(major)'),\n",
       " (2, 'Bm7/9'),\n",
       " (2, 'Am7add11'),\n",
       " (2, 'Eb(b5)'),\n",
       " (2, 'F#m7(b5)'),\n",
       " (2, 'B6add11'),\n",
       " (2, 'G7(#5)'),\n",
       " (2, 'Eb7(b5)'),\n",
       " (2, 'Am7+'),\n",
       " (2, 'A3'),\n",
       " (2, 'B7#5#9'),\n",
       " (2, 'C#m7(b5)'),\n",
       " (2, 'C#mMaj7'),\n",
       " (2, 'E7(b13)'),\n",
       " (2, 'Fm#'),\n",
       " (2, 'Bb-'),\n",
       " (2, 'Db(b5)'),\n",
       " (1, 'B5b'),\n",
       " (1, 'Amb'),\n",
       " (1, 'Ebmaj7(#5)'),\n",
       " (1, 'A(maj)'),\n",
       " (1, 'Bb7(b13)'),\n",
       " (1, 'Bb7m'),\n",
       " (1, 'G7(b13)'),\n",
       " (1, 'F7m'),\n",
       " (1, 'A1'),\n",
       " (1, 'Cm-5'),\n",
       " (1, 'Dmadd4'),\n",
       " (1, 'Fma9/G'),\n",
       " (1, 'A7+5+9'),\n",
       " (1, 'A6#11'),\n",
       " (1, 'F#m(add9)'),\n",
       " (1, 'Fdim3'),\n",
       " (1, 'A(maj7)'),\n",
       " (1, 'Gm7+5'),\n",
       " (1, 'AbanDOnamrme'),\n",
       " (1, 'G7-5-9'),\n",
       " (1, 'Db(9)'),\n",
       " (1, 'Ab(IV)'),\n",
       " (1, 'DmMaj7'),\n",
       " (1, 'B(2)'),\n",
       " (1, 'Bm7#5'),\n",
       " (1, 'G3'),\n",
       " (1, 'N.C.'),\n",
       " (1, 'A(2)'),\n",
       " (1, 'Fmaj7#5'),\n",
       " (1, 'C(2)')]"
      ]
     },
     "execution_count": 18,
     "metadata": {},
     "output_type": "execute_result"
    }
   ],
   "source": [
    "not_found"
   ]
  },
  {
   "cell_type": "code",
   "execution_count": 19,
   "metadata": {},
   "outputs": [],
   "source": [
    "def any_not_found(chords):\n",
    "    return len([chord for chord in not_found if chord[1] in chords]) > 0"
   ]
  },
  {
   "cell_type": "code",
   "execution_count": 20,
   "metadata": {},
   "outputs": [
    {
     "data": {
      "text/plain": [
       "False"
      ]
     },
     "execution_count": 20,
     "metadata": {},
     "output_type": "execute_result"
    }
   ],
   "source": [
    "any_not_found(['A'])"
   ]
  },
  {
   "cell_type": "code",
   "execution_count": 21,
   "metadata": {},
   "outputs": [
    {
     "data": {
      "text/plain": [
       "False"
      ]
     },
     "execution_count": 21,
     "metadata": {},
     "output_type": "execute_result"
    }
   ],
   "source": [
    "any_not_found(['Go'])"
   ]
  },
  {
   "cell_type": "code",
   "execution_count": 22,
   "metadata": {},
   "outputs": [
    {
     "data": {
      "text/plain": [
       "73"
      ]
     },
     "execution_count": 22,
     "metadata": {},
     "output_type": "execute_result"
    }
   ],
   "source": [
    "len(df[df['chords'].apply(lambda x: any_not_found(x))]['url'])"
   ]
  },
  {
   "cell_type": "code",
   "execution_count": 23,
   "metadata": {},
   "outputs": [
    {
     "data": {
      "text/plain": [
       "'https://tabs.ultimate-guitar.com/tab/eva-cassidy/over-the-rainbow-chords-64503'"
      ]
     },
     "execution_count": 23,
     "metadata": {},
     "output_type": "execute_result"
    }
   ],
   "source": [
    "(df[df['chords'].apply(lambda x: 'Cm(III)' in x)]['url']).iloc[0]"
   ]
  },
  {
   "cell_type": "code",
   "execution_count": 24,
   "metadata": {},
   "outputs": [
    {
     "data": {
      "text/plain": [
       "['G', 'A', 'C#', 'E', 'G']"
      ]
     },
     "execution_count": 24,
     "metadata": {},
     "output_type": "execute_result"
    }
   ],
   "source": [
    "Chord('A7/G').components()"
   ]
  },
  {
   "cell_type": "code",
   "execution_count": null,
   "metadata": {},
   "outputs": [],
   "source": []
  },
  {
   "cell_type": "code",
   "execution_count": null,
   "metadata": {},
   "outputs": [],
   "source": []
  }
 ],
 "metadata": {
  "kernelspec": {
   "display_name": "Python 3",
   "language": "python",
   "name": "python3"
  },
  "language_info": {
   "codemirror_mode": {
    "name": "ipython",
    "version": 3
   },
   "file_extension": ".py",
   "mimetype": "text/x-python",
   "name": "python",
   "nbconvert_exporter": "python",
   "pygments_lexer": "ipython3",
   "version": "3.7.4"
  },
  "toc": {
   "base_numbering": 1,
   "nav_menu": {},
   "number_sections": true,
   "sideBar": true,
   "skip_h1_title": false,
   "title_cell": "Table of Contents",
   "title_sidebar": "Contents",
   "toc_cell": false,
   "toc_position": {},
   "toc_section_display": true,
   "toc_window_display": false
  }
 },
 "nbformat": 4,
 "nbformat_minor": 2
}
