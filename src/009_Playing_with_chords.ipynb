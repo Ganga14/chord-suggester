{
 "cells": [
  {
   "cell_type": "code",
   "execution_count": 42,
   "metadata": {},
   "outputs": [],
   "source": [
    "from jl_song_data import SongData \n",
    "import pandas as pd \n",
    "from jl_chord_cleaning import ChordDatasetCleaner"
   ]
  },
  {
   "cell_type": "code",
   "execution_count": 43,
   "metadata": {},
   "outputs": [],
   "source": [
    "data = SongData('../data/chords_clean_1_2.csv')"
   ]
  },
  {
   "cell_type": "code",
   "execution_count": 44,
   "metadata": {},
   "outputs": [],
   "source": [
    "df = data.df"
   ]
  },
  {
   "cell_type": "code",
   "execution_count": 45,
   "metadata": {},
   "outputs": [
    {
     "data": {
      "text/html": [
       "<div>\n",
       "<style scoped>\n",
       "    .dataframe tbody tr th:only-of-type {\n",
       "        vertical-align: middle;\n",
       "    }\n",
       "\n",
       "    .dataframe tbody tr th {\n",
       "        vertical-align: top;\n",
       "    }\n",
       "\n",
       "    .dataframe thead th {\n",
       "        text-align: right;\n",
       "    }\n",
       "</style>\n",
       "<table border=\"1\" class=\"dataframe\">\n",
       "  <thead>\n",
       "    <tr style=\"text-align: right;\">\n",
       "      <th></th>\n",
       "      <th>url</th>\n",
       "      <th>name</th>\n",
       "      <th>decade</th>\n",
       "      <th>genre</th>\n",
       "      <th>chords</th>\n",
       "      <th>uuid</th>\n",
       "    </tr>\n",
       "  </thead>\n",
       "  <tbody>\n",
       "    <tr>\n",
       "      <td>0</td>\n",
       "      <td>https://tabs.ultimate-guitar.com/tab/1055161</td>\n",
       "      <td>Time To Say Goodbye Con Te Partirò</td>\n",
       "      <td>1990s</td>\n",
       "      <td>Pop%%Classical%%Pop</td>\n",
       "      <td>['G', 'D', 'Em', 'C', 'G', 'D', 'Em', 'C', 'G'...</td>\n",
       "      <td>d42333bf-e925-4ad1-a4b9-bfe2e2df209e</td>\n",
       "    </tr>\n",
       "    <tr>\n",
       "      <td>1</td>\n",
       "      <td>https://tabs.ultimate-guitar.com/tab/1060259</td>\n",
       "      <td>El Mañana (ver 3)</td>\n",
       "      <td>2000s</td>\n",
       "      <td>Electronic%%Pop</td>\n",
       "      <td>['Am', 'Em/G', 'F', 'Em', 'Bm', 'Dm', 'Am', 'E...</td>\n",
       "      <td>d6123fcf-d023-4425-8644-0a04afd88ebf</td>\n",
       "    </tr>\n",
       "    <tr>\n",
       "      <td>2</td>\n",
       "      <td>https://tabs.ultimate-guitar.com/tab/10cc/im_n...</td>\n",
       "      <td>Im Not In Love</td>\n",
       "      <td>1970s</td>\n",
       "      <td>Pop%%Pop%%Pop</td>\n",
       "      <td>['F#m7/B', 'B6', 'F#m7/B', 'B6', 'F#m7/B', 'B6...</td>\n",
       "      <td>277077be-828c-46ab-93c0-5ed82f514e3b</td>\n",
       "    </tr>\n",
       "    <tr>\n",
       "      <td>3</td>\n",
       "      <td>https://tabs.ultimate-guitar.com/tab/1136507</td>\n",
       "      <td>Clown</td>\n",
       "      <td>2010s</td>\n",
       "      <td>Rhythm And Blues%%Contemporary R&amp;b</td>\n",
       "      <td>['Am', 'D/F#', 'G', 'Am', 'D/F#', 'G', 'Am', '...</td>\n",
       "      <td>847a9a07-9773-4eab-a5c6-6e0cbe7f7357</td>\n",
       "    </tr>\n",
       "    <tr>\n",
       "      <td>4</td>\n",
       "      <td>https://tabs.ultimate-guitar.com/tab/1136522</td>\n",
       "      <td>Clown (ver 2)</td>\n",
       "      <td>2010s</td>\n",
       "      <td>Contemporary R&amp;b</td>\n",
       "      <td>['Am', 'D', 'G', 'Am', 'D', 'G', 'Am', 'D', 'G...</td>\n",
       "      <td>e68c8fa3-2cfd-4889-abba-1ffbf0869a37</td>\n",
       "    </tr>\n",
       "    <tr>\n",
       "      <td>...</td>\n",
       "      <td>...</td>\n",
       "      <td>...</td>\n",
       "      <td>...</td>\n",
       "      <td>...</td>\n",
       "      <td>...</td>\n",
       "      <td>...</td>\n",
       "    </tr>\n",
       "    <tr>\n",
       "      <td>6449</td>\n",
       "      <td>https://tabs.ultimate-guitar.com/tab/ziggy_mar...</td>\n",
       "      <td>I Dont Wanna Live On Mars</td>\n",
       "      <td>2010s</td>\n",
       "      <td>Reggae</td>\n",
       "      <td>['E', 'Dm', 'Am', 'E', 'Dm', 'Dm', 'Am', 'E', ...</td>\n",
       "      <td>1e04a3c6-25e2-4cf5-92fd-9b34f2b8aa04</td>\n",
       "    </tr>\n",
       "    <tr>\n",
       "      <td>6450</td>\n",
       "      <td>https://tabs.ultimate-guitar.com/tab/ziggy_mar...</td>\n",
       "      <td>I Dont Wanna Live On Mars (ver 2)</td>\n",
       "      <td>2010s</td>\n",
       "      <td>Reggae</td>\n",
       "      <td>['A', 'E', 'D', 'D7', 'A', 'E', 'D', 'D7', 'A'...</td>\n",
       "      <td>2d9cc67c-6118-4f2f-994a-2470188876f5</td>\n",
       "    </tr>\n",
       "    <tr>\n",
       "      <td>6451</td>\n",
       "      <td>https://tabs.ultimate-guitar.com/tab/ziggy_mar...</td>\n",
       "      <td>Lighthouse</td>\n",
       "      <td>2010s</td>\n",
       "      <td>Reggae</td>\n",
       "      <td>['C', 'F', 'C', 'G', 'C', 'C', 'F', 'C', 'G', ...</td>\n",
       "      <td>fda4b7b8-e3bb-4c38-b5a7-73762c8c8261</td>\n",
       "    </tr>\n",
       "    <tr>\n",
       "      <td>6452</td>\n",
       "      <td>https://tabs.ultimate-guitar.com/tab/ziggy_mar...</td>\n",
       "      <td>True To Myself</td>\n",
       "      <td>2000s</td>\n",
       "      <td>Reggae%%Reggae</td>\n",
       "      <td>['A', 'E', 'Bm', 'D', 'A', 'E', 'Bm', 'D', 'A'...</td>\n",
       "      <td>c0d75c52-ae53-4b47-bc8e-a723ba542d00</td>\n",
       "    </tr>\n",
       "    <tr>\n",
       "      <td>6453</td>\n",
       "      <td>https://tabs.ultimate-guitar.com/tab/ziggy_mar...</td>\n",
       "      <td>True To Myself (ver 2)</td>\n",
       "      <td>2000s</td>\n",
       "      <td>Reggae</td>\n",
       "      <td>['A', 'E', 'Bm', 'A', 'E', 'Bm', 'A', 'E', 'Bm...</td>\n",
       "      <td>29047e58-5391-4875-ab94-3a5a7fdbcd0e</td>\n",
       "    </tr>\n",
       "  </tbody>\n",
       "</table>\n",
       "<p>6454 rows × 6 columns</p>\n",
       "</div>"
      ],
      "text/plain": [
       "                                                    url  \\\n",
       "0          https://tabs.ultimate-guitar.com/tab/1055161   \n",
       "1          https://tabs.ultimate-guitar.com/tab/1060259   \n",
       "2     https://tabs.ultimate-guitar.com/tab/10cc/im_n...   \n",
       "3          https://tabs.ultimate-guitar.com/tab/1136507   \n",
       "4          https://tabs.ultimate-guitar.com/tab/1136522   \n",
       "...                                                 ...   \n",
       "6449  https://tabs.ultimate-guitar.com/tab/ziggy_mar...   \n",
       "6450  https://tabs.ultimate-guitar.com/tab/ziggy_mar...   \n",
       "6451  https://tabs.ultimate-guitar.com/tab/ziggy_mar...   \n",
       "6452  https://tabs.ultimate-guitar.com/tab/ziggy_mar...   \n",
       "6453  https://tabs.ultimate-guitar.com/tab/ziggy_mar...   \n",
       "\n",
       "                                    name decade  \\\n",
       "0     Time To Say Goodbye Con Te Partirò  1990s   \n",
       "1                      El Mañana (ver 3)  2000s   \n",
       "2                         Im Not In Love  1970s   \n",
       "3                                  Clown  2010s   \n",
       "4                          Clown (ver 2)  2010s   \n",
       "...                                  ...    ...   \n",
       "6449           I Dont Wanna Live On Mars  2010s   \n",
       "6450   I Dont Wanna Live On Mars (ver 2)  2010s   \n",
       "6451                          Lighthouse  2010s   \n",
       "6452                      True To Myself  2000s   \n",
       "6453              True To Myself (ver 2)  2000s   \n",
       "\n",
       "                                   genre  \\\n",
       "0                    Pop%%Classical%%Pop   \n",
       "1                        Electronic%%Pop   \n",
       "2                          Pop%%Pop%%Pop   \n",
       "3     Rhythm And Blues%%Contemporary R&b   \n",
       "4                       Contemporary R&b   \n",
       "...                                  ...   \n",
       "6449                              Reggae   \n",
       "6450                              Reggae   \n",
       "6451                              Reggae   \n",
       "6452                      Reggae%%Reggae   \n",
       "6453                              Reggae   \n",
       "\n",
       "                                                 chords  \\\n",
       "0     ['G', 'D', 'Em', 'C', 'G', 'D', 'Em', 'C', 'G'...   \n",
       "1     ['Am', 'Em/G', 'F', 'Em', 'Bm', 'Dm', 'Am', 'E...   \n",
       "2     ['F#m7/B', 'B6', 'F#m7/B', 'B6', 'F#m7/B', 'B6...   \n",
       "3     ['Am', 'D/F#', 'G', 'Am', 'D/F#', 'G', 'Am', '...   \n",
       "4     ['Am', 'D', 'G', 'Am', 'D', 'G', 'Am', 'D', 'G...   \n",
       "...                                                 ...   \n",
       "6449  ['E', 'Dm', 'Am', 'E', 'Dm', 'Dm', 'Am', 'E', ...   \n",
       "6450  ['A', 'E', 'D', 'D7', 'A', 'E', 'D', 'D7', 'A'...   \n",
       "6451  ['C', 'F', 'C', 'G', 'C', 'C', 'F', 'C', 'G', ...   \n",
       "6452  ['A', 'E', 'Bm', 'D', 'A', 'E', 'Bm', 'D', 'A'...   \n",
       "6453  ['A', 'E', 'Bm', 'A', 'E', 'Bm', 'A', 'E', 'Bm...   \n",
       "\n",
       "                                      uuid  \n",
       "0     d42333bf-e925-4ad1-a4b9-bfe2e2df209e  \n",
       "1     d6123fcf-d023-4425-8644-0a04afd88ebf  \n",
       "2     277077be-828c-46ab-93c0-5ed82f514e3b  \n",
       "3     847a9a07-9773-4eab-a5c6-6e0cbe7f7357  \n",
       "4     e68c8fa3-2cfd-4889-abba-1ffbf0869a37  \n",
       "...                                    ...  \n",
       "6449  1e04a3c6-25e2-4cf5-92fd-9b34f2b8aa04  \n",
       "6450  2d9cc67c-6118-4f2f-994a-2470188876f5  \n",
       "6451  fda4b7b8-e3bb-4c38-b5a7-73762c8c8261  \n",
       "6452  c0d75c52-ae53-4b47-bc8e-a723ba542d00  \n",
       "6453  29047e58-5391-4875-ab94-3a5a7fdbcd0e  \n",
       "\n",
       "[6454 rows x 6 columns]"
      ]
     },
     "execution_count": 45,
     "metadata": {},
     "output_type": "execute_result"
    }
   ],
   "source": [
    "df"
   ]
  },
  {
   "cell_type": "code",
   "execution_count": 46,
   "metadata": {},
   "outputs": [],
   "source": [
    "df['chords'] = df['chords'].apply(eval) "
   ]
  },
  {
   "cell_type": "code",
   "execution_count": 47,
   "metadata": {},
   "outputs": [],
   "source": [
    "def get_all_chords(dataframe):\n",
    "    all_chords = []\n",
    "\n",
    "    for chord_list in dataframe['chords']:\n",
    "        all_chords.extend(chord_list)\n",
    "    \n",
    "    return all_chords"
   ]
  },
  {
   "cell_type": "code",
   "execution_count": 48,
   "metadata": {},
   "outputs": [
    {
     "data": {
      "text/plain": [
       "562926"
      ]
     },
     "execution_count": 48,
     "metadata": {},
     "output_type": "execute_result"
    }
   ],
   "source": [
    "all_chords = get_all_chords(df)\n",
    "len(all_chords)"
   ]
  },
  {
   "cell_type": "code",
   "execution_count": 49,
   "metadata": {},
   "outputs": [],
   "source": [
    "def get_unique_chords(dataframe):\n",
    "    unique_chords = set([])\n",
    "\n",
    "    for chord_list in dataframe['chords']:\n",
    "        unique_chords = unique_chords.union(set(chord_list))\n",
    "\n",
    "    unique_chords = list(unique_chords)  \n",
    "    return unique_chords"
   ]
  },
  {
   "cell_type": "code",
   "execution_count": 50,
   "metadata": {},
   "outputs": [
    {
     "data": {
      "text/plain": [
       "1533"
      ]
     },
     "execution_count": 50,
     "metadata": {},
     "output_type": "execute_result"
    }
   ],
   "source": [
    "unique_chords = get_unique_chords(df)\n",
    "len(unique_chords)"
   ]
  },
  {
   "cell_type": "code",
   "execution_count": 51,
   "metadata": {},
   "outputs": [],
   "source": [
    "from pychord_jl import Chord\n",
    "def replace_german_system(input):\n",
    "    if input[0] == 'H':\n",
    "        return 'Bb'+input[1:]\n",
    "    \n",
    "    return input\n",
    "\n",
    "def replace_6_9(input):\n",
    "    return (input\n",
    "            .replace('6/9', '6_9')\n",
    "            .replace('7/9', '7_9')\n",
    "            .replace('7/5', '7_5')\n",
    "            .replace('7/6', '7_6')\n",
    "           )\n",
    "\n",
    "def replace_enharmonic(input):\n",
    "    return (input\n",
    "            .replace('E#', 'F')\n",
    "            .replace('B#', 'C')\n",
    "            .replace('Fb', 'E')\n",
    "            .replace('Cb', 'B')\n",
    "           )\n",
    "\n",
    "def replace_errors(input):\n",
    "    return (input\n",
    "            .replace('G(2)', 'G')\n",
    "            .replace('A*', 'A')\n",
    "            .replace('(III)', '')\n",
    "            .replace('Gm#', 'G#m')\n",
    "           )\n",
    "\n",
    "def parse(input):\n",
    "    input = replace_german_system(input)\n",
    "    input = replace_6_9(input)\n",
    "    input = replace_enharmonic(input)\n",
    "    input = replace_errors(input)\n",
    "    \n",
    "    try:\n",
    "        return Chord(input)\n",
    "    except:\n",
    "        return None\n",
    "    \n",
    "def parse_chords(chord_series):\n",
    "    "
   ]
  },
  {
   "cell_type": "code",
   "execution_count": 53,
   "metadata": {},
   "outputs": [],
   "source": [
    "black_list = ['Go', 'AM']"
   ]
  },
  {
   "cell_type": "code",
   "execution_count": 54,
   "metadata": {},
   "outputs": [],
   "source": [
    "parsed_chords = [ (convert(chord_str),chord_str) for chord_str in unique_chords if chord_str not in black_list]"
   ]
  },
  {
   "cell_type": "code",
   "execution_count": 55,
   "metadata": {},
   "outputs": [],
   "source": [
    "def count_appearances(chord_str):\n",
    "    return len([chord for chord in all_chords if chord == chord_str])"
   ]
  },
  {
   "cell_type": "code",
   "execution_count": 56,
   "metadata": {},
   "outputs": [
    {
     "data": {
      "text/plain": [
       "143"
      ]
     },
     "execution_count": 56,
     "metadata": {},
     "output_type": "execute_result"
    }
   ],
   "source": [
    "not_found = [ (count_appearances(x[1]),x[1]) for x in parsed_chords if x[0] is None]\n",
    "len(not_found)"
   ]
  },
  {
   "cell_type": "code",
   "execution_count": 57,
   "metadata": {},
   "outputs": [],
   "source": [
    "import functools \n",
    "total_not_found = functools.reduce(lambda x,y:x+y, [ count_appearances(x[1]) for x in parsed_chords if x[0] is None])"
   ]
  },
  {
   "cell_type": "code",
   "execution_count": 58,
   "metadata": {},
   "outputs": [
    {
     "data": {
      "text/plain": [
       "378"
      ]
     },
     "execution_count": 58,
     "metadata": {},
     "output_type": "execute_result"
    }
   ],
   "source": [
    "total_not_found"
   ]
  },
  {
   "cell_type": "code",
   "execution_count": 59,
   "metadata": {},
   "outputs": [],
   "source": [
    "not_found.sort(key = lambda x: x[0], reverse = True) "
   ]
  },
  {
   "cell_type": "code",
   "execution_count": 60,
   "metadata": {},
   "outputs": [
    {
     "data": {
      "text/plain": [
       "[0, 4, 7]"
      ]
     },
     "execution_count": 60,
     "metadata": {},
     "output_type": "execute_result"
    }
   ],
   "source": [
    "Chord('C/F').quality.components"
   ]
  },
  {
   "cell_type": "code",
   "execution_count": 61,
   "metadata": {},
   "outputs": [
    {
     "data": {
      "text/plain": [
       "'F'"
      ]
     },
     "execution_count": 61,
     "metadata": {},
     "output_type": "execute_result"
    }
   ],
   "source": [
    "Chord('C/F').on"
   ]
  },
  {
   "cell_type": "code",
   "execution_count": 62,
   "metadata": {},
   "outputs": [
    {
     "data": {
      "text/plain": [
       "[(14, 'G(b5)'),\n",
       " (13, 'Fmaj7#11'),\n",
       " (12, 'C#7(#5)'),\n",
       " (12, 'B7(#5)'),\n",
       " (8, 'C#b7b9'),\n",
       " (7, 'E7/9b'),\n",
       " (6, 'G6add11'),\n",
       " (6, 'D(2)'),\n",
       " (6, 'B11b9'),\n",
       " (6, 'B7/13b'),\n",
       " (6, 'C(7b9)'),\n",
       " (6, 'B7/13'),\n",
       " (5, 'C7#5#9'),\n",
       " (5, 'C#9(#5)'),\n",
       " (5, 'D#(b5)'),\n",
       " (5, 'E*'),\n",
       " (5, 'Em+'),\n",
       " (4, 'Cm#'),\n",
       " (4, 'FmMaj7'),\n",
       " (4, 'F(5)'),\n",
       " (4, 'B7#5#9'),\n",
       " (4, 'G7s4'),\n",
       " (4, 'Em7(VII)'),\n",
       " (4, 'B-'),\n",
       " (4, 'Em6add9'),\n",
       " (4, 'Gm7b5b9'),\n",
       " (4, 'D(b5)'),\n",
       " (4, 'F(b5)'),\n",
       " (4, 'Eaddb13'),\n",
       " (4, 'F9/11'),\n",
       " (4, 'F#dim(F)'),\n",
       " (3, 'F#madd6'),\n",
       " (3, 'Bmadd4'),\n",
       " (3, 'E7*'),\n",
       " (3, 'G6add11/B'),\n",
       " (3, 'F#m7(b5)'),\n",
       " (3, 'F#7b9sus4'),\n",
       " (3, 'C#m*'),\n",
       " (3, 'G7(#5)'),\n",
       " (3, 'DMin'),\n",
       " (3, 'Bm*'),\n",
       " (3, 'Emmaj9'),\n",
       " (3, 'Emaj7b13/Ab'),\n",
       " (3, 'Am*'),\n",
       " (3, 'Cm*'),\n",
       " (3, 'BB'),\n",
       " (3, 'F13(b9)'),\n",
       " (3, 'C3'),\n",
       " (3, 'Bbj7'),\n",
       " (3, 'G#madd6'),\n",
       " (3, 'F(V)'),\n",
       " (2, 'E7(b13)'),\n",
       " (2, 'E7(#5)'),\n",
       " (2, 'B6add11'),\n",
       " (2, 'Bm7/9'),\n",
       " (2, 'Ebmaj7add13'),\n",
       " (2, 'C#Min'),\n",
       " (2, 'Gm6/9'),\n",
       " (2, 'F#Min'),\n",
       " (2, 'G-'),\n",
       " (2, 'A3'),\n",
       " (2, 'G#addb13'),\n",
       " (2, 'D(II)'),\n",
       " (2, 'C/D*'),\n",
       " (2, 'B7**'),\n",
       " (2, 'E-9'),\n",
       " (2, 'Eb(b5)'),\n",
       " (2, 'B7+5+9'),\n",
       " (2, 'F#m7#5'),\n",
       " (2, 'Am6add9'),\n",
       " (2, 'Fm#'),\n",
       " (2, 'C#m7(b5)'),\n",
       " (2, 'Ebmaj7/Em7b5'),\n",
       " (2, 'Db6m'),\n",
       " (2, 'Dm(V)'),\n",
       " (2, 'Em7/9'),\n",
       " (2, 'C(maj7)'),\n",
       " (2, 'B7*'),\n",
       " (2, 'Cdim(IV)'),\n",
       " (2, 'F#m7+5'),\n",
       " (2, 'AmMaj7'),\n",
       " (2, 'Eb7(b5)'),\n",
       " (2, 'A(V)'),\n",
       " (2, 'RE'),\n",
       " (2, 'D-'),\n",
       " (2, 'Db(b5)'),\n",
       " (2, 'C#(b9)/A'),\n",
       " (2, 'Fmaj7/F7'),\n",
       " (2, 'Bb-'),\n",
       " (2, 'LA'),\n",
       " (2, 'Am7+'),\n",
       " (2, 'A(major)'),\n",
       " (2, 'C#mMaj7'),\n",
       " (2, 'G(II)'),\n",
       " (1, 'Dm7+5'),\n",
       " (1, 'Ebmaj7(#5)'),\n",
       " (1, 'B(2)'),\n",
       " (1, 'Amb'),\n",
       " (1, 'LA4'),\n",
       " (1, 'A7+5+9'),\n",
       " (1, 'Gmaj7+9'),\n",
       " (1, 'C6add4'),\n",
       " (1, 'A6#11'),\n",
       " (1, 'F(6)'),\n",
       " (1, 'Fmaj7#5'),\n",
       " (1, 'Ab13(b9)'),\n",
       " (1, 'Ab(maj9)'),\n",
       " (1, 'AbanDOnamrme'),\n",
       " (1, 'F#m;'),\n",
       " (1, 'Bm7#5'),\n",
       " (1, 'G7-5-9'),\n",
       " (1, 'Am7+5'),\n",
       " (1, 'Bb7(b13)'),\n",
       " (1, 'F#m(add9)'),\n",
       " (1, 'G7(b13)'),\n",
       " (1, 'Dmadd6'),\n",
       " (1, 'Bb7#5#9'),\n",
       " (1, 'G13-5'),\n",
       " (1, 'B11b9/E'),\n",
       " (1, 'A(2)'),\n",
       " (1, 'Ab(IV)'),\n",
       " (1, 'Fdim3'),\n",
       " (1, 'A(maj)'),\n",
       " (1, 'Dmadd4'),\n",
       " (1, 'Cm-5'),\n",
       " (1, 'c'),\n",
       " (1, 'G3'),\n",
       " (1, 'B5b'),\n",
       " (1, 'DmMaj7'),\n",
       " (1, 'LA7'),\n",
       " (1, 'A(maj7)'),\n",
       " (1, 'A#DIS'),\n",
       " (1, 'C7*'),\n",
       " (1, 'Esus4(add13)'),\n",
       " (1, 'Ab(Add9)'),\n",
       " (1, 'EDim'),\n",
       " (1, 'Fma9/G'),\n",
       " (1, 'C(2)'),\n",
       " (1, 'DMaj7]'),\n",
       " (1, 'Gm7+5'),\n",
       " (1, 'A1'),\n",
       " (1, 'Amadd6'),\n",
       " (1, 'N.C.')]"
      ]
     },
     "execution_count": 62,
     "metadata": {},
     "output_type": "execute_result"
    }
   ],
   "source": [
    "not_found"
   ]
  },
  {
   "cell_type": "code",
   "execution_count": 63,
   "metadata": {},
   "outputs": [],
   "source": [
    "def any_not_found(chords):\n",
    "    return len([chord for chord in not_found if chord[1] in chords]) > 0"
   ]
  },
  {
   "cell_type": "code",
   "execution_count": 64,
   "metadata": {},
   "outputs": [
    {
     "data": {
      "text/plain": [
       "False"
      ]
     },
     "execution_count": 64,
     "metadata": {},
     "output_type": "execute_result"
    }
   ],
   "source": [
    "any_not_found(['A'])"
   ]
  },
  {
   "cell_type": "code",
   "execution_count": 65,
   "metadata": {},
   "outputs": [
    {
     "data": {
      "text/plain": [
       "False"
      ]
     },
     "execution_count": 65,
     "metadata": {},
     "output_type": "execute_result"
    }
   ],
   "source": [
    "any_not_found(['Go'])"
   ]
  },
  {
   "cell_type": "code",
   "execution_count": 66,
   "metadata": {},
   "outputs": [
    {
     "data": {
      "text/plain": [
       "108"
      ]
     },
     "execution_count": 66,
     "metadata": {},
     "output_type": "execute_result"
    }
   ],
   "source": [
    "len(df[df['chords'].apply(lambda x: any_not_found(x))]['url'])"
   ]
  },
  {
   "cell_type": "code",
   "execution_count": 67,
   "metadata": {},
   "outputs": [
    {
     "data": {
      "text/plain": [
       "'https://tabs.ultimate-guitar.com/tab/fugees/killing-me-softly-chords-50470'"
      ]
     },
     "execution_count": 67,
     "metadata": {},
     "output_type": "execute_result"
    }
   ],
   "source": []
  },
  {
   "cell_type": "code",
   "execution_count": 68,
   "metadata": {},
   "outputs": [
    {
     "data": {
      "text/plain": [
       "['G', 'A', 'C#', 'E', 'G']"
      ]
     },
     "execution_count": 68,
     "metadata": {},
     "output_type": "execute_result"
    }
   ],
   "source": [
    "Chord('A7/G').components()"
   ]
  },
  {
   "cell_type": "code",
   "execution_count": null,
   "metadata": {},
   "outputs": [],
   "source": []
  },
  {
   "cell_type": "code",
   "execution_count": null,
   "metadata": {},
   "outputs": [],
   "source": []
  }
 ],
 "metadata": {
  "kernelspec": {
   "display_name": "Python 3",
   "language": "python",
   "name": "python3"
  },
  "language_info": {
   "codemirror_mode": {
    "name": "ipython",
    "version": 3
   },
   "file_extension": ".py",
   "mimetype": "text/x-python",
   "name": "python",
   "nbconvert_exporter": "python",
   "pygments_lexer": "ipython3",
   "version": "3.7.4"
  },
  "toc": {
   "base_numbering": 1,
   "nav_menu": {},
   "number_sections": true,
   "sideBar": true,
   "skip_h1_title": false,
   "title_cell": "Table of Contents",
   "title_sidebar": "Contents",
   "toc_cell": false,
   "toc_position": {},
   "toc_section_display": true,
   "toc_window_display": false
  }
 },
 "nbformat": 4,
 "nbformat_minor": 2
}
