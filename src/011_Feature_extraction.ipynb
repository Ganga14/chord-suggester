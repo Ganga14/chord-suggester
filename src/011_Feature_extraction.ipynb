{
 "cells": [
  {
   "cell_type": "markdown",
   "metadata": {},
   "source": [
    "## Feature extraction "
   ]
  },
  {
   "cell_type": "code",
   "execution_count": 1,
   "metadata": {},
   "outputs": [],
   "source": [
    "from jl_song_data import SongData \n",
    "import pandas as pd"
   ]
  },
  {
   "cell_type": "code",
   "execution_count": 2,
   "metadata": {},
   "outputs": [],
   "source": [
    "data = SongData('../data/chords_clean_1_2_3_4_5_6.csv')"
   ]
  },
  {
   "cell_type": "code",
   "execution_count": 3,
   "metadata": {},
   "outputs": [],
   "source": [
    "df = data.df"
   ]
  },
  {
   "cell_type": "code",
   "execution_count": 4,
   "metadata": {},
   "outputs": [],
   "source": [
    "from jl_feature_extractor import FeatureExtractor    \n",
    "\n",
    "feature_extractor = FeatureExtractor()"
   ]
  },
  {
   "cell_type": "markdown",
   "metadata": {},
   "source": [
    "## Customise plotting "
   ]
  },
  {
   "cell_type": "code",
   "execution_count": 5,
   "metadata": {},
   "outputs": [],
   "source": [
    "import matplotlib.pyplot as plt\n",
    "import matplotlib as mpl\n",
    "plt.style.use('dark_background')"
   ]
  },
  {
   "cell_type": "markdown",
   "metadata": {},
   "source": [
    "## Chord Objects column "
   ]
  },
  {
   "cell_type": "markdown",
   "metadata": {},
   "source": [
    "We have a input string representing an array of chords. We must convert it to a list of objects of type ExtendedChord (see jl_extended_chord.py). It is an expensive process, so we will store these data temporarly in a column to improve performance"
   ]
  },
  {
   "cell_type": "code",
   "execution_count": 6,
   "metadata": {},
   "outputs": [],
   "source": [
    "df['chord objects'] = df['chords'].apply(feature_extractor.extract_chord_object_list_removing_non_valid)"
   ]
  },
  {
   "cell_type": "code",
   "execution_count": 7,
   "metadata": {},
   "outputs": [],
   "source": [
    "first_chord_of_first_song = df['chord objects'].iloc[0][0]"
   ]
  },
  {
   "cell_type": "code",
   "execution_count": 8,
   "metadata": {},
   "outputs": [
    {
     "data": {
      "text/plain": [
       "jl_extended_chord.ExtendedChord"
      ]
     },
     "execution_count": 8,
     "metadata": {},
     "output_type": "execute_result"
    }
   ],
   "source": [
    "type(first_chord_of_first_song)"
   ]
  },
  {
   "cell_type": "code",
   "execution_count": 9,
   "metadata": {},
   "outputs": [
    {
     "name": "stdout",
     "output_type": "stream",
     "text": [
      "D\n"
     ]
    }
   ],
   "source": [
    "print(first_chord_of_first_song)"
   ]
  },
  {
   "cell_type": "markdown",
   "metadata": {},
   "source": [
    "##  Extract artist "
   ]
  },
  {
   "cell_type": "code",
   "execution_count": 10,
   "metadata": {},
   "outputs": [],
   "source": [
    "df['artist'] = df['url'].apply(feature_extractor.extract_pretty_artist)"
   ]
  },
  {
   "cell_type": "code",
   "execution_count": 11,
   "metadata": {},
   "outputs": [
    {
     "data": {
      "text/html": [
       "<div>\n",
       "<style scoped>\n",
       "    .dataframe tbody tr th:only-of-type {\n",
       "        vertical-align: middle;\n",
       "    }\n",
       "\n",
       "    .dataframe tbody tr th {\n",
       "        vertical-align: top;\n",
       "    }\n",
       "\n",
       "    .dataframe thead th {\n",
       "        text-align: right;\n",
       "    }\n",
       "</style>\n",
       "<table border=\"1\" class=\"dataframe\">\n",
       "  <thead>\n",
       "    <tr style=\"text-align: right;\">\n",
       "      <th></th>\n",
       "      <th>url</th>\n",
       "      <th>name</th>\n",
       "      <th>decade</th>\n",
       "      <th>genre</th>\n",
       "      <th>chords</th>\n",
       "      <th>uuid</th>\n",
       "      <th>chord objects</th>\n",
       "      <th>artist</th>\n",
       "    </tr>\n",
       "  </thead>\n",
       "  <tbody>\n",
       "    <tr>\n",
       "      <th>10293</th>\n",
       "      <td>https://tabs.ultimate-guitar.com/tab/red-hot-c...</td>\n",
       "      <td>Dani California</td>\n",
       "      <td>2000s</td>\n",
       "      <td>Rock</td>\n",
       "      <td>['Am', 'G', 'Dm', 'Am', 'Am', 'G', 'Dm', 'Am',...</td>\n",
       "      <td>d41f3498-f177-4469-bf0a-e587602b3bc1</td>\n",
       "      <td>[Am, G, Dm, Am, Am, G, Dm, Am, Am, G, Dm, Am, ...</td>\n",
       "      <td>Red Hot Chili Peppers</td>\n",
       "    </tr>\n",
       "    <tr>\n",
       "      <th>8031</th>\n",
       "      <td>https://tabs.ultimate-guitar.com/tab/madness/h...</td>\n",
       "      <td>House Of Fun</td>\n",
       "      <td>1980s</td>\n",
       "      <td>Reggae%%Reggae</td>\n",
       "      <td>['D', 'Am', 'B', 'A#', 'D', 'Am', 'D', 'Am', '...</td>\n",
       "      <td>0aee4697-ed31-4efc-a95b-1d14fdebe89c</td>\n",
       "      <td>[D, Am, B, A#, D, Am, D, Am, F7, E7, D, Am, D,...</td>\n",
       "      <td>Madness</td>\n",
       "    </tr>\n",
       "    <tr>\n",
       "      <th>7170</th>\n",
       "      <td>https://tabs.ultimate-guitar.com/tab/kendrick-...</td>\n",
       "      <td>Money Trees</td>\n",
       "      <td>2010s</td>\n",
       "      <td>Hip Hop</td>\n",
       "      <td>['G', 'F', 'G#', 'F#', 'G', 'F', 'G#', 'F#', '...</td>\n",
       "      <td>5dde33f1-bd03-4527-aa04-a8d0559aec3a</td>\n",
       "      <td>[G, F, G#, F#, G, F, G#, F#, G, F, G#, F#, G, ...</td>\n",
       "      <td>Kendrick Lamar</td>\n",
       "    </tr>\n",
       "    <tr>\n",
       "      <th>13589</th>\n",
       "      <td>https://tabs.ultimate-guitar.com/tab/vince_gil...</td>\n",
       "      <td>Let There Be Peace On Earth</td>\n",
       "      <td>1990s</td>\n",
       "      <td>Pop%%Country</td>\n",
       "      <td>['C', 'Am', 'F', 'G', 'C', 'Am', 'F', 'G', 'C'...</td>\n",
       "      <td>bca33156-5791-4c3c-9b4c-d7b146026a3a</td>\n",
       "      <td>[C, Am, F, G, C, Am, F, G, C, Am, Dm, G, C, Am...</td>\n",
       "      <td>Vince Gill</td>\n",
       "    </tr>\n",
       "    <tr>\n",
       "      <th>2231</th>\n",
       "      <td>https://tabs.ultimate-guitar.com/tab/cat-steve...</td>\n",
       "      <td>Here Comes My Baby</td>\n",
       "      <td>1960s</td>\n",
       "      <td>Folk%%Pop</td>\n",
       "      <td>['G', 'G', 'D', 'D', 'C', 'C', 'D4', 'Dsus2', ...</td>\n",
       "      <td>ace5d7cb-f989-49a5-b3c4-958267048846</td>\n",
       "      <td>[G, G, D, D, C, C, D4, Dsus2, G, D, C, D, G, D...</td>\n",
       "      <td>Cat Stevens</td>\n",
       "    </tr>\n",
       "  </tbody>\n",
       "</table>\n",
       "</div>"
      ],
      "text/plain": [
       "                                                     url  \\\n",
       "10293  https://tabs.ultimate-guitar.com/tab/red-hot-c...   \n",
       "8031   https://tabs.ultimate-guitar.com/tab/madness/h...   \n",
       "7170   https://tabs.ultimate-guitar.com/tab/kendrick-...   \n",
       "13589  https://tabs.ultimate-guitar.com/tab/vince_gil...   \n",
       "2231   https://tabs.ultimate-guitar.com/tab/cat-steve...   \n",
       "\n",
       "                              name decade           genre  \\\n",
       "10293              Dani California  2000s            Rock   \n",
       "8031                  House Of Fun  1980s  Reggae%%Reggae   \n",
       "7170                   Money Trees  2010s         Hip Hop   \n",
       "13589  Let There Be Peace On Earth  1990s    Pop%%Country   \n",
       "2231            Here Comes My Baby  1960s       Folk%%Pop   \n",
       "\n",
       "                                                  chords  \\\n",
       "10293  ['Am', 'G', 'Dm', 'Am', 'Am', 'G', 'Dm', 'Am',...   \n",
       "8031   ['D', 'Am', 'B', 'A#', 'D', 'Am', 'D', 'Am', '...   \n",
       "7170   ['G', 'F', 'G#', 'F#', 'G', 'F', 'G#', 'F#', '...   \n",
       "13589  ['C', 'Am', 'F', 'G', 'C', 'Am', 'F', 'G', 'C'...   \n",
       "2231   ['G', 'G', 'D', 'D', 'C', 'C', 'D4', 'Dsus2', ...   \n",
       "\n",
       "                                       uuid  \\\n",
       "10293  d41f3498-f177-4469-bf0a-e587602b3bc1   \n",
       "8031   0aee4697-ed31-4efc-a95b-1d14fdebe89c   \n",
       "7170   5dde33f1-bd03-4527-aa04-a8d0559aec3a   \n",
       "13589  bca33156-5791-4c3c-9b4c-d7b146026a3a   \n",
       "2231   ace5d7cb-f989-49a5-b3c4-958267048846   \n",
       "\n",
       "                                           chord objects  \\\n",
       "10293  [Am, G, Dm, Am, Am, G, Dm, Am, Am, G, Dm, Am, ...   \n",
       "8031   [D, Am, B, A#, D, Am, D, Am, F7, E7, D, Am, D,...   \n",
       "7170   [G, F, G#, F#, G, F, G#, F#, G, F, G#, F#, G, ...   \n",
       "13589  [C, Am, F, G, C, Am, F, G, C, Am, Dm, G, C, Am...   \n",
       "2231   [G, G, D, D, C, C, D4, Dsus2, G, D, C, D, G, D...   \n",
       "\n",
       "                      artist  \n",
       "10293  Red Hot Chili Peppers  \n",
       "8031                 Madness  \n",
       "7170          Kendrick Lamar  \n",
       "13589             Vince Gill  \n",
       "2231             Cat Stevens  "
      ]
     },
     "execution_count": 11,
     "metadata": {},
     "output_type": "execute_result"
    }
   ],
   "source": [
    "df.sample(5)"
   ]
  },
  {
   "cell_type": "markdown",
   "metadata": {},
   "source": [
    "## Extract decade as numeric "
   ]
  },
  {
   "cell_type": "code",
   "execution_count": 12,
   "metadata": {},
   "outputs": [
    {
     "data": {
      "text/plain": [
       "array(['1980s', '2000s', '2010s', '1990s', '1960s', '1970s', '1950s'],\n",
       "      dtype=object)"
      ]
     },
     "execution_count": 12,
     "metadata": {},
     "output_type": "execute_result"
    }
   ],
   "source": [
    "df['decade'].unique()"
   ]
  },
  {
   "cell_type": "code",
   "execution_count": 13,
   "metadata": {},
   "outputs": [],
   "source": [
    "df['decade'] = df['decade'].apply(feature_extractor.extract_numeric_decade)"
   ]
  },
  {
   "cell_type": "code",
   "execution_count": 14,
   "metadata": {},
   "outputs": [
    {
     "data": {
      "text/plain": [
       "array([1980, 2000, 2010, 1990, 1960, 1970, 1950])"
      ]
     },
     "execution_count": 14,
     "metadata": {},
     "output_type": "execute_result"
    }
   ],
   "source": [
    "df['decade'].unique()"
   ]
  },
  {
   "cell_type": "markdown",
   "metadata": {},
   "source": [
    "## Remove duplicate genres"
   ]
  },
  {
   "cell_type": "code",
   "execution_count": 15,
   "metadata": {},
   "outputs": [],
   "source": [
    "def remove_duplicate_genre_inside_cell(value):\n",
    "    unique_genres = list(set(value.split('%%')))\n",
    "    unique_genres.sort(key=str.lower)\n",
    "    return '%%'.join(unique_genres)\n",
    "    \n",
    "\n",
    "df['genre'] = df['genre'].apply(remove_duplicate_genre_inside_cell)"
   ]
  },
  {
   "cell_type": "code",
   "execution_count": 16,
   "metadata": {},
   "outputs": [],
   "source": [
    "import jl_io as io\n",
    "\n",
    "genres = io.from_file('../data/genres')"
   ]
  },
  {
   "cell_type": "code",
   "execution_count": 17,
   "metadata": {},
   "outputs": [
    {
     "data": {
      "text/plain": [
       "['Rock',\n",
       " 'Folk',\n",
       " 'Pop',\n",
       " 'Country',\n",
       " 'Electronic',\n",
       " 'Rhythm And Blues',\n",
       " 'Metal',\n",
       " 'Contemporary R&b',\n",
       " 'Religious Music',\n",
       " 'Hip Hop',\n",
       " 'Reggae',\n",
       " 'Jazz',\n",
       " 'Blues',\n",
       " 'World Music',\n",
       " 'Disco',\n",
       " 'Comedy',\n",
       " 'New Age',\n",
       " 'Classical',\n",
       " 'Experimental',\n",
       " 'Darkwave',\n",
       " 'Soundtrack']"
      ]
     },
     "execution_count": 17,
     "metadata": {},
     "output_type": "execute_result"
    }
   ],
   "source": [
    "genre_names = [genre['name'] for genre in genres]\n",
    "genre_names"
   ]
  },
  {
   "cell_type": "code",
   "execution_count": 18,
   "metadata": {},
   "outputs": [],
   "source": [
    "genre_df = pd.DataFrame(genre_names, columns=['genre'])"
   ]
  },
  {
   "cell_type": "code",
   "execution_count": 19,
   "metadata": {},
   "outputs": [
    {
     "data": {
      "text/plain": [
       "<matplotlib.axes._subplots.AxesSubplot at 0x118d48650>"
      ]
     },
     "execution_count": 19,
     "metadata": {},
     "output_type": "execute_result"
    },
    {
     "data": {
      "image/png": "[encoded data removed]",
      "text/plain": [
       "<Figure size 432x288 with 1 Axes>"
      ]
     },
     "metadata": {},
     "output_type": "display_data"
    }
   ],
   "source": [
    "genre_df['count'] = genre_df['genre'].apply( \\\n",
    "    lambda genre: len(df[df['genre'].str.contains(genre)]))\n",
    "\n",
    "genre_df.sort_values(by='count', ascending=False).plot.bar(x='genre', y=f'count')"
   ]
  },
  {
   "cell_type": "markdown",
   "metadata": {},
   "source": [
    "In genre statistics, we will remove genres with few data (from comedy to soundtrack)"
   ]
  },
  {
   "cell_type": "code",
   "execution_count": 20,
   "metadata": {},
   "outputs": [
    {
     "data": {
      "text/plain": [
       "274"
      ]
     },
     "execution_count": 20,
     "metadata": {},
     "output_type": "execute_result"
    }
   ],
   "source": [
    "limit_count = genre_df[genre_df['genre']=='Disco']['count'].values[0]\n",
    "limit_count"
   ]
  },
  {
   "cell_type": "code",
   "execution_count": 21,
   "metadata": {},
   "outputs": [],
   "source": [
    "genre_df = genre_df[genre_df['count'] >= limit_count]"
   ]
  },
  {
   "cell_type": "code",
   "execution_count": 22,
   "metadata": {},
   "outputs": [
    {
     "data": {
      "text/plain": [
       "<matplotlib.axes._subplots.AxesSubplot at 0x1561ea450>"
      ]
     },
     "execution_count": 22,
     "metadata": {},
     "output_type": "execute_result"
    },
    {
     "data": {
      "image/png": "[encoded data removed]",
      "text/plain": [
       "<Figure size 432x288 with 1 Axes>"
      ]
     },
     "metadata": {},
     "output_type": "display_data"
    }
   ],
   "source": [
    "genre_df.sort_values(by='count', ascending=False).plot.bar(x='genre', y=f'count')"
   ]
  },
  {
   "cell_type": "markdown",
   "metadata": {},
   "source": [
    "## Harmonics features "
   ]
  },
  {
   "cell_type": "markdown",
   "metadata": {},
   "source": [
    "We are going to extract all the harmonic features, i.e. related to chords. "
   ]
  },
  {
   "cell_type": "markdown",
   "metadata": {},
   "source": [
    "### Cardinality (number of chords) "
   ]
  },
  {
   "cell_type": "code",
   "execution_count": 23,
   "metadata": {},
   "outputs": [],
   "source": [
    "df['cardinality'] = df['chord objects'].apply(feature_extractor.extract_cardinality)"
   ]
  },
  {
   "cell_type": "code",
   "execution_count": 24,
   "metadata": {},
   "outputs": [
    {
     "data": {
      "text/html": [
       "<div>\n",
       "<style scoped>\n",
       "    .dataframe tbody tr th:only-of-type {\n",
       "        vertical-align: middle;\n",
       "    }\n",
       "\n",
       "    .dataframe tbody tr th {\n",
       "        vertical-align: top;\n",
       "    }\n",
       "\n",
       "    .dataframe thead th {\n",
       "        text-align: right;\n",
       "    }\n",
       "</style>\n",
       "<table border=\"1\" class=\"dataframe\">\n",
       "  <thead>\n",
       "    <tr style=\"text-align: right;\">\n",
       "      <th></th>\n",
       "      <th>url</th>\n",
       "      <th>name</th>\n",
       "      <th>decade</th>\n",
       "      <th>genre</th>\n",
       "      <th>chords</th>\n",
       "      <th>uuid</th>\n",
       "      <th>chord objects</th>\n",
       "      <th>artist</th>\n",
       "      <th>cardinality</th>\n",
       "    </tr>\n",
       "  </thead>\n",
       "  <tbody>\n",
       "    <tr>\n",
       "      <th>10996</th>\n",
       "      <td>https://tabs.ultimate-guitar.com/tab/shawn_men...</td>\n",
       "      <td>Life Of The Party (ver 3)</td>\n",
       "      <td>2010</td>\n",
       "      <td>Pop%%Rhythm And Blues</td>\n",
       "      <td>['Em', 'G', 'C', 'D', 'Em', 'C', 'G', 'C', 'Em...</td>\n",
       "      <td>cf2df935-ee6b-49bc-8a2f-d0ea71f1c825</td>\n",
       "      <td>[Em, G, C, D, Em, C, G, C, Em, G, C, D, Em, C,...</td>\n",
       "      <td>Shawn Mendes</td>\n",
       "      <td>89</td>\n",
       "    </tr>\n",
       "    <tr>\n",
       "      <th>12301</th>\n",
       "      <td>https://tabs.ultimate-guitar.com/tab/the_everl...</td>\n",
       "      <td>Bird Dog</td>\n",
       "      <td>1950</td>\n",
       "      <td>Country</td>\n",
       "      <td>['B', 'E', 'A', 'F#', 'B', 'E', 'B', 'F#', 'E'...</td>\n",
       "      <td>0cd33322-65ba-4fde-b145-7220ac04e673</td>\n",
       "      <td>[B, E, A, F#, B, E, B, F#, E, B, E, A, F#, E, ...</td>\n",
       "      <td>The Everly Brothers</td>\n",
       "      <td>23</td>\n",
       "    </tr>\n",
       "    <tr>\n",
       "      <th>6900</th>\n",
       "      <td>https://tabs.ultimate-guitar.com/tab/justin-bi...</td>\n",
       "      <td>Mistletoe</td>\n",
       "      <td>2010</td>\n",
       "      <td>Pop</td>\n",
       "      <td>['A', 'E', 'F#m', 'D', 'A', 'E', 'F#m', 'D', '...</td>\n",
       "      <td>5c457da9-6458-4543-a4ba-a1494375ae73</td>\n",
       "      <td>[A, E, F#m, D, A, E, F#m, D, A, E, F#m, D, A, ...</td>\n",
       "      <td>Justin Bieber</td>\n",
       "      <td>54</td>\n",
       "    </tr>\n",
       "    <tr>\n",
       "      <th>10371</th>\n",
       "      <td>https://tabs.ultimate-guitar.com/tab/rend-coll...</td>\n",
       "      <td>You Bled (ver 2)</td>\n",
       "      <td>2010</td>\n",
       "      <td>Religious Music</td>\n",
       "      <td>['Am', 'F', 'C', 'G', 'Am', 'F', 'C', 'Am', 'F...</td>\n",
       "      <td>00dae427-2841-45a0-9dc2-678b70c6b8ac</td>\n",
       "      <td>[Am, F, C, G, Am, F, C, Am, F, C, G, Am, F, C,...</td>\n",
       "      <td>Rend Collective</td>\n",
       "      <td>68</td>\n",
       "    </tr>\n",
       "    <tr>\n",
       "      <th>7822</th>\n",
       "      <td>https://tabs.ultimate-guitar.com/tab/louis-arm...</td>\n",
       "      <td>Dream A Little Dream Of Me</td>\n",
       "      <td>1960</td>\n",
       "      <td>Jazz</td>\n",
       "      <td>['F', 'Fm', 'C/E', 'Ebdim7', 'C#m7', 'Dm7', 'F...</td>\n",
       "      <td>58e83d95-197f-4bd2-abf8-44630129b793</td>\n",
       "      <td>[F, Fm, C/E, Ebdim7, C#m7, Dm7, F#9, G9, C, C/...</td>\n",
       "      <td>Louis Armstrong</td>\n",
       "      <td>109</td>\n",
       "    </tr>\n",
       "  </tbody>\n",
       "</table>\n",
       "</div>"
      ],
      "text/plain": [
       "                                                     url  \\\n",
       "10996  https://tabs.ultimate-guitar.com/tab/shawn_men...   \n",
       "12301  https://tabs.ultimate-guitar.com/tab/the_everl...   \n",
       "6900   https://tabs.ultimate-guitar.com/tab/justin-bi...   \n",
       "10371  https://tabs.ultimate-guitar.com/tab/rend-coll...   \n",
       "7822   https://tabs.ultimate-guitar.com/tab/louis-arm...   \n",
       "\n",
       "                             name  decade                  genre  \\\n",
       "10996   Life Of The Party (ver 3)    2010  Pop%%Rhythm And Blues   \n",
       "12301                    Bird Dog    1950                Country   \n",
       "6900                    Mistletoe    2010                    Pop   \n",
       "10371            You Bled (ver 2)    2010        Religious Music   \n",
       "7822   Dream A Little Dream Of Me    1960                   Jazz   \n",
       "\n",
       "                                                  chords  \\\n",
       "10996  ['Em', 'G', 'C', 'D', 'Em', 'C', 'G', 'C', 'Em...   \n",
       "12301  ['B', 'E', 'A', 'F#', 'B', 'E', 'B', 'F#', 'E'...   \n",
       "6900   ['A', 'E', 'F#m', 'D', 'A', 'E', 'F#m', 'D', '...   \n",
       "10371  ['Am', 'F', 'C', 'G', 'Am', 'F', 'C', 'Am', 'F...   \n",
       "7822   ['F', 'Fm', 'C/E', 'Ebdim7', 'C#m7', 'Dm7', 'F...   \n",
       "\n",
       "                                       uuid  \\\n",
       "10996  cf2df935-ee6b-49bc-8a2f-d0ea71f1c825   \n",
       "12301  0cd33322-65ba-4fde-b145-7220ac04e673   \n",
       "6900   5c457da9-6458-4543-a4ba-a1494375ae73   \n",
       "10371  00dae427-2841-45a0-9dc2-678b70c6b8ac   \n",
       "7822   58e83d95-197f-4bd2-abf8-44630129b793   \n",
       "\n",
       "                                           chord objects               artist  \\\n",
       "10996  [Em, G, C, D, Em, C, G, C, Em, G, C, D, Em, C,...         Shawn Mendes   \n",
       "12301  [B, E, A, F#, B, E, B, F#, E, B, E, A, F#, E, ...  The Everly Brothers   \n",
       "6900   [A, E, F#m, D, A, E, F#m, D, A, E, F#m, D, A, ...        Justin Bieber   \n",
       "10371  [Am, F, C, G, Am, F, C, Am, F, C, G, Am, F, C,...      Rend Collective   \n",
       "7822   [F, Fm, C/E, Ebdim7, C#m7, Dm7, F#9, G9, C, C/...      Louis Armstrong   \n",
       "\n",
       "       cardinality  \n",
       "10996           89  \n",
       "12301           23  \n",
       "6900            54  \n",
       "10371           68  \n",
       "7822           109  "
      ]
     },
     "execution_count": 24,
     "metadata": {},
     "output_type": "execute_result"
    }
   ],
   "source": [
    "df.sample(5)"
   ]
  },
  {
   "cell_type": "code",
   "execution_count": 25,
   "metadata": {},
   "outputs": [
    {
     "data": {
      "text/plain": [
       "count    14114.000000\n",
       "mean        85.521468\n",
       "std         68.705570\n",
       "min          0.000000\n",
       "25%         51.000000\n",
       "50%         77.000000\n",
       "75%        108.000000\n",
       "max       2020.000000\n",
       "Name: cardinality, dtype: float64"
      ]
     },
     "execution_count": 25,
     "metadata": {},
     "output_type": "execute_result"
    }
   ],
   "source": [
    "df['cardinality'].describe()"
   ]
  },
  {
   "cell_type": "code",
   "execution_count": 26,
   "metadata": {},
   "outputs": [
    {
     "data": {
      "text/html": [
       "<div>\n",
       "<style scoped>\n",
       "    .dataframe tbody tr th:only-of-type {\n",
       "        vertical-align: middle;\n",
       "    }\n",
       "\n",
       "    .dataframe tbody tr th {\n",
       "        vertical-align: top;\n",
       "    }\n",
       "\n",
       "    .dataframe thead th {\n",
       "        text-align: right;\n",
       "    }\n",
       "</style>\n",
       "<table border=\"1\" class=\"dataframe\">\n",
       "  <thead>\n",
       "    <tr style=\"text-align: right;\">\n",
       "      <th></th>\n",
       "      <th>url</th>\n",
       "      <th>name</th>\n",
       "      <th>decade</th>\n",
       "      <th>genre</th>\n",
       "      <th>chords</th>\n",
       "      <th>uuid</th>\n",
       "      <th>chord objects</th>\n",
       "      <th>artist</th>\n",
       "      <th>cardinality</th>\n",
       "    </tr>\n",
       "  </thead>\n",
       "  <tbody>\n",
       "    <tr>\n",
       "      <th>19</th>\n",
       "      <td>https://tabs.ultimate-guitar.com/tab/120815</td>\n",
       "      <td>Balladen Om Herr Fredrik Åkare Och Den Söta Fr...</td>\n",
       "      <td>1960</td>\n",
       "      <td>Jazz</td>\n",
       "      <td>[]</td>\n",
       "      <td>752b3d65-297f-4777-acc4-e9d92e243a72</td>\n",
       "      <td>[]</td>\n",
       "      <td>Unknown</td>\n",
       "      <td>0</td>\n",
       "    </tr>\n",
       "    <tr>\n",
       "      <th>160</th>\n",
       "      <td>https://tabs.ultimate-guitar.com/tab/883/cumul...</td>\n",
       "      <td>Cumuli</td>\n",
       "      <td>1990</td>\n",
       "      <td>Electronic</td>\n",
       "      <td>[]</td>\n",
       "      <td>523bfc79-9f5d-4747-8db3-366bd5d32152</td>\n",
       "      <td>[]</td>\n",
       "      <td>883</td>\n",
       "      <td>0</td>\n",
       "    </tr>\n",
       "    <tr>\n",
       "      <th>163</th>\n",
       "      <td>https://tabs.ultimate-guitar.com/tab/883/rotta...</td>\n",
       "      <td>Rotta X Casa Di Dio</td>\n",
       "      <td>1990</td>\n",
       "      <td>Electronic</td>\n",
       "      <td>[]</td>\n",
       "      <td>8c8a69f6-7027-4816-a91d-d219d87582ca</td>\n",
       "      <td>[]</td>\n",
       "      <td>883</td>\n",
       "      <td>0</td>\n",
       "    </tr>\n",
       "    <tr>\n",
       "      <th>217</th>\n",
       "      <td>https://tabs.ultimate-guitar.com/tab/abba/danc...</td>\n",
       "      <td>Dancing Queen (ver 3)</td>\n",
       "      <td>1970</td>\n",
       "      <td>Pop</td>\n",
       "      <td>[]</td>\n",
       "      <td>044a35a5-3943-49a5-bb6a-e0f5e19776cf</td>\n",
       "      <td>[]</td>\n",
       "      <td>Abba</td>\n",
       "      <td>0</td>\n",
       "    </tr>\n",
       "    <tr>\n",
       "      <th>218</th>\n",
       "      <td>https://tabs.ultimate-guitar.com/tab/abba/danc...</td>\n",
       "      <td>Dancing Queen (ver 4)</td>\n",
       "      <td>1970</td>\n",
       "      <td>Pop</td>\n",
       "      <td>[]</td>\n",
       "      <td>bb8e839f-0d3f-40b6-9ee3-5fd4aa0301e1</td>\n",
       "      <td>[]</td>\n",
       "      <td>Abba</td>\n",
       "      <td>0</td>\n",
       "    </tr>\n",
       "    <tr>\n",
       "      <th>...</th>\n",
       "      <td>...</td>\n",
       "      <td>...</td>\n",
       "      <td>...</td>\n",
       "      <td>...</td>\n",
       "      <td>...</td>\n",
       "      <td>...</td>\n",
       "      <td>...</td>\n",
       "      <td>...</td>\n",
       "      <td>...</td>\n",
       "    </tr>\n",
       "    <tr>\n",
       "      <th>12490</th>\n",
       "      <td>https://tabs.ultimate-guitar.com/tab/the_lonel...</td>\n",
       "      <td>Like A Boss</td>\n",
       "      <td>2000</td>\n",
       "      <td>Hip Hop</td>\n",
       "      <td>[]</td>\n",
       "      <td>1a6d53ae-aeea-4bdd-a1e2-3100bbf3c88e</td>\n",
       "      <td>[]</td>\n",
       "      <td>The Lonely Island</td>\n",
       "      <td>0</td>\n",
       "    </tr>\n",
       "    <tr>\n",
       "      <th>13107</th>\n",
       "      <td>https://tabs.ultimate-guitar.com/tab/tony_benn...</td>\n",
       "      <td>A Child Is Born</td>\n",
       "      <td>1970</td>\n",
       "      <td>Jazz</td>\n",
       "      <td>[]</td>\n",
       "      <td>1dc741fc-51a9-40ef-a328-48eb8a467b62</td>\n",
       "      <td>[]</td>\n",
       "      <td>Tony Bennett</td>\n",
       "      <td>0</td>\n",
       "    </tr>\n",
       "    <tr>\n",
       "      <th>13369</th>\n",
       "      <td>https://tabs.ultimate-guitar.com/tab/tyler_the...</td>\n",
       "      <td>Answer</td>\n",
       "      <td>2010</td>\n",
       "      <td>Hip Hop</td>\n",
       "      <td>[]</td>\n",
       "      <td>8474fdc1-00c5-457a-9178-41b1bb48a21f</td>\n",
       "      <td>[]</td>\n",
       "      <td>Tyler The Creator</td>\n",
       "      <td>0</td>\n",
       "    </tr>\n",
       "    <tr>\n",
       "      <th>13802</th>\n",
       "      <td>https://tabs.ultimate-guitar.com/tab/wham/free...</td>\n",
       "      <td>Freedom</td>\n",
       "      <td>1980</td>\n",
       "      <td>Pop%%Rhythm And Blues</td>\n",
       "      <td>[]</td>\n",
       "      <td>f0a72548-c85e-4848-bf60-af2e62993f5d</td>\n",
       "      <td>[]</td>\n",
       "      <td>Wham</td>\n",
       "      <td>0</td>\n",
       "    </tr>\n",
       "    <tr>\n",
       "      <th>14062</th>\n",
       "      <td>https://tabs.ultimate-guitar.com/tab/zac_brown...</td>\n",
       "      <td>As Shes Walking Away</td>\n",
       "      <td>2010</td>\n",
       "      <td>Country</td>\n",
       "      <td>[]</td>\n",
       "      <td>71ce0aa4-973b-41f1-b108-bb7dcd663b81</td>\n",
       "      <td>[]</td>\n",
       "      <td>Zac Brown Band</td>\n",
       "      <td>0</td>\n",
       "    </tr>\n",
       "  </tbody>\n",
       "</table>\n",
       "<p>71 rows × 9 columns</p>\n",
       "</div>"
      ],
      "text/plain": [
       "                                                     url  \\\n",
       "19           https://tabs.ultimate-guitar.com/tab/120815   \n",
       "160    https://tabs.ultimate-guitar.com/tab/883/cumul...   \n",
       "163    https://tabs.ultimate-guitar.com/tab/883/rotta...   \n",
       "217    https://tabs.ultimate-guitar.com/tab/abba/danc...   \n",
       "218    https://tabs.ultimate-guitar.com/tab/abba/danc...   \n",
       "...                                                  ...   \n",
       "12490  https://tabs.ultimate-guitar.com/tab/the_lonel...   \n",
       "13107  https://tabs.ultimate-guitar.com/tab/tony_benn...   \n",
       "13369  https://tabs.ultimate-guitar.com/tab/tyler_the...   \n",
       "13802  https://tabs.ultimate-guitar.com/tab/wham/free...   \n",
       "14062  https://tabs.ultimate-guitar.com/tab/zac_brown...   \n",
       "\n",
       "                                                    name  decade  \\\n",
       "19     Balladen Om Herr Fredrik Åkare Och Den Söta Fr...    1960   \n",
       "160                                               Cumuli    1990   \n",
       "163                                  Rotta X Casa Di Dio    1990   \n",
       "217                                Dancing Queen (ver 3)    1970   \n",
       "218                                Dancing Queen (ver 4)    1970   \n",
       "...                                                  ...     ...   \n",
       "12490                                        Like A Boss    2000   \n",
       "13107                                    A Child Is Born    1970   \n",
       "13369                                             Answer    2010   \n",
       "13802                                            Freedom    1980   \n",
       "14062                               As Shes Walking Away    2010   \n",
       "\n",
       "                       genre chords                                  uuid  \\\n",
       "19                      Jazz     []  752b3d65-297f-4777-acc4-e9d92e243a72   \n",
       "160               Electronic     []  523bfc79-9f5d-4747-8db3-366bd5d32152   \n",
       "163               Electronic     []  8c8a69f6-7027-4816-a91d-d219d87582ca   \n",
       "217                      Pop     []  044a35a5-3943-49a5-bb6a-e0f5e19776cf   \n",
       "218                      Pop     []  bb8e839f-0d3f-40b6-9ee3-5fd4aa0301e1   \n",
       "...                      ...    ...                                   ...   \n",
       "12490                Hip Hop     []  1a6d53ae-aeea-4bdd-a1e2-3100bbf3c88e   \n",
       "13107                   Jazz     []  1dc741fc-51a9-40ef-a328-48eb8a467b62   \n",
       "13369                Hip Hop     []  8474fdc1-00c5-457a-9178-41b1bb48a21f   \n",
       "13802  Pop%%Rhythm And Blues     []  f0a72548-c85e-4848-bf60-af2e62993f5d   \n",
       "14062                Country     []  71ce0aa4-973b-41f1-b108-bb7dcd663b81   \n",
       "\n",
       "      chord objects             artist  cardinality  \n",
       "19               []            Unknown            0  \n",
       "160              []                883            0  \n",
       "163              []                883            0  \n",
       "217              []               Abba            0  \n",
       "218              []               Abba            0  \n",
       "...             ...                ...          ...  \n",
       "12490            []  The Lonely Island            0  \n",
       "13107            []       Tony Bennett            0  \n",
       "13369            []  Tyler The Creator            0  \n",
       "13802            []               Wham            0  \n",
       "14062            []     Zac Brown Band            0  \n",
       "\n",
       "[71 rows x 9 columns]"
      ]
     },
     "execution_count": 26,
     "metadata": {},
     "output_type": "execute_result"
    }
   ],
   "source": [
    "df[df['cardinality'] == 0]"
   ]
  },
  {
   "cell_type": "markdown",
   "metadata": {},
   "source": [
    "Some songs are been uploaded by user/ultimate guitar without including the special format for the chords, for example, in https://tabs.ultimate-guitar.com/tab/883/rotta-x-casa-di-dio-chords-89055. Let's remove them"
   ]
  },
  {
   "cell_type": "code",
   "execution_count": 27,
   "metadata": {},
   "outputs": [],
   "source": [
    "df = df[df['cardinality'] != 0]"
   ]
  },
  {
   "cell_type": "code",
   "execution_count": 28,
   "metadata": {},
   "outputs": [
    {
     "data": {
      "text/plain": [
       "count    14043.000000\n",
       "mean        85.953856\n",
       "std         68.608710\n",
       "min          1.000000\n",
       "25%         51.000000\n",
       "50%         77.000000\n",
       "75%        108.000000\n",
       "max       2020.000000\n",
       "Name: cardinality, dtype: float64"
      ]
     },
     "execution_count": 28,
     "metadata": {},
     "output_type": "execute_result"
    }
   ],
   "source": [
    "df['cardinality'].describe()"
   ]
  },
  {
   "cell_type": "markdown",
   "metadata": {},
   "source": [
    "We will also remove songs with only one chord (eg. https://tabs.ultimate-guitar.com/tab/mad-caddies/souls-for-sale-chords-837415)"
   ]
  },
  {
   "cell_type": "code",
   "execution_count": 29,
   "metadata": {},
   "outputs": [],
   "source": [
    "df = df[df['cardinality'] != 1]"
   ]
  },
  {
   "cell_type": "code",
   "execution_count": 30,
   "metadata": {},
   "outputs": [
    {
     "data": {
      "text/plain": [
       "count    14038.000000\n",
       "mean        85.984115\n",
       "std         68.602188\n",
       "min          2.000000\n",
       "25%         51.000000\n",
       "50%         77.500000\n",
       "75%        108.000000\n",
       "max       2020.000000\n",
       "Name: cardinality, dtype: float64"
      ]
     },
     "execution_count": 30,
     "metadata": {},
     "output_type": "execute_result"
    }
   ],
   "source": [
    "df['cardinality'].describe()"
   ]
  },
  {
   "cell_type": "code",
   "execution_count": 31,
   "metadata": {},
   "outputs": [
    {
     "data": {
      "text/plain": [
       "0    68\n",
       "1    72\n",
       "dtype: int64"
      ]
     },
     "execution_count": 31,
     "metadata": {},
     "output_type": "execute_result"
    }
   ],
   "source": [
    "df['cardinality'].mode()"
   ]
  },
  {
   "cell_type": "markdown",
   "metadata": {},
   "source": [
    "Total number of chords"
   ]
  },
  {
   "cell_type": "code",
   "execution_count": 32,
   "metadata": {},
   "outputs": [
    {
     "data": {
      "text/plain": [
       "1207045"
      ]
     },
     "execution_count": 32,
     "metadata": {},
     "output_type": "execute_result"
    }
   ],
   "source": [
    "df['cardinality'].sum()"
   ]
  },
  {
   "cell_type": "code",
   "execution_count": 33,
   "metadata": {},
   "outputs": [],
   "source": [
    "import matplotlib.pyplot as plt"
   ]
  },
  {
   "cell_type": "code",
   "execution_count": 34,
   "metadata": {},
   "outputs": [
    {
     "data": {
      "text/plain": [
       "<matplotlib.axes._subplots.AxesSubplot at 0x1562c3ad0>"
      ]
     },
     "execution_count": 34,
     "metadata": {},
     "output_type": "execute_result"
    },
    {
     "data": {
      "image/png": "[encoded data removed]",
      "text/plain": [
       "<Figure size 432x288 with 1 Axes>"
      ]
     },
     "metadata": {},
     "output_type": "display_data"
    }
   ],
   "source": [
    "df['cardinality'].hist(bins=100)"
   ]
  },
  {
   "cell_type": "markdown",
   "metadata": {},
   "source": [
    "#### By genre "
   ]
  },
  {
   "cell_type": "code",
   "execution_count": 35,
   "metadata": {},
   "outputs": [],
   "source": [
    "def plot_mean_by_genre(column_name):\n",
    "    genre_df[f'avg {column_name}'] = genre_df['genre'].apply( \\\n",
    "        lambda genre: df[df['genre'].str.contains(genre)][column_name].mean())\n",
    "    \n",
    "    genre_df.sort_values(by=f'avg {column_name}', ascending=False).plot.bar(x='genre', y=f'avg {column_name}')\n",
    "    "
   ]
  },
  {
   "cell_type": "code",
   "execution_count": 36,
   "metadata": {},
   "outputs": [
    {
     "data": {
      "image/png": "[encoded data removed]",
      "text/plain": [
       "<Figure size 432x288 with 1 Axes>"
      ]
     },
     "metadata": {},
     "output_type": "display_data"
    }
   ],
   "source": [
    "plot_mean_by_genre('cardinality')"
   ]
  },
  {
   "cell_type": "markdown",
   "metadata": {},
   "source": [
    "#### By decade "
   ]
  },
  {
   "cell_type": "code",
   "execution_count": 37,
   "metadata": {},
   "outputs": [],
   "source": [
    "def plot_mean_by_decade(feature):\n",
    "    df.groupby('decade')[feature].mean().plot.bar()"
   ]
  },
  {
   "cell_type": "code",
   "execution_count": 38,
   "metadata": {},
   "outputs": [
    {
     "data": {
      "image/png": "[encoded data removed]",
      "text/plain": [
       "<Figure size 432x288 with 1 Axes>"
      ]
     },
     "metadata": {},
     "output_type": "display_data"
    }
   ],
   "source": [
    "plot_mean_by_decade('cardinality')"
   ]
  },
  {
   "cell_type": "markdown",
   "metadata": {},
   "source": [
    "### Unique cardinality (number of different chords) "
   ]
  },
  {
   "cell_type": "code",
   "execution_count": 39,
   "metadata": {},
   "outputs": [],
   "source": [
    "df['unique cardinality'] = df['chord objects'].apply(feature_extractor.extract_unique_cardinality)"
   ]
  },
  {
   "cell_type": "code",
   "execution_count": 40,
   "metadata": {},
   "outputs": [
    {
     "data": {
      "text/plain": [
       "count    14038.000000\n",
       "mean         7.174669\n",
       "std          4.614989\n",
       "min          1.000000\n",
       "25%          4.000000\n",
       "50%          6.000000\n",
       "75%          8.000000\n",
       "max         72.000000\n",
       "Name: unique cardinality, dtype: float64"
      ]
     },
     "execution_count": 40,
     "metadata": {},
     "output_type": "execute_result"
    }
   ],
   "source": [
    "df['unique cardinality'].describe()"
   ]
  },
  {
   "cell_type": "markdown",
   "metadata": {},
   "source": [
    "Mode is 4...modern music is not very rich..."
   ]
  },
  {
   "cell_type": "code",
   "execution_count": 41,
   "metadata": {},
   "outputs": [
    {
     "data": {
      "text/plain": [
       "0    4\n",
       "dtype: int64"
      ]
     },
     "execution_count": 41,
     "metadata": {},
     "output_type": "execute_result"
    }
   ],
   "source": [
    "df['unique cardinality'].mode()"
   ]
  },
  {
   "cell_type": "code",
   "execution_count": 42,
   "metadata": {},
   "outputs": [
    {
     "data": {
      "text/plain": [
       "<matplotlib.axes._subplots.AxesSubplot at 0x15681d950>"
      ]
     },
     "execution_count": 42,
     "metadata": {},
     "output_type": "execute_result"
    },
    {
     "data": {
      "image/png": "[encoded data removed]",
      "text/plain": [
       "<Figure size 432x288 with 1 Axes>"
      ]
     },
     "metadata": {},
     "output_type": "display_data"
    }
   ],
   "source": [
    "df['unique cardinality'].hist(bins=70)"
   ]
  },
  {
   "cell_type": "markdown",
   "metadata": {},
   "source": [
    "#### By genre "
   ]
  },
  {
   "cell_type": "code",
   "execution_count": 43,
   "metadata": {},
   "outputs": [
    {
     "data": {
      "image/png": "[encoded data removed]",
      "text/plain": [
       "<Figure size 432x288 with 1 Axes>"
      ]
     },
     "metadata": {},
     "output_type": "display_data"
    }
   ],
   "source": [
    "plot_mean_by_genre('unique cardinality')"
   ]
  },
  {
   "cell_type": "markdown",
   "metadata": {},
   "source": [
    "#### By decade "
   ]
  },
  {
   "cell_type": "code",
   "execution_count": 44,
   "metadata": {},
   "outputs": [
    {
     "data": {
      "image/png": "[encoded data removed]",
      "text/plain": [
       "<Figure size 432x288 with 1 Axes>"
      ]
     },
     "metadata": {},
     "output_type": "display_data"
    }
   ],
   "source": [
    "plot_mean_by_decade('unique cardinality')"
   ]
  },
  {
   "cell_type": "markdown",
   "metadata": {},
   "source": [
    "### Mode"
   ]
  },
  {
   "cell_type": "markdown",
   "metadata": {},
   "source": [
    "Major :)\n",
    "\n",
    "Minor :(\n",
    "\n",
    "Neutral :|"
   ]
  },
  {
   "cell_type": "code",
   "execution_count": 45,
   "metadata": {},
   "outputs": [],
   "source": [
    "from jl_extended_chord import ChordMode"
   ]
  },
  {
   "cell_type": "code",
   "execution_count": 46,
   "metadata": {},
   "outputs": [],
   "source": [
    "df['major cardinality'] =\\\n",
    "df['chord objects'].apply(\\\n",
    "    lambda chords: feature_extractor.extract_mode_cardinality(chords, ChordMode.Major))"
   ]
  },
  {
   "cell_type": "code",
   "execution_count": 47,
   "metadata": {},
   "outputs": [],
   "source": [
    "df['minor cardinality'] =\\\n",
    "df['chord objects'].apply(\\\n",
    "    lambda chords: feature_extractor.extract_mode_cardinality(chords, ChordMode.Minor))"
   ]
  },
  {
   "cell_type": "code",
   "execution_count": 48,
   "metadata": {},
   "outputs": [],
   "source": [
    "df['neutral cardinality'] =\\\n",
    "df['chord objects'].apply(\\\n",
    "    lambda chords: feature_extractor.extract_mode_cardinality(chords, ChordMode.Neutral))"
   ]
  },
  {
   "cell_type": "code",
   "execution_count": 49,
   "metadata": {},
   "outputs": [],
   "source": [
    "def show_info(series):\n",
    "    print(series.describe())\n",
    "    print(f\"Mode:{series.mode()}\")\n",
    "    series.hist(bins=100)"
   ]
  },
  {
   "cell_type": "code",
   "execution_count": 50,
   "metadata": {},
   "outputs": [
    {
     "name": "stdout",
     "output_type": "stream",
     "text": [
      "count    14038.000000\n",
      "mean        60.772617\n",
      "std         51.957886\n",
      "min          0.000000\n",
      "25%         34.000000\n",
      "50%         53.000000\n",
      "75%         78.000000\n",
      "max       1871.000000\n",
      "Name: major cardinality, dtype: float64\n",
      "Mode:0    40\n",
      "dtype: int64\n"
     ]
    },
    {
     "data": {
      "image/png": "[encoded data removed]",
      "text/plain": [
       "<Figure size 432x288 with 1 Axes>"
      ]
     },
     "metadata": {},
     "output_type": "display_data"
    }
   ],
   "source": [
    "show_info(df['major cardinality'])"
   ]
  },
  {
   "cell_type": "code",
   "execution_count": 51,
   "metadata": {},
   "outputs": [
    {
     "name": "stdout",
     "output_type": "stream",
     "text": [
      "count    14038.000000\n",
      "mean        22.585625\n",
      "std         27.372958\n",
      "min          0.000000\n",
      "25%          5.000000\n",
      "50%         17.000000\n",
      "75%         32.000000\n",
      "max       1022.000000\n",
      "Name: minor cardinality, dtype: float64\n",
      "Mode:0    0\n",
      "dtype: int64\n"
     ]
    },
    {
     "data": {
      "image/png": "[encoded data removed]",
      "text/plain": [
       "<Figure size 432x288 with 1 Axes>"
      ]
     },
     "metadata": {},
     "output_type": "display_data"
    }
   ],
   "source": [
    "show_info(df['minor cardinality'])"
   ]
  },
  {
   "cell_type": "markdown",
   "metadata": {},
   "source": [
    "In average, there are three times more major chords than minor chords. It is the expected discovery"
   ]
  },
  {
   "cell_type": "code",
   "execution_count": 52,
   "metadata": {},
   "outputs": [
    {
     "name": "stdout",
     "output_type": "stream",
     "text": [
      "count    14038.000000\n",
      "mean         2.625873\n",
      "std         12.158898\n",
      "min          0.000000\n",
      "25%          0.000000\n",
      "50%          0.000000\n",
      "75%          0.000000\n",
      "max        318.000000\n",
      "Name: neutral cardinality, dtype: float64\n",
      "Mode:0    0\n",
      "dtype: int64\n"
     ]
    },
    {
     "data": {
      "image/png": "[encoded data removed]",
      "text/plain": [
       "<Figure size 432x288 with 1 Axes>"
      ]
     },
     "metadata": {},
     "output_type": "display_data"
    }
   ],
   "source": [
    "show_info(df['neutral cardinality'])"
   ]
  },
  {
   "cell_type": "code",
   "execution_count": 53,
   "metadata": {},
   "outputs": [
    {
     "data": {
      "text/html": [
       "<div>\n",
       "<style scoped>\n",
       "    .dataframe tbody tr th:only-of-type {\n",
       "        vertical-align: middle;\n",
       "    }\n",
       "\n",
       "    .dataframe tbody tr th {\n",
       "        vertical-align: top;\n",
       "    }\n",
       "\n",
       "    .dataframe thead th {\n",
       "        text-align: right;\n",
       "    }\n",
       "</style>\n",
       "<table border=\"1\" class=\"dataframe\">\n",
       "  <thead>\n",
       "    <tr style=\"text-align: right;\">\n",
       "      <th></th>\n",
       "      <th>url</th>\n",
       "      <th>name</th>\n",
       "      <th>decade</th>\n",
       "      <th>genre</th>\n",
       "      <th>chords</th>\n",
       "      <th>uuid</th>\n",
       "      <th>chord objects</th>\n",
       "      <th>artist</th>\n",
       "      <th>cardinality</th>\n",
       "      <th>unique cardinality</th>\n",
       "      <th>major cardinality</th>\n",
       "      <th>minor cardinality</th>\n",
       "      <th>neutral cardinality</th>\n",
       "    </tr>\n",
       "  </thead>\n",
       "  <tbody>\n",
       "    <tr>\n",
       "      <th>10816</th>\n",
       "      <td>https://tabs.ultimate-guitar.com/tab/scorpions...</td>\n",
       "      <td>Rock You Like A Hurricane (ver 2)</td>\n",
       "      <td>1980</td>\n",
       "      <td>Metal</td>\n",
       "      <td>['E5', 'G5', 'A5', 'C5', 'D5', 'C5', 'E5', 'C5...</td>\n",
       "      <td>564b6999-b037-4758-9b15-3adc9b88357a</td>\n",
       "      <td>[E5, G5, A5, C5, D5, C5, E5, C5, E5, D5, C5, E...</td>\n",
       "      <td>Scorpions</td>\n",
       "      <td>318</td>\n",
       "      <td>5</td>\n",
       "      <td>0</td>\n",
       "      <td>0</td>\n",
       "      <td>318</td>\n",
       "    </tr>\n",
       "  </tbody>\n",
       "</table>\n",
       "</div>"
      ],
      "text/plain": [
       "                                                     url  \\\n",
       "10816  https://tabs.ultimate-guitar.com/tab/scorpions...   \n",
       "\n",
       "                                    name  decade  genre  \\\n",
       "10816  Rock You Like A Hurricane (ver 2)    1980  Metal   \n",
       "\n",
       "                                                  chords  \\\n",
       "10816  ['E5', 'G5', 'A5', 'C5', 'D5', 'C5', 'E5', 'C5...   \n",
       "\n",
       "                                       uuid  \\\n",
       "10816  564b6999-b037-4758-9b15-3adc9b88357a   \n",
       "\n",
       "                                           chord objects     artist  \\\n",
       "10816  [E5, G5, A5, C5, D5, C5, E5, C5, E5, D5, C5, E...  Scorpions   \n",
       "\n",
       "       cardinality  unique cardinality  major cardinality  minor cardinality  \\\n",
       "10816          318                   5                  0                  0   \n",
       "\n",
       "       neutral cardinality  \n",
       "10816                  318  "
      ]
     },
     "execution_count": 53,
     "metadata": {},
     "output_type": "execute_result"
    }
   ],
   "source": [
    "df[df['neutral cardinality'] == 318]"
   ]
  },
  {
   "cell_type": "markdown",
   "metadata": {},
   "source": [
    "Scorpions like neutral chords... :)"
   ]
  },
  {
   "cell_type": "markdown",
   "metadata": {},
   "source": [
    "### Sadness  "
   ]
  },
  {
   "cell_type": "markdown",
   "metadata": {},
   "source": [
    "Let's use previous features to calculate a new feature: `sadness`"
   ]
  },
  {
   "cell_type": "code",
   "execution_count": 54,
   "metadata": {},
   "outputs": [],
   "source": [
    "df['sadness'] = (df['minor cardinality'] / df['cardinality'])\n"
   ]
  },
  {
   "cell_type": "code",
   "execution_count": 55,
   "metadata": {},
   "outputs": [
    {
     "data": {
      "text/plain": [
       "count    14038.000000\n",
       "mean         0.257394\n",
       "std          0.202100\n",
       "min          0.000000\n",
       "25%          0.096774\n",
       "50%          0.243746\n",
       "75%          0.375000\n",
       "max          1.000000\n",
       "Name: sadness, dtype: float64"
      ]
     },
     "execution_count": 55,
     "metadata": {},
     "output_type": "execute_result"
    }
   ],
   "source": [
    "df['sadness'].describe()"
   ]
  },
  {
   "cell_type": "code",
   "execution_count": 56,
   "metadata": {},
   "outputs": [
    {
     "data": {
      "text/plain": [
       "<matplotlib.axes._subplots.AxesSubplot at 0x11a191190>"
      ]
     },
     "execution_count": 56,
     "metadata": {},
     "output_type": "execute_result"
    },
    {
     "data": {
      "image/png": "[encoded data removed]",
      "text/plain": [
       "<Figure size 432x288 with 1 Axes>"
      ]
     },
     "metadata": {},
     "output_type": "display_data"
    }
   ],
   "source": [
    "df['sadness'].plot.hist()"
   ]
  },
  {
   "cell_type": "code",
   "execution_count": 57,
   "metadata": {},
   "outputs": [
    {
     "data": {
      "text/plain": [
       "0.2787988934417069"
      ]
     },
     "execution_count": 57,
     "metadata": {},
     "output_type": "execute_result"
    }
   ],
   "source": [
    "df[df['genre'].str.contains('Metal')]['sadness'].mean()"
   ]
  },
  {
   "cell_type": "code",
   "execution_count": 58,
   "metadata": {},
   "outputs": [
    {
     "data": {
      "text/plain": [
       "0.3178758089746847"
      ]
     },
     "execution_count": 58,
     "metadata": {},
     "output_type": "execute_result"
    }
   ],
   "source": [
    "df[df['genre'].str.contains('Jazz')]['sadness'].mean()"
   ]
  },
  {
   "cell_type": "code",
   "execution_count": 59,
   "metadata": {},
   "outputs": [
    {
     "data": {
      "text/plain": [
       "0.2742307112838404"
      ]
     },
     "execution_count": 59,
     "metadata": {},
     "output_type": "execute_result"
    }
   ],
   "source": [
    "df[df['genre'].str.contains('Pop')]['sadness'].mean()"
   ]
  },
  {
   "cell_type": "code",
   "execution_count": 60,
   "metadata": {},
   "outputs": [
    {
     "data": {
      "text/plain": [
       "0.21933666795532078"
      ]
     },
     "execution_count": 60,
     "metadata": {},
     "output_type": "execute_result"
    }
   ],
   "source": [
    "df[df['genre'].str.contains('Rock')]['sadness'].mean()"
   ]
  },
  {
   "cell_type": "markdown",
   "metadata": {},
   "source": [
    "#### By genre "
   ]
  },
  {
   "cell_type": "code",
   "execution_count": 61,
   "metadata": {},
   "outputs": [
    {
     "data": {
      "image/png": "[encoded data removed]",
      "text/plain": [
       "<Figure size 432x288 with 1 Axes>"
      ]
     },
     "metadata": {},
     "output_type": "display_data"
    }
   ],
   "source": [
    "plot_mean_by_genre('sadness')"
   ]
  },
  {
   "cell_type": "markdown",
   "metadata": {},
   "source": [
    "####  By decade"
   ]
  },
  {
   "cell_type": "code",
   "execution_count": 62,
   "metadata": {},
   "outputs": [
    {
     "data": {
      "image/png": "[encoded data removed]",
      "text/plain": [
       "<Figure size 432x288 with 1 Axes>"
      ]
     },
     "metadata": {},
     "output_type": "display_data"
    }
   ],
   "source": [
    "plot_mean_by_decade('sadness')"
   ]
  },
  {
   "cell_type": "markdown",
   "metadata": {},
   "source": [
    "Los modernos somos unos tristes"
   ]
  },
  {
   "cell_type": "markdown",
   "metadata": {},
   "source": [
    "### Harmonic mean "
   ]
  },
  {
   "cell_type": "code",
   "execution_count": 63,
   "metadata": {},
   "outputs": [],
   "source": [
    "df['harmonic mean X'] = df['chord objects'].apply(feature_extractor.extract_harmonic_mean_x)"
   ]
  },
  {
   "cell_type": "code",
   "execution_count": 64,
   "metadata": {},
   "outputs": [],
   "source": [
    "df['harmonic mean Y'] = df['chord objects'].apply(feature_extractor.extract_harmonic_mean_y)"
   ]
  },
  {
   "cell_type": "code",
   "execution_count": 65,
   "metadata": {},
   "outputs": [
    {
     "data": {
      "text/plain": [
       "<matplotlib.axes._subplots.AxesSubplot at 0x1195cd7d0>"
      ]
     },
     "execution_count": 65,
     "metadata": {},
     "output_type": "execute_result"
    },
    {
     "data": {
      "image/png": "[encoded data removed]",
      "text/plain": [
       "<Figure size 432x288 with 1 Axes>"
      ]
     },
     "metadata": {},
     "output_type": "display_data"
    }
   ],
   "source": [
    "df.plot.scatter(x='harmonic mean X', y='harmonic mean Y')"
   ]
  },
  {
   "cell_type": "code",
   "execution_count": 66,
   "metadata": {},
   "outputs": [
    {
     "data": {
      "text/plain": [
       "<matplotlib.axes._subplots.AxesSubplot at 0x1196c5190>"
      ]
     },
     "execution_count": 66,
     "metadata": {},
     "output_type": "execute_result"
    },
    {
     "data": {
      "image/png": "[encoded data removed]",
      "text/plain": [
       "<Figure size 432x288 with 1 Axes>"
      ]
     },
     "metadata": {},
     "output_type": "display_data"
    }
   ],
   "source": [
    "df[df['genre'].str.contains('Jazz')].plot.scatter(x='harmonic mean X', y='harmonic mean Y')"
   ]
  },
  {
   "cell_type": "code",
   "execution_count": 67,
   "metadata": {},
   "outputs": [],
   "source": [
    "df['harmonic mean position'] = df['chord objects'].apply(feature_extractor.extract_harmonic_mean_position)"
   ]
  },
  {
   "cell_type": "code",
   "execution_count": 68,
   "metadata": {},
   "outputs": [
    {
     "data": {
      "text/plain": [
       "<matplotlib.axes._subplots.AxesSubplot at 0x119380050>"
      ]
     },
     "execution_count": 68,
     "metadata": {},
     "output_type": "execute_result"
    },
    {
     "data": {
      "image/png": "[encoded data removed]",
      "text/plain": [
       "<Figure size 432x288 with 1 Axes>"
      ]
     },
     "metadata": {},
     "output_type": "display_data"
    }
   ],
   "source": [
    "df[df['genre'].str.contains('Rock')]['harmonic mean position'].plot.hist(bins=12)"
   ]
  },
  {
   "cell_type": "markdown",
   "metadata": {},
   "source": [
    "### Widths "
   ]
  },
  {
   "cell_type": "code",
   "execution_count": 69,
   "metadata": {},
   "outputs": [],
   "source": [
    " df['subdominant width'] = df['chord objects'].apply(feature_extractor.extract_subdominant_width)"
   ]
  },
  {
   "cell_type": "code",
   "execution_count": 70,
   "metadata": {},
   "outputs": [
    {
     "data": {
      "text/plain": [
       "<matplotlib.axes._subplots.AxesSubplot at 0x119844550>"
      ]
     },
     "execution_count": 70,
     "metadata": {},
     "output_type": "execute_result"
    },
    {
     "data": {
      "image/png": "[encoded data removed]",
      "text/plain": [
       "<Figure size 432x288 with 1 Axes>"
      ]
     },
     "metadata": {},
     "output_type": "display_data"
    }
   ],
   "source": [
    " df['subdominant width'].plot.hist(bins=6)"
   ]
  },
  {
   "cell_type": "code",
   "execution_count": 71,
   "metadata": {},
   "outputs": [],
   "source": [
    "df['dominant width'] = df['chord objects'].apply(feature_extractor.extract_dominant_width)"
   ]
  },
  {
   "cell_type": "code",
   "execution_count": 72,
   "metadata": {},
   "outputs": [
    {
     "data": {
      "text/plain": [
       "<matplotlib.axes._subplots.AxesSubplot at 0x11a306e10>"
      ]
     },
     "execution_count": 72,
     "metadata": {},
     "output_type": "execute_result"
    },
    {
     "data": {
      "image/png": "[encoded data removed]",
      "text/plain": [
       "<Figure size 432x288 with 1 Axes>"
      ]
     },
     "metadata": {},
     "output_type": "display_data"
    }
   ],
   "source": [
    "df['dominant width'].plot.hist(bins=6)"
   ]
  },
  {
   "cell_type": "code",
   "execution_count": 73,
   "metadata": {},
   "outputs": [],
   "source": [
    "df['harmonic width'] =  df['subdominant width'] + df['dominant width']"
   ]
  },
  {
   "cell_type": "code",
   "execution_count": 74,
   "metadata": {},
   "outputs": [
    {
     "data": {
      "text/plain": [
       "<matplotlib.axes._subplots.AxesSubplot at 0x11a657c90>"
      ]
     },
     "execution_count": 74,
     "metadata": {},
     "output_type": "execute_result"
    },
    {
     "data": {
      "image/png": "[encoded data removed]",
      "text/plain": [
       "<Figure size 432x288 with 1 Axes>"
      ]
     },
     "metadata": {},
     "output_type": "display_data"
    }
   ],
   "source": [
    "df['harmonic width'].plot.hist(bins=12)"
   ]
  },
  {
   "cell_type": "markdown",
   "metadata": {},
   "source": [
    "#### By genre "
   ]
  },
  {
   "cell_type": "code",
   "execution_count": 75,
   "metadata": {},
   "outputs": [
    {
     "data": {
      "image/png": "[encoded data removed]",
      "text/plain": [
       "<Figure size 432x288 with 1 Axes>"
      ]
     },
     "metadata": {},
     "output_type": "display_data"
    }
   ],
   "source": [
    "plot_mean_by_genre('subdominant width')"
   ]
  },
  {
   "cell_type": "code",
   "execution_count": 76,
   "metadata": {},
   "outputs": [
    {
     "data": {
      "image/png": "[encoded data removed]",
      "text/plain": [
       "<Figure size 432x288 with 1 Axes>"
      ]
     },
     "metadata": {},
     "output_type": "display_data"
    }
   ],
   "source": [
    "plot_mean_by_genre('dominant width')"
   ]
  },
  {
   "cell_type": "code",
   "execution_count": 77,
   "metadata": {},
   "outputs": [
    {
     "data": {
      "image/png": "[encoded data removed]",
      "text/plain": [
       "<Figure size 432x288 with 1 Axes>"
      ]
     },
     "metadata": {},
     "output_type": "display_data"
    }
   ],
   "source": [
    "plot_mean_by_genre('harmonic width')"
   ]
  },
  {
   "cell_type": "markdown",
   "metadata": {},
   "source": [
    "#### By decade "
   ]
  },
  {
   "cell_type": "code",
   "execution_count": 78,
   "metadata": {},
   "outputs": [
    {
     "data": {
      "image/png": "[encoded data removed]",
      "text/plain": [
       "<Figure size 432x288 with 1 Axes>"
      ]
     },
     "metadata": {},
     "output_type": "display_data"
    }
   ],
   "source": [
    "plot_mean_by_decade('subdominant width')"
   ]
  },
  {
   "cell_type": "code",
   "execution_count": 79,
   "metadata": {},
   "outputs": [
    {
     "data": {
      "image/png": "[encoded data removed]",
      "text/plain": [
       "<Figure size 432x288 with 1 Axes>"
      ]
     },
     "metadata": {},
     "output_type": "display_data"
    }
   ],
   "source": [
    "plot_mean_by_decade('dominant width')"
   ]
  },
  {
   "cell_type": "code",
   "execution_count": 80,
   "metadata": {},
   "outputs": [
    {
     "data": {
      "image/png": "[encoded data removed]",
      "text/plain": [
       "<Figure size 432x288 with 1 Axes>"
      ]
     },
     "metadata": {},
     "output_type": "display_data"
    }
   ],
   "source": [
    "plot_mean_by_decade('harmonic width')"
   ]
  },
  {
   "cell_type": "markdown",
   "metadata": {},
   "source": [
    "### Complexity "
   ]
  },
  {
   "cell_type": "code",
   "execution_count": 81,
   "metadata": {},
   "outputs": [],
   "source": [
    " df['complexity'] = df['chord objects'].apply(feature_extractor.extract_complexity)"
   ]
  },
  {
   "cell_type": "code",
   "execution_count": 82,
   "metadata": {},
   "outputs": [
    {
     "data": {
      "text/plain": [
       "<matplotlib.axes._subplots.AxesSubplot at 0x156fa9710>"
      ]
     },
     "execution_count": 82,
     "metadata": {},
     "output_type": "execute_result"
    },
    {
     "data": {
      "image/png": "[encoded data removed]",
      "text/plain": [
       "<Figure size 432x288 with 1 Axes>"
      ]
     },
     "metadata": {},
     "output_type": "display_data"
    }
   ],
   "source": [
    "df['complexity'].plot.hist()"
   ]
  },
  {
   "cell_type": "markdown",
   "metadata": {},
   "source": [
    "#### By genre "
   ]
  },
  {
   "cell_type": "code",
   "execution_count": 83,
   "metadata": {},
   "outputs": [
    {
     "data": {
      "image/png": "[encoded data removed]",
      "text/plain": [
       "<Figure size 432x288 with 1 Axes>"
      ]
     },
     "metadata": {},
     "output_type": "display_data"
    }
   ],
   "source": [
    "plot_mean_by_genre('complexity')"
   ]
  },
  {
   "cell_type": "markdown",
   "metadata": {},
   "source": [
    "#### By decade "
   ]
  },
  {
   "cell_type": "code",
   "execution_count": 84,
   "metadata": {},
   "outputs": [
    {
     "data": {
      "image/png": "[encoded data removed]",
      "text/plain": [
       "<Figure size 432x288 with 1 Axes>"
      ]
     },
     "metadata": {},
     "output_type": "display_data"
    }
   ],
   "source": [
    "plot_mean_by_decade('complexity')"
   ]
  },
  {
   "cell_type": "code",
   "execution_count": 85,
   "metadata": {},
   "outputs": [
    {
     "data": {
      "text/plain": [
       "decade\n",
       "1950    204\n",
       "1960    192\n",
       "1970     70\n",
       "1980     38\n",
       "1990     74\n",
       "2000    145\n",
       "2010     52\n",
       "Name: url, dtype: int64"
      ]
     },
     "execution_count": 85,
     "metadata": {},
     "output_type": "execute_result"
    }
   ],
   "source": [
    "df[df['genre'].str.contains('Jazz')].groupby('decade')['url'].count()"
   ]
  },
  {
   "cell_type": "markdown",
   "metadata": {},
   "source": [
    "### Slash chord distrbution "
   ]
  },
  {
   "cell_type": "code",
   "execution_count": 86,
   "metadata": {},
   "outputs": [],
   "source": [
    "df['slash chords'] = df['chord objects'].apply(feature_extractor.extract_relative_on_list)"
   ]
  },
  {
   "cell_type": "code",
   "execution_count": 87,
   "metadata": {},
   "outputs": [
    {
     "data": {
      "text/plain": [
       "{0, 1, 2, 3, 4, 5, 6, 7, 8, 9, 10, 11}"
      ]
     },
     "execution_count": 87,
     "metadata": {},
     "output_type": "execute_result"
    }
   ],
   "source": [
    "set(df['slash chords'].sum())"
   ]
  },
  {
   "cell_type": "markdown",
   "metadata": {},
   "source": [
    "All the notes are included as slash chord...!"
   ]
  },
  {
   "cell_type": "code",
   "execution_count": 88,
   "metadata": {},
   "outputs": [
    {
     "data": {
      "text/plain": [
       "[0, 1, 2, 3, 4, 5, 6, 7, 8, 9, 10, 11]"
      ]
     },
     "execution_count": 88,
     "metadata": {},
     "output_type": "execute_result"
    }
   ],
   "source": [
    "list(range(0,12))"
   ]
  },
  {
   "cell_type": "code",
   "execution_count": 89,
   "metadata": {},
   "outputs": [],
   "source": [
    "slash_df = pd.DataFrame(list(range(0,12)), columns=['slash in semitones'])"
   ]
  },
  {
   "cell_type": "code",
   "execution_count": 90,
   "metadata": {},
   "outputs": [
    {
     "data": {
      "text/html": [
       "<div>\n",
       "<style scoped>\n",
       "    .dataframe tbody tr th:only-of-type {\n",
       "        vertical-align: middle;\n",
       "    }\n",
       "\n",
       "    .dataframe tbody tr th {\n",
       "        vertical-align: top;\n",
       "    }\n",
       "\n",
       "    .dataframe thead th {\n",
       "        text-align: right;\n",
       "    }\n",
       "</style>\n",
       "<table border=\"1\" class=\"dataframe\">\n",
       "  <thead>\n",
       "    <tr style=\"text-align: right;\">\n",
       "      <th></th>\n",
       "      <th>slash in semitones</th>\n",
       "    </tr>\n",
       "  </thead>\n",
       "  <tbody>\n",
       "    <tr>\n",
       "      <th>0</th>\n",
       "      <td>0</td>\n",
       "    </tr>\n",
       "    <tr>\n",
       "      <th>1</th>\n",
       "      <td>1</td>\n",
       "    </tr>\n",
       "    <tr>\n",
       "      <th>2</th>\n",
       "      <td>2</td>\n",
       "    </tr>\n",
       "    <tr>\n",
       "      <th>3</th>\n",
       "      <td>3</td>\n",
       "    </tr>\n",
       "    <tr>\n",
       "      <th>4</th>\n",
       "      <td>4</td>\n",
       "    </tr>\n",
       "    <tr>\n",
       "      <th>5</th>\n",
       "      <td>5</td>\n",
       "    </tr>\n",
       "    <tr>\n",
       "      <th>6</th>\n",
       "      <td>6</td>\n",
       "    </tr>\n",
       "    <tr>\n",
       "      <th>7</th>\n",
       "      <td>7</td>\n",
       "    </tr>\n",
       "    <tr>\n",
       "      <th>8</th>\n",
       "      <td>8</td>\n",
       "    </tr>\n",
       "    <tr>\n",
       "      <th>9</th>\n",
       "      <td>9</td>\n",
       "    </tr>\n",
       "    <tr>\n",
       "      <th>10</th>\n",
       "      <td>10</td>\n",
       "    </tr>\n",
       "    <tr>\n",
       "      <th>11</th>\n",
       "      <td>11</td>\n",
       "    </tr>\n",
       "  </tbody>\n",
       "</table>\n",
       "</div>"
      ],
      "text/plain": [
       "    slash in semitones\n",
       "0                    0\n",
       "1                    1\n",
       "2                    2\n",
       "3                    3\n",
       "4                    4\n",
       "5                    5\n",
       "6                    6\n",
       "7                    7\n",
       "8                    8\n",
       "9                    9\n",
       "10                  10\n",
       "11                  11"
      ]
     },
     "execution_count": 90,
     "metadata": {},
     "output_type": "execute_result"
    }
   ],
   "source": [
    "slash_df"
   ]
  },
  {
   "cell_type": "code",
   "execution_count": 91,
   "metadata": {},
   "outputs": [],
   "source": [
    "slash_df['count'] = slash_df['slash in semitones'].apply( \\\n",
    "    lambda slash: len(df[df['slash chords'].apply( \\\n",
    "            lambda slashes: slash in slashes)] ))"
   ]
  },
  {
   "cell_type": "code",
   "execution_count": 92,
   "metadata": {},
   "outputs": [
    {
     "data": {
      "text/html": [
       "<div>\n",
       "<style scoped>\n",
       "    .dataframe tbody tr th:only-of-type {\n",
       "        vertical-align: middle;\n",
       "    }\n",
       "\n",
       "    .dataframe tbody tr th {\n",
       "        vertical-align: top;\n",
       "    }\n",
       "\n",
       "    .dataframe thead th {\n",
       "        text-align: right;\n",
       "    }\n",
       "</style>\n",
       "<table border=\"1\" class=\"dataframe\">\n",
       "  <thead>\n",
       "    <tr style=\"text-align: right;\">\n",
       "      <th></th>\n",
       "      <th>slash in semitones</th>\n",
       "      <th>count</th>\n",
       "    </tr>\n",
       "  </thead>\n",
       "  <tbody>\n",
       "    <tr>\n",
       "      <th>0</th>\n",
       "      <td>0</td>\n",
       "      <td>17</td>\n",
       "    </tr>\n",
       "    <tr>\n",
       "      <th>1</th>\n",
       "      <td>1</td>\n",
       "      <td>36</td>\n",
       "    </tr>\n",
       "    <tr>\n",
       "      <th>2</th>\n",
       "      <td>2</td>\n",
       "      <td>498</td>\n",
       "    </tr>\n",
       "    <tr>\n",
       "      <th>3</th>\n",
       "      <td>3</td>\n",
       "      <td>287</td>\n",
       "    </tr>\n",
       "    <tr>\n",
       "      <th>4</th>\n",
       "      <td>4</td>\n",
       "      <td>1713</td>\n",
       "    </tr>\n",
       "    <tr>\n",
       "      <th>5</th>\n",
       "      <td>5</td>\n",
       "      <td>376</td>\n",
       "    </tr>\n",
       "    <tr>\n",
       "      <th>6</th>\n",
       "      <td>6</td>\n",
       "      <td>39</td>\n",
       "    </tr>\n",
       "    <tr>\n",
       "      <th>7</th>\n",
       "      <td>7</td>\n",
       "      <td>1027</td>\n",
       "    </tr>\n",
       "    <tr>\n",
       "      <th>8</th>\n",
       "      <td>8</td>\n",
       "      <td>96</td>\n",
       "    </tr>\n",
       "    <tr>\n",
       "      <th>9</th>\n",
       "      <td>9</td>\n",
       "      <td>263</td>\n",
       "    </tr>\n",
       "    <tr>\n",
       "      <th>10</th>\n",
       "      <td>10</td>\n",
       "      <td>667</td>\n",
       "    </tr>\n",
       "    <tr>\n",
       "      <th>11</th>\n",
       "      <td>11</td>\n",
       "      <td>502</td>\n",
       "    </tr>\n",
       "  </tbody>\n",
       "</table>\n",
       "</div>"
      ],
      "text/plain": [
       "    slash in semitones  count\n",
       "0                    0     17\n",
       "1                    1     36\n",
       "2                    2    498\n",
       "3                    3    287\n",
       "4                    4   1713\n",
       "5                    5    376\n",
       "6                    6     39\n",
       "7                    7   1027\n",
       "8                    8     96\n",
       "9                    9    263\n",
       "10                  10    667\n",
       "11                  11    502"
      ]
     },
     "execution_count": 92,
     "metadata": {},
     "output_type": "execute_result"
    }
   ],
   "source": [
    "slash_df"
   ]
  },
  {
   "cell_type": "code",
   "execution_count": 93,
   "metadata": {},
   "outputs": [],
   "source": [
    "from music21.interval import Interval\n",
    "from music21.note import Note"
   ]
  },
  {
   "cell_type": "code",
   "execution_count": 94,
   "metadata": {},
   "outputs": [],
   "source": [
    "slash_df['interval'] = slash_df['slash in semitones'].apply(lambda st: Interval(noteStart=Note(0),noteEnd=Note(st)).name)"
   ]
  },
  {
   "cell_type": "code",
   "execution_count": 95,
   "metadata": {},
   "outputs": [
    {
     "data": {
      "text/html": [
       "<div>\n",
       "<style scoped>\n",
       "    .dataframe tbody tr th:only-of-type {\n",
       "        vertical-align: middle;\n",
       "    }\n",
       "\n",
       "    .dataframe tbody tr th {\n",
       "        vertical-align: top;\n",
       "    }\n",
       "\n",
       "    .dataframe thead th {\n",
       "        text-align: right;\n",
       "    }\n",
       "</style>\n",
       "<table border=\"1\" class=\"dataframe\">\n",
       "  <thead>\n",
       "    <tr style=\"text-align: right;\">\n",
       "      <th></th>\n",
       "      <th>slash in semitones</th>\n",
       "      <th>count</th>\n",
       "      <th>interval</th>\n",
       "    </tr>\n",
       "  </thead>\n",
       "  <tbody>\n",
       "    <tr>\n",
       "      <th>0</th>\n",
       "      <td>0</td>\n",
       "      <td>17</td>\n",
       "      <td>P1</td>\n",
       "    </tr>\n",
       "    <tr>\n",
       "      <th>1</th>\n",
       "      <td>1</td>\n",
       "      <td>36</td>\n",
       "      <td>A1</td>\n",
       "    </tr>\n",
       "    <tr>\n",
       "      <th>2</th>\n",
       "      <td>2</td>\n",
       "      <td>498</td>\n",
       "      <td>M2</td>\n",
       "    </tr>\n",
       "    <tr>\n",
       "      <th>3</th>\n",
       "      <td>3</td>\n",
       "      <td>287</td>\n",
       "      <td>m3</td>\n",
       "    </tr>\n",
       "    <tr>\n",
       "      <th>4</th>\n",
       "      <td>4</td>\n",
       "      <td>1713</td>\n",
       "      <td>M3</td>\n",
       "    </tr>\n",
       "    <tr>\n",
       "      <th>5</th>\n",
       "      <td>5</td>\n",
       "      <td>376</td>\n",
       "      <td>P4</td>\n",
       "    </tr>\n",
       "    <tr>\n",
       "      <th>6</th>\n",
       "      <td>6</td>\n",
       "      <td>39</td>\n",
       "      <td>A4</td>\n",
       "    </tr>\n",
       "    <tr>\n",
       "      <th>7</th>\n",
       "      <td>7</td>\n",
       "      <td>1027</td>\n",
       "      <td>P5</td>\n",
       "    </tr>\n",
       "    <tr>\n",
       "      <th>8</th>\n",
       "      <td>8</td>\n",
       "      <td>96</td>\n",
       "      <td>A5</td>\n",
       "    </tr>\n",
       "    <tr>\n",
       "      <th>9</th>\n",
       "      <td>9</td>\n",
       "      <td>263</td>\n",
       "      <td>M6</td>\n",
       "    </tr>\n",
       "    <tr>\n",
       "      <th>10</th>\n",
       "      <td>10</td>\n",
       "      <td>667</td>\n",
       "      <td>m7</td>\n",
       "    </tr>\n",
       "    <tr>\n",
       "      <th>11</th>\n",
       "      <td>11</td>\n",
       "      <td>502</td>\n",
       "      <td>M7</td>\n",
       "    </tr>\n",
       "  </tbody>\n",
       "</table>\n",
       "</div>"
      ],
      "text/plain": [
       "    slash in semitones  count interval\n",
       "0                    0     17       P1\n",
       "1                    1     36       A1\n",
       "2                    2    498       M2\n",
       "3                    3    287       m3\n",
       "4                    4   1713       M3\n",
       "5                    5    376       P4\n",
       "6                    6     39       A4\n",
       "7                    7   1027       P5\n",
       "8                    8     96       A5\n",
       "9                    9    263       M6\n",
       "10                  10    667       m7\n",
       "11                  11    502       M7"
      ]
     },
     "execution_count": 95,
     "metadata": {},
     "output_type": "execute_result"
    }
   ],
   "source": [
    "slash_df"
   ]
  },
  {
   "cell_type": "code",
   "execution_count": 96,
   "metadata": {},
   "outputs": [
    {
     "data": {
      "text/plain": [
       "<matplotlib.axes._subplots.AxesSubplot at 0xa59a5d690>"
      ]
     },
     "execution_count": 96,
     "metadata": {},
     "output_type": "execute_result"
    },
    {
     "data": {
      "image/png": "[encoded data removed]",
      "text/plain": [
       "<Figure size 432x288 with 1 Axes>"
      ]
     },
     "metadata": {},
     "output_type": "display_data"
    }
   ],
   "source": [
    "slash_df.plot.bar(x='interval', y='count')"
   ]
  },
  {
   "cell_type": "markdown",
   "metadata": {},
   "source": [
    "We won't include slash chord information in the RNN in order to simplify the problem. The consequnece is that the composed music will be less rich"
   ]
  },
  {
   "cell_type": "code",
   "execution_count": 97,
   "metadata": {},
   "outputs": [
    {
     "data": {
      "text/plain": [
       "11019"
      ]
     },
     "execution_count": 97,
     "metadata": {},
     "output_type": "execute_result"
    }
   ],
   "source": [
    "songs_without_slash_chords = len(df[df['slash chords'].apply(lambda slashes: len(slashes) == 0)])\n",
    "songs_without_slash_chords"
   ]
  },
  {
   "cell_type": "code",
   "execution_count": 98,
   "metadata": {},
   "outputs": [
    {
     "data": {
      "text/plain": [
       "3019"
      ]
     },
     "execution_count": 98,
     "metadata": {},
     "output_type": "execute_result"
    }
   ],
   "source": [
    "songs_with_slash_chords = len(df[df['slash chords'].apply(lambda slashes: len(slashes) > 0)])\n",
    "songs_with_slash_chords"
   ]
  },
  {
   "cell_type": "markdown",
   "metadata": {},
   "source": [
    "## Normalising the chords"
   ]
  },
  {
   "cell_type": "markdown",
   "metadata": {},
   "source": [
    "A song can be transported from a tonality to other. The relations between its chords are the same, but it only have a higher or lower pitch level. For example:"
   ]
  },
  {
   "cell_type": "code",
   "execution_count": 99,
   "metadata": {},
   "outputs": [],
   "source": [
    "from jl_music21_utils import show_sequence\n",
    "from jl_chord_parser import ChordParser\n",
    "\n",
    "parse = ChordParser().parse"
   ]
  },
  {
   "cell_type": "markdown",
   "metadata": {},
   "source": [
    "For example, from this original sequence"
   ]
  },
  {
   "cell_type": "code",
   "execution_count": 100,
   "metadata": {},
   "outputs": [
    {
     "name": "stdout",
     "output_type": "stream",
     "text": [
      "['E', 'B', 'E']\n"
     ]
    },
    {
     "data": {
      "image/png": "[encoded data removed]",
      "text/plain": [
       "<IPython.core.display.Image object>"
      ]
     },
     "metadata": {
      "image/png": {
       "height": 53,
       "width": 748
      }
     },
     "output_type": "display_data"
    },
    {
     "data": {
      "text/html": [
       "\n",
       "                <div id='midiPlayerDiv302'></div>\n",
       "                <link rel=\"stylesheet\" href=\"//cuthbertLab.github.io/music21j/css/m21.css\"\n",
       "                    type=\"text/css\" />\n",
       "                <script>\n",
       "                require.config({\n",
       "                    paths: {'music21': '//cuthbertLab.github.io/music21j/src/music21'}\n",
       "                });\n",
       "                require(['music21'], function() {\n",
       "                               mp = new music21.miditools.MidiPlayer();\n",
       "                               mp.addPlayer('#midiPlayerDiv302');\n",
       "                               mp.base64Load('data:audio/midi;base64,TVRoZAAAAAYAAQABBABNVHJrAAAAcQD/AwAA4ABAAJBAWgCQRFoAkEdaoACAQAAAgEQAAIBHAACQQFoAkERaAJBHWqAAgEAAAIBEAACARwAAkEdaAJA/WgCQQlqgAIBHAACAPwAAgEIAAJBAWgCQRFoAkEdaoACAQAAAgEQAAIBHAIgA/y8A');\n",
       "                        });\n",
       "                </script>"
      ],
      "text/plain": [
       "<IPython.core.display.HTML object>"
      ]
     },
     "metadata": {},
     "output_type": "display_data"
    }
   ],
   "source": [
    "show_sequence([parse(chord) for chord in ['E', 'B', 'E']])"
   ]
  },
  {
   "cell_type": "markdown",
   "metadata": {},
   "source": [
    "We can create a transported version"
   ]
  },
  {
   "cell_type": "code",
   "execution_count": 101,
   "metadata": {},
   "outputs": [
    {
     "name": "stdout",
     "output_type": "stream",
     "text": [
      "['Eb', 'Bb', 'Eb']\n"
     ]
    },
    {
     "data": {
      "image/png": "[encoded data removed]",
      "text/plain": [
       "<IPython.core.display.Image object>"
      ]
     },
     "metadata": {
      "image/png": {
       "height": 53,
       "width": 748
      }
     },
     "output_type": "display_data"
    },
    {
     "data": {
      "text/html": [
       "\n",
       "                <div id='midiPlayerDiv605'></div>\n",
       "                <link rel=\"stylesheet\" href=\"//cuthbertLab.github.io/music21j/css/m21.css\"\n",
       "                    type=\"text/css\" />\n",
       "                <script>\n",
       "                require.config({\n",
       "                    paths: {'music21': '//cuthbertLab.github.io/music21j/src/music21'}\n",
       "                });\n",
       "                require(['music21'], function() {\n",
       "                               mp = new music21.miditools.MidiPlayer();\n",
       "                               mp.addPlayer('#midiPlayerDiv605');\n",
       "                               mp.base64Load('data:audio/midi;base64,TVRoZAAAAAYAAQABBABNVHJrAAAAcQD/AwAA4ABAAJA/WgCQQ1oAkEZaoACAPwAAgEMAAIBGAACQP1oAkENaAJBGWqAAgD8AAIBDAACARgAAkEZaAJA+WgCQQVqgAIBGAACAPgAAgEEAAJA/WgCQQ1oAkEZaoACAPwAAgEMAAIBGAIgA/y8A');\n",
       "                        });\n",
       "                </script>"
      ],
      "text/plain": [
       "<IPython.core.display.HTML object>"
      ]
     },
     "metadata": {},
     "output_type": "display_data"
    }
   ],
   "source": [
    "show_sequence([parse(chord) for chord in ['Eb', 'Bb', 'Eb']])"
   ]
  },
  {
   "cell_type": "markdown",
   "metadata": {},
   "source": [
    "The model could have better performance if we transport all the songs to have almost the same harmonic mean. So...lets do it"
   ]
  },
  {
   "cell_type": "code",
   "execution_count": 102,
   "metadata": {},
   "outputs": [
    {
     "data": {
      "text/plain": [
       "0        [D, Dmaj7, D, Dmaj7, D, Dmaj7, D, Dmaj7, D, Dm...\n",
       "1        [G, G, C, D, G, G, G, G, G, Em, G, Em, C, D, G...\n",
       "2        [F, G, Am, G, C, F, F, G, Am, G, F, G, C, G, F...\n",
       "3        [Asus4, G, Bm7/A, Bm, D/F#, A, Asus2, A/C#, D,...\n",
       "4        [G, D, Em, C, G, D, Em, C, G, D, D, C, G, D, C...\n",
       "                               ...                        \n",
       "14109    [Bm, A, Bm, A, Bm, A, Em, G, D, A, Bm, A, Em, ...\n",
       "14110    [Gm, Bb, F, Gm, Gm, Bb, F, Gm, Gm, Bb, F, Gm, ...\n",
       "14111    [A, E, Bm, D, A, E, Bm, D, A, A, E, Bm, D, A, ...\n",
       "14112    [A, E, Bm, A, E, Bm, A, E, Bm, A, E, Bm, A, E,...\n",
       "14113    [G, A, E, B, E, B, E, B, E, A, E, B, E, A, E, ...\n",
       "Name: chord objects, Length: 14038, dtype: object"
      ]
     },
     "execution_count": 102,
     "metadata": {},
     "output_type": "execute_result"
    }
   ],
   "source": [
    "df['chord objects']"
   ]
  },
  {
   "cell_type": "code",
   "execution_count": 103,
   "metadata": {},
   "outputs": [],
   "source": [
    "df['harmonic mean in scale'] = df['harmonic mean position'].apply(feature_extractor.extract_harmonic_mean_in_scale)\n"
   ]
  },
  {
   "cell_type": "code",
   "execution_count": 104,
   "metadata": {},
   "outputs": [
    {
     "data": {
      "text/html": [
       "<div>\n",
       "<style scoped>\n",
       "    .dataframe tbody tr th:only-of-type {\n",
       "        vertical-align: middle;\n",
       "    }\n",
       "\n",
       "    .dataframe tbody tr th {\n",
       "        vertical-align: top;\n",
       "    }\n",
       "\n",
       "    .dataframe thead th {\n",
       "        text-align: right;\n",
       "    }\n",
       "</style>\n",
       "<table border=\"1\" class=\"dataframe\">\n",
       "  <thead>\n",
       "    <tr style=\"text-align: right;\">\n",
       "      <th></th>\n",
       "      <th>harmonic mean in scale</th>\n",
       "      <th>harmonic mean position</th>\n",
       "    </tr>\n",
       "  </thead>\n",
       "  <tbody>\n",
       "    <tr>\n",
       "      <th>10958</th>\n",
       "      <td>10</td>\n",
       "      <td>9.736289</td>\n",
       "    </tr>\n",
       "    <tr>\n",
       "      <th>7554</th>\n",
       "      <td>6</td>\n",
       "      <td>5.904803</td>\n",
       "    </tr>\n",
       "    <tr>\n",
       "      <th>4628</th>\n",
       "      <td>0</td>\n",
       "      <td>11.834687</td>\n",
       "    </tr>\n",
       "    <tr>\n",
       "      <th>5590</th>\n",
       "      <td>7</td>\n",
       "      <td>0.854845</td>\n",
       "    </tr>\n",
       "    <tr>\n",
       "      <th>5926</th>\n",
       "      <td>9</td>\n",
       "      <td>3.463666</td>\n",
       "    </tr>\n",
       "  </tbody>\n",
       "</table>\n",
       "</div>"
      ],
      "text/plain": [
       "       harmonic mean in scale  harmonic mean position\n",
       "10958                      10                9.736289\n",
       "7554                        6                5.904803\n",
       "4628                        0               11.834687\n",
       "5590                        7                0.854845\n",
       "5926                        9                3.463666"
      ]
     },
     "execution_count": 104,
     "metadata": {},
     "output_type": "execute_result"
    }
   ],
   "source": [
    "df[['harmonic mean in scale', 'harmonic mean position']].sample(5)"
   ]
  },
  {
   "cell_type": "code",
   "execution_count": 109,
   "metadata": {},
   "outputs": [],
   "source": [
    "df['normalised chords'] = df.apply(lambda row: feature_extractor.extract_transposed_chords_names\\\n",
    "                (row['chord objects'], -row['harmonic mean in scale']), axis=1)"
   ]
  },
  {
   "cell_type": "code",
   "execution_count": 112,
   "metadata": {},
   "outputs": [
    {
     "data": {
      "text/html": [
       "<div>\n",
       "<style scoped>\n",
       "    .dataframe tbody tr th:only-of-type {\n",
       "        vertical-align: middle;\n",
       "    }\n",
       "\n",
       "    .dataframe tbody tr th {\n",
       "        vertical-align: top;\n",
       "    }\n",
       "\n",
       "    .dataframe thead th {\n",
       "        text-align: right;\n",
       "    }\n",
       "</style>\n",
       "<table border=\"1\" class=\"dataframe\">\n",
       "  <thead>\n",
       "    <tr style=\"text-align: right;\">\n",
       "      <th></th>\n",
       "      <th>name</th>\n",
       "      <th>chords</th>\n",
       "      <th>normalised chords</th>\n",
       "      <th>harmonic mean in scale</th>\n",
       "    </tr>\n",
       "  </thead>\n",
       "  <tbody>\n",
       "    <tr>\n",
       "      <th>7173</th>\n",
       "      <td>Back Where I Come From</td>\n",
       "      <td>['D', 'A', 'F#m', 'G', 'D', 'A', 'F#m', 'D', '...</td>\n",
       "      <td>[C, G, Em, F, C, G, Em, C, C, G, Em, F, C, G, ...</td>\n",
       "      <td>2</td>\n",
       "    </tr>\n",
       "    <tr>\n",
       "      <th>645</th>\n",
       "      <td>Oh Our Lord</td>\n",
       "      <td>['C', 'G', 'C', 'G', 'C', 'G', 'D', 'G', 'C', ...</td>\n",
       "      <td>[F, C, F, C, F, C, G, C, F, Am, G, C, F, Am, G...</td>\n",
       "      <td>7</td>\n",
       "    </tr>\n",
       "    <tr>\n",
       "      <th>2018</th>\n",
       "      <td>Well All Right (ver 2)</td>\n",
       "      <td>['F#', 'B', 'C#', 'D', 'C', 'D', 'D', 'A', 'D'...</td>\n",
       "      <td>[E, A, B, C, Bb, C, C, G, C, C, Bb, C, G, C, B...</td>\n",
       "      <td>2</td>\n",
       "    </tr>\n",
       "    <tr>\n",
       "      <th>5546</th>\n",
       "      <td>Love Goes On</td>\n",
       "      <td>['A', 'C#m', 'E', 'A', 'C#m', 'E', 'A', 'C#m',...</td>\n",
       "      <td>[F, Am, C, F, Am, C, F, Am, C, F, Am, C, F, Am...</td>\n",
       "      <td>4</td>\n",
       "    </tr>\n",
       "    <tr>\n",
       "      <th>11864</th>\n",
       "      <td>Sowing The Seeds Of Love</td>\n",
       "      <td>['Gm7', 'F', 'EbMaj7', 'Am/D', 'EbMaj7', 'Am/D...</td>\n",
       "      <td>[Dm7, C, BbM7, Em, BbM7, Em, BbM7, Em, Dm7, C,...</td>\n",
       "      <td>5</td>\n",
       "    </tr>\n",
       "  </tbody>\n",
       "</table>\n",
       "</div>"
      ],
      "text/plain": [
       "                           name  \\\n",
       "7173     Back Where I Come From   \n",
       "645                 Oh Our Lord   \n",
       "2018     Well All Right (ver 2)   \n",
       "5546               Love Goes On   \n",
       "11864  Sowing The Seeds Of Love   \n",
       "\n",
       "                                                  chords  \\\n",
       "7173   ['D', 'A', 'F#m', 'G', 'D', 'A', 'F#m', 'D', '...   \n",
       "645    ['C', 'G', 'C', 'G', 'C', 'G', 'D', 'G', 'C', ...   \n",
       "2018   ['F#', 'B', 'C#', 'D', 'C', 'D', 'D', 'A', 'D'...   \n",
       "5546   ['A', 'C#m', 'E', 'A', 'C#m', 'E', 'A', 'C#m',...   \n",
       "11864  ['Gm7', 'F', 'EbMaj7', 'Am/D', 'EbMaj7', 'Am/D...   \n",
       "\n",
       "                                       normalised chords  \\\n",
       "7173   [C, G, Em, F, C, G, Em, C, C, G, Em, F, C, G, ...   \n",
       "645    [F, C, F, C, F, C, G, C, F, Am, G, C, F, Am, G...   \n",
       "2018   [E, A, B, C, Bb, C, C, G, C, C, Bb, C, G, C, B...   \n",
       "5546   [F, Am, C, F, Am, C, F, Am, C, F, Am, C, F, Am...   \n",
       "11864  [Dm7, C, BbM7, Em, BbM7, Em, BbM7, Em, Dm7, C,...   \n",
       "\n",
       "       harmonic mean in scale  \n",
       "7173                        2  \n",
       "645                         7  \n",
       "2018                        2  \n",
       "5546                        4  \n",
       "11864                       5  "
      ]
     },
     "execution_count": 112,
     "metadata": {},
     "output_type": "execute_result"
    }
   ],
   "source": [
    "df[['name','chords', 'normalised chords', 'harmonic mean in scale']].sample(5)"
   ]
  },
  {
   "cell_type": "markdown",
   "metadata": {},
   "source": [
    "#### Checking normalisation"
   ]
  },
  {
   "cell_type": "code",
   "execution_count": 115,
   "metadata": {},
   "outputs": [
    {
     "data": {
      "text/plain": [
       "<matplotlib.axes._subplots.AxesSubplot at 0xa6fdd3a10>"
      ]
     },
     "execution_count": 115,
     "metadata": {},
     "output_type": "execute_result"
    },
    {
     "data": {
      "image/png": "[encoded data removed]",
      "text/plain": [
       "<Figure size 432x288 with 1 Axes>"
      ]
     },
     "metadata": {},
     "output_type": "display_data"
    }
   ],
   "source": [
    "parse = ChordParser().parse\n",
    "\n",
    "normalised_chord_objects = df['normalised chords'].apply(lambda chords: [parse(chord) for chord in chords])\n",
    "harmonic_mean_position = normalised_chord_objects.apply(feature_extractor.extract_harmonic_mean_position)\n",
    "harmonic_mean_in_scale = harmonic_mean_position.apply(feature_extractor.extract_harmonic_mean_in_scale)\n",
    "harmonic_mean_in_scale.hist(bins=12)"
   ]
  },
  {
   "cell_type": "markdown",
   "metadata": {},
   "source": [
    "## Saving the data"
   ]
  },
  {
   "cell_type": "code",
   "execution_count": 118,
   "metadata": {},
   "outputs": [],
   "source": [
    "data.df = df\n",
    "data.save('../data/all_features.csv')"
   ]
  },
  {
   "cell_type": "code",
   "execution_count": null,
   "metadata": {},
   "outputs": [],
   "source": []
  }
 ],
 "metadata": {
  "kernelspec": {
   "display_name": "Python 3",
   "language": "python",
   "name": "python3"
  },
  "language_info": {
   "codemirror_mode": {
    "name": "ipython",
    "version": 3
   },
   "file_extension": ".py",
   "mimetype": "text/x-python",
   "name": "python",
   "nbconvert_exporter": "python",
   "pygments_lexer": "ipython3",
   "version": "3.7.5"
  },
  "toc": {
   "base_numbering": 1,
   "nav_menu": {},
   "number_sections": true,
   "sideBar": true,
   "skip_h1_title": false,
   "title_cell": "Table of Contents",
   "title_sidebar": "Contents",
   "toc_cell": false,
   "toc_position": {},
   "toc_section_display": true,
   "toc_window_display": false
  }
 },
 "nbformat": 4,
 "nbformat_minor": 2
}
