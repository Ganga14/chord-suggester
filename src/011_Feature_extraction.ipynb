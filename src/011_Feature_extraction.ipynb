{
 "cells": [
  {
   "cell_type": "markdown",
   "metadata": {},
   "source": [
    "## Feature extraction "
   ]
  },
  {
   "cell_type": "code",
   "execution_count": 77,
   "metadata": {},
   "outputs": [],
   "source": [
    "from jl_song_data import SongData \n",
    "import pandas as pd"
   ]
  },
  {
   "cell_type": "code",
   "execution_count": 2,
   "metadata": {},
   "outputs": [],
   "source": [
    "data = SongData('../data/chords_clean_1_2_3_4_5_6.csv')"
   ]
  },
  {
   "cell_type": "code",
   "execution_count": 3,
   "metadata": {},
   "outputs": [],
   "source": [
    "df = data.df"
   ]
  },
  {
   "cell_type": "code",
   "execution_count": 4,
   "metadata": {},
   "outputs": [],
   "source": [
    "from jl_feature_extractor import FeatureExtractor    \n",
    "\n",
    "feature_extractor = FeatureExtractor()"
   ]
  },
  {
   "cell_type": "markdown",
   "metadata": {},
   "source": [
    "## Remove non valid chords "
   ]
  },
  {
   "cell_type": "markdown",
   "metadata": {},
   "source": [
    "This `eval` is to convert string column to array colum"
   ]
  },
  {
   "cell_type": "code",
   "execution_count": 5,
   "metadata": {},
   "outputs": [],
   "source": [
    "df['chords'] = df['chords'].apply(eval)"
   ]
  },
  {
   "cell_type": "code",
   "execution_count": 6,
   "metadata": {},
   "outputs": [],
   "source": [
    "from jl_chord_parser import ChordParser\n",
    "parser = ChordParser()"
   ]
  },
  {
   "cell_type": "markdown",
   "metadata": {},
   "source": [
    "Parse returns `None` if chord is not valid"
   ]
  },
  {
   "cell_type": "code",
   "execution_count": 7,
   "metadata": {},
   "outputs": [],
   "source": [
    "df['chords'] = \\\n",
    "    df['chords'].apply(\\\n",
    "        lambda chords: [chord for chord in chords if parser.parse(chord) is not None] )\\\n"
   ]
  },
  {
   "cell_type": "markdown",
   "metadata": {},
   "source": [
    "##  Extract artist "
   ]
  },
  {
   "cell_type": "code",
   "execution_count": 8,
   "metadata": {},
   "outputs": [],
   "source": [
    "df['artist'] = df['url'].apply(feature_extractor.extract_pretty_artist)"
   ]
  },
  {
   "cell_type": "code",
   "execution_count": 9,
   "metadata": {},
   "outputs": [
    {
     "data": {
      "text/html": [
       "<div>\n",
       "<style scoped>\n",
       "    .dataframe tbody tr th:only-of-type {\n",
       "        vertical-align: middle;\n",
       "    }\n",
       "\n",
       "    .dataframe tbody tr th {\n",
       "        vertical-align: top;\n",
       "    }\n",
       "\n",
       "    .dataframe thead th {\n",
       "        text-align: right;\n",
       "    }\n",
       "</style>\n",
       "<table border=\"1\" class=\"dataframe\">\n",
       "  <thead>\n",
       "    <tr style=\"text-align: right;\">\n",
       "      <th></th>\n",
       "      <th>url</th>\n",
       "      <th>name</th>\n",
       "      <th>decade</th>\n",
       "      <th>genre</th>\n",
       "      <th>chords</th>\n",
       "      <th>uuid</th>\n",
       "      <th>artist</th>\n",
       "    </tr>\n",
       "  </thead>\n",
       "  <tbody>\n",
       "    <tr>\n",
       "      <td>8812</td>\n",
       "      <td>https://tabs.ultimate-guitar.com/tab/missy-hig...</td>\n",
       "      <td>The Special Two (ver 5)</td>\n",
       "      <td>2000s</td>\n",
       "      <td>Folk</td>\n",
       "      <td>[Am, G/B, C, Am, G/B, C, Am, G/B, C, Am, G/B, ...</td>\n",
       "      <td>3b14b024-e076-4d80-87e8-bd9e134c12f9</td>\n",
       "      <td>Missy Higgins</td>\n",
       "    </tr>\n",
       "    <tr>\n",
       "      <td>2908</td>\n",
       "      <td>https://tabs.ultimate-guitar.com/tab/dc-talk/d...</td>\n",
       "      <td>Day By Day (ver 2)</td>\n",
       "      <td>1990s</td>\n",
       "      <td>Religious Music</td>\n",
       "      <td>[E, D, E, D, E, E, A, F, G, E, A, F, G, E, G, ...</td>\n",
       "      <td>b19386a5-f50a-4a56-938f-496d09db1eb1</td>\n",
       "      <td>Dc Talk</td>\n",
       "    </tr>\n",
       "    <tr>\n",
       "      <td>3250</td>\n",
       "      <td>https://tabs.ultimate-guitar.com/tab/django-re...</td>\n",
       "      <td>Minor Swing</td>\n",
       "      <td>1950s</td>\n",
       "      <td>Jazz</td>\n",
       "      <td>[Am6, Dm6, E7, Am6, Dm6, Am6, E7, Am6, E7, E7#...</td>\n",
       "      <td>f7ec5d0d-5f60-4b34-b20f-8c65b7ee5db9</td>\n",
       "      <td>Django Reinhardt</td>\n",
       "    </tr>\n",
       "    <tr>\n",
       "      <td>11764</td>\n",
       "      <td>https://tabs.ultimate-guitar.com/tab/tammy_wyn...</td>\n",
       "      <td>I Dont Wanna Play House</td>\n",
       "      <td>1960s</td>\n",
       "      <td>Country</td>\n",
       "      <td>[C, G, C, G, F, C, D, G, C, G, C, E, Am, C, F,...</td>\n",
       "      <td>35199008-bcfd-4ce9-a8a3-62cd114dd1df</td>\n",
       "      <td>Tammy Wynette</td>\n",
       "    </tr>\n",
       "    <tr>\n",
       "      <td>4840</td>\n",
       "      <td>https://tabs.ultimate-guitar.com/tab/george-be...</td>\n",
       "      <td>In Your Eyes</td>\n",
       "      <td>1980s</td>\n",
       "      <td>Jazz%%Jazz</td>\n",
       "      <td>[E, Gb, E, Gb, B, B, E, Gb, G, A, B, E, Gb, A,...</td>\n",
       "      <td>ea6d60c5-762f-4cab-b585-6b5b0773a183</td>\n",
       "      <td>George Benson</td>\n",
       "    </tr>\n",
       "    <tr>\n",
       "      <td>172</td>\n",
       "      <td>https://tabs.ultimate-guitar.com/tab/a-ha/livi...</td>\n",
       "      <td>Living A Boys Adventure Tale</td>\n",
       "      <td>1980s</td>\n",
       "      <td>Electronic</td>\n",
       "      <td>[D, E, F#m, Bm, C#m, D, E, A, D, A, F#m, D, A,...</td>\n",
       "      <td>d2caacc6-f3d9-411b-961f-8c53287500a6</td>\n",
       "      <td>A Ha</td>\n",
       "    </tr>\n",
       "    <tr>\n",
       "      <td>5470</td>\n",
       "      <td>https://tabs.ultimate-guitar.com/tab/hillsong-...</td>\n",
       "      <td>Lead Me To The Cross (ver 5)</td>\n",
       "      <td>2000s</td>\n",
       "      <td>Religious Music%%Religious Music</td>\n",
       "      <td>[Am, Em7, F, Gsus, G, Am7, Em, F, Gsus, G, Dm,...</td>\n",
       "      <td>0b10faae-eb5f-4e19-a010-efebeacc033a</td>\n",
       "      <td>Hillsong United</td>\n",
       "    </tr>\n",
       "    <tr>\n",
       "      <td>10271</td>\n",
       "      <td>https://tabs.ultimate-guitar.com/tab/reamonn/s...</td>\n",
       "      <td>Supergirl (ver 2)</td>\n",
       "      <td>2000s</td>\n",
       "      <td>Rock</td>\n",
       "      <td>[Em, Bm, Am, C, Em, Bm, Am, C, G, D, Em, C, G,...</td>\n",
       "      <td>a634152c-1be0-49e3-b3a4-3296c67d2b5f</td>\n",
       "      <td>Reamonn</td>\n",
       "    </tr>\n",
       "    <tr>\n",
       "      <td>13095</td>\n",
       "      <td>https://tabs.ultimate-guitar.com/tab/tom_waits...</td>\n",
       "      <td>Way Down In The Hole</td>\n",
       "      <td>1980s</td>\n",
       "      <td>Folk%%Folk</td>\n",
       "      <td>[Bm, Bm, E, Bm, Bm, F#7, E, Bm, Bm, E, Bm, Bm,...</td>\n",
       "      <td>9f66e630-a3a0-4a1a-a4b3-754bd9eb40d1</td>\n",
       "      <td>Tom Waits</td>\n",
       "    </tr>\n",
       "    <tr>\n",
       "      <td>6402</td>\n",
       "      <td>https://tabs.ultimate-guitar.com/tab/john-lenn...</td>\n",
       "      <td>Working Class Hero</td>\n",
       "      <td>1970s</td>\n",
       "      <td>Folk%%Folk%%Rock</td>\n",
       "      <td>[Am, Am, Am, Am, G, Am, Am, G, Am, Am, G, Am, ...</td>\n",
       "      <td>7c4dea97-0638-4340-b332-945a4e4b6133</td>\n",
       "      <td>John Lennon</td>\n",
       "    </tr>\n",
       "  </tbody>\n",
       "</table>\n",
       "</div>"
      ],
      "text/plain": [
       "                                                     url  \\\n",
       "8812   https://tabs.ultimate-guitar.com/tab/missy-hig...   \n",
       "2908   https://tabs.ultimate-guitar.com/tab/dc-talk/d...   \n",
       "3250   https://tabs.ultimate-guitar.com/tab/django-re...   \n",
       "11764  https://tabs.ultimate-guitar.com/tab/tammy_wyn...   \n",
       "4840   https://tabs.ultimate-guitar.com/tab/george-be...   \n",
       "172    https://tabs.ultimate-guitar.com/tab/a-ha/livi...   \n",
       "5470   https://tabs.ultimate-guitar.com/tab/hillsong-...   \n",
       "10271  https://tabs.ultimate-guitar.com/tab/reamonn/s...   \n",
       "13095  https://tabs.ultimate-guitar.com/tab/tom_waits...   \n",
       "6402   https://tabs.ultimate-guitar.com/tab/john-lenn...   \n",
       "\n",
       "                               name decade                             genre  \\\n",
       "8812        The Special Two (ver 5)  2000s                              Folk   \n",
       "2908             Day By Day (ver 2)  1990s                   Religious Music   \n",
       "3250                    Minor Swing  1950s                              Jazz   \n",
       "11764       I Dont Wanna Play House  1960s                           Country   \n",
       "4840                   In Your Eyes  1980s                        Jazz%%Jazz   \n",
       "172    Living A Boys Adventure Tale  1980s                        Electronic   \n",
       "5470   Lead Me To The Cross (ver 5)  2000s  Religious Music%%Religious Music   \n",
       "10271             Supergirl (ver 2)  2000s                              Rock   \n",
       "13095          Way Down In The Hole  1980s                        Folk%%Folk   \n",
       "6402             Working Class Hero  1970s                  Folk%%Folk%%Rock   \n",
       "\n",
       "                                                  chords  \\\n",
       "8812   [Am, G/B, C, Am, G/B, C, Am, G/B, C, Am, G/B, ...   \n",
       "2908   [E, D, E, D, E, E, A, F, G, E, A, F, G, E, G, ...   \n",
       "3250   [Am6, Dm6, E7, Am6, Dm6, Am6, E7, Am6, E7, E7#...   \n",
       "11764  [C, G, C, G, F, C, D, G, C, G, C, E, Am, C, F,...   \n",
       "4840   [E, Gb, E, Gb, B, B, E, Gb, G, A, B, E, Gb, A,...   \n",
       "172    [D, E, F#m, Bm, C#m, D, E, A, D, A, F#m, D, A,...   \n",
       "5470   [Am, Em7, F, Gsus, G, Am7, Em, F, Gsus, G, Dm,...   \n",
       "10271  [Em, Bm, Am, C, Em, Bm, Am, C, G, D, Em, C, G,...   \n",
       "13095  [Bm, Bm, E, Bm, Bm, F#7, E, Bm, Bm, E, Bm, Bm,...   \n",
       "6402   [Am, Am, Am, Am, G, Am, Am, G, Am, Am, G, Am, ...   \n",
       "\n",
       "                                       uuid            artist  \n",
       "8812   3b14b024-e076-4d80-87e8-bd9e134c12f9     Missy Higgins  \n",
       "2908   b19386a5-f50a-4a56-938f-496d09db1eb1           Dc Talk  \n",
       "3250   f7ec5d0d-5f60-4b34-b20f-8c65b7ee5db9  Django Reinhardt  \n",
       "11764  35199008-bcfd-4ce9-a8a3-62cd114dd1df     Tammy Wynette  \n",
       "4840   ea6d60c5-762f-4cab-b585-6b5b0773a183     George Benson  \n",
       "172    d2caacc6-f3d9-411b-961f-8c53287500a6              A Ha  \n",
       "5470   0b10faae-eb5f-4e19-a010-efebeacc033a   Hillsong United  \n",
       "10271  a634152c-1be0-49e3-b3a4-3296c67d2b5f           Reamonn  \n",
       "13095  9f66e630-a3a0-4a1a-a4b3-754bd9eb40d1         Tom Waits  \n",
       "6402   7c4dea97-0638-4340-b332-945a4e4b6133       John Lennon  "
      ]
     },
     "execution_count": 9,
     "metadata": {},
     "output_type": "execute_result"
    }
   ],
   "source": [
    "df.sample(10)"
   ]
  },
  {
   "cell_type": "markdown",
   "metadata": {},
   "source": [
    "## Extract decade as numeric "
   ]
  },
  {
   "cell_type": "code",
   "execution_count": 10,
   "metadata": {},
   "outputs": [
    {
     "data": {
      "text/plain": [
       "array(['1980s', '2000s', '2010s', '1990s', '1960s', '1970s', '1950s'],\n",
       "      dtype=object)"
      ]
     },
     "execution_count": 10,
     "metadata": {},
     "output_type": "execute_result"
    }
   ],
   "source": [
    "df['decade'].unique()"
   ]
  },
  {
   "cell_type": "code",
   "execution_count": 11,
   "metadata": {},
   "outputs": [],
   "source": [
    "df['decade'] = df['decade'].apply(feature_extractor.extract_numeric_decade)"
   ]
  },
  {
   "cell_type": "code",
   "execution_count": 12,
   "metadata": {},
   "outputs": [
    {
     "data": {
      "text/plain": [
       "array([1980, 2000, 2010, 1990, 1960, 1970, 1950])"
      ]
     },
     "execution_count": 12,
     "metadata": {},
     "output_type": "execute_result"
    }
   ],
   "source": [
    "df['decade'].unique()"
   ]
  },
  {
   "cell_type": "markdown",
   "metadata": {},
   "source": [
    "## Harmonics features "
   ]
  },
  {
   "cell_type": "markdown",
   "metadata": {},
   "source": [
    "We are going to extract all the harmonic features, i.e. related to chords. "
   ]
  },
  {
   "cell_type": "markdown",
   "metadata": {},
   "source": [
    "### Cardinality (number of chords) "
   ]
  },
  {
   "cell_type": "code",
   "execution_count": 13,
   "metadata": {},
   "outputs": [],
   "source": [
    "df['cardinality'] = df['chords'].apply(feature_extractor.extract_cardinality)"
   ]
  },
  {
   "cell_type": "code",
   "execution_count": 14,
   "metadata": {},
   "outputs": [
    {
     "data": {
      "text/html": [
       "<div>\n",
       "<style scoped>\n",
       "    .dataframe tbody tr th:only-of-type {\n",
       "        vertical-align: middle;\n",
       "    }\n",
       "\n",
       "    .dataframe tbody tr th {\n",
       "        vertical-align: top;\n",
       "    }\n",
       "\n",
       "    .dataframe thead th {\n",
       "        text-align: right;\n",
       "    }\n",
       "</style>\n",
       "<table border=\"1\" class=\"dataframe\">\n",
       "  <thead>\n",
       "    <tr style=\"text-align: right;\">\n",
       "      <th></th>\n",
       "      <th>url</th>\n",
       "      <th>name</th>\n",
       "      <th>decade</th>\n",
       "      <th>genre</th>\n",
       "      <th>chords</th>\n",
       "      <th>uuid</th>\n",
       "      <th>artist</th>\n",
       "      <th>cardinality</th>\n",
       "    </tr>\n",
       "  </thead>\n",
       "  <tbody>\n",
       "    <tr>\n",
       "      <td>5242</td>\n",
       "      <td>https://tabs.ultimate-guitar.com/tab/haddaway/...</td>\n",
       "      <td>I Miss You</td>\n",
       "      <td>1990</td>\n",
       "      <td>Electronic</td>\n",
       "      <td>[F#m, E, A, D, A, E, F#m, E, F#m, Bm, A, E, F#...</td>\n",
       "      <td>99b5d45b-3b90-437f-89cc-22f03ae3406b</td>\n",
       "      <td>Haddaway</td>\n",
       "      <td>58</td>\n",
       "    </tr>\n",
       "    <tr>\n",
       "      <td>5493</td>\n",
       "      <td>https://tabs.ultimate-guitar.com/tab/hillsong-...</td>\n",
       "      <td>Oceans Where Feet May Fail (ver 15)</td>\n",
       "      <td>2010</td>\n",
       "      <td>Religious Music</td>\n",
       "      <td>[Am, C/A#, C, G, F, Am, C/A#, C, G, F, Am, G/B...</td>\n",
       "      <td>d2e03c8e-58af-4230-bb50-42d8eb45fd1e</td>\n",
       "      <td>Hillsong United</td>\n",
       "      <td>121</td>\n",
       "    </tr>\n",
       "    <tr>\n",
       "      <td>13011</td>\n",
       "      <td>https://tabs.ultimate-guitar.com/tab/tom_petty...</td>\n",
       "      <td>Learning To Fly</td>\n",
       "      <td>1990</td>\n",
       "      <td>Rock</td>\n",
       "      <td>[F, C, Am, G, F, C, Am, G, F, C, Am, G, F, C, ...</td>\n",
       "      <td>e9de4976-00e2-4888-a6ef-863e1461a2be</td>\n",
       "      <td>Tom Petty And The Heartbreakers</td>\n",
       "      <td>136</td>\n",
       "    </tr>\n",
       "    <tr>\n",
       "      <td>3307</td>\n",
       "      <td>https://tabs.ultimate-guitar.com/tab/don-henle...</td>\n",
       "      <td>Dirty Laundry (ver 2)</td>\n",
       "      <td>1980</td>\n",
       "      <td>Pop</td>\n",
       "      <td>[E, A, D, G, B, E7, E7, E7/D, E7/D, E7/A, Em7/...</td>\n",
       "      <td>cb49611a-293c-463e-a2cd-4e86357002e7</td>\n",
       "      <td>Don Henley</td>\n",
       "      <td>159</td>\n",
       "    </tr>\n",
       "    <tr>\n",
       "      <td>11123</td>\n",
       "      <td>https://tabs.ultimate-guitar.com/tab/simply_re...</td>\n",
       "      <td>For Your Babies</td>\n",
       "      <td>1990</td>\n",
       "      <td>Rhythm And Blues</td>\n",
       "      <td>[Amaj7, Bm7/A, Dm, A, A, Amaj7, Bm7/A, Dm, A, ...</td>\n",
       "      <td>85c29ab6-1412-4c42-8a98-38d1e8512e2c</td>\n",
       "      <td>Simply Red</td>\n",
       "      <td>123</td>\n",
       "    </tr>\n",
       "    <tr>\n",
       "      <td>5567</td>\n",
       "      <td>https://tabs.ultimate-guitar.com/tab/hooverpho...</td>\n",
       "      <td>Mad About You</td>\n",
       "      <td>2000</td>\n",
       "      <td>Electronic%%Pop</td>\n",
       "      <td>[C#m, B, A, G#m, C#m, B, A, G#m, C#m, B, A, G#...</td>\n",
       "      <td>a893c7a7-49f9-43a3-a968-6eabf65c9398</td>\n",
       "      <td>Hooverphonic</td>\n",
       "      <td>105</td>\n",
       "    </tr>\n",
       "    <tr>\n",
       "      <td>13284</td>\n",
       "      <td>https://tabs.ultimate-guitar.com/tab/turnpike_...</td>\n",
       "      <td>Every Girl</td>\n",
       "      <td>2000</td>\n",
       "      <td>Country</td>\n",
       "      <td>[G, C, Em, G, C, G, Em, C, G, G, G, C, G, Em, ...</td>\n",
       "      <td>40f87b7f-c182-4ffd-b5df-bad5cdc59734</td>\n",
       "      <td>Turnpike Troubadours</td>\n",
       "      <td>115</td>\n",
       "    </tr>\n",
       "    <tr>\n",
       "      <td>11201</td>\n",
       "      <td>https://tabs.ultimate-guitar.com/tab/slipknot/...</td>\n",
       "      <td>Custer</td>\n",
       "      <td>2010</td>\n",
       "      <td>Metal</td>\n",
       "      <td>[Em, F, Em, Em, Em, Em, Em, C, Em, Am, F, C, E...</td>\n",
       "      <td>16063935-839c-4c72-8659-7631069e3240</td>\n",
       "      <td>Slipknot</td>\n",
       "      <td>146</td>\n",
       "    </tr>\n",
       "    <tr>\n",
       "      <td>2545</td>\n",
       "      <td>https://tabs.ultimate-guitar.com/tab/cliff-ric...</td>\n",
       "      <td>We Dont Talk Anymore</td>\n",
       "      <td>1970</td>\n",
       "      <td>Pop%%Pop</td>\n",
       "      <td>[A, Amaj9, Amaj9, A, Amaj9, A, Amaj9, Bm/A, A,...</td>\n",
       "      <td>517e12d2-3d9a-4012-9e0f-4c8ca8c59d78</td>\n",
       "      <td>Cliff Richard</td>\n",
       "      <td>168</td>\n",
       "    </tr>\n",
       "    <tr>\n",
       "      <td>12675</td>\n",
       "      <td>https://tabs.ultimate-guitar.com/tab/the_rolli...</td>\n",
       "      <td>Jumpin Jack Flash (ver 2)</td>\n",
       "      <td>1960</td>\n",
       "      <td>Rock</td>\n",
       "      <td>[A, G, A, A, G, A, G, A, A, G, A, G, A, A, G, ...</td>\n",
       "      <td>e9fa8972-2640-4865-beb8-fd9690ffe1ae</td>\n",
       "      <td>The Rolling Stones</td>\n",
       "      <td>158</td>\n",
       "    </tr>\n",
       "  </tbody>\n",
       "</table>\n",
       "</div>"
      ],
      "text/plain": [
       "                                                     url  \\\n",
       "5242   https://tabs.ultimate-guitar.com/tab/haddaway/...   \n",
       "5493   https://tabs.ultimate-guitar.com/tab/hillsong-...   \n",
       "13011  https://tabs.ultimate-guitar.com/tab/tom_petty...   \n",
       "3307   https://tabs.ultimate-guitar.com/tab/don-henle...   \n",
       "11123  https://tabs.ultimate-guitar.com/tab/simply_re...   \n",
       "5567   https://tabs.ultimate-guitar.com/tab/hooverpho...   \n",
       "13284  https://tabs.ultimate-guitar.com/tab/turnpike_...   \n",
       "11201  https://tabs.ultimate-guitar.com/tab/slipknot/...   \n",
       "2545   https://tabs.ultimate-guitar.com/tab/cliff-ric...   \n",
       "12675  https://tabs.ultimate-guitar.com/tab/the_rolli...   \n",
       "\n",
       "                                      name  decade             genre  \\\n",
       "5242                            I Miss You    1990        Electronic   \n",
       "5493   Oceans Where Feet May Fail (ver 15)    2010   Religious Music   \n",
       "13011                      Learning To Fly    1990              Rock   \n",
       "3307                 Dirty Laundry (ver 2)    1980               Pop   \n",
       "11123                      For Your Babies    1990  Rhythm And Blues   \n",
       "5567                         Mad About You    2000   Electronic%%Pop   \n",
       "13284                           Every Girl    2000           Country   \n",
       "11201                               Custer    2010             Metal   \n",
       "2545                  We Dont Talk Anymore    1970          Pop%%Pop   \n",
       "12675            Jumpin Jack Flash (ver 2)    1960              Rock   \n",
       "\n",
       "                                                  chords  \\\n",
       "5242   [F#m, E, A, D, A, E, F#m, E, F#m, Bm, A, E, F#...   \n",
       "5493   [Am, C/A#, C, G, F, Am, C/A#, C, G, F, Am, G/B...   \n",
       "13011  [F, C, Am, G, F, C, Am, G, F, C, Am, G, F, C, ...   \n",
       "3307   [E, A, D, G, B, E7, E7, E7/D, E7/D, E7/A, Em7/...   \n",
       "11123  [Amaj7, Bm7/A, Dm, A, A, Amaj7, Bm7/A, Dm, A, ...   \n",
       "5567   [C#m, B, A, G#m, C#m, B, A, G#m, C#m, B, A, G#...   \n",
       "13284  [G, C, Em, G, C, G, Em, C, G, G, G, C, G, Em, ...   \n",
       "11201  [Em, F, Em, Em, Em, Em, Em, C, Em, Am, F, C, E...   \n",
       "2545   [A, Amaj9, Amaj9, A, Amaj9, A, Amaj9, Bm/A, A,...   \n",
       "12675  [A, G, A, A, G, A, G, A, A, G, A, G, A, A, G, ...   \n",
       "\n",
       "                                       uuid                           artist  \\\n",
       "5242   99b5d45b-3b90-437f-89cc-22f03ae3406b                         Haddaway   \n",
       "5493   d2e03c8e-58af-4230-bb50-42d8eb45fd1e                  Hillsong United   \n",
       "13011  e9de4976-00e2-4888-a6ef-863e1461a2be  Tom Petty And The Heartbreakers   \n",
       "3307   cb49611a-293c-463e-a2cd-4e86357002e7                       Don Henley   \n",
       "11123  85c29ab6-1412-4c42-8a98-38d1e8512e2c                       Simply Red   \n",
       "5567   a893c7a7-49f9-43a3-a968-6eabf65c9398                     Hooverphonic   \n",
       "13284  40f87b7f-c182-4ffd-b5df-bad5cdc59734             Turnpike Troubadours   \n",
       "11201  16063935-839c-4c72-8659-7631069e3240                         Slipknot   \n",
       "2545   517e12d2-3d9a-4012-9e0f-4c8ca8c59d78                    Cliff Richard   \n",
       "12675  e9fa8972-2640-4865-beb8-fd9690ffe1ae               The Rolling Stones   \n",
       "\n",
       "       cardinality  \n",
       "5242            58  \n",
       "5493           121  \n",
       "13011          136  \n",
       "3307           159  \n",
       "11123          123  \n",
       "5567           105  \n",
       "13284          115  \n",
       "11201          146  \n",
       "2545           168  \n",
       "12675          158  "
      ]
     },
     "execution_count": 14,
     "metadata": {},
     "output_type": "execute_result"
    }
   ],
   "source": [
    "df.sample(10)"
   ]
  },
  {
   "cell_type": "code",
   "execution_count": 15,
   "metadata": {},
   "outputs": [
    {
     "data": {
      "text/plain": [
       "count    14114.000000\n",
       "mean        85.521468\n",
       "std         68.705570\n",
       "min          0.000000\n",
       "25%         51.000000\n",
       "50%         77.000000\n",
       "75%        108.000000\n",
       "max       2020.000000\n",
       "Name: cardinality, dtype: float64"
      ]
     },
     "execution_count": 15,
     "metadata": {},
     "output_type": "execute_result"
    }
   ],
   "source": [
    "df['cardinality'].describe()"
   ]
  },
  {
   "cell_type": "code",
   "execution_count": 16,
   "metadata": {},
   "outputs": [
    {
     "data": {
      "text/html": [
       "<div>\n",
       "<style scoped>\n",
       "    .dataframe tbody tr th:only-of-type {\n",
       "        vertical-align: middle;\n",
       "    }\n",
       "\n",
       "    .dataframe tbody tr th {\n",
       "        vertical-align: top;\n",
       "    }\n",
       "\n",
       "    .dataframe thead th {\n",
       "        text-align: right;\n",
       "    }\n",
       "</style>\n",
       "<table border=\"1\" class=\"dataframe\">\n",
       "  <thead>\n",
       "    <tr style=\"text-align: right;\">\n",
       "      <th></th>\n",
       "      <th>url</th>\n",
       "      <th>name</th>\n",
       "      <th>decade</th>\n",
       "      <th>genre</th>\n",
       "      <th>chords</th>\n",
       "      <th>uuid</th>\n",
       "      <th>artist</th>\n",
       "      <th>cardinality</th>\n",
       "    </tr>\n",
       "  </thead>\n",
       "  <tbody>\n",
       "    <tr>\n",
       "      <td>19</td>\n",
       "      <td>https://tabs.ultimate-guitar.com/tab/120815</td>\n",
       "      <td>Balladen Om Herr Fredrik Åkare Och Den Söta Fr...</td>\n",
       "      <td>1960</td>\n",
       "      <td>Jazz</td>\n",
       "      <td>[]</td>\n",
       "      <td>752b3d65-297f-4777-acc4-e9d92e243a72</td>\n",
       "      <td>Unknown</td>\n",
       "      <td>0</td>\n",
       "    </tr>\n",
       "    <tr>\n",
       "      <td>160</td>\n",
       "      <td>https://tabs.ultimate-guitar.com/tab/883/cumul...</td>\n",
       "      <td>Cumuli</td>\n",
       "      <td>1990</td>\n",
       "      <td>Electronic</td>\n",
       "      <td>[]</td>\n",
       "      <td>523bfc79-9f5d-4747-8db3-366bd5d32152</td>\n",
       "      <td>883</td>\n",
       "      <td>0</td>\n",
       "    </tr>\n",
       "    <tr>\n",
       "      <td>163</td>\n",
       "      <td>https://tabs.ultimate-guitar.com/tab/883/rotta...</td>\n",
       "      <td>Rotta X Casa Di Dio</td>\n",
       "      <td>1990</td>\n",
       "      <td>Electronic%%Electronic</td>\n",
       "      <td>[]</td>\n",
       "      <td>8c8a69f6-7027-4816-a91d-d219d87582ca</td>\n",
       "      <td>883</td>\n",
       "      <td>0</td>\n",
       "    </tr>\n",
       "    <tr>\n",
       "      <td>217</td>\n",
       "      <td>https://tabs.ultimate-guitar.com/tab/abba/danc...</td>\n",
       "      <td>Dancing Queen (ver 3)</td>\n",
       "      <td>1970</td>\n",
       "      <td>Pop</td>\n",
       "      <td>[]</td>\n",
       "      <td>044a35a5-3943-49a5-bb6a-e0f5e19776cf</td>\n",
       "      <td>Abba</td>\n",
       "      <td>0</td>\n",
       "    </tr>\n",
       "    <tr>\n",
       "      <td>218</td>\n",
       "      <td>https://tabs.ultimate-guitar.com/tab/abba/danc...</td>\n",
       "      <td>Dancing Queen (ver 4)</td>\n",
       "      <td>1970</td>\n",
       "      <td>Pop%%Pop%%Pop</td>\n",
       "      <td>[]</td>\n",
       "      <td>bb8e839f-0d3f-40b6-9ee3-5fd4aa0301e1</td>\n",
       "      <td>Abba</td>\n",
       "      <td>0</td>\n",
       "    </tr>\n",
       "    <tr>\n",
       "      <td>...</td>\n",
       "      <td>...</td>\n",
       "      <td>...</td>\n",
       "      <td>...</td>\n",
       "      <td>...</td>\n",
       "      <td>...</td>\n",
       "      <td>...</td>\n",
       "      <td>...</td>\n",
       "      <td>...</td>\n",
       "    </tr>\n",
       "    <tr>\n",
       "      <td>12490</td>\n",
       "      <td>https://tabs.ultimate-guitar.com/tab/the_lonel...</td>\n",
       "      <td>Like A Boss</td>\n",
       "      <td>2000</td>\n",
       "      <td>Hip Hop</td>\n",
       "      <td>[]</td>\n",
       "      <td>1a6d53ae-aeea-4bdd-a1e2-3100bbf3c88e</td>\n",
       "      <td>The Lonely Island</td>\n",
       "      <td>0</td>\n",
       "    </tr>\n",
       "    <tr>\n",
       "      <td>13107</td>\n",
       "      <td>https://tabs.ultimate-guitar.com/tab/tony_benn...</td>\n",
       "      <td>A Child Is Born</td>\n",
       "      <td>1970</td>\n",
       "      <td>Jazz</td>\n",
       "      <td>[]</td>\n",
       "      <td>1dc741fc-51a9-40ef-a328-48eb8a467b62</td>\n",
       "      <td>Tony Bennett</td>\n",
       "      <td>0</td>\n",
       "    </tr>\n",
       "    <tr>\n",
       "      <td>13369</td>\n",
       "      <td>https://tabs.ultimate-guitar.com/tab/tyler_the...</td>\n",
       "      <td>Answer</td>\n",
       "      <td>2010</td>\n",
       "      <td>Hip Hop</td>\n",
       "      <td>[]</td>\n",
       "      <td>8474fdc1-00c5-457a-9178-41b1bb48a21f</td>\n",
       "      <td>Tyler The Creator</td>\n",
       "      <td>0</td>\n",
       "    </tr>\n",
       "    <tr>\n",
       "      <td>13802</td>\n",
       "      <td>https://tabs.ultimate-guitar.com/tab/wham/free...</td>\n",
       "      <td>Freedom</td>\n",
       "      <td>1980</td>\n",
       "      <td>Rhythm And Blues%%Rhythm And Blues%%Rhythm And...</td>\n",
       "      <td>[]</td>\n",
       "      <td>f0a72548-c85e-4848-bf60-af2e62993f5d</td>\n",
       "      <td>Wham</td>\n",
       "      <td>0</td>\n",
       "    </tr>\n",
       "    <tr>\n",
       "      <td>14062</td>\n",
       "      <td>https://tabs.ultimate-guitar.com/tab/zac_brown...</td>\n",
       "      <td>As Shes Walking Away</td>\n",
       "      <td>2010</td>\n",
       "      <td>Country</td>\n",
       "      <td>[]</td>\n",
       "      <td>71ce0aa4-973b-41f1-b108-bb7dcd663b81</td>\n",
       "      <td>Zac Brown Band</td>\n",
       "      <td>0</td>\n",
       "    </tr>\n",
       "  </tbody>\n",
       "</table>\n",
       "<p>71 rows × 8 columns</p>\n",
       "</div>"
      ],
      "text/plain": [
       "                                                     url  \\\n",
       "19           https://tabs.ultimate-guitar.com/tab/120815   \n",
       "160    https://tabs.ultimate-guitar.com/tab/883/cumul...   \n",
       "163    https://tabs.ultimate-guitar.com/tab/883/rotta...   \n",
       "217    https://tabs.ultimate-guitar.com/tab/abba/danc...   \n",
       "218    https://tabs.ultimate-guitar.com/tab/abba/danc...   \n",
       "...                                                  ...   \n",
       "12490  https://tabs.ultimate-guitar.com/tab/the_lonel...   \n",
       "13107  https://tabs.ultimate-guitar.com/tab/tony_benn...   \n",
       "13369  https://tabs.ultimate-guitar.com/tab/tyler_the...   \n",
       "13802  https://tabs.ultimate-guitar.com/tab/wham/free...   \n",
       "14062  https://tabs.ultimate-guitar.com/tab/zac_brown...   \n",
       "\n",
       "                                                    name  decade  \\\n",
       "19     Balladen Om Herr Fredrik Åkare Och Den Söta Fr...    1960   \n",
       "160                                               Cumuli    1990   \n",
       "163                                  Rotta X Casa Di Dio    1990   \n",
       "217                                Dancing Queen (ver 3)    1970   \n",
       "218                                Dancing Queen (ver 4)    1970   \n",
       "...                                                  ...     ...   \n",
       "12490                                        Like A Boss    2000   \n",
       "13107                                    A Child Is Born    1970   \n",
       "13369                                             Answer    2010   \n",
       "13802                                            Freedom    1980   \n",
       "14062                               As Shes Walking Away    2010   \n",
       "\n",
       "                                                   genre chords  \\\n",
       "19                                                  Jazz     []   \n",
       "160                                           Electronic     []   \n",
       "163                               Electronic%%Electronic     []   \n",
       "217                                                  Pop     []   \n",
       "218                                        Pop%%Pop%%Pop     []   \n",
       "...                                                  ...    ...   \n",
       "12490                                            Hip Hop     []   \n",
       "13107                                               Jazz     []   \n",
       "13369                                            Hip Hop     []   \n",
       "13802  Rhythm And Blues%%Rhythm And Blues%%Rhythm And...     []   \n",
       "14062                                            Country     []   \n",
       "\n",
       "                                       uuid             artist  cardinality  \n",
       "19     752b3d65-297f-4777-acc4-e9d92e243a72            Unknown            0  \n",
       "160    523bfc79-9f5d-4747-8db3-366bd5d32152                883            0  \n",
       "163    8c8a69f6-7027-4816-a91d-d219d87582ca                883            0  \n",
       "217    044a35a5-3943-49a5-bb6a-e0f5e19776cf               Abba            0  \n",
       "218    bb8e839f-0d3f-40b6-9ee3-5fd4aa0301e1               Abba            0  \n",
       "...                                     ...                ...          ...  \n",
       "12490  1a6d53ae-aeea-4bdd-a1e2-3100bbf3c88e  The Lonely Island            0  \n",
       "13107  1dc741fc-51a9-40ef-a328-48eb8a467b62       Tony Bennett            0  \n",
       "13369  8474fdc1-00c5-457a-9178-41b1bb48a21f  Tyler The Creator            0  \n",
       "13802  f0a72548-c85e-4848-bf60-af2e62993f5d               Wham            0  \n",
       "14062  71ce0aa4-973b-41f1-b108-bb7dcd663b81     Zac Brown Band            0  \n",
       "\n",
       "[71 rows x 8 columns]"
      ]
     },
     "execution_count": 16,
     "metadata": {},
     "output_type": "execute_result"
    }
   ],
   "source": [
    "df[df['cardinality'] == 0]"
   ]
  },
  {
   "cell_type": "markdown",
   "metadata": {},
   "source": [
    "Some songs are been uploaded by user/ultimate guitar without including the special format for the chords, for example, in https://tabs.ultimate-guitar.com/tab/883/rotta-x-casa-di-dio-chords-89055. Let's remove them"
   ]
  },
  {
   "cell_type": "code",
   "execution_count": 17,
   "metadata": {},
   "outputs": [],
   "source": [
    "df = df[df['cardinality'] != 0]"
   ]
  },
  {
   "cell_type": "code",
   "execution_count": 18,
   "metadata": {},
   "outputs": [
    {
     "data": {
      "text/plain": [
       "count    14043.000000\n",
       "mean        85.953856\n",
       "std         68.608710\n",
       "min          1.000000\n",
       "25%         51.000000\n",
       "50%         77.000000\n",
       "75%        108.000000\n",
       "max       2020.000000\n",
       "Name: cardinality, dtype: float64"
      ]
     },
     "execution_count": 18,
     "metadata": {},
     "output_type": "execute_result"
    }
   ],
   "source": [
    "df['cardinality'].describe()"
   ]
  },
  {
   "cell_type": "markdown",
   "metadata": {},
   "source": [
    "The same occurs for songs with one or two chords (eg. https://tabs.ultimate-guitar.com/tab/mad-caddies/souls-for-sale-chords-837415)"
   ]
  },
  {
   "cell_type": "code",
   "execution_count": 19,
   "metadata": {},
   "outputs": [],
   "source": [
    "df = df[df['cardinality'] != 1]"
   ]
  },
  {
   "cell_type": "code",
   "execution_count": 20,
   "metadata": {},
   "outputs": [],
   "source": [
    "df = df[df['cardinality'] != 2]"
   ]
  },
  {
   "cell_type": "code",
   "execution_count": 21,
   "metadata": {},
   "outputs": [
    {
     "data": {
      "text/plain": [
       "count    14031.000000\n",
       "mean        86.026014\n",
       "std         68.593639\n",
       "min          3.000000\n",
       "25%         51.000000\n",
       "50%         78.000000\n",
       "75%        108.000000\n",
       "max       2020.000000\n",
       "Name: cardinality, dtype: float64"
      ]
     },
     "execution_count": 21,
     "metadata": {},
     "output_type": "execute_result"
    }
   ],
   "source": [
    "df['cardinality'].describe()"
   ]
  },
  {
   "cell_type": "code",
   "execution_count": 22,
   "metadata": {},
   "outputs": [
    {
     "data": {
      "text/plain": [
       "0    68\n",
       "1    72\n",
       "dtype: int64"
      ]
     },
     "execution_count": 22,
     "metadata": {},
     "output_type": "execute_result"
    }
   ],
   "source": [
    "df['cardinality'].mode()"
   ]
  },
  {
   "cell_type": "markdown",
   "metadata": {},
   "source": [
    "Total number of chords"
   ]
  },
  {
   "cell_type": "code",
   "execution_count": 23,
   "metadata": {},
   "outputs": [
    {
     "data": {
      "text/plain": [
       "1207031"
      ]
     },
     "execution_count": 23,
     "metadata": {},
     "output_type": "execute_result"
    }
   ],
   "source": [
    "df['cardinality'].sum()"
   ]
  },
  {
   "cell_type": "code",
   "execution_count": 24,
   "metadata": {},
   "outputs": [],
   "source": [
    "import matplotlib.pyplot as plt"
   ]
  },
  {
   "cell_type": "code",
   "execution_count": 25,
   "metadata": {},
   "outputs": [
    {
     "data": {
      "text/plain": [
       "<matplotlib.axes._subplots.AxesSubplot at 0x11dd831d0>"
      ]
     },
     "execution_count": 25,
     "metadata": {},
     "output_type": "execute_result"
    },
    {
     "data": {
      "image/png": "[encoded data removed]",
      "text/plain": [
       "<Figure size 432x288 with 1 Axes>"
      ]
     },
     "metadata": {
      "needs_background": "light"
     },
     "output_type": "display_data"
    }
   ],
   "source": [
    "df['cardinality'].hist(bins=100)"
   ]
  },
  {
   "cell_type": "markdown",
   "metadata": {},
   "source": [
    "### Unique cardinality (number of different chords) "
   ]
  },
  {
   "cell_type": "code",
   "execution_count": 26,
   "metadata": {},
   "outputs": [],
   "source": [
    "df['unique cardinality'] = df['chords'].apply(feature_extractor.extract_unique_cardinality)"
   ]
  },
  {
   "cell_type": "code",
   "execution_count": 27,
   "metadata": {},
   "outputs": [
    {
     "data": {
      "text/plain": [
       "count    14031.000000\n",
       "mean         7.629606\n",
       "std          5.418258\n",
       "min          1.000000\n",
       "25%          4.000000\n",
       "50%          6.000000\n",
       "75%          9.000000\n",
       "max        101.000000\n",
       "Name: unique cardinality, dtype: float64"
      ]
     },
     "execution_count": 27,
     "metadata": {},
     "output_type": "execute_result"
    }
   ],
   "source": [
    "df['unique cardinality'].describe()"
   ]
  },
  {
   "cell_type": "markdown",
   "metadata": {},
   "source": [
    "Mode is 4...modern music is not very rich..."
   ]
  },
  {
   "cell_type": "code",
   "execution_count": 28,
   "metadata": {},
   "outputs": [
    {
     "data": {
      "text/plain": [
       "0    4\n",
       "dtype: int64"
      ]
     },
     "execution_count": 28,
     "metadata": {},
     "output_type": "execute_result"
    }
   ],
   "source": [
    "df['unique cardinality'].mode()"
   ]
  },
  {
   "cell_type": "code",
   "execution_count": 29,
   "metadata": {},
   "outputs": [
    {
     "data": {
      "text/plain": [
       "<matplotlib.axes._subplots.AxesSubplot at 0x11ef0f6d0>"
      ]
     },
     "execution_count": 29,
     "metadata": {},
     "output_type": "execute_result"
    },
    {
     "data": {
      "image/png": "[encoded data removed]",
      "text/plain": [
       "<Figure size 432x288 with 1 Axes>"
      ]
     },
     "metadata": {
      "needs_background": "light"
     },
     "output_type": "display_data"
    }
   ],
   "source": [
    "df['unique cardinality'].hist(bins=100)"
   ]
  },
  {
   "cell_type": "code",
   "execution_count": 30,
   "metadata": {},
   "outputs": [],
   "source": [
    "pop = df[df['genre'].str.contains('Pop')]"
   ]
  },
  {
   "cell_type": "code",
   "execution_count": 31,
   "metadata": {},
   "outputs": [],
   "source": [
    "jazz = df[df['genre'].str.contains('Jazz')]"
   ]
  },
  {
   "cell_type": "code",
   "execution_count": 32,
   "metadata": {},
   "outputs": [
    {
     "data": {
      "text/plain": [
       "0    5\n",
       "dtype: int64"
      ]
     },
     "execution_count": 32,
     "metadata": {},
     "output_type": "execute_result"
    }
   ],
   "source": [
    "pop['unique cardinality'].mode()"
   ]
  },
  {
   "cell_type": "code",
   "execution_count": 33,
   "metadata": {},
   "outputs": [
    {
     "data": {
      "text/plain": [
       "0    6\n",
       "dtype: int64"
      ]
     },
     "execution_count": 33,
     "metadata": {},
     "output_type": "execute_result"
    }
   ],
   "source": [
    "jazz['unique cardinality'].mode()"
   ]
  },
  {
   "cell_type": "markdown",
   "metadata": {},
   "source": [
    "### Mode"
   ]
  },
  {
   "cell_type": "markdown",
   "metadata": {},
   "source": [
    "Major :)\n",
    "\n",
    "Minor :(\n",
    "\n",
    "Neutral :|"
   ]
  },
  {
   "cell_type": "code",
   "execution_count": 34,
   "metadata": {},
   "outputs": [],
   "source": [
    "from jl_extended_chord import ChordMode"
   ]
  },
  {
   "cell_type": "code",
   "execution_count": 35,
   "metadata": {},
   "outputs": [],
   "source": [
    "df['major cardinality'] =\\\n",
    "df['chords'].apply(\\\n",
    "    lambda chords: feature_extractor.extract_mode_cardinality(chords, ChordMode.Major))"
   ]
  },
  {
   "cell_type": "code",
   "execution_count": 36,
   "metadata": {},
   "outputs": [],
   "source": [
    "df['minor cardinality'] =\\\n",
    "df['chords'].apply(\\\n",
    "    lambda chords: feature_extractor.extract_mode_cardinality(chords, ChordMode.Minor))"
   ]
  },
  {
   "cell_type": "code",
   "execution_count": 37,
   "metadata": {},
   "outputs": [],
   "source": [
    "df['neutral cardinality'] =\\\n",
    "df['chords'].apply(\\\n",
    "    lambda chords: feature_extractor.extract_mode_cardinality(chords, ChordMode.Neutral))"
   ]
  },
  {
   "cell_type": "code",
   "execution_count": 38,
   "metadata": {},
   "outputs": [],
   "source": [
    "def show_info(series):\n",
    "    print(series.describe())\n",
    "    print(f\"Mode:{series.mode()}\")\n",
    "    series.hist(bins=100)"
   ]
  },
  {
   "cell_type": "code",
   "execution_count": 39,
   "metadata": {},
   "outputs": [
    {
     "name": "stdout",
     "output_type": "stream",
     "text": [
      "count    14031.000000\n",
      "mean        60.802437\n",
      "std         51.953680\n",
      "min          0.000000\n",
      "25%         34.000000\n",
      "50%         53.000000\n",
      "75%         78.000000\n",
      "max       1871.000000\n",
      "Name: major cardinality, dtype: float64\n",
      "Mode:0    40\n",
      "dtype: int64\n"
     ]
    },
    {
     "data": {
      "image/png": "[encoded data removed]",
      "text/plain": [
       "<Figure size 432x288 with 1 Axes>"
      ]
     },
     "metadata": {
      "needs_background": "light"
     },
     "output_type": "display_data"
    }
   ],
   "source": [
    "show_info(df['major cardinality'])"
   ]
  },
  {
   "cell_type": "code",
   "execution_count": 40,
   "metadata": {},
   "outputs": [
    {
     "name": "stdout",
     "output_type": "stream",
     "text": [
      "count    14031.000000\n",
      "mean        22.596394\n",
      "std         27.375530\n",
      "min          0.000000\n",
      "25%          6.000000\n",
      "50%         17.000000\n",
      "75%         32.000000\n",
      "max       1022.000000\n",
      "Name: minor cardinality, dtype: float64\n",
      "Mode:0    0\n",
      "dtype: int64\n"
     ]
    },
    {
     "data": {
      "image/png": "[encoded data removed]",
      "text/plain": [
       "<Figure size 432x288 with 1 Axes>"
      ]
     },
     "metadata": {
      "needs_background": "light"
     },
     "output_type": "display_data"
    }
   ],
   "source": [
    "show_info(df['minor cardinality'])"
   ]
  },
  {
   "cell_type": "markdown",
   "metadata": {},
   "source": [
    "In average, there are three times more major chords than minor chords. It is the expected discovery"
   ]
  },
  {
   "cell_type": "code",
   "execution_count": 41,
   "metadata": {},
   "outputs": [
    {
     "name": "stdout",
     "output_type": "stream",
     "text": [
      "count    14031.000000\n",
      "mean         2.627183\n",
      "std         12.161789\n",
      "min          0.000000\n",
      "25%          0.000000\n",
      "50%          0.000000\n",
      "75%          0.000000\n",
      "max        318.000000\n",
      "Name: neutral cardinality, dtype: float64\n",
      "Mode:0    0\n",
      "dtype: int64\n"
     ]
    },
    {
     "data": {
      "image/png": "[encoded data removed]",
      "text/plain": [
       "<Figure size 432x288 with 1 Axes>"
      ]
     },
     "metadata": {
      "needs_background": "light"
     },
     "output_type": "display_data"
    }
   ],
   "source": [
    "show_info(df['neutral cardinality'])"
   ]
  },
  {
   "cell_type": "code",
   "execution_count": 42,
   "metadata": {},
   "outputs": [
    {
     "data": {
      "text/html": [
       "<div>\n",
       "<style scoped>\n",
       "    .dataframe tbody tr th:only-of-type {\n",
       "        vertical-align: middle;\n",
       "    }\n",
       "\n",
       "    .dataframe tbody tr th {\n",
       "        vertical-align: top;\n",
       "    }\n",
       "\n",
       "    .dataframe thead th {\n",
       "        text-align: right;\n",
       "    }\n",
       "</style>\n",
       "<table border=\"1\" class=\"dataframe\">\n",
       "  <thead>\n",
       "    <tr style=\"text-align: right;\">\n",
       "      <th></th>\n",
       "      <th>url</th>\n",
       "      <th>name</th>\n",
       "      <th>decade</th>\n",
       "      <th>genre</th>\n",
       "      <th>chords</th>\n",
       "      <th>uuid</th>\n",
       "      <th>artist</th>\n",
       "      <th>cardinality</th>\n",
       "      <th>unique cardinality</th>\n",
       "      <th>major cardinality</th>\n",
       "      <th>minor cardinality</th>\n",
       "      <th>neutral cardinality</th>\n",
       "    </tr>\n",
       "  </thead>\n",
       "  <tbody>\n",
       "    <tr>\n",
       "      <td>10816</td>\n",
       "      <td>https://tabs.ultimate-guitar.com/tab/scorpions...</td>\n",
       "      <td>Rock You Like A Hurricane (ver 2)</td>\n",
       "      <td>1980</td>\n",
       "      <td>Metal</td>\n",
       "      <td>[E5, G5, A5, C5, D5, C5, E5, C5, E5, D5, C5, E...</td>\n",
       "      <td>564b6999-b037-4758-9b15-3adc9b88357a</td>\n",
       "      <td>Scorpions</td>\n",
       "      <td>318</td>\n",
       "      <td>5</td>\n",
       "      <td>0</td>\n",
       "      <td>0</td>\n",
       "      <td>318</td>\n",
       "    </tr>\n",
       "  </tbody>\n",
       "</table>\n",
       "</div>"
      ],
      "text/plain": [
       "                                                     url  \\\n",
       "10816  https://tabs.ultimate-guitar.com/tab/scorpions...   \n",
       "\n",
       "                                    name  decade  genre  \\\n",
       "10816  Rock You Like A Hurricane (ver 2)    1980  Metal   \n",
       "\n",
       "                                                  chords  \\\n",
       "10816  [E5, G5, A5, C5, D5, C5, E5, C5, E5, D5, C5, E...   \n",
       "\n",
       "                                       uuid     artist  cardinality  \\\n",
       "10816  564b6999-b037-4758-9b15-3adc9b88357a  Scorpions          318   \n",
       "\n",
       "       unique cardinality  major cardinality  minor cardinality  \\\n",
       "10816                   5                  0                  0   \n",
       "\n",
       "       neutral cardinality  \n",
       "10816                  318  "
      ]
     },
     "execution_count": 42,
     "metadata": {},
     "output_type": "execute_result"
    }
   ],
   "source": [
    "df[df['neutral cardinality'] == 318]"
   ]
  },
  {
   "cell_type": "markdown",
   "metadata": {},
   "source": [
    "Scorpions like removing the third... :)"
   ]
  },
  {
   "cell_type": "markdown",
   "metadata": {},
   "source": [
    "### Sadness  "
   ]
  },
  {
   "cell_type": "markdown",
   "metadata": {},
   "source": [
    "Let's use previous features to calculate a new feature: `sadness`"
   ]
  },
  {
   "cell_type": "code",
   "execution_count": 58,
   "metadata": {},
   "outputs": [],
   "source": [
    "df['sadness'] = (df['minor cardinality'] / df['cardinality'])\n"
   ]
  },
  {
   "cell_type": "code",
   "execution_count": 59,
   "metadata": {},
   "outputs": [
    {
     "data": {
      "text/plain": [
       "count    14031.000000\n",
       "mean         0.257273\n",
       "std          0.201813\n",
       "min          0.000000\n",
       "25%          0.096872\n",
       "50%          0.243590\n",
       "75%          0.375000\n",
       "max          1.000000\n",
       "Name: sadness, dtype: float64"
      ]
     },
     "execution_count": 59,
     "metadata": {},
     "output_type": "execute_result"
    }
   ],
   "source": [
    "df['sadness'].describe()"
   ]
  },
  {
   "cell_type": "code",
   "execution_count": 60,
   "metadata": {},
   "outputs": [
    {
     "data": {
      "text/plain": [
       "<matplotlib.axes._subplots.AxesSubplot at 0x1279af410>"
      ]
     },
     "execution_count": 60,
     "metadata": {},
     "output_type": "execute_result"
    },
    {
     "data": {
      "image/png": "[encoded data removed]",
      "text/plain": [
       "<Figure size 432x288 with 1 Axes>"
      ]
     },
     "metadata": {
      "needs_background": "light"
     },
     "output_type": "display_data"
    }
   ],
   "source": [
    "df['sadness'].plot.hist()"
   ]
  },
  {
   "cell_type": "code",
   "execution_count": null,
   "metadata": {},
   "outputs": [],
   "source": []
  },
  {
   "cell_type": "code",
   "execution_count": 68,
   "metadata": {},
   "outputs": [
    {
     "data": {
      "text/plain": [
       "0.2790716907934111"
      ]
     },
     "execution_count": 68,
     "metadata": {},
     "output_type": "execute_result"
    }
   ],
   "source": [
    "df[df['genre'].str.contains('Metal')]['sadness'].mean()"
   ]
  },
  {
   "cell_type": "code",
   "execution_count": 69,
   "metadata": {},
   "outputs": [
    {
     "data": {
      "text/plain": [
       "0.3178758089746847"
      ]
     },
     "execution_count": 69,
     "metadata": {},
     "output_type": "execute_result"
    }
   ],
   "source": [
    "df[df['genre'].str.contains('Jazz')]['sadness'].mean()"
   ]
  },
  {
   "cell_type": "code",
   "execution_count": 70,
   "metadata": {},
   "outputs": [
    {
     "data": {
      "text/plain": [
       "0.2742307112838404"
      ]
     },
     "execution_count": 70,
     "metadata": {},
     "output_type": "execute_result"
    }
   ],
   "source": [
    "df[df['genre'].str.contains('Pop')]['sadness'].mean()"
   ]
  },
  {
   "cell_type": "code",
   "execution_count": 71,
   "metadata": {},
   "outputs": [
    {
     "data": {
      "text/plain": [
       "0.21933666795532078"
      ]
     },
     "execution_count": 71,
     "metadata": {},
     "output_type": "execute_result"
    }
   ],
   "source": [
    "df[df['genre'].str.contains('Rock')]['sadness'].mean()"
   ]
  },
  {
   "cell_type": "code",
   "execution_count": 73,
   "metadata": {},
   "outputs": [],
   "source": [
    "import jl_io as io\n",
    "\n",
    "genres = io.from_file('../data/genres')"
   ]
  },
  {
   "cell_type": "code",
   "execution_count": 75,
   "metadata": {},
   "outputs": [
    {
     "data": {
      "text/plain": [
       "['Rock',\n",
       " 'Folk',\n",
       " 'Pop',\n",
       " 'Country',\n",
       " 'Electronic',\n",
       " 'Rhythm And Blues',\n",
       " 'Metal',\n",
       " 'Contemporary R&b',\n",
       " 'Religious Music',\n",
       " 'Hip Hop',\n",
       " 'Reggae',\n",
       " 'Jazz',\n",
       " 'Blues',\n",
       " 'World Music',\n",
       " 'Disco',\n",
       " 'Comedy',\n",
       " 'New Age',\n",
       " 'Classical',\n",
       " 'Experimental',\n",
       " 'Darkwave',\n",
       " 'Soundtrack']"
      ]
     },
     "execution_count": 75,
     "metadata": {},
     "output_type": "execute_result"
    }
   ],
   "source": [
    "genre_names = [genre['name'] for genre in genres]\n",
    "genre_names"
   ]
  },
  {
   "cell_type": "code",
   "execution_count": 82,
   "metadata": {},
   "outputs": [],
   "source": [
    "genre_df = pd.DataFrame(genre_names, columns=['genre'])"
   ]
  },
  {
   "cell_type": "code",
   "execution_count": 83,
   "metadata": {},
   "outputs": [],
   "source": [
    "genre_df['avg sadness'] = genre_df['genre'].apply(lambda genre: df[df['genre'].str.contains(genre)]['sadness'].mean())"
   ]
  },
  {
   "cell_type": "code",
   "execution_count": 90,
   "metadata": {},
   "outputs": [
    {
     "data": {
      "text/plain": [
       "<matplotlib.axes._subplots.AxesSubplot at 0x130043350>"
      ]
     },
     "execution_count": 90,
     "metadata": {},
     "output_type": "execute_result"
    },
    {
     "data": {
      "image/png": "[encoded data removed]",
      "text/plain": [
       "<Figure size 432x288 with 1 Axes>"
      ]
     },
     "metadata": {
      "needs_background": "light"
     },
     "output_type": "display_data"
    }
   ],
   "source": [
    "genre_df.sort_values(by='avg sadness').plot.bar(x='genre', y='avg sadness')"
   ]
  },
  {
   "cell_type": "markdown",
   "metadata": {},
   "source": [
    "### Harmonic mean "
   ]
  },
  {
   "cell_type": "code",
   "execution_count": 43,
   "metadata": {},
   "outputs": [],
   "source": [
    "df['harmonic mean X'] = df['chords'].apply(feature_extractor.extract_harmonic_mean_x)"
   ]
  },
  {
   "cell_type": "code",
   "execution_count": 44,
   "metadata": {},
   "outputs": [],
   "source": [
    "df['harmonic mean Y'] = df['chords'].apply(feature_extractor.extract_harmonic_mean_y)"
   ]
  },
  {
   "cell_type": "code",
   "execution_count": 45,
   "metadata": {},
   "outputs": [
    {
     "data": {
      "text/plain": [
       "<matplotlib.axes._subplots.AxesSubplot at 0x11f2cd790>"
      ]
     },
     "execution_count": 45,
     "metadata": {},
     "output_type": "execute_result"
    },
    {
     "data": {
      "image/png": "[encoded data removed]",
      "text/plain": [
       "<Figure size 432x288 with 1 Axes>"
      ]
     },
     "metadata": {
      "needs_background": "light"
     },
     "output_type": "display_data"
    }
   ],
   "source": [
    "df.plot.scatter(x='harmonic mean X', y='harmonic mean Y')"
   ]
  },
  {
   "cell_type": "code",
   "execution_count": 46,
   "metadata": {},
   "outputs": [],
   "source": [
    "df['harmonic mean position'] = df['chords'].apply(feature_extractor.extract_harmonic_mean_position)"
   ]
  },
  {
   "cell_type": "code",
   "execution_count": 48,
   "metadata": {},
   "outputs": [
    {
     "data": {
      "text/plain": [
       "<matplotlib.axes._subplots.AxesSubplot at 0x126892c50>"
      ]
     },
     "execution_count": 48,
     "metadata": {},
     "output_type": "execute_result"
    },
    {
     "data": {
      "image/png": "[encoded data removed]",
      "text/plain": [
       "<Figure size 432x288 with 1 Axes>"
      ]
     },
     "metadata": {
      "needs_background": "light"
     },
     "output_type": "display_data"
    }
   ],
   "source": [
    "df['harmonic mean position'].plot.hist(bins=12)"
   ]
  },
  {
   "cell_type": "markdown",
   "metadata": {},
   "source": [
    "## Genre (to be improved) "
   ]
  },
  {
   "cell_type": "code",
   "execution_count": 26,
   "metadata": {},
   "outputs": [
    {
     "data": {
      "text/plain": [
       "array(['Folk', 'Folk%%Pop', 'Electronic', 'Classical%%Pop',\n",
       "       'Electronic%%Pop', 'Jazz', 'Pop', 'Rock',\n",
       "       'Contemporary R&b%%Rhythm And Blues', 'Rhythm And Blues',\n",
       "       'World Music', 'Reggae', 'Metal', 'Hip Hop', 'Jazz%%Pop',\n",
       "       'Hip Hop%%Rhythm And Blues', 'Jazz%%World Music', 'Disco',\n",
       "       'Folk%%Jazz', 'Contemporary R&b', 'Electronic%%Rock',\n",
       "       'Electronic%%Pop%%Rock', 'Disco%%Pop', 'Pop%%Rhythm And Blues',\n",
       "       'Pop%%Rock', 'Contemporary R&b%%Hip Hop',\n",
       "       'Religious Music%%Rhythm And Blues', 'Country', 'Folk%%Rock',\n",
       "       'Blues', 'Contemporary R&b%%Electronic',\n",
       "       'Electronic%%Rhythm And Blues', 'Folk%%Religious Music',\n",
       "       'Religious Music', 'Pop%%Religious Music',\n",
       "       'Jazz%%Rhythm And Blues', 'Contemporary R&b%%Pop', 'Metal%%Rock',\n",
       "       'Darkwave', 'Blues%%Rock', 'Disco%%Pop%%Rock',\n",
       "       'Folk%%Rhythm And Blues', 'Folk%%Pop%%Rock',\n",
       "       'Disco%%Rhythm And Blues', 'Blues%%Rhythm And Blues',\n",
       "       'Rhythm And Blues%%Rock', 'Country%%Folk%%Rock', 'Country%%Folk',\n",
       "       'Country%%Folk%%Pop', 'Country%%Folk%%Pop%%Rock',\n",
       "       'Country%%Rhythm And Blues',\n",
       "       'Country%%Folk%%Pop%%Rhythm And Blues', 'Religious Music%%Rock',\n",
       "       'Contemporary R&b%%Rock', 'Contemporary R&b%%Electronic%%Pop',\n",
       "       'Country%%Rock', 'Contemporary R&b%%Pop%%Rhythm And Blues',\n",
       "       'Soundtrack', 'Contemporary R&b%%Folk%%Rhythm And Blues',\n",
       "       'Classical', 'Electronic%%Religious Music',\n",
       "       'Hip Hop%%Religious Music', 'Electronic%%Folk',\n",
       "       'Darkwave%%Electronic', 'New Age', 'Blues%%Pop%%Rock',\n",
       "       'Blues%%Pop', 'Pop%%Reggae', 'Blues%%Folk',\n",
       "       'Pop%%Rhythm And Blues%%Rock', 'Country%%Rhythm And Blues%%Rock',\n",
       "       'Blues%%Rhythm And Blues%%Rock', 'Electronic%%Hip Hop',\n",
       "       'Contemporary R&b%%Hip Hop%%Pop', 'Comedy', 'Classical%%Jazz',\n",
       "       'Blues%%Metal', 'Folk%%Jazz%%Pop', 'Country%%Pop',\n",
       "       'Classical%%Folk', 'Classical%%Country%%Folk', 'Folk%%World Music',\n",
       "       'Electronic%%Religious Music%%Rock', 'Electronic%%Folk%%Pop%%Rock',\n",
       "       'Experimental', 'Classical%%Soundtrack', 'New Age%%World Music',\n",
       "       'Contemporary R&b%%Electronic%%Rhythm And Blues',\n",
       "       'Comedy%%Hip Hop', 'Contemporary R&b%%Pop%%Rock',\n",
       "       'Electronic%%Experimental', 'Blues%%Religious Music',\n",
       "       'Electronic%%Metal', 'Electronic%%Metal%%Rock',\n",
       "       'Country%%Pop%%Rhythm And Blues', 'Jazz%%Pop%%Rhythm And Blues',\n",
       "       'Contemporary R&b%%Jazz%%Rhythm And Blues', 'Electronic%%Reggae',\n",
       "       'Contemporary R&b%%Disco', 'Contemporary R&b%%Disco%%Pop',\n",
       "       'Contemporary R&b%%Disco%%Pop%%Rock', 'Pop%%Religious Music%%Rock',\n",
       "       'Blues%%Jazz', 'Contemporary R&b%%Jazz', 'Reggae%%Rock',\n",
       "       'Electronic%%World Music', 'Country%%Jazz%%Rhythm And Blues',\n",
       "       'Country%%Jazz', 'Contemporary R&b%%Reggae',\n",
       "       'Contemporary R&b%%Pop%%Reggae', 'Hip Hop%%Reggae',\n",
       "       'Pop%%World Music', 'Blues%%Country', 'Country%%Pop%%Rock',\n",
       "       'Reggae%%Rhythm And Blues', 'Electronic%%Reggae%%Rhythm And Blues',\n",
       "       'Folk%%Pop%%World Music', 'Electronic%%Pop%%Rhythm And Blues',\n",
       "       'Hip Hop%%Rock', 'Metal%%Pop%%Rock',\n",
       "       'Folk%%Rhythm And Blues%%Rock', 'Folk%%Jazz%%Rhythm And Blues',\n",
       "       'Folk%%Jazz%%Rhythm And Blues%%Rock',\n",
       "       'Blues%%Jazz%%Rhythm And Blues', 'Blues%%Country%%Jazz',\n",
       "       'Contemporary R&b%%Hip Hop%%Reggae'], dtype=object)"
      ]
     },
     "execution_count": 26,
     "metadata": {},
     "output_type": "execute_result"
    }
   ],
   "source": [
    "def remove_duplicate_genre_inside_cell(value):\n",
    "    unique_genres = list(set(value.split('%%')))\n",
    "    unique_genres.sort(key=str.lower)\n",
    "    return '%%'.join(unique_genres)\n",
    "    \n",
    "\n",
    "df['genre'].apply(remove_duplicate_genre_inside_cell).unique()"
   ]
  },
  {
   "cell_type": "markdown",
   "metadata": {},
   "source": [
    "## "
   ]
  }
 ],
 "metadata": {
  "kernelspec": {
   "display_name": "Python 3",
   "language": "python",
   "name": "python3"
  },
  "language_info": {
   "codemirror_mode": {
    "name": "ipython",
    "version": 3
   },
   "file_extension": ".py",
   "mimetype": "text/x-python",
   "name": "python",
   "nbconvert_exporter": "python",
   "pygments_lexer": "ipython3",
   "version": "3.7.4"
  },
  "toc": {
   "base_numbering": 1,
   "nav_menu": {},
   "number_sections": true,
   "sideBar": true,
   "skip_h1_title": false,
   "title_cell": "Table of Contents",
   "title_sidebar": "Contents",
   "toc_cell": false,
   "toc_position": {},
   "toc_section_display": true,
   "toc_window_display": false
  }
 },
 "nbformat": 4,
 "nbformat_minor": 2
}
