{
 "cells": [
  {
   "cell_type": "markdown",
   "metadata": {},
   "source": [
    "## Feature extraction "
   ]
  },
  {
   "cell_type": "code",
   "execution_count": 1,
   "metadata": {},
   "outputs": [],
   "source": [
    "from jl_song_data import SongData "
   ]
  },
  {
   "cell_type": "code",
   "execution_count": 2,
   "metadata": {},
   "outputs": [],
   "source": [
    "data = SongData('../data/chords_clean_1_2_3_4_5_6.csv')"
   ]
  },
  {
   "cell_type": "code",
   "execution_count": 3,
   "metadata": {},
   "outputs": [],
   "source": [
    "df = data.df"
   ]
  },
  {
   "cell_type": "code",
   "execution_count": 4,
   "metadata": {},
   "outputs": [],
   "source": [
    "from jl_feature_extractor import FeatureExtractor    \n",
    "\n",
    "feature_extractor = FeatureExtractor()"
   ]
  },
  {
   "cell_type": "markdown",
   "metadata": {},
   "source": [
    "##  Extract artist "
   ]
  },
  {
   "cell_type": "code",
   "execution_count": 5,
   "metadata": {},
   "outputs": [],
   "source": [
    "df['artist'] = df['url'].apply(feature_extractor.extract_pretty_artist)"
   ]
  },
  {
   "cell_type": "code",
   "execution_count": 6,
   "metadata": {},
   "outputs": [
    {
     "data": {
      "text/html": [
       "<div>\n",
       "<style scoped>\n",
       "    .dataframe tbody tr th:only-of-type {\n",
       "        vertical-align: middle;\n",
       "    }\n",
       "\n",
       "    .dataframe tbody tr th {\n",
       "        vertical-align: top;\n",
       "    }\n",
       "\n",
       "    .dataframe thead th {\n",
       "        text-align: right;\n",
       "    }\n",
       "</style>\n",
       "<table border=\"1\" class=\"dataframe\">\n",
       "  <thead>\n",
       "    <tr style=\"text-align: right;\">\n",
       "      <th></th>\n",
       "      <th>url</th>\n",
       "      <th>name</th>\n",
       "      <th>decade</th>\n",
       "      <th>genre</th>\n",
       "      <th>chords</th>\n",
       "      <th>uuid</th>\n",
       "      <th>artist</th>\n",
       "    </tr>\n",
       "  </thead>\n",
       "  <tbody>\n",
       "    <tr>\n",
       "      <td>1205</td>\n",
       "      <td>https://tabs.ultimate-guitar.com/tab/belle_and...</td>\n",
       "      <td>Another Sunny Day</td>\n",
       "      <td>2000s</td>\n",
       "      <td>Pop</td>\n",
       "      <td>['E', 'B', 'F#m', 'C#m', 'A', 'E', 'B', 'E', '...</td>\n",
       "      <td>56da25d3-75c1-42e3-9b33-f12e113aa3c5</td>\n",
       "      <td>Belle And Sebastian</td>\n",
       "    </tr>\n",
       "    <tr>\n",
       "      <td>9183</td>\n",
       "      <td>https://tabs.ultimate-guitar.com/tab/nicki-min...</td>\n",
       "      <td>Roman Holiday</td>\n",
       "      <td>2010s</td>\n",
       "      <td>Hip Hop</td>\n",
       "      <td>['Em', 'C', 'G', 'D', 'Em', 'C', 'G', 'D', 'Em...</td>\n",
       "      <td>3c225047-d93f-4316-b9ea-5ccd9ce5beb9</td>\n",
       "      <td>Nicki Minaj</td>\n",
       "    </tr>\n",
       "    <tr>\n",
       "      <td>13070</td>\n",
       "      <td>https://tabs.ultimate-guitar.com/tab/tom_waits...</td>\n",
       "      <td>San Diego Serenade</td>\n",
       "      <td>1970s</td>\n",
       "      <td>Blues</td>\n",
       "      <td>['Db', 'Gb', 'Abm7', 'Db', 'Bbm7', 'Eb', 'Db',...</td>\n",
       "      <td>b7fb4e45-4fa1-4dc5-ac63-f1d6001569ef</td>\n",
       "      <td>Tom Waits</td>\n",
       "    </tr>\n",
       "    <tr>\n",
       "      <td>3386</td>\n",
       "      <td>https://tabs.ultimate-guitar.com/tab/dr-feelgo...</td>\n",
       "      <td>Tanqueray</td>\n",
       "      <td>1990s</td>\n",
       "      <td>Blues</td>\n",
       "      <td>['E7', 'A7', 'E7', 'A7', 'E7', 'B7', 'A7', 'E7...</td>\n",
       "      <td>9fd35596-bcb9-48dd-8fc7-0f39a7b891b7</td>\n",
       "      <td>Dr Feelgood</td>\n",
       "    </tr>\n",
       "    <tr>\n",
       "      <td>6068</td>\n",
       "      <td>https://tabs.ultimate-guitar.com/tab/jesse-coo...</td>\n",
       "      <td>Fall At Your Feet</td>\n",
       "      <td>2000s</td>\n",
       "      <td>World Music%%New Age</td>\n",
       "      <td>['Cm', 'Eb', 'Ab', 'G', 'Cm', 'Eb', 'Ab', 'G',...</td>\n",
       "      <td>188f36c5-b739-4c92-8d75-b50964d22ba7</td>\n",
       "      <td>Jesse Cook</td>\n",
       "    </tr>\n",
       "    <tr>\n",
       "      <td>11861</td>\n",
       "      <td>https://tabs.ultimate-guitar.com/tab/tears_for...</td>\n",
       "      <td>Pale Shelter</td>\n",
       "      <td>1980s</td>\n",
       "      <td>Electronic</td>\n",
       "      <td>['Fmaj7', 'G', 'Fmaj7', 'G', 'Fmaj7', 'Am', 'C...</td>\n",
       "      <td>9e67024e-c9a4-4f4d-b43b-e50a4a27f6ac</td>\n",
       "      <td>Tears For Fears</td>\n",
       "    </tr>\n",
       "    <tr>\n",
       "      <td>4985</td>\n",
       "      <td>https://tabs.ultimate-guitar.com/tab/gipsy-kin...</td>\n",
       "      <td>Petite Noya</td>\n",
       "      <td>2000s</td>\n",
       "      <td>World Music</td>\n",
       "      <td>['E', 'E', 'B7', 'E', 'B7', 'E', 'B7', 'E', 'B...</td>\n",
       "      <td>6048fd55-2153-4db0-9de4-7793fffd9168</td>\n",
       "      <td>Gipsy Kings</td>\n",
       "    </tr>\n",
       "    <tr>\n",
       "      <td>14030</td>\n",
       "      <td>https://tabs.ultimate-guitar.com/tab/xavier_ru...</td>\n",
       "      <td>Spirit Bird</td>\n",
       "      <td>2010s</td>\n",
       "      <td>Folk</td>\n",
       "      <td>['F', 'Am', 'C', 'G', 'F', 'Am', 'C', 'G', 'F'...</td>\n",
       "      <td>97390e3b-f377-484b-a4fe-2c9c12e8f488</td>\n",
       "      <td>Xavier Rudd</td>\n",
       "    </tr>\n",
       "    <tr>\n",
       "      <td>903</td>\n",
       "      <td>https://tabs.ultimate-guitar.com/tab/articolo_...</td>\n",
       "      <td>La Mia Ragazza Mena</td>\n",
       "      <td>2000s</td>\n",
       "      <td>Hip Hop%%Hip Hop</td>\n",
       "      <td>['A', 'D', 'F#m', 'E', 'A', 'D', 'F#m', 'E', '...</td>\n",
       "      <td>a7131588-fb31-4619-b51c-e279956a5482</td>\n",
       "      <td>Articolo 31</td>\n",
       "    </tr>\n",
       "    <tr>\n",
       "      <td>8546</td>\n",
       "      <td>https://tabs.ultimate-guitar.com/tab/metallica...</td>\n",
       "      <td>Nothing Else Matters (ver 3)</td>\n",
       "      <td>1990s</td>\n",
       "      <td>Metal</td>\n",
       "      <td>['Em', 'Em', 'Em', 'Am', 'C', 'D', 'Em', 'Em',...</td>\n",
       "      <td>3ed1a910-a32d-4277-9b0f-ea2a4b90d23f</td>\n",
       "      <td>Metallica</td>\n",
       "    </tr>\n",
       "  </tbody>\n",
       "</table>\n",
       "</div>"
      ],
      "text/plain": [
       "                                                     url  \\\n",
       "1205   https://tabs.ultimate-guitar.com/tab/belle_and...   \n",
       "9183   https://tabs.ultimate-guitar.com/tab/nicki-min...   \n",
       "13070  https://tabs.ultimate-guitar.com/tab/tom_waits...   \n",
       "3386   https://tabs.ultimate-guitar.com/tab/dr-feelgo...   \n",
       "6068   https://tabs.ultimate-guitar.com/tab/jesse-coo...   \n",
       "11861  https://tabs.ultimate-guitar.com/tab/tears_for...   \n",
       "4985   https://tabs.ultimate-guitar.com/tab/gipsy-kin...   \n",
       "14030  https://tabs.ultimate-guitar.com/tab/xavier_ru...   \n",
       "903    https://tabs.ultimate-guitar.com/tab/articolo_...   \n",
       "8546   https://tabs.ultimate-guitar.com/tab/metallica...   \n",
       "\n",
       "                               name decade                 genre  \\\n",
       "1205              Another Sunny Day  2000s                   Pop   \n",
       "9183                  Roman Holiday  2010s               Hip Hop   \n",
       "13070            San Diego Serenade  1970s                 Blues   \n",
       "3386                      Tanqueray  1990s                 Blues   \n",
       "6068              Fall At Your Feet  2000s  World Music%%New Age   \n",
       "11861                  Pale Shelter  1980s            Electronic   \n",
       "4985                    Petite Noya  2000s           World Music   \n",
       "14030                   Spirit Bird  2010s                  Folk   \n",
       "903             La Mia Ragazza Mena  2000s      Hip Hop%%Hip Hop   \n",
       "8546   Nothing Else Matters (ver 3)  1990s                 Metal   \n",
       "\n",
       "                                                  chords  \\\n",
       "1205   ['E', 'B', 'F#m', 'C#m', 'A', 'E', 'B', 'E', '...   \n",
       "9183   ['Em', 'C', 'G', 'D', 'Em', 'C', 'G', 'D', 'Em...   \n",
       "13070  ['Db', 'Gb', 'Abm7', 'Db', 'Bbm7', 'Eb', 'Db',...   \n",
       "3386   ['E7', 'A7', 'E7', 'A7', 'E7', 'B7', 'A7', 'E7...   \n",
       "6068   ['Cm', 'Eb', 'Ab', 'G', 'Cm', 'Eb', 'Ab', 'G',...   \n",
       "11861  ['Fmaj7', 'G', 'Fmaj7', 'G', 'Fmaj7', 'Am', 'C...   \n",
       "4985   ['E', 'E', 'B7', 'E', 'B7', 'E', 'B7', 'E', 'B...   \n",
       "14030  ['F', 'Am', 'C', 'G', 'F', 'Am', 'C', 'G', 'F'...   \n",
       "903    ['A', 'D', 'F#m', 'E', 'A', 'D', 'F#m', 'E', '...   \n",
       "8546   ['Em', 'Em', 'Em', 'Am', 'C', 'D', 'Em', 'Em',...   \n",
       "\n",
       "                                       uuid               artist  \n",
       "1205   56da25d3-75c1-42e3-9b33-f12e113aa3c5  Belle And Sebastian  \n",
       "9183   3c225047-d93f-4316-b9ea-5ccd9ce5beb9          Nicki Minaj  \n",
       "13070  b7fb4e45-4fa1-4dc5-ac63-f1d6001569ef            Tom Waits  \n",
       "3386   9fd35596-bcb9-48dd-8fc7-0f39a7b891b7          Dr Feelgood  \n",
       "6068   188f36c5-b739-4c92-8d75-b50964d22ba7           Jesse Cook  \n",
       "11861  9e67024e-c9a4-4f4d-b43b-e50a4a27f6ac      Tears For Fears  \n",
       "4985   6048fd55-2153-4db0-9de4-7793fffd9168          Gipsy Kings  \n",
       "14030  97390e3b-f377-484b-a4fe-2c9c12e8f488          Xavier Rudd  \n",
       "903    a7131588-fb31-4619-b51c-e279956a5482          Articolo 31  \n",
       "8546   3ed1a910-a32d-4277-9b0f-ea2a4b90d23f            Metallica  "
      ]
     },
     "execution_count": 6,
     "metadata": {},
     "output_type": "execute_result"
    }
   ],
   "source": [
    "df.sample(10)"
   ]
  },
  {
   "cell_type": "markdown",
   "metadata": {},
   "source": [
    "## Extract decade as numeric "
   ]
  },
  {
   "cell_type": "code",
   "execution_count": 7,
   "metadata": {},
   "outputs": [
    {
     "data": {
      "text/plain": [
       "array(['1980s', '2000s', '2010s', '1990s', '1960s', '1970s', '1950s'],\n",
       "      dtype=object)"
      ]
     },
     "execution_count": 7,
     "metadata": {},
     "output_type": "execute_result"
    }
   ],
   "source": [
    "df['decade'].unique()"
   ]
  },
  {
   "cell_type": "code",
   "execution_count": 8,
   "metadata": {},
   "outputs": [],
   "source": [
    "df['decade'] = df['decade'].apply(feature_extractor.extract_numeric_decade)"
   ]
  },
  {
   "cell_type": "code",
   "execution_count": 9,
   "metadata": {},
   "outputs": [
    {
     "data": {
      "text/plain": [
       "array([1980, 2000, 2010, 1990, 1960, 1970, 1950])"
      ]
     },
     "execution_count": 9,
     "metadata": {},
     "output_type": "execute_result"
    }
   ],
   "source": [
    "df['decade'].unique()"
   ]
  },
  {
   "cell_type": "markdown",
   "metadata": {},
   "source": [
    "## Genre (to be improved) "
   ]
  },
  {
   "cell_type": "code",
   "execution_count": 26,
   "metadata": {},
   "outputs": [
    {
     "data": {
      "text/plain": [
       "array(['Folk', 'Folk%%Pop', 'Electronic', 'Classical%%Pop',\n",
       "       'Electronic%%Pop', 'Jazz', 'Pop', 'Rock',\n",
       "       'Contemporary R&b%%Rhythm And Blues', 'Rhythm And Blues',\n",
       "       'World Music', 'Reggae', 'Metal', 'Hip Hop', 'Jazz%%Pop',\n",
       "       'Hip Hop%%Rhythm And Blues', 'Jazz%%World Music', 'Disco',\n",
       "       'Folk%%Jazz', 'Contemporary R&b', 'Electronic%%Rock',\n",
       "       'Electronic%%Pop%%Rock', 'Disco%%Pop', 'Pop%%Rhythm And Blues',\n",
       "       'Pop%%Rock', 'Contemporary R&b%%Hip Hop',\n",
       "       'Religious Music%%Rhythm And Blues', 'Country', 'Folk%%Rock',\n",
       "       'Blues', 'Contemporary R&b%%Electronic',\n",
       "       'Electronic%%Rhythm And Blues', 'Folk%%Religious Music',\n",
       "       'Religious Music', 'Pop%%Religious Music',\n",
       "       'Jazz%%Rhythm And Blues', 'Contemporary R&b%%Pop', 'Metal%%Rock',\n",
       "       'Darkwave', 'Blues%%Rock', 'Disco%%Pop%%Rock',\n",
       "       'Folk%%Rhythm And Blues', 'Folk%%Pop%%Rock',\n",
       "       'Disco%%Rhythm And Blues', 'Blues%%Rhythm And Blues',\n",
       "       'Rhythm And Blues%%Rock', 'Country%%Folk%%Rock', 'Country%%Folk',\n",
       "       'Country%%Folk%%Pop', 'Country%%Folk%%Pop%%Rock',\n",
       "       'Country%%Rhythm And Blues',\n",
       "       'Country%%Folk%%Pop%%Rhythm And Blues', 'Religious Music%%Rock',\n",
       "       'Contemporary R&b%%Rock', 'Contemporary R&b%%Electronic%%Pop',\n",
       "       'Country%%Rock', 'Contemporary R&b%%Pop%%Rhythm And Blues',\n",
       "       'Soundtrack', 'Contemporary R&b%%Folk%%Rhythm And Blues',\n",
       "       'Classical', 'Electronic%%Religious Music',\n",
       "       'Hip Hop%%Religious Music', 'Electronic%%Folk',\n",
       "       'Darkwave%%Electronic', 'New Age', 'Blues%%Pop%%Rock',\n",
       "       'Blues%%Pop', 'Pop%%Reggae', 'Blues%%Folk',\n",
       "       'Pop%%Rhythm And Blues%%Rock', 'Country%%Rhythm And Blues%%Rock',\n",
       "       'Blues%%Rhythm And Blues%%Rock', 'Electronic%%Hip Hop',\n",
       "       'Contemporary R&b%%Hip Hop%%Pop', 'Comedy', 'Classical%%Jazz',\n",
       "       'Blues%%Metal', 'Folk%%Jazz%%Pop', 'Country%%Pop',\n",
       "       'Classical%%Folk', 'Classical%%Country%%Folk', 'Folk%%World Music',\n",
       "       'Electronic%%Religious Music%%Rock', 'Electronic%%Folk%%Pop%%Rock',\n",
       "       'Experimental', 'Classical%%Soundtrack', 'New Age%%World Music',\n",
       "       'Contemporary R&b%%Electronic%%Rhythm And Blues',\n",
       "       'Comedy%%Hip Hop', 'Contemporary R&b%%Pop%%Rock',\n",
       "       'Electronic%%Experimental', 'Blues%%Religious Music',\n",
       "       'Electronic%%Metal', 'Electronic%%Metal%%Rock',\n",
       "       'Country%%Pop%%Rhythm And Blues', 'Jazz%%Pop%%Rhythm And Blues',\n",
       "       'Contemporary R&b%%Jazz%%Rhythm And Blues', 'Electronic%%Reggae',\n",
       "       'Contemporary R&b%%Disco', 'Contemporary R&b%%Disco%%Pop',\n",
       "       'Contemporary R&b%%Disco%%Pop%%Rock', 'Pop%%Religious Music%%Rock',\n",
       "       'Blues%%Jazz', 'Contemporary R&b%%Jazz', 'Reggae%%Rock',\n",
       "       'Electronic%%World Music', 'Country%%Jazz%%Rhythm And Blues',\n",
       "       'Country%%Jazz', 'Contemporary R&b%%Reggae',\n",
       "       'Contemporary R&b%%Pop%%Reggae', 'Hip Hop%%Reggae',\n",
       "       'Pop%%World Music', 'Blues%%Country', 'Country%%Pop%%Rock',\n",
       "       'Reggae%%Rhythm And Blues', 'Electronic%%Reggae%%Rhythm And Blues',\n",
       "       'Folk%%Pop%%World Music', 'Electronic%%Pop%%Rhythm And Blues',\n",
       "       'Hip Hop%%Rock', 'Metal%%Pop%%Rock',\n",
       "       'Folk%%Rhythm And Blues%%Rock', 'Folk%%Jazz%%Rhythm And Blues',\n",
       "       'Folk%%Jazz%%Rhythm And Blues%%Rock',\n",
       "       'Blues%%Jazz%%Rhythm And Blues', 'Blues%%Country%%Jazz',\n",
       "       'Contemporary R&b%%Hip Hop%%Reggae'], dtype=object)"
      ]
     },
     "execution_count": 26,
     "metadata": {},
     "output_type": "execute_result"
    }
   ],
   "source": [
    "def remove_duplicate_genre_inside_cell(value):\n",
    "    unique_genres = list(set(value.split('%%')))\n",
    "    unique_genres.sort(key=str.lower)\n",
    "    return '%%'.join(unique_genres)\n",
    "    \n",
    "\n",
    "df['genre'].apply(remove_duplicate_genre_inside_cell).unique()"
   ]
  },
  {
   "cell_type": "code",
   "execution_count": null,
   "metadata": {},
   "outputs": [],
   "source": []
  }
 ],
 "metadata": {
  "kernelspec": {
   "display_name": "Python 3",
   "language": "python",
   "name": "python3"
  },
  "language_info": {
   "codemirror_mode": {
    "name": "ipython",
    "version": 3
   },
   "file_extension": ".py",
   "mimetype": "text/x-python",
   "name": "python",
   "nbconvert_exporter": "python",
   "pygments_lexer": "ipython3",
   "version": "3.7.4"
  },
  "toc": {
   "base_numbering": 1,
   "nav_menu": {},
   "number_sections": true,
   "sideBar": true,
   "skip_h1_title": false,
   "title_cell": "Table of Contents",
   "title_sidebar": "Contents",
   "toc_cell": false,
   "toc_position": {},
   "toc_section_display": true,
   "toc_window_display": false
  }
 },
 "nbformat": 4,
 "nbformat_minor": 2
}
