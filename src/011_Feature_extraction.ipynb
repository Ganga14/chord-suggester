{
 "cells": [
  {
   "cell_type": "markdown",
   "metadata": {},
   "source": [
    "## Feature extraction "
   ]
  },
  {
   "cell_type": "code",
   "execution_count": 1,
   "metadata": {},
   "outputs": [],
   "source": [
    "from jl_song_data import SongData \n",
    "import pandas as pd"
   ]
  },
  {
   "cell_type": "code",
   "execution_count": 2,
   "metadata": {},
   "outputs": [],
   "source": [
    "data = SongData('../data/chords_clean_1_2_3_4_5_6.csv')"
   ]
  },
  {
   "cell_type": "code",
   "execution_count": 3,
   "metadata": {},
   "outputs": [],
   "source": [
    "df = data.df"
   ]
  },
  {
   "cell_type": "code",
   "execution_count": 4,
   "metadata": {},
   "outputs": [],
   "source": [
    "from jl_feature_extractor import FeatureExtractor    \n",
    "\n",
    "feature_extractor = FeatureExtractor()"
   ]
  },
  {
   "cell_type": "markdown",
   "metadata": {},
   "source": [
    "## Remove non valid chords "
   ]
  },
  {
   "cell_type": "markdown",
   "metadata": {},
   "source": [
    "This `eval` is to convert string column to array colum"
   ]
  },
  {
   "cell_type": "code",
   "execution_count": 5,
   "metadata": {},
   "outputs": [],
   "source": [
    "df['chords'] = df['chords'].apply(eval)"
   ]
  },
  {
   "cell_type": "code",
   "execution_count": 6,
   "metadata": {},
   "outputs": [],
   "source": [
    "from jl_chord_parser import ChordParser\n",
    "parser = ChordParser()"
   ]
  },
  {
   "cell_type": "markdown",
   "metadata": {},
   "source": [
    "Parse returns `None` if chord is not valid"
   ]
  },
  {
   "cell_type": "code",
   "execution_count": 7,
   "metadata": {},
   "outputs": [],
   "source": [
    "df['chords'] = \\\n",
    "    df['chords'].apply(\\\n",
    "        lambda chords: [chord for chord in chords if parser.parse(chord) is not None] )\\\n"
   ]
  },
  {
   "cell_type": "markdown",
   "metadata": {},
   "source": [
    "##  Extract artist "
   ]
  },
  {
   "cell_type": "code",
   "execution_count": 8,
   "metadata": {},
   "outputs": [],
   "source": [
    "df['artist'] = df['url'].apply(feature_extractor.extract_pretty_artist)"
   ]
  },
  {
   "cell_type": "code",
   "execution_count": 9,
   "metadata": {},
   "outputs": [
    {
     "data": {
      "text/html": [
       "<div>\n",
       "<style scoped>\n",
       "    .dataframe tbody tr th:only-of-type {\n",
       "        vertical-align: middle;\n",
       "    }\n",
       "\n",
       "    .dataframe tbody tr th {\n",
       "        vertical-align: top;\n",
       "    }\n",
       "\n",
       "    .dataframe thead th {\n",
       "        text-align: right;\n",
       "    }\n",
       "</style>\n",
       "<table border=\"1\" class=\"dataframe\">\n",
       "  <thead>\n",
       "    <tr style=\"text-align: right;\">\n",
       "      <th></th>\n",
       "      <th>url</th>\n",
       "      <th>name</th>\n",
       "      <th>decade</th>\n",
       "      <th>genre</th>\n",
       "      <th>chords</th>\n",
       "      <th>uuid</th>\n",
       "      <th>artist</th>\n",
       "    </tr>\n",
       "  </thead>\n",
       "  <tbody>\n",
       "    <tr>\n",
       "      <td>11691</td>\n",
       "      <td>https://tabs.ultimate-guitar.com/tab/system_of...</td>\n",
       "      <td>Chop Suey (ver 2)</td>\n",
       "      <td>2000s</td>\n",
       "      <td>Metal</td>\n",
       "      <td>[Gm, Am, F, Eb, Gm, F, Eb, Gm, F#, A, C, Gm, G...</td>\n",
       "      <td>7a749796-bf9d-4959-8a1a-8a713ff8921c</td>\n",
       "      <td>System Of A Down</td>\n",
       "    </tr>\n",
       "    <tr>\n",
       "      <td>3467</td>\n",
       "      <td>https://tabs.ultimate-guitar.com/tab/dusty-spr...</td>\n",
       "      <td>I Only Want To Be With You (ver 2)</td>\n",
       "      <td>1960s</td>\n",
       "      <td>Rhythm And Blues</td>\n",
       "      <td>[G, C, D, G, Em, G, Em, C, D, C, D, G, Em, C, ...</td>\n",
       "      <td>632cd72d-3b9e-4833-994a-c69041c09761</td>\n",
       "      <td>Dusty Springfield</td>\n",
       "    </tr>\n",
       "    <tr>\n",
       "      <td>10272</td>\n",
       "      <td>https://tabs.ultimate-guitar.com/tab/reba-mcen...</td>\n",
       "      <td>Whoevers In New England</td>\n",
       "      <td>1980s</td>\n",
       "      <td>Country</td>\n",
       "      <td>[F#, Abm, B, C#, F#, A#m, B, Ebm, Abm, Db, F#,...</td>\n",
       "      <td>f1cd5ff1-42e1-4907-843d-1e2a03e93552</td>\n",
       "      <td>Reba Mcentire</td>\n",
       "    </tr>\n",
       "    <tr>\n",
       "      <td>12620</td>\n",
       "      <td>https://tabs.ultimate-guitar.com/tab/the_platt...</td>\n",
       "      <td>Twilight Time (ver 2)</td>\n",
       "      <td>1950s</td>\n",
       "      <td>Rhythm And Blues%%Rhythm And Blues</td>\n",
       "      <td>[G, B7, Em, G, C, G, E, A7, D7, G, G, B7, Em, ...</td>\n",
       "      <td>cc46f7d1-f50e-48f9-9a7a-e956bfcb0485</td>\n",
       "      <td>The Platters</td>\n",
       "    </tr>\n",
       "    <tr>\n",
       "      <td>5261</td>\n",
       "      <td>https://tabs.ultimate-guitar.com/tab/hall-oate...</td>\n",
       "      <td>Kiss On My List (ver 5)</td>\n",
       "      <td>1980s</td>\n",
       "      <td>Rhythm And Blues</td>\n",
       "      <td>[C, Cmin7, F, C, Cmin7, Fmin7, Ab, Bb, C, Cmin...</td>\n",
       "      <td>c2b2242f-ca20-4ad4-b16a-47685500b7ce</td>\n",
       "      <td>Hall Oates</td>\n",
       "    </tr>\n",
       "    <tr>\n",
       "      <td>4230</td>\n",
       "      <td>https://tabs.ultimate-guitar.com/tab/eva-cassi...</td>\n",
       "      <td>Songbird</td>\n",
       "      <td>1990s</td>\n",
       "      <td>Jazz</td>\n",
       "      <td>[G, C9, C9, G, Am, Bm, C9, G, D, F#m, Em, C9, ...</td>\n",
       "      <td>b639c540-2460-406b-b48c-42f3946c1230</td>\n",
       "      <td>Eva Cassidy</td>\n",
       "    </tr>\n",
       "    <tr>\n",
       "      <td>6318</td>\n",
       "      <td>https://tabs.ultimate-guitar.com/tab/john-denv...</td>\n",
       "      <td>Perhaps Love</td>\n",
       "      <td>1980s</td>\n",
       "      <td>Country%%Pop</td>\n",
       "      <td>[G, Bm, C, D, G, Am, C, D, Em, Bm, C, D, C, D,...</td>\n",
       "      <td>82a3cf80-e65b-4ef4-94c7-5f8cc38ae9c0</td>\n",
       "      <td>John Denver</td>\n",
       "    </tr>\n",
       "    <tr>\n",
       "      <td>13555</td>\n",
       "      <td>https://tabs.ultimate-guitar.com/tab/van_morri...</td>\n",
       "      <td>Too Long In Exile</td>\n",
       "      <td>1990s</td>\n",
       "      <td>Blues%%Rhythm And Blues%%Rhythm And Blues</td>\n",
       "      <td>[D, A, E, B, A, E, B, A, E]</td>\n",
       "      <td>735e923e-59ba-4919-9825-aa076f259cf7</td>\n",
       "      <td>Van Morrison</td>\n",
       "    </tr>\n",
       "    <tr>\n",
       "      <td>14052</td>\n",
       "      <td>https://tabs.ultimate-guitar.com/tab/yelawolf/...</td>\n",
       "      <td>Tennessee Love</td>\n",
       "      <td>2010s</td>\n",
       "      <td>Hip Hop</td>\n",
       "      <td>[G, Bb, Eb, F, G, F, Eb, F, G, Bb, Eb, F, G, F...</td>\n",
       "      <td>e0178ca4-07a8-490c-a78b-7affbc565081</td>\n",
       "      <td>Yelawolf</td>\n",
       "    </tr>\n",
       "    <tr>\n",
       "      <td>10887</td>\n",
       "      <td>https://tabs.ultimate-guitar.com/tab/sean_king...</td>\n",
       "      <td>Take You There</td>\n",
       "      <td>2000s</td>\n",
       "      <td>Reggae</td>\n",
       "      <td>[Em, G, C, D, Em, G, C, D, Em, G, C, D, Em, G,...</td>\n",
       "      <td>a74a98c3-29ab-4ff8-a04d-0348af3ccee4</td>\n",
       "      <td>Sean Kingston</td>\n",
       "    </tr>\n",
       "  </tbody>\n",
       "</table>\n",
       "</div>"
      ],
      "text/plain": [
       "                                                     url  \\\n",
       "11691  https://tabs.ultimate-guitar.com/tab/system_of...   \n",
       "3467   https://tabs.ultimate-guitar.com/tab/dusty-spr...   \n",
       "10272  https://tabs.ultimate-guitar.com/tab/reba-mcen...   \n",
       "12620  https://tabs.ultimate-guitar.com/tab/the_platt...   \n",
       "5261   https://tabs.ultimate-guitar.com/tab/hall-oate...   \n",
       "4230   https://tabs.ultimate-guitar.com/tab/eva-cassi...   \n",
       "6318   https://tabs.ultimate-guitar.com/tab/john-denv...   \n",
       "13555  https://tabs.ultimate-guitar.com/tab/van_morri...   \n",
       "14052  https://tabs.ultimate-guitar.com/tab/yelawolf/...   \n",
       "10887  https://tabs.ultimate-guitar.com/tab/sean_king...   \n",
       "\n",
       "                                     name decade  \\\n",
       "11691                   Chop Suey (ver 2)  2000s   \n",
       "3467   I Only Want To Be With You (ver 2)  1960s   \n",
       "10272             Whoevers In New England  1980s   \n",
       "12620               Twilight Time (ver 2)  1950s   \n",
       "5261              Kiss On My List (ver 5)  1980s   \n",
       "4230                             Songbird  1990s   \n",
       "6318                         Perhaps Love  1980s   \n",
       "13555                   Too Long In Exile  1990s   \n",
       "14052                      Tennessee Love  2010s   \n",
       "10887                      Take You There  2000s   \n",
       "\n",
       "                                           genre  \\\n",
       "11691                                      Metal   \n",
       "3467                            Rhythm And Blues   \n",
       "10272                                    Country   \n",
       "12620         Rhythm And Blues%%Rhythm And Blues   \n",
       "5261                            Rhythm And Blues   \n",
       "4230                                        Jazz   \n",
       "6318                                Country%%Pop   \n",
       "13555  Blues%%Rhythm And Blues%%Rhythm And Blues   \n",
       "14052                                    Hip Hop   \n",
       "10887                                     Reggae   \n",
       "\n",
       "                                                  chords  \\\n",
       "11691  [Gm, Am, F, Eb, Gm, F, Eb, Gm, F#, A, C, Gm, G...   \n",
       "3467   [G, C, D, G, Em, G, Em, C, D, C, D, G, Em, C, ...   \n",
       "10272  [F#, Abm, B, C#, F#, A#m, B, Ebm, Abm, Db, F#,...   \n",
       "12620  [G, B7, Em, G, C, G, E, A7, D7, G, G, B7, Em, ...   \n",
       "5261   [C, Cmin7, F, C, Cmin7, Fmin7, Ab, Bb, C, Cmin...   \n",
       "4230   [G, C9, C9, G, Am, Bm, C9, G, D, F#m, Em, C9, ...   \n",
       "6318   [G, Bm, C, D, G, Am, C, D, Em, Bm, C, D, C, D,...   \n",
       "13555                        [D, A, E, B, A, E, B, A, E]   \n",
       "14052  [G, Bb, Eb, F, G, F, Eb, F, G, Bb, Eb, F, G, F...   \n",
       "10887  [Em, G, C, D, Em, G, C, D, Em, G, C, D, Em, G,...   \n",
       "\n",
       "                                       uuid             artist  \n",
       "11691  7a749796-bf9d-4959-8a1a-8a713ff8921c   System Of A Down  \n",
       "3467   632cd72d-3b9e-4833-994a-c69041c09761  Dusty Springfield  \n",
       "10272  f1cd5ff1-42e1-4907-843d-1e2a03e93552      Reba Mcentire  \n",
       "12620  cc46f7d1-f50e-48f9-9a7a-e956bfcb0485       The Platters  \n",
       "5261   c2b2242f-ca20-4ad4-b16a-47685500b7ce         Hall Oates  \n",
       "4230   b639c540-2460-406b-b48c-42f3946c1230        Eva Cassidy  \n",
       "6318   82a3cf80-e65b-4ef4-94c7-5f8cc38ae9c0        John Denver  \n",
       "13555  735e923e-59ba-4919-9825-aa076f259cf7       Van Morrison  \n",
       "14052  e0178ca4-07a8-490c-a78b-7affbc565081           Yelawolf  \n",
       "10887  a74a98c3-29ab-4ff8-a04d-0348af3ccee4      Sean Kingston  "
      ]
     },
     "execution_count": 9,
     "metadata": {},
     "output_type": "execute_result"
    }
   ],
   "source": [
    "df.sample(10)"
   ]
  },
  {
   "cell_type": "markdown",
   "metadata": {},
   "source": [
    "## Extract decade as numeric "
   ]
  },
  {
   "cell_type": "code",
   "execution_count": 10,
   "metadata": {},
   "outputs": [
    {
     "data": {
      "text/plain": [
       "array(['1980s', '2000s', '2010s', '1990s', '1960s', '1970s', '1950s'],\n",
       "      dtype=object)"
      ]
     },
     "execution_count": 10,
     "metadata": {},
     "output_type": "execute_result"
    }
   ],
   "source": [
    "df['decade'].unique()"
   ]
  },
  {
   "cell_type": "code",
   "execution_count": 11,
   "metadata": {},
   "outputs": [],
   "source": [
    "df['decade'] = df['decade'].apply(feature_extractor.extract_numeric_decade)"
   ]
  },
  {
   "cell_type": "code",
   "execution_count": 12,
   "metadata": {},
   "outputs": [
    {
     "data": {
      "text/plain": [
       "array([1980, 2000, 2010, 1990, 1960, 1970, 1950])"
      ]
     },
     "execution_count": 12,
     "metadata": {},
     "output_type": "execute_result"
    }
   ],
   "source": [
    "df['decade'].unique()"
   ]
  },
  {
   "cell_type": "markdown",
   "metadata": {},
   "source": [
    "## Harmonics features "
   ]
  },
  {
   "cell_type": "markdown",
   "metadata": {},
   "source": [
    "We are going to extract all the harmonic features, i.e. related to chords. "
   ]
  },
  {
   "cell_type": "markdown",
   "metadata": {},
   "source": [
    "### Cardinality (number of chords) "
   ]
  },
  {
   "cell_type": "code",
   "execution_count": 13,
   "metadata": {},
   "outputs": [],
   "source": [
    "df['cardinality'] = df['chords'].apply(feature_extractor.extract_cardinality)"
   ]
  },
  {
   "cell_type": "code",
   "execution_count": 14,
   "metadata": {},
   "outputs": [
    {
     "data": {
      "text/html": [
       "<div>\n",
       "<style scoped>\n",
       "    .dataframe tbody tr th:only-of-type {\n",
       "        vertical-align: middle;\n",
       "    }\n",
       "\n",
       "    .dataframe tbody tr th {\n",
       "        vertical-align: top;\n",
       "    }\n",
       "\n",
       "    .dataframe thead th {\n",
       "        text-align: right;\n",
       "    }\n",
       "</style>\n",
       "<table border=\"1\" class=\"dataframe\">\n",
       "  <thead>\n",
       "    <tr style=\"text-align: right;\">\n",
       "      <th></th>\n",
       "      <th>url</th>\n",
       "      <th>name</th>\n",
       "      <th>decade</th>\n",
       "      <th>genre</th>\n",
       "      <th>chords</th>\n",
       "      <th>uuid</th>\n",
       "      <th>artist</th>\n",
       "      <th>cardinality</th>\n",
       "    </tr>\n",
       "  </thead>\n",
       "  <tbody>\n",
       "    <tr>\n",
       "      <td>3992</td>\n",
       "      <td>https://tabs.ultimate-guitar.com/tab/emmylou-h...</td>\n",
       "      <td>Red Dirt Girl (ver 2)</td>\n",
       "      <td>2000</td>\n",
       "      <td>Country</td>\n",
       "      <td>[G, G, G, C, G, D, C, G, G, D, C, G, G, C, G, ...</td>\n",
       "      <td>5a6c519a-1ebe-46e2-9e57-bba05c615885</td>\n",
       "      <td>Emmylou Harris</td>\n",
       "      <td>61</td>\n",
       "    </tr>\n",
       "    <tr>\n",
       "      <td>8252</td>\n",
       "      <td>https://tabs.ultimate-guitar.com/tab/mark-knop...</td>\n",
       "      <td>Our Shangri-La</td>\n",
       "      <td>2000</td>\n",
       "      <td>Country%%Country</td>\n",
       "      <td>[E, F#m, A, E, E, F#m, A, E, B, E, F#m, A, E, ...</td>\n",
       "      <td>265e469a-6dcd-410f-8f1e-b899600a5e20</td>\n",
       "      <td>Mark Knopfler</td>\n",
       "      <td>59</td>\n",
       "    </tr>\n",
       "    <tr>\n",
       "      <td>8201</td>\n",
       "      <td>https://tabs.ultimate-guitar.com/tab/mariah-ca...</td>\n",
       "      <td>Fantasy</td>\n",
       "      <td>1990</td>\n",
       "      <td>Contemporary R&amp;b%%Pop</td>\n",
       "      <td>[G, Em, G, Em, G, Em, G, Em, G, Em, Em, G, Em,...</td>\n",
       "      <td>c2622a8a-ad60-44e0-ba9d-6071fcbf1fd2</td>\n",
       "      <td>Mariah Carey</td>\n",
       "      <td>55</td>\n",
       "    </tr>\n",
       "    <tr>\n",
       "      <td>11918</td>\n",
       "      <td>https://tabs.ultimate-guitar.com/tab/the_anima...</td>\n",
       "      <td>Let The Good Times Roll</td>\n",
       "      <td>1960</td>\n",
       "      <td>Blues</td>\n",
       "      <td>[G, G, D, G, C, G, D, G, C, G, A, D, G, G, D, ...</td>\n",
       "      <td>690c6705-f7bd-420d-9db8-96c06b3eea41</td>\n",
       "      <td>The Animals</td>\n",
       "      <td>33</td>\n",
       "    </tr>\n",
       "    <tr>\n",
       "      <td>7668</td>\n",
       "      <td>https://tabs.ultimate-guitar.com/tab/linkin-pa...</td>\n",
       "      <td>Shadow Of The Day (ver 5)</td>\n",
       "      <td>2000</td>\n",
       "      <td>Rock</td>\n",
       "      <td>[G, Am, Em, C, G, Am, Em, C, G, Am, Em, C, G, ...</td>\n",
       "      <td>3c8b61bb-8eb1-4f1f-a760-97be00f8f575</td>\n",
       "      <td>Linkin Park</td>\n",
       "      <td>64</td>\n",
       "    </tr>\n",
       "    <tr>\n",
       "      <td>10237</td>\n",
       "      <td>https://tabs.ultimate-guitar.com/tab/ray-charl...</td>\n",
       "      <td>Hallelujah I Love Her So</td>\n",
       "      <td>1950</td>\n",
       "      <td>Rhythm And Blues%%Jazz</td>\n",
       "      <td>[F, F/A, Bb, C7+5, F, F/A, Bb, C11, F13, Bb9, ...</td>\n",
       "      <td>1780a22c-43d7-4d12-b38b-fb69398c023f</td>\n",
       "      <td>Ray Charles</td>\n",
       "      <td>98</td>\n",
       "    </tr>\n",
       "    <tr>\n",
       "      <td>10197</td>\n",
       "      <td>https://tabs.ultimate-guitar.com/tab/randy-tra...</td>\n",
       "      <td>On The Other Hand (ver 3)</td>\n",
       "      <td>1980</td>\n",
       "      <td>Country</td>\n",
       "      <td>[G, C, G, D7, G, C, A, D7, C, G, D7, G, C, G, ...</td>\n",
       "      <td>84b7a90a-f318-4fe2-bdf7-eadbe94695b3</td>\n",
       "      <td>Randy Travis</td>\n",
       "      <td>32</td>\n",
       "    </tr>\n",
       "    <tr>\n",
       "      <td>10848</td>\n",
       "      <td>https://tabs.ultimate-guitar.com/tab/seal/craz...</td>\n",
       "      <td>Crazy (ver 4)</td>\n",
       "      <td>1990</td>\n",
       "      <td>Rhythm And Blues%%Rhythm And Blues</td>\n",
       "      <td>[Em, G, A, Em, G, A, Em, G, A, Em, G, A, Em, G...</td>\n",
       "      <td>42b066f9-1ea2-4556-8865-7f4ccf460199</td>\n",
       "      <td>Seal</td>\n",
       "      <td>63</td>\n",
       "    </tr>\n",
       "    <tr>\n",
       "      <td>2507</td>\n",
       "      <td>https://tabs.ultimate-guitar.com/tab/chuck-ber...</td>\n",
       "      <td>Too Much Monkey Business</td>\n",
       "      <td>1950</td>\n",
       "      <td>Rhythm And Blues</td>\n",
       "      <td>[E, E, A, E, B7, A, E, B7, E, A, E, B7, A, E, ...</td>\n",
       "      <td>81f1b26c-8fcf-45a2-b5d4-83c93b2fecdb</td>\n",
       "      <td>Chuck Berry</td>\n",
       "      <td>57</td>\n",
       "    </tr>\n",
       "    <tr>\n",
       "      <td>356</td>\n",
       "      <td>https://tabs.ultimate-guitar.com/tab/adele/set...</td>\n",
       "      <td>Set Fire To The Rain</td>\n",
       "      <td>2010</td>\n",
       "      <td>Rhythm And Blues%%Pop</td>\n",
       "      <td>[Dm, F, C, Gm, Dm, F, C, Gm, Dm, F, C, C, Dm, ...</td>\n",
       "      <td>bc73191a-e882-4cac-bc8f-dbde19573511</td>\n",
       "      <td>Adele</td>\n",
       "      <td>92</td>\n",
       "    </tr>\n",
       "  </tbody>\n",
       "</table>\n",
       "</div>"
      ],
      "text/plain": [
       "                                                     url  \\\n",
       "3992   https://tabs.ultimate-guitar.com/tab/emmylou-h...   \n",
       "8252   https://tabs.ultimate-guitar.com/tab/mark-knop...   \n",
       "8201   https://tabs.ultimate-guitar.com/tab/mariah-ca...   \n",
       "11918  https://tabs.ultimate-guitar.com/tab/the_anima...   \n",
       "7668   https://tabs.ultimate-guitar.com/tab/linkin-pa...   \n",
       "10237  https://tabs.ultimate-guitar.com/tab/ray-charl...   \n",
       "10197  https://tabs.ultimate-guitar.com/tab/randy-tra...   \n",
       "10848  https://tabs.ultimate-guitar.com/tab/seal/craz...   \n",
       "2507   https://tabs.ultimate-guitar.com/tab/chuck-ber...   \n",
       "356    https://tabs.ultimate-guitar.com/tab/adele/set...   \n",
       "\n",
       "                            name  decade                               genre  \\\n",
       "3992       Red Dirt Girl (ver 2)    2000                             Country   \n",
       "8252              Our Shangri-La    2000                    Country%%Country   \n",
       "8201                     Fantasy    1990               Contemporary R&b%%Pop   \n",
       "11918    Let The Good Times Roll    1960                               Blues   \n",
       "7668   Shadow Of The Day (ver 5)    2000                                Rock   \n",
       "10237   Hallelujah I Love Her So    1950              Rhythm And Blues%%Jazz   \n",
       "10197  On The Other Hand (ver 3)    1980                             Country   \n",
       "10848              Crazy (ver 4)    1990  Rhythm And Blues%%Rhythm And Blues   \n",
       "2507    Too Much Monkey Business    1950                    Rhythm And Blues   \n",
       "356         Set Fire To The Rain    2010               Rhythm And Blues%%Pop   \n",
       "\n",
       "                                                  chords  \\\n",
       "3992   [G, G, G, C, G, D, C, G, G, D, C, G, G, C, G, ...   \n",
       "8252   [E, F#m, A, E, E, F#m, A, E, B, E, F#m, A, E, ...   \n",
       "8201   [G, Em, G, Em, G, Em, G, Em, G, Em, Em, G, Em,...   \n",
       "11918  [G, G, D, G, C, G, D, G, C, G, A, D, G, G, D, ...   \n",
       "7668   [G, Am, Em, C, G, Am, Em, C, G, Am, Em, C, G, ...   \n",
       "10237  [F, F/A, Bb, C7+5, F, F/A, Bb, C11, F13, Bb9, ...   \n",
       "10197  [G, C, G, D7, G, C, A, D7, C, G, D7, G, C, G, ...   \n",
       "10848  [Em, G, A, Em, G, A, Em, G, A, Em, G, A, Em, G...   \n",
       "2507   [E, E, A, E, B7, A, E, B7, E, A, E, B7, A, E, ...   \n",
       "356    [Dm, F, C, Gm, Dm, F, C, Gm, Dm, F, C, C, Dm, ...   \n",
       "\n",
       "                                       uuid          artist  cardinality  \n",
       "3992   5a6c519a-1ebe-46e2-9e57-bba05c615885  Emmylou Harris           61  \n",
       "8252   265e469a-6dcd-410f-8f1e-b899600a5e20   Mark Knopfler           59  \n",
       "8201   c2622a8a-ad60-44e0-ba9d-6071fcbf1fd2    Mariah Carey           55  \n",
       "11918  690c6705-f7bd-420d-9db8-96c06b3eea41     The Animals           33  \n",
       "7668   3c8b61bb-8eb1-4f1f-a760-97be00f8f575     Linkin Park           64  \n",
       "10237  1780a22c-43d7-4d12-b38b-fb69398c023f     Ray Charles           98  \n",
       "10197  84b7a90a-f318-4fe2-bdf7-eadbe94695b3    Randy Travis           32  \n",
       "10848  42b066f9-1ea2-4556-8865-7f4ccf460199            Seal           63  \n",
       "2507   81f1b26c-8fcf-45a2-b5d4-83c93b2fecdb     Chuck Berry           57  \n",
       "356    bc73191a-e882-4cac-bc8f-dbde19573511           Adele           92  "
      ]
     },
     "execution_count": 14,
     "metadata": {},
     "output_type": "execute_result"
    }
   ],
   "source": [
    "df.sample(10)"
   ]
  },
  {
   "cell_type": "code",
   "execution_count": 15,
   "metadata": {},
   "outputs": [
    {
     "data": {
      "text/plain": [
       "count    14114.000000\n",
       "mean        85.521468\n",
       "std         68.705570\n",
       "min          0.000000\n",
       "25%         51.000000\n",
       "50%         77.000000\n",
       "75%        108.000000\n",
       "max       2020.000000\n",
       "Name: cardinality, dtype: float64"
      ]
     },
     "execution_count": 15,
     "metadata": {},
     "output_type": "execute_result"
    }
   ],
   "source": [
    "df['cardinality'].describe()"
   ]
  },
  {
   "cell_type": "code",
   "execution_count": 16,
   "metadata": {},
   "outputs": [
    {
     "data": {
      "text/html": [
       "<div>\n",
       "<style scoped>\n",
       "    .dataframe tbody tr th:only-of-type {\n",
       "        vertical-align: middle;\n",
       "    }\n",
       "\n",
       "    .dataframe tbody tr th {\n",
       "        vertical-align: top;\n",
       "    }\n",
       "\n",
       "    .dataframe thead th {\n",
       "        text-align: right;\n",
       "    }\n",
       "</style>\n",
       "<table border=\"1\" class=\"dataframe\">\n",
       "  <thead>\n",
       "    <tr style=\"text-align: right;\">\n",
       "      <th></th>\n",
       "      <th>url</th>\n",
       "      <th>name</th>\n",
       "      <th>decade</th>\n",
       "      <th>genre</th>\n",
       "      <th>chords</th>\n",
       "      <th>uuid</th>\n",
       "      <th>artist</th>\n",
       "      <th>cardinality</th>\n",
       "    </tr>\n",
       "  </thead>\n",
       "  <tbody>\n",
       "    <tr>\n",
       "      <td>19</td>\n",
       "      <td>https://tabs.ultimate-guitar.com/tab/120815</td>\n",
       "      <td>Balladen Om Herr Fredrik Åkare Och Den Söta Fr...</td>\n",
       "      <td>1960</td>\n",
       "      <td>Jazz</td>\n",
       "      <td>[]</td>\n",
       "      <td>752b3d65-297f-4777-acc4-e9d92e243a72</td>\n",
       "      <td>Unknown</td>\n",
       "      <td>0</td>\n",
       "    </tr>\n",
       "    <tr>\n",
       "      <td>160</td>\n",
       "      <td>https://tabs.ultimate-guitar.com/tab/883/cumul...</td>\n",
       "      <td>Cumuli</td>\n",
       "      <td>1990</td>\n",
       "      <td>Electronic</td>\n",
       "      <td>[]</td>\n",
       "      <td>523bfc79-9f5d-4747-8db3-366bd5d32152</td>\n",
       "      <td>883</td>\n",
       "      <td>0</td>\n",
       "    </tr>\n",
       "    <tr>\n",
       "      <td>163</td>\n",
       "      <td>https://tabs.ultimate-guitar.com/tab/883/rotta...</td>\n",
       "      <td>Rotta X Casa Di Dio</td>\n",
       "      <td>1990</td>\n",
       "      <td>Electronic%%Electronic</td>\n",
       "      <td>[]</td>\n",
       "      <td>8c8a69f6-7027-4816-a91d-d219d87582ca</td>\n",
       "      <td>883</td>\n",
       "      <td>0</td>\n",
       "    </tr>\n",
       "    <tr>\n",
       "      <td>217</td>\n",
       "      <td>https://tabs.ultimate-guitar.com/tab/abba/danc...</td>\n",
       "      <td>Dancing Queen (ver 3)</td>\n",
       "      <td>1970</td>\n",
       "      <td>Pop</td>\n",
       "      <td>[]</td>\n",
       "      <td>044a35a5-3943-49a5-bb6a-e0f5e19776cf</td>\n",
       "      <td>Abba</td>\n",
       "      <td>0</td>\n",
       "    </tr>\n",
       "    <tr>\n",
       "      <td>218</td>\n",
       "      <td>https://tabs.ultimate-guitar.com/tab/abba/danc...</td>\n",
       "      <td>Dancing Queen (ver 4)</td>\n",
       "      <td>1970</td>\n",
       "      <td>Pop%%Pop%%Pop</td>\n",
       "      <td>[]</td>\n",
       "      <td>bb8e839f-0d3f-40b6-9ee3-5fd4aa0301e1</td>\n",
       "      <td>Abba</td>\n",
       "      <td>0</td>\n",
       "    </tr>\n",
       "    <tr>\n",
       "      <td>...</td>\n",
       "      <td>...</td>\n",
       "      <td>...</td>\n",
       "      <td>...</td>\n",
       "      <td>...</td>\n",
       "      <td>...</td>\n",
       "      <td>...</td>\n",
       "      <td>...</td>\n",
       "      <td>...</td>\n",
       "    </tr>\n",
       "    <tr>\n",
       "      <td>12490</td>\n",
       "      <td>https://tabs.ultimate-guitar.com/tab/the_lonel...</td>\n",
       "      <td>Like A Boss</td>\n",
       "      <td>2000</td>\n",
       "      <td>Hip Hop</td>\n",
       "      <td>[]</td>\n",
       "      <td>1a6d53ae-aeea-4bdd-a1e2-3100bbf3c88e</td>\n",
       "      <td>The Lonely Island</td>\n",
       "      <td>0</td>\n",
       "    </tr>\n",
       "    <tr>\n",
       "      <td>13107</td>\n",
       "      <td>https://tabs.ultimate-guitar.com/tab/tony_benn...</td>\n",
       "      <td>A Child Is Born</td>\n",
       "      <td>1970</td>\n",
       "      <td>Jazz</td>\n",
       "      <td>[]</td>\n",
       "      <td>1dc741fc-51a9-40ef-a328-48eb8a467b62</td>\n",
       "      <td>Tony Bennett</td>\n",
       "      <td>0</td>\n",
       "    </tr>\n",
       "    <tr>\n",
       "      <td>13369</td>\n",
       "      <td>https://tabs.ultimate-guitar.com/tab/tyler_the...</td>\n",
       "      <td>Answer</td>\n",
       "      <td>2010</td>\n",
       "      <td>Hip Hop</td>\n",
       "      <td>[]</td>\n",
       "      <td>8474fdc1-00c5-457a-9178-41b1bb48a21f</td>\n",
       "      <td>Tyler The Creator</td>\n",
       "      <td>0</td>\n",
       "    </tr>\n",
       "    <tr>\n",
       "      <td>13802</td>\n",
       "      <td>https://tabs.ultimate-guitar.com/tab/wham/free...</td>\n",
       "      <td>Freedom</td>\n",
       "      <td>1980</td>\n",
       "      <td>Rhythm And Blues%%Rhythm And Blues%%Rhythm And...</td>\n",
       "      <td>[]</td>\n",
       "      <td>f0a72548-c85e-4848-bf60-af2e62993f5d</td>\n",
       "      <td>Wham</td>\n",
       "      <td>0</td>\n",
       "    </tr>\n",
       "    <tr>\n",
       "      <td>14062</td>\n",
       "      <td>https://tabs.ultimate-guitar.com/tab/zac_brown...</td>\n",
       "      <td>As Shes Walking Away</td>\n",
       "      <td>2010</td>\n",
       "      <td>Country</td>\n",
       "      <td>[]</td>\n",
       "      <td>71ce0aa4-973b-41f1-b108-bb7dcd663b81</td>\n",
       "      <td>Zac Brown Band</td>\n",
       "      <td>0</td>\n",
       "    </tr>\n",
       "  </tbody>\n",
       "</table>\n",
       "<p>71 rows × 8 columns</p>\n",
       "</div>"
      ],
      "text/plain": [
       "                                                     url  \\\n",
       "19           https://tabs.ultimate-guitar.com/tab/120815   \n",
       "160    https://tabs.ultimate-guitar.com/tab/883/cumul...   \n",
       "163    https://tabs.ultimate-guitar.com/tab/883/rotta...   \n",
       "217    https://tabs.ultimate-guitar.com/tab/abba/danc...   \n",
       "218    https://tabs.ultimate-guitar.com/tab/abba/danc...   \n",
       "...                                                  ...   \n",
       "12490  https://tabs.ultimate-guitar.com/tab/the_lonel...   \n",
       "13107  https://tabs.ultimate-guitar.com/tab/tony_benn...   \n",
       "13369  https://tabs.ultimate-guitar.com/tab/tyler_the...   \n",
       "13802  https://tabs.ultimate-guitar.com/tab/wham/free...   \n",
       "14062  https://tabs.ultimate-guitar.com/tab/zac_brown...   \n",
       "\n",
       "                                                    name  decade  \\\n",
       "19     Balladen Om Herr Fredrik Åkare Och Den Söta Fr...    1960   \n",
       "160                                               Cumuli    1990   \n",
       "163                                  Rotta X Casa Di Dio    1990   \n",
       "217                                Dancing Queen (ver 3)    1970   \n",
       "218                                Dancing Queen (ver 4)    1970   \n",
       "...                                                  ...     ...   \n",
       "12490                                        Like A Boss    2000   \n",
       "13107                                    A Child Is Born    1970   \n",
       "13369                                             Answer    2010   \n",
       "13802                                            Freedom    1980   \n",
       "14062                               As Shes Walking Away    2010   \n",
       "\n",
       "                                                   genre chords  \\\n",
       "19                                                  Jazz     []   \n",
       "160                                           Electronic     []   \n",
       "163                               Electronic%%Electronic     []   \n",
       "217                                                  Pop     []   \n",
       "218                                        Pop%%Pop%%Pop     []   \n",
       "...                                                  ...    ...   \n",
       "12490                                            Hip Hop     []   \n",
       "13107                                               Jazz     []   \n",
       "13369                                            Hip Hop     []   \n",
       "13802  Rhythm And Blues%%Rhythm And Blues%%Rhythm And...     []   \n",
       "14062                                            Country     []   \n",
       "\n",
       "                                       uuid             artist  cardinality  \n",
       "19     752b3d65-297f-4777-acc4-e9d92e243a72            Unknown            0  \n",
       "160    523bfc79-9f5d-4747-8db3-366bd5d32152                883            0  \n",
       "163    8c8a69f6-7027-4816-a91d-d219d87582ca                883            0  \n",
       "217    044a35a5-3943-49a5-bb6a-e0f5e19776cf               Abba            0  \n",
       "218    bb8e839f-0d3f-40b6-9ee3-5fd4aa0301e1               Abba            0  \n",
       "...                                     ...                ...          ...  \n",
       "12490  1a6d53ae-aeea-4bdd-a1e2-3100bbf3c88e  The Lonely Island            0  \n",
       "13107  1dc741fc-51a9-40ef-a328-48eb8a467b62       Tony Bennett            0  \n",
       "13369  8474fdc1-00c5-457a-9178-41b1bb48a21f  Tyler The Creator            0  \n",
       "13802  f0a72548-c85e-4848-bf60-af2e62993f5d               Wham            0  \n",
       "14062  71ce0aa4-973b-41f1-b108-bb7dcd663b81     Zac Brown Band            0  \n",
       "\n",
       "[71 rows x 8 columns]"
      ]
     },
     "execution_count": 16,
     "metadata": {},
     "output_type": "execute_result"
    }
   ],
   "source": [
    "df[df['cardinality'] == 0]"
   ]
  },
  {
   "cell_type": "markdown",
   "metadata": {},
   "source": [
    "Some songs are been uploaded by user/ultimate guitar without including the special format for the chords, for example, in https://tabs.ultimate-guitar.com/tab/883/rotta-x-casa-di-dio-chords-89055. Let's remove them"
   ]
  },
  {
   "cell_type": "code",
   "execution_count": 17,
   "metadata": {},
   "outputs": [],
   "source": [
    "df = df[df['cardinality'] != 0]"
   ]
  },
  {
   "cell_type": "code",
   "execution_count": 18,
   "metadata": {},
   "outputs": [
    {
     "data": {
      "text/plain": [
       "count    14043.000000\n",
       "mean        85.953856\n",
       "std         68.608710\n",
       "min          1.000000\n",
       "25%         51.000000\n",
       "50%         77.000000\n",
       "75%        108.000000\n",
       "max       2020.000000\n",
       "Name: cardinality, dtype: float64"
      ]
     },
     "execution_count": 18,
     "metadata": {},
     "output_type": "execute_result"
    }
   ],
   "source": [
    "df['cardinality'].describe()"
   ]
  },
  {
   "cell_type": "markdown",
   "metadata": {},
   "source": [
    "The same occurs for songs with one or two chords (eg. https://tabs.ultimate-guitar.com/tab/mad-caddies/souls-for-sale-chords-837415)"
   ]
  },
  {
   "cell_type": "code",
   "execution_count": 19,
   "metadata": {},
   "outputs": [],
   "source": [
    "df = df[df['cardinality'] != 1]"
   ]
  },
  {
   "cell_type": "code",
   "execution_count": 20,
   "metadata": {},
   "outputs": [],
   "source": [
    "df = df[df['cardinality'] != 2]"
   ]
  },
  {
   "cell_type": "code",
   "execution_count": 21,
   "metadata": {},
   "outputs": [
    {
     "data": {
      "text/plain": [
       "count    14031.000000\n",
       "mean        86.026014\n",
       "std         68.593639\n",
       "min          3.000000\n",
       "25%         51.000000\n",
       "50%         78.000000\n",
       "75%        108.000000\n",
       "max       2020.000000\n",
       "Name: cardinality, dtype: float64"
      ]
     },
     "execution_count": 21,
     "metadata": {},
     "output_type": "execute_result"
    }
   ],
   "source": [
    "df['cardinality'].describe()"
   ]
  },
  {
   "cell_type": "code",
   "execution_count": 22,
   "metadata": {},
   "outputs": [
    {
     "data": {
      "text/plain": [
       "0    68\n",
       "1    72\n",
       "dtype: int64"
      ]
     },
     "execution_count": 22,
     "metadata": {},
     "output_type": "execute_result"
    }
   ],
   "source": [
    "df['cardinality'].mode()"
   ]
  },
  {
   "cell_type": "markdown",
   "metadata": {},
   "source": [
    "Total number of chords"
   ]
  },
  {
   "cell_type": "code",
   "execution_count": 23,
   "metadata": {},
   "outputs": [
    {
     "data": {
      "text/plain": [
       "1207031"
      ]
     },
     "execution_count": 23,
     "metadata": {},
     "output_type": "execute_result"
    }
   ],
   "source": [
    "df['cardinality'].sum()"
   ]
  },
  {
   "cell_type": "code",
   "execution_count": 24,
   "metadata": {},
   "outputs": [],
   "source": [
    "import matplotlib.pyplot as plt"
   ]
  },
  {
   "cell_type": "code",
   "execution_count": 25,
   "metadata": {},
   "outputs": [
    {
     "data": {
      "text/plain": [
       "<matplotlib.axes._subplots.AxesSubplot at 0x11abc37d0>"
      ]
     },
     "execution_count": 25,
     "metadata": {},
     "output_type": "execute_result"
    },
    {
     "data": {
      "image/png": "[encoded data removed]",
      "text/plain": [
       "<Figure size 432x288 with 1 Axes>"
      ]
     },
     "metadata": {
      "needs_background": "light"
     },
     "output_type": "display_data"
    }
   ],
   "source": [
    "df['cardinality'].hist(bins=100)"
   ]
  },
  {
   "cell_type": "markdown",
   "metadata": {},
   "source": [
    "#### By genre "
   ]
  },
  {
   "cell_type": "code",
   "execution_count": 26,
   "metadata": {},
   "outputs": [],
   "source": [
    "import jl_io as io\n",
    "\n",
    "genres = io.from_file('../data/genres')"
   ]
  },
  {
   "cell_type": "code",
   "execution_count": 27,
   "metadata": {},
   "outputs": [
    {
     "data": {
      "text/plain": [
       "['Rock',\n",
       " 'Folk',\n",
       " 'Pop',\n",
       " 'Country',\n",
       " 'Electronic',\n",
       " 'Rhythm And Blues',\n",
       " 'Metal',\n",
       " 'Contemporary R&b',\n",
       " 'Religious Music',\n",
       " 'Hip Hop',\n",
       " 'Reggae',\n",
       " 'Jazz',\n",
       " 'Blues',\n",
       " 'World Music',\n",
       " 'Disco',\n",
       " 'Comedy',\n",
       " 'New Age',\n",
       " 'Classical',\n",
       " 'Experimental',\n",
       " 'Darkwave',\n",
       " 'Soundtrack']"
      ]
     },
     "execution_count": 27,
     "metadata": {},
     "output_type": "execute_result"
    }
   ],
   "source": [
    "genre_names = [genre['name'] for genre in genres]\n",
    "genre_names"
   ]
  },
  {
   "cell_type": "code",
   "execution_count": 28,
   "metadata": {},
   "outputs": [],
   "source": [
    "genre_df = pd.DataFrame(genre_names, columns=['genre'])"
   ]
  },
  {
   "cell_type": "code",
   "execution_count": 29,
   "metadata": {},
   "outputs": [],
   "source": [
    "def create_genre_avg_column_and_show(column_name):\n",
    "    genre_df[f'avg {column_name}'] = genre_df['genre'].apply( \\\n",
    "        lambda genre: df[df['genre'].str.contains(genre)][column_name].mean())\n",
    "    \n",
    "    genre_df.sort_values(by=f'avg {column_name}', ascending=False).plot.bar(x='genre', y=f'avg {column_name}')\n",
    "    "
   ]
  },
  {
   "cell_type": "code",
   "execution_count": 30,
   "metadata": {},
   "outputs": [
    {
     "data": {
      "image/png": "[encoded data removed]",
      "text/plain": [
       "<Figure size 432x288 with 1 Axes>"
      ]
     },
     "metadata": {
      "needs_background": "light"
     },
     "output_type": "display_data"
    }
   ],
   "source": [
    "create_genre_avg_column_and_show('cardinality')"
   ]
  },
  {
   "cell_type": "markdown",
   "metadata": {},
   "source": [
    "### Unique cardinality (number of different chords) "
   ]
  },
  {
   "cell_type": "code",
   "execution_count": 31,
   "metadata": {},
   "outputs": [],
   "source": [
    "df['unique cardinality'] = df['chords'].apply(feature_extractor.extract_unique_cardinality)"
   ]
  },
  {
   "cell_type": "code",
   "execution_count": 32,
   "metadata": {},
   "outputs": [
    {
     "data": {
      "text/plain": [
       "count    14031.000000\n",
       "mean         7.629606\n",
       "std          5.418258\n",
       "min          1.000000\n",
       "25%          4.000000\n",
       "50%          6.000000\n",
       "75%          9.000000\n",
       "max        101.000000\n",
       "Name: unique cardinality, dtype: float64"
      ]
     },
     "execution_count": 32,
     "metadata": {},
     "output_type": "execute_result"
    }
   ],
   "source": [
    "df['unique cardinality'].describe()"
   ]
  },
  {
   "cell_type": "markdown",
   "metadata": {},
   "source": [
    "Mode is 4...modern music is not very rich..."
   ]
  },
  {
   "cell_type": "code",
   "execution_count": 33,
   "metadata": {},
   "outputs": [
    {
     "data": {
      "text/plain": [
       "0    4\n",
       "dtype: int64"
      ]
     },
     "execution_count": 33,
     "metadata": {},
     "output_type": "execute_result"
    }
   ],
   "source": [
    "df['unique cardinality'].mode()"
   ]
  },
  {
   "cell_type": "code",
   "execution_count": 34,
   "metadata": {},
   "outputs": [
    {
     "data": {
      "text/plain": [
       "<matplotlib.axes._subplots.AxesSubplot at 0x11af83590>"
      ]
     },
     "execution_count": 34,
     "metadata": {},
     "output_type": "execute_result"
    },
    {
     "data": {
      "image/png": "[encoded data removed]",
      "text/plain": [
       "<Figure size 432x288 with 1 Axes>"
      ]
     },
     "metadata": {
      "needs_background": "light"
     },
     "output_type": "display_data"
    }
   ],
   "source": [
    "df['unique cardinality'].hist(bins=100)"
   ]
  },
  {
   "cell_type": "code",
   "execution_count": 35,
   "metadata": {},
   "outputs": [],
   "source": [
    "pop = df[df['genre'].str.contains('Pop')]"
   ]
  },
  {
   "cell_type": "code",
   "execution_count": 36,
   "metadata": {},
   "outputs": [],
   "source": [
    "jazz = df[df['genre'].str.contains('Jazz')]"
   ]
  },
  {
   "cell_type": "code",
   "execution_count": 37,
   "metadata": {},
   "outputs": [
    {
     "data": {
      "text/plain": [
       "0    5\n",
       "dtype: int64"
      ]
     },
     "execution_count": 37,
     "metadata": {},
     "output_type": "execute_result"
    }
   ],
   "source": [
    "pop['unique cardinality'].mode()"
   ]
  },
  {
   "cell_type": "code",
   "execution_count": 38,
   "metadata": {},
   "outputs": [
    {
     "data": {
      "text/plain": [
       "0    6\n",
       "dtype: int64"
      ]
     },
     "execution_count": 38,
     "metadata": {},
     "output_type": "execute_result"
    }
   ],
   "source": [
    "jazz['unique cardinality'].mode()"
   ]
  },
  {
   "cell_type": "markdown",
   "metadata": {},
   "source": [
    "#### By genre "
   ]
  },
  {
   "cell_type": "code",
   "execution_count": 39,
   "metadata": {},
   "outputs": [
    {
     "data": {
      "image/png": "[encoded data removed]",
      "text/plain": [
       "<Figure size 432x288 with 1 Axes>"
      ]
     },
     "metadata": {
      "needs_background": "light"
     },
     "output_type": "display_data"
    }
   ],
   "source": [
    "create_genre_avg_column_and_show('unique cardinality')"
   ]
  },
  {
   "cell_type": "markdown",
   "metadata": {},
   "source": [
    "### Mode"
   ]
  },
  {
   "cell_type": "markdown",
   "metadata": {},
   "source": [
    "Major :)\n",
    "\n",
    "Minor :(\n",
    "\n",
    "Neutral :|"
   ]
  },
  {
   "cell_type": "code",
   "execution_count": 40,
   "metadata": {},
   "outputs": [],
   "source": [
    "from jl_extended_chord import ChordMode"
   ]
  },
  {
   "cell_type": "code",
   "execution_count": 41,
   "metadata": {},
   "outputs": [],
   "source": [
    "df['major cardinality'] =\\\n",
    "df['chords'].apply(\\\n",
    "    lambda chords: feature_extractor.extract_mode_cardinality(chords, ChordMode.Major))"
   ]
  },
  {
   "cell_type": "code",
   "execution_count": 42,
   "metadata": {},
   "outputs": [],
   "source": [
    "df['minor cardinality'] =\\\n",
    "df['chords'].apply(\\\n",
    "    lambda chords: feature_extractor.extract_mode_cardinality(chords, ChordMode.Minor))"
   ]
  },
  {
   "cell_type": "code",
   "execution_count": 43,
   "metadata": {},
   "outputs": [],
   "source": [
    "df['neutral cardinality'] =\\\n",
    "df['chords'].apply(\\\n",
    "    lambda chords: feature_extractor.extract_mode_cardinality(chords, ChordMode.Neutral))"
   ]
  },
  {
   "cell_type": "code",
   "execution_count": 44,
   "metadata": {},
   "outputs": [],
   "source": [
    "def show_info(series):\n",
    "    print(series.describe())\n",
    "    print(f\"Mode:{series.mode()}\")\n",
    "    series.hist(bins=100)"
   ]
  },
  {
   "cell_type": "code",
   "execution_count": 45,
   "metadata": {},
   "outputs": [
    {
     "name": "stdout",
     "output_type": "stream",
     "text": [
      "count    14031.000000\n",
      "mean        60.802437\n",
      "std         51.953680\n",
      "min          0.000000\n",
      "25%         34.000000\n",
      "50%         53.000000\n",
      "75%         78.000000\n",
      "max       1871.000000\n",
      "Name: major cardinality, dtype: float64\n",
      "Mode:0    40\n",
      "dtype: int64\n"
     ]
    },
    {
     "data": {
      "image/png": "[encoded data removed]",
      "text/plain": [
       "<Figure size 432x288 with 1 Axes>"
      ]
     },
     "metadata": {
      "needs_background": "light"
     },
     "output_type": "display_data"
    }
   ],
   "source": [
    "show_info(df['major cardinality'])"
   ]
  },
  {
   "cell_type": "code",
   "execution_count": 46,
   "metadata": {},
   "outputs": [
    {
     "name": "stdout",
     "output_type": "stream",
     "text": [
      "count    14031.000000\n",
      "mean        22.596394\n",
      "std         27.375530\n",
      "min          0.000000\n",
      "25%          6.000000\n",
      "50%         17.000000\n",
      "75%         32.000000\n",
      "max       1022.000000\n",
      "Name: minor cardinality, dtype: float64\n",
      "Mode:0    0\n",
      "dtype: int64\n"
     ]
    },
    {
     "data": {
      "image/png": "[encoded data removed]",
      "text/plain": [
       "<Figure size 432x288 with 1 Axes>"
      ]
     },
     "metadata": {
      "needs_background": "light"
     },
     "output_type": "display_data"
    }
   ],
   "source": [
    "show_info(df['minor cardinality'])"
   ]
  },
  {
   "cell_type": "markdown",
   "metadata": {},
   "source": [
    "In average, there are three times more major chords than minor chords. It is the expected discovery"
   ]
  },
  {
   "cell_type": "code",
   "execution_count": 47,
   "metadata": {},
   "outputs": [
    {
     "name": "stdout",
     "output_type": "stream",
     "text": [
      "count    14031.000000\n",
      "mean         2.627183\n",
      "std         12.161789\n",
      "min          0.000000\n",
      "25%          0.000000\n",
      "50%          0.000000\n",
      "75%          0.000000\n",
      "max        318.000000\n",
      "Name: neutral cardinality, dtype: float64\n",
      "Mode:0    0\n",
      "dtype: int64\n"
     ]
    },
    {
     "data": {
      "image/png": "[encoded data removed]",
      "text/plain": [
       "<Figure size 432x288 with 1 Axes>"
      ]
     },
     "metadata": {
      "needs_background": "light"
     },
     "output_type": "display_data"
    }
   ],
   "source": [
    "show_info(df['neutral cardinality'])"
   ]
  },
  {
   "cell_type": "code",
   "execution_count": 48,
   "metadata": {},
   "outputs": [
    {
     "data": {
      "text/html": [
       "<div>\n",
       "<style scoped>\n",
       "    .dataframe tbody tr th:only-of-type {\n",
       "        vertical-align: middle;\n",
       "    }\n",
       "\n",
       "    .dataframe tbody tr th {\n",
       "        vertical-align: top;\n",
       "    }\n",
       "\n",
       "    .dataframe thead th {\n",
       "        text-align: right;\n",
       "    }\n",
       "</style>\n",
       "<table border=\"1\" class=\"dataframe\">\n",
       "  <thead>\n",
       "    <tr style=\"text-align: right;\">\n",
       "      <th></th>\n",
       "      <th>url</th>\n",
       "      <th>name</th>\n",
       "      <th>decade</th>\n",
       "      <th>genre</th>\n",
       "      <th>chords</th>\n",
       "      <th>uuid</th>\n",
       "      <th>artist</th>\n",
       "      <th>cardinality</th>\n",
       "      <th>unique cardinality</th>\n",
       "      <th>major cardinality</th>\n",
       "      <th>minor cardinality</th>\n",
       "      <th>neutral cardinality</th>\n",
       "    </tr>\n",
       "  </thead>\n",
       "  <tbody>\n",
       "    <tr>\n",
       "      <td>10816</td>\n",
       "      <td>https://tabs.ultimate-guitar.com/tab/scorpions...</td>\n",
       "      <td>Rock You Like A Hurricane (ver 2)</td>\n",
       "      <td>1980</td>\n",
       "      <td>Metal</td>\n",
       "      <td>[E5, G5, A5, C5, D5, C5, E5, C5, E5, D5, C5, E...</td>\n",
       "      <td>564b6999-b037-4758-9b15-3adc9b88357a</td>\n",
       "      <td>Scorpions</td>\n",
       "      <td>318</td>\n",
       "      <td>5</td>\n",
       "      <td>0</td>\n",
       "      <td>0</td>\n",
       "      <td>318</td>\n",
       "    </tr>\n",
       "  </tbody>\n",
       "</table>\n",
       "</div>"
      ],
      "text/plain": [
       "                                                     url  \\\n",
       "10816  https://tabs.ultimate-guitar.com/tab/scorpions...   \n",
       "\n",
       "                                    name  decade  genre  \\\n",
       "10816  Rock You Like A Hurricane (ver 2)    1980  Metal   \n",
       "\n",
       "                                                  chords  \\\n",
       "10816  [E5, G5, A5, C5, D5, C5, E5, C5, E5, D5, C5, E...   \n",
       "\n",
       "                                       uuid     artist  cardinality  \\\n",
       "10816  564b6999-b037-4758-9b15-3adc9b88357a  Scorpions          318   \n",
       "\n",
       "       unique cardinality  major cardinality  minor cardinality  \\\n",
       "10816                   5                  0                  0   \n",
       "\n",
       "       neutral cardinality  \n",
       "10816                  318  "
      ]
     },
     "execution_count": 48,
     "metadata": {},
     "output_type": "execute_result"
    }
   ],
   "source": [
    "df[df['neutral cardinality'] == 318]"
   ]
  },
  {
   "cell_type": "markdown",
   "metadata": {},
   "source": [
    "Scorpions like removing the third... :)"
   ]
  },
  {
   "cell_type": "markdown",
   "metadata": {},
   "source": [
    "### Sadness  "
   ]
  },
  {
   "cell_type": "markdown",
   "metadata": {},
   "source": [
    "Let's use previous features to calculate a new feature: `sadness`"
   ]
  },
  {
   "cell_type": "code",
   "execution_count": 49,
   "metadata": {},
   "outputs": [],
   "source": [
    "df['sadness'] = (df['minor cardinality'] / df['cardinality'])\n"
   ]
  },
  {
   "cell_type": "code",
   "execution_count": 50,
   "metadata": {},
   "outputs": [
    {
     "data": {
      "text/plain": [
       "count    14031.000000\n",
       "mean         0.257273\n",
       "std          0.201813\n",
       "min          0.000000\n",
       "25%          0.096872\n",
       "50%          0.243590\n",
       "75%          0.375000\n",
       "max          1.000000\n",
       "Name: sadness, dtype: float64"
      ]
     },
     "execution_count": 50,
     "metadata": {},
     "output_type": "execute_result"
    }
   ],
   "source": [
    "df['sadness'].describe()"
   ]
  },
  {
   "cell_type": "code",
   "execution_count": 51,
   "metadata": {},
   "outputs": [
    {
     "data": {
      "text/plain": [
       "<matplotlib.axes._subplots.AxesSubplot at 0x11a971f50>"
      ]
     },
     "execution_count": 51,
     "metadata": {},
     "output_type": "execute_result"
    },
    {
     "data": {
      "image/png": "[encoded data removed]",
      "text/plain": [
       "<Figure size 432x288 with 1 Axes>"
      ]
     },
     "metadata": {
      "needs_background": "light"
     },
     "output_type": "display_data"
    }
   ],
   "source": [
    "df['sadness'].plot.hist()"
   ]
  },
  {
   "cell_type": "code",
   "execution_count": 52,
   "metadata": {},
   "outputs": [
    {
     "data": {
      "text/plain": [
       "0.2790716907934111"
      ]
     },
     "execution_count": 52,
     "metadata": {},
     "output_type": "execute_result"
    }
   ],
   "source": [
    "df[df['genre'].str.contains('Metal')]['sadness'].mean()"
   ]
  },
  {
   "cell_type": "code",
   "execution_count": 53,
   "metadata": {},
   "outputs": [
    {
     "data": {
      "text/plain": [
       "0.3178758089746847"
      ]
     },
     "execution_count": 53,
     "metadata": {},
     "output_type": "execute_result"
    }
   ],
   "source": [
    "df[df['genre'].str.contains('Jazz')]['sadness'].mean()"
   ]
  },
  {
   "cell_type": "code",
   "execution_count": 54,
   "metadata": {},
   "outputs": [
    {
     "data": {
      "text/plain": [
       "0.2742307112838404"
      ]
     },
     "execution_count": 54,
     "metadata": {},
     "output_type": "execute_result"
    }
   ],
   "source": [
    "df[df['genre'].str.contains('Pop')]['sadness'].mean()"
   ]
  },
  {
   "cell_type": "code",
   "execution_count": 55,
   "metadata": {},
   "outputs": [
    {
     "data": {
      "text/plain": [
       "0.21933666795532078"
      ]
     },
     "execution_count": 55,
     "metadata": {},
     "output_type": "execute_result"
    }
   ],
   "source": [
    "df[df['genre'].str.contains('Rock')]['sadness'].mean()"
   ]
  },
  {
   "cell_type": "markdown",
   "metadata": {},
   "source": [
    "#### By genre "
   ]
  },
  {
   "cell_type": "code",
   "execution_count": 56,
   "metadata": {},
   "outputs": [
    {
     "data": {
      "image/png": "[encoded data removed]",
      "text/plain": [
       "<Figure size 432x288 with 1 Axes>"
      ]
     },
     "metadata": {
      "needs_background": "light"
     },
     "output_type": "display_data"
    }
   ],
   "source": [
    "create_genre_avg_column_and_show('sadness')"
   ]
  },
  {
   "cell_type": "markdown",
   "metadata": {},
   "source": [
    "### Harmonic mean "
   ]
  },
  {
   "cell_type": "code",
   "execution_count": 57,
   "metadata": {},
   "outputs": [],
   "source": [
    "df['harmonic mean X'] = df['chords'].apply(feature_extractor.extract_harmonic_mean_x)"
   ]
  },
  {
   "cell_type": "code",
   "execution_count": 58,
   "metadata": {},
   "outputs": [],
   "source": [
    "df['harmonic mean Y'] = df['chords'].apply(feature_extractor.extract_harmonic_mean_y)"
   ]
  },
  {
   "cell_type": "code",
   "execution_count": 59,
   "metadata": {},
   "outputs": [
    {
     "data": {
      "text/plain": [
       "<matplotlib.axes._subplots.AxesSubplot at 0x11bf180d0>"
      ]
     },
     "execution_count": 59,
     "metadata": {},
     "output_type": "execute_result"
    },
    {
     "data": {
      "image/png": "[encoded data removed]",
      "text/plain": [
       "<Figure size 432x288 with 1 Axes>"
      ]
     },
     "metadata": {
      "needs_background": "light"
     },
     "output_type": "display_data"
    }
   ],
   "source": [
    "df.plot.scatter(x='harmonic mean X', y='harmonic mean Y')"
   ]
  },
  {
   "cell_type": "code",
   "execution_count": 60,
   "metadata": {},
   "outputs": [
    {
     "data": {
      "text/plain": [
       "<matplotlib.axes._subplots.AxesSubplot at 0x11c27ded0>"
      ]
     },
     "execution_count": 60,
     "metadata": {},
     "output_type": "execute_result"
    },
    {
     "data": {
      "image/png": "[encoded data removed]",
      "text/plain": [
       "<Figure size 432x288 with 1 Axes>"
      ]
     },
     "metadata": {
      "needs_background": "light"
     },
     "output_type": "display_data"
    }
   ],
   "source": [
    "df[df['genre'].str.contains('Pop')].plot.scatter(x='harmonic mean X', y='harmonic mean Y')"
   ]
  },
  {
   "cell_type": "code",
   "execution_count": 61,
   "metadata": {},
   "outputs": [],
   "source": [
    "df['harmonic mean position'] = df['chords'].apply(feature_extractor.extract_harmonic_mean_position)"
   ]
  },
  {
   "cell_type": "code",
   "execution_count": 62,
   "metadata": {},
   "outputs": [
    {
     "data": {
      "text/plain": [
       "<matplotlib.axes._subplots.AxesSubplot at 0x11c24b590>"
      ]
     },
     "execution_count": 62,
     "metadata": {},
     "output_type": "execute_result"
    },
    {
     "data": {
      "image/png": "[encoded data removed]",
      "text/plain": [
       "<Figure size 432x288 with 1 Axes>"
      ]
     },
     "metadata": {
      "needs_background": "light"
     },
     "output_type": "display_data"
    }
   ],
   "source": [
    "df[df['genre'].str.contains('Rock')]['harmonic mean position'].plot.hist(bins=12)"
   ]
  },
  {
   "cell_type": "markdown",
   "metadata": {},
   "source": [
    "### Widths "
   ]
  },
  {
   "cell_type": "code",
   "execution_count": 63,
   "metadata": {},
   "outputs": [],
   "source": [
    " df['subdominant width'] = df['chords'].apply(feature_extractor.extract_subdominant_width)"
   ]
  },
  {
   "cell_type": "code",
   "execution_count": 70,
   "metadata": {},
   "outputs": [
    {
     "data": {
      "text/plain": [
       "<matplotlib.axes._subplots.AxesSubplot at 0x12434fd10>"
      ]
     },
     "execution_count": 70,
     "metadata": {},
     "output_type": "execute_result"
    },
    {
     "data": {
      "image/png": "[encoded data removed]",
      "text/plain": [
       "<Figure size 432x288 with 1 Axes>"
      ]
     },
     "metadata": {
      "needs_background": "light"
     },
     "output_type": "display_data"
    }
   ],
   "source": [
    " df['subdominant width'].plot.hist(bins=6)"
   ]
  },
  {
   "cell_type": "code",
   "execution_count": 64,
   "metadata": {},
   "outputs": [],
   "source": [
    "df['dominant width'] = df['chords'].apply(feature_extractor.extract_dominant_width)"
   ]
  },
  {
   "cell_type": "code",
   "execution_count": 71,
   "metadata": {},
   "outputs": [
    {
     "data": {
      "text/plain": [
       "<matplotlib.axes._subplots.AxesSubplot at 0x124523cd0>"
      ]
     },
     "execution_count": 71,
     "metadata": {},
     "output_type": "execute_result"
    },
    {
     "data": {
      "image/png": "[encoded data removed]",
      "text/plain": [
       "<Figure size 432x288 with 1 Axes>"
      ]
     },
     "metadata": {
      "needs_background": "light"
     },
     "output_type": "display_data"
    }
   ],
   "source": [
    "df['dominant width'].plot.hist(bins=7)"
   ]
  },
  {
   "cell_type": "code",
   "execution_count": 65,
   "metadata": {},
   "outputs": [],
   "source": [
    "df['harmonic width'] =  df['subdominant width'] + df['dominant width']"
   ]
  },
  {
   "cell_type": "code",
   "execution_count": 72,
   "metadata": {},
   "outputs": [
    {
     "data": {
      "text/plain": [
       "<matplotlib.axes._subplots.AxesSubplot at 0x12466d4d0>"
      ]
     },
     "execution_count": 72,
     "metadata": {},
     "output_type": "execute_result"
    },
    {
     "data": {
      "image/png": "[encoded data removed]",
      "text/plain": [
       "<Figure size 432x288 with 1 Axes>"
      ]
     },
     "metadata": {
      "needs_background": "light"
     },
     "output_type": "display_data"
    }
   ],
   "source": [
    "df['harmonic width'].plot.hist(bins=12)"
   ]
  },
  {
   "cell_type": "markdown",
   "metadata": {},
   "source": [
    "## Genre (to be improved) "
   ]
  },
  {
   "cell_type": "code",
   "execution_count": 26,
   "metadata": {},
   "outputs": [
    {
     "data": {
      "text/plain": [
       "array(['Folk', 'Folk%%Pop', 'Electronic', 'Classical%%Pop',\n",
       "       'Electronic%%Pop', 'Jazz', 'Pop', 'Rock',\n",
       "       'Contemporary R&b%%Rhythm And Blues', 'Rhythm And Blues',\n",
       "       'World Music', 'Reggae', 'Metal', 'Hip Hop', 'Jazz%%Pop',\n",
       "       'Hip Hop%%Rhythm And Blues', 'Jazz%%World Music', 'Disco',\n",
       "       'Folk%%Jazz', 'Contemporary R&b', 'Electronic%%Rock',\n",
       "       'Electronic%%Pop%%Rock', 'Disco%%Pop', 'Pop%%Rhythm And Blues',\n",
       "       'Pop%%Rock', 'Contemporary R&b%%Hip Hop',\n",
       "       'Religious Music%%Rhythm And Blues', 'Country', 'Folk%%Rock',\n",
       "       'Blues', 'Contemporary R&b%%Electronic',\n",
       "       'Electronic%%Rhythm And Blues', 'Folk%%Religious Music',\n",
       "       'Religious Music', 'Pop%%Religious Music',\n",
       "       'Jazz%%Rhythm And Blues', 'Contemporary R&b%%Pop', 'Metal%%Rock',\n",
       "       'Darkwave', 'Blues%%Rock', 'Disco%%Pop%%Rock',\n",
       "       'Folk%%Rhythm And Blues', 'Folk%%Pop%%Rock',\n",
       "       'Disco%%Rhythm And Blues', 'Blues%%Rhythm And Blues',\n",
       "       'Rhythm And Blues%%Rock', 'Country%%Folk%%Rock', 'Country%%Folk',\n",
       "       'Country%%Folk%%Pop', 'Country%%Folk%%Pop%%Rock',\n",
       "       'Country%%Rhythm And Blues',\n",
       "       'Country%%Folk%%Pop%%Rhythm And Blues', 'Religious Music%%Rock',\n",
       "       'Contemporary R&b%%Rock', 'Contemporary R&b%%Electronic%%Pop',\n",
       "       'Country%%Rock', 'Contemporary R&b%%Pop%%Rhythm And Blues',\n",
       "       'Soundtrack', 'Contemporary R&b%%Folk%%Rhythm And Blues',\n",
       "       'Classical', 'Electronic%%Religious Music',\n",
       "       'Hip Hop%%Religious Music', 'Electronic%%Folk',\n",
       "       'Darkwave%%Electronic', 'New Age', 'Blues%%Pop%%Rock',\n",
       "       'Blues%%Pop', 'Pop%%Reggae', 'Blues%%Folk',\n",
       "       'Pop%%Rhythm And Blues%%Rock', 'Country%%Rhythm And Blues%%Rock',\n",
       "       'Blues%%Rhythm And Blues%%Rock', 'Electronic%%Hip Hop',\n",
       "       'Contemporary R&b%%Hip Hop%%Pop', 'Comedy', 'Classical%%Jazz',\n",
       "       'Blues%%Metal', 'Folk%%Jazz%%Pop', 'Country%%Pop',\n",
       "       'Classical%%Folk', 'Classical%%Country%%Folk', 'Folk%%World Music',\n",
       "       'Electronic%%Religious Music%%Rock', 'Electronic%%Folk%%Pop%%Rock',\n",
       "       'Experimental', 'Classical%%Soundtrack', 'New Age%%World Music',\n",
       "       'Contemporary R&b%%Electronic%%Rhythm And Blues',\n",
       "       'Comedy%%Hip Hop', 'Contemporary R&b%%Pop%%Rock',\n",
       "       'Electronic%%Experimental', 'Blues%%Religious Music',\n",
       "       'Electronic%%Metal', 'Electronic%%Metal%%Rock',\n",
       "       'Country%%Pop%%Rhythm And Blues', 'Jazz%%Pop%%Rhythm And Blues',\n",
       "       'Contemporary R&b%%Jazz%%Rhythm And Blues', 'Electronic%%Reggae',\n",
       "       'Contemporary R&b%%Disco', 'Contemporary R&b%%Disco%%Pop',\n",
       "       'Contemporary R&b%%Disco%%Pop%%Rock', 'Pop%%Religious Music%%Rock',\n",
       "       'Blues%%Jazz', 'Contemporary R&b%%Jazz', 'Reggae%%Rock',\n",
       "       'Electronic%%World Music', 'Country%%Jazz%%Rhythm And Blues',\n",
       "       'Country%%Jazz', 'Contemporary R&b%%Reggae',\n",
       "       'Contemporary R&b%%Pop%%Reggae', 'Hip Hop%%Reggae',\n",
       "       'Pop%%World Music', 'Blues%%Country', 'Country%%Pop%%Rock',\n",
       "       'Reggae%%Rhythm And Blues', 'Electronic%%Reggae%%Rhythm And Blues',\n",
       "       'Folk%%Pop%%World Music', 'Electronic%%Pop%%Rhythm And Blues',\n",
       "       'Hip Hop%%Rock', 'Metal%%Pop%%Rock',\n",
       "       'Folk%%Rhythm And Blues%%Rock', 'Folk%%Jazz%%Rhythm And Blues',\n",
       "       'Folk%%Jazz%%Rhythm And Blues%%Rock',\n",
       "       'Blues%%Jazz%%Rhythm And Blues', 'Blues%%Country%%Jazz',\n",
       "       'Contemporary R&b%%Hip Hop%%Reggae'], dtype=object)"
      ]
     },
     "execution_count": 26,
     "metadata": {},
     "output_type": "execute_result"
    }
   ],
   "source": [
    "def remove_duplicate_genre_inside_cell(value):\n",
    "    unique_genres = list(set(value.split('%%')))\n",
    "    unique_genres.sort(key=str.lower)\n",
    "    return '%%'.join(unique_genres)\n",
    "    \n",
    "\n",
    "df['genre'].apply(remove_duplicate_genre_inside_cell).unique()"
   ]
  },
  {
   "cell_type": "markdown",
   "metadata": {},
   "source": [
    "## "
   ]
  }
 ],
 "metadata": {
  "kernelspec": {
   "display_name": "Python 3",
   "language": "python",
   "name": "python3"
  },
  "language_info": {
   "codemirror_mode": {
    "name": "ipython",
    "version": 3
   },
   "file_extension": ".py",
   "mimetype": "text/x-python",
   "name": "python",
   "nbconvert_exporter": "python",
   "pygments_lexer": "ipython3",
   "version": "3.7.4"
  },
  "toc": {
   "base_numbering": 1,
   "nav_menu": {},
   "number_sections": true,
   "sideBar": true,
   "skip_h1_title": false,
   "title_cell": "Table of Contents",
   "title_sidebar": "Contents",
   "toc_cell": false,
   "toc_position": {},
   "toc_section_display": true,
   "toc_window_display": false
  }
 },
 "nbformat": 4,
 "nbformat_minor": 2
}
