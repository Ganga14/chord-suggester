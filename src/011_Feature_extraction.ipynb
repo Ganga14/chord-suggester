{
 "cells": [
  {
   "cell_type": "markdown",
   "metadata": {},
   "source": [
    "## Feature extraction "
   ]
  },
  {
   "cell_type": "code",
   "execution_count": 2,
   "metadata": {},
   "outputs": [],
   "source": [
    "from jl_song_data import SongData "
   ]
  },
  {
   "cell_type": "code",
   "execution_count": 12,
   "metadata": {},
   "outputs": [],
   "source": [
    "data = SongData('../data/chords_clean_1_2_3_4_5_6.csv')"
   ]
  },
  {
   "cell_type": "code",
   "execution_count": 13,
   "metadata": {},
   "outputs": [],
   "source": [
    "df = data.df"
   ]
  },
  {
   "cell_type": "code",
   "execution_count": 14,
   "metadata": {},
   "outputs": [],
   "source": [
    "from jl_feature_extractor import FeatureExtractor    \n",
    "\n",
    "feature_extractor = FeatureExtractor()"
   ]
  },
  {
   "cell_type": "markdown",
   "metadata": {},
   "source": [
    "## Remove non valid chords "
   ]
  },
  {
   "cell_type": "markdown",
   "metadata": {},
   "source": [
    "This `eval` is to convert string column to array colum"
   ]
  },
  {
   "cell_type": "code",
   "execution_count": 15,
   "metadata": {},
   "outputs": [],
   "source": [
    "df['chords'] = df['chords'].apply(eval)"
   ]
  },
  {
   "cell_type": "code",
   "execution_count": 16,
   "metadata": {},
   "outputs": [],
   "source": [
    "from jl_chord_parser import ChordParser\n",
    "parser = ChordParser()"
   ]
  },
  {
   "cell_type": "markdown",
   "metadata": {},
   "source": [
    "Parse returns `None` if chord is not valid"
   ]
  },
  {
   "cell_type": "code",
   "execution_count": 18,
   "metadata": {},
   "outputs": [],
   "source": [
    "df['chords'] = \\\n",
    "    df['chords'].apply(\\\n",
    "        lambda chords: [chord for chord in chords if parser.parse(chord) is not None] )\\\n"
   ]
  },
  {
   "cell_type": "markdown",
   "metadata": {},
   "source": [
    "##  Extract artist "
   ]
  },
  {
   "cell_type": "code",
   "execution_count": 19,
   "metadata": {},
   "outputs": [],
   "source": [
    "df['artist'] = df['url'].apply(feature_extractor.extract_pretty_artist)"
   ]
  },
  {
   "cell_type": "code",
   "execution_count": 20,
   "metadata": {},
   "outputs": [
    {
     "data": {
      "text/html": [
       "<div>\n",
       "<style scoped>\n",
       "    .dataframe tbody tr th:only-of-type {\n",
       "        vertical-align: middle;\n",
       "    }\n",
       "\n",
       "    .dataframe tbody tr th {\n",
       "        vertical-align: top;\n",
       "    }\n",
       "\n",
       "    .dataframe thead th {\n",
       "        text-align: right;\n",
       "    }\n",
       "</style>\n",
       "<table border=\"1\" class=\"dataframe\">\n",
       "  <thead>\n",
       "    <tr style=\"text-align: right;\">\n",
       "      <th></th>\n",
       "      <th>url</th>\n",
       "      <th>name</th>\n",
       "      <th>decade</th>\n",
       "      <th>genre</th>\n",
       "      <th>chords</th>\n",
       "      <th>uuid</th>\n",
       "      <th>artist</th>\n",
       "    </tr>\n",
       "  </thead>\n",
       "  <tbody>\n",
       "    <tr>\n",
       "      <td>3674</td>\n",
       "      <td>https://tabs.ultimate-guitar.com/tab/elliott-s...</td>\n",
       "      <td>A Fond Farewell (ver 2)</td>\n",
       "      <td>2000s</td>\n",
       "      <td>Folk</td>\n",
       "      <td>[Am, C, G, Em, Bm, Cm, Am, C, G, Em, Am, C, G,...</td>\n",
       "      <td>cd9484ca-8c50-4a56-8550-e940d460079b</td>\n",
       "      <td>Elliott Smith</td>\n",
       "    </tr>\n",
       "    <tr>\n",
       "      <td>1275</td>\n",
       "      <td>https://tabs.ultimate-guitar.com/tab/bill_with...</td>\n",
       "      <td>Aint No Sunshine (ver 5)</td>\n",
       "      <td>1970s</td>\n",
       "      <td>Rhythm And Blues</td>\n",
       "      <td>[Am, Am, Em, G, Am, Am, Am, Em, G, Am, Em, Dm,...</td>\n",
       "      <td>356fa000-e819-48f4-ba6f-15e9b86735ca</td>\n",
       "      <td>Bill Withers</td>\n",
       "    </tr>\n",
       "    <tr>\n",
       "      <td>165</td>\n",
       "      <td>https://tabs.ultimate-guitar.com/tab/883/te_la...</td>\n",
       "      <td>Te La Tiri</td>\n",
       "      <td>1990s</td>\n",
       "      <td>Electronic</td>\n",
       "      <td>[B, D, E, A, B, B, B, B, B, B, B, B, B, B, B, ...</td>\n",
       "      <td>026c97f3-305d-4e97-b32c-1448696f486d</td>\n",
       "      <td>883</td>\n",
       "    </tr>\n",
       "    <tr>\n",
       "      <td>7712</td>\n",
       "      <td>https://tabs.ultimate-guitar.com/tab/little-fe...</td>\n",
       "      <td>Willin</td>\n",
       "      <td>1970s</td>\n",
       "      <td>Rock</td>\n",
       "      <td>[G, D, Em, C, G, C, C, C, G, G, D, Em, C, G, C...</td>\n",
       "      <td>416dec19-bfe8-41ea-b400-f1d2483ad6a5</td>\n",
       "      <td>Little Feat</td>\n",
       "    </tr>\n",
       "    <tr>\n",
       "      <td>10791</td>\n",
       "      <td>https://tabs.ultimate-guitar.com/tab/scissor_s...</td>\n",
       "      <td>Fire With Fire (ver 3)</td>\n",
       "      <td>2010s</td>\n",
       "      <td>Disco</td>\n",
       "      <td>[C, F, C, F, C, F, G, C, G, C, G, Am, F, G, C,...</td>\n",
       "      <td>a3ececd5-b9c8-41ce-9ff6-634eee0808ec</td>\n",
       "      <td>Scissor Sisters</td>\n",
       "    </tr>\n",
       "    <tr>\n",
       "      <td>9512</td>\n",
       "      <td>https://tabs.ultimate-guitar.com/tab/ozzy-osbo...</td>\n",
       "      <td>Goodbye To Romance (ver 3)</td>\n",
       "      <td>1980s</td>\n",
       "      <td>Metal%%Metal</td>\n",
       "      <td>[D, D/C#, Bm, A7, D, D/C#, Bm, F#m, G, Asus4, ...</td>\n",
       "      <td>2b0039cc-961e-4f98-bfb4-74654ff3acce</td>\n",
       "      <td>Ozzy Osbourne</td>\n",
       "    </tr>\n",
       "    <tr>\n",
       "      <td>7752</td>\n",
       "      <td>https://tabs.ultimate-guitar.com/tab/lorde/rib...</td>\n",
       "      <td>Ribs (ver 3)</td>\n",
       "      <td>2010s</td>\n",
       "      <td>Pop</td>\n",
       "      <td>[A, E, F#m, C#m, A, E, F#m, C#m, A, E, F#m, C#...</td>\n",
       "      <td>763b02b7-53ed-4088-a523-a093a998b6d7</td>\n",
       "      <td>Lorde</td>\n",
       "    </tr>\n",
       "    <tr>\n",
       "      <td>13729</td>\n",
       "      <td>https://tabs.ultimate-guitar.com/tab/weird_al_...</td>\n",
       "      <td>Jackson Park Express</td>\n",
       "      <td>2010s</td>\n",
       "      <td>Comedy</td>\n",
       "      <td>[D, C, D, G, F, D, C, D, G, F, A, G, A, C, G, ...</td>\n",
       "      <td>6007716b-3849-4e89-ba78-14f49bf18f73</td>\n",
       "      <td>Weird Al Yankovic</td>\n",
       "    </tr>\n",
       "    <tr>\n",
       "      <td>6291</td>\n",
       "      <td>https://tabs.ultimate-guitar.com/tab/john-colt...</td>\n",
       "      <td>Giant Steps</td>\n",
       "      <td>1950s</td>\n",
       "      <td>Jazz</td>\n",
       "      <td>[Bmaj7, D7, Gmaj7, Bb7, Ebmaj7, Am7, D7, Gmaj7...</td>\n",
       "      <td>0360d81f-c1dd-42d7-83e3-9127ab25c8f6</td>\n",
       "      <td>John Coltrane</td>\n",
       "    </tr>\n",
       "    <tr>\n",
       "      <td>5690</td>\n",
       "      <td>https://tabs.ultimate-guitar.com/tab/iron-maid...</td>\n",
       "      <td>Fear Of The Dark (ver 2)</td>\n",
       "      <td>1990s</td>\n",
       "      <td>Metal%%Metal</td>\n",
       "      <td>[Em, Em, C, C, D, D, C, D, Em, Em, C, C, D, D,...</td>\n",
       "      <td>15eb605a-2b0e-46d2-b381-b884c3387c89</td>\n",
       "      <td>Iron Maiden</td>\n",
       "    </tr>\n",
       "  </tbody>\n",
       "</table>\n",
       "</div>"
      ],
      "text/plain": [
       "                                                     url  \\\n",
       "3674   https://tabs.ultimate-guitar.com/tab/elliott-s...   \n",
       "1275   https://tabs.ultimate-guitar.com/tab/bill_with...   \n",
       "165    https://tabs.ultimate-guitar.com/tab/883/te_la...   \n",
       "7712   https://tabs.ultimate-guitar.com/tab/little-fe...   \n",
       "10791  https://tabs.ultimate-guitar.com/tab/scissor_s...   \n",
       "9512   https://tabs.ultimate-guitar.com/tab/ozzy-osbo...   \n",
       "7752   https://tabs.ultimate-guitar.com/tab/lorde/rib...   \n",
       "13729  https://tabs.ultimate-guitar.com/tab/weird_al_...   \n",
       "6291   https://tabs.ultimate-guitar.com/tab/john-colt...   \n",
       "5690   https://tabs.ultimate-guitar.com/tab/iron-maid...   \n",
       "\n",
       "                             name decade             genre  \\\n",
       "3674      A Fond Farewell (ver 2)  2000s              Folk   \n",
       "1275     Aint No Sunshine (ver 5)  1970s  Rhythm And Blues   \n",
       "165                    Te La Tiri  1990s        Electronic   \n",
       "7712                       Willin  1970s              Rock   \n",
       "10791      Fire With Fire (ver 3)  2010s             Disco   \n",
       "9512   Goodbye To Romance (ver 3)  1980s      Metal%%Metal   \n",
       "7752                 Ribs (ver 3)  2010s               Pop   \n",
       "13729        Jackson Park Express  2010s            Comedy   \n",
       "6291                  Giant Steps  1950s              Jazz   \n",
       "5690     Fear Of The Dark (ver 2)  1990s      Metal%%Metal   \n",
       "\n",
       "                                                  chords  \\\n",
       "3674   [Am, C, G, Em, Bm, Cm, Am, C, G, Em, Am, C, G,...   \n",
       "1275   [Am, Am, Em, G, Am, Am, Am, Em, G, Am, Em, Dm,...   \n",
       "165    [B, D, E, A, B, B, B, B, B, B, B, B, B, B, B, ...   \n",
       "7712   [G, D, Em, C, G, C, C, C, G, G, D, Em, C, G, C...   \n",
       "10791  [C, F, C, F, C, F, G, C, G, C, G, Am, F, G, C,...   \n",
       "9512   [D, D/C#, Bm, A7, D, D/C#, Bm, F#m, G, Asus4, ...   \n",
       "7752   [A, E, F#m, C#m, A, E, F#m, C#m, A, E, F#m, C#...   \n",
       "13729  [D, C, D, G, F, D, C, D, G, F, A, G, A, C, G, ...   \n",
       "6291   [Bmaj7, D7, Gmaj7, Bb7, Ebmaj7, Am7, D7, Gmaj7...   \n",
       "5690   [Em, Em, C, C, D, D, C, D, Em, Em, C, C, D, D,...   \n",
       "\n",
       "                                       uuid             artist  \n",
       "3674   cd9484ca-8c50-4a56-8550-e940d460079b      Elliott Smith  \n",
       "1275   356fa000-e819-48f4-ba6f-15e9b86735ca       Bill Withers  \n",
       "165    026c97f3-305d-4e97-b32c-1448696f486d                883  \n",
       "7712   416dec19-bfe8-41ea-b400-f1d2483ad6a5        Little Feat  \n",
       "10791  a3ececd5-b9c8-41ce-9ff6-634eee0808ec    Scissor Sisters  \n",
       "9512   2b0039cc-961e-4f98-bfb4-74654ff3acce      Ozzy Osbourne  \n",
       "7752   763b02b7-53ed-4088-a523-a093a998b6d7              Lorde  \n",
       "13729  6007716b-3849-4e89-ba78-14f49bf18f73  Weird Al Yankovic  \n",
       "6291   0360d81f-c1dd-42d7-83e3-9127ab25c8f6      John Coltrane  \n",
       "5690   15eb605a-2b0e-46d2-b381-b884c3387c89        Iron Maiden  "
      ]
     },
     "execution_count": 20,
     "metadata": {},
     "output_type": "execute_result"
    }
   ],
   "source": [
    "df.sample(10)"
   ]
  },
  {
   "cell_type": "markdown",
   "metadata": {},
   "source": [
    "## Extract decade as numeric "
   ]
  },
  {
   "cell_type": "code",
   "execution_count": 21,
   "metadata": {},
   "outputs": [
    {
     "data": {
      "text/plain": [
       "array(['1980s', '2000s', '2010s', '1990s', '1960s', '1970s', '1950s'],\n",
       "      dtype=object)"
      ]
     },
     "execution_count": 21,
     "metadata": {},
     "output_type": "execute_result"
    }
   ],
   "source": [
    "df['decade'].unique()"
   ]
  },
  {
   "cell_type": "code",
   "execution_count": 22,
   "metadata": {},
   "outputs": [],
   "source": [
    "df['decade'] = df['decade'].apply(feature_extractor.extract_numeric_decade)"
   ]
  },
  {
   "cell_type": "code",
   "execution_count": 23,
   "metadata": {},
   "outputs": [
    {
     "data": {
      "text/plain": [
       "array([1980, 2000, 2010, 1990, 1960, 1970, 1950])"
      ]
     },
     "execution_count": 23,
     "metadata": {},
     "output_type": "execute_result"
    }
   ],
   "source": [
    "df['decade'].unique()"
   ]
  },
  {
   "cell_type": "markdown",
   "metadata": {},
   "source": [
    "## Harmonics features "
   ]
  },
  {
   "cell_type": "markdown",
   "metadata": {},
   "source": [
    "We are going to extract all the harmonic features, i.e. related to chords. "
   ]
  },
  {
   "cell_type": "markdown",
   "metadata": {},
   "source": [
    "### Cardinality (number of chords) "
   ]
  },
  {
   "cell_type": "code",
   "execution_count": 24,
   "metadata": {},
   "outputs": [],
   "source": [
    "df['cardinality'] = df['chords'].apply(feature_extractor.extract_cardinality)"
   ]
  },
  {
   "cell_type": "code",
   "execution_count": 25,
   "metadata": {},
   "outputs": [
    {
     "data": {
      "text/html": [
       "<div>\n",
       "<style scoped>\n",
       "    .dataframe tbody tr th:only-of-type {\n",
       "        vertical-align: middle;\n",
       "    }\n",
       "\n",
       "    .dataframe tbody tr th {\n",
       "        vertical-align: top;\n",
       "    }\n",
       "\n",
       "    .dataframe thead th {\n",
       "        text-align: right;\n",
       "    }\n",
       "</style>\n",
       "<table border=\"1\" class=\"dataframe\">\n",
       "  <thead>\n",
       "    <tr style=\"text-align: right;\">\n",
       "      <th></th>\n",
       "      <th>url</th>\n",
       "      <th>name</th>\n",
       "      <th>decade</th>\n",
       "      <th>genre</th>\n",
       "      <th>chords</th>\n",
       "      <th>uuid</th>\n",
       "      <th>artist</th>\n",
       "      <th>cardinality</th>\n",
       "    </tr>\n",
       "  </thead>\n",
       "  <tbody>\n",
       "    <tr>\n",
       "      <td>6663</td>\n",
       "      <td>https://tabs.ultimate-guitar.com/tab/johnny-ca...</td>\n",
       "      <td>Tennessee Stud</td>\n",
       "      <td>1990</td>\n",
       "      <td>Folk%%Country</td>\n",
       "      <td>[A, A, G, A, E, A, A, G, A, E, A, A, G, A, D, ...</td>\n",
       "      <td>119a36dc-db49-4001-ac20-fa3057a3ac3f</td>\n",
       "      <td>Johnny Cash</td>\n",
       "      <td>38</td>\n",
       "    </tr>\n",
       "    <tr>\n",
       "      <td>12785</td>\n",
       "      <td>https://tabs.ultimate-guitar.com/tab/the_tempt...</td>\n",
       "      <td>Shakey Ground</td>\n",
       "      <td>1970</td>\n",
       "      <td>Rhythm And Blues</td>\n",
       "      <td>[E, Em, D, E, Em, D, E, Em, D, E, Em, D, D, E,...</td>\n",
       "      <td>7b14628c-5569-4b7e-9aba-c428d1a6043b</td>\n",
       "      <td>The Temptations</td>\n",
       "      <td>78</td>\n",
       "    </tr>\n",
       "    <tr>\n",
       "      <td>5701</td>\n",
       "      <td>https://tabs.ultimate-guitar.com/tab/iron-maid...</td>\n",
       "      <td>Prodigal Son</td>\n",
       "      <td>1980</td>\n",
       "      <td>Metal</td>\n",
       "      <td>[B, A, G, E, B, A, G, E, G, A, E, G, A, E, G, ...</td>\n",
       "      <td>d4b765b1-595a-4f12-8e53-a759b7eb6565</td>\n",
       "      <td>Iron Maiden</td>\n",
       "      <td>105</td>\n",
       "    </tr>\n",
       "    <tr>\n",
       "      <td>8545</td>\n",
       "      <td>https://tabs.ultimate-guitar.com/tab/metallica...</td>\n",
       "      <td>Nothing Else Matters (ver 2)</td>\n",
       "      <td>1990</td>\n",
       "      <td>Metal</td>\n",
       "      <td>[Em, D, Dsus4, Cadd2, Em, D, Csus2, Em, D, Csu...</td>\n",
       "      <td>c376eca8-1d72-4b08-975c-7b6092b4b5af</td>\n",
       "      <td>Metallica</td>\n",
       "      <td>124</td>\n",
       "    </tr>\n",
       "    <tr>\n",
       "      <td>1636</td>\n",
       "      <td>https://tabs.ultimate-guitar.com/tab/bob_marle...</td>\n",
       "      <td>Mellow Mood</td>\n",
       "      <td>1960</td>\n",
       "      <td>Reggae</td>\n",
       "      <td>[C, F, C, G, C, F, C, G, C, F, C, G, C, F, C, ...</td>\n",
       "      <td>e414d73c-fb28-4eb8-a7a0-dffb3937a3af</td>\n",
       "      <td>Bob Marley</td>\n",
       "      <td>33</td>\n",
       "    </tr>\n",
       "    <tr>\n",
       "      <td>10996</td>\n",
       "      <td>https://tabs.ultimate-guitar.com/tab/shawn_men...</td>\n",
       "      <td>Life Of The Party (ver 3)</td>\n",
       "      <td>2010</td>\n",
       "      <td>Rhythm And Blues%%Rhythm And Blues%%Pop</td>\n",
       "      <td>[Em, G, C, D, Em, C, G, C, Em, G, C, D, Em, C,...</td>\n",
       "      <td>cf2df935-ee6b-49bc-8a2f-d0ea71f1c825</td>\n",
       "      <td>Shawn Mendes</td>\n",
       "      <td>89</td>\n",
       "    </tr>\n",
       "    <tr>\n",
       "      <td>9086</td>\n",
       "      <td>https://tabs.ultimate-guitar.com/tab/nelly/jus...</td>\n",
       "      <td>Just A Dream (ver 2)</td>\n",
       "      <td>2010</td>\n",
       "      <td>Hip Hop%%Hip Hop</td>\n",
       "      <td>[Em, C, G, D, Em, C, G, D, Em, C, G, D, Em, C,...</td>\n",
       "      <td>c4817194-75a4-4397-8daf-1b21c72a541c</td>\n",
       "      <td>Nelly</td>\n",
       "      <td>74</td>\n",
       "    </tr>\n",
       "    <tr>\n",
       "      <td>3487</td>\n",
       "      <td>https://tabs.ultimate-guitar.com/tab/dwight-yo...</td>\n",
       "      <td>Please Please Baby</td>\n",
       "      <td>1980</td>\n",
       "      <td>Country%%Country</td>\n",
       "      <td>[E, E, A, E, A, E, A, E, B7, E, A, E, A, E, B7...</td>\n",
       "      <td>67360dbd-4f4c-48f8-96fb-5bcd2ad825fb</td>\n",
       "      <td>Dwight Yoakam</td>\n",
       "      <td>70</td>\n",
       "    </tr>\n",
       "    <tr>\n",
       "      <td>3121</td>\n",
       "      <td>https://tabs.ultimate-guitar.com/tab/dexys-mid...</td>\n",
       "      <td>Geno (ver 3)</td>\n",
       "      <td>1980</td>\n",
       "      <td>Rhythm And Blues</td>\n",
       "      <td>[C#, B, C#, B, C#, B, B, F#m, A, E, B, F#, C#,...</td>\n",
       "      <td>c6564d62-3391-41f3-9da7-139998df0405</td>\n",
       "      <td>Dexys Midnight Runners</td>\n",
       "      <td>56</td>\n",
       "    </tr>\n",
       "    <tr>\n",
       "      <td>644</td>\n",
       "      <td>https://tabs.ultimate-guitar.com/tab/all_sons_...</td>\n",
       "      <td>Oh How I Need You (ver 3)</td>\n",
       "      <td>2010</td>\n",
       "      <td>Religious Music</td>\n",
       "      <td>[G, D, Em, D, C, G, C, D, C, G, C, D, G, G, D,...</td>\n",
       "      <td>50f7d50e-09ca-469a-828e-67faac5ebdfd</td>\n",
       "      <td>All Sons Daughters</td>\n",
       "      <td>37</td>\n",
       "    </tr>\n",
       "  </tbody>\n",
       "</table>\n",
       "</div>"
      ],
      "text/plain": [
       "                                                     url  \\\n",
       "6663   https://tabs.ultimate-guitar.com/tab/johnny-ca...   \n",
       "12785  https://tabs.ultimate-guitar.com/tab/the_tempt...   \n",
       "5701   https://tabs.ultimate-guitar.com/tab/iron-maid...   \n",
       "8545   https://tabs.ultimate-guitar.com/tab/metallica...   \n",
       "1636   https://tabs.ultimate-guitar.com/tab/bob_marle...   \n",
       "10996  https://tabs.ultimate-guitar.com/tab/shawn_men...   \n",
       "9086   https://tabs.ultimate-guitar.com/tab/nelly/jus...   \n",
       "3487   https://tabs.ultimate-guitar.com/tab/dwight-yo...   \n",
       "3121   https://tabs.ultimate-guitar.com/tab/dexys-mid...   \n",
       "644    https://tabs.ultimate-guitar.com/tab/all_sons_...   \n",
       "\n",
       "                               name  decade  \\\n",
       "6663                 Tennessee Stud    1990   \n",
       "12785                 Shakey Ground    1970   \n",
       "5701                   Prodigal Son    1980   \n",
       "8545   Nothing Else Matters (ver 2)    1990   \n",
       "1636                    Mellow Mood    1960   \n",
       "10996     Life Of The Party (ver 3)    2010   \n",
       "9086           Just A Dream (ver 2)    2010   \n",
       "3487             Please Please Baby    1980   \n",
       "3121                   Geno (ver 3)    1980   \n",
       "644       Oh How I Need You (ver 3)    2010   \n",
       "\n",
       "                                         genre  \\\n",
       "6663                             Folk%%Country   \n",
       "12785                         Rhythm And Blues   \n",
       "5701                                     Metal   \n",
       "8545                                     Metal   \n",
       "1636                                    Reggae   \n",
       "10996  Rhythm And Blues%%Rhythm And Blues%%Pop   \n",
       "9086                          Hip Hop%%Hip Hop   \n",
       "3487                          Country%%Country   \n",
       "3121                          Rhythm And Blues   \n",
       "644                            Religious Music   \n",
       "\n",
       "                                                  chords  \\\n",
       "6663   [A, A, G, A, E, A, A, G, A, E, A, A, G, A, D, ...   \n",
       "12785  [E, Em, D, E, Em, D, E, Em, D, E, Em, D, D, E,...   \n",
       "5701   [B, A, G, E, B, A, G, E, G, A, E, G, A, E, G, ...   \n",
       "8545   [Em, D, Dsus4, Cadd2, Em, D, Csus2, Em, D, Csu...   \n",
       "1636   [C, F, C, G, C, F, C, G, C, F, C, G, C, F, C, ...   \n",
       "10996  [Em, G, C, D, Em, C, G, C, Em, G, C, D, Em, C,...   \n",
       "9086   [Em, C, G, D, Em, C, G, D, Em, C, G, D, Em, C,...   \n",
       "3487   [E, E, A, E, A, E, A, E, B7, E, A, E, A, E, B7...   \n",
       "3121   [C#, B, C#, B, C#, B, B, F#m, A, E, B, F#, C#,...   \n",
       "644    [G, D, Em, D, C, G, C, D, C, G, C, D, G, G, D,...   \n",
       "\n",
       "                                       uuid                  artist  \\\n",
       "6663   119a36dc-db49-4001-ac20-fa3057a3ac3f             Johnny Cash   \n",
       "12785  7b14628c-5569-4b7e-9aba-c428d1a6043b         The Temptations   \n",
       "5701   d4b765b1-595a-4f12-8e53-a759b7eb6565             Iron Maiden   \n",
       "8545   c376eca8-1d72-4b08-975c-7b6092b4b5af               Metallica   \n",
       "1636   e414d73c-fb28-4eb8-a7a0-dffb3937a3af              Bob Marley   \n",
       "10996  cf2df935-ee6b-49bc-8a2f-d0ea71f1c825            Shawn Mendes   \n",
       "9086   c4817194-75a4-4397-8daf-1b21c72a541c                   Nelly   \n",
       "3487   67360dbd-4f4c-48f8-96fb-5bcd2ad825fb           Dwight Yoakam   \n",
       "3121   c6564d62-3391-41f3-9da7-139998df0405  Dexys Midnight Runners   \n",
       "644    50f7d50e-09ca-469a-828e-67faac5ebdfd      All Sons Daughters   \n",
       "\n",
       "       cardinality  \n",
       "6663            38  \n",
       "12785           78  \n",
       "5701           105  \n",
       "8545           124  \n",
       "1636            33  \n",
       "10996           89  \n",
       "9086            74  \n",
       "3487            70  \n",
       "3121            56  \n",
       "644             37  "
      ]
     },
     "execution_count": 25,
     "metadata": {},
     "output_type": "execute_result"
    }
   ],
   "source": [
    "df.sample(10)"
   ]
  },
  {
   "cell_type": "code",
   "execution_count": 26,
   "metadata": {},
   "outputs": [
    {
     "data": {
      "text/plain": [
       "count    14114.000000\n",
       "mean        85.521468\n",
       "std         68.705570\n",
       "min          0.000000\n",
       "25%         51.000000\n",
       "50%         77.000000\n",
       "75%        108.000000\n",
       "max       2020.000000\n",
       "Name: cardinality, dtype: float64"
      ]
     },
     "execution_count": 26,
     "metadata": {},
     "output_type": "execute_result"
    }
   ],
   "source": [
    "df['cardinality'].describe()"
   ]
  },
  {
   "cell_type": "code",
   "execution_count": 27,
   "metadata": {},
   "outputs": [
    {
     "data": {
      "text/html": [
       "<div>\n",
       "<style scoped>\n",
       "    .dataframe tbody tr th:only-of-type {\n",
       "        vertical-align: middle;\n",
       "    }\n",
       "\n",
       "    .dataframe tbody tr th {\n",
       "        vertical-align: top;\n",
       "    }\n",
       "\n",
       "    .dataframe thead th {\n",
       "        text-align: right;\n",
       "    }\n",
       "</style>\n",
       "<table border=\"1\" class=\"dataframe\">\n",
       "  <thead>\n",
       "    <tr style=\"text-align: right;\">\n",
       "      <th></th>\n",
       "      <th>url</th>\n",
       "      <th>name</th>\n",
       "      <th>decade</th>\n",
       "      <th>genre</th>\n",
       "      <th>chords</th>\n",
       "      <th>uuid</th>\n",
       "      <th>artist</th>\n",
       "      <th>cardinality</th>\n",
       "    </tr>\n",
       "  </thead>\n",
       "  <tbody>\n",
       "    <tr>\n",
       "      <td>19</td>\n",
       "      <td>https://tabs.ultimate-guitar.com/tab/120815</td>\n",
       "      <td>Balladen Om Herr Fredrik Åkare Och Den Söta Fr...</td>\n",
       "      <td>1960</td>\n",
       "      <td>Jazz</td>\n",
       "      <td>[]</td>\n",
       "      <td>752b3d65-297f-4777-acc4-e9d92e243a72</td>\n",
       "      <td>Unknown</td>\n",
       "      <td>0</td>\n",
       "    </tr>\n",
       "    <tr>\n",
       "      <td>160</td>\n",
       "      <td>https://tabs.ultimate-guitar.com/tab/883/cumul...</td>\n",
       "      <td>Cumuli</td>\n",
       "      <td>1990</td>\n",
       "      <td>Electronic</td>\n",
       "      <td>[]</td>\n",
       "      <td>523bfc79-9f5d-4747-8db3-366bd5d32152</td>\n",
       "      <td>883</td>\n",
       "      <td>0</td>\n",
       "    </tr>\n",
       "    <tr>\n",
       "      <td>163</td>\n",
       "      <td>https://tabs.ultimate-guitar.com/tab/883/rotta...</td>\n",
       "      <td>Rotta X Casa Di Dio</td>\n",
       "      <td>1990</td>\n",
       "      <td>Electronic%%Electronic</td>\n",
       "      <td>[]</td>\n",
       "      <td>8c8a69f6-7027-4816-a91d-d219d87582ca</td>\n",
       "      <td>883</td>\n",
       "      <td>0</td>\n",
       "    </tr>\n",
       "    <tr>\n",
       "      <td>217</td>\n",
       "      <td>https://tabs.ultimate-guitar.com/tab/abba/danc...</td>\n",
       "      <td>Dancing Queen (ver 3)</td>\n",
       "      <td>1970</td>\n",
       "      <td>Pop</td>\n",
       "      <td>[]</td>\n",
       "      <td>044a35a5-3943-49a5-bb6a-e0f5e19776cf</td>\n",
       "      <td>Abba</td>\n",
       "      <td>0</td>\n",
       "    </tr>\n",
       "    <tr>\n",
       "      <td>218</td>\n",
       "      <td>https://tabs.ultimate-guitar.com/tab/abba/danc...</td>\n",
       "      <td>Dancing Queen (ver 4)</td>\n",
       "      <td>1970</td>\n",
       "      <td>Pop%%Pop%%Pop</td>\n",
       "      <td>[]</td>\n",
       "      <td>bb8e839f-0d3f-40b6-9ee3-5fd4aa0301e1</td>\n",
       "      <td>Abba</td>\n",
       "      <td>0</td>\n",
       "    </tr>\n",
       "    <tr>\n",
       "      <td>...</td>\n",
       "      <td>...</td>\n",
       "      <td>...</td>\n",
       "      <td>...</td>\n",
       "      <td>...</td>\n",
       "      <td>...</td>\n",
       "      <td>...</td>\n",
       "      <td>...</td>\n",
       "      <td>...</td>\n",
       "    </tr>\n",
       "    <tr>\n",
       "      <td>12490</td>\n",
       "      <td>https://tabs.ultimate-guitar.com/tab/the_lonel...</td>\n",
       "      <td>Like A Boss</td>\n",
       "      <td>2000</td>\n",
       "      <td>Hip Hop</td>\n",
       "      <td>[]</td>\n",
       "      <td>1a6d53ae-aeea-4bdd-a1e2-3100bbf3c88e</td>\n",
       "      <td>The Lonely Island</td>\n",
       "      <td>0</td>\n",
       "    </tr>\n",
       "    <tr>\n",
       "      <td>13107</td>\n",
       "      <td>https://tabs.ultimate-guitar.com/tab/tony_benn...</td>\n",
       "      <td>A Child Is Born</td>\n",
       "      <td>1970</td>\n",
       "      <td>Jazz</td>\n",
       "      <td>[]</td>\n",
       "      <td>1dc741fc-51a9-40ef-a328-48eb8a467b62</td>\n",
       "      <td>Tony Bennett</td>\n",
       "      <td>0</td>\n",
       "    </tr>\n",
       "    <tr>\n",
       "      <td>13369</td>\n",
       "      <td>https://tabs.ultimate-guitar.com/tab/tyler_the...</td>\n",
       "      <td>Answer</td>\n",
       "      <td>2010</td>\n",
       "      <td>Hip Hop</td>\n",
       "      <td>[]</td>\n",
       "      <td>8474fdc1-00c5-457a-9178-41b1bb48a21f</td>\n",
       "      <td>Tyler The Creator</td>\n",
       "      <td>0</td>\n",
       "    </tr>\n",
       "    <tr>\n",
       "      <td>13802</td>\n",
       "      <td>https://tabs.ultimate-guitar.com/tab/wham/free...</td>\n",
       "      <td>Freedom</td>\n",
       "      <td>1980</td>\n",
       "      <td>Rhythm And Blues%%Rhythm And Blues%%Rhythm And...</td>\n",
       "      <td>[]</td>\n",
       "      <td>f0a72548-c85e-4848-bf60-af2e62993f5d</td>\n",
       "      <td>Wham</td>\n",
       "      <td>0</td>\n",
       "    </tr>\n",
       "    <tr>\n",
       "      <td>14062</td>\n",
       "      <td>https://tabs.ultimate-guitar.com/tab/zac_brown...</td>\n",
       "      <td>As Shes Walking Away</td>\n",
       "      <td>2010</td>\n",
       "      <td>Country</td>\n",
       "      <td>[]</td>\n",
       "      <td>71ce0aa4-973b-41f1-b108-bb7dcd663b81</td>\n",
       "      <td>Zac Brown Band</td>\n",
       "      <td>0</td>\n",
       "    </tr>\n",
       "  </tbody>\n",
       "</table>\n",
       "<p>71 rows × 8 columns</p>\n",
       "</div>"
      ],
      "text/plain": [
       "                                                     url  \\\n",
       "19           https://tabs.ultimate-guitar.com/tab/120815   \n",
       "160    https://tabs.ultimate-guitar.com/tab/883/cumul...   \n",
       "163    https://tabs.ultimate-guitar.com/tab/883/rotta...   \n",
       "217    https://tabs.ultimate-guitar.com/tab/abba/danc...   \n",
       "218    https://tabs.ultimate-guitar.com/tab/abba/danc...   \n",
       "...                                                  ...   \n",
       "12490  https://tabs.ultimate-guitar.com/tab/the_lonel...   \n",
       "13107  https://tabs.ultimate-guitar.com/tab/tony_benn...   \n",
       "13369  https://tabs.ultimate-guitar.com/tab/tyler_the...   \n",
       "13802  https://tabs.ultimate-guitar.com/tab/wham/free...   \n",
       "14062  https://tabs.ultimate-guitar.com/tab/zac_brown...   \n",
       "\n",
       "                                                    name  decade  \\\n",
       "19     Balladen Om Herr Fredrik Åkare Och Den Söta Fr...    1960   \n",
       "160                                               Cumuli    1990   \n",
       "163                                  Rotta X Casa Di Dio    1990   \n",
       "217                                Dancing Queen (ver 3)    1970   \n",
       "218                                Dancing Queen (ver 4)    1970   \n",
       "...                                                  ...     ...   \n",
       "12490                                        Like A Boss    2000   \n",
       "13107                                    A Child Is Born    1970   \n",
       "13369                                             Answer    2010   \n",
       "13802                                            Freedom    1980   \n",
       "14062                               As Shes Walking Away    2010   \n",
       "\n",
       "                                                   genre chords  \\\n",
       "19                                                  Jazz     []   \n",
       "160                                           Electronic     []   \n",
       "163                               Electronic%%Electronic     []   \n",
       "217                                                  Pop     []   \n",
       "218                                        Pop%%Pop%%Pop     []   \n",
       "...                                                  ...    ...   \n",
       "12490                                            Hip Hop     []   \n",
       "13107                                               Jazz     []   \n",
       "13369                                            Hip Hop     []   \n",
       "13802  Rhythm And Blues%%Rhythm And Blues%%Rhythm And...     []   \n",
       "14062                                            Country     []   \n",
       "\n",
       "                                       uuid             artist  cardinality  \n",
       "19     752b3d65-297f-4777-acc4-e9d92e243a72            Unknown            0  \n",
       "160    523bfc79-9f5d-4747-8db3-366bd5d32152                883            0  \n",
       "163    8c8a69f6-7027-4816-a91d-d219d87582ca                883            0  \n",
       "217    044a35a5-3943-49a5-bb6a-e0f5e19776cf               Abba            0  \n",
       "218    bb8e839f-0d3f-40b6-9ee3-5fd4aa0301e1               Abba            0  \n",
       "...                                     ...                ...          ...  \n",
       "12490  1a6d53ae-aeea-4bdd-a1e2-3100bbf3c88e  The Lonely Island            0  \n",
       "13107  1dc741fc-51a9-40ef-a328-48eb8a467b62       Tony Bennett            0  \n",
       "13369  8474fdc1-00c5-457a-9178-41b1bb48a21f  Tyler The Creator            0  \n",
       "13802  f0a72548-c85e-4848-bf60-af2e62993f5d               Wham            0  \n",
       "14062  71ce0aa4-973b-41f1-b108-bb7dcd663b81     Zac Brown Band            0  \n",
       "\n",
       "[71 rows x 8 columns]"
      ]
     },
     "execution_count": 27,
     "metadata": {},
     "output_type": "execute_result"
    }
   ],
   "source": [
    "df[df['cardinality'] == 0]"
   ]
  },
  {
   "cell_type": "markdown",
   "metadata": {},
   "source": [
    "Some songs are been uploaded by user/ultimate guitar without including the special format for the chords, for example, in https://tabs.ultimate-guitar.com/tab/883/rotta-x-casa-di-dio-chords-89055. Let's remove them"
   ]
  },
  {
   "cell_type": "code",
   "execution_count": 28,
   "metadata": {},
   "outputs": [],
   "source": [
    "df = df[df['cardinality'] != 0]"
   ]
  },
  {
   "cell_type": "code",
   "execution_count": 29,
   "metadata": {},
   "outputs": [
    {
     "data": {
      "text/plain": [
       "count    14043.000000\n",
       "mean        85.953856\n",
       "std         68.608710\n",
       "min          1.000000\n",
       "25%         51.000000\n",
       "50%         77.000000\n",
       "75%        108.000000\n",
       "max       2020.000000\n",
       "Name: cardinality, dtype: float64"
      ]
     },
     "execution_count": 29,
     "metadata": {},
     "output_type": "execute_result"
    }
   ],
   "source": [
    "df['cardinality'].describe()"
   ]
  },
  {
   "cell_type": "markdown",
   "metadata": {},
   "source": [
    "The same occurs for songs with one or two chords (eg. https://tabs.ultimate-guitar.com/tab/mad-caddies/souls-for-sale-chords-837415)"
   ]
  },
  {
   "cell_type": "code",
   "execution_count": 30,
   "metadata": {},
   "outputs": [],
   "source": [
    "df = df[df['cardinality'] != 1]"
   ]
  },
  {
   "cell_type": "code",
   "execution_count": 31,
   "metadata": {},
   "outputs": [],
   "source": [
    "df = df[df['cardinality'] != 2]"
   ]
  },
  {
   "cell_type": "code",
   "execution_count": 32,
   "metadata": {},
   "outputs": [
    {
     "data": {
      "text/plain": [
       "count    14031.000000\n",
       "mean        86.026014\n",
       "std         68.593639\n",
       "min          3.000000\n",
       "25%         51.000000\n",
       "50%         78.000000\n",
       "75%        108.000000\n",
       "max       2020.000000\n",
       "Name: cardinality, dtype: float64"
      ]
     },
     "execution_count": 32,
     "metadata": {},
     "output_type": "execute_result"
    }
   ],
   "source": [
    "df['cardinality'].describe()"
   ]
  },
  {
   "cell_type": "code",
   "execution_count": 33,
   "metadata": {},
   "outputs": [
    {
     "data": {
      "text/plain": [
       "0    68\n",
       "1    72\n",
       "dtype: int64"
      ]
     },
     "execution_count": 33,
     "metadata": {},
     "output_type": "execute_result"
    }
   ],
   "source": [
    "df['cardinality'].mode()"
   ]
  },
  {
   "cell_type": "markdown",
   "metadata": {},
   "source": [
    "Total number of chords"
   ]
  },
  {
   "cell_type": "code",
   "execution_count": 34,
   "metadata": {},
   "outputs": [
    {
     "data": {
      "text/plain": [
       "1207031"
      ]
     },
     "execution_count": 34,
     "metadata": {},
     "output_type": "execute_result"
    }
   ],
   "source": [
    "df['cardinality'].sum()"
   ]
  },
  {
   "cell_type": "code",
   "execution_count": 35,
   "metadata": {},
   "outputs": [],
   "source": [
    "import matplotlib.pyplot as plt"
   ]
  },
  {
   "cell_type": "code",
   "execution_count": 36,
   "metadata": {},
   "outputs": [
    {
     "data": {
      "text/plain": [
       "<matplotlib.axes._subplots.AxesSubplot at 0x12207ed50>"
      ]
     },
     "execution_count": 36,
     "metadata": {},
     "output_type": "execute_result"
    },
    {
     "data": {
      "image/png": "[encoded data removed]",
      "text/plain": [
       "<Figure size 432x288 with 1 Axes>"
      ]
     },
     "metadata": {
      "needs_background": "light"
     },
     "output_type": "display_data"
    }
   ],
   "source": [
    "df['cardinality'].hist(bins=100)"
   ]
  },
  {
   "cell_type": "markdown",
   "metadata": {},
   "source": [
    "### Unique cardinality (number of different chords) "
   ]
  },
  {
   "cell_type": "code",
   "execution_count": 37,
   "metadata": {},
   "outputs": [],
   "source": [
    "df['unique cardinality'] = df['chords'].apply(feature_extractor.extract_unique_cardinality)"
   ]
  },
  {
   "cell_type": "code",
   "execution_count": 38,
   "metadata": {},
   "outputs": [
    {
     "data": {
      "text/plain": [
       "count    14031.000000\n",
       "mean         7.629606\n",
       "std          5.418258\n",
       "min          1.000000\n",
       "25%          4.000000\n",
       "50%          6.000000\n",
       "75%          9.000000\n",
       "max        101.000000\n",
       "Name: unique cardinality, dtype: float64"
      ]
     },
     "execution_count": 38,
     "metadata": {},
     "output_type": "execute_result"
    }
   ],
   "source": [
    "df['unique cardinality'].describe()"
   ]
  },
  {
   "cell_type": "markdown",
   "metadata": {},
   "source": [
    "Mode is 4...modern music is not very rich..."
   ]
  },
  {
   "cell_type": "code",
   "execution_count": 39,
   "metadata": {},
   "outputs": [
    {
     "data": {
      "text/plain": [
       "0    4\n",
       "dtype: int64"
      ]
     },
     "execution_count": 39,
     "metadata": {},
     "output_type": "execute_result"
    }
   ],
   "source": [
    "df['unique cardinality'].mode()"
   ]
  },
  {
   "cell_type": "code",
   "execution_count": 40,
   "metadata": {},
   "outputs": [
    {
     "data": {
      "text/plain": [
       "<matplotlib.axes._subplots.AxesSubplot at 0x122ce7710>"
      ]
     },
     "execution_count": 40,
     "metadata": {},
     "output_type": "execute_result"
    },
    {
     "data": {
      "image/png": "[encoded data removed]",
      "text/plain": [
       "<Figure size 432x288 with 1 Axes>"
      ]
     },
     "metadata": {
      "needs_background": "light"
     },
     "output_type": "display_data"
    }
   ],
   "source": [
    "df['unique cardinality'].hist(bins=100)"
   ]
  },
  {
   "cell_type": "code",
   "execution_count": 41,
   "metadata": {},
   "outputs": [],
   "source": [
    "pop = df[df['genre'].str.contains('Pop')]"
   ]
  },
  {
   "cell_type": "code",
   "execution_count": 42,
   "metadata": {},
   "outputs": [],
   "source": [
    "jazz = df[df['genre'].str.contains('Jazz')]"
   ]
  },
  {
   "cell_type": "code",
   "execution_count": 43,
   "metadata": {},
   "outputs": [
    {
     "data": {
      "text/plain": [
       "0    5\n",
       "dtype: int64"
      ]
     },
     "execution_count": 43,
     "metadata": {},
     "output_type": "execute_result"
    }
   ],
   "source": [
    "pop['unique cardinality'].mode()"
   ]
  },
  {
   "cell_type": "code",
   "execution_count": 44,
   "metadata": {},
   "outputs": [
    {
     "data": {
      "text/plain": [
       "0    6\n",
       "dtype: int64"
      ]
     },
     "execution_count": 44,
     "metadata": {},
     "output_type": "execute_result"
    }
   ],
   "source": [
    "jazz['unique cardinality'].mode()"
   ]
  },
  {
   "cell_type": "markdown",
   "metadata": {},
   "source": [
    "## Genre (to be improved) "
   ]
  },
  {
   "cell_type": "code",
   "execution_count": 26,
   "metadata": {},
   "outputs": [
    {
     "data": {
      "text/plain": [
       "array(['Folk', 'Folk%%Pop', 'Electronic', 'Classical%%Pop',\n",
       "       'Electronic%%Pop', 'Jazz', 'Pop', 'Rock',\n",
       "       'Contemporary R&b%%Rhythm And Blues', 'Rhythm And Blues',\n",
       "       'World Music', 'Reggae', 'Metal', 'Hip Hop', 'Jazz%%Pop',\n",
       "       'Hip Hop%%Rhythm And Blues', 'Jazz%%World Music', 'Disco',\n",
       "       'Folk%%Jazz', 'Contemporary R&b', 'Electronic%%Rock',\n",
       "       'Electronic%%Pop%%Rock', 'Disco%%Pop', 'Pop%%Rhythm And Blues',\n",
       "       'Pop%%Rock', 'Contemporary R&b%%Hip Hop',\n",
       "       'Religious Music%%Rhythm And Blues', 'Country', 'Folk%%Rock',\n",
       "       'Blues', 'Contemporary R&b%%Electronic',\n",
       "       'Electronic%%Rhythm And Blues', 'Folk%%Religious Music',\n",
       "       'Religious Music', 'Pop%%Religious Music',\n",
       "       'Jazz%%Rhythm And Blues', 'Contemporary R&b%%Pop', 'Metal%%Rock',\n",
       "       'Darkwave', 'Blues%%Rock', 'Disco%%Pop%%Rock',\n",
       "       'Folk%%Rhythm And Blues', 'Folk%%Pop%%Rock',\n",
       "       'Disco%%Rhythm And Blues', 'Blues%%Rhythm And Blues',\n",
       "       'Rhythm And Blues%%Rock', 'Country%%Folk%%Rock', 'Country%%Folk',\n",
       "       'Country%%Folk%%Pop', 'Country%%Folk%%Pop%%Rock',\n",
       "       'Country%%Rhythm And Blues',\n",
       "       'Country%%Folk%%Pop%%Rhythm And Blues', 'Religious Music%%Rock',\n",
       "       'Contemporary R&b%%Rock', 'Contemporary R&b%%Electronic%%Pop',\n",
       "       'Country%%Rock', 'Contemporary R&b%%Pop%%Rhythm And Blues',\n",
       "       'Soundtrack', 'Contemporary R&b%%Folk%%Rhythm And Blues',\n",
       "       'Classical', 'Electronic%%Religious Music',\n",
       "       'Hip Hop%%Religious Music', 'Electronic%%Folk',\n",
       "       'Darkwave%%Electronic', 'New Age', 'Blues%%Pop%%Rock',\n",
       "       'Blues%%Pop', 'Pop%%Reggae', 'Blues%%Folk',\n",
       "       'Pop%%Rhythm And Blues%%Rock', 'Country%%Rhythm And Blues%%Rock',\n",
       "       'Blues%%Rhythm And Blues%%Rock', 'Electronic%%Hip Hop',\n",
       "       'Contemporary R&b%%Hip Hop%%Pop', 'Comedy', 'Classical%%Jazz',\n",
       "       'Blues%%Metal', 'Folk%%Jazz%%Pop', 'Country%%Pop',\n",
       "       'Classical%%Folk', 'Classical%%Country%%Folk', 'Folk%%World Music',\n",
       "       'Electronic%%Religious Music%%Rock', 'Electronic%%Folk%%Pop%%Rock',\n",
       "       'Experimental', 'Classical%%Soundtrack', 'New Age%%World Music',\n",
       "       'Contemporary R&b%%Electronic%%Rhythm And Blues',\n",
       "       'Comedy%%Hip Hop', 'Contemporary R&b%%Pop%%Rock',\n",
       "       'Electronic%%Experimental', 'Blues%%Religious Music',\n",
       "       'Electronic%%Metal', 'Electronic%%Metal%%Rock',\n",
       "       'Country%%Pop%%Rhythm And Blues', 'Jazz%%Pop%%Rhythm And Blues',\n",
       "       'Contemporary R&b%%Jazz%%Rhythm And Blues', 'Electronic%%Reggae',\n",
       "       'Contemporary R&b%%Disco', 'Contemporary R&b%%Disco%%Pop',\n",
       "       'Contemporary R&b%%Disco%%Pop%%Rock', 'Pop%%Religious Music%%Rock',\n",
       "       'Blues%%Jazz', 'Contemporary R&b%%Jazz', 'Reggae%%Rock',\n",
       "       'Electronic%%World Music', 'Country%%Jazz%%Rhythm And Blues',\n",
       "       'Country%%Jazz', 'Contemporary R&b%%Reggae',\n",
       "       'Contemporary R&b%%Pop%%Reggae', 'Hip Hop%%Reggae',\n",
       "       'Pop%%World Music', 'Blues%%Country', 'Country%%Pop%%Rock',\n",
       "       'Reggae%%Rhythm And Blues', 'Electronic%%Reggae%%Rhythm And Blues',\n",
       "       'Folk%%Pop%%World Music', 'Electronic%%Pop%%Rhythm And Blues',\n",
       "       'Hip Hop%%Rock', 'Metal%%Pop%%Rock',\n",
       "       'Folk%%Rhythm And Blues%%Rock', 'Folk%%Jazz%%Rhythm And Blues',\n",
       "       'Folk%%Jazz%%Rhythm And Blues%%Rock',\n",
       "       'Blues%%Jazz%%Rhythm And Blues', 'Blues%%Country%%Jazz',\n",
       "       'Contemporary R&b%%Hip Hop%%Reggae'], dtype=object)"
      ]
     },
     "execution_count": 26,
     "metadata": {},
     "output_type": "execute_result"
    }
   ],
   "source": [
    "def remove_duplicate_genre_inside_cell(value):\n",
    "    unique_genres = list(set(value.split('%%')))\n",
    "    unique_genres.sort(key=str.lower)\n",
    "    return '%%'.join(unique_genres)\n",
    "    \n",
    "\n",
    "df['genre'].apply(remove_duplicate_genre_inside_cell).unique()"
   ]
  },
  {
   "cell_type": "markdown",
   "metadata": {},
   "source": [
    "## "
   ]
  }
 ],
 "metadata": {
  "kernelspec": {
   "display_name": "Python 3",
   "language": "python",
   "name": "python3"
  },
  "language_info": {
   "codemirror_mode": {
    "name": "ipython",
    "version": 3
   },
   "file_extension": ".py",
   "mimetype": "text/x-python",
   "name": "python",
   "nbconvert_exporter": "python",
   "pygments_lexer": "ipython3",
   "version": "3.7.4"
  },
  "toc": {
   "base_numbering": 1,
   "nav_menu": {},
   "number_sections": true,
   "sideBar": true,
   "skip_h1_title": false,
   "title_cell": "Table of Contents",
   "title_sidebar": "Contents",
   "toc_cell": false,
   "toc_position": {},
   "toc_section_display": true,
   "toc_window_display": false
  }
 },
 "nbformat": 4,
 "nbformat_minor": 2
}
