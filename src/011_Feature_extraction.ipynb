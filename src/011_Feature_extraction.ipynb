{
 "cells": [
  {
   "cell_type": "markdown",
   "metadata": {},
   "source": [
    "## Feature extraction "
   ]
  },
  {
   "cell_type": "code",
   "execution_count": 1,
   "metadata": {},
   "outputs": [],
   "source": [
    "from jl_song_data import SongData "
   ]
  },
  {
   "cell_type": "code",
   "execution_count": 2,
   "metadata": {},
   "outputs": [],
   "source": [
    "data = SongData('../data/chords_clean_1_2_3_4_5_6.csv')"
   ]
  },
  {
   "cell_type": "code",
   "execution_count": 3,
   "metadata": {},
   "outputs": [],
   "source": [
    "df = data.df"
   ]
  },
  {
   "cell_type": "code",
   "execution_count": 4,
   "metadata": {},
   "outputs": [],
   "source": [
    "from jl_feature_extractor import FeatureExtractor    \n",
    "\n",
    "feature_extractor = FeatureExtractor()"
   ]
  },
  {
   "cell_type": "markdown",
   "metadata": {},
   "source": [
    "##  Extract artist "
   ]
  },
  {
   "cell_type": "code",
   "execution_count": 5,
   "metadata": {},
   "outputs": [],
   "source": [
    "df['artist'] = df['url'].apply(feature_extractor.extract_pretty_artist)"
   ]
  },
  {
   "cell_type": "code",
   "execution_count": 6,
   "metadata": {},
   "outputs": [
    {
     "data": {
      "text/html": [
       "<div>\n",
       "<style scoped>\n",
       "    .dataframe tbody tr th:only-of-type {\n",
       "        vertical-align: middle;\n",
       "    }\n",
       "\n",
       "    .dataframe tbody tr th {\n",
       "        vertical-align: top;\n",
       "    }\n",
       "\n",
       "    .dataframe thead th {\n",
       "        text-align: right;\n",
       "    }\n",
       "</style>\n",
       "<table border=\"1\" class=\"dataframe\">\n",
       "  <thead>\n",
       "    <tr style=\"text-align: right;\">\n",
       "      <th></th>\n",
       "      <th>url</th>\n",
       "      <th>name</th>\n",
       "      <th>decade</th>\n",
       "      <th>genre</th>\n",
       "      <th>chords</th>\n",
       "      <th>uuid</th>\n",
       "      <th>artist</th>\n",
       "    </tr>\n",
       "  </thead>\n",
       "  <tbody>\n",
       "    <tr>\n",
       "      <td>8062</td>\n",
       "      <td>https://tabs.ultimate-guitar.com/tab/madonna/d...</td>\n",
       "      <td>Dont Tell Me (ver 2)</td>\n",
       "      <td>2000s</td>\n",
       "      <td>Electronic%%Electronic</td>\n",
       "      <td>['D', 'Am', 'C', 'G', 'D', 'Am', 'C', 'G', 'D'...</td>\n",
       "      <td>6f59cba0-30aa-4071-a512-c0ee66f082ea</td>\n",
       "      <td>Madonna</td>\n",
       "    </tr>\n",
       "    <tr>\n",
       "      <td>10308</td>\n",
       "      <td>https://tabs.ultimate-guitar.com/tab/red/piece...</td>\n",
       "      <td>Pieces (ver 2)</td>\n",
       "      <td>2000s</td>\n",
       "      <td>Metal</td>\n",
       "      <td>['E', 'F#', 'G#m', 'G#m', 'E', 'E', 'F#', 'G#m...</td>\n",
       "      <td>7a2351e9-6340-4032-be2e-fdfc98e85f16</td>\n",
       "      <td>Red</td>\n",
       "    </tr>\n",
       "    <tr>\n",
       "      <td>13479</td>\n",
       "      <td>https://tabs.ultimate-guitar.com/tab/usher/mov...</td>\n",
       "      <td>Moving Mountains (ver 2)</td>\n",
       "      <td>2000s</td>\n",
       "      <td>Contemporary R&amp;b</td>\n",
       "      <td>['Em', 'C', 'G', 'D', 'Em', 'C', 'G', 'D', 'Em...</td>\n",
       "      <td>7af36ad0-f206-430a-8535-970c9743bc33</td>\n",
       "      <td>Usher</td>\n",
       "    </tr>\n",
       "    <tr>\n",
       "      <td>2483</td>\n",
       "      <td>https://tabs.ultimate-guitar.com/tab/christy-m...</td>\n",
       "      <td>Ordinary Man (ver 2)</td>\n",
       "      <td>1980s</td>\n",
       "      <td>Folk</td>\n",
       "      <td>['F', 'G', 'Am', 'C', 'E', 'F', 'G', 'Am', 'Am...</td>\n",
       "      <td>6711ad43-1fb8-452b-94bc-a1338b133ab2</td>\n",
       "      <td>Christy Moore</td>\n",
       "    </tr>\n",
       "    <tr>\n",
       "      <td>10322</td>\n",
       "      <td>https://tabs.ultimate-guitar.com/tab/reel-big-...</td>\n",
       "      <td>Dont Stop Skankin</td>\n",
       "      <td>2010s</td>\n",
       "      <td>Reggae</td>\n",
       "      <td>['Dm', 'Am', 'A#', 'A', 'Dm', 'Am', 'G', 'A#',...</td>\n",
       "      <td>c4a52d97-400e-4c12-830f-9dec74709ba6</td>\n",
       "      <td>Reel Big Fish</td>\n",
       "    </tr>\n",
       "    <tr>\n",
       "      <td>4594</td>\n",
       "      <td>https://tabs.ultimate-guitar.com/tab/frank-sin...</td>\n",
       "      <td>Autumn Leaves (ver 2)</td>\n",
       "      <td>1950s</td>\n",
       "      <td>Pop%%Jazz</td>\n",
       "      <td>['Dm7', 'Bb/D', 'C', 'Fmaj7', 'Bm7b5', 'E7', '...</td>\n",
       "      <td>cd798f72-4f36-4bb7-93cb-567039a0b546</td>\n",
       "      <td>Frank Sinatra</td>\n",
       "    </tr>\n",
       "    <tr>\n",
       "      <td>5578</td>\n",
       "      <td>https://tabs.ultimate-guitar.com/tab/howlin-wo...</td>\n",
       "      <td>Spoonful</td>\n",
       "      <td>1960s</td>\n",
       "      <td>Blues</td>\n",
       "      <td>['Em', 'G', 'Em', 'G7', 'Em', 'G7', 'Em', 'G7'...</td>\n",
       "      <td>0e723088-08ba-4ebc-b26d-b0911eb23438</td>\n",
       "      <td>Howlin Wolf</td>\n",
       "    </tr>\n",
       "    <tr>\n",
       "      <td>9102</td>\n",
       "      <td>https://tabs.ultimate-guitar.com/tab/neutral-m...</td>\n",
       "      <td>A Baby For Pree</td>\n",
       "      <td>1990s</td>\n",
       "      <td>Folk</td>\n",
       "      <td>['C', 'F', 'C', 'F', 'C', 'F', 'C', 'F', 'E', ...</td>\n",
       "      <td>c4a081ae-1079-45d4-8e19-b98ed2b1a2d9</td>\n",
       "      <td>Neutral Milk Hotel</td>\n",
       "    </tr>\n",
       "    <tr>\n",
       "      <td>12889</td>\n",
       "      <td>https://tabs.ultimate-guitar.com/tab/tim_mcgra...</td>\n",
       "      <td>Humble And Kind (ver 2)</td>\n",
       "      <td>2010s</td>\n",
       "      <td>Country</td>\n",
       "      <td>['G', 'Em', 'C', 'G', 'Em', 'C', 'G', 'G', 'Em...</td>\n",
       "      <td>c6c11352-9aa8-4ef2-a0d5-4ad76052d0c9</td>\n",
       "      <td>Tim Mcgraw</td>\n",
       "    </tr>\n",
       "    <tr>\n",
       "      <td>5669</td>\n",
       "      <td>https://tabs.ultimate-guitar.com/tab/inner-cir...</td>\n",
       "      <td>Black Roses</td>\n",
       "      <td>1990s</td>\n",
       "      <td>Reggae</td>\n",
       "      <td>['Bb', 'G', 'Bbmaj7', 'Gm', 'Bb', 'G', 'Bbmaj7...</td>\n",
       "      <td>1f86c8d2-e232-41ef-b768-e3772db69c21</td>\n",
       "      <td>Inner Circle</td>\n",
       "    </tr>\n",
       "  </tbody>\n",
       "</table>\n",
       "</div>"
      ],
      "text/plain": [
       "                                                     url  \\\n",
       "8062   https://tabs.ultimate-guitar.com/tab/madonna/d...   \n",
       "10308  https://tabs.ultimate-guitar.com/tab/red/piece...   \n",
       "13479  https://tabs.ultimate-guitar.com/tab/usher/mov...   \n",
       "2483   https://tabs.ultimate-guitar.com/tab/christy-m...   \n",
       "10322  https://tabs.ultimate-guitar.com/tab/reel-big-...   \n",
       "4594   https://tabs.ultimate-guitar.com/tab/frank-sin...   \n",
       "5578   https://tabs.ultimate-guitar.com/tab/howlin-wo...   \n",
       "9102   https://tabs.ultimate-guitar.com/tab/neutral-m...   \n",
       "12889  https://tabs.ultimate-guitar.com/tab/tim_mcgra...   \n",
       "5669   https://tabs.ultimate-guitar.com/tab/inner-cir...   \n",
       "\n",
       "                           name decade                   genre  \\\n",
       "8062       Dont Tell Me (ver 2)  2000s  Electronic%%Electronic   \n",
       "10308            Pieces (ver 2)  2000s                   Metal   \n",
       "13479  Moving Mountains (ver 2)  2000s        Contemporary R&b   \n",
       "2483       Ordinary Man (ver 2)  1980s                    Folk   \n",
       "10322         Dont Stop Skankin  2010s                  Reggae   \n",
       "4594      Autumn Leaves (ver 2)  1950s               Pop%%Jazz   \n",
       "5578                   Spoonful  1960s                   Blues   \n",
       "9102            A Baby For Pree  1990s                    Folk   \n",
       "12889   Humble And Kind (ver 2)  2010s                 Country   \n",
       "5669                Black Roses  1990s                  Reggae   \n",
       "\n",
       "                                                  chords  \\\n",
       "8062   ['D', 'Am', 'C', 'G', 'D', 'Am', 'C', 'G', 'D'...   \n",
       "10308  ['E', 'F#', 'G#m', 'G#m', 'E', 'E', 'F#', 'G#m...   \n",
       "13479  ['Em', 'C', 'G', 'D', 'Em', 'C', 'G', 'D', 'Em...   \n",
       "2483   ['F', 'G', 'Am', 'C', 'E', 'F', 'G', 'Am', 'Am...   \n",
       "10322  ['Dm', 'Am', 'A#', 'A', 'Dm', 'Am', 'G', 'A#',...   \n",
       "4594   ['Dm7', 'Bb/D', 'C', 'Fmaj7', 'Bm7b5', 'E7', '...   \n",
       "5578   ['Em', 'G', 'Em', 'G7', 'Em', 'G7', 'Em', 'G7'...   \n",
       "9102   ['C', 'F', 'C', 'F', 'C', 'F', 'C', 'F', 'E', ...   \n",
       "12889  ['G', 'Em', 'C', 'G', 'Em', 'C', 'G', 'G', 'Em...   \n",
       "5669   ['Bb', 'G', 'Bbmaj7', 'Gm', 'Bb', 'G', 'Bbmaj7...   \n",
       "\n",
       "                                       uuid              artist  \n",
       "8062   6f59cba0-30aa-4071-a512-c0ee66f082ea             Madonna  \n",
       "10308  7a2351e9-6340-4032-be2e-fdfc98e85f16                 Red  \n",
       "13479  7af36ad0-f206-430a-8535-970c9743bc33               Usher  \n",
       "2483   6711ad43-1fb8-452b-94bc-a1338b133ab2       Christy Moore  \n",
       "10322  c4a52d97-400e-4c12-830f-9dec74709ba6       Reel Big Fish  \n",
       "4594   cd798f72-4f36-4bb7-93cb-567039a0b546       Frank Sinatra  \n",
       "5578   0e723088-08ba-4ebc-b26d-b0911eb23438         Howlin Wolf  \n",
       "9102   c4a081ae-1079-45d4-8e19-b98ed2b1a2d9  Neutral Milk Hotel  \n",
       "12889  c6c11352-9aa8-4ef2-a0d5-4ad76052d0c9          Tim Mcgraw  \n",
       "5669   1f86c8d2-e232-41ef-b768-e3772db69c21        Inner Circle  "
      ]
     },
     "execution_count": 6,
     "metadata": {},
     "output_type": "execute_result"
    }
   ],
   "source": [
    "df.sample(10)"
   ]
  },
  {
   "cell_type": "markdown",
   "metadata": {},
   "source": [
    "## Extract decade as numeric "
   ]
  },
  {
   "cell_type": "code",
   "execution_count": 7,
   "metadata": {},
   "outputs": [
    {
     "data": {
      "text/plain": [
       "array(['1980s', '2000s', '2010s', '1990s', '1960s', '1970s', '1950s'],\n",
       "      dtype=object)"
      ]
     },
     "execution_count": 7,
     "metadata": {},
     "output_type": "execute_result"
    }
   ],
   "source": [
    "df['decade'].unique()"
   ]
  },
  {
   "cell_type": "code",
   "execution_count": 8,
   "metadata": {},
   "outputs": [],
   "source": [
    "df['decade'] = df['decade'].apply(feature_extractor.extract_numeric_decade)"
   ]
  },
  {
   "cell_type": "code",
   "execution_count": 9,
   "metadata": {},
   "outputs": [
    {
     "data": {
      "text/plain": [
       "array([1980, 2000, 2010, 1990, 1960, 1970, 1950])"
      ]
     },
     "execution_count": 9,
     "metadata": {},
     "output_type": "execute_result"
    }
   ],
   "source": [
    "df['decade'].unique()"
   ]
  },
  {
   "cell_type": "markdown",
   "metadata": {},
   "source": [
    "## Harmonics features "
   ]
  },
  {
   "cell_type": "markdown",
   "metadata": {},
   "source": [
    "This eval is to convert string column to array colum"
   ]
  },
  {
   "cell_type": "code",
   "execution_count": 10,
   "metadata": {},
   "outputs": [],
   "source": [
    "df['chords'] = df['chords'].apply(eval)"
   ]
  },
  {
   "cell_type": "markdown",
   "metadata": {},
   "source": [
    "### Cardinality (number of chords) "
   ]
  },
  {
   "cell_type": "code",
   "execution_count": 11,
   "metadata": {},
   "outputs": [],
   "source": [
    "df['cardinality'] = df['chords'].apply(feature_extractor.extract_cardinality)"
   ]
  },
  {
   "cell_type": "code",
   "execution_count": 12,
   "metadata": {},
   "outputs": [
    {
     "data": {
      "text/html": [
       "<div>\n",
       "<style scoped>\n",
       "    .dataframe tbody tr th:only-of-type {\n",
       "        vertical-align: middle;\n",
       "    }\n",
       "\n",
       "    .dataframe tbody tr th {\n",
       "        vertical-align: top;\n",
       "    }\n",
       "\n",
       "    .dataframe thead th {\n",
       "        text-align: right;\n",
       "    }\n",
       "</style>\n",
       "<table border=\"1\" class=\"dataframe\">\n",
       "  <thead>\n",
       "    <tr style=\"text-align: right;\">\n",
       "      <th></th>\n",
       "      <th>url</th>\n",
       "      <th>name</th>\n",
       "      <th>decade</th>\n",
       "      <th>genre</th>\n",
       "      <th>chords</th>\n",
       "      <th>uuid</th>\n",
       "      <th>artist</th>\n",
       "      <th>cardinality</th>\n",
       "    </tr>\n",
       "  </thead>\n",
       "  <tbody>\n",
       "    <tr>\n",
       "      <td>519</td>\n",
       "      <td>https://tabs.ultimate-guitar.com/tab/albert_ki...</td>\n",
       "      <td>Born Under A Bad Sign (ver 2)</td>\n",
       "      <td>1960</td>\n",
       "      <td>Blues%%Blues</td>\n",
       "      <td>[C#, G#, F#, E, C#, C#, C#, G#, F#, E, C#, C#,...</td>\n",
       "      <td>a50c9371-7d34-430c-bf85-bb7e24d8e45d</td>\n",
       "      <td>Albert King</td>\n",
       "      <td>30</td>\n",
       "    </tr>\n",
       "    <tr>\n",
       "      <td>1124</td>\n",
       "      <td>https://tabs.ultimate-guitar.com/tab/beastie_b...</td>\n",
       "      <td>Tough Guy</td>\n",
       "      <td>1990</td>\n",
       "      <td>Hip Hop</td>\n",
       "      <td>[F, G#, Bb, F, G#, Bb, F, G#, Bb, A, F, G#, Bb...</td>\n",
       "      <td>bc42fa03-c0a2-48fc-83cc-23ae30cf8db1</td>\n",
       "      <td>Beastie Boys</td>\n",
       "      <td>60</td>\n",
       "    </tr>\n",
       "    <tr>\n",
       "      <td>4252</td>\n",
       "      <td>https://tabs.ultimate-guitar.com/tab/everythin...</td>\n",
       "      <td>Missing</td>\n",
       "      <td>1990</td>\n",
       "      <td>Pop</td>\n",
       "      <td>[Am, Am, Em7, Am, G, Am, Em7, Am, G, Am, F, G,...</td>\n",
       "      <td>8ac9370e-f16f-4b92-985b-52ce6fecaf87</td>\n",
       "      <td>Everything But The Girl</td>\n",
       "      <td>73</td>\n",
       "    </tr>\n",
       "    <tr>\n",
       "      <td>10260</td>\n",
       "      <td>https://tabs.ultimate-guitar.com/tab/ray-charl...</td>\n",
       "      <td>You Dont Know Me (ver 8)</td>\n",
       "      <td>1960</td>\n",
       "      <td>Jazz</td>\n",
       "      <td>[C, C, CM7, C6, C7, F, FM7, Dm, D#dim, C, A7, ...</td>\n",
       "      <td>0555a301-8b2d-4a12-a924-72910b01f826</td>\n",
       "      <td>Ray Charles</td>\n",
       "      <td>62</td>\n",
       "    </tr>\n",
       "    <tr>\n",
       "      <td>12905</td>\n",
       "      <td>https://tabs.ultimate-guitar.com/tab/timbaland...</td>\n",
       "      <td>If We Ever Meet Again</td>\n",
       "      <td>2000</td>\n",
       "      <td>Contemporary R&amp;b</td>\n",
       "      <td>[G, B7, Em, C, G, B7, Em, C, G, B7, Em, C, G, ...</td>\n",
       "      <td>963e7aef-d614-49a9-93e9-2b4d2fda0b93</td>\n",
       "      <td>Timbaland</td>\n",
       "      <td>36</td>\n",
       "    </tr>\n",
       "    <tr>\n",
       "      <td>3579</td>\n",
       "      <td>https://tabs.ultimate-guitar.com/tab/ed-sheera...</td>\n",
       "      <td>The Parting Glass</td>\n",
       "      <td>2010</td>\n",
       "      <td>Folk</td>\n",
       "      <td>[F#m, D, A, E, F#m, D, A, E, F#m, D, A, E, F#m...</td>\n",
       "      <td>d5b3f50b-56bb-4fc8-804d-a5ed30394463</td>\n",
       "      <td>Ed Sheeran</td>\n",
       "      <td>107</td>\n",
       "    </tr>\n",
       "    <tr>\n",
       "      <td>9008</td>\n",
       "      <td>https://tabs.ultimate-guitar.com/tab/neil-diam...</td>\n",
       "      <td>Sweet Caroline (ver 5)</td>\n",
       "      <td>1970</td>\n",
       "      <td>Pop%%Folk</td>\n",
       "      <td>[G, C, G, D, G, C, G, D, G, Em, D, C, D, D, C,...</td>\n",
       "      <td>6a3bbdd4-9fb9-4a47-acdd-e362569909e1</td>\n",
       "      <td>Neil Diamond</td>\n",
       "      <td>103</td>\n",
       "    </tr>\n",
       "    <tr>\n",
       "      <td>2168</td>\n",
       "      <td>https://tabs.ultimate-guitar.com/tab/carrie-un...</td>\n",
       "      <td>Before He Cheats</td>\n",
       "      <td>2000</td>\n",
       "      <td>Country</td>\n",
       "      <td>[F#m, E, D, E, F#m, E, D, C#, F#m, E, D, C#7, ...</td>\n",
       "      <td>8bbf7ffb-877f-4642-9315-40b1a8a5b528</td>\n",
       "      <td>Carrie Underwood</td>\n",
       "      <td>106</td>\n",
       "    </tr>\n",
       "    <tr>\n",
       "      <td>3084</td>\n",
       "      <td>https://tabs.ultimate-guitar.com/tab/depeche-m...</td>\n",
       "      <td>Sometimes</td>\n",
       "      <td>1980</td>\n",
       "      <td>Electronic</td>\n",
       "      <td>[G, D, G, D, C, G, Em, D, G, D, G, D, C, G, Em...</td>\n",
       "      <td>f1350a8e-93ef-4fe9-8280-e48b3c038001</td>\n",
       "      <td>Depeche Mode</td>\n",
       "      <td>24</td>\n",
       "    </tr>\n",
       "    <tr>\n",
       "      <td>664</td>\n",
       "      <td>https://tabs.ultimate-guitar.com/tab/alligatoa...</td>\n",
       "      <td>Fick Ihn Doch (ver 2)</td>\n",
       "      <td>2010</td>\n",
       "      <td>Hip Hop</td>\n",
       "      <td>[F, E, Am, F, E, Am, F, E, Am, F, E, Am, F, E,...</td>\n",
       "      <td>43e46f01-e8a0-48a9-8ef7-e9100fa729f2</td>\n",
       "      <td>Alligatoah</td>\n",
       "      <td>99</td>\n",
       "    </tr>\n",
       "  </tbody>\n",
       "</table>\n",
       "</div>"
      ],
      "text/plain": [
       "                                                     url  \\\n",
       "519    https://tabs.ultimate-guitar.com/tab/albert_ki...   \n",
       "1124   https://tabs.ultimate-guitar.com/tab/beastie_b...   \n",
       "4252   https://tabs.ultimate-guitar.com/tab/everythin...   \n",
       "10260  https://tabs.ultimate-guitar.com/tab/ray-charl...   \n",
       "12905  https://tabs.ultimate-guitar.com/tab/timbaland...   \n",
       "3579   https://tabs.ultimate-guitar.com/tab/ed-sheera...   \n",
       "9008   https://tabs.ultimate-guitar.com/tab/neil-diam...   \n",
       "2168   https://tabs.ultimate-guitar.com/tab/carrie-un...   \n",
       "3084   https://tabs.ultimate-guitar.com/tab/depeche-m...   \n",
       "664    https://tabs.ultimate-guitar.com/tab/alligatoa...   \n",
       "\n",
       "                                name  decade             genre  \\\n",
       "519    Born Under A Bad Sign (ver 2)    1960      Blues%%Blues   \n",
       "1124                       Tough Guy    1990           Hip Hop   \n",
       "4252                         Missing    1990               Pop   \n",
       "10260       You Dont Know Me (ver 8)    1960              Jazz   \n",
       "12905          If We Ever Meet Again    2000  Contemporary R&b   \n",
       "3579               The Parting Glass    2010              Folk   \n",
       "9008          Sweet Caroline (ver 5)    1970         Pop%%Folk   \n",
       "2168                Before He Cheats    2000           Country   \n",
       "3084                       Sometimes    1980        Electronic   \n",
       "664            Fick Ihn Doch (ver 2)    2010           Hip Hop   \n",
       "\n",
       "                                                  chords  \\\n",
       "519    [C#, G#, F#, E, C#, C#, C#, G#, F#, E, C#, C#,...   \n",
       "1124   [F, G#, Bb, F, G#, Bb, F, G#, Bb, A, F, G#, Bb...   \n",
       "4252   [Am, Am, Em7, Am, G, Am, Em7, Am, G, Am, F, G,...   \n",
       "10260  [C, C, CM7, C6, C7, F, FM7, Dm, D#dim, C, A7, ...   \n",
       "12905  [G, B7, Em, C, G, B7, Em, C, G, B7, Em, C, G, ...   \n",
       "3579   [F#m, D, A, E, F#m, D, A, E, F#m, D, A, E, F#m...   \n",
       "9008   [G, C, G, D, G, C, G, D, G, Em, D, C, D, D, C,...   \n",
       "2168   [F#m, E, D, E, F#m, E, D, C#, F#m, E, D, C#7, ...   \n",
       "3084   [G, D, G, D, C, G, Em, D, G, D, G, D, C, G, Em...   \n",
       "664    [F, E, Am, F, E, Am, F, E, Am, F, E, Am, F, E,...   \n",
       "\n",
       "                                       uuid                   artist  \\\n",
       "519    a50c9371-7d34-430c-bf85-bb7e24d8e45d              Albert King   \n",
       "1124   bc42fa03-c0a2-48fc-83cc-23ae30cf8db1             Beastie Boys   \n",
       "4252   8ac9370e-f16f-4b92-985b-52ce6fecaf87  Everything But The Girl   \n",
       "10260  0555a301-8b2d-4a12-a924-72910b01f826              Ray Charles   \n",
       "12905  963e7aef-d614-49a9-93e9-2b4d2fda0b93                Timbaland   \n",
       "3579   d5b3f50b-56bb-4fc8-804d-a5ed30394463               Ed Sheeran   \n",
       "9008   6a3bbdd4-9fb9-4a47-acdd-e362569909e1             Neil Diamond   \n",
       "2168   8bbf7ffb-877f-4642-9315-40b1a8a5b528         Carrie Underwood   \n",
       "3084   f1350a8e-93ef-4fe9-8280-e48b3c038001             Depeche Mode   \n",
       "664    43e46f01-e8a0-48a9-8ef7-e9100fa729f2               Alligatoah   \n",
       "\n",
       "       cardinality  \n",
       "519             30  \n",
       "1124            60  \n",
       "4252            73  \n",
       "10260           62  \n",
       "12905           36  \n",
       "3579           107  \n",
       "9008           103  \n",
       "2168           106  \n",
       "3084            24  \n",
       "664             99  "
      ]
     },
     "execution_count": 12,
     "metadata": {},
     "output_type": "execute_result"
    }
   ],
   "source": [
    "df.sample(10)"
   ]
  },
  {
   "cell_type": "code",
   "execution_count": 13,
   "metadata": {},
   "outputs": [
    {
     "data": {
      "text/plain": [
       "count    14114.000000\n",
       "mean        85.595012\n",
       "std         68.730613\n",
       "min          0.000000\n",
       "25%         51.000000\n",
       "50%         77.000000\n",
       "75%        108.000000\n",
       "max       2020.000000\n",
       "Name: cardinality, dtype: float64"
      ]
     },
     "execution_count": 13,
     "metadata": {},
     "output_type": "execute_result"
    }
   ],
   "source": [
    "df['cardinality'].describe()"
   ]
  },
  {
   "cell_type": "code",
   "execution_count": 14,
   "metadata": {},
   "outputs": [
    {
     "data": {
      "text/html": [
       "<div>\n",
       "<style scoped>\n",
       "    .dataframe tbody tr th:only-of-type {\n",
       "        vertical-align: middle;\n",
       "    }\n",
       "\n",
       "    .dataframe tbody tr th {\n",
       "        vertical-align: top;\n",
       "    }\n",
       "\n",
       "    .dataframe thead th {\n",
       "        text-align: right;\n",
       "    }\n",
       "</style>\n",
       "<table border=\"1\" class=\"dataframe\">\n",
       "  <thead>\n",
       "    <tr style=\"text-align: right;\">\n",
       "      <th></th>\n",
       "      <th>url</th>\n",
       "      <th>name</th>\n",
       "      <th>decade</th>\n",
       "      <th>genre</th>\n",
       "      <th>chords</th>\n",
       "      <th>uuid</th>\n",
       "      <th>artist</th>\n",
       "      <th>cardinality</th>\n",
       "    </tr>\n",
       "  </thead>\n",
       "  <tbody>\n",
       "    <tr>\n",
       "      <td>19</td>\n",
       "      <td>https://tabs.ultimate-guitar.com/tab/120815</td>\n",
       "      <td>Balladen Om Herr Fredrik Åkare Och Den Söta Fr...</td>\n",
       "      <td>1960</td>\n",
       "      <td>Jazz</td>\n",
       "      <td>[]</td>\n",
       "      <td>752b3d65-297f-4777-acc4-e9d92e243a72</td>\n",
       "      <td>Unknown</td>\n",
       "      <td>0</td>\n",
       "    </tr>\n",
       "    <tr>\n",
       "      <td>160</td>\n",
       "      <td>https://tabs.ultimate-guitar.com/tab/883/cumul...</td>\n",
       "      <td>Cumuli</td>\n",
       "      <td>1990</td>\n",
       "      <td>Electronic</td>\n",
       "      <td>[]</td>\n",
       "      <td>523bfc79-9f5d-4747-8db3-366bd5d32152</td>\n",
       "      <td>883</td>\n",
       "      <td>0</td>\n",
       "    </tr>\n",
       "    <tr>\n",
       "      <td>163</td>\n",
       "      <td>https://tabs.ultimate-guitar.com/tab/883/rotta...</td>\n",
       "      <td>Rotta X Casa Di Dio</td>\n",
       "      <td>1990</td>\n",
       "      <td>Electronic%%Electronic</td>\n",
       "      <td>[]</td>\n",
       "      <td>8c8a69f6-7027-4816-a91d-d219d87582ca</td>\n",
       "      <td>883</td>\n",
       "      <td>0</td>\n",
       "    </tr>\n",
       "    <tr>\n",
       "      <td>217</td>\n",
       "      <td>https://tabs.ultimate-guitar.com/tab/abba/danc...</td>\n",
       "      <td>Dancing Queen (ver 3)</td>\n",
       "      <td>1970</td>\n",
       "      <td>Pop</td>\n",
       "      <td>[]</td>\n",
       "      <td>044a35a5-3943-49a5-bb6a-e0f5e19776cf</td>\n",
       "      <td>Abba</td>\n",
       "      <td>0</td>\n",
       "    </tr>\n",
       "    <tr>\n",
       "      <td>218</td>\n",
       "      <td>https://tabs.ultimate-guitar.com/tab/abba/danc...</td>\n",
       "      <td>Dancing Queen (ver 4)</td>\n",
       "      <td>1970</td>\n",
       "      <td>Pop%%Pop%%Pop</td>\n",
       "      <td>[]</td>\n",
       "      <td>bb8e839f-0d3f-40b6-9ee3-5fd4aa0301e1</td>\n",
       "      <td>Abba</td>\n",
       "      <td>0</td>\n",
       "    </tr>\n",
       "    <tr>\n",
       "      <td>...</td>\n",
       "      <td>...</td>\n",
       "      <td>...</td>\n",
       "      <td>...</td>\n",
       "      <td>...</td>\n",
       "      <td>...</td>\n",
       "      <td>...</td>\n",
       "      <td>...</td>\n",
       "      <td>...</td>\n",
       "    </tr>\n",
       "    <tr>\n",
       "      <td>12490</td>\n",
       "      <td>https://tabs.ultimate-guitar.com/tab/the_lonel...</td>\n",
       "      <td>Like A Boss</td>\n",
       "      <td>2000</td>\n",
       "      <td>Hip Hop</td>\n",
       "      <td>[]</td>\n",
       "      <td>1a6d53ae-aeea-4bdd-a1e2-3100bbf3c88e</td>\n",
       "      <td>The Lonely Island</td>\n",
       "      <td>0</td>\n",
       "    </tr>\n",
       "    <tr>\n",
       "      <td>13107</td>\n",
       "      <td>https://tabs.ultimate-guitar.com/tab/tony_benn...</td>\n",
       "      <td>A Child Is Born</td>\n",
       "      <td>1970</td>\n",
       "      <td>Jazz</td>\n",
       "      <td>[]</td>\n",
       "      <td>1dc741fc-51a9-40ef-a328-48eb8a467b62</td>\n",
       "      <td>Tony Bennett</td>\n",
       "      <td>0</td>\n",
       "    </tr>\n",
       "    <tr>\n",
       "      <td>13369</td>\n",
       "      <td>https://tabs.ultimate-guitar.com/tab/tyler_the...</td>\n",
       "      <td>Answer</td>\n",
       "      <td>2010</td>\n",
       "      <td>Hip Hop</td>\n",
       "      <td>[]</td>\n",
       "      <td>8474fdc1-00c5-457a-9178-41b1bb48a21f</td>\n",
       "      <td>Tyler The Creator</td>\n",
       "      <td>0</td>\n",
       "    </tr>\n",
       "    <tr>\n",
       "      <td>13802</td>\n",
       "      <td>https://tabs.ultimate-guitar.com/tab/wham/free...</td>\n",
       "      <td>Freedom</td>\n",
       "      <td>1980</td>\n",
       "      <td>Rhythm And Blues%%Rhythm And Blues%%Rhythm And...</td>\n",
       "      <td>[]</td>\n",
       "      <td>f0a72548-c85e-4848-bf60-af2e62993f5d</td>\n",
       "      <td>Wham</td>\n",
       "      <td>0</td>\n",
       "    </tr>\n",
       "    <tr>\n",
       "      <td>14062</td>\n",
       "      <td>https://tabs.ultimate-guitar.com/tab/zac_brown...</td>\n",
       "      <td>As Shes Walking Away</td>\n",
       "      <td>2010</td>\n",
       "      <td>Country</td>\n",
       "      <td>[]</td>\n",
       "      <td>71ce0aa4-973b-41f1-b108-bb7dcd663b81</td>\n",
       "      <td>Zac Brown Band</td>\n",
       "      <td>0</td>\n",
       "    </tr>\n",
       "  </tbody>\n",
       "</table>\n",
       "<p>71 rows × 8 columns</p>\n",
       "</div>"
      ],
      "text/plain": [
       "                                                     url  \\\n",
       "19           https://tabs.ultimate-guitar.com/tab/120815   \n",
       "160    https://tabs.ultimate-guitar.com/tab/883/cumul...   \n",
       "163    https://tabs.ultimate-guitar.com/tab/883/rotta...   \n",
       "217    https://tabs.ultimate-guitar.com/tab/abba/danc...   \n",
       "218    https://tabs.ultimate-guitar.com/tab/abba/danc...   \n",
       "...                                                  ...   \n",
       "12490  https://tabs.ultimate-guitar.com/tab/the_lonel...   \n",
       "13107  https://tabs.ultimate-guitar.com/tab/tony_benn...   \n",
       "13369  https://tabs.ultimate-guitar.com/tab/tyler_the...   \n",
       "13802  https://tabs.ultimate-guitar.com/tab/wham/free...   \n",
       "14062  https://tabs.ultimate-guitar.com/tab/zac_brown...   \n",
       "\n",
       "                                                    name  decade  \\\n",
       "19     Balladen Om Herr Fredrik Åkare Och Den Söta Fr...    1960   \n",
       "160                                               Cumuli    1990   \n",
       "163                                  Rotta X Casa Di Dio    1990   \n",
       "217                                Dancing Queen (ver 3)    1970   \n",
       "218                                Dancing Queen (ver 4)    1970   \n",
       "...                                                  ...     ...   \n",
       "12490                                        Like A Boss    2000   \n",
       "13107                                    A Child Is Born    1970   \n",
       "13369                                             Answer    2010   \n",
       "13802                                            Freedom    1980   \n",
       "14062                               As Shes Walking Away    2010   \n",
       "\n",
       "                                                   genre chords  \\\n",
       "19                                                  Jazz     []   \n",
       "160                                           Electronic     []   \n",
       "163                               Electronic%%Electronic     []   \n",
       "217                                                  Pop     []   \n",
       "218                                        Pop%%Pop%%Pop     []   \n",
       "...                                                  ...    ...   \n",
       "12490                                            Hip Hop     []   \n",
       "13107                                               Jazz     []   \n",
       "13369                                            Hip Hop     []   \n",
       "13802  Rhythm And Blues%%Rhythm And Blues%%Rhythm And...     []   \n",
       "14062                                            Country     []   \n",
       "\n",
       "                                       uuid             artist  cardinality  \n",
       "19     752b3d65-297f-4777-acc4-e9d92e243a72            Unknown            0  \n",
       "160    523bfc79-9f5d-4747-8db3-366bd5d32152                883            0  \n",
       "163    8c8a69f6-7027-4816-a91d-d219d87582ca                883            0  \n",
       "217    044a35a5-3943-49a5-bb6a-e0f5e19776cf               Abba            0  \n",
       "218    bb8e839f-0d3f-40b6-9ee3-5fd4aa0301e1               Abba            0  \n",
       "...                                     ...                ...          ...  \n",
       "12490  1a6d53ae-aeea-4bdd-a1e2-3100bbf3c88e  The Lonely Island            0  \n",
       "13107  1dc741fc-51a9-40ef-a328-48eb8a467b62       Tony Bennett            0  \n",
       "13369  8474fdc1-00c5-457a-9178-41b1bb48a21f  Tyler The Creator            0  \n",
       "13802  f0a72548-c85e-4848-bf60-af2e62993f5d               Wham            0  \n",
       "14062  71ce0aa4-973b-41f1-b108-bb7dcd663b81     Zac Brown Band            0  \n",
       "\n",
       "[71 rows x 8 columns]"
      ]
     },
     "execution_count": 14,
     "metadata": {},
     "output_type": "execute_result"
    }
   ],
   "source": [
    "df[df['cardinality'] == 0]"
   ]
  },
  {
   "cell_type": "markdown",
   "metadata": {},
   "source": [
    "Some songs are been uploaded by user/ultimate guitar without including the special format for the chords, for example, in https://tabs.ultimate-guitar.com/tab/883/rotta-x-casa-di-dio-chords-89055. Let's remove them"
   ]
  },
  {
   "cell_type": "code",
   "execution_count": 15,
   "metadata": {},
   "outputs": [],
   "source": [
    "df = df[df['cardinality'] != 0]"
   ]
  },
  {
   "cell_type": "code",
   "execution_count": 16,
   "metadata": {},
   "outputs": [
    {
     "data": {
      "text/plain": [
       "count    14043.000000\n",
       "mean        86.027772\n",
       "std         68.633450\n",
       "min          1.000000\n",
       "25%         51.000000\n",
       "50%         78.000000\n",
       "75%        109.000000\n",
       "max       2020.000000\n",
       "Name: cardinality, dtype: float64"
      ]
     },
     "execution_count": 16,
     "metadata": {},
     "output_type": "execute_result"
    }
   ],
   "source": [
    "df['cardinality'].describe()"
   ]
  },
  {
   "cell_type": "markdown",
   "metadata": {},
   "source": [
    "The same occurs for songs with one or two chords (eg. https://tabs.ultimate-guitar.com/tab/mad-caddies/souls-for-sale-chords-837415)"
   ]
  },
  {
   "cell_type": "code",
   "execution_count": 17,
   "metadata": {},
   "outputs": [],
   "source": [
    "df = df[df['cardinality'] != 1]"
   ]
  },
  {
   "cell_type": "code",
   "execution_count": 18,
   "metadata": {},
   "outputs": [],
   "source": [
    "df = df[df['cardinality'] != 2]"
   ]
  },
  {
   "cell_type": "code",
   "execution_count": 19,
   "metadata": {},
   "outputs": [
    {
     "data": {
      "text/plain": [
       "count    14031.000000\n",
       "mean        86.099993\n",
       "std         68.618328\n",
       "min          3.000000\n",
       "25%         52.000000\n",
       "50%         78.000000\n",
       "75%        109.000000\n",
       "max       2020.000000\n",
       "Name: cardinality, dtype: float64"
      ]
     },
     "execution_count": 19,
     "metadata": {},
     "output_type": "execute_result"
    }
   ],
   "source": [
    "df['cardinality'].describe()"
   ]
  },
  {
   "cell_type": "code",
   "execution_count": 20,
   "metadata": {},
   "outputs": [
    {
     "data": {
      "text/plain": [
       "0    68\n",
       "dtype: int64"
      ]
     },
     "execution_count": 20,
     "metadata": {},
     "output_type": "execute_result"
    }
   ],
   "source": [
    "df['cardinality'].mode()"
   ]
  },
  {
   "cell_type": "markdown",
   "metadata": {},
   "source": [
    "Total number of chords"
   ]
  },
  {
   "cell_type": "code",
   "execution_count": 21,
   "metadata": {},
   "outputs": [
    {
     "data": {
      "text/plain": [
       "1208069"
      ]
     },
     "execution_count": 21,
     "metadata": {},
     "output_type": "execute_result"
    }
   ],
   "source": [
    "df['cardinality'].sum()"
   ]
  },
  {
   "cell_type": "code",
   "execution_count": 22,
   "metadata": {},
   "outputs": [],
   "source": [
    "import matplotlib.pyplot as plt"
   ]
  },
  {
   "cell_type": "code",
   "execution_count": 23,
   "metadata": {},
   "outputs": [
    {
     "data": {
      "text/plain": [
       "<matplotlib.axes._subplots.AxesSubplot at 0x116a5eb50>"
      ]
     },
     "execution_count": 23,
     "metadata": {},
     "output_type": "execute_result"
    },
    {
     "data": {
      "image/png": "[encoded data removed]",
      "text/plain": [
       "<Figure size 432x288 with 1 Axes>"
      ]
     },
     "metadata": {
      "needs_background": "light"
     },
     "output_type": "display_data"
    }
   ],
   "source": [
    "df['cardinality'].hist(bins=100)"
   ]
  },
  {
   "cell_type": "markdown",
   "metadata": {},
   "source": [
    "### Unique cardinality (number of different chords) "
   ]
  },
  {
   "cell_type": "code",
   "execution_count": 30,
   "metadata": {},
   "outputs": [],
   "source": [
    "df['unique cardinality'] = df['chords'].apply(feature_extractor.extract_unique_cardinality)"
   ]
  },
  {
   "cell_type": "code",
   "execution_count": 31,
   "metadata": {},
   "outputs": [
    {
     "data": {
      "text/plain": [
       "count    14031.000000\n",
       "mean         7.651343\n",
       "std          5.449871\n",
       "min          1.000000\n",
       "25%          4.000000\n",
       "50%          6.000000\n",
       "75%          9.000000\n",
       "max        101.000000\n",
       "Name: unique cardinality, dtype: float64"
      ]
     },
     "execution_count": 31,
     "metadata": {},
     "output_type": "execute_result"
    }
   ],
   "source": [
    "df['unique cardinality'].describe()"
   ]
  },
  {
   "cell_type": "markdown",
   "metadata": {},
   "source": [
    "Mode is 4...modern music is not very rich..."
   ]
  },
  {
   "cell_type": "code",
   "execution_count": 32,
   "metadata": {},
   "outputs": [
    {
     "data": {
      "text/plain": [
       "0    4\n",
       "dtype: int64"
      ]
     },
     "execution_count": 32,
     "metadata": {},
     "output_type": "execute_result"
    }
   ],
   "source": [
    "df['unique cardinality'].mode()"
   ]
  },
  {
   "cell_type": "code",
   "execution_count": 33,
   "metadata": {},
   "outputs": [
    {
     "data": {
      "text/plain": [
       "<matplotlib.axes._subplots.AxesSubplot at 0x11f189590>"
      ]
     },
     "execution_count": 33,
     "metadata": {},
     "output_type": "execute_result"
    },
    {
     "data": {
      "image/png": "[encoded data removed]",
      "text/plain": [
       "<Figure size 432x288 with 1 Axes>"
      ]
     },
     "metadata": {
      "needs_background": "light"
     },
     "output_type": "display_data"
    }
   ],
   "source": [
    "df['unique cardinality'].hist(bins=100)"
   ]
  },
  {
   "cell_type": "code",
   "execution_count": 38,
   "metadata": {},
   "outputs": [],
   "source": [
    "pop = df[df['genre'].str.contains('Pop')]"
   ]
  },
  {
   "cell_type": "code",
   "execution_count": 39,
   "metadata": {},
   "outputs": [],
   "source": [
    "jazz = df[df['genre'].str.contains('Jazz')]"
   ]
  },
  {
   "cell_type": "code",
   "execution_count": 45,
   "metadata": {},
   "outputs": [
    {
     "data": {
      "text/plain": [
       "0    5\n",
       "dtype: int64"
      ]
     },
     "execution_count": 45,
     "metadata": {},
     "output_type": "execute_result"
    }
   ],
   "source": [
    "pop['unique cardinality'].mode()"
   ]
  },
  {
   "cell_type": "code",
   "execution_count": 46,
   "metadata": {},
   "outputs": [
    {
     "data": {
      "text/plain": [
       "0    6\n",
       "dtype: int64"
      ]
     },
     "execution_count": 46,
     "metadata": {},
     "output_type": "execute_result"
    }
   ],
   "source": [
    "jazz['unique cardinality'].mode()"
   ]
  },
  {
   "cell_type": "markdown",
   "metadata": {},
   "source": [
    "## Genre (to be improved) "
   ]
  },
  {
   "cell_type": "code",
   "execution_count": 26,
   "metadata": {},
   "outputs": [
    {
     "data": {
      "text/plain": [
       "array(['Folk', 'Folk%%Pop', 'Electronic', 'Classical%%Pop',\n",
       "       'Electronic%%Pop', 'Jazz', 'Pop', 'Rock',\n",
       "       'Contemporary R&b%%Rhythm And Blues', 'Rhythm And Blues',\n",
       "       'World Music', 'Reggae', 'Metal', 'Hip Hop', 'Jazz%%Pop',\n",
       "       'Hip Hop%%Rhythm And Blues', 'Jazz%%World Music', 'Disco',\n",
       "       'Folk%%Jazz', 'Contemporary R&b', 'Electronic%%Rock',\n",
       "       'Electronic%%Pop%%Rock', 'Disco%%Pop', 'Pop%%Rhythm And Blues',\n",
       "       'Pop%%Rock', 'Contemporary R&b%%Hip Hop',\n",
       "       'Religious Music%%Rhythm And Blues', 'Country', 'Folk%%Rock',\n",
       "       'Blues', 'Contemporary R&b%%Electronic',\n",
       "       'Electronic%%Rhythm And Blues', 'Folk%%Religious Music',\n",
       "       'Religious Music', 'Pop%%Religious Music',\n",
       "       'Jazz%%Rhythm And Blues', 'Contemporary R&b%%Pop', 'Metal%%Rock',\n",
       "       'Darkwave', 'Blues%%Rock', 'Disco%%Pop%%Rock',\n",
       "       'Folk%%Rhythm And Blues', 'Folk%%Pop%%Rock',\n",
       "       'Disco%%Rhythm And Blues', 'Blues%%Rhythm And Blues',\n",
       "       'Rhythm And Blues%%Rock', 'Country%%Folk%%Rock', 'Country%%Folk',\n",
       "       'Country%%Folk%%Pop', 'Country%%Folk%%Pop%%Rock',\n",
       "       'Country%%Rhythm And Blues',\n",
       "       'Country%%Folk%%Pop%%Rhythm And Blues', 'Religious Music%%Rock',\n",
       "       'Contemporary R&b%%Rock', 'Contemporary R&b%%Electronic%%Pop',\n",
       "       'Country%%Rock', 'Contemporary R&b%%Pop%%Rhythm And Blues',\n",
       "       'Soundtrack', 'Contemporary R&b%%Folk%%Rhythm And Blues',\n",
       "       'Classical', 'Electronic%%Religious Music',\n",
       "       'Hip Hop%%Religious Music', 'Electronic%%Folk',\n",
       "       'Darkwave%%Electronic', 'New Age', 'Blues%%Pop%%Rock',\n",
       "       'Blues%%Pop', 'Pop%%Reggae', 'Blues%%Folk',\n",
       "       'Pop%%Rhythm And Blues%%Rock', 'Country%%Rhythm And Blues%%Rock',\n",
       "       'Blues%%Rhythm And Blues%%Rock', 'Electronic%%Hip Hop',\n",
       "       'Contemporary R&b%%Hip Hop%%Pop', 'Comedy', 'Classical%%Jazz',\n",
       "       'Blues%%Metal', 'Folk%%Jazz%%Pop', 'Country%%Pop',\n",
       "       'Classical%%Folk', 'Classical%%Country%%Folk', 'Folk%%World Music',\n",
       "       'Electronic%%Religious Music%%Rock', 'Electronic%%Folk%%Pop%%Rock',\n",
       "       'Experimental', 'Classical%%Soundtrack', 'New Age%%World Music',\n",
       "       'Contemporary R&b%%Electronic%%Rhythm And Blues',\n",
       "       'Comedy%%Hip Hop', 'Contemporary R&b%%Pop%%Rock',\n",
       "       'Electronic%%Experimental', 'Blues%%Religious Music',\n",
       "       'Electronic%%Metal', 'Electronic%%Metal%%Rock',\n",
       "       'Country%%Pop%%Rhythm And Blues', 'Jazz%%Pop%%Rhythm And Blues',\n",
       "       'Contemporary R&b%%Jazz%%Rhythm And Blues', 'Electronic%%Reggae',\n",
       "       'Contemporary R&b%%Disco', 'Contemporary R&b%%Disco%%Pop',\n",
       "       'Contemporary R&b%%Disco%%Pop%%Rock', 'Pop%%Religious Music%%Rock',\n",
       "       'Blues%%Jazz', 'Contemporary R&b%%Jazz', 'Reggae%%Rock',\n",
       "       'Electronic%%World Music', 'Country%%Jazz%%Rhythm And Blues',\n",
       "       'Country%%Jazz', 'Contemporary R&b%%Reggae',\n",
       "       'Contemporary R&b%%Pop%%Reggae', 'Hip Hop%%Reggae',\n",
       "       'Pop%%World Music', 'Blues%%Country', 'Country%%Pop%%Rock',\n",
       "       'Reggae%%Rhythm And Blues', 'Electronic%%Reggae%%Rhythm And Blues',\n",
       "       'Folk%%Pop%%World Music', 'Electronic%%Pop%%Rhythm And Blues',\n",
       "       'Hip Hop%%Rock', 'Metal%%Pop%%Rock',\n",
       "       'Folk%%Rhythm And Blues%%Rock', 'Folk%%Jazz%%Rhythm And Blues',\n",
       "       'Folk%%Jazz%%Rhythm And Blues%%Rock',\n",
       "       'Blues%%Jazz%%Rhythm And Blues', 'Blues%%Country%%Jazz',\n",
       "       'Contemporary R&b%%Hip Hop%%Reggae'], dtype=object)"
      ]
     },
     "execution_count": 26,
     "metadata": {},
     "output_type": "execute_result"
    }
   ],
   "source": [
    "def remove_duplicate_genre_inside_cell(value):\n",
    "    unique_genres = list(set(value.split('%%')))\n",
    "    unique_genres.sort(key=str.lower)\n",
    "    return '%%'.join(unique_genres)\n",
    "    \n",
    "\n",
    "df['genre'].apply(remove_duplicate_genre_inside_cell).unique()"
   ]
  },
  {
   "cell_type": "markdown",
   "metadata": {},
   "source": [
    "## "
   ]
  }
 ],
 "metadata": {
  "kernelspec": {
   "display_name": "Python 3",
   "language": "python",
   "name": "python3"
  },
  "language_info": {
   "codemirror_mode": {
    "name": "ipython",
    "version": 3
   },
   "file_extension": ".py",
   "mimetype": "text/x-python",
   "name": "python",
   "nbconvert_exporter": "python",
   "pygments_lexer": "ipython3",
   "version": "3.7.4"
  },
  "toc": {
   "base_numbering": 1,
   "nav_menu": {},
   "number_sections": true,
   "sideBar": true,
   "skip_h1_title": false,
   "title_cell": "Table of Contents",
   "title_sidebar": "Contents",
   "toc_cell": false,
   "toc_position": {},
   "toc_section_display": true,
   "toc_window_display": false
  }
 },
 "nbformat": 4,
 "nbformat_minor": 2
}
