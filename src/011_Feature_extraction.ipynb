{
 "cells": [
  {
   "cell_type": "markdown",
   "metadata": {},
   "source": [
    "## Feature extraction "
   ]
  },
  {
   "cell_type": "code",
   "execution_count": 1,
   "metadata": {},
   "outputs": [],
   "source": [
    "from jl_song_data import SongData "
   ]
  },
  {
   "cell_type": "code",
   "execution_count": 2,
   "metadata": {},
   "outputs": [],
   "source": [
    "data = SongData('../data/chords_clean_1_2_3_4_5_6.csv')"
   ]
  },
  {
   "cell_type": "code",
   "execution_count": 3,
   "metadata": {},
   "outputs": [],
   "source": [
    "df = data.df"
   ]
  },
  {
   "cell_type": "code",
   "execution_count": 4,
   "metadata": {},
   "outputs": [],
   "source": [
    "from jl_feature_extractor import FeatureExtractor    \n",
    "\n",
    "feature_extractor = FeatureExtractor()"
   ]
  },
  {
   "cell_type": "markdown",
   "metadata": {},
   "source": [
    "## Remove non valid chords "
   ]
  },
  {
   "cell_type": "markdown",
   "metadata": {},
   "source": [
    "This `eval` is to convert string column to array colum"
   ]
  },
  {
   "cell_type": "code",
   "execution_count": 5,
   "metadata": {},
   "outputs": [],
   "source": [
    "df['chords'] = df['chords'].apply(eval)"
   ]
  },
  {
   "cell_type": "code",
   "execution_count": 6,
   "metadata": {},
   "outputs": [],
   "source": [
    "from jl_chord_parser import ChordParser\n",
    "parser = ChordParser()"
   ]
  },
  {
   "cell_type": "markdown",
   "metadata": {},
   "source": [
    "Parse returns `None` if chord is not valid"
   ]
  },
  {
   "cell_type": "code",
   "execution_count": 7,
   "metadata": {},
   "outputs": [],
   "source": [
    "df['chords'] = \\\n",
    "    df['chords'].apply(\\\n",
    "        lambda chords: [chord for chord in chords if parser.parse(chord) is not None] )\\\n"
   ]
  },
  {
   "cell_type": "markdown",
   "metadata": {},
   "source": [
    "##  Extract artist "
   ]
  },
  {
   "cell_type": "code",
   "execution_count": 8,
   "metadata": {},
   "outputs": [],
   "source": [
    "df['artist'] = df['url'].apply(feature_extractor.extract_pretty_artist)"
   ]
  },
  {
   "cell_type": "code",
   "execution_count": 9,
   "metadata": {},
   "outputs": [
    {
     "data": {
      "text/html": [
       "<div>\n",
       "<style scoped>\n",
       "    .dataframe tbody tr th:only-of-type {\n",
       "        vertical-align: middle;\n",
       "    }\n",
       "\n",
       "    .dataframe tbody tr th {\n",
       "        vertical-align: top;\n",
       "    }\n",
       "\n",
       "    .dataframe thead th {\n",
       "        text-align: right;\n",
       "    }\n",
       "</style>\n",
       "<table border=\"1\" class=\"dataframe\">\n",
       "  <thead>\n",
       "    <tr style=\"text-align: right;\">\n",
       "      <th></th>\n",
       "      <th>url</th>\n",
       "      <th>name</th>\n",
       "      <th>decade</th>\n",
       "      <th>genre</th>\n",
       "      <th>chords</th>\n",
       "      <th>uuid</th>\n",
       "      <th>artist</th>\n",
       "    </tr>\n",
       "  </thead>\n",
       "  <tbody>\n",
       "    <tr>\n",
       "      <td>1627</td>\n",
       "      <td>https://tabs.ultimate-guitar.com/tab/bob_marle...</td>\n",
       "      <td>Forever Loving Jah</td>\n",
       "      <td>1980s</td>\n",
       "      <td>Reggae%%Reggae%%Reggae</td>\n",
       "      <td>[F#m, Bm, C#m, F#m, Bm, C#m, F#m, Bm, C#m, F#m...</td>\n",
       "      <td>2903701d-9a6a-4a14-89ce-bb586f19f9b1</td>\n",
       "      <td>Bob Marley</td>\n",
       "    </tr>\n",
       "    <tr>\n",
       "      <td>13710</td>\n",
       "      <td>https://tabs.ultimate-guitar.com/tab/weird_al_...</td>\n",
       "      <td>Eat It</td>\n",
       "      <td>1980s</td>\n",
       "      <td>Comedy%%Comedy</td>\n",
       "      <td>[Am, G, Am, G, F, G, Am, G, Am, G, Am, G, F, G...</td>\n",
       "      <td>04069b32-290c-4efa-8fac-b25199ddd202</td>\n",
       "      <td>Weird Al Yankovic</td>\n",
       "    </tr>\n",
       "    <tr>\n",
       "      <td>4803</td>\n",
       "      <td>https://tabs.ultimate-guitar.com/tab/gary-alla...</td>\n",
       "      <td>Right Where I Need To Be (ver 2)</td>\n",
       "      <td>1990s</td>\n",
       "      <td>Country</td>\n",
       "      <td>[F, C, G, F, C, G, F, C, G, F, C, G, F, C, G, ...</td>\n",
       "      <td>5176a260-5c5e-446f-a922-2e3a21e46bc0</td>\n",
       "      <td>Gary Allan</td>\n",
       "    </tr>\n",
       "    <tr>\n",
       "      <td>8566</td>\n",
       "      <td>https://tabs.ultimate-guitar.com/tab/metallica...</td>\n",
       "      <td>Where The Wild Things Are</td>\n",
       "      <td>1990s</td>\n",
       "      <td>Metal</td>\n",
       "      <td>[Eb, Em, Cmaj7, C7, C, Em, Cmaj7, C7, C, Em, C...</td>\n",
       "      <td>ddd0ff86-5cf9-492b-a677-d342834b0da7</td>\n",
       "      <td>Metallica</td>\n",
       "    </tr>\n",
       "    <tr>\n",
       "      <td>436</td>\n",
       "      <td>https://tabs.ultimate-guitar.com/tab/al_green/...</td>\n",
       "      <td>Jesus Is Waiting</td>\n",
       "      <td>1970s</td>\n",
       "      <td>Rhythm And Blues</td>\n",
       "      <td>[B, A, E, D, B, A, E, D, B, A, E, D, B, A, E, ...</td>\n",
       "      <td>1ea57af2-034a-4107-b6dd-2ccce4c35f1d</td>\n",
       "      <td>Al Green</td>\n",
       "    </tr>\n",
       "    <tr>\n",
       "      <td>13154</td>\n",
       "      <td>https://tabs.ultimate-guitar.com/tab/toploader...</td>\n",
       "      <td>Dancing In The Moonlight (ver 2)</td>\n",
       "      <td>2000s</td>\n",
       "      <td>Rock</td>\n",
       "      <td>[Dm, G, C, G/B, Am, Dm, G, C, G/B, Am, Dm, G, ...</td>\n",
       "      <td>c649a252-6e27-470e-824f-e2313a7d64b1</td>\n",
       "      <td>Toploader</td>\n",
       "    </tr>\n",
       "    <tr>\n",
       "      <td>1901</td>\n",
       "      <td>https://tabs.ultimate-guitar.com/tab/britt_nic...</td>\n",
       "      <td>Still That Girl</td>\n",
       "      <td>2010s</td>\n",
       "      <td>Religious Music%%Religious Music</td>\n",
       "      <td>[G, D/F#, Em, Em, G, D/F#, Em, Em, G, D/F#, Em...</td>\n",
       "      <td>2f6815e0-1950-4115-87c1-037e278a9ac5</td>\n",
       "      <td>Britt Nicole</td>\n",
       "    </tr>\n",
       "    <tr>\n",
       "      <td>4223</td>\n",
       "      <td>https://tabs.ultimate-guitar.com/tab/eva-cassi...</td>\n",
       "      <td>Over The Rainbow (ver 6)</td>\n",
       "      <td>1990s</td>\n",
       "      <td>Jazz%%Jazz</td>\n",
       "      <td>[G, G/E, Bm, C, Cm, G, G7, C, Cm, G, G/E, Am, ...</td>\n",
       "      <td>0b512105-fe77-415f-806a-8000ab16b771</td>\n",
       "      <td>Eva Cassidy</td>\n",
       "    </tr>\n",
       "    <tr>\n",
       "      <td>2422</td>\n",
       "      <td>https://tabs.ultimate-guitar.com/tab/chris-tom...</td>\n",
       "      <td>Indescribable (ver 11)</td>\n",
       "      <td>2000s</td>\n",
       "      <td>Religious Music</td>\n",
       "      <td>[C2, Em, D/F#, G, Am7, C/G, C/E, D, G/B, C, Bb...</td>\n",
       "      <td>94f738af-f48d-4236-9341-438e39103707</td>\n",
       "      <td>Chris Tomlin</td>\n",
       "    </tr>\n",
       "    <tr>\n",
       "      <td>10200</td>\n",
       "      <td>https://tabs.ultimate-guitar.com/tab/randy-tra...</td>\n",
       "      <td>Three Wooden Crosses (ver 3)</td>\n",
       "      <td>2000s</td>\n",
       "      <td>Country%%Country%%Country</td>\n",
       "      <td>[C, C/B, Am, Am7/G, C, C/B, Am, Am7/G, F, C, G...</td>\n",
       "      <td>9b1d7eb4-c2d5-4580-9f11-fa8d1a48c75d</td>\n",
       "      <td>Randy Travis</td>\n",
       "    </tr>\n",
       "  </tbody>\n",
       "</table>\n",
       "</div>"
      ],
      "text/plain": [
       "                                                     url  \\\n",
       "1627   https://tabs.ultimate-guitar.com/tab/bob_marle...   \n",
       "13710  https://tabs.ultimate-guitar.com/tab/weird_al_...   \n",
       "4803   https://tabs.ultimate-guitar.com/tab/gary-alla...   \n",
       "8566   https://tabs.ultimate-guitar.com/tab/metallica...   \n",
       "436    https://tabs.ultimate-guitar.com/tab/al_green/...   \n",
       "13154  https://tabs.ultimate-guitar.com/tab/toploader...   \n",
       "1901   https://tabs.ultimate-guitar.com/tab/britt_nic...   \n",
       "4223   https://tabs.ultimate-guitar.com/tab/eva-cassi...   \n",
       "2422   https://tabs.ultimate-guitar.com/tab/chris-tom...   \n",
       "10200  https://tabs.ultimate-guitar.com/tab/randy-tra...   \n",
       "\n",
       "                                   name decade  \\\n",
       "1627                 Forever Loving Jah  1980s   \n",
       "13710                            Eat It  1980s   \n",
       "4803   Right Where I Need To Be (ver 2)  1990s   \n",
       "8566          Where The Wild Things Are  1990s   \n",
       "436                    Jesus Is Waiting  1970s   \n",
       "13154  Dancing In The Moonlight (ver 2)  2000s   \n",
       "1901                    Still That Girl  2010s   \n",
       "4223           Over The Rainbow (ver 6)  1990s   \n",
       "2422             Indescribable (ver 11)  2000s   \n",
       "10200      Three Wooden Crosses (ver 3)  2000s   \n",
       "\n",
       "                                  genre  \\\n",
       "1627             Reggae%%Reggae%%Reggae   \n",
       "13710                    Comedy%%Comedy   \n",
       "4803                            Country   \n",
       "8566                              Metal   \n",
       "436                    Rhythm And Blues   \n",
       "13154                              Rock   \n",
       "1901   Religious Music%%Religious Music   \n",
       "4223                         Jazz%%Jazz   \n",
       "2422                    Religious Music   \n",
       "10200         Country%%Country%%Country   \n",
       "\n",
       "                                                  chords  \\\n",
       "1627   [F#m, Bm, C#m, F#m, Bm, C#m, F#m, Bm, C#m, F#m...   \n",
       "13710  [Am, G, Am, G, F, G, Am, G, Am, G, Am, G, F, G...   \n",
       "4803   [F, C, G, F, C, G, F, C, G, F, C, G, F, C, G, ...   \n",
       "8566   [Eb, Em, Cmaj7, C7, C, Em, Cmaj7, C7, C, Em, C...   \n",
       "436    [B, A, E, D, B, A, E, D, B, A, E, D, B, A, E, ...   \n",
       "13154  [Dm, G, C, G/B, Am, Dm, G, C, G/B, Am, Dm, G, ...   \n",
       "1901   [G, D/F#, Em, Em, G, D/F#, Em, Em, G, D/F#, Em...   \n",
       "4223   [G, G/E, Bm, C, Cm, G, G7, C, Cm, G, G/E, Am, ...   \n",
       "2422   [C2, Em, D/F#, G, Am7, C/G, C/E, D, G/B, C, Bb...   \n",
       "10200  [C, C/B, Am, Am7/G, C, C/B, Am, Am7/G, F, C, G...   \n",
       "\n",
       "                                       uuid             artist  \n",
       "1627   2903701d-9a6a-4a14-89ce-bb586f19f9b1         Bob Marley  \n",
       "13710  04069b32-290c-4efa-8fac-b25199ddd202  Weird Al Yankovic  \n",
       "4803   5176a260-5c5e-446f-a922-2e3a21e46bc0         Gary Allan  \n",
       "8566   ddd0ff86-5cf9-492b-a677-d342834b0da7          Metallica  \n",
       "436    1ea57af2-034a-4107-b6dd-2ccce4c35f1d           Al Green  \n",
       "13154  c649a252-6e27-470e-824f-e2313a7d64b1          Toploader  \n",
       "1901   2f6815e0-1950-4115-87c1-037e278a9ac5       Britt Nicole  \n",
       "4223   0b512105-fe77-415f-806a-8000ab16b771        Eva Cassidy  \n",
       "2422   94f738af-f48d-4236-9341-438e39103707       Chris Tomlin  \n",
       "10200  9b1d7eb4-c2d5-4580-9f11-fa8d1a48c75d       Randy Travis  "
      ]
     },
     "execution_count": 9,
     "metadata": {},
     "output_type": "execute_result"
    }
   ],
   "source": [
    "df.sample(10)"
   ]
  },
  {
   "cell_type": "markdown",
   "metadata": {},
   "source": [
    "## Extract decade as numeric "
   ]
  },
  {
   "cell_type": "code",
   "execution_count": 10,
   "metadata": {},
   "outputs": [
    {
     "data": {
      "text/plain": [
       "array(['1980s', '2000s', '2010s', '1990s', '1960s', '1970s', '1950s'],\n",
       "      dtype=object)"
      ]
     },
     "execution_count": 10,
     "metadata": {},
     "output_type": "execute_result"
    }
   ],
   "source": [
    "df['decade'].unique()"
   ]
  },
  {
   "cell_type": "code",
   "execution_count": 11,
   "metadata": {},
   "outputs": [],
   "source": [
    "df['decade'] = df['decade'].apply(feature_extractor.extract_numeric_decade)"
   ]
  },
  {
   "cell_type": "code",
   "execution_count": 12,
   "metadata": {},
   "outputs": [
    {
     "data": {
      "text/plain": [
       "array([1980, 2000, 2010, 1990, 1960, 1970, 1950])"
      ]
     },
     "execution_count": 12,
     "metadata": {},
     "output_type": "execute_result"
    }
   ],
   "source": [
    "df['decade'].unique()"
   ]
  },
  {
   "cell_type": "markdown",
   "metadata": {},
   "source": [
    "## Harmonics features "
   ]
  },
  {
   "cell_type": "markdown",
   "metadata": {},
   "source": [
    "We are going to extract all the harmonic features, i.e. related to chords. "
   ]
  },
  {
   "cell_type": "markdown",
   "metadata": {},
   "source": [
    "### Cardinality (number of chords) "
   ]
  },
  {
   "cell_type": "code",
   "execution_count": 13,
   "metadata": {},
   "outputs": [],
   "source": [
    "df['cardinality'] = df['chords'].apply(feature_extractor.extract_cardinality)"
   ]
  },
  {
   "cell_type": "code",
   "execution_count": 14,
   "metadata": {},
   "outputs": [
    {
     "data": {
      "text/html": [
       "<div>\n",
       "<style scoped>\n",
       "    .dataframe tbody tr th:only-of-type {\n",
       "        vertical-align: middle;\n",
       "    }\n",
       "\n",
       "    .dataframe tbody tr th {\n",
       "        vertical-align: top;\n",
       "    }\n",
       "\n",
       "    .dataframe thead th {\n",
       "        text-align: right;\n",
       "    }\n",
       "</style>\n",
       "<table border=\"1\" class=\"dataframe\">\n",
       "  <thead>\n",
       "    <tr style=\"text-align: right;\">\n",
       "      <th></th>\n",
       "      <th>url</th>\n",
       "      <th>name</th>\n",
       "      <th>decade</th>\n",
       "      <th>genre</th>\n",
       "      <th>chords</th>\n",
       "      <th>uuid</th>\n",
       "      <th>artist</th>\n",
       "      <th>cardinality</th>\n",
       "    </tr>\n",
       "  </thead>\n",
       "  <tbody>\n",
       "    <tr>\n",
       "      <td>5318</td>\n",
       "      <td>https://tabs.ultimate-guitar.com/tab/hank-will...</td>\n",
       "      <td>Lovesick Blues (ver 3)</td>\n",
       "      <td>1950</td>\n",
       "      <td>Country%%Country</td>\n",
       "      <td>[C, G7, C, C7, F, C, A7, D7, G7, C, G7, E, F, ...</td>\n",
       "      <td>0e87207e-cd72-4320-b196-f645a3ddbb56</td>\n",
       "      <td>Hank Williams</td>\n",
       "      <td>47</td>\n",
       "    </tr>\n",
       "    <tr>\n",
       "      <td>833</td>\n",
       "      <td>https://tabs.ultimate-guitar.com/tab/architect...</td>\n",
       "      <td>Unbeliever</td>\n",
       "      <td>2010</td>\n",
       "      <td>Metal</td>\n",
       "      <td>[A, Asus2, E, F#m, D, A, A, Asus2, A, F#m, F#m...</td>\n",
       "      <td>75d2a2fe-4005-41a8-94fb-00ac557ffc47</td>\n",
       "      <td>Architects</td>\n",
       "      <td>73</td>\n",
       "    </tr>\n",
       "    <tr>\n",
       "      <td>1120</td>\n",
       "      <td>https://tabs.ultimate-guitar.com/tab/beastie_b...</td>\n",
       "      <td>Gratitude</td>\n",
       "      <td>1990</td>\n",
       "      <td>Hip Hop</td>\n",
       "      <td>[E5, A5, E5, A5, E5, A5, E5, G5, G#5, A5, E5, ...</td>\n",
       "      <td>b07b67a1-c0ad-43dc-bb55-d399b0ca1e14</td>\n",
       "      <td>Beastie Boys</td>\n",
       "      <td>21</td>\n",
       "    </tr>\n",
       "    <tr>\n",
       "      <td>1203</td>\n",
       "      <td>https://tabs.ultimate-guitar.com/tab/bellamy_b...</td>\n",
       "      <td>Let Your Love Flow</td>\n",
       "      <td>1970</td>\n",
       "      <td>Country</td>\n",
       "      <td>[D, G, D, G, D, Dmaj7, D, A, D, D, Dmaj7, D, A...</td>\n",
       "      <td>57f8f419-ae6f-4125-a4c7-148fd8bb81e0</td>\n",
       "      <td>Bellamy Brothers</td>\n",
       "      <td>44</td>\n",
       "    </tr>\n",
       "    <tr>\n",
       "      <td>9783</td>\n",
       "      <td>https://tabs.ultimate-guitar.com/tab/peter-pau...</td>\n",
       "      <td>If I Had A Hammer</td>\n",
       "      <td>1960</td>\n",
       "      <td>Folk</td>\n",
       "      <td>[G, Bm, C, D, Em, G, Bm, C, D, D, G, Bm, C, D,...</td>\n",
       "      <td>5a788b07-e385-41ef-8728-3d4c00d5917e</td>\n",
       "      <td>Peter Paul And Mary</td>\n",
       "      <td>151</td>\n",
       "    </tr>\n",
       "    <tr>\n",
       "      <td>1185</td>\n",
       "      <td>https://tabs.ultimate-guitar.com/tab/bee_gees/...</td>\n",
       "      <td>Too Much Heaven</td>\n",
       "      <td>1970</td>\n",
       "      <td>Disco</td>\n",
       "      <td>[Eb, Ab, Db, Gb, Bb, Eb, A7sus4, A7sus4, DMaj7...</td>\n",
       "      <td>4757da1f-e3ed-4a77-a127-bd8cb44bdf48</td>\n",
       "      <td>Bee Gees</td>\n",
       "      <td>72</td>\n",
       "    </tr>\n",
       "    <tr>\n",
       "      <td>908</td>\n",
       "      <td>https://tabs.ultimate-guitar.com/tab/asher_rot...</td>\n",
       "      <td>I Love College (ver 2)</td>\n",
       "      <td>2000</td>\n",
       "      <td>Hip Hop</td>\n",
       "      <td>[Cm, Eb, G#, Eb, Cm, Eb, G#, Eb, Cm, Eb, G#, E...</td>\n",
       "      <td>bbeb58c0-6787-4fb7-a722-ff45424e9160</td>\n",
       "      <td>Asher Roth</td>\n",
       "      <td>17</td>\n",
       "    </tr>\n",
       "    <tr>\n",
       "      <td>11461</td>\n",
       "      <td>https://tabs.ultimate-guitar.com/tab/stevie_wo...</td>\n",
       "      <td>Send One Your Love</td>\n",
       "      <td>1970</td>\n",
       "      <td>New Age</td>\n",
       "      <td>[Gb, Fm/Eb, Absus2, Gm/F, Bbsus2, Am/G, Csus2,...</td>\n",
       "      <td>2864123f-2637-45d5-895d-5234cd4ae845</td>\n",
       "      <td>Stevie Wonder</td>\n",
       "      <td>96</td>\n",
       "    </tr>\n",
       "    <tr>\n",
       "      <td>4367</td>\n",
       "      <td>https://tabs.ultimate-guitar.com/tab/five-fing...</td>\n",
       "      <td>Bad Company</td>\n",
       "      <td>2000</td>\n",
       "      <td>Metal</td>\n",
       "      <td>[F#m, A, Bm, F#m, A, Bm, D, A, Bm, F#m, A, Bm,...</td>\n",
       "      <td>26cd7bfe-f8f7-4dae-b0b7-d2a5e1c94dc7</td>\n",
       "      <td>Five Finger Death Punch</td>\n",
       "      <td>83</td>\n",
       "    </tr>\n",
       "    <tr>\n",
       "      <td>8860</td>\n",
       "      <td>https://tabs.ultimate-guitar.com/tab/morcheeba...</td>\n",
       "      <td>Blindfold</td>\n",
       "      <td>1990</td>\n",
       "      <td>Electronic</td>\n",
       "      <td>[Am, C9, G6, D, Am, C9, G6, D, G6, Fmaj7, Fmaj...</td>\n",
       "      <td>a4f76ccd-6392-4054-920a-cb830d50a2e4</td>\n",
       "      <td>Morcheeba</td>\n",
       "      <td>37</td>\n",
       "    </tr>\n",
       "  </tbody>\n",
       "</table>\n",
       "</div>"
      ],
      "text/plain": [
       "                                                     url  \\\n",
       "5318   https://tabs.ultimate-guitar.com/tab/hank-will...   \n",
       "833    https://tabs.ultimate-guitar.com/tab/architect...   \n",
       "1120   https://tabs.ultimate-guitar.com/tab/beastie_b...   \n",
       "1203   https://tabs.ultimate-guitar.com/tab/bellamy_b...   \n",
       "9783   https://tabs.ultimate-guitar.com/tab/peter-pau...   \n",
       "1185   https://tabs.ultimate-guitar.com/tab/bee_gees/...   \n",
       "908    https://tabs.ultimate-guitar.com/tab/asher_rot...   \n",
       "11461  https://tabs.ultimate-guitar.com/tab/stevie_wo...   \n",
       "4367   https://tabs.ultimate-guitar.com/tab/five-fing...   \n",
       "8860   https://tabs.ultimate-guitar.com/tab/morcheeba...   \n",
       "\n",
       "                         name  decade             genre  \\\n",
       "5318   Lovesick Blues (ver 3)    1950  Country%%Country   \n",
       "833                Unbeliever    2010             Metal   \n",
       "1120                Gratitude    1990           Hip Hop   \n",
       "1203       Let Your Love Flow    1970           Country   \n",
       "9783        If I Had A Hammer    1960              Folk   \n",
       "1185          Too Much Heaven    1970             Disco   \n",
       "908    I Love College (ver 2)    2000           Hip Hop   \n",
       "11461      Send One Your Love    1970           New Age   \n",
       "4367              Bad Company    2000             Metal   \n",
       "8860                Blindfold    1990        Electronic   \n",
       "\n",
       "                                                  chords  \\\n",
       "5318   [C, G7, C, C7, F, C, A7, D7, G7, C, G7, E, F, ...   \n",
       "833    [A, Asus2, E, F#m, D, A, A, Asus2, A, F#m, F#m...   \n",
       "1120   [E5, A5, E5, A5, E5, A5, E5, G5, G#5, A5, E5, ...   \n",
       "1203   [D, G, D, G, D, Dmaj7, D, A, D, D, Dmaj7, D, A...   \n",
       "9783   [G, Bm, C, D, Em, G, Bm, C, D, D, G, Bm, C, D,...   \n",
       "1185   [Eb, Ab, Db, Gb, Bb, Eb, A7sus4, A7sus4, DMaj7...   \n",
       "908    [Cm, Eb, G#, Eb, Cm, Eb, G#, Eb, Cm, Eb, G#, E...   \n",
       "11461  [Gb, Fm/Eb, Absus2, Gm/F, Bbsus2, Am/G, Csus2,...   \n",
       "4367   [F#m, A, Bm, F#m, A, Bm, D, A, Bm, F#m, A, Bm,...   \n",
       "8860   [Am, C9, G6, D, Am, C9, G6, D, G6, Fmaj7, Fmaj...   \n",
       "\n",
       "                                       uuid                   artist  \\\n",
       "5318   0e87207e-cd72-4320-b196-f645a3ddbb56            Hank Williams   \n",
       "833    75d2a2fe-4005-41a8-94fb-00ac557ffc47               Architects   \n",
       "1120   b07b67a1-c0ad-43dc-bb55-d399b0ca1e14             Beastie Boys   \n",
       "1203   57f8f419-ae6f-4125-a4c7-148fd8bb81e0         Bellamy Brothers   \n",
       "9783   5a788b07-e385-41ef-8728-3d4c00d5917e      Peter Paul And Mary   \n",
       "1185   4757da1f-e3ed-4a77-a127-bd8cb44bdf48                 Bee Gees   \n",
       "908    bbeb58c0-6787-4fb7-a722-ff45424e9160               Asher Roth   \n",
       "11461  2864123f-2637-45d5-895d-5234cd4ae845            Stevie Wonder   \n",
       "4367   26cd7bfe-f8f7-4dae-b0b7-d2a5e1c94dc7  Five Finger Death Punch   \n",
       "8860   a4f76ccd-6392-4054-920a-cb830d50a2e4                Morcheeba   \n",
       "\n",
       "       cardinality  \n",
       "5318            47  \n",
       "833             73  \n",
       "1120            21  \n",
       "1203            44  \n",
       "9783           151  \n",
       "1185            72  \n",
       "908             17  \n",
       "11461           96  \n",
       "4367            83  \n",
       "8860            37  "
      ]
     },
     "execution_count": 14,
     "metadata": {},
     "output_type": "execute_result"
    }
   ],
   "source": [
    "df.sample(10)"
   ]
  },
  {
   "cell_type": "code",
   "execution_count": 15,
   "metadata": {},
   "outputs": [
    {
     "data": {
      "text/plain": [
       "count    14114.000000\n",
       "mean        85.521468\n",
       "std         68.705570\n",
       "min          0.000000\n",
       "25%         51.000000\n",
       "50%         77.000000\n",
       "75%        108.000000\n",
       "max       2020.000000\n",
       "Name: cardinality, dtype: float64"
      ]
     },
     "execution_count": 15,
     "metadata": {},
     "output_type": "execute_result"
    }
   ],
   "source": [
    "df['cardinality'].describe()"
   ]
  },
  {
   "cell_type": "code",
   "execution_count": 16,
   "metadata": {},
   "outputs": [
    {
     "data": {
      "text/html": [
       "<div>\n",
       "<style scoped>\n",
       "    .dataframe tbody tr th:only-of-type {\n",
       "        vertical-align: middle;\n",
       "    }\n",
       "\n",
       "    .dataframe tbody tr th {\n",
       "        vertical-align: top;\n",
       "    }\n",
       "\n",
       "    .dataframe thead th {\n",
       "        text-align: right;\n",
       "    }\n",
       "</style>\n",
       "<table border=\"1\" class=\"dataframe\">\n",
       "  <thead>\n",
       "    <tr style=\"text-align: right;\">\n",
       "      <th></th>\n",
       "      <th>url</th>\n",
       "      <th>name</th>\n",
       "      <th>decade</th>\n",
       "      <th>genre</th>\n",
       "      <th>chords</th>\n",
       "      <th>uuid</th>\n",
       "      <th>artist</th>\n",
       "      <th>cardinality</th>\n",
       "    </tr>\n",
       "  </thead>\n",
       "  <tbody>\n",
       "    <tr>\n",
       "      <td>19</td>\n",
       "      <td>https://tabs.ultimate-guitar.com/tab/120815</td>\n",
       "      <td>Balladen Om Herr Fredrik Åkare Och Den Söta Fr...</td>\n",
       "      <td>1960</td>\n",
       "      <td>Jazz</td>\n",
       "      <td>[]</td>\n",
       "      <td>752b3d65-297f-4777-acc4-e9d92e243a72</td>\n",
       "      <td>Unknown</td>\n",
       "      <td>0</td>\n",
       "    </tr>\n",
       "    <tr>\n",
       "      <td>160</td>\n",
       "      <td>https://tabs.ultimate-guitar.com/tab/883/cumul...</td>\n",
       "      <td>Cumuli</td>\n",
       "      <td>1990</td>\n",
       "      <td>Electronic</td>\n",
       "      <td>[]</td>\n",
       "      <td>523bfc79-9f5d-4747-8db3-366bd5d32152</td>\n",
       "      <td>883</td>\n",
       "      <td>0</td>\n",
       "    </tr>\n",
       "    <tr>\n",
       "      <td>163</td>\n",
       "      <td>https://tabs.ultimate-guitar.com/tab/883/rotta...</td>\n",
       "      <td>Rotta X Casa Di Dio</td>\n",
       "      <td>1990</td>\n",
       "      <td>Electronic%%Electronic</td>\n",
       "      <td>[]</td>\n",
       "      <td>8c8a69f6-7027-4816-a91d-d219d87582ca</td>\n",
       "      <td>883</td>\n",
       "      <td>0</td>\n",
       "    </tr>\n",
       "    <tr>\n",
       "      <td>217</td>\n",
       "      <td>https://tabs.ultimate-guitar.com/tab/abba/danc...</td>\n",
       "      <td>Dancing Queen (ver 3)</td>\n",
       "      <td>1970</td>\n",
       "      <td>Pop</td>\n",
       "      <td>[]</td>\n",
       "      <td>044a35a5-3943-49a5-bb6a-e0f5e19776cf</td>\n",
       "      <td>Abba</td>\n",
       "      <td>0</td>\n",
       "    </tr>\n",
       "    <tr>\n",
       "      <td>218</td>\n",
       "      <td>https://tabs.ultimate-guitar.com/tab/abba/danc...</td>\n",
       "      <td>Dancing Queen (ver 4)</td>\n",
       "      <td>1970</td>\n",
       "      <td>Pop%%Pop%%Pop</td>\n",
       "      <td>[]</td>\n",
       "      <td>bb8e839f-0d3f-40b6-9ee3-5fd4aa0301e1</td>\n",
       "      <td>Abba</td>\n",
       "      <td>0</td>\n",
       "    </tr>\n",
       "    <tr>\n",
       "      <td>...</td>\n",
       "      <td>...</td>\n",
       "      <td>...</td>\n",
       "      <td>...</td>\n",
       "      <td>...</td>\n",
       "      <td>...</td>\n",
       "      <td>...</td>\n",
       "      <td>...</td>\n",
       "      <td>...</td>\n",
       "    </tr>\n",
       "    <tr>\n",
       "      <td>12490</td>\n",
       "      <td>https://tabs.ultimate-guitar.com/tab/the_lonel...</td>\n",
       "      <td>Like A Boss</td>\n",
       "      <td>2000</td>\n",
       "      <td>Hip Hop</td>\n",
       "      <td>[]</td>\n",
       "      <td>1a6d53ae-aeea-4bdd-a1e2-3100bbf3c88e</td>\n",
       "      <td>The Lonely Island</td>\n",
       "      <td>0</td>\n",
       "    </tr>\n",
       "    <tr>\n",
       "      <td>13107</td>\n",
       "      <td>https://tabs.ultimate-guitar.com/tab/tony_benn...</td>\n",
       "      <td>A Child Is Born</td>\n",
       "      <td>1970</td>\n",
       "      <td>Jazz</td>\n",
       "      <td>[]</td>\n",
       "      <td>1dc741fc-51a9-40ef-a328-48eb8a467b62</td>\n",
       "      <td>Tony Bennett</td>\n",
       "      <td>0</td>\n",
       "    </tr>\n",
       "    <tr>\n",
       "      <td>13369</td>\n",
       "      <td>https://tabs.ultimate-guitar.com/tab/tyler_the...</td>\n",
       "      <td>Answer</td>\n",
       "      <td>2010</td>\n",
       "      <td>Hip Hop</td>\n",
       "      <td>[]</td>\n",
       "      <td>8474fdc1-00c5-457a-9178-41b1bb48a21f</td>\n",
       "      <td>Tyler The Creator</td>\n",
       "      <td>0</td>\n",
       "    </tr>\n",
       "    <tr>\n",
       "      <td>13802</td>\n",
       "      <td>https://tabs.ultimate-guitar.com/tab/wham/free...</td>\n",
       "      <td>Freedom</td>\n",
       "      <td>1980</td>\n",
       "      <td>Rhythm And Blues%%Rhythm And Blues%%Rhythm And...</td>\n",
       "      <td>[]</td>\n",
       "      <td>f0a72548-c85e-4848-bf60-af2e62993f5d</td>\n",
       "      <td>Wham</td>\n",
       "      <td>0</td>\n",
       "    </tr>\n",
       "    <tr>\n",
       "      <td>14062</td>\n",
       "      <td>https://tabs.ultimate-guitar.com/tab/zac_brown...</td>\n",
       "      <td>As Shes Walking Away</td>\n",
       "      <td>2010</td>\n",
       "      <td>Country</td>\n",
       "      <td>[]</td>\n",
       "      <td>71ce0aa4-973b-41f1-b108-bb7dcd663b81</td>\n",
       "      <td>Zac Brown Band</td>\n",
       "      <td>0</td>\n",
       "    </tr>\n",
       "  </tbody>\n",
       "</table>\n",
       "<p>71 rows × 8 columns</p>\n",
       "</div>"
      ],
      "text/plain": [
       "                                                     url  \\\n",
       "19           https://tabs.ultimate-guitar.com/tab/120815   \n",
       "160    https://tabs.ultimate-guitar.com/tab/883/cumul...   \n",
       "163    https://tabs.ultimate-guitar.com/tab/883/rotta...   \n",
       "217    https://tabs.ultimate-guitar.com/tab/abba/danc...   \n",
       "218    https://tabs.ultimate-guitar.com/tab/abba/danc...   \n",
       "...                                                  ...   \n",
       "12490  https://tabs.ultimate-guitar.com/tab/the_lonel...   \n",
       "13107  https://tabs.ultimate-guitar.com/tab/tony_benn...   \n",
       "13369  https://tabs.ultimate-guitar.com/tab/tyler_the...   \n",
       "13802  https://tabs.ultimate-guitar.com/tab/wham/free...   \n",
       "14062  https://tabs.ultimate-guitar.com/tab/zac_brown...   \n",
       "\n",
       "                                                    name  decade  \\\n",
       "19     Balladen Om Herr Fredrik Åkare Och Den Söta Fr...    1960   \n",
       "160                                               Cumuli    1990   \n",
       "163                                  Rotta X Casa Di Dio    1990   \n",
       "217                                Dancing Queen (ver 3)    1970   \n",
       "218                                Dancing Queen (ver 4)    1970   \n",
       "...                                                  ...     ...   \n",
       "12490                                        Like A Boss    2000   \n",
       "13107                                    A Child Is Born    1970   \n",
       "13369                                             Answer    2010   \n",
       "13802                                            Freedom    1980   \n",
       "14062                               As Shes Walking Away    2010   \n",
       "\n",
       "                                                   genre chords  \\\n",
       "19                                                  Jazz     []   \n",
       "160                                           Electronic     []   \n",
       "163                               Electronic%%Electronic     []   \n",
       "217                                                  Pop     []   \n",
       "218                                        Pop%%Pop%%Pop     []   \n",
       "...                                                  ...    ...   \n",
       "12490                                            Hip Hop     []   \n",
       "13107                                               Jazz     []   \n",
       "13369                                            Hip Hop     []   \n",
       "13802  Rhythm And Blues%%Rhythm And Blues%%Rhythm And...     []   \n",
       "14062                                            Country     []   \n",
       "\n",
       "                                       uuid             artist  cardinality  \n",
       "19     752b3d65-297f-4777-acc4-e9d92e243a72            Unknown            0  \n",
       "160    523bfc79-9f5d-4747-8db3-366bd5d32152                883            0  \n",
       "163    8c8a69f6-7027-4816-a91d-d219d87582ca                883            0  \n",
       "217    044a35a5-3943-49a5-bb6a-e0f5e19776cf               Abba            0  \n",
       "218    bb8e839f-0d3f-40b6-9ee3-5fd4aa0301e1               Abba            0  \n",
       "...                                     ...                ...          ...  \n",
       "12490  1a6d53ae-aeea-4bdd-a1e2-3100bbf3c88e  The Lonely Island            0  \n",
       "13107  1dc741fc-51a9-40ef-a328-48eb8a467b62       Tony Bennett            0  \n",
       "13369  8474fdc1-00c5-457a-9178-41b1bb48a21f  Tyler The Creator            0  \n",
       "13802  f0a72548-c85e-4848-bf60-af2e62993f5d               Wham            0  \n",
       "14062  71ce0aa4-973b-41f1-b108-bb7dcd663b81     Zac Brown Band            0  \n",
       "\n",
       "[71 rows x 8 columns]"
      ]
     },
     "execution_count": 16,
     "metadata": {},
     "output_type": "execute_result"
    }
   ],
   "source": [
    "df[df['cardinality'] == 0]"
   ]
  },
  {
   "cell_type": "markdown",
   "metadata": {},
   "source": [
    "Some songs are been uploaded by user/ultimate guitar without including the special format for the chords, for example, in https://tabs.ultimate-guitar.com/tab/883/rotta-x-casa-di-dio-chords-89055. Let's remove them"
   ]
  },
  {
   "cell_type": "code",
   "execution_count": 17,
   "metadata": {},
   "outputs": [],
   "source": [
    "df = df[df['cardinality'] != 0]"
   ]
  },
  {
   "cell_type": "code",
   "execution_count": 18,
   "metadata": {},
   "outputs": [
    {
     "data": {
      "text/plain": [
       "count    14043.000000\n",
       "mean        85.953856\n",
       "std         68.608710\n",
       "min          1.000000\n",
       "25%         51.000000\n",
       "50%         77.000000\n",
       "75%        108.000000\n",
       "max       2020.000000\n",
       "Name: cardinality, dtype: float64"
      ]
     },
     "execution_count": 18,
     "metadata": {},
     "output_type": "execute_result"
    }
   ],
   "source": [
    "df['cardinality'].describe()"
   ]
  },
  {
   "cell_type": "markdown",
   "metadata": {},
   "source": [
    "The same occurs for songs with one or two chords (eg. https://tabs.ultimate-guitar.com/tab/mad-caddies/souls-for-sale-chords-837415)"
   ]
  },
  {
   "cell_type": "code",
   "execution_count": 19,
   "metadata": {},
   "outputs": [],
   "source": [
    "df = df[df['cardinality'] != 1]"
   ]
  },
  {
   "cell_type": "code",
   "execution_count": 20,
   "metadata": {},
   "outputs": [],
   "source": [
    "df = df[df['cardinality'] != 2]"
   ]
  },
  {
   "cell_type": "code",
   "execution_count": 21,
   "metadata": {},
   "outputs": [
    {
     "data": {
      "text/plain": [
       "count    14031.000000\n",
       "mean        86.026014\n",
       "std         68.593639\n",
       "min          3.000000\n",
       "25%         51.000000\n",
       "50%         78.000000\n",
       "75%        108.000000\n",
       "max       2020.000000\n",
       "Name: cardinality, dtype: float64"
      ]
     },
     "execution_count": 21,
     "metadata": {},
     "output_type": "execute_result"
    }
   ],
   "source": [
    "df['cardinality'].describe()"
   ]
  },
  {
   "cell_type": "code",
   "execution_count": 22,
   "metadata": {},
   "outputs": [
    {
     "data": {
      "text/plain": [
       "0    68\n",
       "1    72\n",
       "dtype: int64"
      ]
     },
     "execution_count": 22,
     "metadata": {},
     "output_type": "execute_result"
    }
   ],
   "source": [
    "df['cardinality'].mode()"
   ]
  },
  {
   "cell_type": "markdown",
   "metadata": {},
   "source": [
    "Total number of chords"
   ]
  },
  {
   "cell_type": "code",
   "execution_count": 23,
   "metadata": {},
   "outputs": [
    {
     "data": {
      "text/plain": [
       "1207031"
      ]
     },
     "execution_count": 23,
     "metadata": {},
     "output_type": "execute_result"
    }
   ],
   "source": [
    "df['cardinality'].sum()"
   ]
  },
  {
   "cell_type": "code",
   "execution_count": 24,
   "metadata": {},
   "outputs": [],
   "source": [
    "import matplotlib.pyplot as plt"
   ]
  },
  {
   "cell_type": "code",
   "execution_count": 25,
   "metadata": {},
   "outputs": [
    {
     "data": {
      "text/plain": [
       "<matplotlib.axes._subplots.AxesSubplot at 0x12209d3d0>"
      ]
     },
     "execution_count": 25,
     "metadata": {},
     "output_type": "execute_result"
    },
    {
     "data": {
      "image/png": "[encoded data removed]",
      "text/plain": [
       "<Figure size 432x288 with 1 Axes>"
      ]
     },
     "metadata": {
      "needs_background": "light"
     },
     "output_type": "display_data"
    }
   ],
   "source": [
    "df['cardinality'].hist(bins=100)"
   ]
  },
  {
   "cell_type": "markdown",
   "metadata": {},
   "source": [
    "### Unique cardinality (number of different chords) "
   ]
  },
  {
   "cell_type": "code",
   "execution_count": 26,
   "metadata": {},
   "outputs": [],
   "source": [
    "df['unique cardinality'] = df['chords'].apply(feature_extractor.extract_unique_cardinality)"
   ]
  },
  {
   "cell_type": "code",
   "execution_count": 27,
   "metadata": {},
   "outputs": [
    {
     "data": {
      "text/plain": [
       "count    14031.000000\n",
       "mean         7.629606\n",
       "std          5.418258\n",
       "min          1.000000\n",
       "25%          4.000000\n",
       "50%          6.000000\n",
       "75%          9.000000\n",
       "max        101.000000\n",
       "Name: unique cardinality, dtype: float64"
      ]
     },
     "execution_count": 27,
     "metadata": {},
     "output_type": "execute_result"
    }
   ],
   "source": [
    "df['unique cardinality'].describe()"
   ]
  },
  {
   "cell_type": "markdown",
   "metadata": {},
   "source": [
    "Mode is 4...modern music is not very rich..."
   ]
  },
  {
   "cell_type": "code",
   "execution_count": 28,
   "metadata": {},
   "outputs": [
    {
     "data": {
      "text/plain": [
       "0    4\n",
       "dtype: int64"
      ]
     },
     "execution_count": 28,
     "metadata": {},
     "output_type": "execute_result"
    }
   ],
   "source": [
    "df['unique cardinality'].mode()"
   ]
  },
  {
   "cell_type": "code",
   "execution_count": 29,
   "metadata": {},
   "outputs": [
    {
     "data": {
      "text/plain": [
       "<matplotlib.axes._subplots.AxesSubplot at 0x1221c1d50>"
      ]
     },
     "execution_count": 29,
     "metadata": {},
     "output_type": "execute_result"
    },
    {
     "data": {
      "image/png": "[encoded data removed]",
      "text/plain": [
       "<Figure size 432x288 with 1 Axes>"
      ]
     },
     "metadata": {
      "needs_background": "light"
     },
     "output_type": "display_data"
    }
   ],
   "source": [
    "df['unique cardinality'].hist(bins=100)"
   ]
  },
  {
   "cell_type": "code",
   "execution_count": 30,
   "metadata": {},
   "outputs": [],
   "source": [
    "pop = df[df['genre'].str.contains('Pop')]"
   ]
  },
  {
   "cell_type": "code",
   "execution_count": 31,
   "metadata": {},
   "outputs": [],
   "source": [
    "jazz = df[df['genre'].str.contains('Jazz')]"
   ]
  },
  {
   "cell_type": "code",
   "execution_count": 32,
   "metadata": {},
   "outputs": [
    {
     "data": {
      "text/plain": [
       "0    5\n",
       "dtype: int64"
      ]
     },
     "execution_count": 32,
     "metadata": {},
     "output_type": "execute_result"
    }
   ],
   "source": [
    "pop['unique cardinality'].mode()"
   ]
  },
  {
   "cell_type": "code",
   "execution_count": 33,
   "metadata": {},
   "outputs": [
    {
     "data": {
      "text/plain": [
       "0    6\n",
       "dtype: int64"
      ]
     },
     "execution_count": 33,
     "metadata": {},
     "output_type": "execute_result"
    }
   ],
   "source": [
    "jazz['unique cardinality'].mode()"
   ]
  },
  {
   "cell_type": "markdown",
   "metadata": {},
   "source": [
    "### Mode"
   ]
  },
  {
   "cell_type": "markdown",
   "metadata": {},
   "source": [
    "Major :)\n",
    "\n",
    "Minor :(\n",
    "\n",
    "Neutral :|"
   ]
  },
  {
   "cell_type": "code",
   "execution_count": 34,
   "metadata": {},
   "outputs": [],
   "source": [
    "from jl_extended_chord import ChordMode"
   ]
  },
  {
   "cell_type": "code",
   "execution_count": 35,
   "metadata": {},
   "outputs": [],
   "source": [
    "df['major cardinality'] =\\\n",
    "df['chords'].apply(\\\n",
    "    lambda chords: feature_extractor.extract_mode_cardinality(chords, ChordMode.Major))"
   ]
  },
  {
   "cell_type": "code",
   "execution_count": 36,
   "metadata": {},
   "outputs": [],
   "source": [
    "df['minor cardinality'] =\\\n",
    "df['chords'].apply(\\\n",
    "    lambda chords: feature_extractor.extract_mode_cardinality(chords, ChordMode.Minor))"
   ]
  },
  {
   "cell_type": "code",
   "execution_count": 37,
   "metadata": {},
   "outputs": [],
   "source": [
    "df['neutral cardinality'] =\\\n",
    "df['chords'].apply(\\\n",
    "    lambda chords: feature_extractor.extract_mode_cardinality(chords, ChordMode.Neutral))"
   ]
  },
  {
   "cell_type": "code",
   "execution_count": 45,
   "metadata": {},
   "outputs": [],
   "source": [
    "def show_info(series):\n",
    "    print(series.describe())\n",
    "    print(f\"Mode:{series.mode()}\")\n",
    "    series.hist(bins=100)"
   ]
  },
  {
   "cell_type": "code",
   "execution_count": 46,
   "metadata": {},
   "outputs": [
    {
     "name": "stdout",
     "output_type": "stream",
     "text": [
      "count    14031.000000\n",
      "mean        60.802437\n",
      "std         51.953680\n",
      "min          0.000000\n",
      "25%         34.000000\n",
      "50%         53.000000\n",
      "75%         78.000000\n",
      "max       1871.000000\n",
      "Name: major cardinality, dtype: float64\n",
      "Mode:0    40\n",
      "dtype: int64\n"
     ]
    },
    {
     "data": {
      "image/png": "[encoded data removed]",
      "text/plain": [
       "<Figure size 432x288 with 1 Axes>"
      ]
     },
     "metadata": {
      "needs_background": "light"
     },
     "output_type": "display_data"
    }
   ],
   "source": [
    "show_info(df['major cardinality'])"
   ]
  },
  {
   "cell_type": "code",
   "execution_count": 47,
   "metadata": {},
   "outputs": [
    {
     "name": "stdout",
     "output_type": "stream",
     "text": [
      "count    14031.000000\n",
      "mean        22.596394\n",
      "std         27.375530\n",
      "min          0.000000\n",
      "25%          6.000000\n",
      "50%         17.000000\n",
      "75%         32.000000\n",
      "max       1022.000000\n",
      "Name: minor cardinality, dtype: float64\n",
      "Mode:0    0\n",
      "dtype: int64\n"
     ]
    },
    {
     "data": {
      "image/png": "[encoded data removed]",
      "text/plain": [
       "<Figure size 432x288 with 1 Axes>"
      ]
     },
     "metadata": {
      "needs_background": "light"
     },
     "output_type": "display_data"
    }
   ],
   "source": [
    "show_info(df['minor cardinality'])"
   ]
  },
  {
   "cell_type": "markdown",
   "metadata": {},
   "source": [
    "In average, there are three times more major chords than minor chords. It is the expected discovery"
   ]
  },
  {
   "cell_type": "code",
   "execution_count": 48,
   "metadata": {},
   "outputs": [
    {
     "name": "stdout",
     "output_type": "stream",
     "text": [
      "count    14031.000000\n",
      "mean         2.627183\n",
      "std         12.161789\n",
      "min          0.000000\n",
      "25%          0.000000\n",
      "50%          0.000000\n",
      "75%          0.000000\n",
      "max        318.000000\n",
      "Name: neutral cardinality, dtype: float64\n",
      "Mode:0    0\n",
      "dtype: int64\n"
     ]
    },
    {
     "data": {
      "image/png": "[encoded data removed]",
      "text/plain": [
       "<Figure size 432x288 with 1 Axes>"
      ]
     },
     "metadata": {
      "needs_background": "light"
     },
     "output_type": "display_data"
    }
   ],
   "source": [
    "show_info(df['neutral cardinality'])"
   ]
  },
  {
   "cell_type": "code",
   "execution_count": 49,
   "metadata": {},
   "outputs": [
    {
     "data": {
      "text/html": [
       "<div>\n",
       "<style scoped>\n",
       "    .dataframe tbody tr th:only-of-type {\n",
       "        vertical-align: middle;\n",
       "    }\n",
       "\n",
       "    .dataframe tbody tr th {\n",
       "        vertical-align: top;\n",
       "    }\n",
       "\n",
       "    .dataframe thead th {\n",
       "        text-align: right;\n",
       "    }\n",
       "</style>\n",
       "<table border=\"1\" class=\"dataframe\">\n",
       "  <thead>\n",
       "    <tr style=\"text-align: right;\">\n",
       "      <th></th>\n",
       "      <th>url</th>\n",
       "      <th>name</th>\n",
       "      <th>decade</th>\n",
       "      <th>genre</th>\n",
       "      <th>chords</th>\n",
       "      <th>uuid</th>\n",
       "      <th>artist</th>\n",
       "      <th>cardinality</th>\n",
       "      <th>unique cardinality</th>\n",
       "      <th>major cardinality</th>\n",
       "      <th>minor cardinality</th>\n",
       "      <th>neutral cardinality</th>\n",
       "    </tr>\n",
       "  </thead>\n",
       "  <tbody>\n",
       "    <tr>\n",
       "      <td>10816</td>\n",
       "      <td>https://tabs.ultimate-guitar.com/tab/scorpions...</td>\n",
       "      <td>Rock You Like A Hurricane (ver 2)</td>\n",
       "      <td>1980</td>\n",
       "      <td>Metal</td>\n",
       "      <td>[E5, G5, A5, C5, D5, C5, E5, C5, E5, D5, C5, E...</td>\n",
       "      <td>564b6999-b037-4758-9b15-3adc9b88357a</td>\n",
       "      <td>Scorpions</td>\n",
       "      <td>318</td>\n",
       "      <td>5</td>\n",
       "      <td>0</td>\n",
       "      <td>0</td>\n",
       "      <td>318</td>\n",
       "    </tr>\n",
       "  </tbody>\n",
       "</table>\n",
       "</div>"
      ],
      "text/plain": [
       "                                                     url  \\\n",
       "10816  https://tabs.ultimate-guitar.com/tab/scorpions...   \n",
       "\n",
       "                                    name  decade  genre  \\\n",
       "10816  Rock You Like A Hurricane (ver 2)    1980  Metal   \n",
       "\n",
       "                                                  chords  \\\n",
       "10816  [E5, G5, A5, C5, D5, C5, E5, C5, E5, D5, C5, E...   \n",
       "\n",
       "                                       uuid     artist  cardinality  \\\n",
       "10816  564b6999-b037-4758-9b15-3adc9b88357a  Scorpions          318   \n",
       "\n",
       "       unique cardinality  major cardinality  minor cardinality  \\\n",
       "10816                   5                  0                  0   \n",
       "\n",
       "       neutral cardinality  \n",
       "10816                  318  "
      ]
     },
     "execution_count": 49,
     "metadata": {},
     "output_type": "execute_result"
    }
   ],
   "source": [
    "df[df['neutral cardinality'] == 318]"
   ]
  },
  {
   "cell_type": "markdown",
   "metadata": {},
   "source": [
    "Scorpions like remove the third... :)"
   ]
  },
  {
   "cell_type": "markdown",
   "metadata": {},
   "source": [
    "## Genre (to be improved) "
   ]
  },
  {
   "cell_type": "code",
   "execution_count": 26,
   "metadata": {},
   "outputs": [
    {
     "data": {
      "text/plain": [
       "array(['Folk', 'Folk%%Pop', 'Electronic', 'Classical%%Pop',\n",
       "       'Electronic%%Pop', 'Jazz', 'Pop', 'Rock',\n",
       "       'Contemporary R&b%%Rhythm And Blues', 'Rhythm And Blues',\n",
       "       'World Music', 'Reggae', 'Metal', 'Hip Hop', 'Jazz%%Pop',\n",
       "       'Hip Hop%%Rhythm And Blues', 'Jazz%%World Music', 'Disco',\n",
       "       'Folk%%Jazz', 'Contemporary R&b', 'Electronic%%Rock',\n",
       "       'Electronic%%Pop%%Rock', 'Disco%%Pop', 'Pop%%Rhythm And Blues',\n",
       "       'Pop%%Rock', 'Contemporary R&b%%Hip Hop',\n",
       "       'Religious Music%%Rhythm And Blues', 'Country', 'Folk%%Rock',\n",
       "       'Blues', 'Contemporary R&b%%Electronic',\n",
       "       'Electronic%%Rhythm And Blues', 'Folk%%Religious Music',\n",
       "       'Religious Music', 'Pop%%Religious Music',\n",
       "       'Jazz%%Rhythm And Blues', 'Contemporary R&b%%Pop', 'Metal%%Rock',\n",
       "       'Darkwave', 'Blues%%Rock', 'Disco%%Pop%%Rock',\n",
       "       'Folk%%Rhythm And Blues', 'Folk%%Pop%%Rock',\n",
       "       'Disco%%Rhythm And Blues', 'Blues%%Rhythm And Blues',\n",
       "       'Rhythm And Blues%%Rock', 'Country%%Folk%%Rock', 'Country%%Folk',\n",
       "       'Country%%Folk%%Pop', 'Country%%Folk%%Pop%%Rock',\n",
       "       'Country%%Rhythm And Blues',\n",
       "       'Country%%Folk%%Pop%%Rhythm And Blues', 'Religious Music%%Rock',\n",
       "       'Contemporary R&b%%Rock', 'Contemporary R&b%%Electronic%%Pop',\n",
       "       'Country%%Rock', 'Contemporary R&b%%Pop%%Rhythm And Blues',\n",
       "       'Soundtrack', 'Contemporary R&b%%Folk%%Rhythm And Blues',\n",
       "       'Classical', 'Electronic%%Religious Music',\n",
       "       'Hip Hop%%Religious Music', 'Electronic%%Folk',\n",
       "       'Darkwave%%Electronic', 'New Age', 'Blues%%Pop%%Rock',\n",
       "       'Blues%%Pop', 'Pop%%Reggae', 'Blues%%Folk',\n",
       "       'Pop%%Rhythm And Blues%%Rock', 'Country%%Rhythm And Blues%%Rock',\n",
       "       'Blues%%Rhythm And Blues%%Rock', 'Electronic%%Hip Hop',\n",
       "       'Contemporary R&b%%Hip Hop%%Pop', 'Comedy', 'Classical%%Jazz',\n",
       "       'Blues%%Metal', 'Folk%%Jazz%%Pop', 'Country%%Pop',\n",
       "       'Classical%%Folk', 'Classical%%Country%%Folk', 'Folk%%World Music',\n",
       "       'Electronic%%Religious Music%%Rock', 'Electronic%%Folk%%Pop%%Rock',\n",
       "       'Experimental', 'Classical%%Soundtrack', 'New Age%%World Music',\n",
       "       'Contemporary R&b%%Electronic%%Rhythm And Blues',\n",
       "       'Comedy%%Hip Hop', 'Contemporary R&b%%Pop%%Rock',\n",
       "       'Electronic%%Experimental', 'Blues%%Religious Music',\n",
       "       'Electronic%%Metal', 'Electronic%%Metal%%Rock',\n",
       "       'Country%%Pop%%Rhythm And Blues', 'Jazz%%Pop%%Rhythm And Blues',\n",
       "       'Contemporary R&b%%Jazz%%Rhythm And Blues', 'Electronic%%Reggae',\n",
       "       'Contemporary R&b%%Disco', 'Contemporary R&b%%Disco%%Pop',\n",
       "       'Contemporary R&b%%Disco%%Pop%%Rock', 'Pop%%Religious Music%%Rock',\n",
       "       'Blues%%Jazz', 'Contemporary R&b%%Jazz', 'Reggae%%Rock',\n",
       "       'Electronic%%World Music', 'Country%%Jazz%%Rhythm And Blues',\n",
       "       'Country%%Jazz', 'Contemporary R&b%%Reggae',\n",
       "       'Contemporary R&b%%Pop%%Reggae', 'Hip Hop%%Reggae',\n",
       "       'Pop%%World Music', 'Blues%%Country', 'Country%%Pop%%Rock',\n",
       "       'Reggae%%Rhythm And Blues', 'Electronic%%Reggae%%Rhythm And Blues',\n",
       "       'Folk%%Pop%%World Music', 'Electronic%%Pop%%Rhythm And Blues',\n",
       "       'Hip Hop%%Rock', 'Metal%%Pop%%Rock',\n",
       "       'Folk%%Rhythm And Blues%%Rock', 'Folk%%Jazz%%Rhythm And Blues',\n",
       "       'Folk%%Jazz%%Rhythm And Blues%%Rock',\n",
       "       'Blues%%Jazz%%Rhythm And Blues', 'Blues%%Country%%Jazz',\n",
       "       'Contemporary R&b%%Hip Hop%%Reggae'], dtype=object)"
      ]
     },
     "execution_count": 26,
     "metadata": {},
     "output_type": "execute_result"
    }
   ],
   "source": [
    "def remove_duplicate_genre_inside_cell(value):\n",
    "    unique_genres = list(set(value.split('%%')))\n",
    "    unique_genres.sort(key=str.lower)\n",
    "    return '%%'.join(unique_genres)\n",
    "    \n",
    "\n",
    "df['genre'].apply(remove_duplicate_genre_inside_cell).unique()"
   ]
  },
  {
   "cell_type": "markdown",
   "metadata": {},
   "source": [
    "## "
   ]
  }
 ],
 "metadata": {
  "kernelspec": {
   "display_name": "Python 3",
   "language": "python",
   "name": "python3"
  },
  "language_info": {
   "codemirror_mode": {
    "name": "ipython",
    "version": 3
   },
   "file_extension": ".py",
   "mimetype": "text/x-python",
   "name": "python",
   "nbconvert_exporter": "python",
   "pygments_lexer": "ipython3",
   "version": "3.7.4"
  },
  "toc": {
   "base_numbering": 1,
   "nav_menu": {},
   "number_sections": true,
   "sideBar": true,
   "skip_h1_title": false,
   "title_cell": "Table of Contents",
   "title_sidebar": "Contents",
   "toc_cell": false,
   "toc_position": {},
   "toc_section_display": true,
   "toc_window_display": false
  }
 },
 "nbformat": 4,
 "nbformat_minor": 2
}
