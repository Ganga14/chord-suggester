{
 "cells": [
  {
   "cell_type": "markdown",
   "metadata": {},
   "source": [
    "## Feature extraction "
   ]
  },
  {
   "cell_type": "code",
   "execution_count": 1,
   "metadata": {},
   "outputs": [],
   "source": [
    "from jl_song_data import SongData "
   ]
  },
  {
   "cell_type": "code",
   "execution_count": 2,
   "metadata": {},
   "outputs": [],
   "source": [
    "data = SongData('../data/chords_clean_1_2_3_4_5_6.csv')"
   ]
  },
  {
   "cell_type": "code",
   "execution_count": 3,
   "metadata": {},
   "outputs": [],
   "source": [
    "df = data.df"
   ]
  },
  {
   "cell_type": "code",
   "execution_count": 4,
   "metadata": {},
   "outputs": [],
   "source": [
    "from jl_feature_extractor import FeatureExtractor    \n",
    "\n",
    "feature_extractor = FeatureExtractor()"
   ]
  },
  {
   "cell_type": "markdown",
   "metadata": {},
   "source": [
    "##  Extract artist "
   ]
  },
  {
   "cell_type": "code",
   "execution_count": 5,
   "metadata": {},
   "outputs": [],
   "source": [
    "df['artist'] = df['url'].apply(feature_extractor.extract_pretty_artist)"
   ]
  },
  {
   "cell_type": "code",
   "execution_count": 6,
   "metadata": {},
   "outputs": [
    {
     "data": {
      "text/html": [
       "<div>\n",
       "<style scoped>\n",
       "    .dataframe tbody tr th:only-of-type {\n",
       "        vertical-align: middle;\n",
       "    }\n",
       "\n",
       "    .dataframe tbody tr th {\n",
       "        vertical-align: top;\n",
       "    }\n",
       "\n",
       "    .dataframe thead th {\n",
       "        text-align: right;\n",
       "    }\n",
       "</style>\n",
       "<table border=\"1\" class=\"dataframe\">\n",
       "  <thead>\n",
       "    <tr style=\"text-align: right;\">\n",
       "      <th></th>\n",
       "      <th>url</th>\n",
       "      <th>name</th>\n",
       "      <th>decade</th>\n",
       "      <th>genre</th>\n",
       "      <th>chords</th>\n",
       "      <th>uuid</th>\n",
       "      <th>artist</th>\n",
       "    </tr>\n",
       "  </thead>\n",
       "  <tbody>\n",
       "    <tr>\n",
       "      <td>7076</td>\n",
       "      <td>https://tabs.ultimate-guitar.com/tab/kc-and-th...</td>\n",
       "      <td>Keep It Coming Love</td>\n",
       "      <td>1970s</td>\n",
       "      <td>Disco%%Disco</td>\n",
       "      <td>['G#', 'A#', 'G#', 'A#', 'G#', 'A#', 'G#', 'A#...</td>\n",
       "      <td>00423cc2-12f1-4fd1-b592-184d05caaf41</td>\n",
       "      <td>Kc And The Sunshine Band</td>\n",
       "    </tr>\n",
       "    <tr>\n",
       "      <td>4801</td>\n",
       "      <td>https://tabs.ultimate-guitar.com/tab/garth-bro...</td>\n",
       "      <td>Wolves</td>\n",
       "      <td>1990s</td>\n",
       "      <td>Country</td>\n",
       "      <td>['D', 'D/F#', 'G', 'Asus4', 'A', 'D', 'D/F#', ...</td>\n",
       "      <td>64ce634f-e62d-454e-a7c0-686395cbb3eb</td>\n",
       "      <td>Garth Brooks</td>\n",
       "    </tr>\n",
       "    <tr>\n",
       "      <td>9935</td>\n",
       "      <td>https://tabs.ultimate-guitar.com/tab/pointer-s...</td>\n",
       "      <td>Dare Me</td>\n",
       "      <td>1980s</td>\n",
       "      <td>Contemporary R&amp;b</td>\n",
       "      <td>['F#m', 'F#m', 'E', 'F#m', 'F#m', 'E', 'D', 'C...</td>\n",
       "      <td>6717dd49-f7ad-457d-8f33-488e300f61fd</td>\n",
       "      <td>Pointer Sisters</td>\n",
       "    </tr>\n",
       "    <tr>\n",
       "      <td>10153</td>\n",
       "      <td>https://tabs.ultimate-guitar.com/tab/rainbow/r...</td>\n",
       "      <td>Rainbow Eyes</td>\n",
       "      <td>1970s</td>\n",
       "      <td>Metal</td>\n",
       "      <td>['Em', 'G', 'D', 'Am', 'C', 'D', 'Em', 'Em', '...</td>\n",
       "      <td>ba21e4d2-3c93-4ba8-80c6-65f64c588e76</td>\n",
       "      <td>Rainbow</td>\n",
       "    </tr>\n",
       "    <tr>\n",
       "      <td>3820</td>\n",
       "      <td>https://tabs.ultimate-guitar.com/tab/elvis-pre...</td>\n",
       "      <td>I Got A Woman</td>\n",
       "      <td>1950s</td>\n",
       "      <td>Rhythm And Blues%%Rock</td>\n",
       "      <td>['E', 'A7', 'B7', 'E7', 'E', 'A7', 'E', 'A7', ...</td>\n",
       "      <td>032b2f08-6021-40e6-84f3-6e44ade2925f</td>\n",
       "      <td>Elvis Presley</td>\n",
       "    </tr>\n",
       "    <tr>\n",
       "      <td>4552</td>\n",
       "      <td>https://tabs.ultimate-guitar.com/tab/francis-c...</td>\n",
       "      <td>Octobre</td>\n",
       "      <td>1990s</td>\n",
       "      <td>Pop</td>\n",
       "      <td>['D', 'G', 'D', 'G', 'Bm', 'E', 'G', 'D', 'G',...</td>\n",
       "      <td>0d72a863-6f41-4cb7-bd1d-2097315df5b4</td>\n",
       "      <td>Francis Cabrel</td>\n",
       "    </tr>\n",
       "    <tr>\n",
       "      <td>11151</td>\n",
       "      <td>https://tabs.ultimate-guitar.com/tab/six60/don...</td>\n",
       "      <td>Dont Forget Your Roots (ver 2)</td>\n",
       "      <td>2010s</td>\n",
       "      <td>Reggae</td>\n",
       "      <td>['F', 'C', 'G', 'Am', 'F', 'C', 'G', 'Am', 'F'...</td>\n",
       "      <td>6e06deb7-5e7e-4788-a22a-3d8c6d7d2129</td>\n",
       "      <td>Six60</td>\n",
       "    </tr>\n",
       "    <tr>\n",
       "      <td>138</td>\n",
       "      <td>https://tabs.ultimate-guitar.com/tab/50_cent/2...</td>\n",
       "      <td>21 Questions</td>\n",
       "      <td>2000s</td>\n",
       "      <td>Hip Hop</td>\n",
       "      <td>['Em', 'G', 'C', 'A', 'Em', 'G', 'C', 'A', 'Em...</td>\n",
       "      <td>54718e69-d81c-4d16-913a-c16b5114b4d4</td>\n",
       "      <td>50 Cent</td>\n",
       "    </tr>\n",
       "    <tr>\n",
       "      <td>13544</td>\n",
       "      <td>https://tabs.ultimate-guitar.com/tab/van_morri...</td>\n",
       "      <td>Real Real Gone</td>\n",
       "      <td>1990s</td>\n",
       "      <td>Rhythm And Blues%%Rhythm And Blues</td>\n",
       "      <td>['G', 'Em', 'C', 'D', 'G/F#', 'Am7', 'Am', 'G'...</td>\n",
       "      <td>db767542-46c5-4a08-9f51-a0172591ad51</td>\n",
       "      <td>Van Morrison</td>\n",
       "    </tr>\n",
       "    <tr>\n",
       "      <td>8908</td>\n",
       "      <td>https://tabs.ultimate-guitar.com/tab/my-chemic...</td>\n",
       "      <td>Helena (ver 5)</td>\n",
       "      <td>2000s</td>\n",
       "      <td>Rock</td>\n",
       "      <td>['C#m', 'E', 'B', 'A', 'C#m', 'B', 'C#m', 'E',...</td>\n",
       "      <td>5c89c1bc-dbb4-428e-8607-7735c18f6c59</td>\n",
       "      <td>My Chemical Romance</td>\n",
       "    </tr>\n",
       "  </tbody>\n",
       "</table>\n",
       "</div>"
      ],
      "text/plain": [
       "                                                     url  \\\n",
       "7076   https://tabs.ultimate-guitar.com/tab/kc-and-th...   \n",
       "4801   https://tabs.ultimate-guitar.com/tab/garth-bro...   \n",
       "9935   https://tabs.ultimate-guitar.com/tab/pointer-s...   \n",
       "10153  https://tabs.ultimate-guitar.com/tab/rainbow/r...   \n",
       "3820   https://tabs.ultimate-guitar.com/tab/elvis-pre...   \n",
       "4552   https://tabs.ultimate-guitar.com/tab/francis-c...   \n",
       "11151  https://tabs.ultimate-guitar.com/tab/six60/don...   \n",
       "138    https://tabs.ultimate-guitar.com/tab/50_cent/2...   \n",
       "13544  https://tabs.ultimate-guitar.com/tab/van_morri...   \n",
       "8908   https://tabs.ultimate-guitar.com/tab/my-chemic...   \n",
       "\n",
       "                                 name decade  \\\n",
       "7076              Keep It Coming Love  1970s   \n",
       "4801                           Wolves  1990s   \n",
       "9935                          Dare Me  1980s   \n",
       "10153                    Rainbow Eyes  1970s   \n",
       "3820                    I Got A Woman  1950s   \n",
       "4552                          Octobre  1990s   \n",
       "11151  Dont Forget Your Roots (ver 2)  2010s   \n",
       "138                      21 Questions  2000s   \n",
       "13544                  Real Real Gone  1990s   \n",
       "8908                   Helena (ver 5)  2000s   \n",
       "\n",
       "                                    genre  \\\n",
       "7076                         Disco%%Disco   \n",
       "4801                              Country   \n",
       "9935                     Contemporary R&b   \n",
       "10153                               Metal   \n",
       "3820               Rhythm And Blues%%Rock   \n",
       "4552                                  Pop   \n",
       "11151                              Reggae   \n",
       "138                               Hip Hop   \n",
       "13544  Rhythm And Blues%%Rhythm And Blues   \n",
       "8908                                 Rock   \n",
       "\n",
       "                                                  chords  \\\n",
       "7076   ['G#', 'A#', 'G#', 'A#', 'G#', 'A#', 'G#', 'A#...   \n",
       "4801   ['D', 'D/F#', 'G', 'Asus4', 'A', 'D', 'D/F#', ...   \n",
       "9935   ['F#m', 'F#m', 'E', 'F#m', 'F#m', 'E', 'D', 'C...   \n",
       "10153  ['Em', 'G', 'D', 'Am', 'C', 'D', 'Em', 'Em', '...   \n",
       "3820   ['E', 'A7', 'B7', 'E7', 'E', 'A7', 'E', 'A7', ...   \n",
       "4552   ['D', 'G', 'D', 'G', 'Bm', 'E', 'G', 'D', 'G',...   \n",
       "11151  ['F', 'C', 'G', 'Am', 'F', 'C', 'G', 'Am', 'F'...   \n",
       "138    ['Em', 'G', 'C', 'A', 'Em', 'G', 'C', 'A', 'Em...   \n",
       "13544  ['G', 'Em', 'C', 'D', 'G/F#', 'Am7', 'Am', 'G'...   \n",
       "8908   ['C#m', 'E', 'B', 'A', 'C#m', 'B', 'C#m', 'E',...   \n",
       "\n",
       "                                       uuid                    artist  \n",
       "7076   00423cc2-12f1-4fd1-b592-184d05caaf41  Kc And The Sunshine Band  \n",
       "4801   64ce634f-e62d-454e-a7c0-686395cbb3eb              Garth Brooks  \n",
       "9935   6717dd49-f7ad-457d-8f33-488e300f61fd           Pointer Sisters  \n",
       "10153  ba21e4d2-3c93-4ba8-80c6-65f64c588e76                   Rainbow  \n",
       "3820   032b2f08-6021-40e6-84f3-6e44ade2925f             Elvis Presley  \n",
       "4552   0d72a863-6f41-4cb7-bd1d-2097315df5b4            Francis Cabrel  \n",
       "11151  6e06deb7-5e7e-4788-a22a-3d8c6d7d2129                     Six60  \n",
       "138    54718e69-d81c-4d16-913a-c16b5114b4d4                   50 Cent  \n",
       "13544  db767542-46c5-4a08-9f51-a0172591ad51              Van Morrison  \n",
       "8908   5c89c1bc-dbb4-428e-8607-7735c18f6c59       My Chemical Romance  "
      ]
     },
     "execution_count": 6,
     "metadata": {},
     "output_type": "execute_result"
    }
   ],
   "source": [
    "df.sample(10)"
   ]
  },
  {
   "cell_type": "markdown",
   "metadata": {},
   "source": [
    "## Extract decade as numeric "
   ]
  },
  {
   "cell_type": "code",
   "execution_count": 7,
   "metadata": {},
   "outputs": [
    {
     "data": {
      "text/plain": [
       "array(['1980s', '2000s', '2010s', '1990s', '1960s', '1970s', '1950s'],\n",
       "      dtype=object)"
      ]
     },
     "execution_count": 7,
     "metadata": {},
     "output_type": "execute_result"
    }
   ],
   "source": [
    "df['decade'].unique()"
   ]
  },
  {
   "cell_type": "code",
   "execution_count": 8,
   "metadata": {},
   "outputs": [],
   "source": [
    "df['decade'] = df['decade'].apply(feature_extractor.extract_numeric_decade)"
   ]
  },
  {
   "cell_type": "code",
   "execution_count": 9,
   "metadata": {},
   "outputs": [
    {
     "data": {
      "text/plain": [
       "array([1980, 2000, 2010, 1990, 1960, 1970, 1950])"
      ]
     },
     "execution_count": 9,
     "metadata": {},
     "output_type": "execute_result"
    }
   ],
   "source": [
    "df['decade'].unique()"
   ]
  },
  {
   "cell_type": "markdown",
   "metadata": {},
   "source": [
    "## Harmonics features "
   ]
  },
  {
   "cell_type": "markdown",
   "metadata": {},
   "source": [
    "This eval is to convert string column to array colum"
   ]
  },
  {
   "cell_type": "code",
   "execution_count": 10,
   "metadata": {},
   "outputs": [],
   "source": [
    "df['chords'] = df['chords'].apply(eval)"
   ]
  },
  {
   "cell_type": "markdown",
   "metadata": {},
   "source": [
    "### Cardinality (number of chords) "
   ]
  },
  {
   "cell_type": "code",
   "execution_count": 11,
   "metadata": {},
   "outputs": [],
   "source": [
    "df['cardinality'] = df['chords'].apply(feature_extractor.extract_cardinality)"
   ]
  },
  {
   "cell_type": "code",
   "execution_count": 12,
   "metadata": {},
   "outputs": [
    {
     "data": {
      "text/html": [
       "<div>\n",
       "<style scoped>\n",
       "    .dataframe tbody tr th:only-of-type {\n",
       "        vertical-align: middle;\n",
       "    }\n",
       "\n",
       "    .dataframe tbody tr th {\n",
       "        vertical-align: top;\n",
       "    }\n",
       "\n",
       "    .dataframe thead th {\n",
       "        text-align: right;\n",
       "    }\n",
       "</style>\n",
       "<table border=\"1\" class=\"dataframe\">\n",
       "  <thead>\n",
       "    <tr style=\"text-align: right;\">\n",
       "      <th></th>\n",
       "      <th>url</th>\n",
       "      <th>name</th>\n",
       "      <th>decade</th>\n",
       "      <th>genre</th>\n",
       "      <th>chords</th>\n",
       "      <th>uuid</th>\n",
       "      <th>artist</th>\n",
       "      <th>cardinality</th>\n",
       "    </tr>\n",
       "  </thead>\n",
       "  <tbody>\n",
       "    <tr>\n",
       "      <td>6348</td>\n",
       "      <td>https://tabs.ultimate-guitar.com/tab/john-frus...</td>\n",
       "      <td>Anne</td>\n",
       "      <td>2000</td>\n",
       "      <td>Folk%%Folk</td>\n",
       "      <td>[A, E, F#m, D, A, E, F#m, D, Dm, Gm/Bb, Bb/F, ...</td>\n",
       "      <td>918e3059-61ce-48ba-adac-9f04e1fbb35b</td>\n",
       "      <td>John Frusciante</td>\n",
       "      <td>73</td>\n",
       "    </tr>\n",
       "    <tr>\n",
       "      <td>4073</td>\n",
       "      <td>https://tabs.ultimate-guitar.com/tab/erasure/a...</td>\n",
       "      <td>A Little Respect (ver 3)</td>\n",
       "      <td>1980</td>\n",
       "      <td>Electronic</td>\n",
       "      <td>[C, Csus4, C, Csus4, C, Csus4, C, Csus4, C, Cs...</td>\n",
       "      <td>d911dc33-f9b1-49f8-9e3a-878e8bdab073</td>\n",
       "      <td>Erasure</td>\n",
       "      <td>175</td>\n",
       "    </tr>\n",
       "    <tr>\n",
       "      <td>7891</td>\n",
       "      <td>https://tabs.ultimate-guitar.com/tab/luis-migu...</td>\n",
       "      <td>Todo Y Nada</td>\n",
       "      <td>1990</td>\n",
       "      <td>World Music</td>\n",
       "      <td>[G, D/F#, Em, Bm, C, C/D, G, Gsus4, G, F#m7, B...</td>\n",
       "      <td>66f7f0e0-c8cc-4260-8332-e4ca3f474b74</td>\n",
       "      <td>Luis Miguel</td>\n",
       "      <td>105</td>\n",
       "    </tr>\n",
       "    <tr>\n",
       "      <td>8810</td>\n",
       "      <td>https://tabs.ultimate-guitar.com/tab/mississip...</td>\n",
       "      <td>Trouble Ive Had All My Days</td>\n",
       "      <td>1980</td>\n",
       "      <td>Blues%%Blues</td>\n",
       "      <td>[D, G, D, A, D, D, D, G, D, A, D, G, D, A, D, ...</td>\n",
       "      <td>dcb5a464-c95b-4041-9681-0f6810f5b4e1</td>\n",
       "      <td>Mississippi John Hurt</td>\n",
       "      <td>48</td>\n",
       "    </tr>\n",
       "    <tr>\n",
       "      <td>11597</td>\n",
       "      <td>https://tabs.ultimate-guitar.com/tab/sturgill_...</td>\n",
       "      <td>You Can Have The Crown</td>\n",
       "      <td>2010</td>\n",
       "      <td>Country</td>\n",
       "      <td>[A, D, D, A, E, A, A, D, A, E, A, D, A, E, A, ...</td>\n",
       "      <td>4a7ea563-3227-4e2e-9546-7c7283746549</td>\n",
       "      <td>Sturgill Simpson</td>\n",
       "      <td>68</td>\n",
       "    </tr>\n",
       "    <tr>\n",
       "      <td>1579</td>\n",
       "      <td>https://tabs.ultimate-guitar.com/tab/bob_dylan...</td>\n",
       "      <td>Lay Lady Lay (ver 5)</td>\n",
       "      <td>1960</td>\n",
       "      <td>Country</td>\n",
       "      <td>[A, C#m, G, Bm, A, C#m, G, Bm, A, C#m, G, Bm, ...</td>\n",
       "      <td>5fe9ac84-6c9e-48f1-a612-e4516e54a294</td>\n",
       "      <td>Bob Dylan</td>\n",
       "      <td>296</td>\n",
       "    </tr>\n",
       "    <tr>\n",
       "      <td>998</td>\n",
       "      <td>https://tabs.ultimate-guitar.com/tab/aventura/...</td>\n",
       "      <td>Te Invito</td>\n",
       "      <td>2000</td>\n",
       "      <td>World Music</td>\n",
       "      <td>[C, Am, F, G, C, Am, F, G, C, Am, F, G, C, Am,...</td>\n",
       "      <td>e9f51f45-24cc-4a22-ac0e-2f0c31702ac0</td>\n",
       "      <td>Aventura</td>\n",
       "      <td>70</td>\n",
       "    </tr>\n",
       "    <tr>\n",
       "      <td>1674</td>\n",
       "      <td>https://tabs.ultimate-guitar.com/tab/bobby_dar...</td>\n",
       "      <td>Beyond The Sea (ver 5)</td>\n",
       "      <td>1950</td>\n",
       "      <td>Pop%%Pop</td>\n",
       "      <td>[G, Em, Am7, D7, G, Em, Am7, D7, G, B7, Em, D7...</td>\n",
       "      <td>bc01bd8b-d747-4e7e-8fc4-8b2cae9fc873</td>\n",
       "      <td>Bobby Darin</td>\n",
       "      <td>89</td>\n",
       "    </tr>\n",
       "    <tr>\n",
       "      <td>3663</td>\n",
       "      <td>https://tabs.ultimate-guitar.com/tab/ella-hend...</td>\n",
       "      <td>Yours</td>\n",
       "      <td>2010</td>\n",
       "      <td>Rhythm And Blues</td>\n",
       "      <td>[F, C, G, F, C, G, F, C, G, F, C, G, F, C, G, ...</td>\n",
       "      <td>5bf8b855-7f9d-4ab7-b5ac-0580fdfbb7e2</td>\n",
       "      <td>Ella Henderson</td>\n",
       "      <td>74</td>\n",
       "    </tr>\n",
       "    <tr>\n",
       "      <td>13274</td>\n",
       "      <td>https://tabs.ultimate-guitar.com/tab/tryo/dans...</td>\n",
       "      <td>Dans Les Nuages</td>\n",
       "      <td>2000</td>\n",
       "      <td>Reggae</td>\n",
       "      <td>[Am, Am, Am, D, D, Am, Am, D, D, Am, D, Am, D,...</td>\n",
       "      <td>3bd16059-c0e5-4895-a2df-e22e40835711</td>\n",
       "      <td>Tryo</td>\n",
       "      <td>77</td>\n",
       "    </tr>\n",
       "  </tbody>\n",
       "</table>\n",
       "</div>"
      ],
      "text/plain": [
       "                                                     url  \\\n",
       "6348   https://tabs.ultimate-guitar.com/tab/john-frus...   \n",
       "4073   https://tabs.ultimate-guitar.com/tab/erasure/a...   \n",
       "7891   https://tabs.ultimate-guitar.com/tab/luis-migu...   \n",
       "8810   https://tabs.ultimate-guitar.com/tab/mississip...   \n",
       "11597  https://tabs.ultimate-guitar.com/tab/sturgill_...   \n",
       "1579   https://tabs.ultimate-guitar.com/tab/bob_dylan...   \n",
       "998    https://tabs.ultimate-guitar.com/tab/aventura/...   \n",
       "1674   https://tabs.ultimate-guitar.com/tab/bobby_dar...   \n",
       "3663   https://tabs.ultimate-guitar.com/tab/ella-hend...   \n",
       "13274  https://tabs.ultimate-guitar.com/tab/tryo/dans...   \n",
       "\n",
       "                              name  decade             genre  \\\n",
       "6348                          Anne    2000        Folk%%Folk   \n",
       "4073      A Little Respect (ver 3)    1980        Electronic   \n",
       "7891                   Todo Y Nada    1990       World Music   \n",
       "8810   Trouble Ive Had All My Days    1980      Blues%%Blues   \n",
       "11597       You Can Have The Crown    2010           Country   \n",
       "1579          Lay Lady Lay (ver 5)    1960           Country   \n",
       "998                      Te Invito    2000       World Music   \n",
       "1674        Beyond The Sea (ver 5)    1950          Pop%%Pop   \n",
       "3663                         Yours    2010  Rhythm And Blues   \n",
       "13274              Dans Les Nuages    2000            Reggae   \n",
       "\n",
       "                                                  chords  \\\n",
       "6348   [A, E, F#m, D, A, E, F#m, D, Dm, Gm/Bb, Bb/F, ...   \n",
       "4073   [C, Csus4, C, Csus4, C, Csus4, C, Csus4, C, Cs...   \n",
       "7891   [G, D/F#, Em, Bm, C, C/D, G, Gsus4, G, F#m7, B...   \n",
       "8810   [D, G, D, A, D, D, D, G, D, A, D, G, D, A, D, ...   \n",
       "11597  [A, D, D, A, E, A, A, D, A, E, A, D, A, E, A, ...   \n",
       "1579   [A, C#m, G, Bm, A, C#m, G, Bm, A, C#m, G, Bm, ...   \n",
       "998    [C, Am, F, G, C, Am, F, G, C, Am, F, G, C, Am,...   \n",
       "1674   [G, Em, Am7, D7, G, Em, Am7, D7, G, B7, Em, D7...   \n",
       "3663   [F, C, G, F, C, G, F, C, G, F, C, G, F, C, G, ...   \n",
       "13274  [Am, Am, Am, D, D, Am, Am, D, D, Am, D, Am, D,...   \n",
       "\n",
       "                                       uuid                 artist  \\\n",
       "6348   918e3059-61ce-48ba-adac-9f04e1fbb35b        John Frusciante   \n",
       "4073   d911dc33-f9b1-49f8-9e3a-878e8bdab073                Erasure   \n",
       "7891   66f7f0e0-c8cc-4260-8332-e4ca3f474b74            Luis Miguel   \n",
       "8810   dcb5a464-c95b-4041-9681-0f6810f5b4e1  Mississippi John Hurt   \n",
       "11597  4a7ea563-3227-4e2e-9546-7c7283746549       Sturgill Simpson   \n",
       "1579   5fe9ac84-6c9e-48f1-a612-e4516e54a294              Bob Dylan   \n",
       "998    e9f51f45-24cc-4a22-ac0e-2f0c31702ac0               Aventura   \n",
       "1674   bc01bd8b-d747-4e7e-8fc4-8b2cae9fc873            Bobby Darin   \n",
       "3663   5bf8b855-7f9d-4ab7-b5ac-0580fdfbb7e2         Ella Henderson   \n",
       "13274  3bd16059-c0e5-4895-a2df-e22e40835711                   Tryo   \n",
       "\n",
       "       cardinality  \n",
       "6348            73  \n",
       "4073           175  \n",
       "7891           105  \n",
       "8810            48  \n",
       "11597           68  \n",
       "1579           296  \n",
       "998             70  \n",
       "1674            89  \n",
       "3663            74  \n",
       "13274           77  "
      ]
     },
     "execution_count": 12,
     "metadata": {},
     "output_type": "execute_result"
    }
   ],
   "source": [
    "df.sample(10)"
   ]
  },
  {
   "cell_type": "code",
   "execution_count": 13,
   "metadata": {},
   "outputs": [
    {
     "data": {
      "text/plain": [
       "count    14114.000000\n",
       "mean        85.595012\n",
       "std         68.730613\n",
       "min          0.000000\n",
       "25%         51.000000\n",
       "50%         77.000000\n",
       "75%        108.000000\n",
       "max       2020.000000\n",
       "Name: cardinality, dtype: float64"
      ]
     },
     "execution_count": 13,
     "metadata": {},
     "output_type": "execute_result"
    }
   ],
   "source": [
    "df['cardinality'].describe()"
   ]
  },
  {
   "cell_type": "code",
   "execution_count": 14,
   "metadata": {},
   "outputs": [
    {
     "data": {
      "text/html": [
       "<div>\n",
       "<style scoped>\n",
       "    .dataframe tbody tr th:only-of-type {\n",
       "        vertical-align: middle;\n",
       "    }\n",
       "\n",
       "    .dataframe tbody tr th {\n",
       "        vertical-align: top;\n",
       "    }\n",
       "\n",
       "    .dataframe thead th {\n",
       "        text-align: right;\n",
       "    }\n",
       "</style>\n",
       "<table border=\"1\" class=\"dataframe\">\n",
       "  <thead>\n",
       "    <tr style=\"text-align: right;\">\n",
       "      <th></th>\n",
       "      <th>url</th>\n",
       "      <th>name</th>\n",
       "      <th>decade</th>\n",
       "      <th>genre</th>\n",
       "      <th>chords</th>\n",
       "      <th>uuid</th>\n",
       "      <th>artist</th>\n",
       "      <th>cardinality</th>\n",
       "    </tr>\n",
       "  </thead>\n",
       "  <tbody>\n",
       "    <tr>\n",
       "      <td>19</td>\n",
       "      <td>https://tabs.ultimate-guitar.com/tab/120815</td>\n",
       "      <td>Balladen Om Herr Fredrik Åkare Och Den Söta Fr...</td>\n",
       "      <td>1960</td>\n",
       "      <td>Jazz</td>\n",
       "      <td>[]</td>\n",
       "      <td>752b3d65-297f-4777-acc4-e9d92e243a72</td>\n",
       "      <td>Unknown</td>\n",
       "      <td>0</td>\n",
       "    </tr>\n",
       "    <tr>\n",
       "      <td>160</td>\n",
       "      <td>https://tabs.ultimate-guitar.com/tab/883/cumul...</td>\n",
       "      <td>Cumuli</td>\n",
       "      <td>1990</td>\n",
       "      <td>Electronic</td>\n",
       "      <td>[]</td>\n",
       "      <td>523bfc79-9f5d-4747-8db3-366bd5d32152</td>\n",
       "      <td>883</td>\n",
       "      <td>0</td>\n",
       "    </tr>\n",
       "    <tr>\n",
       "      <td>163</td>\n",
       "      <td>https://tabs.ultimate-guitar.com/tab/883/rotta...</td>\n",
       "      <td>Rotta X Casa Di Dio</td>\n",
       "      <td>1990</td>\n",
       "      <td>Electronic%%Electronic</td>\n",
       "      <td>[]</td>\n",
       "      <td>8c8a69f6-7027-4816-a91d-d219d87582ca</td>\n",
       "      <td>883</td>\n",
       "      <td>0</td>\n",
       "    </tr>\n",
       "    <tr>\n",
       "      <td>217</td>\n",
       "      <td>https://tabs.ultimate-guitar.com/tab/abba/danc...</td>\n",
       "      <td>Dancing Queen (ver 3)</td>\n",
       "      <td>1970</td>\n",
       "      <td>Pop</td>\n",
       "      <td>[]</td>\n",
       "      <td>044a35a5-3943-49a5-bb6a-e0f5e19776cf</td>\n",
       "      <td>Abba</td>\n",
       "      <td>0</td>\n",
       "    </tr>\n",
       "    <tr>\n",
       "      <td>218</td>\n",
       "      <td>https://tabs.ultimate-guitar.com/tab/abba/danc...</td>\n",
       "      <td>Dancing Queen (ver 4)</td>\n",
       "      <td>1970</td>\n",
       "      <td>Pop%%Pop%%Pop</td>\n",
       "      <td>[]</td>\n",
       "      <td>bb8e839f-0d3f-40b6-9ee3-5fd4aa0301e1</td>\n",
       "      <td>Abba</td>\n",
       "      <td>0</td>\n",
       "    </tr>\n",
       "    <tr>\n",
       "      <td>...</td>\n",
       "      <td>...</td>\n",
       "      <td>...</td>\n",
       "      <td>...</td>\n",
       "      <td>...</td>\n",
       "      <td>...</td>\n",
       "      <td>...</td>\n",
       "      <td>...</td>\n",
       "      <td>...</td>\n",
       "    </tr>\n",
       "    <tr>\n",
       "      <td>12490</td>\n",
       "      <td>https://tabs.ultimate-guitar.com/tab/the_lonel...</td>\n",
       "      <td>Like A Boss</td>\n",
       "      <td>2000</td>\n",
       "      <td>Hip Hop</td>\n",
       "      <td>[]</td>\n",
       "      <td>1a6d53ae-aeea-4bdd-a1e2-3100bbf3c88e</td>\n",
       "      <td>The Lonely Island</td>\n",
       "      <td>0</td>\n",
       "    </tr>\n",
       "    <tr>\n",
       "      <td>13107</td>\n",
       "      <td>https://tabs.ultimate-guitar.com/tab/tony_benn...</td>\n",
       "      <td>A Child Is Born</td>\n",
       "      <td>1970</td>\n",
       "      <td>Jazz</td>\n",
       "      <td>[]</td>\n",
       "      <td>1dc741fc-51a9-40ef-a328-48eb8a467b62</td>\n",
       "      <td>Tony Bennett</td>\n",
       "      <td>0</td>\n",
       "    </tr>\n",
       "    <tr>\n",
       "      <td>13369</td>\n",
       "      <td>https://tabs.ultimate-guitar.com/tab/tyler_the...</td>\n",
       "      <td>Answer</td>\n",
       "      <td>2010</td>\n",
       "      <td>Hip Hop</td>\n",
       "      <td>[]</td>\n",
       "      <td>8474fdc1-00c5-457a-9178-41b1bb48a21f</td>\n",
       "      <td>Tyler The Creator</td>\n",
       "      <td>0</td>\n",
       "    </tr>\n",
       "    <tr>\n",
       "      <td>13802</td>\n",
       "      <td>https://tabs.ultimate-guitar.com/tab/wham/free...</td>\n",
       "      <td>Freedom</td>\n",
       "      <td>1980</td>\n",
       "      <td>Rhythm And Blues%%Rhythm And Blues%%Rhythm And...</td>\n",
       "      <td>[]</td>\n",
       "      <td>f0a72548-c85e-4848-bf60-af2e62993f5d</td>\n",
       "      <td>Wham</td>\n",
       "      <td>0</td>\n",
       "    </tr>\n",
       "    <tr>\n",
       "      <td>14062</td>\n",
       "      <td>https://tabs.ultimate-guitar.com/tab/zac_brown...</td>\n",
       "      <td>As Shes Walking Away</td>\n",
       "      <td>2010</td>\n",
       "      <td>Country</td>\n",
       "      <td>[]</td>\n",
       "      <td>71ce0aa4-973b-41f1-b108-bb7dcd663b81</td>\n",
       "      <td>Zac Brown Band</td>\n",
       "      <td>0</td>\n",
       "    </tr>\n",
       "  </tbody>\n",
       "</table>\n",
       "<p>71 rows × 8 columns</p>\n",
       "</div>"
      ],
      "text/plain": [
       "                                                     url  \\\n",
       "19           https://tabs.ultimate-guitar.com/tab/120815   \n",
       "160    https://tabs.ultimate-guitar.com/tab/883/cumul...   \n",
       "163    https://tabs.ultimate-guitar.com/tab/883/rotta...   \n",
       "217    https://tabs.ultimate-guitar.com/tab/abba/danc...   \n",
       "218    https://tabs.ultimate-guitar.com/tab/abba/danc...   \n",
       "...                                                  ...   \n",
       "12490  https://tabs.ultimate-guitar.com/tab/the_lonel...   \n",
       "13107  https://tabs.ultimate-guitar.com/tab/tony_benn...   \n",
       "13369  https://tabs.ultimate-guitar.com/tab/tyler_the...   \n",
       "13802  https://tabs.ultimate-guitar.com/tab/wham/free...   \n",
       "14062  https://tabs.ultimate-guitar.com/tab/zac_brown...   \n",
       "\n",
       "                                                    name  decade  \\\n",
       "19     Balladen Om Herr Fredrik Åkare Och Den Söta Fr...    1960   \n",
       "160                                               Cumuli    1990   \n",
       "163                                  Rotta X Casa Di Dio    1990   \n",
       "217                                Dancing Queen (ver 3)    1970   \n",
       "218                                Dancing Queen (ver 4)    1970   \n",
       "...                                                  ...     ...   \n",
       "12490                                        Like A Boss    2000   \n",
       "13107                                    A Child Is Born    1970   \n",
       "13369                                             Answer    2010   \n",
       "13802                                            Freedom    1980   \n",
       "14062                               As Shes Walking Away    2010   \n",
       "\n",
       "                                                   genre chords  \\\n",
       "19                                                  Jazz     []   \n",
       "160                                           Electronic     []   \n",
       "163                               Electronic%%Electronic     []   \n",
       "217                                                  Pop     []   \n",
       "218                                        Pop%%Pop%%Pop     []   \n",
       "...                                                  ...    ...   \n",
       "12490                                            Hip Hop     []   \n",
       "13107                                               Jazz     []   \n",
       "13369                                            Hip Hop     []   \n",
       "13802  Rhythm And Blues%%Rhythm And Blues%%Rhythm And...     []   \n",
       "14062                                            Country     []   \n",
       "\n",
       "                                       uuid             artist  cardinality  \n",
       "19     752b3d65-297f-4777-acc4-e9d92e243a72            Unknown            0  \n",
       "160    523bfc79-9f5d-4747-8db3-366bd5d32152                883            0  \n",
       "163    8c8a69f6-7027-4816-a91d-d219d87582ca                883            0  \n",
       "217    044a35a5-3943-49a5-bb6a-e0f5e19776cf               Abba            0  \n",
       "218    bb8e839f-0d3f-40b6-9ee3-5fd4aa0301e1               Abba            0  \n",
       "...                                     ...                ...          ...  \n",
       "12490  1a6d53ae-aeea-4bdd-a1e2-3100bbf3c88e  The Lonely Island            0  \n",
       "13107  1dc741fc-51a9-40ef-a328-48eb8a467b62       Tony Bennett            0  \n",
       "13369  8474fdc1-00c5-457a-9178-41b1bb48a21f  Tyler The Creator            0  \n",
       "13802  f0a72548-c85e-4848-bf60-af2e62993f5d               Wham            0  \n",
       "14062  71ce0aa4-973b-41f1-b108-bb7dcd663b81     Zac Brown Band            0  \n",
       "\n",
       "[71 rows x 8 columns]"
      ]
     },
     "execution_count": 14,
     "metadata": {},
     "output_type": "execute_result"
    }
   ],
   "source": [
    "df[df['cardinality'] == 0]"
   ]
  },
  {
   "cell_type": "markdown",
   "metadata": {},
   "source": [
    "Some songs are been uploaded by user/ultimate guitar without including the special format for the chords, for example, in https://tabs.ultimate-guitar.com/tab/883/rotta-x-casa-di-dio-chords-89055. Let's remove them"
   ]
  },
  {
   "cell_type": "code",
   "execution_count": 15,
   "metadata": {},
   "outputs": [],
   "source": [
    "df = df[df['cardinality'] != 0]"
   ]
  },
  {
   "cell_type": "code",
   "execution_count": 16,
   "metadata": {},
   "outputs": [
    {
     "data": {
      "text/plain": [
       "count    14043.000000\n",
       "mean        86.027772\n",
       "std         68.633450\n",
       "min          1.000000\n",
       "25%         51.000000\n",
       "50%         78.000000\n",
       "75%        109.000000\n",
       "max       2020.000000\n",
       "Name: cardinality, dtype: float64"
      ]
     },
     "execution_count": 16,
     "metadata": {},
     "output_type": "execute_result"
    }
   ],
   "source": [
    "df['cardinality'].describe()"
   ]
  },
  {
   "cell_type": "markdown",
   "metadata": {},
   "source": [
    "The same occurs for songs with one or two chords (eg. https://tabs.ultimate-guitar.com/tab/mad-caddies/souls-for-sale-chords-837415)"
   ]
  },
  {
   "cell_type": "code",
   "execution_count": 17,
   "metadata": {},
   "outputs": [],
   "source": [
    "df = df[df['cardinality'] != 1]"
   ]
  },
  {
   "cell_type": "code",
   "execution_count": 18,
   "metadata": {},
   "outputs": [],
   "source": [
    "df = df[df['cardinality'] != 2]"
   ]
  },
  {
   "cell_type": "code",
   "execution_count": 19,
   "metadata": {},
   "outputs": [
    {
     "data": {
      "text/plain": [
       "count    14031.000000\n",
       "mean        86.099993\n",
       "std         68.618328\n",
       "min          3.000000\n",
       "25%         52.000000\n",
       "50%         78.000000\n",
       "75%        109.000000\n",
       "max       2020.000000\n",
       "Name: cardinality, dtype: float64"
      ]
     },
     "execution_count": 19,
     "metadata": {},
     "output_type": "execute_result"
    }
   ],
   "source": [
    "df['cardinality'].describe()"
   ]
  },
  {
   "cell_type": "code",
   "execution_count": 30,
   "metadata": {},
   "outputs": [
    {
     "data": {
      "text/plain": [
       "0    68\n",
       "dtype: int64"
      ]
     },
     "execution_count": 30,
     "metadata": {},
     "output_type": "execute_result"
    }
   ],
   "source": [
    "df['cardinality'].mode()"
   ]
  },
  {
   "cell_type": "code",
   "execution_count": 25,
   "metadata": {},
   "outputs": [],
   "source": [
    "import matplotlib.pyplot as plt"
   ]
  },
  {
   "cell_type": "code",
   "execution_count": 29,
   "metadata": {},
   "outputs": [
    {
     "data": {
      "text/plain": [
       "<matplotlib.axes._subplots.AxesSubplot at 0x1276cbfd0>"
      ]
     },
     "execution_count": 29,
     "metadata": {},
     "output_type": "execute_result"
    },
    {
     "data": {
      "image/png": "[encoded data removed]",
      "text/plain": [
       "<Figure size 432x288 with 1 Axes>"
      ]
     },
     "metadata": {
      "needs_background": "light"
     },
     "output_type": "display_data"
    }
   ],
   "source": [
    "df['cardinality'].hist(bins=100)"
   ]
  },
  {
   "cell_type": "markdown",
   "metadata": {},
   "source": [
    "## Genre (to be improved) "
   ]
  },
  {
   "cell_type": "code",
   "execution_count": 26,
   "metadata": {},
   "outputs": [
    {
     "data": {
      "text/plain": [
       "array(['Folk', 'Folk%%Pop', 'Electronic', 'Classical%%Pop',\n",
       "       'Electronic%%Pop', 'Jazz', 'Pop', 'Rock',\n",
       "       'Contemporary R&b%%Rhythm And Blues', 'Rhythm And Blues',\n",
       "       'World Music', 'Reggae', 'Metal', 'Hip Hop', 'Jazz%%Pop',\n",
       "       'Hip Hop%%Rhythm And Blues', 'Jazz%%World Music', 'Disco',\n",
       "       'Folk%%Jazz', 'Contemporary R&b', 'Electronic%%Rock',\n",
       "       'Electronic%%Pop%%Rock', 'Disco%%Pop', 'Pop%%Rhythm And Blues',\n",
       "       'Pop%%Rock', 'Contemporary R&b%%Hip Hop',\n",
       "       'Religious Music%%Rhythm And Blues', 'Country', 'Folk%%Rock',\n",
       "       'Blues', 'Contemporary R&b%%Electronic',\n",
       "       'Electronic%%Rhythm And Blues', 'Folk%%Religious Music',\n",
       "       'Religious Music', 'Pop%%Religious Music',\n",
       "       'Jazz%%Rhythm And Blues', 'Contemporary R&b%%Pop', 'Metal%%Rock',\n",
       "       'Darkwave', 'Blues%%Rock', 'Disco%%Pop%%Rock',\n",
       "       'Folk%%Rhythm And Blues', 'Folk%%Pop%%Rock',\n",
       "       'Disco%%Rhythm And Blues', 'Blues%%Rhythm And Blues',\n",
       "       'Rhythm And Blues%%Rock', 'Country%%Folk%%Rock', 'Country%%Folk',\n",
       "       'Country%%Folk%%Pop', 'Country%%Folk%%Pop%%Rock',\n",
       "       'Country%%Rhythm And Blues',\n",
       "       'Country%%Folk%%Pop%%Rhythm And Blues', 'Religious Music%%Rock',\n",
       "       'Contemporary R&b%%Rock', 'Contemporary R&b%%Electronic%%Pop',\n",
       "       'Country%%Rock', 'Contemporary R&b%%Pop%%Rhythm And Blues',\n",
       "       'Soundtrack', 'Contemporary R&b%%Folk%%Rhythm And Blues',\n",
       "       'Classical', 'Electronic%%Religious Music',\n",
       "       'Hip Hop%%Religious Music', 'Electronic%%Folk',\n",
       "       'Darkwave%%Electronic', 'New Age', 'Blues%%Pop%%Rock',\n",
       "       'Blues%%Pop', 'Pop%%Reggae', 'Blues%%Folk',\n",
       "       'Pop%%Rhythm And Blues%%Rock', 'Country%%Rhythm And Blues%%Rock',\n",
       "       'Blues%%Rhythm And Blues%%Rock', 'Electronic%%Hip Hop',\n",
       "       'Contemporary R&b%%Hip Hop%%Pop', 'Comedy', 'Classical%%Jazz',\n",
       "       'Blues%%Metal', 'Folk%%Jazz%%Pop', 'Country%%Pop',\n",
       "       'Classical%%Folk', 'Classical%%Country%%Folk', 'Folk%%World Music',\n",
       "       'Electronic%%Religious Music%%Rock', 'Electronic%%Folk%%Pop%%Rock',\n",
       "       'Experimental', 'Classical%%Soundtrack', 'New Age%%World Music',\n",
       "       'Contemporary R&b%%Electronic%%Rhythm And Blues',\n",
       "       'Comedy%%Hip Hop', 'Contemporary R&b%%Pop%%Rock',\n",
       "       'Electronic%%Experimental', 'Blues%%Religious Music',\n",
       "       'Electronic%%Metal', 'Electronic%%Metal%%Rock',\n",
       "       'Country%%Pop%%Rhythm And Blues', 'Jazz%%Pop%%Rhythm And Blues',\n",
       "       'Contemporary R&b%%Jazz%%Rhythm And Blues', 'Electronic%%Reggae',\n",
       "       'Contemporary R&b%%Disco', 'Contemporary R&b%%Disco%%Pop',\n",
       "       'Contemporary R&b%%Disco%%Pop%%Rock', 'Pop%%Religious Music%%Rock',\n",
       "       'Blues%%Jazz', 'Contemporary R&b%%Jazz', 'Reggae%%Rock',\n",
       "       'Electronic%%World Music', 'Country%%Jazz%%Rhythm And Blues',\n",
       "       'Country%%Jazz', 'Contemporary R&b%%Reggae',\n",
       "       'Contemporary R&b%%Pop%%Reggae', 'Hip Hop%%Reggae',\n",
       "       'Pop%%World Music', 'Blues%%Country', 'Country%%Pop%%Rock',\n",
       "       'Reggae%%Rhythm And Blues', 'Electronic%%Reggae%%Rhythm And Blues',\n",
       "       'Folk%%Pop%%World Music', 'Electronic%%Pop%%Rhythm And Blues',\n",
       "       'Hip Hop%%Rock', 'Metal%%Pop%%Rock',\n",
       "       'Folk%%Rhythm And Blues%%Rock', 'Folk%%Jazz%%Rhythm And Blues',\n",
       "       'Folk%%Jazz%%Rhythm And Blues%%Rock',\n",
       "       'Blues%%Jazz%%Rhythm And Blues', 'Blues%%Country%%Jazz',\n",
       "       'Contemporary R&b%%Hip Hop%%Reggae'], dtype=object)"
      ]
     },
     "execution_count": 26,
     "metadata": {},
     "output_type": "execute_result"
    }
   ],
   "source": [
    "def remove_duplicate_genre_inside_cell(value):\n",
    "    unique_genres = list(set(value.split('%%')))\n",
    "    unique_genres.sort(key=str.lower)\n",
    "    return '%%'.join(unique_genres)\n",
    "    \n",
    "\n",
    "df['genre'].apply(remove_duplicate_genre_inside_cell).unique()"
   ]
  },
  {
   "cell_type": "markdown",
   "metadata": {},
   "source": [
    "## "
   ]
  }
 ],
 "metadata": {
  "kernelspec": {
   "display_name": "Python 3",
   "language": "python",
   "name": "python3"
  },
  "language_info": {
   "codemirror_mode": {
    "name": "ipython",
    "version": 3
   },
   "file_extension": ".py",
   "mimetype": "text/x-python",
   "name": "python",
   "nbconvert_exporter": "python",
   "pygments_lexer": "ipython3",
   "version": "3.7.4"
  },
  "toc": {
   "base_numbering": 1,
   "nav_menu": {},
   "number_sections": true,
   "sideBar": true,
   "skip_h1_title": false,
   "title_cell": "Table of Contents",
   "title_sidebar": "Contents",
   "toc_cell": false,
   "toc_position": {},
   "toc_section_display": true,
   "toc_window_display": false
  }
 },
 "nbformat": 4,
 "nbformat_minor": 2
}
