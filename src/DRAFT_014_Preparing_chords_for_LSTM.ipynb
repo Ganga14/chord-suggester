{
 "cells": [
  {
   "cell_type": "markdown",
   "metadata": {},
   "source": [
    "## Number of possible chords "
   ]
  },
  {
   "cell_type": "markdown",
   "metadata": {},
   "source": [
    "Let's see the number of possible chords"
   ]
  },
  {
   "cell_type": "markdown",
   "metadata": {},
   "source": [
    "**We have 12 possible roots**"
   ]
  },
  {
   "cell_type": "code",
   "execution_count": 1,
   "metadata": {},
   "outputs": [
    {
     "data": {
      "text/plain": [
       "[0, 1, 2, 3, 4, 5, 6, 7, 8, 9, 10, 11]"
      ]
     },
     "execution_count": 1,
     "metadata": {},
     "output_type": "execute_result"
    }
   ],
   "source": [
    "possible_notes = list(range(0,12))\n",
    "possible_notes"
   ]
  },
  {
   "cell_type": "markdown",
   "metadata": {},
   "source": [
    "We have the following qualities"
   ]
  },
  {
   "cell_type": "code",
   "execution_count": 199,
   "metadata": {},
   "outputs": [],
   "source": [
    "from pychord_jl.constants import QUALITY_DICT\n",
    "from pychord_jl.constants import VAL_NOTE_DICT"
   ]
  },
  {
   "cell_type": "code",
   "execution_count": 200,
   "metadata": {},
   "outputs": [
    {
     "data": {
      "text/plain": [
       "{0: ['C', 'B#'],\n",
       " 1: ['Db', 'C#'],\n",
       " 2: ['D'],\n",
       " 3: ['Eb', 'D#'],\n",
       " 4: ['E', 'Fb'],\n",
       " 5: ['F', 'E#'],\n",
       " 6: ['F#', 'Gb'],\n",
       " 7: ['G'],\n",
       " 8: ['Ab', 'G#'],\n",
       " 9: ['A'],\n",
       " 10: ['Bb', 'A#'],\n",
       " 11: ['B', 'Cb']}"
      ]
     },
     "execution_count": 200,
     "metadata": {},
     "output_type": "execute_result"
    }
   ],
   "source": [
    "VAL_NOTE_DICT"
   ]
  },
  {
   "cell_type": "code",
   "execution_count": 3,
   "metadata": {},
   "outputs": [
    {
     "data": {
      "text/plain": [
       "OrderedDict([('3', (0, 4)),\n",
       "             ('5', (0, 7)),\n",
       "             ('-5', (0, 7)),\n",
       "             ('sus', (0, 7)),\n",
       "             ('', (0, 4, 7)),\n",
       "             ('maj', (0, 4, 7)),\n",
       "             ('M', (0, 4, 7)),\n",
       "             ('m', (0, 3, 7)),\n",
       "             ('min', (0, 3, 7)),\n",
       "             ('mi', (0, 3, 7)),\n",
       "             ('dim', (0, 3, 6)),\n",
       "             ('b5', (0, 3, 6)),\n",
       "             ('o', (0, 3, 6)),\n",
       "             ('aug', (0, 4, 8)),\n",
       "             ('(aug)', (0, 4, 8)),\n",
       "             ('+5', (0, 4, 8)),\n",
       "             ('+', (0, 4, 8)),\n",
       "             ('sus2', (0, 2, 7)),\n",
       "             ('(sus2)', (0, 2, 7)),\n",
       "             ('sus4', (0, 5, 7)),\n",
       "             ('(sus4)', (0, 5, 7)),\n",
       "             ('s4', (0, 5, 7)),\n",
       "             ('6', (0, 4, 7, 9)),\n",
       "             ('add6', (0, 4, 7, 9)),\n",
       "             ('7', (0, 4, 7, 10)),\n",
       "             ('(7)', (0, 4, 7, 10)),\n",
       "             ('(M7)', (0, 4, 7, 10)),\n",
       "             ('7-5', (0, 4, 6, 10)),\n",
       "             ('7_5', (0, 4, 6, 10)),\n",
       "             ('7b5', (0, 4, 6, 10)),\n",
       "             ('maj7b5', (0, 4, 6, 11)),\n",
       "             ('7+5', (0, 4, 8, 10)),\n",
       "             ('7+', (0, 4, 8, 10)),\n",
       "             ('7#5', (0, 4, 8, 10)),\n",
       "             ('7(#5)', (0, 4, 8, 10)),\n",
       "             ('6sus2', (0, 2, 7, 9)),\n",
       "             ('7sus2', (0, 2, 7, 10)),\n",
       "             ('maj7sus2', (0, 2, 7, 10)),\n",
       "             ('7sus4', (0, 5, 7, 10)),\n",
       "             ('7(sus)', (0, 5, 7, 10)),\n",
       "             ('sus7', (0, 5, 7, 10)),\n",
       "             ('7sus', (0, 5, 7, 10)),\n",
       "             ('m6', (0, 3, 7, 9)),\n",
       "             ('m7', (0, 3, 7, 10)),\n",
       "             ('m(7)', (0, 3, 7, 10)),\n",
       "             ('7m', (0, 3, 7, 10)),\n",
       "             ('AmMaj7', (0, 3, 7, 11)),\n",
       "             ('min7', (0, 3, 7, 10)),\n",
       "             ('dim7', (0, 3, 7, 10)),\n",
       "             ('o7', (0, 3, 7, 10)),\n",
       "             ('m7b5', (0, 3, 6, 10)),\n",
       "             ('m7-5', (0, 3, 6, 10)),\n",
       "             ('dim6', (0, 3, 6, 9)),\n",
       "             ('M7', (0, 4, 7, 11)),\n",
       "             ('7M', (0, 4, 7, 11)),\n",
       "             ('Maj7', (0, 4, 7, 11)),\n",
       "             ('maj7', (0, 4, 7, 11)),\n",
       "             ('ma7', (0, 4, 7, 11)),\n",
       "             ('M7+5', (0, 4, 8, 11)),\n",
       "             ('mM7', (0, 3, 7, 11)),\n",
       "             ('mmaj7', (0, 3, 7, 11)),\n",
       "             ('m(maj7)', (0, 3, 7, 11)),\n",
       "             ('add9', (0, 4, 7, 14)),\n",
       "             ('(add9)', (0, 4, 7, 14)),\n",
       "             ('madd9', (0, 3, 7, 14)),\n",
       "             ('2', (0, 4, 7, 14)),\n",
       "             ('add2', (0, 2, 4, 7)),\n",
       "             ('add4', (0, 4, 5, 7)),\n",
       "             ('add11', (0, 4, 7, 17)),\n",
       "             ('(add2)', (0, 2, 4, 7)),\n",
       "             ('(add4)', (0, 4, 5, 7)),\n",
       "             ('(add11)', (0, 4, 7, 17)),\n",
       "             ('4', (0, 4, 7, 17)),\n",
       "             ('sus4(add13)', (0, 5, 7, 20)),\n",
       "             ('6/9', (0, 4, 7, 9, 14)),\n",
       "             ('6_9', (0, 4, 7, 9, 14)),\n",
       "             ('6add11', (0, 4, 7, 9, 17)),\n",
       "             ('6add9', (0, 4, 7, 9, 14)),\n",
       "             ('m6add11', (0, 3, 7, 9, 17)),\n",
       "             ('add4add9', (0, 3, 5, 7, 14)),\n",
       "             ('9', (0, 4, 7, 10, 14)),\n",
       "             ('(9)', (0, 4, 7, 10, 14)),\n",
       "             ('m9', (0, 3, 7, 10, 14)),\n",
       "             ('M9', (0, 4, 7, 11, 14)),\n",
       "             ('maj9', (0, 4, 7, 11, 14)),\n",
       "             ('9sus4', (0, 5, 7, 10, 14)),\n",
       "             ('9sus', (0, 5, 7, 10, 14)),\n",
       "             ('7_6', (0, 4, 7, 9, 10)),\n",
       "             ('7-9', (0, 4, 7, 10, 13)),\n",
       "             ('7_9', (0, 4, 7, 10, 13)),\n",
       "             ('7b9', (0, 4, 7, 10, 13)),\n",
       "             ('7(b9)', (0, 4, 7, 10, 13)),\n",
       "             ('7+9', (0, 4, 7, 10, 15)),\n",
       "             ('7(#9)', (0, 4, 7, 10, 15)),\n",
       "             ('7#9', (0, 4, 7, 10, 15)),\n",
       "             ('9-5', (0, 4, 6, 10, 14)),\n",
       "             ('9b5', (0, 4, 6, 10, 14)),\n",
       "             ('9+5', (0, 4, 8, 10, 14)),\n",
       "             ('9#5', (0, 4, 8, 10, 14)),\n",
       "             ('7#9b5', (0, 4, 6, 10, 15)),\n",
       "             ('7#9#5', (0, 4, 8, 10, 15)),\n",
       "             ('7b9b5', (0, 4, 6, 10, 13)),\n",
       "             ('7b9#5', (0, 4, 8, 10, 13)),\n",
       "             ('11', (0, 7, 10, 14, 17)),\n",
       "             ('7+11', (0, 4, 7, 10, 18)),\n",
       "             ('maj7#11', (0, 4, 7, 10, 18)),\n",
       "             ('7#11', (0, 4, 7, 10, 18)),\n",
       "             ('m7add11', (0, 3, 7, 10, 18)),\n",
       "             ('maj11', (0, 4, 7, 11, 17)),\n",
       "             ('m11', (0, 3, 7, 11, 17)),\n",
       "             ('7b9#9', (0, 4, 7, 10, 13, 15)),\n",
       "             ('7b9#11', (0, 4, 7, 10, 13, 18)),\n",
       "             ('7#9#11', (0, 4, 7, 10, 15, 18)),\n",
       "             ('7-13', (0, 4, 7, 10, 20)),\n",
       "             ('7add13', (0, 4, 7, 10, 20)),\n",
       "             ('7b13', (0, 4, 7, 10, 20)),\n",
       "             ('m7add4', (0, 4, 5, 7, 10)),\n",
       "             ('maj7add6', (0, 4, 7, 9, 10)),\n",
       "             ('9+11', (0, 4, 7, 10, 14, 18)),\n",
       "             ('m9+11', (0, 3, 7, 10, 14, 18)),\n",
       "             ('9#11', (0, 4, 7, 10, 14, 18)),\n",
       "             ('13', (0, 4, 7, 10, 14, 21)),\n",
       "             ('maj13', (0, 4, 7, 11, 14, 21)),\n",
       "             ('add13', (0, 4, 7, 11, 14, 21)),\n",
       "             ('madd13', (0, 3, 7, 10, 14, 21)),\n",
       "             ('13sus4', (0, 5, 7, 10, 14, 21)),\n",
       "             ('m13', (0, 3, 7, 10, 14, 21)),\n",
       "             ('13-9', (0, 4, 7, 10, 13, 21)),\n",
       "             ('13b9', (0, 4, 7, 10, 13, 21)),\n",
       "             ('13+9', (0, 4, 7, 10, 15, 21)),\n",
       "             ('13#9', (0, 4, 7, 10, 15, 21)),\n",
       "             ('13+11', (0, 4, 7, 10, 18, 21)),\n",
       "             ('m13+11', (0, 3, 7, 10, 18, 21)),\n",
       "             ('13#11', (0, 4, 7, 10, 18, 21)),\n",
       "             ('madd11', (0, 3, 7, 10, 14, 17))])"
      ]
     },
     "execution_count": 3,
     "metadata": {},
     "output_type": "execute_result"
    }
   ],
   "source": [
    "QUALITY_DICT"
   ]
  },
  {
   "cell_type": "code",
   "execution_count": 4,
   "metadata": {},
   "outputs": [
    {
     "data": {
      "text/plain": [
       "135"
      ]
     },
     "execution_count": 4,
     "metadata": {},
     "output_type": "execute_result"
    }
   ],
   "source": [
    "len(QUALITY_DICT.keys())"
   ]
  },
  {
   "cell_type": "code",
   "execution_count": 5,
   "metadata": {},
   "outputs": [],
   "source": [
    "unique_qualities = {}\n",
    "for key,value in QUALITY_DICT.items():\n",
    "    if value not in unique_qualities.values():\n",
    "        unique_qualities[key] = value    "
   ]
  },
  {
   "cell_type": "code",
   "execution_count": 6,
   "metadata": {},
   "outputs": [
    {
     "data": {
      "text/plain": [
       "67"
      ]
     },
     "execution_count": 6,
     "metadata": {},
     "output_type": "execute_result"
    }
   ],
   "source": [
    "len(unique_qualities)"
   ]
  },
  {
   "cell_type": "code",
   "execution_count": 205,
   "metadata": {},
   "outputs": [
    {
     "data": {
      "text/plain": [
       "dict_keys(['3', '5', '', 'm', 'dim', 'aug', 'sus2', 'sus4', '6', '7', '7-5', 'maj7b5', '7+5', '6sus2', '7sus2', '7sus4', 'm6', 'm7', 'AmMaj7', 'm7b5', 'dim6', 'M7', 'M7+5', 'add9', 'madd9', 'add2', 'add4', 'add11', 'sus4(add13)', '6/9', '6add11', 'm6add11', 'add4add9', '9', 'm9', 'M9', '9sus4', '7_6', '7-9', '7+9', '9-5', '9+5', '7#9b5', '7#9#5', '7b9b5', '7b9#5', '11', '7+11', 'm7add11', 'maj11', 'm11', '7b9#9', '7b9#11', '7#9#11', '7-13', 'm7add4', '9+11', 'm9+11', '13', 'maj13', 'madd13', '13sus4', '13-9', '13+9', '13+11', 'm13+11', 'madd11'])"
      ]
     },
     "execution_count": 205,
     "metadata": {},
     "output_type": "execute_result"
    }
   ],
   "source": [
    "unique_qualities.keys()"
   ]
  },
  {
   "cell_type": "markdown",
   "metadata": {},
   "source": [
    "**We have 67 possible qualities**"
   ]
  },
  {
   "cell_type": "markdown",
   "metadata": {},
   "source": [
    "**We have 12 possible slashes**"
   ]
  },
  {
   "cell_type": "code",
   "execution_count": 7,
   "metadata": {},
   "outputs": [
    {
     "data": {
      "text/plain": [
       "9648"
      ]
     },
     "execution_count": 7,
     "metadata": {},
     "output_type": "execute_result"
    }
   ],
   "source": [
    "67 * 12 * 12"
   ]
  },
  {
   "cell_type": "markdown",
   "metadata": {},
   "source": [
    "We are not going no consider slashes"
   ]
  },
  {
   "cell_type": "code",
   "execution_count": 8,
   "metadata": {},
   "outputs": [
    {
     "data": {
      "text/plain": [
       "804"
      ]
     },
     "execution_count": 8,
     "metadata": {},
     "output_type": "execute_result"
    }
   ],
   "source": [
    "67 * 12"
   ]
  },
  {
   "cell_type": "code",
   "execution_count": 211,
   "metadata": {},
   "outputs": [],
   "source": [
    "from jl_chord_parser import ChordParser\n",
    "\n",
    "parse = ChordParser().parse\n",
    "possible_chord_vectors = {}\n",
    "for note in possible_notes:\n",
    "    for quality in unique_qualities.keys():\n",
    "        chord_name = f'{VAL_NOTE_DICT[note][0]}{quality}'\n",
    "        chord = parse(chord_name)\n",
    "        possible_chord_vectors[chord_name] = chord.note_vector"
   ]
  },
  {
   "cell_type": "code",
   "execution_count": 213,
   "metadata": {},
   "outputs": [
    {
     "data": {
      "text/plain": [
       "[1, 0, 0, 0, 1, 0, 0, 1, 0, 0, 0, 0]"
      ]
     },
     "execution_count": 213,
     "metadata": {},
     "output_type": "execute_result"
    }
   ],
   "source": [
    "possible_chord_vectors['C']"
   ]
  },
  {
   "cell_type": "markdown",
   "metadata": {},
   "source": [
    "## Feature encoding "
   ]
  },
  {
   "cell_type": "markdown",
   "metadata": {},
   "source": [
    "Embedding vs One Shot Encoding vs Manual."
   ]
  },
  {
   "cell_type": "markdown",
   "metadata": {},
   "source": [
    "A chord can contain notes. There are 12 possible notes. So we are going to encode it as a vector of 12 positions (0 if the note does not exist, 1 if the note does exists)"
   ]
  },
  {
   "cell_type": "code",
   "execution_count": 259,
   "metadata": {},
   "outputs": [],
   "source": [
    "from music21.stream import Stream\n",
    "from music21.note import Note\n",
    "from music21.meter import TimeSignature\n",
    "from music21.clef import TrebleClef\n",
    "from music21.text import TextBox\n",
    "from music21.chord import Chord\n",
    "from music21.interval import Interval\n",
    "\n",
    "from jl_chord_parser import ChordParser\n",
    "\n",
    "import pandas as pd"
   ]
  },
  {
   "cell_type": "code",
   "execution_count": 28,
   "metadata": {
    "cell_style": "center"
   },
   "outputs": [],
   "source": [
    "def clone_chord(chord):\n",
    "    return Chord(chord.notes)\n",
    "\n",
    "def to_chord(components):\n",
    "    return Chord(notes=components, type='whole')\n",
    "\n",
    "def show_and_listen(chord_str):\n",
    "    parser = ChordParser()\n",
    "    extended_chord = parser.parse(chord_str)\n",
    "    chord = to_chord(extended_chord.components)\n",
    "    stream = Stream()\n",
    "    stream.append(chord)\n",
    "    stream.append(clone_chord(chord)) # Due to a Music21 issue\n",
    "    print(f'Note vector: {extended_chord.note_vector}')\n",
    "    print(chord)\n",
    "    chord.show()\n",
    "    stream.show('midi')"
   ]
  },
  {
   "cell_type": "code",
   "execution_count": 29,
   "metadata": {},
   "outputs": [
    {
     "name": "stdout",
     "output_type": "stream",
     "text": [
      "Note vector: [1, 0, 0, 0, 1, 0, 0, 1, 0, 0, 0, 0]\n",
      "<music21.chord.Chord C E G>\n"
     ]
    },
    {
     "data": {
      "image/png": "[encoded data removed]",
      "text/plain": [
       "<IPython.core.display.Image object>"
      ]
     },
     "metadata": {
      "image/png": {
       "height": 56,
       "width": 184
      }
     },
     "output_type": "display_data"
    },
    {
     "data": {
      "text/html": [
       "\n",
       "                <div id='midiPlayerDiv446'></div>\n",
       "                <link rel=\"stylesheet\" href=\"//cuthbertLab.github.io/music21j/css/m21.css\"\n",
       "                    type=\"text/css\" />\n",
       "                <script>\n",
       "                require.config({\n",
       "                    paths: {'music21': '//cuthbertLab.github.io/music21j/src/music21'}\n",
       "                });\n",
       "                require(['music21'], function() {\n",
       "                               mp = new music21.miditools.MidiPlayer();\n",
       "                               mp.addPlayer('#midiPlayerDiv446');\n",
       "                               mp.base64Load('data:audio/midi;base64,TVRoZAAAAAYAAQABBABNVHJrAAAAPwD/AwAA4ABAAJA8WgCQQFoAkENaoACAPAAAgEAAAIBDAACQPFoAkEBaAJBDWqAAgDwAAIBAAACAQwCIAP8vAA==');\n",
       "                        });\n",
       "                </script>"
      ],
      "text/plain": [
       "<IPython.core.display.HTML object>"
      ]
     },
     "metadata": {},
     "output_type": "display_data"
    }
   ],
   "source": [
    "show_and_listen('C')"
   ]
  },
  {
   "cell_type": "code",
   "execution_count": 30,
   "metadata": {},
   "outputs": [
    {
     "name": "stdout",
     "output_type": "stream",
     "text": [
      "Note vector: [1, 0, 0, 0, 0, 0, 0, 1, 0, 0, 0, 0]\n",
      "<music21.chord.Chord C G>\n"
     ]
    },
    {
     "data": {
      "image/png": "[encoded data removed]",
      "text/plain": [
       "<IPython.core.display.Image object>"
      ]
     },
     "metadata": {
      "image/png": {
       "height": 56,
       "width": 171
      }
     },
     "output_type": "display_data"
    },
    {
     "data": {
      "text/html": [
       "\n",
       "                <div id='midiPlayerDiv511'></div>\n",
       "                <link rel=\"stylesheet\" href=\"//cuthbertLab.github.io/music21j/css/m21.css\"\n",
       "                    type=\"text/css\" />\n",
       "                <script>\n",
       "                require.config({\n",
       "                    paths: {'music21': '//cuthbertLab.github.io/music21j/src/music21'}\n",
       "                });\n",
       "                require(['music21'], function() {\n",
       "                               mp = new music21.miditools.MidiPlayer();\n",
       "                               mp.addPlayer('#midiPlayerDiv511');\n",
       "                               mp.base64Load('data:audio/midi;base64,TVRoZAAAAAYAAQABBABNVHJrAAAALwD/AwAA4ABAAJA8WgCQQ1qgAIA8AACAQwAAkDxaAJBDWqAAgDwAAIBDAIgA/y8A');\n",
       "                        });\n",
       "                </script>"
      ],
      "text/plain": [
       "<IPython.core.display.HTML object>"
      ]
     },
     "metadata": {},
     "output_type": "display_data"
    }
   ],
   "source": [
    "show_and_listen('C5')"
   ]
  },
  {
   "cell_type": "code",
   "execution_count": 31,
   "metadata": {},
   "outputs": [
    {
     "name": "stdout",
     "output_type": "stream",
     "text": [
      "Note vector: [1, 0, 0, 1, 0, 0, 1, 0, 0, 0, 0, 0]\n",
      "<music21.chord.Chord C E- G->\n"
     ]
    },
    {
     "data": {
      "image/png": "[encoded data removed]",
      "text/plain": [
       "<IPython.core.display.Image object>"
      ]
     },
     "metadata": {
      "image/png": {
       "height": 56,
       "width": 189
      }
     },
     "output_type": "display_data"
    },
    {
     "data": {
      "text/html": [
       "\n",
       "                <div id='midiPlayerDiv576'></div>\n",
       "                <link rel=\"stylesheet\" href=\"//cuthbertLab.github.io/music21j/css/m21.css\"\n",
       "                    type=\"text/css\" />\n",
       "                <script>\n",
       "                require.config({\n",
       "                    paths: {'music21': '//cuthbertLab.github.io/music21j/src/music21'}\n",
       "                });\n",
       "                require(['music21'], function() {\n",
       "                               mp = new music21.miditools.MidiPlayer();\n",
       "                               mp.addPlayer('#midiPlayerDiv576');\n",
       "                               mp.base64Load('data:audio/midi;base64,TVRoZAAAAAYAAQABBABNVHJrAAAAPwD/AwAA4ABAAJA8WgCQP1oAkEJaoACAPAAAgD8AAIBCAACQPFoAkD9aAJBCWqAAgDwAAIA/AACAQgCIAP8vAA==');\n",
       "                        });\n",
       "                </script>"
      ],
      "text/plain": [
       "<IPython.core.display.HTML object>"
      ]
     },
     "metadata": {},
     "output_type": "display_data"
    }
   ],
   "source": [
    "show_and_listen('Co')"
   ]
  },
  {
   "cell_type": "code",
   "execution_count": 32,
   "metadata": {},
   "outputs": [
    {
     "name": "stdout",
     "output_type": "stream",
     "text": [
      "Note vector: [1, 0, 0, 0, 1, 0, 0, 1, 0, 1, 0, 0]\n",
      "<music21.chord.Chord A C E G>\n"
     ]
    },
    {
     "data": {
      "image/png": "[encoded data removed]",
      "text/plain": [
       "<IPython.core.display.Image object>"
      ]
     },
     "metadata": {
      "image/png": {
       "height": 56,
       "width": 227
      }
     },
     "output_type": "display_data"
    },
    {
     "data": {
      "text/html": [
       "\n",
       "                <div id='midiPlayerDiv641'></div>\n",
       "                <link rel=\"stylesheet\" href=\"//cuthbertLab.github.io/music21j/css/m21.css\"\n",
       "                    type=\"text/css\" />\n",
       "                <script>\n",
       "                require.config({\n",
       "                    paths: {'music21': '//cuthbertLab.github.io/music21j/src/music21'}\n",
       "                });\n",
       "                require(['music21'], function() {\n",
       "                               mp = new music21.miditools.MidiPlayer();\n",
       "                               mp.addPlayer('#midiPlayerDiv641');\n",
       "                               mp.base64Load('data:audio/midi;base64,TVRoZAAAAAYAAQABBABNVHJrAAAATwD/AwAA4ABAAJBFWgCQPFoAkEBaAJBDWqAAgEUAAIA8AACAQAAAgEMAAJBFWgCQPFoAkEBaAJBDWqAAgEUAAIA8AACAQAAAgEMAiAD/LwA=');\n",
       "                        });\n",
       "                </script>"
      ],
      "text/plain": [
       "<IPython.core.display.HTML object>"
      ]
     },
     "metadata": {},
     "output_type": "display_data"
    }
   ],
   "source": [
    "show_and_listen('Am7')"
   ]
  },
  {
   "cell_type": "markdown",
   "metadata": {},
   "source": [
    "## Prepare data "
   ]
  },
  {
   "cell_type": "code",
   "execution_count": 37,
   "metadata": {},
   "outputs": [],
   "source": [
    "from jl_song_data import SongData\n",
    "from jl_constants import NUMBER_OF_NOTES"
   ]
  },
  {
   "cell_type": "code",
   "execution_count": 149,
   "metadata": {},
   "outputs": [],
   "source": [
    "data = SongData('../data/chords_clean_1_2_3_4_5_6.csv')\n",
    "df = data.df"
   ]
  },
  {
   "cell_type": "code",
   "execution_count": 151,
   "metadata": {},
   "outputs": [],
   "source": [
    "df['chords'] = df['chords'].apply(eval)"
   ]
  },
  {
   "cell_type": "code",
   "execution_count": 160,
   "metadata": {},
   "outputs": [],
   "source": [
    "from jl_chord_parser import ChordParser\n",
    "parse = ChordParser().parse"
   ]
  },
  {
   "cell_type": "code",
   "execution_count": 152,
   "metadata": {},
   "outputs": [],
   "source": [
    "df['chord_vectors'] = df['chords']\\\n",
    "        .apply(lambda chords: [parse(chord) for chord in chords])\\\n",
    "        .apply(lambda chords: [chord.note_vector for chord in chords if chord is not None ] )"
   ]
  },
  {
   "cell_type": "code",
   "execution_count": 159,
   "metadata": {},
   "outputs": [
    {
     "data": {
      "text/html": [
       "<div>\n",
       "<style scoped>\n",
       "    .dataframe tbody tr th:only-of-type {\n",
       "        vertical-align: middle;\n",
       "    }\n",
       "\n",
       "    .dataframe tbody tr th {\n",
       "        vertical-align: top;\n",
       "    }\n",
       "\n",
       "    .dataframe thead th {\n",
       "        text-align: right;\n",
       "    }\n",
       "</style>\n",
       "<table border=\"1\" class=\"dataframe\">\n",
       "  <thead>\n",
       "    <tr style=\"text-align: right;\">\n",
       "      <th></th>\n",
       "      <th>url</th>\n",
       "      <th>name</th>\n",
       "      <th>decade</th>\n",
       "      <th>genre</th>\n",
       "      <th>chords</th>\n",
       "      <th>uuid</th>\n",
       "      <th>chord_vectors</th>\n",
       "    </tr>\n",
       "  </thead>\n",
       "  <tbody>\n",
       "    <tr>\n",
       "      <td>8472</td>\n",
       "      <td>https://tabs.ultimate-guitar.com/tab/mercyme/i...</td>\n",
       "      <td>I Can Only Imagine</td>\n",
       "      <td>2000s</td>\n",
       "      <td>Religious Music</td>\n",
       "      <td>[E, A, D, G, B, E, E, Emaj7, A2, B, E, E, E, E...</td>\n",
       "      <td>066a0e31-42c2-4bcd-9dd1-9a719c9665b8</td>\n",
       "      <td>[[0, 0, 0, 0, 1, 0, 0, 0, 1, 0, 0, 1], [0, 1, ...</td>\n",
       "    </tr>\n",
       "    <tr>\n",
       "      <td>5051</td>\n",
       "      <td>https://tabs.ultimate-guitar.com/tab/goo-goo-d...</td>\n",
       "      <td>Iris (ver 7)</td>\n",
       "      <td>1990s</td>\n",
       "      <td>Rock</td>\n",
       "      <td>[Em, D, Cadd9, G, Am7, Cadd9, Em, D, Cadd9, G,...</td>\n",
       "      <td>71cd632d-3f13-4a2a-8aee-0786c157c2d7</td>\n",
       "      <td>[[0, 0, 0, 0, 1, 0, 0, 1, 0, 0, 0, 1], [0, 0, ...</td>\n",
       "    </tr>\n",
       "    <tr>\n",
       "      <td>4864</td>\n",
       "      <td>https://tabs.ultimate-guitar.com/tab/george-ha...</td>\n",
       "      <td>If Not For You (ver 2)</td>\n",
       "      <td>1970s</td>\n",
       "      <td>Folk%%Folk</td>\n",
       "      <td>[C, G, D7, G, C, G, A7, D7, D, C, Bm, D7, C, G...</td>\n",
       "      <td>19efa578-8ee2-45bd-9040-63da6d056c5c</td>\n",
       "      <td>[[1, 0, 0, 0, 1, 0, 0, 1, 0, 0, 0, 0], [0, 0, ...</td>\n",
       "    </tr>\n",
       "    <tr>\n",
       "      <td>11437</td>\n",
       "      <td>https://tabs.ultimate-guitar.com/tab/stevie_wo...</td>\n",
       "      <td>Jungle Fever</td>\n",
       "      <td>1990s</td>\n",
       "      <td>Rhythm And Blues%%Contemporary R&amp;b</td>\n",
       "      <td>[C, Am, C, F, C, Am, C, G, C, Am, C, F, C, Am,...</td>\n",
       "      <td>495c4a22-e3f0-45ec-89ea-20890c8c91e7</td>\n",
       "      <td>[[1, 0, 0, 0, 1, 0, 0, 1, 0, 0, 0, 0], [1, 0, ...</td>\n",
       "    </tr>\n",
       "    <tr>\n",
       "      <td>9447</td>\n",
       "      <td>https://tabs.ultimate-guitar.com/tab/onerepubl...</td>\n",
       "      <td>Counting Stars (ver 2)</td>\n",
       "      <td>2010s</td>\n",
       "      <td>Rock</td>\n",
       "      <td>[Dm, F, C, Bb, Dm, F, C, Bb, Dm, F, C, Bb, Dm,...</td>\n",
       "      <td>d5455994-150b-41e7-98ed-173bd90d2e4a</td>\n",
       "      <td>[[0, 0, 1, 0, 0, 1, 0, 0, 0, 1, 0, 0], [1, 0, ...</td>\n",
       "    </tr>\n",
       "    <tr>\n",
       "      <td>10488</td>\n",
       "      <td>https://tabs.ultimate-guitar.com/tab/rihanna/w...</td>\n",
       "      <td>Work</td>\n",
       "      <td>2010s</td>\n",
       "      <td>Contemporary R&amp;b</td>\n",
       "      <td>[Am7, G/B, Cadd9, D, Am7, G/B, Cadd9, D, Am7, ...</td>\n",
       "      <td>9360bfbd-681a-42b1-a693-a0ecf5b09050</td>\n",
       "      <td>[[1, 0, 0, 0, 1, 0, 0, 1, 0, 1, 0, 0], [0, 0, ...</td>\n",
       "    </tr>\n",
       "    <tr>\n",
       "      <td>4122</td>\n",
       "      <td>https://tabs.ultimate-guitar.com/tab/eric-clap...</td>\n",
       "      <td>Five Long Years</td>\n",
       "      <td>1970s</td>\n",
       "      <td>Blues</td>\n",
       "      <td>[A7, D7, A7, A7, D7, D7, A7, A7, E7, D7, A7, D...</td>\n",
       "      <td>e6378e32-786c-43d0-9b07-0e519d89f49b</td>\n",
       "      <td>[[0, 1, 0, 0, 1, 0, 0, 1, 0, 1, 0, 0], [1, 0, ...</td>\n",
       "    </tr>\n",
       "    <tr>\n",
       "      <td>4273</td>\n",
       "      <td>https://tabs.ultimate-guitar.com/tab/falco/gan...</td>\n",
       "      <td>Ganz Wien</td>\n",
       "      <td>1980s</td>\n",
       "      <td>Electronic%%Electronic</td>\n",
       "      <td>[Dm7, Em7, Am7, Dm7, Em7, Am7, Dm7, Em7, Am7, ...</td>\n",
       "      <td>23801546-5567-4579-b349-9716b1283b04</td>\n",
       "      <td>[[1, 0, 1, 0, 0, 1, 0, 0, 0, 1, 0, 0], [0, 0, ...</td>\n",
       "    </tr>\n",
       "    <tr>\n",
       "      <td>4700</td>\n",
       "      <td>https://tabs.ultimate-guitar.com/tab/frank-sin...</td>\n",
       "      <td>Why Try To Change Me Now</td>\n",
       "      <td>1950s</td>\n",
       "      <td>Jazz%%Jazz</td>\n",
       "      <td>[Fm7, Bb7, Gm7, F#dim7, Fm7, Bb7, Gm7, Caug, F...</td>\n",
       "      <td>4232cd5a-f297-4bd3-b33b-e5311e65a6ab</td>\n",
       "      <td>[[1, 0, 0, 1, 0, 1, 0, 0, 1, 0, 0, 0], [0, 0, ...</td>\n",
       "    </tr>\n",
       "    <tr>\n",
       "      <td>11337</td>\n",
       "      <td>https://tabs.ultimate-guitar.com/tab/steel_pul...</td>\n",
       "      <td>Man No Sober</td>\n",
       "      <td>1980s</td>\n",
       "      <td>Reggae</td>\n",
       "      <td>[Em, F#m, Bm, A, Bm, G, Em, A, Bm, G, Em, A, B...</td>\n",
       "      <td>119b8113-3324-4255-8fdd-9abc97a9d603</td>\n",
       "      <td>[[0, 0, 0, 0, 1, 0, 0, 1, 0, 0, 0, 1], [0, 1, ...</td>\n",
       "    </tr>\n",
       "  </tbody>\n",
       "</table>\n",
       "</div>"
      ],
      "text/plain": [
       "                                                     url  ...                                      chord_vectors\n",
       "8472   https://tabs.ultimate-guitar.com/tab/mercyme/i...  ...  [[0, 0, 0, 0, 1, 0, 0, 0, 1, 0, 0, 1], [0, 1, ...\n",
       "5051   https://tabs.ultimate-guitar.com/tab/goo-goo-d...  ...  [[0, 0, 0, 0, 1, 0, 0, 1, 0, 0, 0, 1], [0, 0, ...\n",
       "4864   https://tabs.ultimate-guitar.com/tab/george-ha...  ...  [[1, 0, 0, 0, 1, 0, 0, 1, 0, 0, 0, 0], [0, 0, ...\n",
       "11437  https://tabs.ultimate-guitar.com/tab/stevie_wo...  ...  [[1, 0, 0, 0, 1, 0, 0, 1, 0, 0, 0, 0], [1, 0, ...\n",
       "9447   https://tabs.ultimate-guitar.com/tab/onerepubl...  ...  [[0, 0, 1, 0, 0, 1, 0, 0, 0, 1, 0, 0], [1, 0, ...\n",
       "10488  https://tabs.ultimate-guitar.com/tab/rihanna/w...  ...  [[1, 0, 0, 0, 1, 0, 0, 1, 0, 1, 0, 0], [0, 0, ...\n",
       "4122   https://tabs.ultimate-guitar.com/tab/eric-clap...  ...  [[0, 1, 0, 0, 1, 0, 0, 1, 0, 1, 0, 0], [1, 0, ...\n",
       "4273   https://tabs.ultimate-guitar.com/tab/falco/gan...  ...  [[1, 0, 1, 0, 0, 1, 0, 0, 0, 1, 0, 0], [0, 0, ...\n",
       "4700   https://tabs.ultimate-guitar.com/tab/frank-sin...  ...  [[1, 0, 0, 1, 0, 1, 0, 0, 1, 0, 0, 0], [0, 0, ...\n",
       "11337  https://tabs.ultimate-guitar.com/tab/steel_pul...  ...  [[0, 0, 0, 0, 1, 0, 0, 1, 0, 0, 0, 1], [0, 1, ...\n",
       "\n",
       "[10 rows x 7 columns]"
      ]
     },
     "execution_count": 159,
     "metadata": {},
     "output_type": "execute_result"
    }
   ],
   "source": [
    "df.sample(10)"
   ]
  },
  {
   "cell_type": "code",
   "execution_count": 153,
   "metadata": {},
   "outputs": [],
   "source": [
    "from keras.models import Sequential\n",
    "from keras.layers.core import Dense, Activation, Dropout\n",
    "from keras.layers.recurrent import LSTM"
   ]
  },
  {
   "cell_type": "code",
   "execution_count": 155,
   "metadata": {},
   "outputs": [],
   "source": [
    "df = df[df['chord_vectors'].apply(lambda chords: len(chords) > 5)]"
   ]
  },
  {
   "cell_type": "code",
   "execution_count": 157,
   "metadata": {},
   "outputs": [
    {
     "data": {
      "text/plain": [
       "url              https://tabs.ultimate-guitar.com/tab/10000_man...\n",
       "name                                                     Dont Talk\n",
       "decade                                                       1980s\n",
       "genre                                                         Folk\n",
       "chords           [D, Dmaj7, D, Dmaj7, D, Dmaj7, D, Dmaj7, D, Dm...\n",
       "uuid                          c639eb23-fefd-4263-af20-3f78f110edcd\n",
       "chord_vectors    [[0, 0, 1, 0, 0, 0, 1, 0, 0, 1, 0, 0], [0, 1, ...\n",
       "Name: 0, dtype: object"
      ]
     },
     "execution_count": 157,
     "metadata": {},
     "output_type": "execute_result"
    }
   ],
   "source": [
    "df.iloc[0]"
   ]
  },
  {
   "cell_type": "code",
   "execution_count": 176,
   "metadata": {},
   "outputs": [],
   "source": [
    "import numpy as np"
   ]
  },
  {
   "cell_type": "code",
   "execution_count": 162,
   "metadata": {},
   "outputs": [],
   "source": [
    "maxlen = 5\n",
    "step = 1\n",
    "sentences = []\n",
    "next_chords = []\n",
    "\n",
    "for index, row in df.iterrows():\n",
    "    sequence = row['chord_vectors']\n",
    "    for i in range(0, len(sequence) - maxlen, step):\n",
    "        sentences.append(sequence[i: i + maxlen])\n",
    "        next_chords.append(sequence[i + maxlen])"
   ]
  },
  {
   "cell_type": "code",
   "execution_count": 163,
   "metadata": {},
   "outputs": [
    {
     "data": {
      "text/plain": [
       "1136924"
      ]
     },
     "execution_count": 163,
     "metadata": {},
     "output_type": "execute_result"
    }
   ],
   "source": [
    "len(sentences)"
   ]
  },
  {
   "cell_type": "code",
   "execution_count": 164,
   "metadata": {},
   "outputs": [
    {
     "data": {
      "text/plain": [
       "1136924"
      ]
     },
     "execution_count": 164,
     "metadata": {},
     "output_type": "execute_result"
    }
   ],
   "source": [
    "len(next_chords)"
   ]
  },
  {
   "cell_type": "code",
   "execution_count": 165,
   "metadata": {},
   "outputs": [
    {
     "data": {
      "text/plain": [
       "[[0, 0, 1, 0, 0, 0, 1, 0, 0, 1, 0, 0],\n",
       " [0, 1, 1, 0, 0, 0, 1, 0, 0, 1, 0, 0],\n",
       " [0, 0, 1, 0, 0, 0, 1, 0, 0, 1, 0, 0],\n",
       " [0, 1, 1, 0, 0, 0, 1, 0, 0, 1, 0, 0],\n",
       " [0, 0, 1, 0, 0, 0, 1, 0, 0, 1, 0, 0]]"
      ]
     },
     "execution_count": 165,
     "metadata": {},
     "output_type": "execute_result"
    }
   ],
   "source": [
    "sentences[0]"
   ]
  },
  {
   "cell_type": "code",
   "execution_count": 166,
   "metadata": {},
   "outputs": [
    {
     "data": {
      "text/plain": [
       "[0, 1, 1, 0, 0, 0, 1, 0, 0, 1, 0, 0]"
      ]
     },
     "execution_count": 166,
     "metadata": {},
     "output_type": "execute_result"
    }
   ],
   "source": [
    "next_chords[0]"
   ]
  },
  {
   "cell_type": "code",
   "execution_count": 177,
   "metadata": {},
   "outputs": [],
   "source": [
    "X = np.array(sentences)"
   ]
  },
  {
   "cell_type": "code",
   "execution_count": 178,
   "metadata": {},
   "outputs": [],
   "source": [
    "Y = np.array(next_chords)"
   ]
  },
  {
   "cell_type": "code",
   "execution_count": 310,
   "metadata": {},
   "outputs": [],
   "source": [
    "model = Sequential()\n",
    "model.add(LSTM(512, return_sequences=True, input_shape=(5, NUMBER_OF_NOTES)))\n",
    "model.add(Dropout(0.2))\n",
    "model.add(LSTM(512, return_sequences=False))\n",
    "model.add(Dropout(0.2))\n",
    "model.add(Dense(NUMBER_OF_NOTES))\n",
    "model.add(Activation('softmax'))\n",
    "model.compile(loss='mean_squared_error', optimizer='adam')"
   ]
  },
  {
   "cell_type": "code",
   "execution_count": 311,
   "metadata": {},
   "outputs": [
    {
     "name": "stdout",
     "output_type": "stream",
     "text": [
      "Epoch 1/1\n",
      "1136924/1136924 [==============================] - 818s 719us/step - loss: 0.1820\n"
     ]
    },
    {
     "data": {
      "text/plain": [
       "<keras.callbacks.callbacks.History at 0xb27f75ad0>"
      ]
     },
     "execution_count": 311,
     "metadata": {},
     "output_type": "execute_result"
    }
   ],
   "source": [
    "model.fit(X,Y,epochs=1,batch_size=1024,use_multiprocessing=True, verbose=1)"
   ]
  },
  {
   "cell_type": "code",
   "execution_count": 312,
   "metadata": {},
   "outputs": [],
   "source": [
    "def cos_similarity(a,b):\n",
    "    dot = np.dot(a, b)\n",
    "    norma = np.linalg.norm(a)\n",
    "    normb = np.linalg.norm(b)\n",
    "    cos = dot / (norma * normb)\n",
    "    \n",
    "    return cos"
   ]
  },
  {
   "cell_type": "code",
   "execution_count": 317,
   "metadata": {},
   "outputs": [],
   "source": [
    "from random import randint\n",
    "\n",
    "def get_most_similar_chord(predicted):\n",
    "    greatest_similarity = 0\n",
    "    most_similar = None\n",
    "    \n",
    "    for chord in possible_chord_vectors.keys():\n",
    "        similarity = cos_similarity(predicted, possible_chord_vectors[chord])\n",
    "        \n",
    "        if similarity > greatest_similarity:\n",
    "            greatest_similarity = similarity\n",
    "            most_similar = chord\n",
    "    \n",
    "    print(f'Most similar: {chord}. Similarity: {greatest_similarity}')\n",
    "    \n",
    "    return most_similar\n",
    "\n",
    "def get_most_similar_chord_2(predicted):\n",
    "    distance_function = lambda a,b: np.linalg.norm(a-b)\n",
    "    lowest_distance = 10000000000\n",
    "    most_similar = None\n",
    "    \n",
    "    for chord in possible_chord_vectors.keys():\n",
    "        distance = distance_function(predicted, possible_chord_vectors[chord])\n",
    "        \n",
    "        if distance < lowest_distance:\n",
    "            lowest_distance = distance\n",
    "            most_similar = chord\n",
    "    \n",
    "    print(f'Most similar: {chord}. Distance: {lowest_distance}')\n",
    "    \n",
    "    return most_similar\n",
    "\n",
    "def get_most_similar_ranking(prediction_chord, distance_function):\n",
    "    df = pd.DataFrame()\n",
    "    \n",
    "    similar_chords = pd.DataFrame(possible_chord_vectors.keys(), columns=['chord'])\n",
    "    similar_chords['similarity'] = similar_chords['chord'].apply(\\\n",
    "        lambda chord: distance_function(possible_chord_vectors[chord],prediction_chord[0]))\n",
    "    \n",
    "    return similar_chords.sort_values(by='similarity')\n",
    "\n",
    "def get_most_similar_chord(prediction_chord):\n",
    "    value = randint(0, 10)\n",
    "    chord = get_most_similar_ranking(prediction_chord,lambda a,b: np.linalg.norm(a-b) ).iloc[0]['chord']\n",
    "    print(chord)\n",
    "    return chord\n",
    "    \n",
    "\n"
   ]
  },
  {
   "cell_type": "code",
   "execution_count": 318,
   "metadata": {},
   "outputs": [],
   "source": [
    "def show_sequence(chord_sequence):\n",
    "    parser = ChordParser()\n",
    "    stream = Stream()\n",
    "    \n",
    "    chord_sequence = [chord_sequence[0], *chord_sequence] # to solve a music21 problem\n",
    "\n",
    "    for chord_str in chord_sequence:\n",
    "        extended_chord = parser.parse(chord_str)\n",
    "        chord = to_chord(extended_chord.components)\n",
    "        stream.append(chord)\n",
    "\n",
    "    stream.show()\n",
    "    stream.show('midi')"
   ]
  },
  {
   "cell_type": "code",
   "execution_count": 319,
   "metadata": {},
   "outputs": [
    {
     "name": "stdout",
     "output_type": "stream",
     "text": [
      "C5\n"
     ]
    },
    {
     "data": {
      "text/plain": [
       "array([[2.1550009e-01, 1.4278668e-05, 1.8000765e-01, 1.9611543e-02,\n",
       "        7.2630234e-03, 2.0457883e-03, 2.8408575e-05, 5.4264426e-01,\n",
       "        1.5025442e-04, 2.3242581e-04, 2.1890411e-02, 1.0611858e-02]],\n",
       "      dtype=float32)"
      ]
     },
     "execution_count": 319,
     "metadata": {},
     "output_type": "execute_result"
    }
   ],
   "source": [
    "ch_str = ['C', 'G', 'C', 'D', 'G']\n",
    "\n",
    "x = np.zeros((1, 5, 12))\n",
    "for t, char in enumerate(ch_str):\n",
    "    x[0, t] = parse(char).note_vector\n",
    "    \n",
    "prediction = model.predict(np.array(np.array([ch])))\n",
    "prediction\n",
    "most_similar = get_most_similar_chord(prediction)\n",
    "most_similar\n",
    "prediction"
   ]
  },
  {
   "cell_type": "code",
   "execution_count": 320,
   "metadata": {},
   "outputs": [
    {
     "name": "stdout",
     "output_type": "stream",
     "text": [
      "['C', 'G', 'C', 'D', 'G']\n",
      "['C', 'G', 'C', 'D', 'G']\n",
      "C5\n",
      "['G', 'C', 'D', 'G', 'C5']\n",
      "['G', 'C', 'D', 'G', 'C5']\n",
      "D3\n",
      "['C', 'D', 'G', 'C5', 'D3']\n",
      "['C', 'D', 'G', 'C5', 'D3']\n",
      "G3\n",
      "['D', 'G', 'C5', 'D3', 'G3']\n",
      "['D', 'G', 'C5', 'D3', 'G3']\n",
      "C5\n",
      "['G', 'C5', 'D3', 'G3', 'C5']\n",
      "['G', 'C5', 'D3', 'G3', 'C5']\n",
      "G5\n",
      "['C5', 'D3', 'G3', 'C5', 'G5']\n",
      "['C5', 'D3', 'G3', 'C5', 'G5']\n",
      "C5\n",
      "['D3', 'G3', 'C5', 'G5', 'C5']\n",
      "['D3', 'G3', 'C5', 'G5', 'C5']\n",
      "G5\n",
      "['G3', 'C5', 'G5', 'C5', 'G5']\n",
      "['G3', 'C5', 'G5', 'C5', 'G5']\n",
      "C5\n",
      "['C5', 'G5', 'C5', 'G5', 'C5']\n",
      "['C5', 'G5', 'C5', 'G5', 'C5']\n",
      "G5\n",
      "['G5', 'C5', 'G5', 'C5', 'G5']\n",
      "['G5', 'C5', 'G5', 'C5', 'G5']\n",
      "C5\n",
      "['C5', 'G5', 'C5', 'G5', 'C5']\n",
      "['C5', 'G5', 'C5', 'G5', 'C5']\n",
      "G5\n",
      "['G5', 'C5', 'G5', 'C5', 'G5']\n",
      "['G5', 'C5', 'G5', 'C5', 'G5']\n",
      "C5\n",
      "['C5', 'G5', 'C5', 'G5', 'C5']\n",
      "['C5', 'G5', 'C5', 'G5', 'C5']\n",
      "G5\n",
      "['G5', 'C5', 'G5', 'C5', 'G5']\n",
      "['G5', 'C5', 'G5', 'C5', 'G5']\n",
      "C5\n",
      "['C5', 'G5', 'C5', 'G5', 'C5']\n",
      "['C5', 'G5', 'C5', 'G5', 'C5']\n",
      "G5\n",
      "['G5', 'C5', 'G5', 'C5', 'G5']\n",
      "['G5', 'C5', 'G5', 'C5', 'G5']\n",
      "C5\n",
      "['C5', 'G5', 'C5', 'G5', 'C5']\n",
      "['C5', 'G5', 'C5', 'G5', 'C5']\n",
      "G5\n",
      "['G5', 'C5', 'G5', 'C5', 'G5']\n",
      "['G5', 'C5', 'G5', 'C5', 'G5']\n",
      "C5\n",
      "['C5', 'G5', 'C5', 'G5', 'C5']\n",
      "['C5', 'G5', 'C5', 'G5', 'C5']\n",
      "G5\n",
      "['G5', 'C5', 'G5', 'C5', 'G5']\n",
      "['G5', 'C5', 'G5', 'C5', 'G5']\n",
      "C5\n"
     ]
    },
    {
     "data": {
      "image/png": "[encoded data removed]",
      "text/plain": [
       "<IPython.core.display.Image object>"
      ]
     },
     "metadata": {
      "image/png": {
       "height": 187,
       "width": 752
      }
     },
     "output_type": "display_data"
    },
    {
     "data": {
      "text/html": [
       "\n",
       "                <div id='midiPlayerDiv30124'></div>\n",
       "                <link rel=\"stylesheet\" href=\"//cuthbertLab.github.io/music21j/css/m21.css\"\n",
       "                    type=\"text/css\" />\n",
       "                <script>\n",
       "                require.config({\n",
       "                    paths: {'music21': '//cuthbertLab.github.io/music21j/src/music21'}\n",
       "                });\n",
       "                require(['music21'], function() {\n",
       "                               mp = new music21.miditools.MidiPlayer();\n",
       "                               mp.addPlayer('#midiPlayerDiv30124');\n",
       "                               mp.base64Load('data:audio/midi;base64,TVRoZAAAAAYAAQABBABNVHJrAAAB9wD/AwAA4ABAAJA8WgCQQFoAkENaoACAPAAAgEAAAIBDAACQPFoAkEBaAJBDWqAAgDwAAIBAAACAQwAAkENaAJBHWgCQPlqgAIBDAACARwAAgD4AAJA8WgCQQFoAkENaoACAPAAAgEAAAIBDAACQPloAkEJaAJBFWqAAgD4AAIBCAACARQAAkENaAJBHWgCQPlqgAIBDAACARwAAgD4AAJA8WgCQQ1qgAIA8AACAQwAAkD5aAJBCWqAAgD4AAIBCAACQQ1oAkEdaoACAQwAAgEcAAJA8WgCQQ1qgAIA8AACAQwAAkENaAJA+WqAAgEMAAIA+AACQPFoAkENaoACAPAAAgEMAAJBDWgCQPlqgAIBDAACAPgAAkDxaAJBDWqAAgDwAAIBDAACQQ1oAkD5aoACAQwAAgD4AAJA8WgCQQ1qgAIA8AACAQwAAkENaAJA+WqAAgEMAAIA+AACQPFoAkENaoACAPAAAgEMAAJBDWgCQPlqgAIBDAACAPgAAkDxaAJBDWqAAgDwAAIBDAACQQ1oAkD5aoACAQwAAgD4AAJA8WgCQQ1qgAIA8AACAQwAAkENaAJA+WqAAgEMAAIA+AACQPFoAkENaoACAPAAAgEMAAJBDWgCQPlqgAIBDAACAPgAAkDxaAJBDWqAAgDwAAIBDAIgA/y8A');\n",
       "                        });\n",
       "                </script>"
      ],
      "text/plain": [
       "<IPython.core.display.HTML object>"
      ]
     },
     "metadata": {},
     "output_type": "display_data"
    }
   ],
   "source": [
    "ch_str = ['C', 'G', 'C', 'D', 'G']\n",
    "\n",
    "for i in range(0,20):\n",
    "    last_five = ch_str[-5:]\n",
    "    print(last_five)\n",
    "    ch = [parse(chord).note_vector for chord in last_five]\n",
    "    print(last_five)\n",
    "    prediction = model.predict(np.array(np.array([ch])))\n",
    "    most_similar = get_most_similar_chord(prediction)\n",
    "    ch_str.append(most_similar)\n",
    "\n",
    "show_sequence(ch_str)"
   ]
  },
  {
   "cell_type": "code",
   "execution_count": null,
   "metadata": {},
   "outputs": [],
   "source": []
  }
 ],
 "metadata": {
  "kernelspec": {
   "display_name": "Python 3",
   "language": "python",
   "name": "python3"
  },
  "language_info": {
   "codemirror_mode": {
    "name": "ipython",
    "version": 3
   },
   "file_extension": ".py",
   "mimetype": "text/x-python",
   "name": "python",
   "nbconvert_exporter": "python",
   "pygments_lexer": "ipython3",
   "version": "3.7.4"
  },
  "toc": {
   "base_numbering": 1,
   "nav_menu": {},
   "number_sections": true,
   "sideBar": true,
   "skip_h1_title": false,
   "title_cell": "Table of Contents",
   "title_sidebar": "Contents",
   "toc_cell": false,
   "toc_position": {},
   "toc_section_display": true,
   "toc_window_display": false
  }
 },
 "nbformat": 4,
 "nbformat_minor": 2
}
