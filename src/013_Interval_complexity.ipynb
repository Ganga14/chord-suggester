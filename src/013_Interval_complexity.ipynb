{
 "cells": [
  {
   "cell_type": "markdown",
   "metadata": {},
   "source": [
    "# Interval  Complexity"
   ]
  },
  {
   "cell_type": "markdown",
   "metadata": {},
   "source": [
    "Based on [Physics of Music](https://pages.mtu.edu/~suits/scales.html) by B. H. Suits"
   ]
  },
  {
   "cell_type": "markdown",
   "metadata": {},
   "source": [
    "The table below shows the frequency ratios for notes tuned in the Just and Equal temperament scales. For the equal temperament scale, the frequency of each note in the chromatic scale is related to the frequency of the notes next to it by a factor of the twelfth root of 2 (1.0594630944....). For the Just scale, the notes are related to the fundamental by rational numbers and the semitones are not equally spaced. The most pleasing sounds to the ear are usually combinations of notes related by ratios of small integers, such as the fifth (3/2) or third (5/4). The Just scale is constructed based on the octave and an attempt to have as many of these \"nice\" intervals as possible. In contrast, one can create scales in other ways, such as a scale based on the fifth only."
   ]
  },
  {
   "cell_type": "code",
   "execution_count": 68,
   "metadata": {},
   "outputs": [],
   "source": [
    "table = \"\"\"<table border=''>\n",
    "<tbody><tr align='CENTER'>\n",
    "<th>Interval</th> <th>Ratio to Fundamental<br>Just Scale</th>\n",
    "<th>Ratio to Fundamental<br>Equal Temperament</th> \n",
    "<th>Semitone interval</th>\n",
    "<th>Complexity</th>\n",
    "</tr>\n",
    "\n",
    "<tr align='CENTER'>\n",
    "<td>Unison</td> <td>1.0000</td> <td>1.0000</td> <td>0</td> <td>0</td>\n",
    "</tr> \n",
    "\n",
    "<tr align='CENTER'>\n",
    "<td>Minor Second</td> <td>25/24 = 1.0417</td> <td>1.05946</td> <td>1</td> <td>10</td>\n",
    "</tr>\n",
    "\n",
    "<tr align='CENTER'>\n",
    "<td>Major Second</td> <td>9/8 = 1.1250</td> <td>1.12246</td> <td>2</td> <td>8</td>\n",
    "</tr>\n",
    "\n",
    "<tr align='CENTER'>\n",
    "<td>Minor Third</td> <td>6/5 = 1.2000</td> <td>1.18921</td> <td>3</td> <td>5</td>\n",
    "</tr>\n",
    "\n",
    "<tr align='CENTER'>\n",
    "<td>Major Third</td> <td>5/4 = 1.2500</td> <td>1.25992</td> <td>4</td> <td>4</td>\n",
    "</tr>\n",
    "\n",
    "<tr align='CENTER'>\n",
    "<td>Fourth</td> <td>4/3 = 1.3333</td> <td>1.33483</td> <td>5</td> <td>2</td>\n",
    "</tr>\n",
    "\n",
    "<tr align='CENTER'>\n",
    "<td>Diminished Fifth</td> <td>45/32 = 1.4063</td> <td>1.41421</td> <td>6</td> <td>11</td>\n",
    "</tr>\n",
    "\n",
    "<tr align='CENTER'>\n",
    "<td>Fifth</td> <td>3/2 = 1.5000</td> <td>1.49831</td> <td>7</td> <td>1</td>\n",
    "</tr>\n",
    "\n",
    "<tr align='CENTER'>\n",
    "<td>Minor Sixth</td> <td>8/5 = 1.6000</td> <td>1.58740</td> <td>8</td> <td>6</td>\n",
    "</tr>\n",
    "\n",
    "<tr align='CENTER'>\n",
    "<td>Major Sixth</td> <td>5/3 = 1.6667</td> <td>1.68179</td> <td>9</td> <td>3</td>\n",
    "</tr>\n",
    "\n",
    "<tr align='CENTER'\">\n",
    "<td>Minor Seventh</td> <td>9/5 = 1.8000</td> <td>1.78180</td> <td>10</td> <td>7</td>\n",
    "</tr>\n",
    "\n",
    "<tr align='CENTER'>\n",
    "<td>Major Seventh</td> <td>15/8 = 1.8750</td> <td>1.88775</td> <td>11</td> <td>9</td>\n",
    "</tr>\n",
    "\n",
    "<tr align='CENTER'>\n",
    "<td>Octave</td> <td> 2.0000</td> <td> 2.0000</td> <td>12</td> <td>0</td>\n",
    "</tr>\n",
    "\n",
    "</tbody></table>\"\"\""
   ]
  },
  {
   "cell_type": "code",
   "execution_count": 69,
   "metadata": {},
   "outputs": [
    {
     "data": {
      "text/html": [
       "<table border=''>\n",
       "<tbody><tr align='CENTER'>\n",
       "<th>Interval</th> <th>Ratio to Fundamental<br>Just Scale</th>\n",
       "<th>Ratio to Fundamental<br>Equal Temperament</th> \n",
       "<th>Semitone interval</th>\n",
       "<th>Complexity</th>\n",
       "</tr>\n",
       "\n",
       "<tr align='CENTER'>\n",
       "<td>Unison</td> <td>1.0000</td> <td>1.0000</td> <td>0</td> <td>0</td>\n",
       "</tr> \n",
       "\n",
       "<tr align='CENTER'>\n",
       "<td>Minor Second</td> <td>25/24 = 1.0417</td> <td>1.05946</td> <td>1</td> <td>10</td>\n",
       "</tr>\n",
       "\n",
       "<tr align='CENTER'>\n",
       "<td>Major Second</td> <td>9/8 = 1.1250</td> <td>1.12246</td> <td>2</td> <td>8</td>\n",
       "</tr>\n",
       "\n",
       "<tr align='CENTER'>\n",
       "<td>Minor Third</td> <td>6/5 = 1.2000</td> <td>1.18921</td> <td>3</td> <td>5</td>\n",
       "</tr>\n",
       "\n",
       "<tr align='CENTER'>\n",
       "<td>Major Third</td> <td>5/4 = 1.2500</td> <td>1.25992</td> <td>4</td> <td>4</td>\n",
       "</tr>\n",
       "\n",
       "<tr align='CENTER'>\n",
       "<td>Fourth</td> <td>4/3 = 1.3333</td> <td>1.33483</td> <td>5</td> <td>2</td>\n",
       "</tr>\n",
       "\n",
       "<tr align='CENTER'>\n",
       "<td>Diminished Fifth</td> <td>45/32 = 1.4063</td> <td>1.41421</td> <td>6</td> <td>11</td>\n",
       "</tr>\n",
       "\n",
       "<tr align='CENTER'>\n",
       "<td>Fifth</td> <td>3/2 = 1.5000</td> <td>1.49831</td> <td>7</td> <td>1</td>\n",
       "</tr>\n",
       "\n",
       "<tr align='CENTER'>\n",
       "<td>Minor Sixth</td> <td>8/5 = 1.6000</td> <td>1.58740</td> <td>8</td> <td>6</td>\n",
       "</tr>\n",
       "\n",
       "<tr align='CENTER'>\n",
       "<td>Major Sixth</td> <td>5/3 = 1.6667</td> <td>1.68179</td> <td>9</td> <td>3</td>\n",
       "</tr>\n",
       "\n",
       "<tr align='CENTER'\">\n",
       "<td>Minor Seventh</td> <td>9/5 = 1.8000</td> <td>1.78180</td> <td>10</td> <td>7</td>\n",
       "</tr>\n",
       "\n",
       "<tr align='CENTER'>\n",
       "<td>Major Seventh</td> <td>15/8 = 1.8750</td> <td>1.88775</td> <td>11</td> <td>9</td>\n",
       "</tr>\n",
       "\n",
       "<tr align='CENTER'>\n",
       "<td>Octave</td> <td> 2.0000</td> <td> 2.0000</td> <td>12</td> <td>0</td>\n",
       "</tr>\n",
       "\n",
       "</tbody></table>"
      ],
      "text/plain": [
       "<IPython.core.display.HTML object>"
      ]
     },
     "metadata": {},
     "output_type": "display_data"
    }
   ],
   "source": [
    "from IPython.core.display import display, HTML\n",
    "display(HTML(table))"
   ]
  },
  {
   "cell_type": "markdown",
   "metadata": {},
   "source": [
    "## Let's listen the intervals"
   ]
  },
  {
   "cell_type": "code",
   "execution_count": 70,
   "metadata": {},
   "outputs": [],
   "source": [
    "from music21.stream import Stream\n",
    "from music21.note import Note\n",
    "from music21.meter import TimeSignature\n",
    "from music21.clef import TrebleClef\n",
    "from music21.text import TextBox\n",
    "from music21.chord import Chord\n",
    "from music21.interval import Interval\n",
    "\n",
    "from jl_note import Note as JlNote\n",
    "from jl_interval import Interval as JlInterval\n",
    "from pandas import DataFrame"
   ]
  },
  {
   "cell_type": "code",
   "execution_count": 71,
   "metadata": {},
   "outputs": [],
   "source": [
    "intervals = DataFrame(list(range(12)), columns=['interval in semitones'])"
   ]
  },
  {
   "cell_type": "code",
   "execution_count": 72,
   "metadata": {},
   "outputs": [
    {
     "data": {
      "text/html": [
       "<div>\n",
       "<style scoped>\n",
       "    .dataframe tbody tr th:only-of-type {\n",
       "        vertical-align: middle;\n",
       "    }\n",
       "\n",
       "    .dataframe tbody tr th {\n",
       "        vertical-align: top;\n",
       "    }\n",
       "\n",
       "    .dataframe thead th {\n",
       "        text-align: right;\n",
       "    }\n",
       "</style>\n",
       "<table border=\"1\" class=\"dataframe\">\n",
       "  <thead>\n",
       "    <tr style=\"text-align: right;\">\n",
       "      <th></th>\n",
       "      <th>interval in semitones</th>\n",
       "    </tr>\n",
       "  </thead>\n",
       "  <tbody>\n",
       "    <tr>\n",
       "      <td>0</td>\n",
       "      <td>0</td>\n",
       "    </tr>\n",
       "    <tr>\n",
       "      <td>1</td>\n",
       "      <td>1</td>\n",
       "    </tr>\n",
       "    <tr>\n",
       "      <td>2</td>\n",
       "      <td>2</td>\n",
       "    </tr>\n",
       "    <tr>\n",
       "      <td>3</td>\n",
       "      <td>3</td>\n",
       "    </tr>\n",
       "    <tr>\n",
       "      <td>4</td>\n",
       "      <td>4</td>\n",
       "    </tr>\n",
       "    <tr>\n",
       "      <td>5</td>\n",
       "      <td>5</td>\n",
       "    </tr>\n",
       "    <tr>\n",
       "      <td>6</td>\n",
       "      <td>6</td>\n",
       "    </tr>\n",
       "    <tr>\n",
       "      <td>7</td>\n",
       "      <td>7</td>\n",
       "    </tr>\n",
       "    <tr>\n",
       "      <td>8</td>\n",
       "      <td>8</td>\n",
       "    </tr>\n",
       "    <tr>\n",
       "      <td>9</td>\n",
       "      <td>9</td>\n",
       "    </tr>\n",
       "    <tr>\n",
       "      <td>10</td>\n",
       "      <td>10</td>\n",
       "    </tr>\n",
       "    <tr>\n",
       "      <td>11</td>\n",
       "      <td>11</td>\n",
       "    </tr>\n",
       "  </tbody>\n",
       "</table>\n",
       "</div>"
      ],
      "text/plain": [
       "    interval in semitones\n",
       "0                       0\n",
       "1                       1\n",
       "2                       2\n",
       "3                       3\n",
       "4                       4\n",
       "5                       5\n",
       "6                       6\n",
       "7                       7\n",
       "8                       8\n",
       "9                       9\n",
       "10                     10\n",
       "11                     11"
      ]
     },
     "execution_count": 72,
     "metadata": {},
     "output_type": "execute_result"
    }
   ],
   "source": [
    "intervals"
   ]
  },
  {
   "cell_type": "code",
   "execution_count": 73,
   "metadata": {},
   "outputs": [],
   "source": [
    "intervals['complexity'] = intervals['interval in semitones'].apply(lambda st: JlInterval(st).complexity)"
   ]
  },
  {
   "cell_type": "code",
   "execution_count": 74,
   "metadata": {},
   "outputs": [
    {
     "data": {
      "text/html": [
       "<div>\n",
       "<style scoped>\n",
       "    .dataframe tbody tr th:only-of-type {\n",
       "        vertical-align: middle;\n",
       "    }\n",
       "\n",
       "    .dataframe tbody tr th {\n",
       "        vertical-align: top;\n",
       "    }\n",
       "\n",
       "    .dataframe thead th {\n",
       "        text-align: right;\n",
       "    }\n",
       "</style>\n",
       "<table border=\"1\" class=\"dataframe\">\n",
       "  <thead>\n",
       "    <tr style=\"text-align: right;\">\n",
       "      <th></th>\n",
       "      <th>interval in semitones</th>\n",
       "      <th>complexity</th>\n",
       "    </tr>\n",
       "  </thead>\n",
       "  <tbody>\n",
       "    <tr>\n",
       "      <td>0</td>\n",
       "      <td>0</td>\n",
       "      <td>0</td>\n",
       "    </tr>\n",
       "    <tr>\n",
       "      <td>1</td>\n",
       "      <td>1</td>\n",
       "      <td>10</td>\n",
       "    </tr>\n",
       "    <tr>\n",
       "      <td>2</td>\n",
       "      <td>2</td>\n",
       "      <td>8</td>\n",
       "    </tr>\n",
       "    <tr>\n",
       "      <td>3</td>\n",
       "      <td>3</td>\n",
       "      <td>5</td>\n",
       "    </tr>\n",
       "    <tr>\n",
       "      <td>4</td>\n",
       "      <td>4</td>\n",
       "      <td>4</td>\n",
       "    </tr>\n",
       "    <tr>\n",
       "      <td>5</td>\n",
       "      <td>5</td>\n",
       "      <td>2</td>\n",
       "    </tr>\n",
       "    <tr>\n",
       "      <td>6</td>\n",
       "      <td>6</td>\n",
       "      <td>11</td>\n",
       "    </tr>\n",
       "    <tr>\n",
       "      <td>7</td>\n",
       "      <td>7</td>\n",
       "      <td>1</td>\n",
       "    </tr>\n",
       "    <tr>\n",
       "      <td>8</td>\n",
       "      <td>8</td>\n",
       "      <td>6</td>\n",
       "    </tr>\n",
       "    <tr>\n",
       "      <td>9</td>\n",
       "      <td>9</td>\n",
       "      <td>3</td>\n",
       "    </tr>\n",
       "    <tr>\n",
       "      <td>10</td>\n",
       "      <td>10</td>\n",
       "      <td>7</td>\n",
       "    </tr>\n",
       "    <tr>\n",
       "      <td>11</td>\n",
       "      <td>11</td>\n",
       "      <td>9</td>\n",
       "    </tr>\n",
       "  </tbody>\n",
       "</table>\n",
       "</div>"
      ],
      "text/plain": [
       "    interval in semitones  complexity\n",
       "0                       0           0\n",
       "1                       1          10\n",
       "2                       2           8\n",
       "3                       3           5\n",
       "4                       4           4\n",
       "5                       5           2\n",
       "6                       6          11\n",
       "7                       7           1\n",
       "8                       8           6\n",
       "9                       9           3\n",
       "10                     10           7\n",
       "11                     11           9"
      ]
     },
     "execution_count": 74,
     "metadata": {},
     "output_type": "execute_result"
    }
   ],
   "source": [
    "intervals"
   ]
  },
  {
   "cell_type": "code",
   "execution_count": 75,
   "metadata": {},
   "outputs": [],
   "source": [
    "def create_interval(semitones):\n",
    "    return Interval(noteStart=Note(0),noteEnd=Note(semitones))"
   ]
  },
  {
   "cell_type": "code",
   "execution_count": 76,
   "metadata": {},
   "outputs": [],
   "source": [
    "intervals['music21 Interval'] = intervals['interval in semitones'].apply(create_interval)\n"
   ]
  },
  {
   "cell_type": "code",
   "execution_count": 77,
   "metadata": {},
   "outputs": [],
   "source": [
    "intervals['name'] = intervals['music21 Interval'].apply(lambda interval : interval.name)"
   ]
  },
  {
   "cell_type": "code",
   "execution_count": 78,
   "metadata": {},
   "outputs": [
    {
     "data": {
      "text/html": [
       "<div>\n",
       "<style scoped>\n",
       "    .dataframe tbody tr th:only-of-type {\n",
       "        vertical-align: middle;\n",
       "    }\n",
       "\n",
       "    .dataframe tbody tr th {\n",
       "        vertical-align: top;\n",
       "    }\n",
       "\n",
       "    .dataframe thead th {\n",
       "        text-align: right;\n",
       "    }\n",
       "</style>\n",
       "<table border=\"1\" class=\"dataframe\">\n",
       "  <thead>\n",
       "    <tr style=\"text-align: right;\">\n",
       "      <th></th>\n",
       "      <th>interval in semitones</th>\n",
       "      <th>complexity</th>\n",
       "      <th>music21 Interval</th>\n",
       "      <th>name</th>\n",
       "    </tr>\n",
       "  </thead>\n",
       "  <tbody>\n",
       "    <tr>\n",
       "      <td>0</td>\n",
       "      <td>0</td>\n",
       "      <td>0</td>\n",
       "      <td>&lt;music21.interval.Interval P1&gt;</td>\n",
       "      <td>P1</td>\n",
       "    </tr>\n",
       "    <tr>\n",
       "      <td>1</td>\n",
       "      <td>1</td>\n",
       "      <td>10</td>\n",
       "      <td>&lt;music21.interval.Interval A1&gt;</td>\n",
       "      <td>A1</td>\n",
       "    </tr>\n",
       "    <tr>\n",
       "      <td>2</td>\n",
       "      <td>2</td>\n",
       "      <td>8</td>\n",
       "      <td>&lt;music21.interval.Interval M2&gt;</td>\n",
       "      <td>M2</td>\n",
       "    </tr>\n",
       "    <tr>\n",
       "      <td>3</td>\n",
       "      <td>3</td>\n",
       "      <td>5</td>\n",
       "      <td>&lt;music21.interval.Interval m3&gt;</td>\n",
       "      <td>m3</td>\n",
       "    </tr>\n",
       "    <tr>\n",
       "      <td>4</td>\n",
       "      <td>4</td>\n",
       "      <td>4</td>\n",
       "      <td>&lt;music21.interval.Interval M3&gt;</td>\n",
       "      <td>M3</td>\n",
       "    </tr>\n",
       "    <tr>\n",
       "      <td>5</td>\n",
       "      <td>5</td>\n",
       "      <td>2</td>\n",
       "      <td>&lt;music21.interval.Interval P4&gt;</td>\n",
       "      <td>P4</td>\n",
       "    </tr>\n",
       "    <tr>\n",
       "      <td>6</td>\n",
       "      <td>6</td>\n",
       "      <td>11</td>\n",
       "      <td>&lt;music21.interval.Interval A4&gt;</td>\n",
       "      <td>A4</td>\n",
       "    </tr>\n",
       "    <tr>\n",
       "      <td>7</td>\n",
       "      <td>7</td>\n",
       "      <td>1</td>\n",
       "      <td>&lt;music21.interval.Interval P5&gt;</td>\n",
       "      <td>P5</td>\n",
       "    </tr>\n",
       "    <tr>\n",
       "      <td>8</td>\n",
       "      <td>8</td>\n",
       "      <td>6</td>\n",
       "      <td>&lt;music21.interval.Interval A5&gt;</td>\n",
       "      <td>A5</td>\n",
       "    </tr>\n",
       "    <tr>\n",
       "      <td>9</td>\n",
       "      <td>9</td>\n",
       "      <td>3</td>\n",
       "      <td>&lt;music21.interval.Interval M6&gt;</td>\n",
       "      <td>M6</td>\n",
       "    </tr>\n",
       "    <tr>\n",
       "      <td>10</td>\n",
       "      <td>10</td>\n",
       "      <td>7</td>\n",
       "      <td>&lt;music21.interval.Interval m7&gt;</td>\n",
       "      <td>m7</td>\n",
       "    </tr>\n",
       "    <tr>\n",
       "      <td>11</td>\n",
       "      <td>11</td>\n",
       "      <td>9</td>\n",
       "      <td>&lt;music21.interval.Interval M7&gt;</td>\n",
       "      <td>M7</td>\n",
       "    </tr>\n",
       "  </tbody>\n",
       "</table>\n",
       "</div>"
      ],
      "text/plain": [
       "    interval in semitones  complexity                music21 Interval name\n",
       "0                       0           0  <music21.interval.Interval P1>   P1\n",
       "1                       1          10  <music21.interval.Interval A1>   A1\n",
       "2                       2           8  <music21.interval.Interval M2>   M2\n",
       "3                       3           5  <music21.interval.Interval m3>   m3\n",
       "4                       4           4  <music21.interval.Interval M3>   M3\n",
       "5                       5           2  <music21.interval.Interval P4>   P4\n",
       "6                       6          11  <music21.interval.Interval A4>   A4\n",
       "7                       7           1  <music21.interval.Interval P5>   P5\n",
       "8                       8           6  <music21.interval.Interval A5>   A5\n",
       "9                       9           3  <music21.interval.Interval M6>   M6\n",
       "10                     10           7  <music21.interval.Interval m7>   m7\n",
       "11                     11           9  <music21.interval.Interval M7>   M7"
      ]
     },
     "execution_count": 78,
     "metadata": {},
     "output_type": "execute_result"
    }
   ],
   "source": [
    "intervals"
   ]
  },
  {
   "cell_type": "code",
   "execution_count": 94,
   "metadata": {},
   "outputs": [],
   "source": [
    "def clone_chord(chord):\n",
    "    return Chord(chord.notes)\n",
    "\n",
    "def to_chrod(interval):\n",
    "    return Chord([interval.noteStart, interval.noteEnd]) \n",
    "\n",
    "def show_and_listen(row):\n",
    "    interval = row['music21 Interval']\n",
    "    chord = to_chrod(interval)\n",
    "    stream = Stream()\n",
    "    stream.append(chord)\n",
    "    stream.append(clone_chord(chord)) # Due to a Music21 issue\n",
    "    print(f'{row[\"name\"]} ({row[\"interval in semitones\"]} STs). Complexity: {row[\"complexity\"]}')\n",
    "    chord.show()\n",
    "    print(chord)\n",
    "    stream.show('midi')"
   ]
  },
  {
   "cell_type": "code",
   "execution_count": 95,
   "metadata": {},
   "outputs": [
    {
     "name": "stdout",
     "output_type": "stream",
     "text": [
      "P1 (0 STs). Complexity: 0\n"
     ]
    },
    {
     "data": {
      "image/png": "[encoded data removed]",
      "text/plain": [
       "<IPython.core.display.Image object>"
      ]
     },
     "metadata": {
      "image/png": {
       "height": 56,
       "width": 177
      }
     },
     "output_type": "display_data"
    },
    {
     "name": "stdout",
     "output_type": "stream",
     "text": [
      "<music21.chord.Chord C C>\n"
     ]
    },
    {
     "data": {
      "text/html": [
       "\n",
       "                <div id='midiPlayerDiv4013'></div>\n",
       "                <link rel=\"stylesheet\" href=\"//cuthbertLab.github.io/music21j/css/m21.css\"\n",
       "                    type=\"text/css\" />\n",
       "                <script>\n",
       "                require.config({\n",
       "                    paths: {'music21': '//cuthbertLab.github.io/music21j/src/music21'}\n",
       "                });\n",
       "                require(['music21'], function() {\n",
       "                               mp = new music21.miditools.MidiPlayer();\n",
       "                               mp.addPlayer('#midiPlayerDiv4013');\n",
       "                               mp.base64Load('data:audio/midi;base64,TVRoZAAAAAYAAQABBABNVHJrAAAALwD/AwAA4ABAAJA8WgCQPFqIAIA8AACAPAAAkDxaAJA8WogAgDwAAIA8AIgA/y8A');\n",
       "                        });\n",
       "                </script>"
      ],
      "text/plain": [
       "<IPython.core.display.HTML object>"
      ]
     },
     "metadata": {},
     "output_type": "display_data"
    },
    {
     "name": "stdout",
     "output_type": "stream",
     "text": [
      "P5 (7 STs). Complexity: 1\n"
     ]
    },
    {
     "data": {
      "image/png": "[encoded data removed]",
      "text/plain": [
       "<IPython.core.display.Image object>"
      ]
     },
     "metadata": {
      "image/png": {
       "height": 56,
       "width": 151
      }
     },
     "output_type": "display_data"
    },
    {
     "name": "stdout",
     "output_type": "stream",
     "text": [
      "<music21.chord.Chord C G>\n"
     ]
    },
    {
     "data": {
      "text/html": [
       "\n",
       "                <div id='midiPlayerDiv4078'></div>\n",
       "                <link rel=\"stylesheet\" href=\"//cuthbertLab.github.io/music21j/css/m21.css\"\n",
       "                    type=\"text/css\" />\n",
       "                <script>\n",
       "                require.config({\n",
       "                    paths: {'music21': '//cuthbertLab.github.io/music21j/src/music21'}\n",
       "                });\n",
       "                require(['music21'], function() {\n",
       "                               mp = new music21.miditools.MidiPlayer();\n",
       "                               mp.addPlayer('#midiPlayerDiv4078');\n",
       "                               mp.base64Load('data:audio/midi;base64,TVRoZAAAAAYAAQABBABNVHJrAAAALwD/AwAA4ABAAJA8WgCQQ1qIAIA8AACAQwAAkDxaAJBDWogAgDwAAIBDAIgA/y8A');\n",
       "                        });\n",
       "                </script>"
      ],
      "text/plain": [
       "<IPython.core.display.HTML object>"
      ]
     },
     "metadata": {},
     "output_type": "display_data"
    },
    {
     "name": "stdout",
     "output_type": "stream",
     "text": [
      "P4 (5 STs). Complexity: 2\n"
     ]
    },
    {
     "data": {
      "image/png": "[encoded data removed]",
      "text/plain": [
       "<IPython.core.display.Image object>"
      ]
     },
     "metadata": {
      "image/png": {
       "height": 56,
       "width": 157
      }
     },
     "output_type": "display_data"
    },
    {
     "name": "stdout",
     "output_type": "stream",
     "text": [
      "<music21.chord.Chord C F>\n"
     ]
    },
    {
     "data": {
      "text/html": [
       "\n",
       "                <div id='midiPlayerDiv4142'></div>\n",
       "                <link rel=\"stylesheet\" href=\"//cuthbertLab.github.io/music21j/css/m21.css\"\n",
       "                    type=\"text/css\" />\n",
       "                <script>\n",
       "                require.config({\n",
       "                    paths: {'music21': '//cuthbertLab.github.io/music21j/src/music21'}\n",
       "                });\n",
       "                require(['music21'], function() {\n",
       "                               mp = new music21.miditools.MidiPlayer();\n",
       "                               mp.addPlayer('#midiPlayerDiv4142');\n",
       "                               mp.base64Load('data:audio/midi;base64,TVRoZAAAAAYAAQABBABNVHJrAAAALwD/AwAA4ABAAJA8WgCQQVqIAIA8AACAQQAAkDxaAJBBWogAgDwAAIBBAIgA/y8A');\n",
       "                        });\n",
       "                </script>"
      ],
      "text/plain": [
       "<IPython.core.display.HTML object>"
      ]
     },
     "metadata": {},
     "output_type": "display_data"
    },
    {
     "name": "stdout",
     "output_type": "stream",
     "text": [
      "M6 (9 STs). Complexity: 3\n"
     ]
    },
    {
     "data": {
      "image/png": "[encoded data removed]",
      "text/plain": [
       "<IPython.core.display.Image object>"
      ]
     },
     "metadata": {
      "image/png": {
       "height": 56,
       "width": 151
      }
     },
     "output_type": "display_data"
    },
    {
     "name": "stdout",
     "output_type": "stream",
     "text": [
      "<music21.chord.Chord C A>\n"
     ]
    },
    {
     "data": {
      "text/html": [
       "\n",
       "                <div id='midiPlayerDiv4207'></div>\n",
       "                <link rel=\"stylesheet\" href=\"//cuthbertLab.github.io/music21j/css/m21.css\"\n",
       "                    type=\"text/css\" />\n",
       "                <script>\n",
       "                require.config({\n",
       "                    paths: {'music21': '//cuthbertLab.github.io/music21j/src/music21'}\n",
       "                });\n",
       "                require(['music21'], function() {\n",
       "                               mp = new music21.miditools.MidiPlayer();\n",
       "                               mp.addPlayer('#midiPlayerDiv4207');\n",
       "                               mp.base64Load('data:audio/midi;base64,TVRoZAAAAAYAAQABBABNVHJrAAAALwD/AwAA4ABAAJA8WgCQRVqIAIA8AACARQAAkDxaAJBFWogAgDwAAIBFAIgA/y8A');\n",
       "                        });\n",
       "                </script>"
      ],
      "text/plain": [
       "<IPython.core.display.HTML object>"
      ]
     },
     "metadata": {},
     "output_type": "display_data"
    },
    {
     "name": "stdout",
     "output_type": "stream",
     "text": [
      "M3 (4 STs). Complexity: 4\n"
     ]
    },
    {
     "data": {
      "image/png": "[encoded data removed]",
      "text/plain": [
       "<IPython.core.display.Image object>"
      ]
     },
     "metadata": {
      "image/png": {
       "height": 56,
       "width": 157
      }
     },
     "output_type": "display_data"
    },
    {
     "name": "stdout",
     "output_type": "stream",
     "text": [
      "<music21.chord.Chord C E>\n"
     ]
    },
    {
     "data": {
      "text/html": [
       "\n",
       "                <div id='midiPlayerDiv4272'></div>\n",
       "                <link rel=\"stylesheet\" href=\"//cuthbertLab.github.io/music21j/css/m21.css\"\n",
       "                    type=\"text/css\" />\n",
       "                <script>\n",
       "                require.config({\n",
       "                    paths: {'music21': '//cuthbertLab.github.io/music21j/src/music21'}\n",
       "                });\n",
       "                require(['music21'], function() {\n",
       "                               mp = new music21.miditools.MidiPlayer();\n",
       "                               mp.addPlayer('#midiPlayerDiv4272');\n",
       "                               mp.base64Load('data:audio/midi;base64,TVRoZAAAAAYAAQABBABNVHJrAAAALwD/AwAA4ABAAJA8WgCQQFqIAIA8AACAQAAAkDxaAJBAWogAgDwAAIBAAIgA/y8A');\n",
       "                        });\n",
       "                </script>"
      ],
      "text/plain": [
       "<IPython.core.display.HTML object>"
      ]
     },
     "metadata": {},
     "output_type": "display_data"
    },
    {
     "name": "stdout",
     "output_type": "stream",
     "text": [
      "m3 (3 STs). Complexity: 5\n"
     ]
    },
    {
     "data": {
      "image/png": "[encoded data removed]",
      "text/plain": [
       "<IPython.core.display.Image object>"
      ]
     },
     "metadata": {
      "image/png": {
       "height": 56,
       "width": 159
      }
     },
     "output_type": "display_data"
    },
    {
     "name": "stdout",
     "output_type": "stream",
     "text": [
      "<music21.chord.Chord C E->\n"
     ]
    },
    {
     "data": {
      "text/html": [
       "\n",
       "                <div id='midiPlayerDiv4336'></div>\n",
       "                <link rel=\"stylesheet\" href=\"//cuthbertLab.github.io/music21j/css/m21.css\"\n",
       "                    type=\"text/css\" />\n",
       "                <script>\n",
       "                require.config({\n",
       "                    paths: {'music21': '//cuthbertLab.github.io/music21j/src/music21'}\n",
       "                });\n",
       "                require(['music21'], function() {\n",
       "                               mp = new music21.miditools.MidiPlayer();\n",
       "                               mp.addPlayer('#midiPlayerDiv4336');\n",
       "                               mp.base64Load('data:audio/midi;base64,TVRoZAAAAAYAAQABBABNVHJrAAAALwD/AwAA4ABAAJA8WgCQP1qIAIA8AACAPwAAkDxaAJA/WogAgDwAAIA/AIgA/y8A');\n",
       "                        });\n",
       "                </script>"
      ],
      "text/plain": [
       "<IPython.core.display.HTML object>"
      ]
     },
     "metadata": {},
     "output_type": "display_data"
    },
    {
     "name": "stdout",
     "output_type": "stream",
     "text": [
      "A5 (8 STs). Complexity: 6\n"
     ]
    },
    {
     "data": {
      "image/png": "[encoded data removed]",
      "text/plain": [
       "<IPython.core.display.Image object>"
      ]
     },
     "metadata": {
      "image/png": {
       "height": 56,
       "width": 162
      }
     },
     "output_type": "display_data"
    },
    {
     "name": "stdout",
     "output_type": "stream",
     "text": [
      "<music21.chord.Chord C G#>\n"
     ]
    },
    {
     "data": {
      "text/html": [
       "\n",
       "                <div id='midiPlayerDiv4401'></div>\n",
       "                <link rel=\"stylesheet\" href=\"//cuthbertLab.github.io/music21j/css/m21.css\"\n",
       "                    type=\"text/css\" />\n",
       "                <script>\n",
       "                require.config({\n",
       "                    paths: {'music21': '//cuthbertLab.github.io/music21j/src/music21'}\n",
       "                });\n",
       "                require(['music21'], function() {\n",
       "                               mp = new music21.miditools.MidiPlayer();\n",
       "                               mp.addPlayer('#midiPlayerDiv4401');\n",
       "                               mp.base64Load('data:audio/midi;base64,TVRoZAAAAAYAAQABBABNVHJrAAAALwD/AwAA4ABAAJA8WgCQRFqIAIA8AACARAAAkDxaAJBEWogAgDwAAIBEAIgA/y8A');\n",
       "                        });\n",
       "                </script>"
      ],
      "text/plain": [
       "<IPython.core.display.HTML object>"
      ]
     },
     "metadata": {},
     "output_type": "display_data"
    },
    {
     "name": "stdout",
     "output_type": "stream",
     "text": [
      "m7 (10 STs). Complexity: 7\n"
     ]
    },
    {
     "data": {
      "image/png": "[encoded data removed]",
      "text/plain": [
       "<IPython.core.display.Image object>"
      ]
     },
     "metadata": {
      "image/png": {
       "height": 56,
       "width": 147
      }
     },
     "output_type": "display_data"
    },
    {
     "name": "stdout",
     "output_type": "stream",
     "text": [
      "<music21.chord.Chord C B->\n"
     ]
    },
    {
     "data": {
      "text/html": [
       "\n",
       "                <div id='midiPlayerDiv4465'></div>\n",
       "                <link rel=\"stylesheet\" href=\"//cuthbertLab.github.io/music21j/css/m21.css\"\n",
       "                    type=\"text/css\" />\n",
       "                <script>\n",
       "                require.config({\n",
       "                    paths: {'music21': '//cuthbertLab.github.io/music21j/src/music21'}\n",
       "                });\n",
       "                require(['music21'], function() {\n",
       "                               mp = new music21.miditools.MidiPlayer();\n",
       "                               mp.addPlayer('#midiPlayerDiv4465');\n",
       "                               mp.base64Load('data:audio/midi;base64,TVRoZAAAAAYAAQABBABNVHJrAAAALwD/AwAA4ABAAJA8WgCQRlqIAIA8AACARgAAkDxaAJBGWogAgDwAAIBGAIgA/y8A');\n",
       "                        });\n",
       "                </script>"
      ],
      "text/plain": [
       "<IPython.core.display.HTML object>"
      ]
     },
     "metadata": {},
     "output_type": "display_data"
    },
    {
     "name": "stdout",
     "output_type": "stream",
     "text": [
      "M2 (2 STs). Complexity: 8\n"
     ]
    },
    {
     "data": {
      "image/png": "[encoded data removed]",
      "text/plain": [
       "<IPython.core.display.Image object>"
      ]
     },
     "metadata": {
      "image/png": {
       "height": 56,
       "width": 174
      }
     },
     "output_type": "display_data"
    },
    {
     "name": "stdout",
     "output_type": "stream",
     "text": [
      "<music21.chord.Chord C D>\n"
     ]
    },
    {
     "data": {
      "text/html": [
       "\n",
       "                <div id='midiPlayerDiv4530'></div>\n",
       "                <link rel=\"stylesheet\" href=\"//cuthbertLab.github.io/music21j/css/m21.css\"\n",
       "                    type=\"text/css\" />\n",
       "                <script>\n",
       "                require.config({\n",
       "                    paths: {'music21': '//cuthbertLab.github.io/music21j/src/music21'}\n",
       "                });\n",
       "                require(['music21'], function() {\n",
       "                               mp = new music21.miditools.MidiPlayer();\n",
       "                               mp.addPlayer('#midiPlayerDiv4530');\n",
       "                               mp.base64Load('data:audio/midi;base64,TVRoZAAAAAYAAQABBABNVHJrAAAALwD/AwAA4ABAAJA8WgCQPlqIAIA8AACAPgAAkDxaAJA+WogAgDwAAIA+AIgA/y8A');\n",
       "                        });\n",
       "                </script>"
      ],
      "text/plain": [
       "<IPython.core.display.HTML object>"
      ]
     },
     "metadata": {},
     "output_type": "display_data"
    },
    {
     "name": "stdout",
     "output_type": "stream",
     "text": [
      "M7 (11 STs). Complexity: 9\n"
     ]
    },
    {
     "data": {
      "image/png": "[encoded data removed]",
      "text/plain": [
       "<IPython.core.display.Image object>"
      ]
     },
     "metadata": {
      "image/png": {
       "height": 56,
       "width": 147
      }
     },
     "output_type": "display_data"
    },
    {
     "name": "stdout",
     "output_type": "stream",
     "text": [
      "<music21.chord.Chord C B>\n"
     ]
    },
    {
     "data": {
      "text/html": [
       "\n",
       "                <div id='midiPlayerDiv4595'></div>\n",
       "                <link rel=\"stylesheet\" href=\"//cuthbertLab.github.io/music21j/css/m21.css\"\n",
       "                    type=\"text/css\" />\n",
       "                <script>\n",
       "                require.config({\n",
       "                    paths: {'music21': '//cuthbertLab.github.io/music21j/src/music21'}\n",
       "                });\n",
       "                require(['music21'], function() {\n",
       "                               mp = new music21.miditools.MidiPlayer();\n",
       "                               mp.addPlayer('#midiPlayerDiv4595');\n",
       "                               mp.base64Load('data:audio/midi;base64,TVRoZAAAAAYAAQABBABNVHJrAAAALwD/AwAA4ABAAJA8WgCQR1qIAIA8AACARwAAkDxaAJBHWogAgDwAAIBHAIgA/y8A');\n",
       "                        });\n",
       "                </script>"
      ],
      "text/plain": [
       "<IPython.core.display.HTML object>"
      ]
     },
     "metadata": {},
     "output_type": "display_data"
    },
    {
     "name": "stdout",
     "output_type": "stream",
     "text": [
      "A1 (1 STs). Complexity: 10\n"
     ]
    },
    {
     "data": {
      "image/png": "[encoded data removed]",
      "text/plain": [
       "<IPython.core.display.Image object>"
      ]
     },
     "metadata": {
      "image/png": {
       "height": 56,
       "width": 182
      }
     },
     "output_type": "display_data"
    },
    {
     "name": "stdout",
     "output_type": "stream",
     "text": [
      "<music21.chord.Chord C C#>\n"
     ]
    },
    {
     "data": {
      "text/html": [
       "\n",
       "                <div id='midiPlayerDiv4660'></div>\n",
       "                <link rel=\"stylesheet\" href=\"//cuthbertLab.github.io/music21j/css/m21.css\"\n",
       "                    type=\"text/css\" />\n",
       "                <script>\n",
       "                require.config({\n",
       "                    paths: {'music21': '//cuthbertLab.github.io/music21j/src/music21'}\n",
       "                });\n",
       "                require(['music21'], function() {\n",
       "                               mp = new music21.miditools.MidiPlayer();\n",
       "                               mp.addPlayer('#midiPlayerDiv4660');\n",
       "                               mp.base64Load('data:audio/midi;base64,TVRoZAAAAAYAAQABBABNVHJrAAAALwD/AwAA4ABAAJA8WgCQPVqIAIA8AACAPQAAkDxaAJA9WogAgDwAAIA9AIgA/y8A');\n",
       "                        });\n",
       "                </script>"
      ],
      "text/plain": [
       "<IPython.core.display.HTML object>"
      ]
     },
     "metadata": {},
     "output_type": "display_data"
    },
    {
     "name": "stdout",
     "output_type": "stream",
     "text": [
      "A4 (6 STs). Complexity: 11\n"
     ]
    },
    {
     "data": {
      "image/png": "[encoded data removed]",
      "text/plain": [
       "<IPython.core.display.Image object>"
      ]
     },
     "metadata": {
      "image/png": {
       "height": 56,
       "width": 162
      }
     },
     "output_type": "display_data"
    },
    {
     "name": "stdout",
     "output_type": "stream",
     "text": [
      "<music21.chord.Chord C F#>\n"
     ]
    },
    {
     "data": {
      "text/html": [
       "\n",
       "                <div id='midiPlayerDiv4725'></div>\n",
       "                <link rel=\"stylesheet\" href=\"//cuthbertLab.github.io/music21j/css/m21.css\"\n",
       "                    type=\"text/css\" />\n",
       "                <script>\n",
       "                require.config({\n",
       "                    paths: {'music21': '//cuthbertLab.github.io/music21j/src/music21'}\n",
       "                });\n",
       "                require(['music21'], function() {\n",
       "                               mp = new music21.miditools.MidiPlayer();\n",
       "                               mp.addPlayer('#midiPlayerDiv4725');\n",
       "                               mp.base64Load('data:audio/midi;base64,TVRoZAAAAAYAAQABBABNVHJrAAAALwD/AwAA4ABAAJA8WgCQQlqIAIA8AACAQgAAkDxaAJBCWogAgDwAAIBCAIgA/y8A');\n",
       "                        });\n",
       "                </script>"
      ],
      "text/plain": [
       "<IPython.core.display.HTML object>"
      ]
     },
     "metadata": {},
     "output_type": "display_data"
    }
   ],
   "source": [
    "for index,row in intervals.sort_values(by='complexity').iterrows():\n",
    "    show_and_listen(row)"
   ]
  },
  {
   "cell_type": "markdown",
   "metadata": {},
   "source": [
    "# Harmonics"
   ]
  },
  {
   "cell_type": "code",
   "execution_count": 6,
   "metadata": {},
   "outputs": [],
   "source": []
  },
  {
   "cell_type": "code",
   "execution_count": 37,
   "metadata": {},
   "outputs": [],
   "source": [
    "class HarmonicDrawer(Stream):\n",
    "    def __init__(self):\n",
    "        self.stream = Stream()\n",
    "        self.harmonic_index = 1\n",
    "        \n",
    "    def draw(self):\n",
    "        self.draw_notes()\n",
    "        # self.draw_captions()\n",
    "        \n",
    "        self.stream.show()\n",
    "        \n",
    "    def draw_notes(self):\n",
    "        self.stream.append(TimeSignature('16/4'))\n",
    "        self.append_sequence('C1', 'C2', 'G2', 'C3', 'E3', 'G3', 'Bb3')\n",
    "        drawer.stream.append(TrebleClef())\n",
    "        drawer.append_sequence('C4', 'D4', 'E4', 'F#4', 'G4', 'A4', 'Bb4', 'B4', 'C5')\n",
    "        \n",
    "    def draw_captions(self):\n",
    "        self.add_harmonic_index_caption()\n",
    "        \n",
    "    def append_sequence(self,*note_names):\n",
    "        \n",
    "        for note_name in note_names:\n",
    "            self.append_note(note_name)\n",
    "\n",
    "    def append_note(self,note_name):\n",
    "        note =  Note(note_name)\n",
    "        \n",
    "        self.add_harmonic_index(note)\n",
    "        self.add_frequency(note)\n",
    "        self.add_interval_in_semitones(note, note_name)\n",
    "        self.add_complementary_interval_in_semitones(note,note_name)\n",
    "        \n",
    "        self.stream.append(note)\n",
    "        \n",
    "    def add_harmonic_index(self, note):\n",
    "        note.addLyric(self.harmonic_index)\n",
    "        self.harmonic_index = self.harmonic_index + 1\n",
    "    \n",
    "    def add_frequency(self, note):\n",
    "        freq = f'{note.pitch.frequency:.0f}'\n",
    "        note.addLyric(freq)\n",
    "        \n",
    "    def add_interval_in_semitones(self, note, note_name):\n",
    "        interval = JlNote.from_Music21_name(note_name).pychord_value\n",
    "        note.addLyric(interval)\n",
    "        \n",
    "    def add_complementary_interval_in_semitones(self, note, note_name):\n",
    "        interval = JlNote.from_Music21_name(note_name).pychord_value\n",
    "        note.addLyric(12 - interval if interval != 0 else 0)\n",
    "        \n",
    "    def add_harmonic_index_caption(self):\n",
    "        textBox = TextBox('u', 100, 100)\n",
    "        textBox.style.fontSize = 3\n",
    "        # textBox.style.alignVertical = 'bottom'\n",
    "        self.stream.append(textBox)\n",
    "\n",
    "    "
   ]
  },
  {
   "cell_type": "code",
   "execution_count": 38,
   "metadata": {},
   "outputs": [
    {
     "data": {
      "image/png": "[encoded data removed]",
      "text/plain": [
       "<IPython.core.display.Image object>"
      ]
     },
     "metadata": {
      "image/png": {
       "height": 153,
       "width": 748
      }
     },
     "output_type": "display_data"
    }
   ],
   "source": [
    "drawer = HarmonicDrawer()\n",
    "\n",
    "drawer.draw()"
   ]
  },
  {
   "cell_type": "code",
   "execution_count": null,
   "metadata": {},
   "outputs": [],
   "source": []
  },
  {
   "cell_type": "code",
   "execution_count": null,
   "metadata": {},
   "outputs": [],
   "source": []
  },
  {
   "cell_type": "code",
   "execution_count": null,
   "metadata": {},
   "outputs": [],
   "source": []
  }
 ],
 "metadata": {
  "kernelspec": {
   "display_name": "Python 3",
   "language": "python",
   "name": "python3"
  },
  "language_info": {
   "codemirror_mode": {
    "name": "ipython",
    "version": 3
   },
   "file_extension": ".py",
   "mimetype": "text/x-python",
   "name": "python",
   "nbconvert_exporter": "python",
   "pygments_lexer": "ipython3",
   "version": "3.7.4"
  },
  "toc": {
   "base_numbering": 1,
   "nav_menu": {},
   "number_sections": true,
   "sideBar": true,
   "skip_h1_title": false,
   "title_cell": "Table of Contents",
   "title_sidebar": "Contents",
   "toc_cell": false,
   "toc_position": {},
   "toc_section_display": true,
   "toc_window_display": false
  }
 },
 "nbformat": 4,
 "nbformat_minor": 2
}
