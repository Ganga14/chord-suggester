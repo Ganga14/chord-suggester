{
 "cells": [
  {
   "cell_type": "markdown",
   "metadata": {},
   "source": [
    "# Interval  Complexity"
   ]
  },
  {
   "cell_type": "markdown",
   "metadata": {},
   "source": [
    "Based on [Physics of Music](https://pages.mtu.edu/~suits/scales.html) by B. H. Suits"
   ]
  },
  {
   "cell_type": "markdown",
   "metadata": {},
   "source": [
    "The table below shows the frequency ratios for notes tuned in the Just and Equal temperament scales. For the equal temperament scale, the frequency of each note in the chromatic scale is related to the frequency of the notes next to it by a factor of the twelfth root of 2 (1.0594630944....). For the Just scale, the notes are related to the fundamental by rational numbers and the semitones are not equally spaced. The most pleasing sounds to the ear are usually combinations of notes related by ratios of small integers, such as the fifth (3/2) or third (5/4). The Just scale is constructed based on the octave and an attempt to have as many of these \"nice\" intervals as possible. In contrast, one can create scales in other ways, such as a scale based on the fifth only."
   ]
  },
  {
   "cell_type": "code",
   "execution_count": 5,
   "metadata": {},
   "outputs": [],
   "source": [
    "table = \"\"\"<table border=''>\n",
    "<tbody><tr align='CENTER'>\n",
    "<th>Interval</th> <th>Ratio to Fundamental<br>Just Scale</th>\n",
    "<th>Ratio to Fundamental<br>Equal Temperament</th> \n",
    "</tr>\n",
    "\n",
    "<tr align='CENTER'>\n",
    "<td>Unison</td> <td>1.0000</td> <td>1.0000</td>\n",
    "</tr>\n",
    "\n",
    "<tr align='CENTER'>\n",
    "<td>Minor Second</td> <td>25/24 = 1.0417</td> <td>1.05946</td>\n",
    "</tr>\n",
    "\n",
    "<tr align='CENTER'>\n",
    "<td>Major Second</td> <td>9/8 = 1.1250</td> <td>1.12246</td>\n",
    "</tr>\n",
    "\n",
    "<tr align='CENTER'>\n",
    "<td>Minor Third</td> <td>6/5 = 1.2000</td> <td>1.18921</td>\n",
    "</tr>\n",
    "\n",
    "<tr align='CENTER'>\n",
    "<td>Major Third</td> <td>5/4 = 1.2500</td> <td>1.25992</td>\n",
    "</tr>\n",
    "\n",
    "<tr align='CENTER'>\n",
    "<td>Fourth</td> <td>4/3 = 1.3333</td> <td>1.33483</td>\n",
    "</tr>\n",
    "\n",
    "<tr align='CENTER'>\n",
    "<td>Diminished Fifth</td> <td>45/32 = 1.4063</td> <td>1.41421</td>\n",
    "</tr>\n",
    "\n",
    "<tr align='CENTER'>\n",
    "<td>Fifth</td> <td>3/2 = 1.5000</td> <td>1.49831</td>\n",
    "</tr>\n",
    "\n",
    "<tr align='CENTER'>\n",
    "<td>Minor Sixth</td> <td>8/5 = 1.6000</td> <td>1.58740</td>\n",
    "</tr>\n",
    "\n",
    "<tr align='CENTER'>\n",
    "<td>Major Sixth</td> <td>5/3 = 1.6667</td> <td>1.68179</td>\n",
    "</tr>\n",
    "\n",
    "<tr align='CENTER'\">\n",
    "<td>Minor Seventh</td> <td>9/5 = 1.8000</td> <td>1.78180</td>\n",
    "</tr>\n",
    "\n",
    "<tr align='CENTER'>\n",
    "<td>Major Seventh</td> <td>15/8 = 1.8750</td> <td>1.88775</td>\n",
    "</tr>\n",
    "\n",
    "<tr align='CENTER'>\n",
    "<td>Octave</td> <td> 2.0000</td> <td> 2.0000</td>\n",
    "</tr>\n",
    "\n",
    "</tbody></table>\"\"\""
   ]
  },
  {
   "cell_type": "code",
   "execution_count": 9,
   "metadata": {},
   "outputs": [
    {
     "data": {
      "text/html": [
       "<table border=''>\n",
       "<tbody><tr align='CENTER'>\n",
       "<th>Interval</th> <th>Ratio to Fundamental<br>Just Scale</th>\n",
       "<th>Ratio to Fundamental<br>Equal Temperament</th> \n",
       "</tr>\n",
       "\n",
       "<tr align='CENTER'>\n",
       "<td>Unison</td> <td>1.0000</td> <td>1.0000</td>\n",
       "</tr>\n",
       "\n",
       "<tr align='CENTER'>\n",
       "<td>Minor Second</td> <td>25/24 = 1.0417</td> <td>1.05946</td>\n",
       "</tr>\n",
       "\n",
       "<tr align='CENTER'>\n",
       "<td>Major Second</td> <td>9/8 = 1.1250</td> <td>1.12246</td>\n",
       "</tr>\n",
       "\n",
       "<tr align='CENTER'>\n",
       "<td>Minor Third</td> <td>6/5 = 1.2000</td> <td>1.18921</td>\n",
       "</tr>\n",
       "\n",
       "<tr align='CENTER'>\n",
       "<td>Major Third</td> <td>5/4 = 1.2500</td> <td>1.25992</td>\n",
       "</tr>\n",
       "\n",
       "<tr align='CENTER'>\n",
       "<td>Fourth</td> <td>4/3 = 1.3333</td> <td>1.33483</td>\n",
       "</tr>\n",
       "\n",
       "<tr align='CENTER'>\n",
       "<td>Diminished Fifth</td> <td>45/32 = 1.4063</td> <td>1.41421</td>\n",
       "</tr>\n",
       "\n",
       "<tr align='CENTER'>\n",
       "<td>Fifth</td> <td>3/2 = 1.5000</td> <td>1.49831</td>\n",
       "</tr>\n",
       "\n",
       "<tr align='CENTER'>\n",
       "<td>Minor Sixth</td> <td>8/5 = 1.6000</td> <td>1.58740</td>\n",
       "</tr>\n",
       "\n",
       "<tr align='CENTER'>\n",
       "<td>Major Sixth</td> <td>5/3 = 1.6667</td> <td>1.68179</td>\n",
       "</tr>\n",
       "\n",
       "<tr align='CENTER'\">\n",
       "<td>Minor Seventh</td> <td>9/5 = 1.8000</td> <td>1.78180</td>\n",
       "</tr>\n",
       "\n",
       "<tr align='CENTER'>\n",
       "<td>Major Seventh</td> <td>15/8 = 1.8750</td> <td>1.88775</td>\n",
       "</tr>\n",
       "\n",
       "<tr align='CENTER'>\n",
       "<td>Octave</td> <td> 2.0000</td> <td> 2.0000</td>\n",
       "</tr>\n",
       "\n",
       "</tbody></table>"
      ],
      "text/plain": [
       "<IPython.core.display.HTML object>"
      ]
     },
     "metadata": {},
     "output_type": "display_data"
    }
   ],
   "source": [
    "from IPython.core.display import display, HTML\n",
    "display(HTML(table))"
   ]
  },
  {
   "cell_type": "markdown",
   "metadata": {},
   "source": [
    "# Semitone distance - Interval complexity map"
   ]
  },
  {
   "cell_type": "code",
   "execution_count": null,
   "metadata": {},
   "outputs": [],
   "source": []
  }
 ],
 "metadata": {
  "kernelspec": {
   "display_name": "Python 3",
   "language": "python",
   "name": "python3"
  },
  "language_info": {
   "codemirror_mode": {
    "name": "ipython",
    "version": 3
   },
   "file_extension": ".py",
   "mimetype": "text/x-python",
   "name": "python",
   "nbconvert_exporter": "python",
   "pygments_lexer": "ipython3",
   "version": "3.7.4"
  },
  "toc": {
   "base_numbering": 1,
   "nav_menu": {},
   "number_sections": true,
   "sideBar": true,
   "skip_h1_title": false,
   "title_cell": "Table of Contents",
   "title_sidebar": "Contents",
   "toc_cell": false,
   "toc_position": {},
   "toc_section_display": true,
   "toc_window_display": false
  }
 },
 "nbformat": 4,
 "nbformat_minor": 2
}
