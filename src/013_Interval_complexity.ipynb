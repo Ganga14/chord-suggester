{
 "cells": [
  {
   "cell_type": "markdown",
   "metadata": {},
   "source": [
    "# Interval  Complexity"
   ]
  },
  {
   "cell_type": "markdown",
   "metadata": {},
   "source": [
    "Based on [Physics of Music](https://pages.mtu.edu/~suits/scales.html) by B. H. Suits"
   ]
  },
  {
   "cell_type": "markdown",
   "metadata": {},
   "source": [
    "The table below shows the frequency ratios for notes tuned in the Just and Equal temperament scales. For the equal temperament scale, the frequency of each note in the chromatic scale is related to the frequency of the notes next to it by a factor of the twelfth root of 2 (1.0594630944....). For the Just scale, the notes are related to the fundamental by rational numbers and the semitones are not equally spaced. The most pleasing sounds to the ear are usually combinations of notes related by ratios of small integers, such as the fifth (3/2) or third (5/4). The Just scale is constructed based on the octave and an attempt to have as many of these \"nice\" intervals as possible. In contrast, one can create scales in other ways, such as a scale based on the fifth only."
   ]
  },
  {
   "cell_type": "code",
   "execution_count": 16,
   "metadata": {},
   "outputs": [],
   "source": [
    "table = \"\"\"<table border=''>\n",
    "<tbody><tr align='CENTER'>\n",
    "<th>Interval</th> <th>Ratio to Fundamental<br>Just Scale</th>\n",
    "<th>Ratio to Fundamental<br>Equal Temperament</th> \n",
    "<th>Semitone interval</th>\n",
    "<th>Complexity</th>\n",
    "</tr>\n",
    "\n",
    "<tr align='CENTER'>\n",
    "<td>Unison</td> <td>1.0000</td> <td>1.0000</td> <td>0</td> <td>0</td>\n",
    "</tr> \n",
    "\n",
    "<tr align='CENTER'>\n",
    "<td>Minor Second</td> <td>25/24 = 1.0417</td> <td>1.05946</td> <td>1</td> <td>10</td>\n",
    "</tr>\n",
    "\n",
    "<tr align='CENTER'>\n",
    "<td>Major Second</td> <td>9/8 = 1.1250</td> <td>1.12246</td> <td>2</td> <td>8</td>\n",
    "</tr>\n",
    "\n",
    "<tr align='CENTER'>\n",
    "<td>Minor Third</td> <td>6/5 = 1.2000</td> <td>1.18921</td> <td>3</td> <td>5</td>\n",
    "</tr>\n",
    "\n",
    "<tr align='CENTER'>\n",
    "<td>Major Third</td> <td>5/4 = 1.2500</td> <td>1.25992</td> <td>4</td> <td>4</td>\n",
    "</tr>\n",
    "\n",
    "<tr align='CENTER'>\n",
    "<td>Fourth</td> <td>4/3 = 1.3333</td> <td>1.33483</td> <td>5</td> <td>2</td>\n",
    "</tr>\n",
    "\n",
    "<tr align='CENTER'>\n",
    "<td>Diminished Fifth</td> <td>45/32 = 1.4063</td> <td>1.41421</td> <td>6</td> <td>11</td>\n",
    "</tr>\n",
    "\n",
    "<tr align='CENTER'>\n",
    "<td>Fifth</td> <td>3/2 = 1.5000</td> <td>1.49831</td> <td>7</td> <td>1</td>\n",
    "</tr>\n",
    "\n",
    "<tr align='CENTER'>\n",
    "<td>Minor Sixth</td> <td>8/5 = 1.6000</td> <td>1.58740</td> <td>8</td> <td>6</td>\n",
    "</tr>\n",
    "\n",
    "<tr align='CENTER'>\n",
    "<td>Major Sixth</td> <td>5/3 = 1.6667</td> <td>1.68179</td> <td>9</td> <td>3</td>\n",
    "</tr>\n",
    "\n",
    "<tr align='CENTER'\">\n",
    "<td>Minor Seventh</td> <td>9/5 = 1.8000</td> <td>1.78180</td> <td>10</td> <td>7</td>\n",
    "</tr>\n",
    "\n",
    "<tr align='CENTER'>\n",
    "<td>Major Seventh</td> <td>15/8 = 1.8750</td> <td>1.88775</td> <td>11</td> <td>9</td>\n",
    "</tr>\n",
    "\n",
    "<tr align='CENTER'>\n",
    "<td>Octave</td> <td> 2.0000</td> <td> 2.0000</td> <td>12</td> <td>0</td>\n",
    "</tr>\n",
    "\n",
    "</tbody></table>\"\"\""
   ]
  },
  {
   "cell_type": "code",
   "execution_count": 17,
   "metadata": {},
   "outputs": [
    {
     "data": {
      "text/html": [
       "<table border=''>\n",
       "<tbody><tr align='CENTER'>\n",
       "<th>Interval</th> <th>Ratio to Fundamental<br>Just Scale</th>\n",
       "<th>Ratio to Fundamental<br>Equal Temperament</th> \n",
       "<th>Semitone interval</th>\n",
       "<th>Complexity</th>\n",
       "</tr>\n",
       "\n",
       "<tr align='CENTER'>\n",
       "<td>Unison</td> <td>1.0000</td> <td>1.0000</td> <td>0</td> <td>0</td>\n",
       "</tr> \n",
       "\n",
       "<tr align='CENTER'>\n",
       "<td>Minor Second</td> <td>25/24 = 1.0417</td> <td>1.05946</td> <td>1</td> <td>10</td>\n",
       "</tr>\n",
       "\n",
       "<tr align='CENTER'>\n",
       "<td>Major Second</td> <td>9/8 = 1.1250</td> <td>1.12246</td> <td>2</td> <td>8</td>\n",
       "</tr>\n",
       "\n",
       "<tr align='CENTER'>\n",
       "<td>Minor Third</td> <td>6/5 = 1.2000</td> <td>1.18921</td> <td>3</td> <td>5</td>\n",
       "</tr>\n",
       "\n",
       "<tr align='CENTER'>\n",
       "<td>Major Third</td> <td>5/4 = 1.2500</td> <td>1.25992</td> <td>4</td> <td>4</td>\n",
       "</tr>\n",
       "\n",
       "<tr align='CENTER'>\n",
       "<td>Fourth</td> <td>4/3 = 1.3333</td> <td>1.33483</td> <td>5</td> <td>2</td>\n",
       "</tr>\n",
       "\n",
       "<tr align='CENTER'>\n",
       "<td>Diminished Fifth</td> <td>45/32 = 1.4063</td> <td>1.41421</td> <td>6</td> <td>11</td>\n",
       "</tr>\n",
       "\n",
       "<tr align='CENTER'>\n",
       "<td>Fifth</td> <td>3/2 = 1.5000</td> <td>1.49831</td> <td>7</td> <td>1</td>\n",
       "</tr>\n",
       "\n",
       "<tr align='CENTER'>\n",
       "<td>Minor Sixth</td> <td>8/5 = 1.6000</td> <td>1.58740</td> <td>8</td> <td>6</td>\n",
       "</tr>\n",
       "\n",
       "<tr align='CENTER'>\n",
       "<td>Major Sixth</td> <td>5/3 = 1.6667</td> <td>1.68179</td> <td>9</td> <td>3</td>\n",
       "</tr>\n",
       "\n",
       "<tr align='CENTER'\">\n",
       "<td>Minor Seventh</td> <td>9/5 = 1.8000</td> <td>1.78180</td> <td>10</td> <td>7</td>\n",
       "</tr>\n",
       "\n",
       "<tr align='CENTER'>\n",
       "<td>Major Seventh</td> <td>15/8 = 1.8750</td> <td>1.88775</td> <td>11</td> <td>9</td>\n",
       "</tr>\n",
       "\n",
       "<tr align='CENTER'>\n",
       "<td>Octave</td> <td> 2.0000</td> <td> 2.0000</td> <td>12</td> <td>0</td>\n",
       "</tr>\n",
       "\n",
       "</tbody></table>"
      ],
      "text/plain": [
       "<IPython.core.display.HTML object>"
      ]
     },
     "metadata": {},
     "output_type": "display_data"
    }
   ],
   "source": [
    "from IPython.core.display import display, HTML\n",
    "display(HTML(table))"
   ]
  },
  {
   "cell_type": "markdown",
   "metadata": {},
   "source": [
    "# Harmonics"
   ]
  },
  {
   "cell_type": "code",
   "execution_count": 6,
   "metadata": {},
   "outputs": [],
   "source": [
    "from music21.stream import Stream\n",
    "from music21.note import Note\n",
    "from music21.meter import TimeSignature\n",
    "from music21.clef import TrebleClef\n",
    "from music21.text import TextBox\n",
    "\n",
    "from jl_note import Note as JlNote"
   ]
  },
  {
   "cell_type": "code",
   "execution_count": 37,
   "metadata": {},
   "outputs": [],
   "source": [
    "class HarmonicDrawer(Stream):\n",
    "    def __init__(self):\n",
    "        self.stream = Stream()\n",
    "        self.harmonic_index = 1\n",
    "        \n",
    "    def draw(self):\n",
    "        self.draw_notes()\n",
    "        # self.draw_captions()\n",
    "        \n",
    "        self.stream.show()\n",
    "        \n",
    "    def draw_notes(self):\n",
    "        self.stream.append(TimeSignature('16/4'))\n",
    "        self.append_sequence('C1', 'C2', 'G2', 'C3', 'E3', 'G3', 'Bb3')\n",
    "        drawer.stream.append(TrebleClef())\n",
    "        drawer.append_sequence('C4', 'D4', 'E4', 'F#4', 'G4', 'A4', 'Bb4', 'B4', 'C5')\n",
    "        \n",
    "    def draw_captions(self):\n",
    "        self.add_harmonic_index_caption()\n",
    "        \n",
    "    def append_sequence(self,*note_names):\n",
    "        \n",
    "        for note_name in note_names:\n",
    "            self.append_note(note_name)\n",
    "\n",
    "    def append_note(self,note_name):\n",
    "        note =  Note(note_name)\n",
    "        \n",
    "        self.add_harmonic_index(note)\n",
    "        self.add_frequency(note)\n",
    "        self.add_interval_in_semitones(note, note_name)\n",
    "        self.add_complementary_interval_in_semitones(note,note_name)\n",
    "        \n",
    "        self.stream.append(note)\n",
    "        \n",
    "    def add_harmonic_index(self, note):\n",
    "        note.addLyric(self.harmonic_index)\n",
    "        self.harmonic_index = self.harmonic_index + 1\n",
    "    \n",
    "    def add_frequency(self, note):\n",
    "        freq = f'{note.pitch.frequency:.0f}'\n",
    "        note.addLyric(freq)\n",
    "        \n",
    "    def add_interval_in_semitones(self, note, note_name):\n",
    "        interval = JlNote.from_Music21_name(note_name).pychord_value\n",
    "        note.addLyric(interval)\n",
    "        \n",
    "    def add_complementary_interval_in_semitones(self, note, note_name):\n",
    "        interval = JlNote.from_Music21_name(note_name).pychord_value\n",
    "        note.addLyric(12 - interval if interval != 0 else 0)\n",
    "        \n",
    "    def add_harmonic_index_caption(self):\n",
    "        textBox = TextBox('u', 100, 100)\n",
    "        textBox.style.fontSize = 3\n",
    "        # textBox.style.alignVertical = 'bottom'\n",
    "        self.stream.append(textBox)\n",
    "\n",
    "    "
   ]
  },
  {
   "cell_type": "code",
   "execution_count": 38,
   "metadata": {},
   "outputs": [
    {
     "data": {
      "image/png": "[encoded data removed]",
      "text/plain": [
       "<IPython.core.display.Image object>"
      ]
     },
     "metadata": {
      "image/png": {
       "height": 153,
       "width": 748
      }
     },
     "output_type": "display_data"
    }
   ],
   "source": [
    "drawer = HarmonicDrawer()\n",
    "\n",
    "drawer.draw()"
   ]
  },
  {
   "cell_type": "code",
   "execution_count": null,
   "metadata": {},
   "outputs": [],
   "source": []
  },
  {
   "cell_type": "code",
   "execution_count": null,
   "metadata": {},
   "outputs": [],
   "source": []
  },
  {
   "cell_type": "code",
   "execution_count": null,
   "metadata": {},
   "outputs": [],
   "source": []
  }
 ],
 "metadata": {
  "kernelspec": {
   "display_name": "Python 3",
   "language": "python",
   "name": "python3"
  },
  "language_info": {
   "codemirror_mode": {
    "name": "ipython",
    "version": 3
   },
   "file_extension": ".py",
   "mimetype": "text/x-python",
   "name": "python",
   "nbconvert_exporter": "python",
   "pygments_lexer": "ipython3",
   "version": "3.7.4"
  },
  "toc": {
   "base_numbering": 1,
   "nav_menu": {},
   "number_sections": true,
   "sideBar": true,
   "skip_h1_title": false,
   "title_cell": "Table of Contents",
   "title_sidebar": "Contents",
   "toc_cell": false,
   "toc_position": {},
   "toc_section_display": true,
   "toc_window_display": false
  }
 },
 "nbformat": 4,
 "nbformat_minor": 2
}
