{
 "cells": [
  {
   "cell_type": "markdown",
   "metadata": {},
   "source": [
    "# Ultimate Guitar Scraping. Second parts: extracting song urls"
   ]
  },
  {
   "cell_type": "code",
   "execution_count": 15,
   "metadata": {},
   "outputs": [],
   "source": [
    "from selenium import webdriver\n",
    "from bs4 import BeautifulSoup\n",
    "import time\n",
    "\n",
    "class PageLinksExtractor:\n",
    "    PAGE_URL = \"https://www.ultimate-guitar.com/explore?&subgenres[]=24&type[]=Chords\";\n",
    "    \n",
    "    def __init__(self):\n",
    "        pass\n",
    "    \n",
    "    def get_all_filter_song_links(self):\n",
    "        driver = self.create_chrome_driver();\n",
    "        driver.get(self.PAGE_URL)\n",
    "        \n",
    "        self.click_on_accept_cookies(driver)\n",
    "        \n",
    "        soup = BeautifulSoup(driver.page_source, 'lxml')\n",
    "\n",
    "        return soup.findAll('a', {\"class\":\"_2KJtL _1mes3 kWOod\"})\n",
    "    \n",
    "    def click_on_accept_cookies(self, driver):\n",
    "        button = driver.find_element_by_xpath('//button[contains(text(), \"thanks\")]')\n",
    "\n",
    "        button.click()  \n",
    "    \n",
    "    def create_chrome_driver(self):\n",
    "        options = webdriver.ChromeOptions()\n",
    "        options.add_argument('--ignore-certificate-errors')\n",
    "        options.add_argument('--incognito')\n",
    "        options.add_argument('--headless')\n",
    "        \n",
    "        driver = webdriver.Chrome(\"./chromedriver\", options=options)\n",
    "        return driver\n",
    "        "
   ]
  },
  {
   "cell_type": "code",
   "execution_count": 16,
   "metadata": {},
   "outputs": [],
   "source": [
    "extractor = PageLinksExtractor()"
   ]
  },
  {
   "cell_type": "code",
   "execution_count": 18,
   "metadata": {},
   "outputs": [],
   "source": [
    "links = extractor.get_all_filter_song_links()"
   ]
  },
  {
   "cell_type": "code",
   "execution_count": 19,
   "metadata": {},
   "outputs": [
    {
     "data": {
      "text/plain": [
       "50"
      ]
     },
     "execution_count": 19,
     "metadata": {},
     "output_type": "execute_result"
    }
   ],
   "source": [
    "len(links)"
   ]
  },
  {
   "cell_type": "markdown",
   "metadata": {},
   "source": [
    "Vemos que se muestran 50 canciones por página. Vamos a intentar extraer su URL y su nombre"
   ]
  },
  {
   "cell_type": "code",
   "execution_count": 20,
   "metadata": {},
   "outputs": [
    {
     "data": {
      "text/plain": [
       "<a class=\"_2KJtL _1mes3 kWOod\" href=\"https://tabs.ultimate-guitar.com/tab/elvis-presley/cant-help-falling-in-love-chords-1086983\" state=\"primary\">Cant Help Falling In Love</a>"
      ]
     },
     "execution_count": 20,
     "metadata": {},
     "output_type": "execute_result"
    }
   ],
   "source": [
    "links[0]"
   ]
  },
  {
   "cell_type": "code",
   "execution_count": 24,
   "metadata": {},
   "outputs": [
    {
     "data": {
      "text/plain": [
       "'https://tabs.ultimate-guitar.com/tab/elvis-presley/cant-help-falling-in-love-chords-1086983'"
      ]
     },
     "execution_count": 24,
     "metadata": {},
     "output_type": "execute_result"
    }
   ],
   "source": [
    "links[0]['href']"
   ]
  },
  {
   "cell_type": "code",
   "execution_count": 31,
   "metadata": {},
   "outputs": [
    {
     "data": {
      "text/plain": [
       "'Cant Help Falling In Love'"
      ]
     },
     "execution_count": 31,
     "metadata": {},
     "output_type": "execute_result"
    }
   ],
   "source": [
    "links[0].contents[0]"
   ]
  },
  {
   "cell_type": "code",
   "execution_count": 33,
   "metadata": {},
   "outputs": [
    {
     "data": {
      "text/plain": [
       "[('https://tabs.ultimate-guitar.com/tab/elvis-presley/cant-help-falling-in-love-chords-1086983',\n",
       "  'Cant Help Falling In Love'),\n",
       " ('https://tabs.ultimate-guitar.com/tab/the_beatles/yesterday_chords_17450',\n",
       "  'Yesterday'),\n",
       " ('https://tabs.ultimate-guitar.com/tab/the_beatles/let_it_be_chords_60690',\n",
       "  'Let It Be (ver\\xa02)'),\n",
       " ('https://tabs.ultimate-guitar.com/tab/jason-mraz/im-yours-chords-373896',\n",
       "  'Im Yours (ver\\xa08)'),\n",
       " ('https://tabs.ultimate-guitar.com/tab/john-lennon/imagine-chords-9306',\n",
       "  'Imagine'),\n",
       " ('https://tabs.ultimate-guitar.com/tab/the_cranberries/zombie_chords_844902',\n",
       "  'Zombie'),\n",
       " ('https://tabs.ultimate-guitar.com/tab/elton-john/your-song-chords-29113',\n",
       "  'Your Song'),\n",
       " ('https://tabs.ultimate-guitar.com/tab/the_beatles/hey_jude_chords_1061739',\n",
       "  'Hey Jude (ver\\xa06)'),\n",
       " ('https://tabs.ultimate-guitar.com/tab/kodaline/all-i-want-chords-1180259',\n",
       "  'All I Want'),\n",
       " ('https://tabs.ultimate-guitar.com/tab/coldplay/viva-la-vida-chords-675427',\n",
       "  'Viva La Vida'),\n",
       " ('https://tabs.ultimate-guitar.com/tab/queen/bohemian-rhapsody-chords-1716013',\n",
       "  'Bohemian Rhapsody (ver\\xa05)'),\n",
       " ('https://tabs.ultimate-guitar.com/tab/david-bowie/space-oddity-chords-105869',\n",
       "  'Space Oddity'),\n",
       " ('https://tabs.ultimate-guitar.com/tab/queen/love-of-my-life-chords-340088',\n",
       "  'Love Of My Life'),\n",
       " ('https://tabs.ultimate-guitar.com/tab/the_beatles/yesterday_chords_887610',\n",
       "  'Yesterday (ver\\xa04)'),\n",
       " ('https://tabs.ultimate-guitar.com/tab/plain-white-ts/hey-there-delilah-chords-337676',\n",
       "  'Hey There Delilah (ver\\xa03)'),\n",
       " ('https://tabs.ultimate-guitar.com/tab/imagine-dragons/radioactive-chords-1171909',\n",
       "  'Radioactive'),\n",
       " ('https://tabs.ultimate-guitar.com/tab/coldplay/yellow-chords-114080',\n",
       "  'Yellow (ver\\xa02)'),\n",
       " ('https://tabs.ultimate-guitar.com/tab/coldplay/the-scientist-chords-180849',\n",
       "  'The Scientist (ver\\xa05)'),\n",
       " ('https://tabs.ultimate-guitar.com/tab/the_beatles/let_it_be_chords_17427',\n",
       "  'Let It Be'),\n",
       " ('https://tabs.ultimate-guitar.com/tab/the_beatles/hey_jude_chords_17275',\n",
       "  'Hey Jude'),\n",
       " ('https://tabs.ultimate-guitar.com/tab/chris-isaak/wicked-game-chords-11066',\n",
       "  'Wicked Game'),\n",
       " ('https://tabs.ultimate-guitar.com/tab/the_beatles/something_chords_335727',\n",
       "  'Something (ver\\xa02)'),\n",
       " ('https://tabs.ultimate-guitar.com/tab/goo-goo-dolls/iris-chords-54512',\n",
       "  'Iris (ver\\xa04)'),\n",
       " ('https://tabs.ultimate-guitar.com/tab/billy_joel/piano_man_chords_1051336',\n",
       "  'Piano Man (ver\\xa05)'),\n",
       " ('https://tabs.ultimate-guitar.com/tab/keane/somewhere-only-we-know-chords-109970',\n",
       "  'Somewhere Only We Know'),\n",
       " ('https://tabs.ultimate-guitar.com/tab/coldplay/fix-you-chords-1863305',\n",
       "  'Fix You (ver\\xa017)'),\n",
       " ('https://tabs.ultimate-guitar.com/tab/neil-diamond/sweet-caroline-chords-66316',\n",
       "  'Sweet Caroline'),\n",
       " ('https://tabs.ultimate-guitar.com/tab/fleetwood-mac/landslide-chords-989772',\n",
       "  'Landslide'),\n",
       " ('https://tabs.ultimate-guitar.com/tab/snow_patrol/chasing_cars_chords_355425',\n",
       "  'Chasing Cars'),\n",
       " ('https://tabs.ultimate-guitar.com/tab/coldplay/the-scientist-chords-42050',\n",
       "  'The Scientist'),\n",
       " ('https://tabs.ultimate-guitar.com/tab/taylor_swift/love_story_chords_730809',\n",
       "  'Love Story'),\n",
       " ('https://tabs.ultimate-guitar.com/tab/elton-john/rocket-man-chords-10744',\n",
       "  'Rocket Man'),\n",
       " ('https://tabs.ultimate-guitar.com/tab/the_beatles/in_my_life_chords_531847',\n",
       "  'In My Life (ver\\xa05)'),\n",
       " ('https://tabs.ultimate-guitar.com/tab/queen/dont-stop-me-now-chords-519549',\n",
       "  'Dont Stop Me Now (ver\\xa03)'),\n",
       " ('https://tabs.ultimate-guitar.com/tab/a_great_big_world/say_something_chords_1443639',\n",
       "  'Say Something (ver\\xa03)'),\n",
       " ('https://tabs.ultimate-guitar.com/tab/the_beatles/here_comes_the_sun_chords_1726934',\n",
       "  'Here Comes The Sun (ver\\xa08)'),\n",
       " ('https://tabs.ultimate-guitar.com/tab/the_beatles/while_my_guitar_gently_weeps_chords_17446',\n",
       "  'While My Guitar Gently Weeps'),\n",
       " ('https://tabs.ultimate-guitar.com/tab/toto/africa_chords_87063', 'Africa'),\n",
       " ('https://tabs.ultimate-guitar.com/tab/the_beatles/i_want_to_hold_your_hand_chords_457088',\n",
       "  'I Want To Hold Your Hand (ver\\xa03)'),\n",
       " ('https://tabs.ultimate-guitar.com/tab/the_mamas_the_papas/california_dreamin_chords_862466',\n",
       "  'California Dreamin (ver\\xa03)'),\n",
       " ('https://tabs.ultimate-guitar.com/tab/red-hot-chili-peppers/californication-chords-202765',\n",
       "  'Californication'),\n",
       " ('https://tabs.ultimate-guitar.com/tab/elton-john/can-you-feel-the-love-tonight-chords-519520',\n",
       "  'Can You Feel The Love Tonight (ver\\xa02)'),\n",
       " ('https://tabs.ultimate-guitar.com/tab/elvis-presley/blue-christmas-chords-1443011',\n",
       "  'Blue Christmas (ver\\xa03)'),\n",
       " ('https://tabs.ultimate-guitar.com/tab/train/hey_soul_sister_chords_884388',\n",
       "  'Hey Soul Sister (ver\\xa02)'),\n",
       " ('https://tabs.ultimate-guitar.com/tab/tom_petty/free_fallin_chords_5655',\n",
       "  'Free Fallin'),\n",
       " ('https://tabs.ultimate-guitar.com/tab/america/a_horse_with_no_name_chords_59609',\n",
       "  'A Horse With No Name'),\n",
       " ('https://tabs.ultimate-guitar.com/tab/onerepublic/counting-stars-chords-1233464',\n",
       "  'Counting Stars'),\n",
       " ('https://tabs.ultimate-guitar.com/tab/the_police/every_breath_you_take_chords_1087239',\n",
       "  'Every Breath You Take (ver\\xa05)'),\n",
       " ('https://tabs.ultimate-guitar.com/tab/u2/with_or_without_you_chords_835',\n",
       "  'With Or Without You'),\n",
       " ('https://tabs.ultimate-guitar.com/tab/imagine-dragons/believer-chords-1941491',\n",
       "  'Believer (ver\\xa02)')]"
      ]
     },
     "execution_count": 33,
     "metadata": {},
     "output_type": "execute_result"
    }
   ],
   "source": [
    "[ (link['href'],link.contents[0]) for link in links]"
   ]
  },
  {
   "cell_type": "code",
   "execution_count": null,
   "metadata": {},
   "outputs": [],
   "source": []
  }
 ],
 "metadata": {
  "kernelspec": {
   "display_name": "Python 3",
   "language": "python",
   "name": "python3"
  },
  "language_info": {
   "codemirror_mode": {
    "name": "ipython",
    "version": 3
   },
   "file_extension": ".py",
   "mimetype": "text/x-python",
   "name": "python",
   "nbconvert_exporter": "python",
   "pygments_lexer": "ipython3",
   "version": "3.7.4"
  },
  "toc": {
   "base_numbering": 1,
   "nav_menu": {},
   "number_sections": true,
   "sideBar": true,
   "skip_h1_title": false,
   "title_cell": "Table of Contents",
   "title_sidebar": "Contents",
   "toc_cell": false,
   "toc_position": {},
   "toc_section_display": true,
   "toc_window_display": false
  }
 },
 "nbformat": 4,
 "nbformat_minor": 2
}
