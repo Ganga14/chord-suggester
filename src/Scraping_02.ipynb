{
 "cells": [
  {
   "cell_type": "markdown",
   "metadata": {},
   "source": [
    "# Ultimate Guitar Scraping. Second parts: extracting song urls"
   ]
  },
  {
   "cell_type": "code",
   "execution_count": 15,
   "metadata": {},
   "outputs": [],
   "source": [
    "from selenium import webdriver\n",
    "from bs4 import BeautifulSoup\n",
    "import time\n",
    "\n",
    "class PageLinksExtractor:\n",
    "    PAGE_URL = \"https://www.ultimate-guitar.com/explore?&subgenres[]=24&type[]=Chords\";\n",
    "    \n",
    "    def __init__(self):\n",
    "        pass\n",
    "    \n",
    "    def get_all_filter_song_links(self):\n",
    "        driver = self.create_chrome_driver();\n",
    "        driver.get(self.PAGE_URL)\n",
    "        \n",
    "        self.click_on_accept_cookies(driver)\n",
    "        \n",
    "        soup = BeautifulSoup(driver.page_source, 'lxml')\n",
    "\n",
    "        return soup.findAll('a', {\"class\":\"_2KJtL _1mes3 kWOod\"})\n",
    "    \n",
    "    def click_on_accept_cookies(self, driver):\n",
    "        button = driver.find_element_by_xpath('//button[contains(text(), \"thanks\")]')\n",
    "\n",
    "        button.click()  \n",
    "    \n",
    "    def create_chrome_driver(self):\n",
    "        options = webdriver.ChromeOptions()\n",
    "        options.add_argument('--ignore-certificate-errors')\n",
    "        options.add_argument('--incognito')\n",
    "        options.add_argument('--headless')\n",
    "        \n",
    "        driver = webdriver.Chrome(\"./chromedriver\", options=options)\n",
    "        return driver\n",
    "        "
   ]
  },
  {
   "cell_type": "code",
   "execution_count": 16,
   "metadata": {},
   "outputs": [],
   "source": [
    "extractor = PageLinksExtractor()"
   ]
  },
  {
   "cell_type": "code",
   "execution_count": 18,
   "metadata": {},
   "outputs": [],
   "source": [
    "links = extractor.get_all_filter_song_links()"
   ]
  },
  {
   "cell_type": "code",
   "execution_count": 19,
   "metadata": {},
   "outputs": [
    {
     "data": {
      "text/plain": [
       "50"
      ]
     },
     "execution_count": 19,
     "metadata": {},
     "output_type": "execute_result"
    }
   ],
   "source": [
    "len(links)"
   ]
  },
  {
   "cell_type": "markdown",
   "metadata": {},
   "source": [
    "Vemos que se muestran 50 canciones por página. Vamos a intentar extraer su URL y su nombre"
   ]
  },
  {
   "cell_type": "code",
   "execution_count": 20,
   "metadata": {},
   "outputs": [
    {
     "data": {
      "text/plain": [
       "<a class=\"_2KJtL _1mes3 kWOod\" href=\"https://tabs.ultimate-guitar.com/tab/elvis-presley/cant-help-falling-in-love-chords-1086983\" state=\"primary\">Cant Help Falling In Love</a>"
      ]
     },
     "execution_count": 20,
     "metadata": {},
     "output_type": "execute_result"
    }
   ],
   "source": [
    "links[0]"
   ]
  },
  {
   "cell_type": "code",
   "execution_count": 24,
   "metadata": {},
   "outputs": [
    {
     "data": {
      "text/plain": [
       "'https://tabs.ultimate-guitar.com/tab/elvis-presley/cant-help-falling-in-love-chords-1086983'"
      ]
     },
     "execution_count": 24,
     "metadata": {},
     "output_type": "execute_result"
    }
   ],
   "source": [
    "links[0]['href']"
   ]
  },
  {
   "cell_type": "code",
   "execution_count": 31,
   "metadata": {},
   "outputs": [
    {
     "data": {
      "text/plain": [
       "'Cant Help Falling In Love'"
      ]
     },
     "execution_count": 31,
     "metadata": {},
     "output_type": "execute_result"
    }
   ],
   "source": [
    "links[0].contents[0]"
   ]
  },
  {
   "cell_type": "code",
   "execution_count": 33,
   "metadata": {},
   "outputs": [
    {
     "data": {
      "text/plain": [
       "[('https://tabs.ultimate-guitar.com/tab/elvis-presley/cant-help-falling-in-love-chords-1086983',\n",
       "  'Cant Help Falling In Love'),\n",
       " ('https://tabs.ultimate-guitar.com/tab/the_beatles/yesterday_chords_17450',\n",
       "  'Yesterday'),\n",
       " ('https://tabs.ultimate-guitar.com/tab/the_beatles/let_it_be_chords_60690',\n",
       "  'Let It Be (ver\\xa02)'),\n",
       " ('https://tabs.ultimate-guitar.com/tab/jason-mraz/im-yours-chords-373896',\n",
       "  'Im Yours (ver\\xa08)'),\n",
       " ('https://tabs.ultimate-guitar.com/tab/john-lennon/imagine-chords-9306',\n",
       "  'Imagine'),\n",
       " ('https://tabs.ultimate-guitar.com/tab/the_cranberries/zombie_chords_844902',\n",
       "  'Zombie'),\n",
       " ('https://tabs.ultimate-guitar.com/tab/elton-john/your-song-chords-29113',\n",
       "  'Your Song'),\n",
       " ('https://tabs.ultimate-guitar.com/tab/the_beatles/hey_jude_chords_1061739',\n",
       "  'Hey Jude (ver\\xa06)'),\n",
       " ('https://tabs.ultimate-guitar.com/tab/kodaline/all-i-want-chords-1180259',\n",
       "  'All I Want'),\n",
       " ('https://tabs.ultimate-guitar.com/tab/coldplay/viva-la-vida-chords-675427',\n",
       "  'Viva La Vida'),\n",
       " ('https://tabs.ultimate-guitar.com/tab/queen/bohemian-rhapsody-chords-1716013',\n",
       "  'Bohemian Rhapsody (ver\\xa05)'),\n",
       " ('https://tabs.ultimate-guitar.com/tab/david-bowie/space-oddity-chords-105869',\n",
       "  'Space Oddity'),\n",
       " ('https://tabs.ultimate-guitar.com/tab/queen/love-of-my-life-chords-340088',\n",
       "  'Love Of My Life'),\n",
       " ('https://tabs.ultimate-guitar.com/tab/the_beatles/yesterday_chords_887610',\n",
       "  'Yesterday (ver\\xa04)'),\n",
       " ('https://tabs.ultimate-guitar.com/tab/plain-white-ts/hey-there-delilah-chords-337676',\n",
       "  'Hey There Delilah (ver\\xa03)'),\n",
       " ('https://tabs.ultimate-guitar.com/tab/imagine-dragons/radioactive-chords-1171909',\n",
       "  'Radioactive'),\n",
       " ('https://tabs.ultimate-guitar.com/tab/coldplay/yellow-chords-114080',\n",
       "  'Yellow (ver\\xa02)'),\n",
       " ('https://tabs.ultimate-guitar.com/tab/coldplay/the-scientist-chords-180849',\n",
       "  'The Scientist (ver\\xa05)'),\n",
       " ('https://tabs.ultimate-guitar.com/tab/the_beatles/let_it_be_chords_17427',\n",
       "  'Let It Be'),\n",
       " ('https://tabs.ultimate-guitar.com/tab/the_beatles/hey_jude_chords_17275',\n",
       "  'Hey Jude'),\n",
       " ('https://tabs.ultimate-guitar.com/tab/chris-isaak/wicked-game-chords-11066',\n",
       "  'Wicked Game'),\n",
       " ('https://tabs.ultimate-guitar.com/tab/the_beatles/something_chords_335727',\n",
       "  'Something (ver\\xa02)'),\n",
       " ('https://tabs.ultimate-guitar.com/tab/goo-goo-dolls/iris-chords-54512',\n",
       "  'Iris (ver\\xa04)'),\n",
       " ('https://tabs.ultimate-guitar.com/tab/billy_joel/piano_man_chords_1051336',\n",
       "  'Piano Man (ver\\xa05)'),\n",
       " ('https://tabs.ultimate-guitar.com/tab/keane/somewhere-only-we-know-chords-109970',\n",
       "  'Somewhere Only We Know'),\n",
       " ('https://tabs.ultimate-guitar.com/tab/coldplay/fix-you-chords-1863305',\n",
       "  'Fix You (ver\\xa017)'),\n",
       " ('https://tabs.ultimate-guitar.com/tab/neil-diamond/sweet-caroline-chords-66316',\n",
       "  'Sweet Caroline'),\n",
       " ('https://tabs.ultimate-guitar.com/tab/fleetwood-mac/landslide-chords-989772',\n",
       "  'Landslide'),\n",
       " ('https://tabs.ultimate-guitar.com/tab/snow_patrol/chasing_cars_chords_355425',\n",
       "  'Chasing Cars'),\n",
       " ('https://tabs.ultimate-guitar.com/tab/coldplay/the-scientist-chords-42050',\n",
       "  'The Scientist'),\n",
       " ('https://tabs.ultimate-guitar.com/tab/taylor_swift/love_story_chords_730809',\n",
       "  'Love Story'),\n",
       " ('https://tabs.ultimate-guitar.com/tab/elton-john/rocket-man-chords-10744',\n",
       "  'Rocket Man'),\n",
       " ('https://tabs.ultimate-guitar.com/tab/the_beatles/in_my_life_chords_531847',\n",
       "  'In My Life (ver\\xa05)'),\n",
       " ('https://tabs.ultimate-guitar.com/tab/queen/dont-stop-me-now-chords-519549',\n",
       "  'Dont Stop Me Now (ver\\xa03)'),\n",
       " ('https://tabs.ultimate-guitar.com/tab/a_great_big_world/say_something_chords_1443639',\n",
       "  'Say Something (ver\\xa03)'),\n",
       " ('https://tabs.ultimate-guitar.com/tab/the_beatles/here_comes_the_sun_chords_1726934',\n",
       "  'Here Comes The Sun (ver\\xa08)'),\n",
       " ('https://tabs.ultimate-guitar.com/tab/the_beatles/while_my_guitar_gently_weeps_chords_17446',\n",
       "  'While My Guitar Gently Weeps'),\n",
       " ('https://tabs.ultimate-guitar.com/tab/toto/africa_chords_87063', 'Africa'),\n",
       " ('https://tabs.ultimate-guitar.com/tab/the_beatles/i_want_to_hold_your_hand_chords_457088',\n",
       "  'I Want To Hold Your Hand (ver\\xa03)'),\n",
       " ('https://tabs.ultimate-guitar.com/tab/the_mamas_the_papas/california_dreamin_chords_862466',\n",
       "  'California Dreamin (ver\\xa03)'),\n",
       " ('https://tabs.ultimate-guitar.com/tab/red-hot-chili-peppers/californication-chords-202765',\n",
       "  'Californication'),\n",
       " ('https://tabs.ultimate-guitar.com/tab/elton-john/can-you-feel-the-love-tonight-chords-519520',\n",
       "  'Can You Feel The Love Tonight (ver\\xa02)'),\n",
       " ('https://tabs.ultimate-guitar.com/tab/elvis-presley/blue-christmas-chords-1443011',\n",
       "  'Blue Christmas (ver\\xa03)'),\n",
       " ('https://tabs.ultimate-guitar.com/tab/train/hey_soul_sister_chords_884388',\n",
       "  'Hey Soul Sister (ver\\xa02)'),\n",
       " ('https://tabs.ultimate-guitar.com/tab/tom_petty/free_fallin_chords_5655',\n",
       "  'Free Fallin'),\n",
       " ('https://tabs.ultimate-guitar.com/tab/america/a_horse_with_no_name_chords_59609',\n",
       "  'A Horse With No Name'),\n",
       " ('https://tabs.ultimate-guitar.com/tab/onerepublic/counting-stars-chords-1233464',\n",
       "  'Counting Stars'),\n",
       " ('https://tabs.ultimate-guitar.com/tab/the_police/every_breath_you_take_chords_1087239',\n",
       "  'Every Breath You Take (ver\\xa05)'),\n",
       " ('https://tabs.ultimate-guitar.com/tab/u2/with_or_without_you_chords_835',\n",
       "  'With Or Without You'),\n",
       " ('https://tabs.ultimate-guitar.com/tab/imagine-dragons/believer-chords-1941491',\n",
       "  'Believer (ver\\xa02)')]"
      ]
     },
     "execution_count": 33,
     "metadata": {},
     "output_type": "execute_result"
    }
   ],
   "source": [
    "[ (link['href'],link.contents[0]) for link in links]"
   ]
  },
  {
   "cell_type": "markdown",
   "metadata": {},
   "source": [
    "## Let's parametrise the url"
   ]
  },
  {
   "cell_type": "code",
   "execution_count": 1,
   "metadata": {},
   "outputs": [],
   "source": [
    "import jl_io as io"
   ]
  },
  {
   "cell_type": "code",
   "execution_count": 3,
   "metadata": {},
   "outputs": [],
   "source": [
    "genres = io.from_file('../data/genres')\n",
    "styles = io.from_file('../data/styles')\n",
    "decades = io.from_file('../data/decades')"
   ]
  },
  {
   "cell_type": "code",
   "execution_count": 4,
   "metadata": {},
   "outputs": [
    {
     "data": {
      "text/plain": [
       "[{'code': '4', 'name': 'Rock', 'pattern': '&&genres[]=4'},\n",
       " {'code': '666', 'name': 'Folk', 'pattern': '&&genres[]=666'},\n",
       " {'code': '14', 'name': 'Pop', 'pattern': '&&genres[]=14'},\n",
       " {'code': '49', 'name': 'Country', 'pattern': '&&genres[]=49'},\n",
       " {'code': '16', 'name': 'Electronic', 'pattern': '&&genres[]=16'},\n",
       " {'code': '70', 'name': 'Rhythm And Blues', 'pattern': '&&genres[]=70'},\n",
       " {'code': '8', 'name': 'Metal', 'pattern': '&&genres[]=8'},\n",
       " {'code': '434', 'name': 'Contemporary R&b', 'pattern': '&&genres[]=434'},\n",
       " {'code': '1016', 'name': 'Religious Music', 'pattern': '&&genres[]=1016'},\n",
       " {'code': '45', 'name': 'Hip Hop', 'pattern': '&&genres[]=45'},\n",
       " {'code': '19', 'name': 'Reggae', 'pattern': '&&genres[]=19'},\n",
       " {'code': '84', 'name': 'Jazz', 'pattern': '&&genres[]=84'},\n",
       " {'code': '99', 'name': 'Blues', 'pattern': '&&genres[]=99'},\n",
       " {'code': '195', 'name': 'World Music', 'pattern': '&&genres[]=195'},\n",
       " {'code': '85', 'name': 'Disco', 'pattern': '&&genres[]=85'},\n",
       " {'code': '79', 'name': 'Comedy', 'pattern': '&&genres[]=79'},\n",
       " {'code': '695', 'name': 'New Age', 'pattern': '&&genres[]=695'},\n",
       " {'code': '216', 'name': 'Classical', 'pattern': '&&genres[]=216'},\n",
       " {'code': '667', 'name': 'Experimental', 'pattern': '&&genres[]=667'},\n",
       " {'code': '211', 'name': 'Darkwave', 'pattern': '&&genres[]=211'},\n",
       " {'code': '680', 'name': 'Soundtrack', 'pattern': '&&genres[]=680'}]"
      ]
     },
     "execution_count": 4,
     "metadata": {},
     "output_type": "execute_result"
    }
   ],
   "source": [
    "genres"
   ]
  },
  {
   "cell_type": "code",
   "execution_count": 5,
   "metadata": {},
   "outputs": [
    {
     "data": {
      "text/plain": [
       "[{'code': '24', 'name': 'Pop Rock', 'pattern': '&&subgenres[]=24'},\n",
       " {'code': '665', 'name': 'Singer-songwriter', 'pattern': '&&subgenres[]=665'},\n",
       " {'code': '3', 'name': 'Alternative Rock', 'pattern': '&&subgenres[]=3'},\n",
       " {'code': '9', 'name': 'Indie Rock', 'pattern': '&&subgenres[]=9'},\n",
       " {'code': '46', 'name': 'Indie Pop', 'pattern': '&&subgenres[]=46'},\n",
       " {'code': '1', 'name': 'Pop Punk', 'pattern': '&&subgenres[]=1'},\n",
       " {'code': '7', 'name': 'Hard Rock', 'pattern': '&&subgenres[]=7'},\n",
       " {'code': '813', 'name': 'Contemporary Folk', 'pattern': '&&subgenres[]=813'},\n",
       " {'code': '94', 'name': 'Folk Rock', 'pattern': '&&subgenres[]=94'},\n",
       " {'code': '1093', 'name': 'Folk Pop', 'pattern': '&&subgenres[]=1093'},\n",
       " {'code': '1087',\n",
       "  'name': 'Contemporary Country',\n",
       "  'pattern': '&&subgenres[]=1087'},\n",
       " {'code': '197', 'name': 'Country Pop', 'pattern': '&&subgenres[]=197'},\n",
       " {'code': '104', 'name': 'Electropop', 'pattern': '&&subgenres[]=104'},\n",
       " {'code': '82', 'name': 'Indie Folk', 'pattern': '&&subgenres[]=82'},\n",
       " {'code': '72', 'name': 'Americana', 'pattern': '&&subgenres[]=72'},\n",
       " {'code': '2', 'name': 'Punk Rock', 'pattern': '&&subgenres[]=2'},\n",
       " {'code': '27', 'name': 'Power Pop', 'pattern': '&&subgenres[]=27'},\n",
       " {'code': '48', 'name': 'Country Rock', 'pattern': '&&subgenres[]=48'},\n",
       " {'code': '343', 'name': 'Dance-pop', 'pattern': '&&subgenres[]=343'},\n",
       " {'code': '668', 'name': 'Blues Rock', 'pattern': '&&subgenres[]=668'},\n",
       " {'code': '289',\n",
       "  'name': 'Alternative Country',\n",
       "  'pattern': '&&subgenres[]=289'},\n",
       " {'code': '751', 'name': 'Adult Contemporary', 'pattern': '&&subgenres[]=751'},\n",
       " {'code': '103', 'name': 'Synthpop', 'pattern': '&&subgenres[]=103'},\n",
       " {'code': '910', 'name': 'Pop Soul', 'pattern': '&&subgenres[]=910'},\n",
       " {'code': '734', 'name': 'Art Pop', 'pattern': '&&subgenres[]=734'},\n",
       " {'code': '177', 'name': 'Art Rock', 'pattern': '&&subgenres[]=177'},\n",
       " {'code': '218', 'name': 'Baroque Pop', 'pattern': '&&subgenres[]=218'},\n",
       " {'code': '40', 'name': 'Post-grunge', 'pattern': '&&subgenres[]=40'},\n",
       " {'code': '192', 'name': 'Teen Pop', 'pattern': '&&subgenres[]=192'},\n",
       " {'code': '47', 'name': 'Soft Rock', 'pattern': '&&subgenres[]=47'},\n",
       " {'code': '11', 'name': 'Progressive Rock', 'pattern': '&&subgenres[]=11'},\n",
       " {'code': '150', 'name': 'Rock And Roll', 'pattern': '&&subgenres[]=150'},\n",
       " {'code': '1015', 'name': 'Aor', 'pattern': '&&subgenres[]=1015'},\n",
       " {'code': '12', 'name': 'Christian Rock', 'pattern': '&&subgenres[]=12'},\n",
       " {'code': '10', 'name': 'Britpop', 'pattern': '&&subgenres[]=10'},\n",
       " {'code': '77', 'name': 'New Wave', 'pattern': '&&subgenres[]=77'},\n",
       " {'code': '86', 'name': 'Piano Rock', 'pattern': '&&subgenres[]=86'},\n",
       " {'code': '1045', 'name': 'Heartland Rock', 'pattern': '&&subgenres[]=1045'},\n",
       " {'code': '75', 'name': 'Soul', 'pattern': '&&subgenres[]=75'},\n",
       " {'code': '879', 'name': 'Emo-pop', 'pattern': '&&subgenres[]=879'},\n",
       " {'code': '90', 'name': 'Psychedelic Rock', 'pattern': '&&subgenres[]=90'},\n",
       " {'code': '663', 'name': 'Worship Music', 'pattern': '&&subgenres[]=663'},\n",
       " {'code': '323', 'name': 'Pop Rap', 'pattern': '&&subgenres[]=323'},\n",
       " {'code': '317', 'name': 'Psychedelic Pop', 'pattern': '&&subgenres[]=317'},\n",
       " {'code': '565', 'name': 'Blue-eyed Soul', 'pattern': '&&subgenres[]=565'},\n",
       " {'code': '116', 'name': 'Southern Rock', 'pattern': '&&subgenres[]=116'},\n",
       " {'code': '707',\n",
       "  'name': 'Contemporary Christian Music',\n",
       "  'pattern': '&&subgenres[]=707'},\n",
       " {'code': '26', 'name': 'Alternative Metal', 'pattern': '&&subgenres[]=26'},\n",
       " {'code': '22', 'name': 'Post-hardcore', 'pattern': '&&subgenres[]=22'},\n",
       " {'code': '241', 'name': 'Roots Rock', 'pattern': '&&subgenres[]=241'},\n",
       " {'code': '6', 'name': 'Heavy Metal', 'pattern': '&&subgenres[]=6'},\n",
       " {'code': '238', 'name': 'Neo-psychedelia', 'pattern': '&&subgenres[]=238'},\n",
       " {'code': '597', 'name': 'Outlaw Country', 'pattern': '&&subgenres[]=597'},\n",
       " {'code': '30', 'name': 'Glam Rock', 'pattern': '&&subgenres[]=30'},\n",
       " {'code': '36', 'name': 'Latin Pop', 'pattern': '&&subgenres[]=36'},\n",
       " {'code': '58', 'name': 'Skate Punk', 'pattern': '&&subgenres[]=58'},\n",
       " {'code': '35', 'name': 'Post-punk', 'pattern': '&&subgenres[]=35'},\n",
       " {'code': '296', 'name': 'Vocal Jazz', 'pattern': '&&subgenres[]=296'},\n",
       " {'code': '672', 'name': 'Lo-fi Indie', 'pattern': '&&subgenres[]=672'},\n",
       " {'code': '1095', 'name': 'Progressive Pop', 'pattern': '&&subgenres[]=1095'},\n",
       " {'code': '259', 'name': 'Indietronica', 'pattern': '&&subgenres[]=259'},\n",
       " {'code': '736',\n",
       "  'name': 'Garage Rock Revival',\n",
       "  'pattern': '&&subgenres[]=736'},\n",
       " {'code': '170', 'name': 'Dream Pop', 'pattern': '&&subgenres[]=170'},\n",
       " {'code': '13', 'name': 'Grunge', 'pattern': '&&subgenres[]=13'},\n",
       " {'code': '739', 'name': 'Post-punk Revival', 'pattern': '&&subgenres[]=739'},\n",
       " {'code': '1060', 'name': 'Nashville Sound', 'pattern': '&&subgenres[]=1060'},\n",
       " {'code': '328', 'name': 'Jangle Pop', 'pattern': '&&subgenres[]=328'},\n",
       " {'code': '51', 'name': 'Power Metal', 'pattern': '&&subgenres[]=51'},\n",
       " {'code': '135', 'name': 'Celtic Rock', 'pattern': '&&subgenres[]=135'},\n",
       " {'code': '110', 'name': 'Experimental Rock', 'pattern': '&&subgenres[]=110'},\n",
       " {'code': '1091', 'name': 'Chamber Folk', 'pattern': '&&subgenres[]=1091'},\n",
       " {'code': '140', 'name': 'Chanson', 'pattern': '&&subgenres[]=140'},\n",
       " {'code': '414', 'name': 'Sunshine Pop', 'pattern': '&&subgenres[]=414'},\n",
       " {'code': '202', 'name': 'Merseybeat', 'pattern': '&&subgenres[]=202'},\n",
       " {'code': '487', 'name': 'Sophisti-pop', 'pattern': '&&subgenres[]=487'},\n",
       " {'code': '938', 'name': 'Traditional Pop', 'pattern': '&&subgenres[]=938'},\n",
       " {'code': '17', 'name': 'Ska Punk', 'pattern': '&&subgenres[]=17'},\n",
       " {'code': '267', 'name': 'Neo Soul', 'pattern': '&&subgenres[]=267'},\n",
       " {'code': '704', 'name': 'Alternative R&b', 'pattern': '&&subgenres[]=704'},\n",
       " {'code': '107', 'name': 'Rockabilly', 'pattern': '&&subgenres[]=107'},\n",
       " {'code': '280', 'name': 'Bluegrass', 'pattern': '&&subgenres[]=280'},\n",
       " {'code': '76', 'name': 'Melodic Hardcore', 'pattern': '&&subgenres[]=76'},\n",
       " {'code': '100', 'name': 'Garage Rock', 'pattern': '&&subgenres[]=100'},\n",
       " {'code': '93', 'name': 'Folk Punk', 'pattern': '&&subgenres[]=93'},\n",
       " {'code': '866',\n",
       "  'name': 'Progressive Country',\n",
       "  'pattern': '&&subgenres[]=866'},\n",
       " {'code': '795', 'name': 'Psychedelic Folk', 'pattern': '&&subgenres[]=795'},\n",
       " {'code': '811', 'name': 'Bro-country', 'pattern': '&&subgenres[]=811'},\n",
       " {'code': '760', 'name': 'Yacht Rock', 'pattern': '&&subgenres[]=760'},\n",
       " {'code': '1089', 'name': 'Pop Reggae', 'pattern': '&&subgenres[]=1089'},\n",
       " {'code': '152', 'name': 'Alternative Dance', 'pattern': '&&subgenres[]=152'},\n",
       " {'code': '424',\n",
       "  'name': 'Progressive Bluegrass',\n",
       "  'pattern': '&&subgenres[]=424'},\n",
       " {'code': '18', 'name': 'Ska', 'pattern': '&&subgenres[]=18'},\n",
       " {'code': '305', 'name': 'Anti-folk', 'pattern': '&&subgenres[]=305'},\n",
       " {'code': '50', 'name': 'Symphonic Metal', 'pattern': '&&subgenres[]=50'},\n",
       " {'code': '792', 'name': 'Symphonic Prog', 'pattern': '&&subgenres[]=792'},\n",
       " {'code': '44', 'name': 'Rap Rock', 'pattern': '&&subgenres[]=44'},\n",
       " {'code': '363', 'name': 'Comedy Rock', 'pattern': '&&subgenres[]=363'},\n",
       " {'code': '69', 'name': 'Funk', 'pattern': '&&subgenres[]=69'},\n",
       " {'code': '25', 'name': 'Nu Metal', 'pattern': '&&subgenres[]=25'},\n",
       " {'code': '92', 'name': 'Celtic Punk', 'pattern': '&&subgenres[]=92'}]"
      ]
     },
     "execution_count": 5,
     "metadata": {},
     "output_type": "execute_result"
    }
   ],
   "source": [
    "styles"
   ]
  },
  {
   "cell_type": "code",
   "execution_count": 6,
   "metadata": {},
   "outputs": [
    {
     "data": {
      "text/plain": [
       "[{'code': '2010', 'name': '2010s', 'pattern': '&&decade[]=2010'},\n",
       " {'code': '2000', 'name': '2000s', 'pattern': '&&decade[]=2000'},\n",
       " {'code': '1990', 'name': '1990s', 'pattern': '&&decade[]=1990'},\n",
       " {'code': '1980', 'name': '1980s', 'pattern': '&&decade[]=1980'},\n",
       " {'code': '1970', 'name': '1970s', 'pattern': '&&decade[]=1970'},\n",
       " {'code': '1960', 'name': '1960s', 'pattern': '&&decade[]=1960'},\n",
       " {'code': '1950', 'name': '1950s', 'pattern': '&&decade[]=1950'}]"
      ]
     },
     "execution_count": 6,
     "metadata": {},
     "output_type": "execute_result"
    }
   ],
   "source": [
    "decades"
   ]
  },
  {
   "cell_type": "code",
   "execution_count": 7,
   "metadata": {},
   "outputs": [],
   "source": [
    "from selenium import webdriver\n",
    "from bs4 import BeautifulSoup\n",
    "import time\n",
    "\n",
    "class ParametrisedPageLinkExtractor:\n",
    "    BASE_URL = \"https://www.ultimate-guitar.com/explore?&type[]=Chords\";\n",
    "    \n",
    "    def __init__(self):\n",
    "        pass\n",
    "    \n",
    "    def get_all_filter_song_links(self,genreFilter,styleFilter,decadeFilter):\n",
    "        driver = self.create_chrome_driver();\n",
    "        driver.get(f'{self.BASE_URL}{genreFilter}{styleFilter}{decadeFilter}')\n",
    "        \n",
    "        self.click_on_accept_cookies(driver)\n",
    "        \n",
    "        soup = BeautifulSoup(driver.page_source, 'lxml')\n",
    "\n",
    "        return soup.findAll('a', {\"class\":\"_2KJtL _1mes3 kWOod\"})\n",
    "    \n",
    "    def click_on_accept_cookies(self, driver):\n",
    "        button = driver.find_element_by_xpath('//button[contains(text(), \"thanks\")]')\n",
    "\n",
    "        button.click()  \n",
    "    \n",
    "    def create_chrome_driver(self):\n",
    "        options = webdriver.ChromeOptions()\n",
    "        options.add_argument('--ignore-certificate-errors')\n",
    "        options.add_argument('--incognito')\n",
    "        options.add_argument('--headless')\n",
    "        \n",
    "        driver = webdriver.Chrome(\"./chromedriver\", options=options)\n",
    "        return driver\n",
    "        "
   ]
  },
  {
   "cell_type": "code",
   "execution_count": 9,
   "metadata": {},
   "outputs": [],
   "source": [
    "genre = genres[0]\n",
    "style = styles[0]\n",
    "decade = decades[0]\n",
    "\n",
    "extractor = ParametrisedPageLinkExtractor()\n",
    "\n",
    "links = extractor.get_all_filter_song_links(genre['pattern'], style['pattern'], decade['pattern'])"
   ]
  },
  {
   "cell_type": "code",
   "execution_count": 10,
   "metadata": {},
   "outputs": [
    {
     "data": {
      "text/plain": [
       "[('https://tabs.ultimate-guitar.com/tab/kodaline/all-i-want-chords-1180259',\n",
       "  'All I Want'),\n",
       " ('https://tabs.ultimate-guitar.com/tab/imagine-dragons/radioactive-chords-1171909',\n",
       "  'Radioactive'),\n",
       " ('https://tabs.ultimate-guitar.com/tab/a_great_big_world/say_something_chords_1443639',\n",
       "  'Say Something (ver\\xa03)'),\n",
       " ('https://tabs.ultimate-guitar.com/tab/onerepublic/counting-stars-chords-1233464',\n",
       "  'Counting Stars'),\n",
       " ('https://tabs.ultimate-guitar.com/tab/imagine-dragons/believer-chords-1941491',\n",
       "  'Believer (ver\\xa02)'),\n",
       " ('https://tabs.ultimate-guitar.com/tab/imagine-dragons/demons-chords-1148110',\n",
       "  'Demons'),\n",
       " ('https://tabs.ultimate-guitar.com/tab/lady-gaga/million-reasons-chords-1884102',\n",
       "  'Million Reasons'),\n",
       " ('https://tabs.ultimate-guitar.com/tab/harry-styles/sign-of-the-times-chords-1977189',\n",
       "  'Sign Of The Times'),\n",
       " ('https://tabs.ultimate-guitar.com/tab/kodaline/high-hopes-chords-1213220',\n",
       "  'High Hopes (ver\\xa02)'),\n",
       " ('https://tabs.ultimate-guitar.com/tab/imagine-dragons/demons-chords-1149539',\n",
       "  'Demons (ver\\xa02)'),\n",
       " ('https://tabs.ultimate-guitar.com/tab/panic-at-the-disco/high-hopes-chords-2390665',\n",
       "  'High Hopes'),\n",
       " ('https://tabs.ultimate-guitar.com/tab/a_great_big_world/say_something_chords_1429805',\n",
       "  'Say Something (ver\\xa02)'),\n",
       " ('https://tabs.ultimate-guitar.com/tab/coldplay/everglow-chords-1785810',\n",
       "  'Everglow'),\n",
       " ('https://tabs.ultimate-guitar.com/tab/bastille/pompeii_chords_1227805',\n",
       "  'Pompeii (ver\\xa03)'),\n",
       " ('https://tabs.ultimate-guitar.com/tab/fun-/we-are-young-chords-1114550',\n",
       "  'We Are Young (ver\\xa02)'),\n",
       " ('https://tabs.ultimate-guitar.com/tab/harry-styles/sweet-creature-chords-1990123',\n",
       "  'Sweet Creature'),\n",
       " ('https://tabs.ultimate-guitar.com/tab/imagine-dragons/bad-liar-chords-2511336',\n",
       "  'Bad Liar'),\n",
       " ('https://tabs.ultimate-guitar.com/tab/the_1975/somebody_else_chords_1787645',\n",
       "  'Somebody Else'),\n",
       " ('https://tabs.ultimate-guitar.com/tab/5_seconds_of_summer/amnesia_chords_1466985',\n",
       "  'Amnesia'),\n",
       " ('https://tabs.ultimate-guitar.com/tab/coldplay/a-sky-full-of-stars-chords-1480593',\n",
       "  'A Sky Full Of Stars (ver\\xa02)'),\n",
       " ('https://tabs.ultimate-guitar.com/tab/5_seconds_of_summer/youngblood_chords_2352397',\n",
       "  'Youngblood'),\n",
       " ('https://tabs.ultimate-guitar.com/tab/panic-at-the-disco/death-of-a-bachelor-chords-1764430',\n",
       "  'Death Of A Bachelor'),\n",
       " ('https://tabs.ultimate-guitar.com/tab/one-direction/history-chords-1778791',\n",
       "  'History'),\n",
       " ('https://tabs.ultimate-guitar.com/tab/walk_the_moon/shut_up_and_dance_chords_1673689',\n",
       "  'Shut Up And Dance'),\n",
       " ('https://tabs.ultimate-guitar.com/tab/harry-styles/two-ghosts-chords-1994911',\n",
       "  'Two Ghosts'),\n",
       " ('https://tabs.ultimate-guitar.com/tab/john-mayer/in-the-blood-chords-1980523',\n",
       "  'In The Blood'),\n",
       " ('https://tabs.ultimate-guitar.com/tab/train/shake_up_christmas_chords_1004568',\n",
       "  'Shake Up Christmas'),\n",
       " ('https://tabs.ultimate-guitar.com/tab/imagine-dragons/thunder-chords-1987397',\n",
       "  'Thunder'),\n",
       " ('https://tabs.ultimate-guitar.com/tab/coldplay/hymn-for-the-weekend-chords-1787495',\n",
       "  'Hymn For The Weekend'),\n",
       " ('https://tabs.ultimate-guitar.com/tab/linkin-park/one-more-light-chords-2089737',\n",
       "  'One More Light (ver\\xa02)'),\n",
       " ('https://tabs.ultimate-guitar.com/tab/paramore/still-into-you-chords-1231873',\n",
       "  'Still Into You (ver\\xa05)'),\n",
       " ('https://tabs.ultimate-guitar.com/tab/linkin-park/one-more-light-chords-1997545',\n",
       "  'One More Light'),\n",
       " ('https://tabs.ultimate-guitar.com/tab/linkin-park/the-messenger-chords-985940',\n",
       "  'The Messenger'),\n",
       " ('https://tabs.ultimate-guitar.com/tab/imagine-dragons/believer-chords-1941459',\n",
       "  'Believer'),\n",
       " ('https://tabs.ultimate-guitar.com/tab/keith-urban/blue-aint-your-color-chords-1843998',\n",
       "  'Blue Aint Your Color'),\n",
       " ('https://tabs.ultimate-guitar.com/tab/coldplay/paradise-chords-1092738',\n",
       "  'Paradise'),\n",
       " ('https://tabs.ultimate-guitar.com/tab/5_seconds_of_summer/lie_to_me_chords_2348751',\n",
       "  'Lie To Me'),\n",
       " ('https://tabs.ultimate-guitar.com/tab/x_ambassadors/renegades_chords_1731876',\n",
       "  'Renegades (ver\\xa02)'),\n",
       " ('https://tabs.ultimate-guitar.com/tab/kodaline/all-i-want-chords-1461962',\n",
       "  'All I Want (ver\\xa06)'),\n",
       " ('https://tabs.ultimate-guitar.com/tab/x_ambassadors/unsteady_chords_1480918',\n",
       "  'Unsteady'),\n",
       " ('https://tabs.ultimate-guitar.com/tab/one-direction/if-i-could-fly-chords-1782491',\n",
       "  'If I Could Fly (ver\\xa04)'),\n",
       " ('https://tabs.ultimate-guitar.com/tab/imagine-dragons/whatever-it-takes-chords-1993695',\n",
       "  'Whatever It Takes'),\n",
       " ('https://tabs.ultimate-guitar.com/tab/harry-styles/from-the-dining-table-chords-1994951',\n",
       "  'From The Dining Table'),\n",
       " ('https://tabs.ultimate-guitar.com/tab/panic-at-the-disco/the-ballad-of-mona-lisa-chords-1026218',\n",
       "  'The Ballad Of Mona Lisa (ver\\xa05)'),\n",
       " ('https://tabs.ultimate-guitar.com/tab/a_great_big_world/say_something_chords_1416487',\n",
       "  'Say Something'),\n",
       " ('https://tabs.ultimate-guitar.com/tab/1690369', 'Barfuß Am Klavier'),\n",
       " ('https://tabs.ultimate-guitar.com/tab/family-of-the-year/hero-chords-1227774',\n",
       "  'Hero (ver\\xa02)'),\n",
       " ('https://tabs.ultimate-guitar.com/tab/imagine-dragons/natural-chords-2427609',\n",
       "  'Natural'),\n",
       " ('https://tabs.ultimate-guitar.com/tab/kodaline/all-i-want-chords-1423945',\n",
       "  'All I Want (ver\\xa05)'),\n",
       " ('https://tabs.ultimate-guitar.com/tab/family-of-the-year/hero-chords-1129377',\n",
       "  'Hero')]"
      ]
     },
     "execution_count": 10,
     "metadata": {},
     "output_type": "execute_result"
    }
   ],
   "source": [
    "[ (link['href'],link.contents[0]) for link in links]"
   ]
  },
  {
   "cell_type": "markdown",
   "metadata": {},
   "source": [
    "## Consider pagination "
   ]
  },
  {
   "cell_type": "markdown",
   "metadata": {},
   "source": [
    "We have 50 results per page. Only 20 pages are shown when filtering => 1000 songs per tuple `(genre,style,decade`)"
   ]
  },
  {
   "cell_type": "code",
   "execution_count": 13,
   "metadata": {},
   "outputs": [
    {
     "data": {
      "text/plain": [
       "[1, 2, 3, 4, 5, 6, 7, 8, 9, 10, 11, 12, 13, 14, 15, 16, 17, 18, 19, 20]"
      ]
     },
     "execution_count": 13,
     "metadata": {},
     "output_type": "execute_result"
    }
   ],
   "source": [
    "[i for i in range(1,21)]"
   ]
  },
  {
   "cell_type": "code",
   "execution_count": 30,
   "metadata": {},
   "outputs": [],
   "source": [
    "from selenium import webdriver\n",
    "from bs4 import BeautifulSoup\n",
    "import time\n",
    "from functools import reduce\n",
    "\n",
    "class PaginatedLinkExtractor:\n",
    "    BASE_URL = \"https://www.ultimate-guitar.com/explore?&type[]=Chords\";\n",
    "    MAX_NUM_PAGES = 20\n",
    "    \n",
    "    def __init__(self):\n",
    "        pass\n",
    "    \n",
    "    def get_all_filter_song_links(self,genreFilter,styleFilter,decadeFilter):\n",
    "        list_of_list = [self.get_links_single_page(genreFilter, styleFilter, decadeFilter, f'&page={page}')\n",
    "                  for page in range(1,self.MAX_NUM_PAGES+1)]\n",
    "        \n",
    "        return reduce(lambda list1, list2: [*list1, *list2], list_of_list)\n",
    "    \n",
    "    def get_links_single_page(self,genreFilter,styleFilter,decadeFilter, pageFilter):\n",
    "        driver = self.create_chrome_driver();\n",
    "        driver.get(f'{self.BASE_URL}{genreFilter}{styleFilter}{decadeFilter}')\n",
    "\n",
    "        self.click_on_accept_cookies(driver)\n",
    "\n",
    "        soup = BeautifulSoup(driver.page_source, 'lxml')\n",
    "\n",
    "        return soup.findAll('a', {\"class\":\"_2KJtL _1mes3 kWOod\"})\n",
    "    \n",
    "    def click_on_accept_cookies(self, driver):\n",
    "        button = driver.find_element_by_xpath('//button[contains(text(), \"thanks\")]')\n",
    "\n",
    "        button.click()  \n",
    "    \n",
    "    def create_chrome_driver(self):\n",
    "        options = webdriver.ChromeOptions()\n",
    "        options.add_argument('--ignore-certificate-errors')\n",
    "        options.add_argument('--incognito')\n",
    "        options.add_argument('--headless')\n",
    "        \n",
    "        driver = webdriver.Chrome(\"./chromedriver\", options=options)\n",
    "        return driver\n",
    "        "
   ]
  },
  {
   "cell_type": "code",
   "execution_count": 31,
   "metadata": {},
   "outputs": [],
   "source": [
    "genre = genres[0]\n",
    "style = styles[0]\n",
    "decade = decades[0]\n",
    "\n",
    "extractor = PaginatedLinkExtractor()\n",
    "\n",
    "links = extractor.get_all_filter_song_links(genre['pattern'], style['pattern'], decade['pattern'])\n",
    "all_songs = [ (link['href'],link.contents[0]) for link in links]"
   ]
  },
  {
   "cell_type": "code",
   "execution_count": 41,
   "metadata": {},
   "outputs": [],
   "source": [
    "def link_to_song_dict(link, genre, style, decade):\n",
    "    return {\n",
    "        \"name\": link.contents[0],\n",
    "        \"url\": link['href'],\n",
    "        \"genre\": genre[\"name\"],\n",
    "        \"style\": style[\"name\"],\n",
    "        \"decade\": decade[\"name\"]\n",
    "    }\n",
    "    "
   ]
  },
  {
   "cell_type": "code",
   "execution_count": 42,
   "metadata": {},
   "outputs": [],
   "source": [
    "all_songs = [ link_to_song_dict(link,genre,style,decade) for link in links]"
   ]
  },
  {
   "cell_type": "code",
   "execution_count": 43,
   "metadata": {},
   "outputs": [
    {
     "data": {
      "text/plain": [
       "1000"
      ]
     },
     "execution_count": 43,
     "metadata": {},
     "output_type": "execute_result"
    }
   ],
   "source": [
    "len(all_songs)"
   ]
  },
  {
   "cell_type": "code",
   "execution_count": 44,
   "metadata": {},
   "outputs": [
    {
     "data": {
      "text/plain": [
       "{'name': 'All I Want',\n",
       " 'url': 'https://tabs.ultimate-guitar.com/tab/kodaline/all-i-want-chords-1180259',\n",
       " 'genre': 'Rock',\n",
       " 'style': 'Pop Rock',\n",
       " 'decade': '2010s'}"
      ]
     },
     "execution_count": 44,
     "metadata": {},
     "output_type": "execute_result"
    }
   ],
   "source": [
    "all_songs[0]"
   ]
  },
  {
   "cell_type": "code",
   "execution_count": null,
   "metadata": {},
   "outputs": [],
   "source": []
  }
 ],
 "metadata": {
  "kernelspec": {
   "display_name": "Python 3",
   "language": "python",
   "name": "python3"
  },
  "language_info": {
   "codemirror_mode": {
    "name": "ipython",
    "version": 3
   },
   "file_extension": ".py",
   "mimetype": "text/x-python",
   "name": "python",
   "nbconvert_exporter": "python",
   "pygments_lexer": "ipython3",
   "version": "3.7.4"
  },
  "toc": {
   "base_numbering": 1,
   "nav_menu": {},
   "number_sections": true,
   "sideBar": true,
   "skip_h1_title": false,
   "title_cell": "Table of Contents",
   "title_sidebar": "Contents",
   "toc_cell": false,
   "toc_position": {},
   "toc_section_display": true,
   "toc_window_display": false
  }
 },
 "nbformat": 4,
 "nbformat_minor": 2
}
