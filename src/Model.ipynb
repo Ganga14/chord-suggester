{
 "cells": [
  {
   "cell_type": "markdown",
   "metadata": {},
   "source": [
    "## Customise plotting "
   ]
  },
  {
   "cell_type": "code",
   "execution_count": 1,
   "metadata": {},
   "outputs": [],
   "source": [
    "import matplotlib.pyplot as plt\n",
    "import matplotlib as mpl\n",
    "plt.style.use('dark_background')"
   ]
  },
  {
   "cell_type": "markdown",
   "metadata": {},
   "source": [
    "## Data encoding"
   ]
  },
  {
   "cell_type": "markdown",
   "metadata": {},
   "source": [
    "Let's see the number of possible chords"
   ]
  },
  {
   "cell_type": "code",
   "execution_count": 2,
   "metadata": {},
   "outputs": [],
   "source": [
    "from jl_dictionaries import Dictionaries"
   ]
  },
  {
   "cell_type": "code",
   "execution_count": 3,
   "metadata": {},
   "outputs": [
    {
     "data": {
      "text/plain": [
       "['C3', 'C5', 'C', 'Cm', 'Cdim', 'Caug', 'Csus2', 'Csus4', 'C6', 'C7']"
      ]
     },
     "execution_count": 3,
     "metadata": {},
     "output_type": "execute_result"
    }
   ],
   "source": [
    "Dictionaries.get_all_possible_chords()[0:10]"
   ]
  },
  {
   "cell_type": "code",
   "execution_count": 4,
   "metadata": {},
   "outputs": [
    {
     "data": {
      "text/plain": [
       "804"
      ]
     },
     "execution_count": 4,
     "metadata": {},
     "output_type": "execute_result"
    }
   ],
   "source": [
    "vocab_size = len(Dictionaries.get_all_possible_chords())\n",
    "vocab_size"
   ]
  },
  {
   "cell_type": "markdown",
   "metadata": {},
   "source": [
    "The class encoder has been created to manually convert chords (or any other categorical feature) into numbers"
   ]
  },
  {
   "cell_type": "code",
   "execution_count": 5,
   "metadata": {},
   "outputs": [],
   "source": [
    "from jl_encoding import Encoder"
   ]
  },
  {
   "cell_type": "code",
   "execution_count": 6,
   "metadata": {},
   "outputs": [
    {
     "name": "stdout",
     "output_type": "stream",
     "text": [
      "Category to number dictionary length: 804\n",
      "Number to category dictionary length: 804\n"
     ]
    }
   ],
   "source": [
    "encoder = Encoder(Dictionaries.get_all_possible_chords())"
   ]
  },
  {
   "cell_type": "code",
   "execution_count": 7,
   "metadata": {},
   "outputs": [
    {
     "data": {
      "text/plain": [
       "[(1, 'C3'),\n",
       " (2, 'C5'),\n",
       " (3, 'C'),\n",
       " (4, 'Cm'),\n",
       " (5, 'Cdim'),\n",
       " (6, 'Caug'),\n",
       " (7, 'Csus2'),\n",
       " (8, 'Csus4'),\n",
       " (9, 'C6'),\n",
       " (10, 'C7')]"
      ]
     },
     "execution_count": 7,
     "metadata": {},
     "output_type": "execute_result"
    }
   ],
   "source": [
    "list(encoder.number_to_category_dict.items())[0:10]"
   ]
  },
  {
   "cell_type": "markdown",
   "metadata": {},
   "source": [
    "## Prepare data "
   ]
  },
  {
   "cell_type": "markdown",
   "metadata": {},
   "source": [
    "### Encoding "
   ]
  },
  {
   "cell_type": "code",
   "execution_count": 8,
   "metadata": {},
   "outputs": [],
   "source": [
    "from jl_song_data import SongData\n",
    "from jl_constants import NUMBER_OF_NOTES\n",
    "from jl_chord_parser import ChordParser\n",
    "\n",
    "parse = ChordParser().parse"
   ]
  },
  {
   "cell_type": "code",
   "execution_count": 9,
   "metadata": {},
   "outputs": [],
   "source": [
    "data = SongData('../data/all_features.csv')\n",
    "df = data.df"
   ]
  },
  {
   "cell_type": "markdown",
   "metadata": {},
   "source": [
    "Let's encode both chord and normalised chords"
   ]
  },
  {
   "cell_type": "code",
   "execution_count": 10,
   "metadata": {},
   "outputs": [],
   "source": [
    "for column_name in ['chords', 'normalised chords']:\n",
    "    df[column_name] = df[column_name].apply(eval)\n",
    "    df[f'encoded {column_name}'] = df[column_name]\\\n",
    "        .apply(lambda chords: [parse(chord) for chord in chords])\\\n",
    "        .apply(lambda chords: [encoder.to_number(chord.standard_name) for chord in chords if chord is not None ] )\n",
    "    "
   ]
  },
  {
   "cell_type": "code",
   "execution_count": 11,
   "metadata": {},
   "outputs": [
    {
     "data": {
      "text/html": [
       "<div>\n",
       "<style scoped>\n",
       "    .dataframe tbody tr th:only-of-type {\n",
       "        vertical-align: middle;\n",
       "    }\n",
       "\n",
       "    .dataframe tbody tr th {\n",
       "        vertical-align: top;\n",
       "    }\n",
       "\n",
       "    .dataframe thead th {\n",
       "        text-align: right;\n",
       "    }\n",
       "</style>\n",
       "<table border=\"1\" class=\"dataframe\">\n",
       "  <thead>\n",
       "    <tr style=\"text-align: right;\">\n",
       "      <th></th>\n",
       "      <th>name</th>\n",
       "      <th>chords</th>\n",
       "      <th>encoded chords</th>\n",
       "      <th>normalised chords</th>\n",
       "      <th>encoded normalised chords</th>\n",
       "    </tr>\n",
       "  </thead>\n",
       "  <tbody>\n",
       "    <tr>\n",
       "      <th>2044</th>\n",
       "      <td>A Place Where You Belong (ver 2)</td>\n",
       "      <td>[Bm, G, Bm, G, Bm, G, Bm, G, Bm, G, Bm, G, Bm,...</td>\n",
       "      <td>[741, 472, 741, 472, 741, 472, 741, 472, 741, ...</td>\n",
       "      <td>[Am, F, Am, F, Am, F, Am, F, Am, F, Am, F, Am,...</td>\n",
       "      <td>[607, 338, 607, 338, 607, 338, 607, 338, 607, ...</td>\n",
       "    </tr>\n",
       "    <tr>\n",
       "      <th>3691</th>\n",
       "      <td>Crocodile Rock</td>\n",
       "      <td>[G, G, Em, Em, C, C, D, D, G, Bm, C, D, G, Bm,...</td>\n",
       "      <td>[472, 472, 272, 272, 3, 3, 137, 137, 472, 741,...</td>\n",
       "      <td>[C, C, Am, Am, F, F, G, G, C, Em, F, G, C, Em,...</td>\n",
       "      <td>[3, 3, 607, 607, 338, 338, 472, 472, 3, 272, 3...</td>\n",
       "    </tr>\n",
       "    <tr>\n",
       "      <th>13865</th>\n",
       "      <td>Rainbow Connection</td>\n",
       "      <td>[E, A, E, C#m, F#m, B, E, C#m, A, E, C#m, F#m,...</td>\n",
       "      <td>[271, 606, 271, 71, 406, 740, 271, 71, 606, 27...</td>\n",
       "      <td>[C, F, C, Am, Dm, G, C, Am, F, C, Am, Dm, G, C...</td>\n",
       "      <td>[3, 338, 3, 607, 138, 472, 3, 607, 338, 3, 607...</td>\n",
       "    </tr>\n",
       "    <tr>\n",
       "      <th>437</th>\n",
       "      <td>Time Passages (ver 2)</td>\n",
       "      <td>[D, A/D, A/D, G/D, D, A, F#m7, G, D, A/D, G/D,...</td>\n",
       "      <td>[137, 606, 606, 472, 137, 606, 420, 472, 137, ...</td>\n",
       "      <td>[C, G, G, F, C, G, Em7, F, C, G, F, C, G, Em7,...</td>\n",
       "      <td>[3, 472, 472, 338, 3, 472, 286, 338, 3, 472, 3...</td>\n",
       "    </tr>\n",
       "    <tr>\n",
       "      <th>12584</th>\n",
       "      <td>Angie (ver 6)</td>\n",
       "      <td>[Am, E, G, Fsus4, F, C, C, B, Am, E, G, F, C, ...</td>\n",
       "      <td>[607, 271, 472, 343, 338, 3, 3, 740, 607, 271,...</td>\n",
       "      <td>[Am, E, G, Fsus4, F, C, C, B, Am, E, G, F, C, ...</td>\n",
       "      <td>[607, 271, 472, 343, 338, 3, 3, 740, 607, 271,...</td>\n",
       "    </tr>\n",
       "  </tbody>\n",
       "</table>\n",
       "</div>"
      ],
      "text/plain": [
       "                                   name  \\\n",
       "2044   A Place Where You Belong (ver 2)   \n",
       "3691                     Crocodile Rock   \n",
       "13865                Rainbow Connection   \n",
       "437               Time Passages (ver 2)   \n",
       "12584                     Angie (ver 6)   \n",
       "\n",
       "                                                  chords  \\\n",
       "2044   [Bm, G, Bm, G, Bm, G, Bm, G, Bm, G, Bm, G, Bm,...   \n",
       "3691   [G, G, Em, Em, C, C, D, D, G, Bm, C, D, G, Bm,...   \n",
       "13865  [E, A, E, C#m, F#m, B, E, C#m, A, E, C#m, F#m,...   \n",
       "437    [D, A/D, A/D, G/D, D, A, F#m7, G, D, A/D, G/D,...   \n",
       "12584  [Am, E, G, Fsus4, F, C, C, B, Am, E, G, F, C, ...   \n",
       "\n",
       "                                          encoded chords  \\\n",
       "2044   [741, 472, 741, 472, 741, 472, 741, 472, 741, ...   \n",
       "3691   [472, 472, 272, 272, 3, 3, 137, 137, 472, 741,...   \n",
       "13865  [271, 606, 271, 71, 406, 740, 271, 71, 606, 27...   \n",
       "437    [137, 606, 606, 472, 137, 606, 420, 472, 137, ...   \n",
       "12584  [607, 271, 472, 343, 338, 3, 3, 740, 607, 271,...   \n",
       "\n",
       "                                       normalised chords  \\\n",
       "2044   [Am, F, Am, F, Am, F, Am, F, Am, F, Am, F, Am,...   \n",
       "3691   [C, C, Am, Am, F, F, G, G, C, Em, F, G, C, Em,...   \n",
       "13865  [C, F, C, Am, Dm, G, C, Am, F, C, Am, Dm, G, C...   \n",
       "437    [C, G, G, F, C, G, Em7, F, C, G, F, C, G, Em7,...   \n",
       "12584  [Am, E, G, Fsus4, F, C, C, B, Am, E, G, F, C, ...   \n",
       "\n",
       "                               encoded normalised chords  \n",
       "2044   [607, 338, 607, 338, 607, 338, 607, 338, 607, ...  \n",
       "3691   [3, 3, 607, 607, 338, 338, 472, 472, 3, 272, 3...  \n",
       "13865  [3, 338, 3, 607, 138, 472, 3, 607, 338, 3, 607...  \n",
       "437    [3, 472, 472, 338, 3, 472, 286, 338, 3, 472, 3...  \n",
       "12584  [607, 271, 472, 343, 338, 3, 3, 740, 607, 271,...  "
      ]
     },
     "execution_count": 11,
     "metadata": {},
     "output_type": "execute_result"
    }
   ],
   "source": [
    "df[['name','chords', 'encoded chords', 'normalised chords', 'encoded normalised chords']].sample(5)"
   ]
  },
  {
   "cell_type": "markdown",
   "metadata": {},
   "source": [
    "### Padding "
   ]
  },
  {
   "cell_type": "markdown",
   "metadata": {},
   "source": [
    "According [EFFECTS OF PADDING ON LSTMS AND CNNS](https://arxiv.org/pdf/1903.07288.pdf), pre-padding is better than post-padding in LSTM"
   ]
  },
  {
   "cell_type": "markdown",
   "metadata": {},
   "source": [
    "Let's create a function to add zeros at the beginning of a sequence until reaching a given length"
   ]
  },
  {
   "cell_type": "code",
   "execution_count": 12,
   "metadata": {},
   "outputs": [],
   "source": [
    "def pad_sequence(input, length):\n",
    "    return [0] * (length - len(input)) + input"
   ]
  },
  {
   "cell_type": "markdown",
   "metadata": {},
   "source": [
    "Let's test it (it could be to a unit test...)"
   ]
  },
  {
   "cell_type": "code",
   "execution_count": 13,
   "metadata": {},
   "outputs": [
    {
     "data": {
      "text/plain": [
       "[3, 472, 3, 137, 472]"
      ]
     },
     "execution_count": 13,
     "metadata": {},
     "output_type": "execute_result"
    }
   ],
   "source": [
    "short_sequence = [encoder.to_number(chord) for chord in ['C', 'G', 'C', 'D', 'G']]\n",
    "short_sequence"
   ]
  },
  {
   "cell_type": "code",
   "execution_count": 14,
   "metadata": {},
   "outputs": [
    {
     "name": "stdout",
     "output_type": "stream",
     "text": [
      "21\n",
      "[10, 11, 12, 13, 14, 15, 16, 17, 18, 19, 20, 21, 22, 23, 24, 25, 26, 27, 28, 29, 30]\n"
     ]
    }
   ],
   "source": [
    "normal_sequence = list(range(10,31))\n",
    "print(len(normal_sequence))\n",
    "print(normal_sequence)"
   ]
  },
  {
   "cell_type": "code",
   "execution_count": 15,
   "metadata": {},
   "outputs": [
    {
     "name": "stdout",
     "output_type": "stream",
     "text": [
      "31\n",
      "[100, 101, 102, 103, 104, 105, 106, 107, 108, 109, 110, 111, 112, 113, 114, 115, 116, 117, 118, 119, 120, 121, 122, 123, 124, 125, 126, 127, 128, 129, 130]\n"
     ]
    }
   ],
   "source": [
    "long_sequence = list(range(100,131))\n",
    "print(len(long_sequence))\n",
    "print(long_sequence)"
   ]
  },
  {
   "cell_type": "code",
   "execution_count": 16,
   "metadata": {},
   "outputs": [
    {
     "name": "stdout",
     "output_type": "stream",
     "text": [
      "[0, 0, 0, 0, 0, 0, 0, 0, 0, 0, 0, 0, 0, 0, 0, 0, 3, 472, 3, 137, 472]\n",
      "21\n",
      "[10, 11, 12, 13, 14, 15, 16, 17, 18, 19, 20, 21, 22, 23, 24, 25, 26, 27, 28, 29, 30]\n",
      "21\n",
      "[100, 101, 102, 103, 104, 105, 106, 107, 108, 109, 110, 111, 112, 113, 114, 115, 116, 117, 118, 119, 120, 121, 122, 123, 124, 125, 126, 127, 128, 129, 130]\n",
      "31\n"
     ]
    }
   ],
   "source": [
    "for example_sequence in [short_sequence, normal_sequence, long_sequence]:\n",
    "    padded = pad_sequence(example_sequence,21)\n",
    "    print(padded)\n",
    "    print(len(padded))"
   ]
  },
  {
   "cell_type": "markdown",
   "metadata": {},
   "source": [
    "### Arranging data "
   ]
  },
  {
   "cell_type": "markdown",
   "metadata": {},
   "source": [
    "Now we want to create our X (feature) and Y (label). For sequence predictions, we must choose a `window` of lenthg W and create a _row_ for each subsequence of length W + 1 inside the sequence. The row will have:\n",
    "\n",
    "* X = vectow with the first W characters inside the window.\n",
    "* Y = number with the last character inside the window\n"
   ]
  },
  {
   "cell_type": "markdown",
   "metadata": {},
   "source": [
    "`create_rows_from_sequence` create rows from a sequence using the above algorithm and adds it to X and Y. "
   ]
  },
  {
   "cell_type": "code",
   "execution_count": 17,
   "metadata": {},
   "outputs": [],
   "source": [
    "def create_rows_from_sequence(sequence,W, X, Y):\n",
    "    step = 3\n",
    "    \n",
    "    if len(sequence) < 2:\n",
    "        return\n",
    "    \n",
    "    sequence = pad_sequence(sequence, W + 1) \n",
    "\n",
    "    for i in range(0, len(sequence) - W, step):\n",
    "        X.append(sequence[i: i + W])\n",
    "        Y.append(sequence[i + W])"
   ]
  },
  {
   "cell_type": "code",
   "execution_count": 18,
   "metadata": {},
   "outputs": [],
   "source": [
    "X = []\n",
    "Y = []\n",
    "sequence_with_length_one = [555];\n",
    "\n",
    "for example_sequence in [short_sequence, normal_sequence, long_sequence, sequence_with_length_one]:\n",
    "    create_rows_from_sequence(example_sequence,20,X,Y)"
   ]
  },
  {
   "cell_type": "code",
   "execution_count": 19,
   "metadata": {},
   "outputs": [
    {
     "name": "stdout",
     "output_type": "stream",
     "text": [
      "[[0, 0, 0, 0, 0, 0, 0, 0, 0, 0, 0, 0, 0, 0, 0, 0, 3, 472, 3, 137], [10, 11, 12, 13, 14, 15, 16, 17, 18, 19, 20, 21, 22, 23, 24, 25, 26, 27, 28, 29], [100, 101, 102, 103, 104, 105, 106, 107, 108, 109, 110, 111, 112, 113, 114, 115, 116, 117, 118, 119], [103, 104, 105, 106, 107, 108, 109, 110, 111, 112, 113, 114, 115, 116, 117, 118, 119, 120, 121, 122], [106, 107, 108, 109, 110, 111, 112, 113, 114, 115, 116, 117, 118, 119, 120, 121, 122, 123, 124, 125], [109, 110, 111, 112, 113, 114, 115, 116, 117, 118, 119, 120, 121, 122, 123, 124, 125, 126, 127, 128]]\n"
     ]
    }
   ],
   "source": [
    "print(X)"
   ]
  },
  {
   "cell_type": "code",
   "execution_count": 20,
   "metadata": {},
   "outputs": [
    {
     "name": "stdout",
     "output_type": "stream",
     "text": [
      "[472, 30, 120, 123, 126, 129]\n"
     ]
    }
   ],
   "source": [
    "print(Y)"
   ]
  },
  {
   "cell_type": "markdown",
   "metadata": {},
   "source": [
    "Note that for songs with length 1, no data will be added"
   ]
  },
  {
   "cell_type": "markdown",
   "metadata": {},
   "source": [
    "Now, let's **iterate** over all the sequences to generate our data. We will create 4 sets of data:\n",
    "\n",
    "* Data from `encoded chords` with `W = 10`.\n",
    "* Data from `encoded chords` with `W = 20`.\n",
    "* Data from `encoded normalised chords` with `W = 10`.\n",
    "* Data from `encoded normalised chords` with `W = 20`."
   ]
  },
  {
   "cell_type": "markdown",
   "metadata": {},
   "source": [
    "`arrange_data` returns a dictionary (X,Y,InputData,W) with the data, taking as parameters the name of the column and the window length.\n",
    "\n",
    "Additionally:\n",
    "* `Y` (numpy array) is converter to categorical used the built-in keras function `to_categorical` (one hot encoding).  \n",
    "* `X` (numpy array) is not converted because it will be passed as it is to an embedding layer\n",
    "* `Normalised`: True if input data was normalised. Otherwise, False. \n",
    "* `W`: W used "
   ]
  },
  {
   "cell_type": "markdown",
   "metadata": {},
   "source": [
    "Let's suffle the data to not depend on scraping order when splitting "
   ]
  },
  {
   "cell_type": "code",
   "execution_count": 21,
   "metadata": {},
   "outputs": [],
   "source": [
    "df = df.sample(frac=1)"
   ]
  },
  {
   "cell_type": "markdown",
   "metadata": {},
   "source": [
    "Arrange data to create our X and Y"
   ]
  },
  {
   "cell_type": "code",
   "execution_count": 22,
   "metadata": {},
   "outputs": [
    {
     "name": "stderr",
     "output_type": "stream",
     "text": [
      "Using TensorFlow backend.\n"
     ]
    }
   ],
   "source": [
    "from keras.utils import to_categorical\n",
    "import numpy as np\n",
    "\n",
    "def arrange_data(column_name, W, vocabulary_size):  \n",
    "    X = []\n",
    "    Y = []\n",
    "\n",
    "    for _, row in df.iterrows():\n",
    "        sequence = row[column_name]\n",
    "        create_rows_from_sequence(sequence,W,X,Y)\n",
    "    \n",
    "    Y = to_categorical(Y, num_classes=vocabulary_size+1)\n",
    "    \n",
    "    X = np.array(X)\n",
    "    Y = np.array(Y)\n",
    "    \n",
    "    result = {'X': X, 'Y':Y, 'Normalised': 'normalised' in column_name,'W': W}\n",
    "    \n",
    "    print(f'For Data: {column_name}. W={W}')\n",
    "    print(f'Each X has a length of {len(result[\"X\"][0])}')\n",
    "    print(f'Each Y has a length of {len(result[\"Y\"][0])}')\n",
    "    print(f'len(X)={len(X)}')\n",
    "    print(f'len(Y)={len(Y)}') \n",
    "    \n",
    "    return result"
   ]
  },
  {
   "cell_type": "markdown",
   "metadata": {},
   "source": [
    "## Fit "
   ]
  },
  {
   "cell_type": "code",
   "execution_count": 23,
   "metadata": {},
   "outputs": [],
   "source": [
    "from keras.models import Sequential\n",
    "from keras.layers.core import Dense, Activation, Dropout\n",
    "from keras.layers import Embedding\n",
    "from keras.layers.recurrent import LSTM\n",
    "from keras import optimizers\n",
    "from keras.utils import to_categorical\n",
    "from keras.callbacks.callbacks import ModelCheckpoint\n",
    "from keras.callbacks import Callback\n",
    "from matplotlib import pyplot"
   ]
  },
  {
   "cell_type": "code",
   "execution_count": 24,
   "metadata": {},
   "outputs": [
    {
     "name": "stdout",
     "output_type": "stream",
     "text": [
      "mkdir: ../models: File exists\r\n"
     ]
    }
   ],
   "source": [
    "! mkdir '../models'"
   ]
  },
  {
   "cell_type": "code",
   "execution_count": 46,
   "metadata": {},
   "outputs": [],
   "source": [
    "def fit(data,lr,epochs, batch_size):  \n",
    "    W = data['W']\n",
    "    \n",
    "    model = Sequential()\n",
    "    model.add(Embedding(vocab_size+1, W,input_length=W, mask_zero=True))\n",
    "    model.add(LSTM(50,return_sequences=True))\n",
    "    model.add(LSTM(50))\n",
    "    model.add(Dense(50,activation='relu'))\n",
    "    model.add(Dense(vocab_size+1,activation='softmax'))\n",
    "    opt_adam = optimizers.adam(lr=lr)\n",
    "    model.compile(loss='categorical_crossentropy',optimizer=opt_adam,metrics=['accuracy'])\n",
    "    model.summary()\n",
    "    \n",
    "    path_prefix = 'normalised_' if data['Normalised'] else ''\n",
    "    file_name = f'{path_prefix}_W_{W}_lr_{str(lr).replace(\".\", \"_\")}_epochs={epochs}_batch_{batch_size}'\n",
    "    path = f'../models/lstm_{file_name}.h5'\n",
    "    print(f'Model will be saved to {path}')\n",
    "    checkpoint = ModelCheckpoint(path, monitor='loss', verbose=1, save_best_only=True, mode='min')\n",
    "    \n",
    "    history = model.fit(data['X'],data['Y'],epochs=epochs,batch_size=batch_size,verbose=1,\\\n",
    "                        use_multiprocessing=True,callbacks=[checkpoint], validation_split=0.1)\n",
    "\n",
    "    pyplot.plot(history.history['accuracy'], label='train')\n",
    "    pyplot.plot(history.history['val_accuracy'], label='test')\n",
    "    pyplot.title('lrate='+str(lr), pad=-50)"
   ]
  },
  {
   "cell_type": "markdown",
   "metadata": {},
   "source": [
    "### Normalised vs non-normalissed"
   ]
  },
  {
   "cell_type": "markdown",
   "metadata": {},
   "source": [
    "Firstly, we will check  with normalised data and 0.001. In the draft notebooks, we tested with 0.001 and non-normalissed data, so we can compare and discard one of them."
   ]
  },
  {
   "cell_type": "code",
   "execution_count": 27,
   "metadata": {},
   "outputs": [
    {
     "name": "stdout",
     "output_type": "stream",
     "text": [
      "For Data: encoded normalised chords. W=20\n",
      "Each X has a length of 20\n",
      "Each Y has a length of 805\n",
      "len(X)=315340\n",
      "len(Y)=315340\n",
      "WARNING:tensorflow:From /opt/anaconda3/lib/python3.7/site-packages/tensorflow_core/python/ops/resource_variable_ops.py:1630: calling BaseResourceVariable.__init__ (from tensorflow.python.ops.resource_variable_ops) with constraint is deprecated and will be removed in a future version.\n",
      "Instructions for updating:\n",
      "If using Keras pass *_constraint arguments to layers.\n",
      "WARNING:tensorflow:From /opt/anaconda3/lib/python3.7/site-packages/tensorflow_core/python/keras/backend.py:3994: where (from tensorflow.python.ops.array_ops) is deprecated and will be removed in a future version.\n",
      "Instructions for updating:\n",
      "Use tf.where in 2.0, which has the same broadcast rule as np.where\n",
      "Model: \"sequential_1\"\n",
      "_________________________________________________________________\n",
      "Layer (type)                 Output Shape              Param #   \n",
      "=================================================================\n",
      "embedding_1 (Embedding)      (None, 20, 20)            16100     \n",
      "_________________________________________________________________\n",
      "lstm_1 (LSTM)                (None, 20, 50)            14200     \n",
      "_________________________________________________________________\n",
      "lstm_2 (LSTM)                (None, 50)                20200     \n",
      "_________________________________________________________________\n",
      "dense_1 (Dense)              (None, 50)                2550      \n",
      "_________________________________________________________________\n",
      "dense_2 (Dense)              (None, 805)               41055     \n",
      "=================================================================\n",
      "Total params: 94,105\n",
      "Trainable params: 94,105\n",
      "Non-trainable params: 0\n",
      "_________________________________________________________________\n",
      "Model will be saved to ../models/lstm_normalised__W_20_lr_0_001_epochs=20.h5\n",
      "WARNING:tensorflow:From /opt/anaconda3/lib/python3.7/site-packages/keras/backend/tensorflow_backend.py:422: The name tf.global_variables is deprecated. Please use tf.compat.v1.global_variables instead.\n",
      "\n",
      "Train on 283806 samples, validate on 31534 samples\n",
      "Epoch 1/20\n",
      "283806/283806 [==============================] - 68s 239us/step - loss: 2.7661 - accuracy: 0.2070 - val_loss: 2.5721 - val_accuracy: 0.2386\n",
      "\n",
      "Epoch 00001: loss improved from inf to 2.76612, saving model to ../models/lstm_normalised__W_20_lr_0_001_epochs=20.h5\n",
      "Epoch 2/20\n",
      "283806/283806 [==============================] - 70s 247us/step - loss: 2.3947 - accuracy: 0.2563 - val_loss: 2.3262 - val_accuracy: 0.3017\n",
      "\n",
      "Epoch 00002: loss improved from 2.76612 to 2.39470, saving model to ../models/lstm_normalised__W_20_lr_0_001_epochs=20.h5\n",
      "Epoch 3/20\n",
      "283806/283806 [==============================] - 66s 231us/step - loss: 2.1458 - accuracy: 0.3587 - val_loss: 2.1008 - val_accuracy: 0.4089\n",
      "\n",
      "Epoch 00003: loss improved from 2.39470 to 2.14584, saving model to ../models/lstm_normalised__W_20_lr_0_001_epochs=20.h5\n",
      "Epoch 4/20\n",
      "283806/283806 [==============================] - 66s 232us/step - loss: 1.9397 - accuracy: 0.4499 - val_loss: 1.9667 - val_accuracy: 0.4645\n",
      "\n",
      "Epoch 00004: loss improved from 2.14584 to 1.93971, saving model to ../models/lstm_normalised__W_20_lr_0_001_epochs=20.h5\n",
      "Epoch 5/20\n",
      "283806/283806 [==============================] - 66s 231us/step - loss: 1.8311 - accuracy: 0.4849 - val_loss: 1.8934 - val_accuracy: 0.4881\n",
      "\n",
      "Epoch 00005: loss improved from 1.93971 to 1.83110, saving model to ../models/lstm_normalised__W_20_lr_0_001_epochs=20.h5\n",
      "Epoch 6/20\n",
      "283806/283806 [==============================] - 66s 233us/step - loss: 1.7575 - accuracy: 0.5058 - val_loss: 1.8498 - val_accuracy: 0.5014\n",
      "\n",
      "Epoch 00006: loss improved from 1.83110 to 1.75750, saving model to ../models/lstm_normalised__W_20_lr_0_001_epochs=20.h5\n",
      "Epoch 7/20\n",
      "283806/283806 [==============================] - 66s 234us/step - loss: 1.7040 - accuracy: 0.5207 - val_loss: 1.8239 - val_accuracy: 0.5113\n",
      "\n",
      "Epoch 00007: loss improved from 1.75750 to 1.70396, saving model to ../models/lstm_normalised__W_20_lr_0_001_epochs=20.h5\n",
      "Epoch 8/20\n",
      "283806/283806 [==============================] - 67s 236us/step - loss: 1.6634 - accuracy: 0.5319 - val_loss: 1.8032 - val_accuracy: 0.5155\n",
      "\n",
      "Epoch 00008: loss improved from 1.70396 to 1.66336, saving model to ../models/lstm_normalised__W_20_lr_0_001_epochs=20.h5\n",
      "Epoch 9/20\n",
      "283806/283806 [==============================] - 67s 238us/step - loss: 1.6302 - accuracy: 0.5414 - val_loss: 1.7878 - val_accuracy: 0.5226\n",
      "\n",
      "Epoch 00009: loss improved from 1.66336 to 1.63021, saving model to ../models/lstm_normalised__W_20_lr_0_001_epochs=20.h5\n",
      "Epoch 10/20\n",
      "283806/283806 [==============================] - 66s 233us/step - loss: 1.6030 - accuracy: 0.5477 - val_loss: 1.7821 - val_accuracy: 0.5252\n",
      "\n",
      "Epoch 00010: loss improved from 1.63021 to 1.60302, saving model to ../models/lstm_normalised__W_20_lr_0_001_epochs=20.h5\n",
      "Epoch 11/20\n",
      "283806/283806 [==============================] - 67s 235us/step - loss: 1.5798 - accuracy: 0.5547 - val_loss: 1.7760 - val_accuracy: 0.5265\n",
      "\n",
      "Epoch 00011: loss improved from 1.60302 to 1.57980, saving model to ../models/lstm_normalised__W_20_lr_0_001_epochs=20.h5\n",
      "Epoch 12/20\n",
      "283806/283806 [==============================] - 66s 234us/step - loss: 1.5594 - accuracy: 0.5593 - val_loss: 1.7717 - val_accuracy: 0.5280\n",
      "\n",
      "Epoch 00012: loss improved from 1.57980 to 1.55942, saving model to ../models/lstm_normalised__W_20_lr_0_001_epochs=20.h5\n",
      "Epoch 13/20\n",
      "283806/283806 [==============================] - 66s 232us/step - loss: 1.5421 - accuracy: 0.5635 - val_loss: 1.7653 - val_accuracy: 0.5333\n",
      "\n",
      "Epoch 00013: loss improved from 1.55942 to 1.54213, saving model to ../models/lstm_normalised__W_20_lr_0_001_epochs=20.h5\n",
      "Epoch 14/20\n",
      "283806/283806 [==============================] - 66s 233us/step - loss: 1.5266 - accuracy: 0.5678 - val_loss: 1.7569 - val_accuracy: 0.5358\n",
      "\n",
      "Epoch 00014: loss improved from 1.54213 to 1.52664, saving model to ../models/lstm_normalised__W_20_lr_0_001_epochs=20.h5\n",
      "Epoch 15/20\n",
      "283806/283806 [==============================] - 66s 232us/step - loss: 1.5125 - accuracy: 0.5711 - val_loss: 1.7578 - val_accuracy: 0.5371\n",
      "\n",
      "Epoch 00015: loss improved from 1.52664 to 1.51254, saving model to ../models/lstm_normalised__W_20_lr_0_001_epochs=20.h5\n",
      "Epoch 16/20\n",
      "283806/283806 [==============================] - 66s 233us/step - loss: 1.4995 - accuracy: 0.5747 - val_loss: 1.7690 - val_accuracy: 0.5357\n",
      "\n",
      "Epoch 00016: loss improved from 1.51254 to 1.49949, saving model to ../models/lstm_normalised__W_20_lr_0_001_epochs=20.h5\n",
      "Epoch 17/20\n",
      "283806/283806 [==============================] - 67s 236us/step - loss: 1.4878 - accuracy: 0.5778 - val_loss: 1.7653 - val_accuracy: 0.5344\n",
      "\n",
      "Epoch 00017: loss improved from 1.49949 to 1.48782, saving model to ../models/lstm_normalised__W_20_lr_0_001_epochs=20.h5\n",
      "Epoch 18/20\n",
      "283806/283806 [==============================] - 67s 236us/step - loss: 1.4773 - accuracy: 0.5799 - val_loss: 1.7705 - val_accuracy: 0.5333\n",
      "\n",
      "Epoch 00018: loss improved from 1.48782 to 1.47733, saving model to ../models/lstm_normalised__W_20_lr_0_001_epochs=20.h5\n",
      "Epoch 19/20\n",
      "283806/283806 [==============================] - 63s 222us/step - loss: 1.4673 - accuracy: 0.5828 - val_loss: 1.7659 - val_accuracy: 0.5394\n",
      "\n",
      "Epoch 00019: loss improved from 1.47733 to 1.46726, saving model to ../models/lstm_normalised__W_20_lr_0_001_epochs=20.h5\n",
      "Epoch 20/20\n",
      "283806/283806 [==============================] - 54s 190us/step - loss: 1.4577 - accuracy: 0.5843 - val_loss: 1.7633 - val_accuracy: 0.5382\n",
      "\n",
      "Epoch 00020: loss improved from 1.46726 to 1.45773, saving model to ../models/lstm_normalised__W_20_lr_0_001_epochs=20.h5\n"
     ]
    },
    {
     "data": {
      "image/png": "[encoded data removed]",
      "text/plain": [
       "<Figure size 432x288 with 1 Axes>"
      ]
     },
     "metadata": {},
     "output_type": "display_data"
    }
   ],
   "source": [
    "W = 20\n",
    "learning_rate = 0.001\n",
    "epochs = 20\n",
    "batch_size = 1024\n",
    "column_name ='encoded normalised chords'\n",
    "input_data = arrange_data(column_name, W, vocab_size)\n",
    "fit(input_data,learning_rate,epochs,128)        \n",
    "pyplot.show() \n",
    "    "
   ]
  },
  {
   "cell_type": "markdown",
   "metadata": {},
   "source": [
    "Accuracy in epoch 20 is slightly better that the one with non-normalised data:\n",
    "\n",
    "Non normalised: loss: 1.5487 - accuracy: 0.5587\n",
    "Normalised: loss: 1.4577 - accuracy: 0.5843\n",
    "\n",
    "Additionally, we must take into accont that in non normalised training we trained wilth the whole dataset (no validation split)"
   ]
  },
  {
   "cell_type": "markdown",
   "metadata": {},
   "source": []
  },
  {
   "cell_type": "markdown",
   "metadata": {},
   "source": [
    "**Conclusion**: we will use normalised data"
   ]
  },
  {
   "cell_type": "markdown",
   "metadata": {},
   "source": [
    "### Batch size "
   ]
  },
  {
   "cell_type": "markdown",
   "metadata": {},
   "source": [
    "Previously, we have used a batch size of 128. Lets check with other values. With 1024: stuck. With 32: too slow"
   ]
  },
  {
   "cell_type": "code",
   "execution_count": 37,
   "metadata": {},
   "outputs": [
    {
     "name": "stdout",
     "output_type": "stream",
     "text": [
      "For Data: encoded normalised chords. W=20\n",
      "Each X has a length of 20\n",
      "Each Y has a length of 805\n",
      "len(X)=315340\n",
      "len(Y)=315340\n",
      "Model: \"sequential_6\"\n",
      "_________________________________________________________________\n",
      "Layer (type)                 Output Shape              Param #   \n",
      "=================================================================\n",
      "embedding_6 (Embedding)      (None, 20, 20)            16100     \n",
      "_________________________________________________________________\n",
      "lstm_11 (LSTM)               (None, 20, 50)            14200     \n",
      "_________________________________________________________________\n",
      "lstm_12 (LSTM)               (None, 50)                20200     \n",
      "_________________________________________________________________\n",
      "dense_11 (Dense)             (None, 50)                2550      \n",
      "_________________________________________________________________\n",
      "dense_12 (Dense)             (None, 805)               41055     \n",
      "=================================================================\n",
      "Total params: 94,105\n",
      "Trainable params: 94,105\n",
      "Non-trainable params: 0\n",
      "_________________________________________________________________\n",
      "Model will be saved to ../models/lstm_normalised__W_20_lr_0_001_epochs=20_batch_256.h5\n",
      "Train on 283806 samples, validate on 31534 samples\n",
      "Epoch 1/20\n",
      "283806/283806 [==============================] - 81s 284us/step - loss: 2.8779 - accuracy: 0.2041 - val_loss: 2.6489 - val_accuracy: 0.2116\n",
      "\n",
      "Epoch 00001: loss improved from inf to 2.87792, saving model to ../models/lstm_normalised__W_20_lr_0_001_epochs=20_batch_256.h5\n",
      "Epoch 2/20\n",
      "283806/283806 [==============================] - 79s 279us/step - loss: 2.4283 - accuracy: 0.2554 - val_loss: 2.3021 - val_accuracy: 0.3091\n",
      "\n",
      "Epoch 00002: loss improved from 2.87792 to 2.42827, saving model to ../models/lstm_normalised__W_20_lr_0_001_epochs=20_batch_256.h5\n",
      "Epoch 3/20\n",
      "283806/283806 [==============================] - 80s 282us/step - loss: 2.1655 - accuracy: 0.3484 - val_loss: 2.1277 - val_accuracy: 0.4029\n",
      "\n",
      "Epoch 00003: loss improved from 2.42827 to 2.16549, saving model to ../models/lstm_normalised__W_20_lr_0_001_epochs=20_batch_256.h5\n",
      "Epoch 4/20\n",
      "283806/283806 [==============================] - 80s 280us/step - loss: 2.0006 - accuracy: 0.4287 - val_loss: 2.0136 - val_accuracy: 0.4461\n",
      "\n",
      "Epoch 00004: loss improved from 2.16549 to 2.00058, saving model to ../models/lstm_normalised__W_20_lr_0_001_epochs=20_batch_256.h5\n",
      "Epoch 5/20\n",
      "283806/283806 [==============================] - 80s 281us/step - loss: 1.9034 - accuracy: 0.4585 - val_loss: 1.9523 - val_accuracy: 0.4628\n",
      "\n",
      "Epoch 00005: loss improved from 2.00058 to 1.90335, saving model to ../models/lstm_normalised__W_20_lr_0_001_epochs=20_batch_256.h5\n",
      "Epoch 6/20\n",
      "283806/283806 [==============================] - 80s 282us/step - loss: 1.8346 - accuracy: 0.4791 - val_loss: 1.9152 - val_accuracy: 0.4745\n",
      "\n",
      "Epoch 00006: loss improved from 1.90335 to 1.83460, saving model to ../models/lstm_normalised__W_20_lr_0_001_epochs=20_batch_256.h5\n",
      "Epoch 7/20\n",
      "283806/283806 [==============================] - 81s 286us/step - loss: 1.7831 - accuracy: 0.4945 - val_loss: 1.8786 - val_accuracy: 0.4857\n",
      "\n",
      "Epoch 00007: loss improved from 1.83460 to 1.78314, saving model to ../models/lstm_normalised__W_20_lr_0_001_epochs=20_batch_256.h5\n",
      "Epoch 8/20\n",
      "283806/283806 [==============================] - 81s 284us/step - loss: 1.7409 - accuracy: 0.5067 - val_loss: 1.8479 - val_accuracy: 0.4934\n",
      "\n",
      "Epoch 00008: loss improved from 1.78314 to 1.74086, saving model to ../models/lstm_normalised__W_20_lr_0_001_epochs=20_batch_256.h5\n",
      "Epoch 9/20\n",
      "283806/283806 [==============================] - 81s 285us/step - loss: 1.7053 - accuracy: 0.5174 - val_loss: 1.8337 - val_accuracy: 0.5020\n",
      "\n",
      "Epoch 00009: loss improved from 1.74086 to 1.70533, saving model to ../models/lstm_normalised__W_20_lr_0_001_epochs=20_batch_256.h5\n",
      "Epoch 10/20\n",
      "283806/283806 [==============================] - 80s 282us/step - loss: 1.6747 - accuracy: 0.5255 - val_loss: 1.8054 - val_accuracy: 0.5076\n",
      "\n",
      "Epoch 00010: loss improved from 1.70533 to 1.67469, saving model to ../models/lstm_normalised__W_20_lr_0_001_epochs=20_batch_256.h5\n",
      "Epoch 11/20\n",
      "283806/283806 [==============================] - 79s 278us/step - loss: 1.6488 - accuracy: 0.5329 - val_loss: 1.7977 - val_accuracy: 0.5100\n",
      "\n",
      "Epoch 00011: loss improved from 1.67469 to 1.64882, saving model to ../models/lstm_normalised__W_20_lr_0_001_epochs=20_batch_256.h5\n",
      "Epoch 12/20\n",
      "283806/283806 [==============================] - 78s 275us/step - loss: 1.6265 - accuracy: 0.5388 - val_loss: 1.7925 - val_accuracy: 0.5141\n",
      "\n",
      "Epoch 00012: loss improved from 1.64882 to 1.62651, saving model to ../models/lstm_normalised__W_20_lr_0_001_epochs=20_batch_256.h5\n",
      "Epoch 13/20\n",
      "283806/283806 [==============================] - 81s 286us/step - loss: 1.6058 - accuracy: 0.5447 - val_loss: 1.7876 - val_accuracy: 0.5151\n",
      "\n",
      "Epoch 00013: loss improved from 1.62651 to 1.60581, saving model to ../models/lstm_normalised__W_20_lr_0_001_epochs=20_batch_256.h5\n",
      "Epoch 14/20\n",
      "283806/283806 [==============================] - 80s 282us/step - loss: 1.5884 - accuracy: 0.5487 - val_loss: 1.7765 - val_accuracy: 0.5197\n",
      "\n",
      "Epoch 00014: loss improved from 1.60581 to 1.58838, saving model to ../models/lstm_normalised__W_20_lr_0_001_epochs=20_batch_256.h5\n",
      "Epoch 15/20\n",
      "283806/283806 [==============================] - 81s 285us/step - loss: 1.5720 - accuracy: 0.5526 - val_loss: 1.7717 - val_accuracy: 0.5201\n",
      "\n",
      "Epoch 00015: loss improved from 1.58838 to 1.57202, saving model to ../models/lstm_normalised__W_20_lr_0_001_epochs=20_batch_256.h5\n",
      "Epoch 16/20\n",
      "283806/283806 [==============================] - 83s 292us/step - loss: 1.5575 - accuracy: 0.5570 - val_loss: 1.7677 - val_accuracy: 0.5264\n",
      "\n",
      "Epoch 00016: loss improved from 1.57202 to 1.55752, saving model to ../models/lstm_normalised__W_20_lr_0_001_epochs=20_batch_256.h5\n",
      "Epoch 17/20\n",
      "283806/283806 [==============================] - 80s 283us/step - loss: 1.5440 - accuracy: 0.5609 - val_loss: 1.7656 - val_accuracy: 0.5240\n",
      "\n",
      "Epoch 00017: loss improved from 1.55752 to 1.54400, saving model to ../models/lstm_normalised__W_20_lr_0_001_epochs=20_batch_256.h5\n",
      "Epoch 18/20\n",
      "283806/283806 [==============================] - 78s 274us/step - loss: 1.5315 - accuracy: 0.5647 - val_loss: 1.7700 - val_accuracy: 0.5236\n",
      "\n",
      "Epoch 00018: loss improved from 1.54400 to 1.53148, saving model to ../models/lstm_normalised__W_20_lr_0_001_epochs=20_batch_256.h5\n",
      "Epoch 19/20\n",
      "283806/283806 [==============================] - 79s 279us/step - loss: 1.5203 - accuracy: 0.5680 - val_loss: 1.7646 - val_accuracy: 0.5259\n",
      "\n",
      "Epoch 00019: loss improved from 1.53148 to 1.52034, saving model to ../models/lstm_normalised__W_20_lr_0_001_epochs=20_batch_256.h5\n",
      "Epoch 20/20\n",
      "283806/283806 [==============================] - 78s 275us/step - loss: 1.5095 - accuracy: 0.5696 - val_loss: 1.7612 - val_accuracy: 0.5253\n",
      "\n",
      "Epoch 00020: loss improved from 1.52034 to 1.50955, saving model to ../models/lstm_normalised__W_20_lr_0_001_epochs=20_batch_256.h5\n"
     ]
    },
    {
     "data": {
      "image/png": "[encoded data removed]",
      "text/plain": [
       "<Figure size 432x288 with 1 Axes>"
      ]
     },
     "metadata": {},
     "output_type": "display_data"
    }
   ],
   "source": [
    "W = 20\n",
    "learning_rate = 0.001\n",
    "epochs = 20\n",
    "batch_size = 256\n",
    "column_name ='encoded normalised chords'\n",
    "input_data = arrange_data(column_name, W, vocab_size)\n",
    "fit(input_data,learning_rate,epochs,batch_size)        \n",
    "pyplot.show() "
   ]
  },
  {
   "cell_type": "markdown",
   "metadata": {},
   "source": [
    "The accuracy is lower than in 128 batch size and it is slower. We will use 128."
   ]
  },
  {
   "cell_type": "markdown",
   "metadata": {},
   "source": [
    "### W"
   ]
  },
  {
   "cell_type": "code",
   "execution_count": 40,
   "metadata": {},
   "outputs": [
    {
     "name": "stdout",
     "output_type": "stream",
     "text": [
      "For Data: encoded normalised chords. W=10\n",
      "Each X has a length of 10\n",
      "Each Y has a length of 805\n",
      "len(X)=360562\n",
      "len(Y)=360562\n",
      "Model: \"sequential_9\"\n",
      "_________________________________________________________________\n",
      "Layer (type)                 Output Shape              Param #   \n",
      "=================================================================\n",
      "embedding_9 (Embedding)      (None, 10, 10)            8050      \n",
      "_________________________________________________________________\n",
      "lstm_17 (LSTM)               (None, 10, 50)            12200     \n",
      "_________________________________________________________________\n",
      "lstm_18 (LSTM)               (None, 50)                20200     \n",
      "_________________________________________________________________\n",
      "dense_17 (Dense)             (None, 50)                2550      \n",
      "_________________________________________________________________\n",
      "dense_18 (Dense)             (None, 805)               41055     \n",
      "=================================================================\n",
      "Total params: 84,055\n",
      "Trainable params: 84,055\n",
      "Non-trainable params: 0\n",
      "_________________________________________________________________\n",
      "Model will be saved to ../models/lstm_normalised__W_10_lr_0_001_epochs=20_batch_128.h5\n",
      "Train on 324505 samples, validate on 36057 samples\n",
      "Epoch 1/20\n",
      "324505/324505 [==============================] - 47s 145us/step - loss: 2.6851 - accuracy: 0.2144 - val_loss: 2.4961 - val_accuracy: 0.2439\n",
      "\n",
      "Epoch 00001: loss improved from inf to 2.68512, saving model to ../models/lstm_normalised__W_10_lr_0_001_epochs=20_batch_128.h5\n",
      "Epoch 2/20\n",
      "324505/324505 [==============================] - 45s 140us/step - loss: 2.3350 - accuracy: 0.2606 - val_loss: 2.2961 - val_accuracy: 0.3002\n",
      "\n",
      "Epoch 00002: loss improved from 2.68512 to 2.33500, saving model to ../models/lstm_normalised__W_10_lr_0_001_epochs=20_batch_128.h5\n",
      "Epoch 3/20\n",
      "324505/324505 [==============================] - 45s 140us/step - loss: 2.1420 - accuracy: 0.3704 - val_loss: 2.0931 - val_accuracy: 0.4266\n",
      "\n",
      "Epoch 00003: loss improved from 2.33500 to 2.14196, saving model to ../models/lstm_normalised__W_10_lr_0_001_epochs=20_batch_128.h5\n",
      "Epoch 4/20\n",
      "324505/324505 [==============================] - 45s 139us/step - loss: 1.9711 - accuracy: 0.4483 - val_loss: 2.0009 - val_accuracy: 0.4572\n",
      "\n",
      "Epoch 00004: loss improved from 2.14196 to 1.97114, saving model to ../models/lstm_normalised__W_10_lr_0_001_epochs=20_batch_128.h5\n",
      "Epoch 5/20\n",
      "324505/324505 [==============================] - 46s 142us/step - loss: 1.8782 - accuracy: 0.4759 - val_loss: 1.9541 - val_accuracy: 0.4695\n",
      "\n",
      "Epoch 00005: loss improved from 1.97114 to 1.87817, saving model to ../models/lstm_normalised__W_10_lr_0_001_epochs=20_batch_128.h5\n",
      "Epoch 6/20\n",
      "324505/324505 [==============================] - 45s 139us/step - loss: 1.8135 - accuracy: 0.4954 - val_loss: 1.9127 - val_accuracy: 0.4825\n",
      "\n",
      "Epoch 00006: loss improved from 1.87817 to 1.81350, saving model to ../models/lstm_normalised__W_10_lr_0_001_epochs=20_batch_128.h5\n",
      "Epoch 7/20\n",
      "324505/324505 [==============================] - 45s 139us/step - loss: 1.7659 - accuracy: 0.5105 - val_loss: 1.8902 - val_accuracy: 0.4929\n",
      "\n",
      "Epoch 00007: loss improved from 1.81350 to 1.76588, saving model to ../models/lstm_normalised__W_10_lr_0_001_epochs=20_batch_128.h5\n",
      "Epoch 8/20\n",
      "324505/324505 [==============================] - 45s 139us/step - loss: 1.7283 - accuracy: 0.5215 - val_loss: 1.8655 - val_accuracy: 0.5037\n",
      "\n",
      "Epoch 00008: loss improved from 1.76588 to 1.72833, saving model to ../models/lstm_normalised__W_10_lr_0_001_epochs=20_batch_128.h5\n",
      "Epoch 9/20\n",
      "324505/324505 [==============================] - 45s 140us/step - loss: 1.6982 - accuracy: 0.5298 - val_loss: 1.8547 - val_accuracy: 0.5063\n",
      "\n",
      "Epoch 00009: loss improved from 1.72833 to 1.69822, saving model to ../models/lstm_normalised__W_10_lr_0_001_epochs=20_batch_128.h5\n",
      "Epoch 10/20\n",
      "324505/324505 [==============================] - 45s 139us/step - loss: 1.6733 - accuracy: 0.5369 - val_loss: 1.8411 - val_accuracy: 0.5091\n",
      "\n",
      "Epoch 00010: loss improved from 1.69822 to 1.67332, saving model to ../models/lstm_normalised__W_10_lr_0_001_epochs=20_batch_128.h5\n",
      "Epoch 11/20\n",
      "324505/324505 [==============================] - 48s 146us/step - loss: 1.6521 - accuracy: 0.5424 - val_loss: 1.8367 - val_accuracy: 0.5093\n",
      "\n",
      "Epoch 00011: loss improved from 1.67332 to 1.65212, saving model to ../models/lstm_normalised__W_10_lr_0_001_epochs=20_batch_128.h5\n",
      "Epoch 12/20\n",
      "324505/324505 [==============================] - 46s 141us/step - loss: 1.6346 - accuracy: 0.5471 - val_loss: 1.8300 - val_accuracy: 0.5157\n",
      "\n",
      "Epoch 00012: loss improved from 1.65212 to 1.63455, saving model to ../models/lstm_normalised__W_10_lr_0_001_epochs=20_batch_128.h5\n",
      "Epoch 13/20\n",
      "324505/324505 [==============================] - 46s 143us/step - loss: 1.6191 - accuracy: 0.5514 - val_loss: 1.8355 - val_accuracy: 0.5182\n",
      "\n",
      "Epoch 00013: loss improved from 1.63455 to 1.61912, saving model to ../models/lstm_normalised__W_10_lr_0_001_epochs=20_batch_128.h5\n",
      "Epoch 14/20\n",
      "324505/324505 [==============================] - 46s 142us/step - loss: 1.6051 - accuracy: 0.5548 - val_loss: 1.8305 - val_accuracy: 0.5164\n",
      "\n",
      "Epoch 00014: loss improved from 1.61912 to 1.60507, saving model to ../models/lstm_normalised__W_10_lr_0_001_epochs=20_batch_128.h5\n",
      "Epoch 15/20\n",
      "324505/324505 [==============================] - 46s 141us/step - loss: 1.5923 - accuracy: 0.5582 - val_loss: 1.8301 - val_accuracy: 0.5168\n",
      "\n",
      "Epoch 00015: loss improved from 1.60507 to 1.59234, saving model to ../models/lstm_normalised__W_10_lr_0_001_epochs=20_batch_128.h5\n",
      "Epoch 16/20\n",
      "324505/324505 [==============================] - 46s 142us/step - loss: 1.5812 - accuracy: 0.5617 - val_loss: 1.8355 - val_accuracy: 0.5180\n",
      "\n",
      "Epoch 00016: loss improved from 1.59234 to 1.58122, saving model to ../models/lstm_normalised__W_10_lr_0_001_epochs=20_batch_128.h5\n",
      "Epoch 17/20\n",
      "324505/324505 [==============================] - 45s 139us/step - loss: 1.5707 - accuracy: 0.5640 - val_loss: 1.8315 - val_accuracy: 0.5209\n",
      "\n",
      "Epoch 00017: loss improved from 1.58122 to 1.57067, saving model to ../models/lstm_normalised__W_10_lr_0_001_epochs=20_batch_128.h5\n",
      "Epoch 18/20\n",
      "324505/324505 [==============================] - 47s 144us/step - loss: 1.5607 - accuracy: 0.5667 - val_loss: 1.8305 - val_accuracy: 0.5216\n",
      "\n",
      "Epoch 00018: loss improved from 1.57067 to 1.56069, saving model to ../models/lstm_normalised__W_10_lr_0_001_epochs=20_batch_128.h5\n",
      "Epoch 19/20\n",
      "324505/324505 [==============================] - 44s 137us/step - loss: 1.5526 - accuracy: 0.5690 - val_loss: 1.8354 - val_accuracy: 0.5196\n",
      "\n",
      "Epoch 00019: loss improved from 1.56069 to 1.55255, saving model to ../models/lstm_normalised__W_10_lr_0_001_epochs=20_batch_128.h5\n",
      "Epoch 20/20\n",
      "324505/324505 [==============================] - 43s 132us/step - loss: 1.5442 - accuracy: 0.5707 - val_loss: 1.8425 - val_accuracy: 0.5207\n",
      "\n",
      "Epoch 00020: loss improved from 1.55255 to 1.54421, saving model to ../models/lstm_normalised__W_10_lr_0_001_epochs=20_batch_128.h5\n"
     ]
    },
    {
     "data": {
      "image/png": "[encoded data removed]",
      "text/plain": [
       "<Figure size 432x288 with 1 Axes>"
      ]
     },
     "metadata": {},
     "output_type": "display_data"
    }
   ],
   "source": [
    "W = 10\n",
    "learning_rate = 0.001\n",
    "epochs = 20\n",
    "batch_size = 128\n",
    "column_name ='encoded normalised chords'\n",
    "input_data = arrange_data(column_name, W, vocab_size)\n",
    "fit(input_data,learning_rate,epochs,batch_size)        \n",
    "pyplot.show() "
   ]
  },
  {
   "cell_type": "markdown",
   "metadata": {},
   "source": [
    "We cannot see much difference between W 10 and 20. "
   ]
  },
  {
   "cell_type": "markdown",
   "metadata": {},
   "source": [
    "### Learning rates "
   ]
  },
  {
   "cell_type": "code",
   "execution_count": 48,
   "metadata": {},
   "outputs": [],
   "source": [
    "learning_rates = [0.01, 0.001] # we discard 0.1 since from epoch 2 it stucks."
   ]
  },
  {
   "cell_type": "code",
   "execution_count": 49,
   "metadata": {},
   "outputs": [
    {
     "name": "stdout",
     "output_type": "stream",
     "text": [
      "For Data: encoded normalised chords. W=20\n",
      "Each X has a length of 20\n",
      "Each Y has a length of 805\n",
      "len(X)=315340\n",
      "len(Y)=315340\n",
      "Model: \"sequential_12\"\n",
      "_________________________________________________________________\n",
      "Layer (type)                 Output Shape              Param #   \n",
      "=================================================================\n",
      "embedding_12 (Embedding)     (None, 20, 20)            16100     \n",
      "_________________________________________________________________\n",
      "lstm_23 (LSTM)               (None, 20, 50)            14200     \n",
      "_________________________________________________________________\n",
      "lstm_24 (LSTM)               (None, 50)                20200     \n",
      "_________________________________________________________________\n",
      "dense_23 (Dense)             (None, 50)                2550      \n",
      "_________________________________________________________________\n",
      "dense_24 (Dense)             (None, 805)               41055     \n",
      "=================================================================\n",
      "Total params: 94,105\n",
      "Trainable params: 94,105\n",
      "Non-trainable params: 0\n",
      "_________________________________________________________________\n",
      "Model will be saved to ../models/lstm_normalised__W_20_lr_0_01_epochs=50_batch_128.h5\n",
      "Train on 283806 samples, validate on 31534 samples\n",
      "Epoch 1/50\n",
      "283806/283806 [==============================] - 61s 215us/step - loss: 2.4519 - accuracy: 0.2951 - val_loss: 2.1153 - val_accuracy: 0.4404\n",
      "\n",
      "Epoch 00001: loss improved from inf to 2.45188, saving model to ../models/lstm_normalised__W_20_lr_0_01_epochs=50_batch_128.h5\n",
      "Epoch 2/50\n",
      "283806/283806 [==============================] - 59s 207us/step - loss: 1.9499 - accuracy: 0.4650 - val_loss: 1.9636 - val_accuracy: 0.4718\n",
      "\n",
      "Epoch 00002: loss improved from 2.45188 to 1.94990, saving model to ../models/lstm_normalised__W_20_lr_0_01_epochs=50_batch_128.h5\n",
      "Epoch 3/50\n",
      "283806/283806 [==============================] - 58s 203us/step - loss: 1.8217 - accuracy: 0.4966 - val_loss: 1.9324 - val_accuracy: 0.4815\n",
      "\n",
      "Epoch 00003: loss improved from 1.94990 to 1.82168, saving model to ../models/lstm_normalised__W_20_lr_0_01_epochs=50_batch_128.h5\n",
      "Epoch 4/50\n",
      "283806/283806 [==============================] - 62s 217us/step - loss: 1.7684 - accuracy: 0.5087 - val_loss: 1.8787 - val_accuracy: 0.4947\n",
      "\n",
      "Epoch 00004: loss improved from 1.82168 to 1.76840, saving model to ../models/lstm_normalised__W_20_lr_0_01_epochs=50_batch_128.h5\n",
      "Epoch 5/50\n",
      "283806/283806 [==============================] - 63s 220us/step - loss: 1.7150 - accuracy: 0.5217 - val_loss: 1.8669 - val_accuracy: 0.5007\n",
      "\n",
      "Epoch 00005: loss improved from 1.76840 to 1.71495, saving model to ../models/lstm_normalised__W_20_lr_0_01_epochs=50_batch_128.h5\n",
      "Epoch 6/50\n",
      "283806/283806 [==============================] - 64s 224us/step - loss: 1.6867 - accuracy: 0.5283 - val_loss: 1.8489 - val_accuracy: 0.5029\n",
      "\n",
      "Epoch 00006: loss improved from 1.71495 to 1.68671, saving model to ../models/lstm_normalised__W_20_lr_0_01_epochs=50_batch_128.h5\n",
      "Epoch 7/50\n",
      "283806/283806 [==============================] - 60s 211us/step - loss: 1.6606 - accuracy: 0.5341 - val_loss: 1.8739 - val_accuracy: 0.5054\n",
      "\n",
      "Epoch 00007: loss improved from 1.68671 to 1.66056, saving model to ../models/lstm_normalised__W_20_lr_0_01_epochs=50_batch_128.h5\n",
      "Epoch 8/50\n",
      "283806/283806 [==============================] - 60s 210us/step - loss: 1.6419 - accuracy: 0.5396 - val_loss: 1.8744 - val_accuracy: 0.5069\n",
      "\n",
      "Epoch 00008: loss improved from 1.66056 to 1.64190, saving model to ../models/lstm_normalised__W_20_lr_0_01_epochs=50_batch_128.h5\n",
      "Epoch 9/50\n",
      "283806/283806 [==============================] - 60s 210us/step - loss: 1.6291 - accuracy: 0.5431 - val_loss: 1.8610 - val_accuracy: 0.5106\n",
      "\n",
      "Epoch 00009: loss improved from 1.64190 to 1.62910, saving model to ../models/lstm_normalised__W_20_lr_0_01_epochs=50_batch_128.h5\n",
      "Epoch 10/50\n",
      "283806/283806 [==============================] - 63s 223us/step - loss: 1.6138 - accuracy: 0.5465 - val_loss: 1.8416 - val_accuracy: 0.5135\n",
      "\n",
      "Epoch 00010: loss improved from 1.62910 to 1.61377, saving model to ../models/lstm_normalised__W_20_lr_0_01_epochs=50_batch_128.h5\n",
      "Epoch 11/50\n",
      "283806/283806 [==============================] - 57s 202us/step - loss: 1.6051 - accuracy: 0.5491 - val_loss: 1.8583 - val_accuracy: 0.5122\n",
      "\n",
      "Epoch 00011: loss improved from 1.61377 to 1.60511, saving model to ../models/lstm_normalised__W_20_lr_0_01_epochs=50_batch_128.h5\n",
      "Epoch 12/50\n",
      "283806/283806 [==============================] - 60s 212us/step - loss: 1.5969 - accuracy: 0.5505 - val_loss: 1.8714 - val_accuracy: 0.5146\n",
      "\n",
      "Epoch 00012: loss improved from 1.60511 to 1.59689, saving model to ../models/lstm_normalised__W_20_lr_0_01_epochs=50_batch_128.h5\n",
      "Epoch 13/50\n",
      "283806/283806 [==============================] - 61s 214us/step - loss: 1.5912 - accuracy: 0.5521 - val_loss: 1.8379 - val_accuracy: 0.5191\n",
      "\n",
      "Epoch 00013: loss improved from 1.59689 to 1.59122, saving model to ../models/lstm_normalised__W_20_lr_0_01_epochs=50_batch_128.h5\n",
      "Epoch 14/50\n",
      "283806/283806 [==============================] - 60s 211us/step - loss: 1.5829 - accuracy: 0.5540 - val_loss: 1.8417 - val_accuracy: 0.5103\n",
      "\n",
      "Epoch 00014: loss improved from 1.59122 to 1.58286, saving model to ../models/lstm_normalised__W_20_lr_0_01_epochs=50_batch_128.h5\n",
      "Epoch 15/50\n",
      "283806/283806 [==============================] - 60s 213us/step - loss: 1.5760 - accuracy: 0.5559 - val_loss: 1.8832 - val_accuracy: 0.5137\n",
      "\n",
      "Epoch 00015: loss improved from 1.58286 to 1.57604, saving model to ../models/lstm_normalised__W_20_lr_0_01_epochs=50_batch_128.h5\n",
      "Epoch 16/50\n",
      "283806/283806 [==============================] - 60s 213us/step - loss: 1.5711 - accuracy: 0.5577 - val_loss: 1.8497 - val_accuracy: 0.5166\n",
      "\n",
      "Epoch 00016: loss improved from 1.57604 to 1.57114, saving model to ../models/lstm_normalised__W_20_lr_0_01_epochs=50_batch_128.h5\n",
      "Epoch 17/50\n",
      "283806/283806 [==============================] - 60s 213us/step - loss: 1.5671 - accuracy: 0.5592 - val_loss: 1.8755 - val_accuracy: 0.5134\n",
      "\n",
      "Epoch 00017: loss improved from 1.57114 to 1.56706, saving model to ../models/lstm_normalised__W_20_lr_0_01_epochs=50_batch_128.h5\n",
      "Epoch 18/50\n",
      "283806/283806 [==============================] - 59s 208us/step - loss: 1.5618 - accuracy: 0.5601 - val_loss: 1.8571 - val_accuracy: 0.5169\n",
      "\n",
      "Epoch 00018: loss improved from 1.56706 to 1.56185, saving model to ../models/lstm_normalised__W_20_lr_0_01_epochs=50_batch_128.h5\n",
      "Epoch 19/50\n",
      "283806/283806 [==============================] - 60s 210us/step - loss: 1.5573 - accuracy: 0.5613 - val_loss: 1.8675 - val_accuracy: 0.5184\n",
      "\n",
      "Epoch 00019: loss improved from 1.56185 to 1.55733, saving model to ../models/lstm_normalised__W_20_lr_0_01_epochs=50_batch_128.h5\n",
      "Epoch 20/50\n",
      "283806/283806 [==============================] - 59s 207us/step - loss: 1.5580 - accuracy: 0.5599 - val_loss: 1.8744 - val_accuracy: 0.5171\n",
      "\n",
      "Epoch 00020: loss did not improve from 1.55733\n",
      "Epoch 21/50\n",
      "283806/283806 [==============================] - 59s 209us/step - loss: 1.5508 - accuracy: 0.5631 - val_loss: 1.8495 - val_accuracy: 0.5160\n",
      "\n",
      "Epoch 00021: loss improved from 1.55733 to 1.55084, saving model to ../models/lstm_normalised__W_20_lr_0_01_epochs=50_batch_128.h5\n",
      "Epoch 22/50\n",
      "283806/283806 [==============================] - 64s 225us/step - loss: 1.5494 - accuracy: 0.5626 - val_loss: 1.8807 - val_accuracy: 0.5119\n",
      "\n",
      "Epoch 00022: loss improved from 1.55084 to 1.54939, saving model to ../models/lstm_normalised__W_20_lr_0_01_epochs=50_batch_128.h5\n",
      "Epoch 23/50\n",
      "283806/283806 [==============================] - 61s 215us/step - loss: 1.5450 - accuracy: 0.5643 - val_loss: 1.8829 - val_accuracy: 0.5124\n",
      "\n",
      "Epoch 00023: loss improved from 1.54939 to 1.54497, saving model to ../models/lstm_normalised__W_20_lr_0_01_epochs=50_batch_128.h5\n",
      "Epoch 24/50\n",
      "283806/283806 [==============================] - 62s 217us/step - loss: 1.5421 - accuracy: 0.5650 - val_loss: 1.8788 - val_accuracy: 0.5195\n",
      "\n",
      "Epoch 00024: loss improved from 1.54497 to 1.54211, saving model to ../models/lstm_normalised__W_20_lr_0_01_epochs=50_batch_128.h5\n",
      "Epoch 25/50\n",
      "283806/283806 [==============================] - 60s 213us/step - loss: 1.5403 - accuracy: 0.5653 - val_loss: 1.8925 - val_accuracy: 0.5133\n",
      "\n",
      "Epoch 00025: loss improved from 1.54211 to 1.54033, saving model to ../models/lstm_normalised__W_20_lr_0_01_epochs=50_batch_128.h5\n",
      "Epoch 26/50\n"
     ]
    },
    {
     "name": "stdout",
     "output_type": "stream",
     "text": [
      "283806/283806 [==============================] - 61s 213us/step - loss: 1.5365 - accuracy: 0.5660 - val_loss: 1.8763 - val_accuracy: 0.5199\n",
      "\n",
      "Epoch 00026: loss improved from 1.54033 to 1.53653, saving model to ../models/lstm_normalised__W_20_lr_0_01_epochs=50_batch_128.h5\n",
      "Epoch 27/50\n",
      "283806/283806 [==============================] - 61s 214us/step - loss: 1.5355 - accuracy: 0.5667 - val_loss: 1.8740 - val_accuracy: 0.5175\n",
      "\n",
      "Epoch 00027: loss improved from 1.53653 to 1.53549, saving model to ../models/lstm_normalised__W_20_lr_0_01_epochs=50_batch_128.h5\n",
      "Epoch 28/50\n",
      "283806/283806 [==============================] - 62s 218us/step - loss: 1.5336 - accuracy: 0.5674 - val_loss: 1.8843 - val_accuracy: 0.5166\n",
      "\n",
      "Epoch 00028: loss improved from 1.53549 to 1.53355, saving model to ../models/lstm_normalised__W_20_lr_0_01_epochs=50_batch_128.h5\n",
      "Epoch 29/50\n",
      "283806/283806 [==============================] - 60s 211us/step - loss: 1.5277 - accuracy: 0.5676 - val_loss: 1.8872 - val_accuracy: 0.5147\n",
      "\n",
      "Epoch 00029: loss improved from 1.53355 to 1.52774, saving model to ../models/lstm_normalised__W_20_lr_0_01_epochs=50_batch_128.h5\n",
      "Epoch 30/50\n",
      "283806/283806 [==============================] - 60s 213us/step - loss: 1.5288 - accuracy: 0.5679 - val_loss: 1.8917 - val_accuracy: 0.5163\n",
      "\n",
      "Epoch 00030: loss did not improve from 1.52774\n",
      "Epoch 31/50\n",
      "283806/283806 [==============================] - 63s 223us/step - loss: 1.5278 - accuracy: 0.5685 - val_loss: 1.9091 - val_accuracy: 0.5173\n",
      "\n",
      "Epoch 00031: loss did not improve from 1.52774\n",
      "Epoch 32/50\n",
      "283806/283806 [==============================] - 61s 214us/step - loss: 1.5286 - accuracy: 0.5680 - val_loss: 1.8912 - val_accuracy: 0.5166\n",
      "\n",
      "Epoch 00032: loss did not improve from 1.52774\n",
      "Epoch 33/50\n",
      "283806/283806 [==============================] - 60s 210us/step - loss: 1.5397 - accuracy: 0.5652 - val_loss: 1.8932 - val_accuracy: 0.5228\n",
      "\n",
      "Epoch 00033: loss did not improve from 1.52774\n",
      "Epoch 34/50\n",
      "283806/283806 [==============================] - 58s 204us/step - loss: 1.5269 - accuracy: 0.5682 - val_loss: 1.8967 - val_accuracy: 0.5147\n",
      "\n",
      "Epoch 00034: loss improved from 1.52774 to 1.52692, saving model to ../models/lstm_normalised__W_20_lr_0_01_epochs=50_batch_128.h5\n",
      "Epoch 35/50\n",
      "283806/283806 [==============================] - 57s 203us/step - loss: 1.5277 - accuracy: 0.5690 - val_loss: 1.9160 - val_accuracy: 0.5083\n",
      "\n",
      "Epoch 00035: loss did not improve from 1.52692\n",
      "Epoch 36/50\n",
      "283806/283806 [==============================] - 59s 208us/step - loss: 1.5224 - accuracy: 0.5697 - val_loss: 1.8727 - val_accuracy: 0.5220\n",
      "\n",
      "Epoch 00036: loss improved from 1.52692 to 1.52238, saving model to ../models/lstm_normalised__W_20_lr_0_01_epochs=50_batch_128.h5\n",
      "Epoch 37/50\n",
      "283806/283806 [==============================] - 58s 205us/step - loss: 1.5185 - accuracy: 0.5708 - val_loss: 1.9033 - val_accuracy: 0.5200\n",
      "\n",
      "Epoch 00037: loss improved from 1.52238 to 1.51852, saving model to ../models/lstm_normalised__W_20_lr_0_01_epochs=50_batch_128.h5\n",
      "Epoch 38/50\n",
      "283806/283806 [==============================] - 59s 207us/step - loss: 1.5155 - accuracy: 0.5719 - val_loss: 1.8945 - val_accuracy: 0.5173\n",
      "\n",
      "Epoch 00038: loss improved from 1.51852 to 1.51552, saving model to ../models/lstm_normalised__W_20_lr_0_01_epochs=50_batch_128.h5\n",
      "Epoch 39/50\n",
      "283806/283806 [==============================] - 57s 200us/step - loss: 1.5179 - accuracy: 0.5708 - val_loss: 1.8935 - val_accuracy: 0.5131\n",
      "\n",
      "Epoch 00039: loss did not improve from 1.51552\n",
      "Epoch 40/50\n",
      "283806/283806 [==============================] - 57s 200us/step - loss: 1.5139 - accuracy: 0.5722 - val_loss: 1.8802 - val_accuracy: 0.5227\n",
      "\n",
      "Epoch 00040: loss improved from 1.51552 to 1.51387, saving model to ../models/lstm_normalised__W_20_lr_0_01_epochs=50_batch_128.h5\n",
      "Epoch 41/50\n",
      "283806/283806 [==============================] - 57s 201us/step - loss: 1.5150 - accuracy: 0.5725 - val_loss: 1.9099 - val_accuracy: 0.5109\n",
      "\n",
      "Epoch 00041: loss did not improve from 1.51387\n",
      "Epoch 42/50\n",
      "283806/283806 [==============================] - 57s 201us/step - loss: 1.5128 - accuracy: 0.5712 - val_loss: 1.9117 - val_accuracy: 0.5190\n",
      "\n",
      "Epoch 00042: loss improved from 1.51387 to 1.51277, saving model to ../models/lstm_normalised__W_20_lr_0_01_epochs=50_batch_128.h5\n",
      "Epoch 43/50\n",
      "283806/283806 [==============================] - 59s 209us/step - loss: 1.5113 - accuracy: 0.5720 - val_loss: 1.9262 - val_accuracy: 0.5164\n",
      "\n",
      "Epoch 00043: loss improved from 1.51277 to 1.51134, saving model to ../models/lstm_normalised__W_20_lr_0_01_epochs=50_batch_128.h5\n",
      "Epoch 44/50\n",
      "283806/283806 [==============================] - 59s 208us/step - loss: 1.5081 - accuracy: 0.5726 - val_loss: 1.8960 - val_accuracy: 0.5208\n",
      "\n",
      "Epoch 00044: loss improved from 1.51134 to 1.50805, saving model to ../models/lstm_normalised__W_20_lr_0_01_epochs=50_batch_128.h5\n",
      "Epoch 45/50\n",
      "283806/283806 [==============================] - 57s 202us/step - loss: 1.5085 - accuracy: 0.5732 - val_loss: 1.8906 - val_accuracy: 0.5208\n",
      "\n",
      "Epoch 00045: loss did not improve from 1.50805\n",
      "Epoch 46/50\n",
      "283806/283806 [==============================] - 61s 214us/step - loss: 1.5060 - accuracy: 0.5737 - val_loss: 1.9271 - val_accuracy: 0.5194\n",
      "\n",
      "Epoch 00046: loss improved from 1.50805 to 1.50600, saving model to ../models/lstm_normalised__W_20_lr_0_01_epochs=50_batch_128.h5\n",
      "Epoch 47/50\n",
      "283806/283806 [==============================] - 66s 234us/step - loss: 1.5044 - accuracy: 0.5733 - val_loss: 1.9226 - val_accuracy: 0.5177\n",
      "\n",
      "Epoch 00047: loss improved from 1.50600 to 1.50443, saving model to ../models/lstm_normalised__W_20_lr_0_01_epochs=50_batch_128.h5\n",
      "Epoch 48/50\n",
      "283806/283806 [==============================] - 67s 235us/step - loss: 2.0897 - accuracy: 0.4280 - val_loss: 2.4691 - val_accuracy: 0.3613\n",
      "\n",
      "Epoch 00048: loss did not improve from 1.50443\n",
      "Epoch 49/50\n",
      "283806/283806 [==============================] - 68s 240us/step - loss: 2.2607 - accuracy: 0.3759 - val_loss: 2.3062 - val_accuracy: 0.3945\n",
      "\n",
      "Epoch 00049: loss did not improve from 1.50443\n",
      "Epoch 50/50\n",
      "283806/283806 [==============================] - 67s 237us/step - loss: 2.1263 - accuracy: 0.4108 - val_loss: 2.2111 - val_accuracy: 0.4230\n",
      "\n",
      "Epoch 00050: loss did not improve from 1.50443\n"
     ]
    },
    {
     "data": {
      "image/png": "[encoded data removed]",
      "text/plain": [
       "<Figure size 432x288 with 1 Axes>"
      ]
     },
     "metadata": {},
     "output_type": "display_data"
    },
    {
     "name": "stdout",
     "output_type": "stream",
     "text": [
      "For Data: encoded normalised chords. W=20\n",
      "Each X has a length of 20\n",
      "Each Y has a length of 805\n",
      "len(X)=315340\n",
      "len(Y)=315340\n",
      "Model: \"sequential_13\"\n",
      "_________________________________________________________________\n",
      "Layer (type)                 Output Shape              Param #   \n",
      "=================================================================\n",
      "embedding_13 (Embedding)     (None, 20, 20)            16100     \n",
      "_________________________________________________________________\n",
      "lstm_25 (LSTM)               (None, 20, 50)            14200     \n",
      "_________________________________________________________________\n",
      "lstm_26 (LSTM)               (None, 50)                20200     \n",
      "_________________________________________________________________\n",
      "dense_25 (Dense)             (None, 50)                2550      \n",
      "_________________________________________________________________\n",
      "dense_26 (Dense)             (None, 805)               41055     \n",
      "=================================================================\n",
      "Total params: 94,105\n",
      "Trainable params: 94,105\n",
      "Non-trainable params: 0\n",
      "_________________________________________________________________\n",
      "Model will be saved to ../models/lstm_normalised__W_20_lr_0_001_epochs=50_batch_128.h5\n",
      "Train on 283806 samples, validate on 31534 samples\n",
      "Epoch 1/50\n",
      "283806/283806 [==============================] - 68s 241us/step - loss: 2.6681 - accuracy: 0.2220 - val_loss: 2.4418 - val_accuracy: 0.2510\n",
      "\n",
      "Epoch 00001: loss improved from inf to 2.66814, saving model to ../models/lstm_normalised__W_20_lr_0_001_epochs=50_batch_128.h5\n",
      "Epoch 2/50\n",
      "283806/283806 [==============================] - 65s 230us/step - loss: 2.2490 - accuracy: 0.2986 - val_loss: 2.1721 - val_accuracy: 0.3662\n",
      "\n",
      "Epoch 00002: loss improved from 2.66814 to 2.24897, saving model to ../models/lstm_normalised__W_20_lr_0_001_epochs=50_batch_128.h5\n",
      "Epoch 3/50\n",
      "283806/283806 [==============================] - 66s 231us/step - loss: 2.0033 - accuracy: 0.4216 - val_loss: 2.0045 - val_accuracy: 0.4491\n",
      "\n",
      "Epoch 00003: loss improved from 2.24897 to 2.00326, saving model to ../models/lstm_normalised__W_20_lr_0_001_epochs=50_batch_128.h5\n",
      "Epoch 4/50\n",
      "283806/283806 [==============================] - 67s 237us/step - loss: 1.8726 - accuracy: 0.4695 - val_loss: 1.9275 - val_accuracy: 0.4697\n",
      "\n",
      "Epoch 00004: loss improved from 2.00326 to 1.87264, saving model to ../models/lstm_normalised__W_20_lr_0_001_epochs=50_batch_128.h5\n",
      "Epoch 5/50\n",
      "283806/283806 [==============================] - 67s 236us/step - loss: 1.7928 - accuracy: 0.4927 - val_loss: 1.8847 - val_accuracy: 0.4838\n",
      "\n",
      "Epoch 00005: loss improved from 1.87264 to 1.79277, saving model to ../models/lstm_normalised__W_20_lr_0_001_epochs=50_batch_128.h5\n",
      "Epoch 6/50\n",
      "283806/283806 [==============================] - 68s 238us/step - loss: 1.7334 - accuracy: 0.5096 - val_loss: 1.8373 - val_accuracy: 0.5041\n",
      "\n",
      "Epoch 00006: loss improved from 1.79277 to 1.73339, saving model to ../models/lstm_normalised__W_20_lr_0_001_epochs=50_batch_128.h5\n",
      "Epoch 7/50\n",
      "283806/283806 [==============================] - 69s 243us/step - loss: 1.6879 - accuracy: 0.5230 - val_loss: 1.8186 - val_accuracy: 0.5047\n",
      "\n",
      "Epoch 00007: loss improved from 1.73339 to 1.68791, saving model to ../models/lstm_normalised__W_20_lr_0_001_epochs=50_batch_128.h5\n",
      "Epoch 8/50\n",
      "283806/283806 [==============================] - 68s 240us/step - loss: 1.6516 - accuracy: 0.5322 - val_loss: 1.8001 - val_accuracy: 0.5143\n",
      "\n",
      "Epoch 00008: loss improved from 1.68791 to 1.65160, saving model to ../models/lstm_normalised__W_20_lr_0_001_epochs=50_batch_128.h5\n",
      "Epoch 9/50\n",
      "283806/283806 [==============================] - 69s 242us/step - loss: 1.6218 - accuracy: 0.5409 - val_loss: 1.7840 - val_accuracy: 0.5166\n",
      "\n",
      "Epoch 00009: loss improved from 1.65160 to 1.62176, saving model to ../models/lstm_normalised__W_20_lr_0_001_epochs=50_batch_128.h5\n",
      "Epoch 10/50\n",
      "283806/283806 [==============================] - 69s 244us/step - loss: 1.5959 - accuracy: 0.5482 - val_loss: 1.7794 - val_accuracy: 0.5198\n",
      "\n",
      "Epoch 00010: loss improved from 1.62176 to 1.59589, saving model to ../models/lstm_normalised__W_20_lr_0_001_epochs=50_batch_128.h5\n",
      "Epoch 11/50\n",
      "283806/283806 [==============================] - 70s 245us/step - loss: 1.5737 - accuracy: 0.5542 - val_loss: 1.7767 - val_accuracy: 0.5271\n",
      "\n",
      "Epoch 00011: loss improved from 1.59589 to 1.57366, saving model to ../models/lstm_normalised__W_20_lr_0_001_epochs=50_batch_128.h5\n",
      "Epoch 12/50\n",
      "283806/283806 [==============================] - 69s 243us/step - loss: 1.5541 - accuracy: 0.5588 - val_loss: 1.7713 - val_accuracy: 0.5277\n",
      "\n",
      "Epoch 00012: loss improved from 1.57366 to 1.55411, saving model to ../models/lstm_normalised__W_20_lr_0_001_epochs=50_batch_128.h5\n",
      "Epoch 13/50\n",
      "283806/283806 [==============================] - 70s 246us/step - loss: 1.5362 - accuracy: 0.5636 - val_loss: 1.7609 - val_accuracy: 0.5317\n",
      "\n",
      "Epoch 00013: loss improved from 1.55411 to 1.53623, saving model to ../models/lstm_normalised__W_20_lr_0_001_epochs=50_batch_128.h5\n",
      "Epoch 14/50\n",
      "283806/283806 [==============================] - 69s 243us/step - loss: 1.5200 - accuracy: 0.5678 - val_loss: 1.7637 - val_accuracy: 0.5323\n",
      "\n",
      "Epoch 00014: loss improved from 1.53623 to 1.51999, saving model to ../models/lstm_normalised__W_20_lr_0_001_epochs=50_batch_128.h5\n",
      "Epoch 15/50\n",
      "283806/283806 [==============================] - 70s 246us/step - loss: 1.5058 - accuracy: 0.5713 - val_loss: 1.7607 - val_accuracy: 0.5342\n",
      "\n",
      "Epoch 00015: loss improved from 1.51999 to 1.50578, saving model to ../models/lstm_normalised__W_20_lr_0_001_epochs=50_batch_128.h5\n",
      "Epoch 16/50\n",
      "283806/283806 [==============================] - 69s 243us/step - loss: 1.4924 - accuracy: 0.5752 - val_loss: 1.7604 - val_accuracy: 0.5359\n",
      "\n",
      "Epoch 00016: loss improved from 1.50578 to 1.49238, saving model to ../models/lstm_normalised__W_20_lr_0_001_epochs=50_batch_128.h5\n",
      "Epoch 17/50\n",
      "283806/283806 [==============================] - 70s 248us/step - loss: 1.4801 - accuracy: 0.5777 - val_loss: 1.7638 - val_accuracy: 0.5360\n",
      "\n",
      "Epoch 00017: loss improved from 1.49238 to 1.48013, saving model to ../models/lstm_normalised__W_20_lr_0_001_epochs=50_batch_128.h5\n",
      "Epoch 18/50\n",
      "283806/283806 [==============================] - 71s 250us/step - loss: 1.4692 - accuracy: 0.5805 - val_loss: 1.7673 - val_accuracy: 0.5339\n",
      "\n",
      "Epoch 00018: loss improved from 1.48013 to 1.46918, saving model to ../models/lstm_normalised__W_20_lr_0_001_epochs=50_batch_128.h5\n",
      "Epoch 19/50\n",
      "283806/283806 [==============================] - 69s 245us/step - loss: 1.4586 - accuracy: 0.5832 - val_loss: 1.7740 - val_accuracy: 0.5375\n",
      "\n",
      "Epoch 00019: loss improved from 1.46918 to 1.45863, saving model to ../models/lstm_normalised__W_20_lr_0_001_epochs=50_batch_128.h5\n",
      "Epoch 20/50\n",
      "283806/283806 [==============================] - 70s 247us/step - loss: 1.4493 - accuracy: 0.5858 - val_loss: 1.7718 - val_accuracy: 0.5373\n",
      "\n",
      "Epoch 00020: loss improved from 1.45863 to 1.44932, saving model to ../models/lstm_normalised__W_20_lr_0_001_epochs=50_batch_128.h5\n",
      "Epoch 21/50\n",
      "283806/283806 [==============================] - 70s 247us/step - loss: 1.4402 - accuracy: 0.5876 - val_loss: 1.7760 - val_accuracy: 0.5387\n",
      "\n",
      "Epoch 00021: loss improved from 1.44932 to 1.44016, saving model to ../models/lstm_normalised__W_20_lr_0_001_epochs=50_batch_128.h5\n",
      "Epoch 22/50\n",
      "283806/283806 [==============================] - 70s 246us/step - loss: 1.4326 - accuracy: 0.5891 - val_loss: 1.7868 - val_accuracy: 0.5387\n",
      "\n",
      "Epoch 00022: loss improved from 1.44016 to 1.43259, saving model to ../models/lstm_normalised__W_20_lr_0_001_epochs=50_batch_128.h5\n",
      "Epoch 23/50\n",
      "283806/283806 [==============================] - 64s 227us/step - loss: 1.4249 - accuracy: 0.5919 - val_loss: 1.7817 - val_accuracy: 0.5401\n",
      "\n",
      "Epoch 00023: loss improved from 1.43259 to 1.42490, saving model to ../models/lstm_normalised__W_20_lr_0_001_epochs=50_batch_128.h5\n",
      "Epoch 24/50\n",
      "283806/283806 [==============================] - 62s 218us/step - loss: 1.4169 - accuracy: 0.5937 - val_loss: 1.7858 - val_accuracy: 0.5366\n",
      "\n",
      "Epoch 00024: loss improved from 1.42490 to 1.41687, saving model to ../models/lstm_normalised__W_20_lr_0_001_epochs=50_batch_128.h5\n",
      "Epoch 25/50\n"
     ]
    },
    {
     "name": "stdout",
     "output_type": "stream",
     "text": [
      "283806/283806 [==============================] - 66s 232us/step - loss: 1.4103 - accuracy: 0.5953 - val_loss: 1.7955 - val_accuracy: 0.5381\n",
      "\n",
      "Epoch 00025: loss improved from 1.41687 to 1.41026, saving model to ../models/lstm_normalised__W_20_lr_0_001_epochs=50_batch_128.h5\n",
      "Epoch 26/50\n",
      "283806/283806 [==============================] - 66s 232us/step - loss: 1.4040 - accuracy: 0.5970 - val_loss: 1.8009 - val_accuracy: 0.5380\n",
      "\n",
      "Epoch 00026: loss improved from 1.41026 to 1.40402, saving model to ../models/lstm_normalised__W_20_lr_0_001_epochs=50_batch_128.h5\n",
      "Epoch 27/50\n",
      "283806/283806 [==============================] - 67s 235us/step - loss: 1.3971 - accuracy: 0.5985 - val_loss: 1.8011 - val_accuracy: 0.5372\n",
      "\n",
      "Epoch 00027: loss improved from 1.40402 to 1.39714, saving model to ../models/lstm_normalised__W_20_lr_0_001_epochs=50_batch_128.h5\n",
      "Epoch 28/50\n",
      "283806/283806 [==============================] - 60s 212us/step - loss: 1.3915 - accuracy: 0.6011 - val_loss: 1.8051 - val_accuracy: 0.5393\n",
      "\n",
      "Epoch 00028: loss improved from 1.39714 to 1.39155, saving model to ../models/lstm_normalised__W_20_lr_0_001_epochs=50_batch_128.h5\n",
      "Epoch 29/50\n",
      "283806/283806 [==============================] - 62s 219us/step - loss: 1.3861 - accuracy: 0.6012 - val_loss: 1.8028 - val_accuracy: 0.5371\n",
      "\n",
      "Epoch 00029: loss improved from 1.39155 to 1.38613, saving model to ../models/lstm_normalised__W_20_lr_0_001_epochs=50_batch_128.h5\n",
      "Epoch 30/50\n",
      "283806/283806 [==============================] - 60s 213us/step - loss: 1.3804 - accuracy: 0.6034 - val_loss: 1.8207 - val_accuracy: 0.5349\n",
      "\n",
      "Epoch 00030: loss improved from 1.38613 to 1.38044, saving model to ../models/lstm_normalised__W_20_lr_0_001_epochs=50_batch_128.h5\n",
      "Epoch 31/50\n",
      "283806/283806 [==============================] - 60s 213us/step - loss: 1.3756 - accuracy: 0.6044 - val_loss: 1.8201 - val_accuracy: 0.5346\n",
      "\n",
      "Epoch 00031: loss improved from 1.38044 to 1.37563, saving model to ../models/lstm_normalised__W_20_lr_0_001_epochs=50_batch_128.h5\n",
      "Epoch 32/50\n",
      "283806/283806 [==============================] - 62s 219us/step - loss: 1.3706 - accuracy: 0.6058 - val_loss: 1.8395 - val_accuracy: 0.5351\n",
      "\n",
      "Epoch 00032: loss improved from 1.37563 to 1.37064, saving model to ../models/lstm_normalised__W_20_lr_0_001_epochs=50_batch_128.h5\n",
      "Epoch 33/50\n",
      "283806/283806 [==============================] - 61s 215us/step - loss: 1.3663 - accuracy: 0.6071 - val_loss: 1.8367 - val_accuracy: 0.5342\n",
      "\n",
      "Epoch 00033: loss improved from 1.37064 to 1.36627, saving model to ../models/lstm_normalised__W_20_lr_0_001_epochs=50_batch_128.h5\n",
      "Epoch 34/50\n",
      "283806/283806 [==============================] - 60s 212us/step - loss: 1.3614 - accuracy: 0.6072 - val_loss: 1.8402 - val_accuracy: 0.5332\n",
      "\n",
      "Epoch 00034: loss improved from 1.36627 to 1.36142, saving model to ../models/lstm_normalised__W_20_lr_0_001_epochs=50_batch_128.h5\n",
      "Epoch 35/50\n",
      "283806/283806 [==============================] - 61s 215us/step - loss: 1.3573 - accuracy: 0.6087 - val_loss: 1.8440 - val_accuracy: 0.5325\n",
      "\n",
      "Epoch 00035: loss improved from 1.36142 to 1.35732, saving model to ../models/lstm_normalised__W_20_lr_0_001_epochs=50_batch_128.h5\n",
      "Epoch 36/50\n",
      "283806/283806 [==============================] - 63s 223us/step - loss: 1.3534 - accuracy: 0.6097 - val_loss: 1.8450 - val_accuracy: 0.5321\n",
      "\n",
      "Epoch 00036: loss improved from 1.35732 to 1.35344, saving model to ../models/lstm_normalised__W_20_lr_0_001_epochs=50_batch_128.h5\n",
      "Epoch 37/50\n",
      "283806/283806 [==============================] - 64s 226us/step - loss: 1.3493 - accuracy: 0.6107 - val_loss: 1.8659 - val_accuracy: 0.5302\n",
      "\n",
      "Epoch 00037: loss improved from 1.35344 to 1.34932, saving model to ../models/lstm_normalised__W_20_lr_0_001_epochs=50_batch_128.h5\n",
      "Epoch 38/50\n",
      "283806/283806 [==============================] - 65s 229us/step - loss: 1.3459 - accuracy: 0.6116 - val_loss: 1.8661 - val_accuracy: 0.5309\n",
      "\n",
      "Epoch 00038: loss improved from 1.34932 to 1.34594, saving model to ../models/lstm_normalised__W_20_lr_0_001_epochs=50_batch_128.h5\n",
      "Epoch 39/50\n",
      "283806/283806 [==============================] - 67s 237us/step - loss: 1.3421 - accuracy: 0.6126 - val_loss: 1.8721 - val_accuracy: 0.5300\n",
      "\n",
      "Epoch 00039: loss improved from 1.34594 to 1.34207, saving model to ../models/lstm_normalised__W_20_lr_0_001_epochs=50_batch_128.h5\n",
      "Epoch 40/50\n",
      "283806/283806 [==============================] - 66s 231us/step - loss: 1.3381 - accuracy: 0.6135 - val_loss: 1.8718 - val_accuracy: 0.5297\n",
      "\n",
      "Epoch 00040: loss improved from 1.34207 to 1.33813, saving model to ../models/lstm_normalised__W_20_lr_0_001_epochs=50_batch_128.h5\n",
      "Epoch 41/50\n",
      "283806/283806 [==============================] - 67s 237us/step - loss: 1.3344 - accuracy: 0.6138 - val_loss: 1.8876 - val_accuracy: 0.5308\n",
      "\n",
      "Epoch 00041: loss improved from 1.33813 to 1.33438, saving model to ../models/lstm_normalised__W_20_lr_0_001_epochs=50_batch_128.h5\n",
      "Epoch 42/50\n",
      "283806/283806 [==============================] - 65s 231us/step - loss: 1.3318 - accuracy: 0.6142 - val_loss: 1.8858 - val_accuracy: 0.5264\n",
      "\n",
      "Epoch 00042: loss improved from 1.33438 to 1.33180, saving model to ../models/lstm_normalised__W_20_lr_0_001_epochs=50_batch_128.h5\n",
      "Epoch 43/50\n",
      "283806/283806 [==============================] - 64s 224us/step - loss: 1.3285 - accuracy: 0.6155 - val_loss: 1.8956 - val_accuracy: 0.5268\n",
      "\n",
      "Epoch 00043: loss improved from 1.33180 to 1.32853, saving model to ../models/lstm_normalised__W_20_lr_0_001_epochs=50_batch_128.h5\n",
      "Epoch 44/50\n",
      "283806/283806 [==============================] - 60s 212us/step - loss: 1.3256 - accuracy: 0.6164 - val_loss: 1.9017 - val_accuracy: 0.5256\n",
      "\n",
      "Epoch 00044: loss improved from 1.32853 to 1.32562, saving model to ../models/lstm_normalised__W_20_lr_0_001_epochs=50_batch_128.h5\n",
      "Epoch 45/50\n",
      "283806/283806 [==============================] - 61s 216us/step - loss: 1.3222 - accuracy: 0.6174 - val_loss: 1.9066 - val_accuracy: 0.5238\n",
      "\n",
      "Epoch 00045: loss improved from 1.32562 to 1.32221, saving model to ../models/lstm_normalised__W_20_lr_0_001_epochs=50_batch_128.h5\n",
      "Epoch 46/50\n",
      "283806/283806 [==============================] - 61s 216us/step - loss: 1.3194 - accuracy: 0.6181 - val_loss: 1.9133 - val_accuracy: 0.5250\n",
      "\n",
      "Epoch 00046: loss improved from 1.32221 to 1.31936, saving model to ../models/lstm_normalised__W_20_lr_0_001_epochs=50_batch_128.h5\n",
      "Epoch 47/50\n",
      "283806/283806 [==============================] - 58s 205us/step - loss: 1.3168 - accuracy: 0.6189 - val_loss: 1.9144 - val_accuracy: 0.5241\n",
      "\n",
      "Epoch 00047: loss improved from 1.31936 to 1.31685, saving model to ../models/lstm_normalised__W_20_lr_0_001_epochs=50_batch_128.h5\n",
      "Epoch 48/50\n",
      "283806/283806 [==============================] - 58s 205us/step - loss: 1.3142 - accuracy: 0.6200 - val_loss: 1.9079 - val_accuracy: 0.5251\n",
      "\n",
      "Epoch 00048: loss improved from 1.31685 to 1.31420, saving model to ../models/lstm_normalised__W_20_lr_0_001_epochs=50_batch_128.h5\n",
      "Epoch 49/50\n",
      "283806/283806 [==============================] - 58s 205us/step - loss: 1.3114 - accuracy: 0.6190 - val_loss: 1.9202 - val_accuracy: 0.5206\n",
      "\n",
      "Epoch 00049: loss improved from 1.31420 to 1.31139, saving model to ../models/lstm_normalised__W_20_lr_0_001_epochs=50_batch_128.h5\n",
      "Epoch 50/50\n",
      "283806/283806 [==============================] - 58s 204us/step - loss: 1.3090 - accuracy: 0.6211 - val_loss: 1.9303 - val_accuracy: 0.5238\n",
      "\n",
      "Epoch 00050: loss improved from 1.31139 to 1.30896, saving model to ../models/lstm_normalised__W_20_lr_0_001_epochs=50_batch_128.h5\n"
     ]
    },
    {
     "data": {
      "image/png": "[encoded data removed]",
      "text/plain": [
       "<Figure size 432x288 with 1 Axes>"
      ]
     },
     "metadata": {},
     "output_type": "display_data"
    }
   ],
   "source": [
    "for learning_rate in learning_rates:\n",
    "    W = 20\n",
    "    epochs = 50\n",
    "    batch_size = 128\n",
    "    column_name ='encoded normalised chords'\n",
    "    input_data = arrange_data(column_name, W, vocab_size)\n",
    "    fit(input_data,learning_rate,epochs,batch_size)        \n",
    "    pyplot.show() \n",
    "            \n"
   ]
  },
  {
   "cell_type": "markdown",
   "metadata": {},
   "source": [
    "#### Learning rate 0.0005 "
   ]
  },
  {
   "cell_type": "code",
   "execution_count": 50,
   "metadata": {},
   "outputs": [
    {
     "name": "stdout",
     "output_type": "stream",
     "text": [
      "For Data: encoded normalised chords. W=20\n",
      "Each X has a length of 20\n",
      "Each Y has a length of 805\n",
      "len(X)=315340\n",
      "len(Y)=315340\n",
      "Model: \"sequential_14\"\n",
      "_________________________________________________________________\n",
      "Layer (type)                 Output Shape              Param #   \n",
      "=================================================================\n",
      "embedding_14 (Embedding)     (None, 20, 20)            16100     \n",
      "_________________________________________________________________\n",
      "lstm_27 (LSTM)               (None, 20, 50)            14200     \n",
      "_________________________________________________________________\n",
      "lstm_28 (LSTM)               (None, 50)                20200     \n",
      "_________________________________________________________________\n",
      "dense_27 (Dense)             (None, 50)                2550      \n",
      "_________________________________________________________________\n",
      "dense_28 (Dense)             (None, 805)               41055     \n",
      "=================================================================\n",
      "Total params: 94,105\n",
      "Trainable params: 94,105\n",
      "Non-trainable params: 0\n",
      "_________________________________________________________________\n",
      "Model will be saved to ../models/lstm_normalised__W_20_lr_0_0005_epochs=50_batch_128.h5\n",
      "Train on 283806 samples, validate on 31534 samples\n",
      "Epoch 1/50\n",
      "283806/283806 [==============================] - 66s 234us/step - loss: 2.7917 - accuracy: 0.2137 - val_loss: 2.5223 - val_accuracy: 0.2417\n",
      "\n",
      "Epoch 00001: loss improved from inf to 2.79167, saving model to ../models/lstm_normalised__W_20_lr_0_0005_epochs=50_batch_128.h5\n",
      "Epoch 2/50\n",
      "283806/283806 [==============================] - 90s 317us/step - loss: 2.3920 - accuracy: 0.2497 - val_loss: 2.3895 - val_accuracy: 0.2648\n",
      "\n",
      "Epoch 00002: loss improved from 2.79167 to 2.39197, saving model to ../models/lstm_normalised__W_20_lr_0_0005_epochs=50_batch_128.h5\n",
      "Epoch 3/50\n",
      "283806/283806 [==============================] - 69s 242us/step - loss: 2.2716 - accuracy: 0.2726 - val_loss: 2.2837 - val_accuracy: 0.2925\n",
      "\n",
      "Epoch 00003: loss improved from 2.39197 to 2.27162, saving model to ../models/lstm_normalised__W_20_lr_0_0005_epochs=50_batch_128.h5\n",
      "Epoch 4/50\n",
      "283806/283806 [==============================] - 66s 233us/step - loss: 2.1737 - accuracy: 0.3262 - val_loss: 2.1732 - val_accuracy: 0.3646\n",
      "\n",
      "Epoch 00004: loss improved from 2.27162 to 2.17369, saving model to ../models/lstm_normalised__W_20_lr_0_0005_epochs=50_batch_128.h5\n",
      "Epoch 5/50\n",
      "283806/283806 [==============================] - 68s 241us/step - loss: 2.0558 - accuracy: 0.3970 - val_loss: 2.0944 - val_accuracy: 0.4148\n",
      "\n",
      "Epoch 00005: loss improved from 2.17369 to 2.05579, saving model to ../models/lstm_normalised__W_20_lr_0_0005_epochs=50_batch_128.h5\n",
      "Epoch 6/50\n",
      "283806/283806 [==============================] - 68s 240us/step - loss: 1.9870 - accuracy: 0.4261 - val_loss: 2.0453 - val_accuracy: 0.4262\n",
      "\n",
      "Epoch 00006: loss improved from 2.05579 to 1.98704, saving model to ../models/lstm_normalised__W_20_lr_0_0005_epochs=50_batch_128.h5\n",
      "Epoch 7/50\n",
      "283806/283806 [==============================] - 68s 241us/step - loss: 1.9300 - accuracy: 0.4441 - val_loss: 1.9964 - val_accuracy: 0.4419\n",
      "\n",
      "Epoch 00007: loss improved from 1.98704 to 1.93004, saving model to ../models/lstm_normalised__W_20_lr_0_0005_epochs=50_batch_128.h5\n",
      "Epoch 8/50\n",
      "283806/283806 [==============================] - 66s 233us/step - loss: 1.8772 - accuracy: 0.4595 - val_loss: 1.9496 - val_accuracy: 0.4595\n",
      "\n",
      "Epoch 00008: loss improved from 1.93004 to 1.87723, saving model to ../models/lstm_normalised__W_20_lr_0_0005_epochs=50_batch_128.h5\n",
      "Epoch 9/50\n",
      "283806/283806 [==============================] - 62s 217us/step - loss: 1.8312 - accuracy: 0.4751 - val_loss: 1.9208 - val_accuracy: 0.4691\n",
      "\n",
      "Epoch 00009: loss improved from 1.87723 to 1.83121, saving model to ../models/lstm_normalised__W_20_lr_0_0005_epochs=50_batch_128.h5\n",
      "Epoch 10/50\n",
      "283806/283806 [==============================] - 68s 240us/step - loss: 1.7938 - accuracy: 0.4881 - val_loss: 1.8976 - val_accuracy: 0.4786\n",
      "\n",
      "Epoch 00010: loss improved from 1.83121 to 1.79377, saving model to ../models/lstm_normalised__W_20_lr_0_0005_epochs=50_batch_128.h5\n",
      "Epoch 11/50\n",
      "283806/283806 [==============================] - 76s 268us/step - loss: 1.7621 - accuracy: 0.4984 - val_loss: 1.8748 - val_accuracy: 0.4898\n",
      "\n",
      "Epoch 00011: loss improved from 1.79377 to 1.76208, saving model to ../models/lstm_normalised__W_20_lr_0_0005_epochs=50_batch_128.h5\n",
      "Epoch 12/50\n",
      "283806/283806 [==============================] - 79s 280us/step - loss: 1.7349 - accuracy: 0.5059 - val_loss: 1.8679 - val_accuracy: 0.4881\n",
      "\n",
      "Epoch 00012: loss improved from 1.76208 to 1.73488, saving model to ../models/lstm_normalised__W_20_lr_0_0005_epochs=50_batch_128.h5\n",
      "Epoch 13/50\n",
      "283806/283806 [==============================] - 69s 243us/step - loss: 1.7118 - accuracy: 0.5122 - val_loss: 1.8461 - val_accuracy: 0.4997\n",
      "\n",
      "Epoch 00013: loss improved from 1.73488 to 1.71181, saving model to ../models/lstm_normalised__W_20_lr_0_0005_epochs=50_batch_128.h5\n",
      "Epoch 14/50\n",
      "283806/283806 [==============================] - 65s 231us/step - loss: 1.6898 - accuracy: 0.5190 - val_loss: 1.8264 - val_accuracy: 0.5018\n",
      "\n",
      "Epoch 00014: loss improved from 1.71181 to 1.68983, saving model to ../models/lstm_normalised__W_20_lr_0_0005_epochs=50_batch_128.h5\n",
      "Epoch 15/50\n",
      "283806/283806 [==============================] - 66s 232us/step - loss: 1.6707 - accuracy: 0.5247 - val_loss: 1.8241 - val_accuracy: 0.5076\n",
      "\n",
      "Epoch 00015: loss improved from 1.68983 to 1.67070, saving model to ../models/lstm_normalised__W_20_lr_0_0005_epochs=50_batch_128.h5\n",
      "Epoch 16/50\n",
      "283806/283806 [==============================] - 62s 218us/step - loss: 1.6538 - accuracy: 0.5299 - val_loss: 1.8140 - val_accuracy: 0.5106\n",
      "\n",
      "Epoch 00016: loss improved from 1.67070 to 1.65379, saving model to ../models/lstm_normalised__W_20_lr_0_0005_epochs=50_batch_128.h5\n",
      "Epoch 17/50\n",
      "283806/283806 [==============================] - 62s 219us/step - loss: 1.6378 - accuracy: 0.5336 - val_loss: 1.8061 - val_accuracy: 0.5144\n",
      "\n",
      "Epoch 00017: loss improved from 1.65379 to 1.63785, saving model to ../models/lstm_normalised__W_20_lr_0_0005_epochs=50_batch_128.h5\n",
      "Epoch 18/50\n",
      "283806/283806 [==============================] - 62s 217us/step - loss: 1.6232 - accuracy: 0.5378 - val_loss: 1.8000 - val_accuracy: 0.5176\n",
      "\n",
      "Epoch 00018: loss improved from 1.63785 to 1.62322, saving model to ../models/lstm_normalised__W_20_lr_0_0005_epochs=50_batch_128.h5\n",
      "Epoch 19/50\n",
      "283806/283806 [==============================] - 63s 221us/step - loss: 1.6102 - accuracy: 0.5414 - val_loss: 1.8026 - val_accuracy: 0.5162\n",
      "\n",
      "Epoch 00019: loss improved from 1.62322 to 1.61017, saving model to ../models/lstm_normalised__W_20_lr_0_0005_epochs=50_batch_128.h5\n",
      "Epoch 20/50\n",
      "283806/283806 [==============================] - 60s 213us/step - loss: 1.5976 - accuracy: 0.5449 - val_loss: 1.7984 - val_accuracy: 0.5213\n",
      "\n",
      "Epoch 00020: loss improved from 1.61017 to 1.59763, saving model to ../models/lstm_normalised__W_20_lr_0_0005_epochs=50_batch_128.h5\n",
      "Epoch 21/50\n",
      "283806/283806 [==============================] - 61s 213us/step - loss: 1.5860 - accuracy: 0.5481 - val_loss: 1.7871 - val_accuracy: 0.5212\n",
      "\n",
      "Epoch 00021: loss improved from 1.59763 to 1.58601, saving model to ../models/lstm_normalised__W_20_lr_0_0005_epochs=50_batch_128.h5\n",
      "Epoch 22/50\n",
      "283806/283806 [==============================] - 62s 219us/step - loss: 1.5746 - accuracy: 0.5511 - val_loss: 1.7894 - val_accuracy: 0.5239\n",
      "\n",
      "Epoch 00022: loss improved from 1.58601 to 1.57463, saving model to ../models/lstm_normalised__W_20_lr_0_0005_epochs=50_batch_128.h5\n",
      "Epoch 23/50\n",
      "283806/283806 [==============================] - 64s 225us/step - loss: 1.5640 - accuracy: 0.5543 - val_loss: 1.7871 - val_accuracy: 0.5262\n",
      "\n",
      "Epoch 00023: loss improved from 1.57463 to 1.56397, saving model to ../models/lstm_normalised__W_20_lr_0_0005_epochs=50_batch_128.h5\n",
      "Epoch 24/50\n",
      "283806/283806 [==============================] - 63s 221us/step - loss: 1.5546 - accuracy: 0.5569 - val_loss: 1.7839 - val_accuracy: 0.5283\n",
      "\n",
      "Epoch 00024: loss improved from 1.56397 to 1.55464, saving model to ../models/lstm_normalised__W_20_lr_0_0005_epochs=50_batch_128.h5\n",
      "Epoch 25/50\n"
     ]
    },
    {
     "name": "stdout",
     "output_type": "stream",
     "text": [
      "283806/283806 [==============================] - 61s 214us/step - loss: 1.5453 - accuracy: 0.5598 - val_loss: 1.7871 - val_accuracy: 0.5247\n",
      "\n",
      "Epoch 00025: loss improved from 1.55464 to 1.54531, saving model to ../models/lstm_normalised__W_20_lr_0_0005_epochs=50_batch_128.h5\n",
      "Epoch 26/50\n",
      "283806/283806 [==============================] - 60s 213us/step - loss: 1.5360 - accuracy: 0.5617 - val_loss: 1.7891 - val_accuracy: 0.5229\n",
      "\n",
      "Epoch 00026: loss improved from 1.54531 to 1.53603, saving model to ../models/lstm_normalised__W_20_lr_0_0005_epochs=50_batch_128.h5\n",
      "Epoch 27/50\n",
      "283806/283806 [==============================] - 61s 215us/step - loss: 1.5279 - accuracy: 0.5637 - val_loss: 1.7833 - val_accuracy: 0.5303\n",
      "\n",
      "Epoch 00027: loss improved from 1.53603 to 1.52787, saving model to ../models/lstm_normalised__W_20_lr_0_0005_epochs=50_batch_128.h5\n",
      "Epoch 28/50\n",
      "283806/283806 [==============================] - 62s 217us/step - loss: 1.5195 - accuracy: 0.5662 - val_loss: 1.7842 - val_accuracy: 0.5325\n",
      "\n",
      "Epoch 00028: loss improved from 1.52787 to 1.51951, saving model to ../models/lstm_normalised__W_20_lr_0_0005_epochs=50_batch_128.h5\n",
      "Epoch 29/50\n",
      "283806/283806 [==============================] - 62s 217us/step - loss: 1.5122 - accuracy: 0.5684 - val_loss: 1.7772 - val_accuracy: 0.5317\n",
      "\n",
      "Epoch 00029: loss improved from 1.51951 to 1.51218, saving model to ../models/lstm_normalised__W_20_lr_0_0005_epochs=50_batch_128.h5\n",
      "Epoch 30/50\n",
      "283806/283806 [==============================] - 61s 213us/step - loss: 1.5047 - accuracy: 0.5707 - val_loss: 1.7829 - val_accuracy: 0.5317\n",
      "\n",
      "Epoch 00030: loss improved from 1.51218 to 1.50472, saving model to ../models/lstm_normalised__W_20_lr_0_0005_epochs=50_batch_128.h5\n",
      "Epoch 31/50\n",
      "283806/283806 [==============================] - 64s 227us/step - loss: 1.4971 - accuracy: 0.5724 - val_loss: 1.7831 - val_accuracy: 0.5313\n",
      "\n",
      "Epoch 00031: loss improved from 1.50472 to 1.49710, saving model to ../models/lstm_normalised__W_20_lr_0_0005_epochs=50_batch_128.h5\n",
      "Epoch 32/50\n",
      "283806/283806 [==============================] - 61s 215us/step - loss: 1.4909 - accuracy: 0.5742 - val_loss: 1.7738 - val_accuracy: 0.5336\n",
      "\n",
      "Epoch 00032: loss improved from 1.49710 to 1.49093, saving model to ../models/lstm_normalised__W_20_lr_0_0005_epochs=50_batch_128.h5\n",
      "Epoch 33/50\n",
      "283806/283806 [==============================] - 58s 205us/step - loss: 1.4842 - accuracy: 0.5757 - val_loss: 1.7830 - val_accuracy: 0.5333\n",
      "\n",
      "Epoch 00033: loss improved from 1.49093 to 1.48423, saving model to ../models/lstm_normalised__W_20_lr_0_0005_epochs=50_batch_128.h5\n",
      "Epoch 34/50\n",
      "283806/283806 [==============================] - 58s 205us/step - loss: 1.4781 - accuracy: 0.5775 - val_loss: 1.7817 - val_accuracy: 0.5322\n",
      "\n",
      "Epoch 00034: loss improved from 1.48423 to 1.47814, saving model to ../models/lstm_normalised__W_20_lr_0_0005_epochs=50_batch_128.h5\n",
      "Epoch 35/50\n",
      "283806/283806 [==============================] - 58s 203us/step - loss: 1.4719 - accuracy: 0.5785 - val_loss: 1.7845 - val_accuracy: 0.5311\n",
      "\n",
      "Epoch 00035: loss improved from 1.47814 to 1.47188, saving model to ../models/lstm_normalised__W_20_lr_0_0005_epochs=50_batch_128.h5\n",
      "Epoch 36/50\n",
      "283806/283806 [==============================] - 60s 210us/step - loss: 1.4668 - accuracy: 0.5802 - val_loss: 1.7845 - val_accuracy: 0.5351\n",
      "\n",
      "Epoch 00036: loss improved from 1.47188 to 1.46676, saving model to ../models/lstm_normalised__W_20_lr_0_0005_epochs=50_batch_128.h5\n",
      "Epoch 37/50\n",
      "283806/283806 [==============================] - 58s 205us/step - loss: 1.4613 - accuracy: 0.5815 - val_loss: 1.7864 - val_accuracy: 0.5355\n",
      "\n",
      "Epoch 00037: loss improved from 1.46676 to 1.46129, saving model to ../models/lstm_normalised__W_20_lr_0_0005_epochs=50_batch_128.h5\n",
      "Epoch 38/50\n",
      "283806/283806 [==============================] - 58s 206us/step - loss: 1.4559 - accuracy: 0.5828 - val_loss: 1.7860 - val_accuracy: 0.5342\n",
      "\n",
      "Epoch 00038: loss improved from 1.46129 to 1.45590, saving model to ../models/lstm_normalised__W_20_lr_0_0005_epochs=50_batch_128.h5\n",
      "Epoch 39/50\n",
      "283806/283806 [==============================] - 58s 205us/step - loss: 1.4511 - accuracy: 0.5848 - val_loss: 1.7877 - val_accuracy: 0.5347\n",
      "\n",
      "Epoch 00039: loss improved from 1.45590 to 1.45106, saving model to ../models/lstm_normalised__W_20_lr_0_0005_epochs=50_batch_128.h5\n",
      "Epoch 40/50\n",
      "283806/283806 [==============================] - 58s 205us/step - loss: 1.4465 - accuracy: 0.5857 - val_loss: 1.7886 - val_accuracy: 0.5342\n",
      "\n",
      "Epoch 00040: loss improved from 1.45106 to 1.44647, saving model to ../models/lstm_normalised__W_20_lr_0_0005_epochs=50_batch_128.h5\n",
      "Epoch 41/50\n",
      "283806/283806 [==============================] - 59s 206us/step - loss: 1.4419 - accuracy: 0.5867 - val_loss: 1.7918 - val_accuracy: 0.5378\n",
      "\n",
      "Epoch 00041: loss improved from 1.44647 to 1.44193, saving model to ../models/lstm_normalised__W_20_lr_0_0005_epochs=50_batch_128.h5\n",
      "Epoch 42/50\n",
      "283806/283806 [==============================] - 58s 205us/step - loss: 1.4369 - accuracy: 0.5879 - val_loss: 1.7902 - val_accuracy: 0.5349\n",
      "\n",
      "Epoch 00042: loss improved from 1.44193 to 1.43688, saving model to ../models/lstm_normalised__W_20_lr_0_0005_epochs=50_batch_128.h5\n",
      "Epoch 43/50\n",
      "283806/283806 [==============================] - 59s 206us/step - loss: 1.4329 - accuracy: 0.5891 - val_loss: 1.7987 - val_accuracy: 0.5346\n",
      "\n",
      "Epoch 00043: loss improved from 1.43688 to 1.43286, saving model to ../models/lstm_normalised__W_20_lr_0_0005_epochs=50_batch_128.h5\n",
      "Epoch 44/50\n",
      "283806/283806 [==============================] - 58s 205us/step - loss: 1.4288 - accuracy: 0.5903 - val_loss: 1.8003 - val_accuracy: 0.5345\n",
      "\n",
      "Epoch 00044: loss improved from 1.43286 to 1.42884, saving model to ../models/lstm_normalised__W_20_lr_0_0005_epochs=50_batch_128.h5\n",
      "Epoch 45/50\n",
      "283806/283806 [==============================] - 59s 207us/step - loss: 1.4243 - accuracy: 0.5912 - val_loss: 1.8017 - val_accuracy: 0.5382\n",
      "\n",
      "Epoch 00045: loss improved from 1.42884 to 1.42429, saving model to ../models/lstm_normalised__W_20_lr_0_0005_epochs=50_batch_128.h5\n",
      "Epoch 46/50\n",
      "283806/283806 [==============================] - 58s 205us/step - loss: 1.4206 - accuracy: 0.5921 - val_loss: 1.8076 - val_accuracy: 0.5365\n",
      "\n",
      "Epoch 00046: loss improved from 1.42429 to 1.42056, saving model to ../models/lstm_normalised__W_20_lr_0_0005_epochs=50_batch_128.h5\n",
      "Epoch 47/50\n",
      "283806/283806 [==============================] - 58s 204us/step - loss: 1.4169 - accuracy: 0.5930 - val_loss: 1.8084 - val_accuracy: 0.5365\n",
      "\n",
      "Epoch 00047: loss improved from 1.42056 to 1.41694, saving model to ../models/lstm_normalised__W_20_lr_0_0005_epochs=50_batch_128.h5\n",
      "Epoch 48/50\n",
      "283806/283806 [==============================] - 58s 204us/step - loss: 1.4130 - accuracy: 0.5943 - val_loss: 1.8044 - val_accuracy: 0.5350\n",
      "\n",
      "Epoch 00048: loss improved from 1.41694 to 1.41299, saving model to ../models/lstm_normalised__W_20_lr_0_0005_epochs=50_batch_128.h5\n",
      "Epoch 49/50\n",
      "283806/283806 [==============================] - 58s 205us/step - loss: 1.4091 - accuracy: 0.5952 - val_loss: 1.8093 - val_accuracy: 0.5346\n",
      "\n",
      "Epoch 00049: loss improved from 1.41299 to 1.40909, saving model to ../models/lstm_normalised__W_20_lr_0_0005_epochs=50_batch_128.h5\n",
      "Epoch 50/50\n",
      "283806/283806 [==============================] - 58s 203us/step - loss: 1.4054 - accuracy: 0.5962 - val_loss: 1.8107 - val_accuracy: 0.5357\n",
      "\n",
      "Epoch 00050: loss improved from 1.40909 to 1.40541, saving model to ../models/lstm_normalised__W_20_lr_0_0005_epochs=50_batch_128.h5\n"
     ]
    },
    {
     "data": {
      "image/png": "[encoded data removed]",
      "text/plain": [
       "<Figure size 432x288 with 1 Axes>"
      ]
     },
     "metadata": {},
     "output_type": "display_data"
    }
   ],
   "source": [
    "W = 20\n",
    "epochs = 50\n",
    "batch_size = 128\n",
    "column_name ='encoded normalised chords'\n",
    "input_data = arrange_data(column_name, W, vocab_size)\n",
    "fit(input_data,0.0005,epochs,batch_size)        \n",
    "pyplot.show() "
   ]
  }
 ],
 "metadata": {
  "kernelspec": {
   "display_name": "Python 3",
   "language": "python",
   "name": "python3"
  },
  "language_info": {
   "codemirror_mode": {
    "name": "ipython",
    "version": 3
   },
   "file_extension": ".py",
   "mimetype": "text/x-python",
   "name": "python",
   "nbconvert_exporter": "python",
   "pygments_lexer": "ipython3",
   "version": "3.7.5"
  },
  "toc": {
   "base_numbering": 1,
   "nav_menu": {},
   "number_sections": true,
   "sideBar": true,
   "skip_h1_title": false,
   "title_cell": "Table of Contents",
   "title_sidebar": "Contents",
   "toc_cell": false,
   "toc_position": {},
   "toc_section_display": true,
   "toc_window_display": false
  }
 },
 "nbformat": 4,
 "nbformat_minor": 2
}
