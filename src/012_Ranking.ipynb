{
 "cells": [
  {
   "cell_type": "code",
   "execution_count": 1,
   "metadata": {},
   "outputs": [],
   "source": [
    "from jl_song_data import SongData"
   ]
  },
  {
   "cell_type": "code",
   "execution_count": 2,
   "metadata": {},
   "outputs": [],
   "source": [
    "data = SongData(initial_data_path='../data/chords.csv')"
   ]
  },
  {
   "cell_type": "code",
   "execution_count": 3,
   "metadata": {},
   "outputs": [
    {
     "data": {
      "text/plain": [
       "<jl_song_data.SongData at 0x11ff4f790>"
      ]
     },
     "execution_count": 3,
     "metadata": {},
     "output_type": "execute_result"
    }
   ],
   "source": [
    "data"
   ]
  },
  {
   "cell_type": "code",
   "execution_count": 5,
   "metadata": {},
   "outputs": [
    {
     "data": {
      "text/html": [
       "<div>\n",
       "<style scoped>\n",
       "    .dataframe tbody tr th:only-of-type {\n",
       "        vertical-align: middle;\n",
       "    }\n",
       "\n",
       "    .dataframe tbody tr th {\n",
       "        vertical-align: top;\n",
       "    }\n",
       "\n",
       "    .dataframe thead th {\n",
       "        text-align: right;\n",
       "    }\n",
       "</style>\n",
       "<table border=\"1\" class=\"dataframe\">\n",
       "  <thead>\n",
       "    <tr style=\"text-align: right;\">\n",
       "      <th></th>\n",
       "      <th>index</th>\n",
       "      <th>url</th>\n",
       "      <th>name</th>\n",
       "      <th>genre</th>\n",
       "      <th>decade</th>\n",
       "      <th>chords</th>\n",
       "      <th>uuid</th>\n",
       "    </tr>\n",
       "  </thead>\n",
       "  <tbody>\n",
       "    <tr>\n",
       "      <td>0</td>\n",
       "      <td>0</td>\n",
       "      <td>https://tabs.ultimate-guitar.com/tab/kodaline/...</td>\n",
       "      <td>All I Want</td>\n",
       "      <td>Rock</td>\n",
       "      <td>2010s</td>\n",
       "      <td>['C', 'F', 'C', 'G/B', 'Am', 'F', 'C', 'F', 'C...</td>\n",
       "      <td>62d4ec07-9d59-4e00-a312-e98ce4f3b2fd</td>\n",
       "    </tr>\n",
       "    <tr>\n",
       "      <td>1</td>\n",
       "      <td>1</td>\n",
       "      <td>https://tabs.ultimate-guitar.com/tab/hozier/ta...</td>\n",
       "      <td>Take Me To Church (ver 2)</td>\n",
       "      <td>Rock</td>\n",
       "      <td>2010s</td>\n",
       "      <td>['F#', 'Em', 'Am', 'Em', 'Am', 'G', 'Am', 'Em'...</td>\n",
       "      <td>30af0a56-524d-49b7-ac65-be4caddbe097</td>\n",
       "    </tr>\n",
       "    <tr>\n",
       "      <td>2</td>\n",
       "      <td>2</td>\n",
       "      <td>https://tabs.ultimate-guitar.com/tab/imagine-d...</td>\n",
       "      <td>Radioactive</td>\n",
       "      <td>Rock</td>\n",
       "      <td>2010s</td>\n",
       "      <td>['G6sus2', 'Am', 'C', 'G6', 'G6sus2', 'Am', 'C...</td>\n",
       "      <td>672a1a12-3de2-4b68-bb17-55df130ce0e0</td>\n",
       "    </tr>\n",
       "    <tr>\n",
       "      <td>3</td>\n",
       "      <td>3</td>\n",
       "      <td>https://tabs.ultimate-guitar.com/tab/a_great_b...</td>\n",
       "      <td>Say Something (ver 3)</td>\n",
       "      <td>Rock</td>\n",
       "      <td>2010s</td>\n",
       "      <td>['Am', 'F', 'C', 'Gsus4', 'Am', 'F', 'C', 'Gsu...</td>\n",
       "      <td>9edbfa0f-6d6d-44a4-b3d7-189d33010e15</td>\n",
       "    </tr>\n",
       "    <tr>\n",
       "      <td>4</td>\n",
       "      <td>4</td>\n",
       "      <td>https://tabs.ultimate-guitar.com/tab/cage-the-...</td>\n",
       "      <td>Cigarette Daydreams</td>\n",
       "      <td>Rock</td>\n",
       "      <td>2010s</td>\n",
       "      <td>['D', 'Dmaj7', 'Em', 'G', 'A', 'D', 'Dmaj7', '...</td>\n",
       "      <td>eab426dd-9c57-4fad-b1b1-2b94601ff6ac</td>\n",
       "    </tr>\n",
       "    <tr>\n",
       "      <td>...</td>\n",
       "      <td>...</td>\n",
       "      <td>...</td>\n",
       "      <td>...</td>\n",
       "      <td>...</td>\n",
       "      <td>...</td>\n",
       "      <td>...</td>\n",
       "      <td>...</td>\n",
       "    </tr>\n",
       "    <tr>\n",
       "      <td>5371</td>\n",
       "      <td>5371</td>\n",
       "      <td>https://tabs.ultimate-guitar.com/tab/harry-bel...</td>\n",
       "      <td>Jamaica Farewell (ver 2)</td>\n",
       "      <td>World Music</td>\n",
       "      <td>1950s</td>\n",
       "      <td>NaN</td>\n",
       "      <td>NaN</td>\n",
       "    </tr>\n",
       "    <tr>\n",
       "      <td>5372</td>\n",
       "      <td>5372</td>\n",
       "      <td>https://tabs.ultimate-guitar.com/tab/harry-bel...</td>\n",
       "      <td>Man Smart Woman Smarter</td>\n",
       "      <td>World Music</td>\n",
       "      <td>1950s</td>\n",
       "      <td>NaN</td>\n",
       "      <td>NaN</td>\n",
       "    </tr>\n",
       "    <tr>\n",
       "      <td>5373</td>\n",
       "      <td>5373</td>\n",
       "      <td>https://tabs.ultimate-guitar.com/tab/harry-bel...</td>\n",
       "      <td>Mama Look-A Boo-Boo</td>\n",
       "      <td>World Music</td>\n",
       "      <td>1950s</td>\n",
       "      <td>['F#', 'Bb', 'F#', 'Bb', 'F#', 'B', 'C#', 'F#'...</td>\n",
       "      <td>c3ae271a-0eaf-4eed-b88d-e6fe8b590767</td>\n",
       "    </tr>\n",
       "    <tr>\n",
       "      <td>5374</td>\n",
       "      <td>5374</td>\n",
       "      <td>https://tabs.ultimate-guitar.com/tab/harry-bel...</td>\n",
       "      <td>Jamaica Farewell (ver 3)</td>\n",
       "      <td>World Music</td>\n",
       "      <td>1950s</td>\n",
       "      <td>['C', 'C/G', 'F', 'G', 'C', 'C/G', 'C', 'C/G',...</td>\n",
       "      <td>3658fce5-4e31-43a4-a84e-a18a39c22cda</td>\n",
       "    </tr>\n",
       "    <tr>\n",
       "      <td>5375</td>\n",
       "      <td>5375</td>\n",
       "      <td>https://tabs.ultimate-guitar.com/tab/pete-seeg...</td>\n",
       "      <td>The Water Is Wide</td>\n",
       "      <td>Classical</td>\n",
       "      <td>1950s</td>\n",
       "      <td>['D', 'D', 'G6', 'D', 'D', 'D', 'Bm', 'Bm7', '...</td>\n",
       "      <td>2a6ec449-1934-43ba-9f8f-25a19652e65e</td>\n",
       "    </tr>\n",
       "  </tbody>\n",
       "</table>\n",
       "<p>5376 rows × 7 columns</p>\n",
       "</div>"
      ],
      "text/plain": [
       "      index  ...                                  uuid\n",
       "0         0  ...  62d4ec07-9d59-4e00-a312-e98ce4f3b2fd\n",
       "1         1  ...  30af0a56-524d-49b7-ac65-be4caddbe097\n",
       "2         2  ...  672a1a12-3de2-4b68-bb17-55df130ce0e0\n",
       "3         3  ...  9edbfa0f-6d6d-44a4-b3d7-189d33010e15\n",
       "4         4  ...  eab426dd-9c57-4fad-b1b1-2b94601ff6ac\n",
       "...     ...  ...                                   ...\n",
       "5371   5371  ...                                   NaN\n",
       "5372   5372  ...                                   NaN\n",
       "5373   5373  ...  c3ae271a-0eaf-4eed-b88d-e6fe8b590767\n",
       "5374   5374  ...  3658fce5-4e31-43a4-a84e-a18a39c22cda\n",
       "5375   5375  ...  2a6ec449-1934-43ba-9f8f-25a19652e65e\n",
       "\n",
       "[5376 rows x 7 columns]"
      ]
     },
     "execution_count": 5,
     "metadata": {},
     "output_type": "execute_result"
    }
   ],
   "source": [
    "data.df.reset_index()"
   ]
  },
  {
   "cell_type": "markdown",
   "metadata": {},
   "source": [
    "Podríamos poner el ranking de la canción dentro de su género como una característica. Si aparece en varios géneros, qué hacemos. Yo me quedaría con el mejor"
   ]
  },
  {
   "cell_type": "markdown",
   "metadata": {},
   "source": [
    "Podría ser interesante comparar popularidad con complejidad armónica, riqueza armónica, etc. Y verlo según el género. A lo mejor en eln jazz es más popular cuando más riqueza arómica tenga y sin embargo en el pop es al contrario (tenríamos que verlo)"
   ]
  },
  {
   "cell_type": "code",
   "execution_count": null,
   "metadata": {},
   "outputs": [],
   "source": []
  }
 ],
 "metadata": {
  "kernelspec": {
   "display_name": "Python 3",
   "language": "python",
   "name": "python3"
  },
  "language_info": {
   "codemirror_mode": {
    "name": "ipython",
    "version": 3
   },
   "file_extension": ".py",
   "mimetype": "text/x-python",
   "name": "python",
   "nbconvert_exporter": "python",
   "pygments_lexer": "ipython3",
   "version": "3.7.4"
  },
  "toc": {
   "base_numbering": 1,
   "nav_menu": {},
   "number_sections": true,
   "sideBar": true,
   "skip_h1_title": false,
   "title_cell": "Table of Contents",
   "title_sidebar": "Contents",
   "toc_cell": false,
   "toc_position": {},
   "toc_section_display": true,
   "toc_window_display": false
  }
 },
 "nbformat": 4,
 "nbformat_minor": 2
}
