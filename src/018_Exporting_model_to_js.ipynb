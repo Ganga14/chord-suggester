{
 "cells": [
  {
   "cell_type": "markdown",
   "metadata": {},
   "source": [
    "Links:\n",
    "\n",
    "[NLP Keras model in browser with TensorFlow.js](https://towardsdatascience.com/nlp-keras-model-in-browser-with-tensorflow-js-f4d5035466a2)\n",
    "\n",
    "[Importing a Keras model into TensorFlow.js](https://www.tensorflow.org/js/tutorials/conversion/import_keras)\n",
    "\n",
    "[Port of music21 for javascript](https://github.com/cuthbertLab/music21j)\n",
    "\n",
    "[Tutorial: Let’s Make Music with JavaScript and Tone.js](https://medium.com/dev-red/tutorial-lets-make-music-with-javascript-and-tone-js-f6ac39d95b8c)\n",
    "\n",
    "[tfjs-converter](https://github.com/tensorflow/tfjs/tree/master/tfjs-converter)\n"
   ]
  },
  {
   "cell_type": "markdown",
   "metadata": {},
   "source": [
    "We have converted our model into a tfjs model using [these instructions](https://github.com/tensorflow/tfjs/tree/master/tfjs-converter).\n",
    "\n",
    "**Be careful** and use a virtual environment as indicated in the readme, because we need a version of `tensorflowjs` not compatible with my conda distrubution"
   ]
  },
  {
   "cell_type": "markdown",
   "metadata": {},
   "source": [
    "Now, lets convert the encoder dictionaries to a json"
   ]
  },
  {
   "cell_type": "code",
   "execution_count": 2,
   "metadata": {},
   "outputs": [],
   "source": [
    "from jl_encoding import Encoder\n",
    "from jl_dictionaries import Dictionaries"
   ]
  },
  {
   "cell_type": "code",
   "execution_count": 3,
   "metadata": {},
   "outputs": [
    {
     "name": "stdout",
     "output_type": "stream",
     "text": [
      "Category to number dictionary length: 804\n",
      "Number to category dictionary length: 804\n"
     ]
    }
   ],
   "source": [
    "encoder = Encoder(Dictionaries.get_all_possible_chords())"
   ]
  },
  {
   "cell_type": "code",
   "execution_count": 4,
   "metadata": {},
   "outputs": [],
   "source": [
    "import json"
   ]
  },
  {
   "cell_type": "code",
   "execution_count": 5,
   "metadata": {},
   "outputs": [],
   "source": [
    "with open('category_to_number.json', 'w') as outfile:\n",
    "    json.dump(encoder.category_to_number_dict, outfile)"
   ]
  },
  {
   "cell_type": "code",
   "execution_count": 6,
   "metadata": {},
   "outputs": [],
   "source": [
    "with open('number_to_category.json', 'w') as outfile:\n",
    "    json.dump(encoder.number_to_category_dict, outfile)"
   ]
  },
  {
   "cell_type": "code",
   "execution_count": 10,
   "metadata": {},
   "outputs": [],
   "source": [
    "from pychord_jl.constants import QUALITY_DICT\n",
    "from pychord_jl.constants.scales import NOTE_VAL_DICT, VAL_NOTE_DICT\n",
    "from jl_dictionaries import Dictionaries"
   ]
  },
  {
   "cell_type": "code",
   "execution_count": 11,
   "metadata": {},
   "outputs": [],
   "source": [
    "with open('quality_to_components.json', 'w') as outfile:\n",
    "    json.dump(QUALITY_DICT, outfile)"
   ]
  },
  {
   "cell_type": "code",
   "execution_count": 12,
   "metadata": {},
   "outputs": [],
   "source": [
    "with open('note_to_value.json', 'w') as outfile:\n",
    "    json.dump(NOTE_VAL_DICT, outfile)"
   ]
  },
  {
   "cell_type": "code",
   "execution_count": 13,
   "metadata": {},
   "outputs": [],
   "source": [
    "with open('value_to_note.json', 'w') as outfile:\n",
    "    json.dump(VAL_NOTE_DICT, outfile)"
   ]
  },
  {
   "cell_type": "code",
   "execution_count": 16,
   "metadata": {},
   "outputs": [],
   "source": [
    "with open('unique_qualities.json', 'w') as outfile:\n",
    "    json.dump(list(Dictionaries.reverse_qualities_dict.values()), outfile)"
   ]
  },
  {
   "cell_type": "code",
   "execution_count": 18,
   "metadata": {},
   "outputs": [
    {
     "name": "stdout",
     "output_type": "stream",
     "text": [
      "{\"Ab\": 8, \"A\": 9, \"A#\": 10, \"Bb\": 10, \"B\": 11, \"Cb\": 11, \"B#\": 0, \"C\": 0, \"C#\": 1, \"Db\": 1, \"D\": 2, \"D#\": 3, \"Eb\": 3, \"E\": 4, \"Fb\": 4, \"E#\": 5, \"F\": 5, \"F#\": 6, \"Gb\": 6, \"G\": 7, \"G#\": 8}"
     ]
    }
   ],
   "source": [
    "! cat note_to_value.json"
   ]
  },
  {
   "cell_type": "markdown",
   "metadata": {},
   "source": [
    "## Como convertir modelo "
   ]
  },
  {
   "cell_type": "markdown",
   "metadata": {},
   "source": []
  },
  {
   "cell_type": "markdown",
   "metadata": {},
   "source": [
    "tensorflowjs_converter \\\n",
    "    --input_format=keras \\\n",
    "    model.h5 \\\n",
    "    my_tfjs_model"
   ]
  },
  {
   "cell_type": "code",
   "execution_count": null,
   "metadata": {},
   "outputs": [],
   "source": []
  }
 ],
 "metadata": {
  "kernelspec": {
   "display_name": "Python 3",
   "language": "python",
   "name": "python3"
  },
  "language_info": {
   "codemirror_mode": {
    "name": "ipython",
    "version": 3
   },
   "file_extension": ".py",
   "mimetype": "text/x-python",
   "name": "python",
   "nbconvert_exporter": "python",
   "pygments_lexer": "ipython3",
   "version": "3.7.5"
  },
  "toc": {
   "base_numbering": 1,
   "nav_menu": {},
   "number_sections": true,
   "sideBar": true,
   "skip_h1_title": false,
   "title_cell": "Table of Contents",
   "title_sidebar": "Contents",
   "toc_cell": false,
   "toc_position": {},
   "toc_section_display": true,
   "toc_window_display": false
  }
 },
 "nbformat": 4,
 "nbformat_minor": 2
}
