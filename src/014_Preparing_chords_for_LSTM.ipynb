{
 "cells": [
  {
   "cell_type": "markdown",
   "metadata": {},
   "source": [
    "## Number of possible chords "
   ]
  },
  {
   "cell_type": "markdown",
   "metadata": {},
   "source": [
    "Let's see the number of possible chords"
   ]
  },
  {
   "cell_type": "markdown",
   "metadata": {},
   "source": [
    "**We have 12 possible roots**"
   ]
  },
  {
   "cell_type": "code",
   "execution_count": 1,
   "metadata": {},
   "outputs": [
    {
     "data": {
      "text/plain": [
       "[0, 1, 2, 3, 4, 5, 6, 7, 8, 9, 10, 11]"
      ]
     },
     "execution_count": 1,
     "metadata": {},
     "output_type": "execute_result"
    }
   ],
   "source": [
    "possible_notes = list(range(0,12))\n",
    "possible_notes"
   ]
  },
  {
   "cell_type": "markdown",
   "metadata": {},
   "source": [
    "We have the following qualities"
   ]
  },
  {
   "cell_type": "code",
   "execution_count": 2,
   "metadata": {},
   "outputs": [],
   "source": [
    "from pychord_jl.constants import QUALITY_DICT"
   ]
  },
  {
   "cell_type": "code",
   "execution_count": 3,
   "metadata": {},
   "outputs": [
    {
     "data": {
      "text/plain": [
       "OrderedDict([('3', (0, 4)),\n",
       "             ('5', (0, 7)),\n",
       "             ('-5', (0, 7)),\n",
       "             ('sus', (0, 7)),\n",
       "             ('', (0, 4, 7)),\n",
       "             ('maj', (0, 4, 7)),\n",
       "             ('M', (0, 4, 7)),\n",
       "             ('m', (0, 3, 7)),\n",
       "             ('min', (0, 3, 7)),\n",
       "             ('mi', (0, 3, 7)),\n",
       "             ('dim', (0, 3, 6)),\n",
       "             ('b5', (0, 3, 6)),\n",
       "             ('o', (0, 3, 6)),\n",
       "             ('aug', (0, 4, 8)),\n",
       "             ('(aug)', (0, 4, 8)),\n",
       "             ('+5', (0, 4, 8)),\n",
       "             ('+', (0, 4, 8)),\n",
       "             ('sus2', (0, 2, 7)),\n",
       "             ('(sus2)', (0, 2, 7)),\n",
       "             ('sus4', (0, 5, 7)),\n",
       "             ('(sus4)', (0, 5, 7)),\n",
       "             ('s4', (0, 5, 7)),\n",
       "             ('6', (0, 4, 7, 9)),\n",
       "             ('add6', (0, 4, 7, 9)),\n",
       "             ('7', (0, 4, 7, 10)),\n",
       "             ('(7)', (0, 4, 7, 10)),\n",
       "             ('(M7)', (0, 4, 7, 10)),\n",
       "             ('7-5', (0, 4, 6, 10)),\n",
       "             ('7_5', (0, 4, 6, 10)),\n",
       "             ('7b5', (0, 4, 6, 10)),\n",
       "             ('maj7b5', (0, 4, 6, 11)),\n",
       "             ('7+5', (0, 4, 8, 10)),\n",
       "             ('7+', (0, 4, 8, 10)),\n",
       "             ('7#5', (0, 4, 8, 10)),\n",
       "             ('7(#5)', (0, 4, 8, 10)),\n",
       "             ('6sus2', (0, 2, 7, 9)),\n",
       "             ('7sus2', (0, 2, 7, 10)),\n",
       "             ('maj7sus2', (0, 2, 7, 10)),\n",
       "             ('7sus4', (0, 5, 7, 10)),\n",
       "             ('7(sus)', (0, 5, 7, 10)),\n",
       "             ('sus7', (0, 5, 7, 10)),\n",
       "             ('7sus', (0, 5, 7, 10)),\n",
       "             ('m6', (0, 3, 7, 9)),\n",
       "             ('m7', (0, 3, 7, 10)),\n",
       "             ('m(7)', (0, 3, 7, 10)),\n",
       "             ('7m', (0, 3, 7, 10)),\n",
       "             ('AmMaj7', (0, 3, 7, 11)),\n",
       "             ('min7', (0, 3, 7, 10)),\n",
       "             ('dim7', (0, 3, 7, 10)),\n",
       "             ('o7', (0, 3, 7, 10)),\n",
       "             ('m7b5', (0, 3, 6, 10)),\n",
       "             ('m7-5', (0, 3, 6, 10)),\n",
       "             ('dim6', (0, 3, 6, 9)),\n",
       "             ('M7', (0, 4, 7, 11)),\n",
       "             ('7M', (0, 4, 7, 11)),\n",
       "             ('Maj7', (0, 4, 7, 11)),\n",
       "             ('maj7', (0, 4, 7, 11)),\n",
       "             ('ma7', (0, 4, 7, 11)),\n",
       "             ('M7+5', (0, 4, 8, 11)),\n",
       "             ('mM7', (0, 3, 7, 11)),\n",
       "             ('mmaj7', (0, 3, 7, 11)),\n",
       "             ('m(maj7)', (0, 3, 7, 11)),\n",
       "             ('add9', (0, 4, 7, 14)),\n",
       "             ('(add9)', (0, 4, 7, 14)),\n",
       "             ('madd9', (0, 3, 7, 14)),\n",
       "             ('2', (0, 4, 7, 14)),\n",
       "             ('add2', (0, 2, 4, 7)),\n",
       "             ('add4', (0, 4, 5, 7)),\n",
       "             ('add11', (0, 4, 7, 17)),\n",
       "             ('(add2)', (0, 2, 4, 7)),\n",
       "             ('(add4)', (0, 4, 5, 7)),\n",
       "             ('(add11)', (0, 4, 7, 17)),\n",
       "             ('4', (0, 4, 7, 17)),\n",
       "             ('sus4(add13)', (0, 5, 7, 20)),\n",
       "             ('6/9', (0, 4, 7, 9, 14)),\n",
       "             ('6_9', (0, 4, 7, 9, 14)),\n",
       "             ('6add11', (0, 4, 7, 9, 17)),\n",
       "             ('6add9', (0, 4, 7, 9, 14)),\n",
       "             ('m6add11', (0, 3, 7, 9, 17)),\n",
       "             ('add4add9', (0, 3, 5, 7, 14)),\n",
       "             ('9', (0, 4, 7, 10, 14)),\n",
       "             ('(9)', (0, 4, 7, 10, 14)),\n",
       "             ('m9', (0, 3, 7, 10, 14)),\n",
       "             ('M9', (0, 4, 7, 11, 14)),\n",
       "             ('maj9', (0, 4, 7, 11, 14)),\n",
       "             ('9sus4', (0, 5, 7, 10, 14)),\n",
       "             ('9sus', (0, 5, 7, 10, 14)),\n",
       "             ('7_6', (0, 4, 7, 9, 10)),\n",
       "             ('7-9', (0, 4, 7, 10, 13)),\n",
       "             ('7_9', (0, 4, 7, 10, 13)),\n",
       "             ('7b9', (0, 4, 7, 10, 13)),\n",
       "             ('7(b9)', (0, 4, 7, 10, 13)),\n",
       "             ('7+9', (0, 4, 7, 10, 15)),\n",
       "             ('7(#9)', (0, 4, 7, 10, 15)),\n",
       "             ('7#9', (0, 4, 7, 10, 15)),\n",
       "             ('9-5', (0, 4, 6, 10, 14)),\n",
       "             ('9b5', (0, 4, 6, 10, 14)),\n",
       "             ('9+5', (0, 4, 8, 10, 14)),\n",
       "             ('9#5', (0, 4, 8, 10, 14)),\n",
       "             ('7#9b5', (0, 4, 6, 10, 15)),\n",
       "             ('7#9#5', (0, 4, 8, 10, 15)),\n",
       "             ('7b9b5', (0, 4, 6, 10, 13)),\n",
       "             ('7b9#5', (0, 4, 8, 10, 13)),\n",
       "             ('11', (0, 7, 10, 14, 17)),\n",
       "             ('7+11', (0, 4, 7, 10, 18)),\n",
       "             ('maj7#11', (0, 4, 7, 10, 18)),\n",
       "             ('7#11', (0, 4, 7, 10, 18)),\n",
       "             ('m7add11', (0, 3, 7, 10, 18)),\n",
       "             ('maj11', (0, 4, 7, 11, 17)),\n",
       "             ('m11', (0, 3, 7, 11, 17)),\n",
       "             ('7b9#9', (0, 4, 7, 10, 13, 15)),\n",
       "             ('7b9#11', (0, 4, 7, 10, 13, 18)),\n",
       "             ('7#9#11', (0, 4, 7, 10, 15, 18)),\n",
       "             ('7-13', (0, 4, 7, 10, 20)),\n",
       "             ('7add13', (0, 4, 7, 10, 20)),\n",
       "             ('7b13', (0, 4, 7, 10, 20)),\n",
       "             ('m7add4', (0, 4, 5, 7, 10)),\n",
       "             ('maj7add6', (0, 4, 7, 9, 10)),\n",
       "             ('9+11', (0, 4, 7, 10, 14, 18)),\n",
       "             ('m9+11', (0, 3, 7, 10, 14, 18)),\n",
       "             ('9#11', (0, 4, 7, 10, 14, 18)),\n",
       "             ('13', (0, 4, 7, 10, 14, 21)),\n",
       "             ('maj13', (0, 4, 7, 11, 14, 21)),\n",
       "             ('add13', (0, 4, 7, 11, 14, 21)),\n",
       "             ('madd13', (0, 3, 7, 10, 14, 21)),\n",
       "             ('13sus4', (0, 5, 7, 10, 14, 21)),\n",
       "             ('m13', (0, 3, 7, 10, 14, 21)),\n",
       "             ('13-9', (0, 4, 7, 10, 13, 21)),\n",
       "             ('13b9', (0, 4, 7, 10, 13, 21)),\n",
       "             ('13+9', (0, 4, 7, 10, 15, 21)),\n",
       "             ('13#9', (0, 4, 7, 10, 15, 21)),\n",
       "             ('13+11', (0, 4, 7, 10, 18, 21)),\n",
       "             ('m13+11', (0, 3, 7, 10, 18, 21)),\n",
       "             ('13#11', (0, 4, 7, 10, 18, 21)),\n",
       "             ('madd11', (0, 3, 7, 10, 14, 17))])"
      ]
     },
     "execution_count": 3,
     "metadata": {},
     "output_type": "execute_result"
    }
   ],
   "source": [
    "QUALITY_DICT"
   ]
  },
  {
   "cell_type": "code",
   "execution_count": 4,
   "metadata": {},
   "outputs": [
    {
     "data": {
      "text/plain": [
       "135"
      ]
     },
     "execution_count": 4,
     "metadata": {},
     "output_type": "execute_result"
    }
   ],
   "source": [
    "len(QUALITY_DICT.keys())"
   ]
  },
  {
   "cell_type": "code",
   "execution_count": 5,
   "metadata": {},
   "outputs": [],
   "source": [
    "unique_qualities = {}\n",
    "for key,value in QUALITY_DICT.items():\n",
    "    if value not in unique_qualities.values():\n",
    "        unique_qualities[key] = value    "
   ]
  },
  {
   "cell_type": "code",
   "execution_count": 6,
   "metadata": {},
   "outputs": [
    {
     "data": {
      "text/plain": [
       "67"
      ]
     },
     "execution_count": 6,
     "metadata": {},
     "output_type": "execute_result"
    }
   ],
   "source": [
    "len(unique_qualities)"
   ]
  },
  {
   "cell_type": "markdown",
   "metadata": {},
   "source": [
    "**We have 67 possible qualities**"
   ]
  },
  {
   "cell_type": "markdown",
   "metadata": {},
   "source": [
    "**We have 12 possible slashes**"
   ]
  },
  {
   "cell_type": "code",
   "execution_count": 7,
   "metadata": {},
   "outputs": [
    {
     "data": {
      "text/plain": [
       "9648"
      ]
     },
     "execution_count": 7,
     "metadata": {},
     "output_type": "execute_result"
    }
   ],
   "source": [
    "67 * 12 * 12"
   ]
  },
  {
   "cell_type": "markdown",
   "metadata": {},
   "source": [
    "We are not going no consider slashes"
   ]
  },
  {
   "cell_type": "code",
   "execution_count": 8,
   "metadata": {},
   "outputs": [
    {
     "data": {
      "text/plain": [
       "804"
      ]
     },
     "execution_count": 8,
     "metadata": {},
     "output_type": "execute_result"
    }
   ],
   "source": [
    "67 * 12"
   ]
  },
  {
   "cell_type": "markdown",
   "metadata": {},
   "source": [
    "## Feature encoding "
   ]
  },
  {
   "cell_type": "markdown",
   "metadata": {},
   "source": [
    "Embedding vs One Shot Encoding vs Manual."
   ]
  },
  {
   "cell_type": "markdown",
   "metadata": {},
   "source": [
    "A chord can contain notes. There are 12 possible notes. So we are going to encode it as a vector of 12 positions (0 if the note does not exist, 1 if the note does exists)"
   ]
  },
  {
   "cell_type": "code",
   "execution_count": 9,
   "metadata": {},
   "outputs": [],
   "source": [
    "from music21.stream import Stream\n",
    "from music21.note import Note\n",
    "from music21.meter import TimeSignature\n",
    "from music21.clef import TrebleClef\n",
    "from music21.text import TextBox\n",
    "from music21.chord import Chord\n",
    "from music21.interval import Interval\n",
    "\n",
    "from jl_chord_parser import ChordParser"
   ]
  },
  {
   "cell_type": "code",
   "execution_count": 28,
   "metadata": {
    "cell_style": "center"
   },
   "outputs": [],
   "source": [
    "def clone_chord(chord):\n",
    "    return Chord(chord.notes)\n",
    "\n",
    "def to_chord(components):\n",
    "    return Chord(notes=components, type='whole')\n",
    "\n",
    "def show_and_listen(chord_str):\n",
    "    parser = ChordParser()\n",
    "    extended_chord = parser.parse(chord_str)\n",
    "    chord = to_chord(extended_chord.components)\n",
    "    stream = Stream()\n",
    "    stream.append(chord)\n",
    "    stream.append(clone_chord(chord)) # Due to a Music21 issue\n",
    "    print(f'Note vector: {extended_chord.note_vector}')\n",
    "    print(chord)\n",
    "    chord.show()\n",
    "    stream.show('midi')"
   ]
  },
  {
   "cell_type": "code",
   "execution_count": 29,
   "metadata": {},
   "outputs": [
    {
     "name": "stdout",
     "output_type": "stream",
     "text": [
      "Note vector: [1, 0, 0, 0, 1, 0, 0, 1, 0, 0, 0, 0]\n",
      "<music21.chord.Chord C E G>\n"
     ]
    },
    {
     "data": {
      "image/png": "[encoded data removed]",
      "text/plain": [
       "<IPython.core.display.Image object>"
      ]
     },
     "metadata": {
      "image/png": {
       "height": 56,
       "width": 184
      }
     },
     "output_type": "display_data"
    },
    {
     "data": {
      "text/html": [
       "\n",
       "                <div id='midiPlayerDiv446'></div>\n",
       "                <link rel=\"stylesheet\" href=\"//cuthbertLab.github.io/music21j/css/m21.css\"\n",
       "                    type=\"text/css\" />\n",
       "                <script>\n",
       "                require.config({\n",
       "                    paths: {'music21': '//cuthbertLab.github.io/music21j/src/music21'}\n",
       "                });\n",
       "                require(['music21'], function() {\n",
       "                               mp = new music21.miditools.MidiPlayer();\n",
       "                               mp.addPlayer('#midiPlayerDiv446');\n",
       "                               mp.base64Load('data:audio/midi;base64,TVRoZAAAAAYAAQABBABNVHJrAAAAPwD/AwAA4ABAAJA8WgCQQFoAkENaoACAPAAAgEAAAIBDAACQPFoAkEBaAJBDWqAAgDwAAIBAAACAQwCIAP8vAA==');\n",
       "                        });\n",
       "                </script>"
      ],
      "text/plain": [
       "<IPython.core.display.HTML object>"
      ]
     },
     "metadata": {},
     "output_type": "display_data"
    }
   ],
   "source": [
    "show_and_listen('C')"
   ]
  },
  {
   "cell_type": "code",
   "execution_count": 30,
   "metadata": {},
   "outputs": [
    {
     "name": "stdout",
     "output_type": "stream",
     "text": [
      "Note vector: [1, 0, 0, 0, 0, 0, 0, 1, 0, 0, 0, 0]\n",
      "<music21.chord.Chord C G>\n"
     ]
    },
    {
     "data": {
      "image/png": "[encoded data removed]",
      "text/plain": [
       "<IPython.core.display.Image object>"
      ]
     },
     "metadata": {
      "image/png": {
       "height": 56,
       "width": 171
      }
     },
     "output_type": "display_data"
    },
    {
     "data": {
      "text/html": [
       "\n",
       "                <div id='midiPlayerDiv511'></div>\n",
       "                <link rel=\"stylesheet\" href=\"//cuthbertLab.github.io/music21j/css/m21.css\"\n",
       "                    type=\"text/css\" />\n",
       "                <script>\n",
       "                require.config({\n",
       "                    paths: {'music21': '//cuthbertLab.github.io/music21j/src/music21'}\n",
       "                });\n",
       "                require(['music21'], function() {\n",
       "                               mp = new music21.miditools.MidiPlayer();\n",
       "                               mp.addPlayer('#midiPlayerDiv511');\n",
       "                               mp.base64Load('data:audio/midi;base64,TVRoZAAAAAYAAQABBABNVHJrAAAALwD/AwAA4ABAAJA8WgCQQ1qgAIA8AACAQwAAkDxaAJBDWqAAgDwAAIBDAIgA/y8A');\n",
       "                        });\n",
       "                </script>"
      ],
      "text/plain": [
       "<IPython.core.display.HTML object>"
      ]
     },
     "metadata": {},
     "output_type": "display_data"
    }
   ],
   "source": [
    "show_and_listen('C5')"
   ]
  },
  {
   "cell_type": "code",
   "execution_count": 31,
   "metadata": {},
   "outputs": [
    {
     "name": "stdout",
     "output_type": "stream",
     "text": [
      "Note vector: [1, 0, 0, 1, 0, 0, 1, 0, 0, 0, 0, 0]\n",
      "<music21.chord.Chord C E- G->\n"
     ]
    },
    {
     "data": {
      "image/png": "[encoded data removed]",
      "text/plain": [
       "<IPython.core.display.Image object>"
      ]
     },
     "metadata": {
      "image/png": {
       "height": 56,
       "width": 189
      }
     },
     "output_type": "display_data"
    },
    {
     "data": {
      "text/html": [
       "\n",
       "                <div id='midiPlayerDiv576'></div>\n",
       "                <link rel=\"stylesheet\" href=\"//cuthbertLab.github.io/music21j/css/m21.css\"\n",
       "                    type=\"text/css\" />\n",
       "                <script>\n",
       "                require.config({\n",
       "                    paths: {'music21': '//cuthbertLab.github.io/music21j/src/music21'}\n",
       "                });\n",
       "                require(['music21'], function() {\n",
       "                               mp = new music21.miditools.MidiPlayer();\n",
       "                               mp.addPlayer('#midiPlayerDiv576');\n",
       "                               mp.base64Load('data:audio/midi;base64,TVRoZAAAAAYAAQABBABNVHJrAAAAPwD/AwAA4ABAAJA8WgCQP1oAkEJaoACAPAAAgD8AAIBCAACQPFoAkD9aAJBCWqAAgDwAAIA/AACAQgCIAP8vAA==');\n",
       "                        });\n",
       "                </script>"
      ],
      "text/plain": [
       "<IPython.core.display.HTML object>"
      ]
     },
     "metadata": {},
     "output_type": "display_data"
    }
   ],
   "source": [
    "show_and_listen('Co')"
   ]
  },
  {
   "cell_type": "code",
   "execution_count": 32,
   "metadata": {},
   "outputs": [
    {
     "name": "stdout",
     "output_type": "stream",
     "text": [
      "Note vector: [1, 0, 0, 0, 1, 0, 0, 1, 0, 1, 0, 0]\n",
      "<music21.chord.Chord A C E G>\n"
     ]
    },
    {
     "data": {
      "image/png": "[encoded data removed]",
      "text/plain": [
       "<IPython.core.display.Image object>"
      ]
     },
     "metadata": {
      "image/png": {
       "height": 56,
       "width": 227
      }
     },
     "output_type": "display_data"
    },
    {
     "data": {
      "text/html": [
       "\n",
       "                <div id='midiPlayerDiv641'></div>\n",
       "                <link rel=\"stylesheet\" href=\"//cuthbertLab.github.io/music21j/css/m21.css\"\n",
       "                    type=\"text/css\" />\n",
       "                <script>\n",
       "                require.config({\n",
       "                    paths: {'music21': '//cuthbertLab.github.io/music21j/src/music21'}\n",
       "                });\n",
       "                require(['music21'], function() {\n",
       "                               mp = new music21.miditools.MidiPlayer();\n",
       "                               mp.addPlayer('#midiPlayerDiv641');\n",
       "                               mp.base64Load('data:audio/midi;base64,TVRoZAAAAAYAAQABBABNVHJrAAAATwD/AwAA4ABAAJBFWgCQPFoAkEBaAJBDWqAAgEUAAIA8AACAQAAAgEMAAJBFWgCQPFoAkEBaAJBDWqAAgEUAAIA8AACAQAAAgEMAiAD/LwA=');\n",
       "                        });\n",
       "                </script>"
      ],
      "text/plain": [
       "<IPython.core.display.HTML object>"
      ]
     },
     "metadata": {},
     "output_type": "display_data"
    }
   ],
   "source": [
    "show_and_listen('Am7')"
   ]
  },
  {
   "cell_type": "code",
   "execution_count": null,
   "metadata": {},
   "outputs": [],
   "source": []
  }
 ],
 "metadata": {
  "kernelspec": {
   "display_name": "Python 3",
   "language": "python",
   "name": "python3"
  },
  "language_info": {
   "codemirror_mode": {
    "name": "ipython",
    "version": 3
   },
   "file_extension": ".py",
   "mimetype": "text/x-python",
   "name": "python",
   "nbconvert_exporter": "python",
   "pygments_lexer": "ipython3",
   "version": "3.7.4"
  },
  "toc": {
   "base_numbering": 1,
   "nav_menu": {},
   "number_sections": true,
   "sideBar": true,
   "skip_h1_title": false,
   "title_cell": "Table of Contents",
   "title_sidebar": "Contents",
   "toc_cell": false,
   "toc_position": {},
   "toc_section_display": true,
   "toc_window_display": false
  }
 },
 "nbformat": 4,
 "nbformat_minor": 2
}
